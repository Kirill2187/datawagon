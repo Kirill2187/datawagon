{
 "cells": [
  {
   "cell_type": "code",
   "execution_count": 297,
   "id": "initial_id",
   "metadata": {
    "ExecuteTime": {
     "end_time": "2023-11-11T00:34:55.710147820Z",
     "start_time": "2023-11-11T00:34:55.661644614Z"
    },
    "collapsed": true
   },
   "outputs": [],
   "source": [
    "import pandas as pd\n",
    "import numpy as np\n",
    "import matplotlib.pyplot as plt\n",
    "import seaborn as sns\n",
    "import os\n",
    "from tqdm.notebook import tqdm"
   ]
  },
  {
   "cell_type": "code",
   "execution_count": 298,
   "id": "adde4964e4995e02",
   "metadata": {
    "ExecuteTime": {
     "end_time": "2023-11-11T00:34:55.718260402Z",
     "start_time": "2023-11-11T00:34:55.664898765Z"
    },
    "collapsed": false
   },
   "outputs": [],
   "source": [
    "path_train = r\"../train/\""
   ]
  },
  {
   "cell_type": "code",
   "execution_count": 318,
   "id": "7aceb6de95aab3c6",
   "metadata": {
    "ExecuteTime": {
     "end_time": "2023-11-11T00:35:00.019000988Z",
     "start_time": "2023-11-11T00:34:55.665724631Z"
    },
    "collapsed": false
   },
   "outputs": [],
   "source": [
    "dislok = pd.read_parquet(path_train + '/dislok_wagons.parquet').convert_dtypes()\n",
    "wag_prob = pd.read_parquet(path_train + '/wagons_probeg_ownersip.parquet').convert_dtypes()\n",
    "wag_param = pd.read_parquet(path_train + '/wag_params.parquet').convert_dtypes()\n",
    "\n",
    "dislok.fillna(pd.NA, inplace=True)"
   ]
  },
  {
   "cell_type": "code",
   "execution_count": 300,
   "id": "19423f3e",
   "metadata": {},
   "outputs": [
    {
     "data": {
      "text/plain": [
       "(6250933, 16)"
      ]
     },
     "execution_count": 300,
     "metadata": {},
     "output_type": "execute_result"
    }
   ],
   "source": [
    "dislok.shape"
   ]
  },
  {
   "cell_type": "code",
   "execution_count": 301,
   "id": "fe67d357ae99b4cf",
   "metadata": {
    "ExecuteTime": {
     "end_time": "2023-11-11T00:35:00.115059733Z",
     "start_time": "2023-11-11T00:35:00.020754715Z"
    },
    "collapsed": false
   },
   "outputs": [
    {
     "data": {
      "text/html": [
       "<div>\n",
       "<style scoped>\n",
       "    .dataframe tbody tr th:only-of-type {\n",
       "        vertical-align: middle;\n",
       "    }\n",
       "\n",
       "    .dataframe tbody tr th {\n",
       "        vertical-align: top;\n",
       "    }\n",
       "\n",
       "    .dataframe thead th {\n",
       "        text-align: right;\n",
       "    }\n",
       "</style>\n",
       "<table border=\"1\" class=\"dataframe\">\n",
       "  <thead>\n",
       "    <tr style=\"text-align: right;\">\n",
       "      <th></th>\n",
       "      <th>wagnum</th>\n",
       "      <th>month</th>\n",
       "      <th>target_month</th>\n",
       "      <th>target_day</th>\n",
       "    </tr>\n",
       "  </thead>\n",
       "  <tbody>\n",
       "    <tr>\n",
       "      <th>15320</th>\n",
       "      <td>33553</td>\n",
       "      <td>2023-01-01</td>\n",
       "      <td>0</td>\n",
       "      <td>0</td>\n",
       "    </tr>\n",
       "    <tr>\n",
       "      <th>141273</th>\n",
       "      <td>22909</td>\n",
       "      <td>2022-11-01</td>\n",
       "      <td>0</td>\n",
       "      <td>0</td>\n",
       "    </tr>\n",
       "    <tr>\n",
       "      <th>155111</th>\n",
       "      <td>20532</td>\n",
       "      <td>2022-11-01</td>\n",
       "      <td>0</td>\n",
       "      <td>0</td>\n",
       "    </tr>\n",
       "    <tr>\n",
       "      <th>87399</th>\n",
       "      <td>24036</td>\n",
       "      <td>2022-09-01</td>\n",
       "      <td>0</td>\n",
       "      <td>0</td>\n",
       "    </tr>\n",
       "    <tr>\n",
       "      <th>174785</th>\n",
       "      <td>20755</td>\n",
       "      <td>2022-12-01</td>\n",
       "      <td>0</td>\n",
       "      <td>0</td>\n",
       "    </tr>\n",
       "  </tbody>\n",
       "</table>\n",
       "</div>"
      ],
      "text/plain": [
       "        wagnum      month  target_month  target_day\n",
       "15320    33553 2023-01-01             0           0\n",
       "141273   22909 2022-11-01             0           0\n",
       "155111   20532 2022-11-01             0           0\n",
       "87399    24036 2022-09-01             0           0\n",
       "174785   20755 2022-12-01             0           0"
      ]
     },
     "execution_count": 301,
     "metadata": {},
     "output_type": "execute_result"
    }
   ],
   "source": [
    "target_df = pd.read_csv(path_train +'/target/y_train.csv').convert_dtypes()\n",
    "target_df['month'] = pd.to_datetime(target_df['month'])\n",
    "target_df.sample(5)"
   ]
  },
  {
   "cell_type": "code",
   "execution_count": 302,
   "id": "cf6f140435731fb2",
   "metadata": {
    "ExecuteTime": {
     "end_time": "2023-11-11T00:35:00.117192682Z",
     "start_time": "2023-11-11T00:35:00.085287540Z"
    },
    "collapsed": false
   },
   "outputs": [
    {
     "data": {
      "text/plain": [
       "0.0510220600138335"
      ]
     },
     "execution_count": 302,
     "metadata": {},
     "output_type": "execute_result"
    }
   ],
   "source": [
    "target_df.target_month.mean()"
   ]
  },
  {
   "cell_type": "markdown",
   "id": "b9d76297079861fa",
   "metadata": {
    "collapsed": false
   },
   "source": [
    "### Дислокация вагонов - сбор данных"
   ]
  },
  {
   "cell_type": "code",
   "execution_count": 303,
   "id": "59bdd3736ffca595",
   "metadata": {
    "ExecuteTime": {
     "end_time": "2023-11-11T00:35:00.153243593Z",
     "start_time": "2023-11-11T00:35:00.099012352Z"
    },
    "collapsed": false
   },
   "outputs": [
    {
     "data": {
      "text/plain": [
       "Index(['plan_date', 'wagnum', 'date_kap', 'date_dep', 'kod_vrab',\n",
       "       'date_pl_rem', 'id_road_disl', 'st_id_dest', 'id_road_dest',\n",
       "       'st_id_send', 'id_road_send', 'ost_prob', 'isload', 'fr_id',\n",
       "       'last_fr_id', 'distance'],\n",
       "      dtype='object')"
      ]
     },
     "execution_count": 303,
     "metadata": {},
     "output_type": "execute_result"
    }
   ],
   "source": [
    "dislok.columns"
   ]
  },
  {
   "cell_type": "code",
   "execution_count": 304,
   "id": "a98ef33de5a64d63",
   "metadata": {
    "ExecuteTime": {
     "end_time": "2023-11-11T00:35:00.463270091Z",
     "start_time": "2023-11-11T00:35:00.186374487Z"
    },
    "collapsed": false
   },
   "outputs": [
    {
     "data": {
      "text/plain": [
       "1378"
      ]
     },
     "execution_count": 304,
     "metadata": {},
     "output_type": "execute_result"
    }
   ],
   "source": [
    "import gc\n",
    "gc.collect()"
   ]
  },
  {
   "cell_type": "code",
   "execution_count": 305,
   "id": "b64af81c4a013c8d",
   "metadata": {
    "ExecuteTime": {
     "end_time": "2023-11-11T00:35:03.229348251Z",
     "start_time": "2023-11-11T00:35:00.201131080Z"
    },
    "collapsed": false
   },
   "outputs": [],
   "source": [
    "dislok['days_to_pl_rem'] = (dislok['date_pl_rem'] - dislok['plan_date']).dt.days\n",
    "dislok['another_road'] = dislok['id_road_dest'] != dislok['id_road_send']\n",
    "dislok['last_rem_date'] = dislok[['date_kap', 'date_dep']].max(axis=1)\n",
    "dislok['days_from_last_rem'] = (dislok['plan_date'] - dislok['last_rem_date']).dt.days\n",
    "dislok = dislok.convert_dtypes()"
   ]
  },
  {
   "cell_type": "code",
   "execution_count": 306,
   "id": "3bd3b5d36ac660bc",
   "metadata": {
    "ExecuteTime": {
     "end_time": "2023-11-11T00:35:44.890752825Z",
     "start_time": "2023-11-11T00:35:03.224465333Z"
    },
    "collapsed": false
   },
   "outputs": [],
   "source": [
    "dislok.sort_values(by='plan_date', inplace=True)"
   ]
  },
  {
   "cell_type": "code",
   "execution_count": 307,
   "id": "ee0485e5",
   "metadata": {},
   "outputs": [],
   "source": [
    "to_fill = ['ost_prob']\n",
    "\n",
    "dislok[to_fill] = dislok.groupby('wagnum')[to_fill].transform(lambda x: x.fillna(method='ffill'))\n",
    "dislok[to_fill] = dislok.groupby('wagnum')[to_fill].transform(lambda x: x.fillna(0))"
   ]
  },
  {
   "cell_type": "code",
   "execution_count": 308,
   "id": "8587e7c3",
   "metadata": {},
   "outputs": [
    {
     "name": "stdout",
     "output_type": "stream",
     "text": [
      "<class 'pandas.core.frame.DataFrame'>\n",
      "Index: 6250933 entries, 0 to 1052924\n",
      "Data columns (total 20 columns):\n",
      " #   Column              Dtype         \n",
      "---  ------              -----         \n",
      " 0   plan_date           datetime64[us]\n",
      " 1   wagnum              Int64         \n",
      " 2   date_kap            datetime64[us]\n",
      " 3   date_dep            datetime64[us]\n",
      " 4   kod_vrab            Int64         \n",
      " 5   date_pl_rem         datetime64[us]\n",
      " 6   id_road_disl        Int64         \n",
      " 7   st_id_dest          Int64         \n",
      " 8   id_road_dest        Int64         \n",
      " 9   st_id_send          Int64         \n",
      " 10  id_road_send        Int64         \n",
      " 11  ost_prob            Int64         \n",
      " 12  isload              Int64         \n",
      " 13  fr_id               Int64         \n",
      " 14  last_fr_id          Int64         \n",
      " 15  distance            Int64         \n",
      " 16  days_to_pl_rem      Int64         \n",
      " 17  another_road        boolean       \n",
      " 18  last_rem_date       datetime64[us]\n",
      " 19  days_from_last_rem  Int64         \n",
      "dtypes: Int64(14), boolean(1), datetime64[us](5)\n",
      "memory usage: 1.0 GB\n"
     ]
    }
   ],
   "source": [
    "dislok.info()"
   ]
  },
  {
   "cell_type": "code",
   "execution_count": 309,
   "id": "c6295127",
   "metadata": {},
   "outputs": [
    {
     "data": {
      "application/vnd.jupyter.widget-view+json": {
       "model_id": "68b74a94685b4fe08ade980aea0d49c4",
       "version_major": 2,
       "version_minor": 0
      },
      "text/plain": [
       "  0%|          | 0/33977 [00:00<?, ?it/s]"
      ]
     },
     "metadata": {},
     "output_type": "display_data"
    }
   ],
   "source": [
    "wagnum_subtables = {wagnum: table for wagnum, table in tqdm(dislok.groupby('wagnum'))}"
   ]
  },
  {
   "cell_type": "code",
   "execution_count": 310,
   "id": "4de0c6c9f39114f8",
   "metadata": {
    "ExecuteTime": {
     "end_time": "2023-11-11T00:45:15.483806443Z",
     "start_time": "2023-11-11T00:45:11.570902399Z"
    },
    "collapsed": false
   },
   "outputs": [
    {
     "data": {
      "application/vnd.jupyter.widget-view+json": {
       "model_id": "ebf8024eec7d46d5af63289ef41e67bc",
       "version_major": 2,
       "version_minor": 0
      },
      "text/plain": [
       "  0%|          | 0/33977 [00:00<?, ?it/s]"
      ]
     },
     "metadata": {},
     "output_type": "display_data"
    },
    {
     "data": {
      "application/vnd.jupyter.widget-view+json": {
       "model_id": "b329daf72ff84c42babdd43774e122dc",
       "version_major": 2,
       "version_minor": 0
      },
      "text/plain": [
       "  0%|          | 0/33977 [00:00<?, ?it/s]"
      ]
     },
     "metadata": {},
     "output_type": "display_data"
    }
   ],
   "source": [
    "from itertools import product\n",
    "\n",
    "intervals = [pd.DateOffset(days=10), pd.DateOffset(days=30), pd.DateOffset(days=90)]\n",
    "functions = {\"isload\": ['mean'], \"ost_prob\": ['min', 'max']}\n",
    "take_last_cols = ['date_kap', 'date_dep', 'kod_vrab', 'date_pl_rem', 'days_to_pl_rem', 'last_rem_date', 'days_from_last_rem', 'ost_prob']\n",
    "rolling_cols = set()\n",
    "\n",
    "\n",
    "for wagnum, table in tqdm(wagnum_subtables.items()):\n",
    "    for interval in intervals:\n",
    "        for col, func_list in functions.items():\n",
    "            for func in func_list:\n",
    "                table[f\"{interval.days}d_{col}_{func}\"] = getattr(table[col].rolling(interval.days), func)(engine='numba')\n",
    "                rolling_cols.add(f\"{interval.days}d_{col}_{func}\")\n",
    "\n",
    "for wagnum, table in tqdm(wagnum_subtables.items()):\n",
    "    table['10d_ost_prob_sum'] = table['10d_ost_prob_max'] - table['10d_ost_prob_min']\n",
    "    table['30d_ost_prob_sum'] = table['30d_ost_prob_max'] - table['30d_ost_prob_min']\n",
    "    table['90d_ost_prob_sum'] = table['90d_ost_prob_max'] - table['90d_ost_prob_min']\n",
    "    table['10d_prob_mean'] = table['10d_ost_prob_sum'] / 10\n",
    "    table['30d_prob_mean'] = table['30d_ost_prob_sum'] / 30\n",
    "    table['90d_prob_mean'] = table['90d_ost_prob_sum'] / 90\n",
    "\n",
    "for newcol in ['10d_prob_mean', '30d_prob_mean', '90d_prob_mean', '10d_ost_prob_sum', '30d_ost_prob_sum', '90d_ost_prob_sum']:\n",
    "    rolling_cols.add(newcol)\n",
    "\n",
    "columns_to_add = list(rolling_cols) + take_last_cols"
   ]
  },
  {
   "cell_type": "code",
   "execution_count": 312,
   "id": "30292214",
   "metadata": {},
   "outputs": [
    {
     "data": {
      "text/html": [
       "<div>\n",
       "<style scoped>\n",
       "    .dataframe tbody tr th:only-of-type {\n",
       "        vertical-align: middle;\n",
       "    }\n",
       "\n",
       "    .dataframe tbody tr th {\n",
       "        vertical-align: top;\n",
       "    }\n",
       "\n",
       "    .dataframe thead th {\n",
       "        text-align: right;\n",
       "    }\n",
       "</style>\n",
       "<table border=\"1\" class=\"dataframe\">\n",
       "  <thead>\n",
       "    <tr style=\"text-align: right;\">\n",
       "      <th></th>\n",
       "      <th>plan_date</th>\n",
       "      <th>30d_ost_prob_min</th>\n",
       "      <th>30d_ost_prob_max</th>\n",
       "      <th>30d_prob_mean</th>\n",
       "      <th>30d_ost_prob_sum</th>\n",
       "    </tr>\n",
       "  </thead>\n",
       "  <tbody>\n",
       "    <tr>\n",
       "      <th>67216</th>\n",
       "      <td>2022-09-17</td>\n",
       "      <td>70682.0</td>\n",
       "      <td>80036.0</td>\n",
       "      <td>311.800000</td>\n",
       "      <td>9354.0</td>\n",
       "    </tr>\n",
       "    <tr>\n",
       "      <th>525660</th>\n",
       "      <td>2022-11-01</td>\n",
       "      <td>68881.0</td>\n",
       "      <td>68931.0</td>\n",
       "      <td>1.666667</td>\n",
       "      <td>50.0</td>\n",
       "    </tr>\n",
       "    <tr>\n",
       "      <th>414373</th>\n",
       "      <td>2022-10-24</td>\n",
       "      <td>68931.0</td>\n",
       "      <td>70495.0</td>\n",
       "      <td>52.133333</td>\n",
       "      <td>1564.0</td>\n",
       "    </tr>\n",
       "    <tr>\n",
       "      <th>414379</th>\n",
       "      <td>2022-10-30</td>\n",
       "      <td>68881.0</td>\n",
       "      <td>69876.0</td>\n",
       "      <td>33.166667</td>\n",
       "      <td>995.0</td>\n",
       "    </tr>\n",
       "    <tr>\n",
       "      <th>414363</th>\n",
       "      <td>2022-10-14</td>\n",
       "      <td>68931.0</td>\n",
       "      <td>70682.0</td>\n",
       "      <td>58.366667</td>\n",
       "      <td>1751.0</td>\n",
       "    </tr>\n",
       "    <tr>\n",
       "      <th>525664</th>\n",
       "      <td>2022-11-05</td>\n",
       "      <td>68881.0</td>\n",
       "      <td>68931.0</td>\n",
       "      <td>1.666667</td>\n",
       "      <td>50.0</td>\n",
       "    </tr>\n",
       "    <tr>\n",
       "      <th>459643</th>\n",
       "      <td>2022-12-31</td>\n",
       "      <td>57742.0</td>\n",
       "      <td>63071.0</td>\n",
       "      <td>177.633333</td>\n",
       "      <td>5329.0</td>\n",
       "    </tr>\n",
       "    <tr>\n",
       "      <th>67205</th>\n",
       "      <td>2022-09-06</td>\n",
       "      <td>72966.0</td>\n",
       "      <td>80930.0</td>\n",
       "      <td>265.466667</td>\n",
       "      <td>7964.0</td>\n",
       "    </tr>\n",
       "    <tr>\n",
       "      <th>525674</th>\n",
       "      <td>2022-11-15</td>\n",
       "      <td>65204.0</td>\n",
       "      <td>68931.0</td>\n",
       "      <td>124.233333</td>\n",
       "      <td>3727.0</td>\n",
       "    </tr>\n",
       "    <tr>\n",
       "      <th>67228</th>\n",
       "      <td>2022-09-29</td>\n",
       "      <td>69876.0</td>\n",
       "      <td>75322.0</td>\n",
       "      <td>181.533333</td>\n",
       "      <td>5446.0</td>\n",
       "    </tr>\n",
       "  </tbody>\n",
       "</table>\n",
       "</div>"
      ],
      "text/plain": [
       "        plan_date  30d_ost_prob_min  30d_ost_prob_max  30d_prob_mean  \\\n",
       "67216  2022-09-17           70682.0           80036.0     311.800000   \n",
       "525660 2022-11-01           68881.0           68931.0       1.666667   \n",
       "414373 2022-10-24           68931.0           70495.0      52.133333   \n",
       "414379 2022-10-30           68881.0           69876.0      33.166667   \n",
       "414363 2022-10-14           68931.0           70682.0      58.366667   \n",
       "525664 2022-11-05           68881.0           68931.0       1.666667   \n",
       "459643 2022-12-31           57742.0           63071.0     177.633333   \n",
       "67205  2022-09-06           72966.0           80930.0     265.466667   \n",
       "525674 2022-11-15           65204.0           68931.0     124.233333   \n",
       "67228  2022-09-29           69876.0           75322.0     181.533333   \n",
       "\n",
       "        30d_ost_prob_sum  \n",
       "67216             9354.0  \n",
       "525660              50.0  \n",
       "414373            1564.0  \n",
       "414379             995.0  \n",
       "414363            1751.0  \n",
       "525664              50.0  \n",
       "459643            5329.0  \n",
       "67205             7964.0  \n",
       "525674            3727.0  \n",
       "67228             5446.0  "
      ]
     },
     "execution_count": 312,
     "metadata": {},
     "output_type": "execute_result"
    }
   ],
   "source": [
    "wagnum_subtables[0][['plan_date', '30d_ost_prob_min', '30d_ost_prob_max', '30d_prob_mean', '30d_ost_prob_sum']].sample(10)"
   ]
  },
  {
   "cell_type": "code",
   "execution_count": 313,
   "id": "a0a8737d",
   "metadata": {},
   "outputs": [
    {
     "data": {
      "text/plain": [
       "['10d_ost_prob_max',\n",
       " '30d_ost_prob_sum',\n",
       " '30d_prob_mean',\n",
       " '90d_isload_mean',\n",
       " '90d_prob_mean',\n",
       " '90d_ost_prob_min',\n",
       " '90d_ost_prob_sum',\n",
       " '10d_ost_prob_sum',\n",
       " '10d_ost_prob_min',\n",
       " '10d_prob_mean',\n",
       " '30d_ost_prob_max',\n",
       " '30d_isload_mean',\n",
       " '10d_isload_mean',\n",
       " '90d_ost_prob_max',\n",
       " '30d_ost_prob_min',\n",
       " 'date_kap',\n",
       " 'date_dep',\n",
       " 'kod_vrab',\n",
       " 'date_pl_rem',\n",
       " 'days_to_pl_rem',\n",
       " 'last_rem_date',\n",
       " 'days_from_last_rem',\n",
       " 'ost_prob']"
      ]
     },
     "execution_count": 313,
     "metadata": {},
     "output_type": "execute_result"
    }
   ],
   "source": [
    "columns_to_add"
   ]
  },
  {
   "cell_type": "code",
   "execution_count": 314,
   "id": "a4afc75c98f1a10a",
   "metadata": {
    "ExecuteTime": {
     "end_time": "2023-11-11T00:41:17.696184867Z",
     "start_time": "2023-11-11T00:40:12.377141853Z"
    },
    "collapsed": false
   },
   "outputs": [
    {
     "data": {
      "application/vnd.jupyter.widget-view+json": {
       "model_id": "cecec7a3962f4a61ae782926a708c55d",
       "version_major": 2,
       "version_minor": 0
      },
      "text/plain": [
       "  0%|          | 0/33977 [00:00<?, ?it/s]"
      ]
     },
     "metadata": {},
     "output_type": "display_data"
    },
    {
     "data": {
      "text/html": [
       "<div>\n",
       "<style scoped>\n",
       "    .dataframe tbody tr th:only-of-type {\n",
       "        vertical-align: middle;\n",
       "    }\n",
       "\n",
       "    .dataframe tbody tr th {\n",
       "        vertical-align: top;\n",
       "    }\n",
       "\n",
       "    .dataframe thead th {\n",
       "        text-align: right;\n",
       "    }\n",
       "</style>\n",
       "<table border=\"1\" class=\"dataframe\">\n",
       "  <thead>\n",
       "    <tr style=\"text-align: right;\">\n",
       "      <th></th>\n",
       "      <th>wagnum</th>\n",
       "      <th>month</th>\n",
       "      <th>target_month</th>\n",
       "      <th>target_day</th>\n",
       "      <th>10d_ost_prob_max</th>\n",
       "      <th>30d_ost_prob_sum</th>\n",
       "      <th>30d_prob_mean</th>\n",
       "      <th>90d_isload_mean</th>\n",
       "      <th>90d_prob_mean</th>\n",
       "      <th>90d_ost_prob_min</th>\n",
       "      <th>...</th>\n",
       "      <th>90d_ost_prob_max</th>\n",
       "      <th>30d_ost_prob_min</th>\n",
       "      <th>date_kap</th>\n",
       "      <th>date_dep</th>\n",
       "      <th>kod_vrab</th>\n",
       "      <th>date_pl_rem</th>\n",
       "      <th>days_to_pl_rem</th>\n",
       "      <th>last_rem_date</th>\n",
       "      <th>days_from_last_rem</th>\n",
       "      <th>ost_prob</th>\n",
       "    </tr>\n",
       "  </thead>\n",
       "  <tbody>\n",
       "    <tr>\n",
       "      <th>30631</th>\n",
       "      <td>30632</td>\n",
       "      <td>2022-08-01</td>\n",
       "      <td>0</td>\n",
       "      <td>0</td>\n",
       "      <td>NaN</td>\n",
       "      <td>NaN</td>\n",
       "      <td>NaN</td>\n",
       "      <td>NaN</td>\n",
       "      <td>NaN</td>\n",
       "      <td>NaN</td>\n",
       "      <td>...</td>\n",
       "      <td>NaN</td>\n",
       "      <td>NaN</td>\n",
       "      <td>NaT</td>\n",
       "      <td>2021-06-03</td>\n",
       "      <td>1</td>\n",
       "      <td>2024-06-03</td>\n",
       "      <td>672</td>\n",
       "      <td>2021-06-03</td>\n",
       "      <td>424</td>\n",
       "      <td>69291</td>\n",
       "    </tr>\n",
       "    <tr>\n",
       "      <th>174974</th>\n",
       "      <td>5093</td>\n",
       "      <td>2023-01-01</td>\n",
       "      <td>0</td>\n",
       "      <td>0</td>\n",
       "      <td>25349.0</td>\n",
       "      <td>6505.0</td>\n",
       "      <td>216.833333</td>\n",
       "      <td>0.477778</td>\n",
       "      <td>210.888889</td>\n",
       "      <td>24944.0</td>\n",
       "      <td>...</td>\n",
       "      <td>43924.0</td>\n",
       "      <td>24944.0</td>\n",
       "      <td>NaT</td>\n",
       "      <td>2020-04-04</td>\n",
       "      <td>0</td>\n",
       "      <td>2023-04-04</td>\n",
       "      <td>93</td>\n",
       "      <td>2020-04-04</td>\n",
       "      <td>1002</td>\n",
       "      <td>24944</td>\n",
       "    </tr>\n",
       "    <tr>\n",
       "      <th>98448</th>\n",
       "      <td>30497</td>\n",
       "      <td>2022-10-01</td>\n",
       "      <td>0</td>\n",
       "      <td>0</td>\n",
       "      <td>159999.0</td>\n",
       "      <td>160008.0</td>\n",
       "      <td>5333.600000</td>\n",
       "      <td>NaN</td>\n",
       "      <td>NaN</td>\n",
       "      <td>NaN</td>\n",
       "      <td>...</td>\n",
       "      <td>NaN</td>\n",
       "      <td>-9.0</td>\n",
       "      <td>NaT</td>\n",
       "      <td>2020-04-21</td>\n",
       "      <td>1</td>\n",
       "      <td>2023-04-21</td>\n",
       "      <td>202</td>\n",
       "      <td>2020-04-21</td>\n",
       "      <td>893</td>\n",
       "      <td>159999</td>\n",
       "    </tr>\n",
       "    <tr>\n",
       "      <th>147504</th>\n",
       "      <td>11600</td>\n",
       "      <td>2022-12-01</td>\n",
       "      <td>0</td>\n",
       "      <td>0</td>\n",
       "      <td>69593.0</td>\n",
       "      <td>2521.0</td>\n",
       "      <td>84.033333</td>\n",
       "      <td>0.477778</td>\n",
       "      <td>144.700000</td>\n",
       "      <td>69191.0</td>\n",
       "      <td>...</td>\n",
       "      <td>82214.0</td>\n",
       "      <td>69191.0</td>\n",
       "      <td>2019-08-11</td>\n",
       "      <td>2021-08-05</td>\n",
       "      <td>0</td>\n",
       "      <td>2024-08-05</td>\n",
       "      <td>613</td>\n",
       "      <td>2021-08-05</td>\n",
       "      <td>483</td>\n",
       "      <td>69191</td>\n",
       "    </tr>\n",
       "    <tr>\n",
       "      <th>14267</th>\n",
       "      <td>14268</td>\n",
       "      <td>2022-08-01</td>\n",
       "      <td>0</td>\n",
       "      <td>0</td>\n",
       "      <td>NaN</td>\n",
       "      <td>NaN</td>\n",
       "      <td>NaN</td>\n",
       "      <td>NaN</td>\n",
       "      <td>NaN</td>\n",
       "      <td>NaN</td>\n",
       "      <td>...</td>\n",
       "      <td>NaN</td>\n",
       "      <td>NaN</td>\n",
       "      <td>2015-11-06</td>\n",
       "      <td>2020-05-11</td>\n",
       "      <td>0</td>\n",
       "      <td>2023-05-11</td>\n",
       "      <td>283</td>\n",
       "      <td>2020-05-11</td>\n",
       "      <td>812</td>\n",
       "      <td>27187</td>\n",
       "    </tr>\n",
       "  </tbody>\n",
       "</table>\n",
       "<p>5 rows × 27 columns</p>\n",
       "</div>"
      ],
      "text/plain": [
       "        wagnum      month  target_month  target_day  10d_ost_prob_max  \\\n",
       "30631    30632 2022-08-01             0           0               NaN   \n",
       "174974    5093 2023-01-01             0           0           25349.0   \n",
       "98448    30497 2022-10-01             0           0          159999.0   \n",
       "147504   11600 2022-12-01             0           0           69593.0   \n",
       "14267    14268 2022-08-01             0           0               NaN   \n",
       "\n",
       "        30d_ost_prob_sum  30d_prob_mean  90d_isload_mean  90d_prob_mean  \\\n",
       "30631                NaN            NaN              NaN            NaN   \n",
       "174974            6505.0     216.833333         0.477778     210.888889   \n",
       "98448           160008.0    5333.600000              NaN            NaN   \n",
       "147504            2521.0      84.033333         0.477778     144.700000   \n",
       "14267                NaN            NaN              NaN            NaN   \n",
       "\n",
       "        90d_ost_prob_min  ...  90d_ost_prob_max  30d_ost_prob_min   date_kap  \\\n",
       "30631                NaN  ...               NaN               NaN        NaT   \n",
       "174974           24944.0  ...           43924.0           24944.0        NaT   \n",
       "98448                NaN  ...               NaN              -9.0        NaT   \n",
       "147504           69191.0  ...           82214.0           69191.0 2019-08-11   \n",
       "14267                NaN  ...               NaN               NaN 2015-11-06   \n",
       "\n",
       "         date_dep  kod_vrab  date_pl_rem  days_to_pl_rem  last_rem_date  \\\n",
       "30631  2021-06-03         1   2024-06-03             672     2021-06-03   \n",
       "174974 2020-04-04         0   2023-04-04              93     2020-04-04   \n",
       "98448  2020-04-21         1   2023-04-21             202     2020-04-21   \n",
       "147504 2021-08-05         0   2024-08-05             613     2021-08-05   \n",
       "14267  2020-05-11         0   2023-05-11             283     2020-05-11   \n",
       "\n",
       "        days_from_last_rem ost_prob  \n",
       "30631                  424    69291  \n",
       "174974                1002    24944  \n",
       "98448                  893   159999  \n",
       "147504                 483    69191  \n",
       "14267                  812    27187  \n",
       "\n",
       "[5 rows x 27 columns]"
      ]
     },
     "execution_count": 314,
     "metadata": {},
     "output_type": "execute_result"
    }
   ],
   "source": [
    "target_df.sort_values(by=['month', 'wagnum'], inplace=True)\n",
    "\n",
    "data = pd.concat([wagnum_subtables[wagnum] for wagnum in tqdm(wagnum_subtables.keys())])\n",
    "data = data[columns_to_add + ['wagnum', 'plan_date']]\n",
    "data.rename({'plan_date': 'month'}, axis=1, inplace=True)\n",
    "target_df_new = target_df.merge(data, on=['month', 'wagnum'], how='left')\n",
    "    \n",
    "\n",
    "target_df_new.sample(5)"
   ]
  },
  {
   "cell_type": "code",
   "execution_count": 315,
   "id": "271a8bcc",
   "metadata": {},
   "outputs": [
    {
     "name": "stdout",
     "output_type": "stream",
     "text": [
      "<class 'pandas.core.frame.DataFrame'>\n",
      "RangeIndex: 203854 entries, 0 to 203853\n",
      "Data columns (total 27 columns):\n",
      " #   Column              Non-Null Count   Dtype         \n",
      "---  ------              --------------   -----         \n",
      " 0   wagnum              203854 non-null  Int64         \n",
      " 1   month               203854 non-null  datetime64[ns]\n",
      " 2   target_month        203854 non-null  Int64         \n",
      " 3   target_day          203854 non-null  Int64         \n",
      " 4   10d_ost_prob_max    169870 non-null  float64       \n",
      " 5   30d_ost_prob_sum    169861 non-null  float64       \n",
      " 6   30d_prob_mean       169861 non-null  float64       \n",
      " 7   90d_isload_mean     101910 non-null  float64       \n",
      " 8   90d_prob_mean       101910 non-null  float64       \n",
      " 9   90d_ost_prob_min    101910 non-null  float64       \n",
      " 10  90d_ost_prob_sum    101910 non-null  float64       \n",
      " 11  10d_ost_prob_sum    169870 non-null  float64       \n",
      " 12  10d_ost_prob_min    169870 non-null  float64       \n",
      " 13  10d_prob_mean       169870 non-null  float64       \n",
      " 14  30d_ost_prob_max    169861 non-null  float64       \n",
      " 15  30d_isload_mean     169861 non-null  float64       \n",
      " 16  10d_isload_mean     169870 non-null  float64       \n",
      " 17  90d_ost_prob_max    101910 non-null  float64       \n",
      " 18  30d_ost_prob_min    169861 non-null  float64       \n",
      " 19  date_kap            113976 non-null  datetime64[us]\n",
      " 20  date_dep            192367 non-null  datetime64[us]\n",
      " 21  kod_vrab            203845 non-null  Int64         \n",
      " 22  date_pl_rem         203845 non-null  datetime64[us]\n",
      " 23  days_to_pl_rem      203845 non-null  Int64         \n",
      " 24  last_rem_date       192367 non-null  datetime64[us]\n",
      " 25  days_from_last_rem  192367 non-null  Int64         \n",
      " 26  ost_prob            203845 non-null  Int64         \n",
      "dtypes: Int64(7), datetime64[ns](1), datetime64[us](4), float64(15)\n",
      "memory usage: 43.4 MB\n"
     ]
    }
   ],
   "source": [
    "target_df_new.info()"
   ]
  },
  {
   "cell_type": "code",
   "execution_count": 322,
   "id": "ade190aa",
   "metadata": {},
   "outputs": [
    {
     "data": {
      "text/plain": [
       "<DatetimeArray>\n",
       "['2022-08-01 00:00:00', '2022-09-01 00:00:00', '2022-10-01 00:00:00',\n",
       " '2022-11-01 00:00:00', '2022-12-01 00:00:00', '2023-01-01 00:00:00']\n",
       "Length: 6, dtype: datetime64[ns]"
      ]
     },
     "execution_count": 322,
     "metadata": {},
     "output_type": "execute_result"
    }
   ],
   "source": [
    "target_df_new.month.unique()"
   ]
  },
  {
   "cell_type": "markdown",
   "id": "692e3820bea5da48",
   "metadata": {
    "collapsed": false
   },
   "source": [
    "### Тип владения вагоном - сбор данных"
   ]
  },
  {
   "cell_type": "code",
   "execution_count": 328,
   "id": "6b9c1420831bcb29",
   "metadata": {
    "ExecuteTime": {
     "end_time": "2023-11-10T21:14:33.593791666Z",
     "start_time": "2023-11-10T21:14:33.569272210Z"
    },
    "collapsed": false
   },
   "outputs": [
    {
     "data": {
      "text/plain": [
       "month             datetime64[us]\n",
       "wagnum                     Int64\n",
       "manage_type                Int64\n",
       "rod_id                     Int64\n",
       "reestr_state               Int64\n",
       "ownership_type             Int64\n",
       "dtype: object"
      ]
     },
     "execution_count": 328,
     "metadata": {},
     "output_type": "execute_result"
    }
   ],
   "source": [
    "wag_prob_months.dtypes"
   ]
  },
  {
   "cell_type": "code",
   "execution_count": 326,
   "id": "81ad9d6d",
   "metadata": {},
   "outputs": [
    {
     "data": {
      "text/plain": [
       "wagnum                         Int64\n",
       "month                 datetime64[ns]\n",
       "target_month                   Int64\n",
       "target_day                     Int64\n",
       "10d_ost_prob_max             float64\n",
       "30d_ost_prob_sum             float64\n",
       "30d_prob_mean                float64\n",
       "90d_isload_mean              float64\n",
       "90d_prob_mean                float64\n",
       "90d_ost_prob_min             float64\n",
       "90d_ost_prob_sum             float64\n",
       "10d_ost_prob_sum             float64\n",
       "10d_ost_prob_min             float64\n",
       "10d_prob_mean                float64\n",
       "30d_ost_prob_max             float64\n",
       "30d_isload_mean              float64\n",
       "10d_isload_mean              float64\n",
       "90d_ost_prob_max             float64\n",
       "30d_ost_prob_min             float64\n",
       "date_kap              datetime64[us]\n",
       "date_dep              datetime64[us]\n",
       "kod_vrab                       Int64\n",
       "date_pl_rem           datetime64[us]\n",
       "days_to_pl_rem                 Int64\n",
       "last_rem_date         datetime64[us]\n",
       "days_from_last_rem             Int64\n",
       "ost_prob                       Int64\n",
       "dtype: object"
      ]
     },
     "execution_count": 326,
     "metadata": {},
     "output_type": "execute_result"
    }
   ],
   "source": [
    "target_df_new.dtypes"
   ]
  },
  {
   "cell_type": "code",
   "execution_count": 331,
   "id": "4a880bd1bf66efbe",
   "metadata": {
    "ExecuteTime": {
     "end_time": "2023-11-10T21:14:47.681188663Z",
     "start_time": "2023-11-10T21:14:47.674681116Z"
    },
    "collapsed": false
   },
   "outputs": [
    {
     "name": "stdout",
     "output_type": "stream",
     "text": [
      "(203852, 8)\n"
     ]
    },
    {
     "data": {
      "text/html": [
       "<div>\n",
       "<style scoped>\n",
       "    .dataframe tbody tr th:only-of-type {\n",
       "        vertical-align: middle;\n",
       "    }\n",
       "\n",
       "    .dataframe tbody tr th {\n",
       "        vertical-align: top;\n",
       "    }\n",
       "\n",
       "    .dataframe thead th {\n",
       "        text-align: right;\n",
       "    }\n",
       "</style>\n",
       "<table border=\"1\" class=\"dataframe\">\n",
       "  <thead>\n",
       "    <tr style=\"text-align: right;\">\n",
       "      <th></th>\n",
       "      <th>wagnum</th>\n",
       "      <th>month</th>\n",
       "      <th>target_month</th>\n",
       "      <th>target_day</th>\n",
       "      <th>10d_ost_prob_max</th>\n",
       "      <th>30d_ost_prob_sum</th>\n",
       "      <th>30d_prob_mean</th>\n",
       "      <th>90d_isload_mean</th>\n",
       "      <th>90d_prob_mean</th>\n",
       "      <th>90d_ost_prob_min</th>\n",
       "      <th>...</th>\n",
       "      <th>kod_vrab</th>\n",
       "      <th>date_pl_rem</th>\n",
       "      <th>days_to_pl_rem</th>\n",
       "      <th>last_rem_date</th>\n",
       "      <th>days_from_last_rem</th>\n",
       "      <th>ost_prob</th>\n",
       "      <th>manage_type</th>\n",
       "      <th>rod_id</th>\n",
       "      <th>reestr_state</th>\n",
       "      <th>ownership_type</th>\n",
       "    </tr>\n",
       "  </thead>\n",
       "  <tbody>\n",
       "    <tr>\n",
       "      <th>116543</th>\n",
       "      <td>14616</td>\n",
       "      <td>2022-11-01</td>\n",
       "      <td>0</td>\n",
       "      <td>0</td>\n",
       "      <td>160000.0</td>\n",
       "      <td>130842.0</td>\n",
       "      <td>4361.400000</td>\n",
       "      <td>0.477778</td>\n",
       "      <td>1453.800000</td>\n",
       "      <td>29158.0</td>\n",
       "      <td>...</td>\n",
       "      <td>0</td>\n",
       "      <td>2023-10-02</td>\n",
       "      <td>335</td>\n",
       "      <td>2020-10-02</td>\n",
       "      <td>760</td>\n",
       "      <td>29158</td>\n",
       "      <td>0</td>\n",
       "      <td>1</td>\n",
       "      <td>1</td>\n",
       "      <td>0</td>\n",
       "    </tr>\n",
       "    <tr>\n",
       "      <th>107337</th>\n",
       "      <td>5410</td>\n",
       "      <td>2022-11-01</td>\n",
       "      <td>0</td>\n",
       "      <td>0</td>\n",
       "      <td>66331.0</td>\n",
       "      <td>3573.0</td>\n",
       "      <td>119.100000</td>\n",
       "      <td>0.444444</td>\n",
       "      <td>115.511111</td>\n",
       "      <td>65838.0</td>\n",
       "      <td>...</td>\n",
       "      <td>0</td>\n",
       "      <td>2023-08-24</td>\n",
       "      <td>296</td>\n",
       "      <td>2020-08-24</td>\n",
       "      <td>799</td>\n",
       "      <td>65838</td>\n",
       "      <td>0</td>\n",
       "      <td>0</td>\n",
       "      <td>1</td>\n",
       "      <td>0</td>\n",
       "    </tr>\n",
       "    <tr>\n",
       "      <th>115194</th>\n",
       "      <td>13267</td>\n",
       "      <td>2022-11-01</td>\n",
       "      <td>0</td>\n",
       "      <td>0</td>\n",
       "      <td>143753.0</td>\n",
       "      <td>12098.0</td>\n",
       "      <td>403.266667</td>\n",
       "      <td>0.488889</td>\n",
       "      <td>1743.666667</td>\n",
       "      <td>3070.0</td>\n",
       "      <td>...</td>\n",
       "      <td>0</td>\n",
       "      <td>2023-07-20</td>\n",
       "      <td>261</td>\n",
       "      <td>2020-07-20</td>\n",
       "      <td>834</td>\n",
       "      <td>142042</td>\n",
       "      <td>0</td>\n",
       "      <td>1</td>\n",
       "      <td>1</td>\n",
       "      <td>0</td>\n",
       "    </tr>\n",
       "    <tr>\n",
       "      <th>179379</th>\n",
       "      <td>9499</td>\n",
       "      <td>2023-01-01</td>\n",
       "      <td>0</td>\n",
       "      <td>0</td>\n",
       "      <td>68249.0</td>\n",
       "      <td>4078.0</td>\n",
       "      <td>135.933333</td>\n",
       "      <td>0.566667</td>\n",
       "      <td>161.200000</td>\n",
       "      <td>64592.0</td>\n",
       "      <td>...</td>\n",
       "      <td>1</td>\n",
       "      <td>2024-07-30</td>\n",
       "      <td>576</td>\n",
       "      <td>2021-07-30</td>\n",
       "      <td>520</td>\n",
       "      <td>64592</td>\n",
       "      <td>0</td>\n",
       "      <td>0</td>\n",
       "      <td>1</td>\n",
       "      <td>0</td>\n",
       "    </tr>\n",
       "    <tr>\n",
       "      <th>50185</th>\n",
       "      <td>16210</td>\n",
       "      <td>2022-09-01</td>\n",
       "      <td>0</td>\n",
       "      <td>0</td>\n",
       "      <td>134692.0</td>\n",
       "      <td>0.0</td>\n",
       "      <td>0.000000</td>\n",
       "      <td>NaN</td>\n",
       "      <td>NaN</td>\n",
       "      <td>NaN</td>\n",
       "      <td>...</td>\n",
       "      <td>0</td>\n",
       "      <td>2025-03-06</td>\n",
       "      <td>917</td>\n",
       "      <td>2022-03-06</td>\n",
       "      <td>179</td>\n",
       "      <td>134692</td>\n",
       "      <td>0</td>\n",
       "      <td>0</td>\n",
       "      <td>1</td>\n",
       "      <td>0</td>\n",
       "    </tr>\n",
       "  </tbody>\n",
       "</table>\n",
       "<p>5 rows × 31 columns</p>\n",
       "</div>"
      ],
      "text/plain": [
       "        wagnum      month  target_month  target_day  10d_ost_prob_max  \\\n",
       "116543   14616 2022-11-01             0           0          160000.0   \n",
       "107337    5410 2022-11-01             0           0           66331.0   \n",
       "115194   13267 2022-11-01             0           0          143753.0   \n",
       "179379    9499 2023-01-01             0           0           68249.0   \n",
       "50185    16210 2022-09-01             0           0          134692.0   \n",
       "\n",
       "        30d_ost_prob_sum  30d_prob_mean  90d_isload_mean  90d_prob_mean  \\\n",
       "116543          130842.0    4361.400000         0.477778    1453.800000   \n",
       "107337            3573.0     119.100000         0.444444     115.511111   \n",
       "115194           12098.0     403.266667         0.488889    1743.666667   \n",
       "179379            4078.0     135.933333         0.566667     161.200000   \n",
       "50185                0.0       0.000000              NaN            NaN   \n",
       "\n",
       "        90d_ost_prob_min  ...  kod_vrab  date_pl_rem  days_to_pl_rem  \\\n",
       "116543           29158.0  ...         0   2023-10-02             335   \n",
       "107337           65838.0  ...         0   2023-08-24             296   \n",
       "115194            3070.0  ...         0   2023-07-20             261   \n",
       "179379           64592.0  ...         1   2024-07-30             576   \n",
       "50185                NaN  ...         0   2025-03-06             917   \n",
       "\n",
       "        last_rem_date  days_from_last_rem  ost_prob  manage_type  rod_id  \\\n",
       "116543     2020-10-02                 760     29158            0       1   \n",
       "107337     2020-08-24                 799     65838            0       0   \n",
       "115194     2020-07-20                 834    142042            0       1   \n",
       "179379     2021-07-30                 520     64592            0       0   \n",
       "50185      2022-03-06                 179    134692            0       0   \n",
       "\n",
       "        reestr_state ownership_type  \n",
       "116543             1              0  \n",
       "107337             1              0  \n",
       "115194             1              0  \n",
       "179379             1              0  \n",
       "50185              1              0  \n",
       "\n",
       "[5 rows x 31 columns]"
      ]
     },
     "execution_count": 331,
     "metadata": {},
     "output_type": "execute_result"
    }
   ],
   "source": [
    "wag_prob_months = wag_prob[wag_prob.repdate.dt.day == 1].copy()\n",
    "print(wag_prob_months.shape)\n",
    "\n",
    "wag_prob_months.drop(['ost_prob', 'month'], axis=1, inplace=True)\n",
    "wag_prob_months.rename({'repdate': 'month'}, axis=1, inplace=True)\n",
    "\n",
    "target_df_new_ = target_df_new.merge(wag_prob_months, on=['month', 'wagnum'], how='left')\n",
    "target_df_new_.sample(5)"
   ]
  },
  {
   "cell_type": "code",
   "execution_count": 332,
   "id": "9e5f0f81",
   "metadata": {},
   "outputs": [
    {
     "name": "stdout",
     "output_type": "stream",
     "text": [
      "<class 'pandas.core.frame.DataFrame'>\n",
      "RangeIndex: 203854 entries, 0 to 203853\n",
      "Data columns (total 31 columns):\n",
      " #   Column              Non-Null Count   Dtype         \n",
      "---  ------              --------------   -----         \n",
      " 0   wagnum              203854 non-null  Int64         \n",
      " 1   month               203854 non-null  datetime64[ns]\n",
      " 2   target_month        203854 non-null  Int64         \n",
      " 3   target_day          203854 non-null  Int64         \n",
      " 4   10d_ost_prob_max    169870 non-null  float64       \n",
      " 5   30d_ost_prob_sum    169861 non-null  float64       \n",
      " 6   30d_prob_mean       169861 non-null  float64       \n",
      " 7   90d_isload_mean     101910 non-null  float64       \n",
      " 8   90d_prob_mean       101910 non-null  float64       \n",
      " 9   90d_ost_prob_min    101910 non-null  float64       \n",
      " 10  90d_ost_prob_sum    101910 non-null  float64       \n",
      " 11  10d_ost_prob_sum    169870 non-null  float64       \n",
      " 12  10d_ost_prob_min    169870 non-null  float64       \n",
      " 13  10d_prob_mean       169870 non-null  float64       \n",
      " 14  30d_ost_prob_max    169861 non-null  float64       \n",
      " 15  30d_isload_mean     169861 non-null  float64       \n",
      " 16  10d_isload_mean     169870 non-null  float64       \n",
      " 17  90d_ost_prob_max    101910 non-null  float64       \n",
      " 18  30d_ost_prob_min    169861 non-null  float64       \n",
      " 19  date_kap            113976 non-null  datetime64[us]\n",
      " 20  date_dep            192367 non-null  datetime64[us]\n",
      " 21  kod_vrab            203845 non-null  Int64         \n",
      " 22  date_pl_rem         203845 non-null  datetime64[us]\n",
      " 23  days_to_pl_rem      203845 non-null  Int64         \n",
      " 24  last_rem_date       192367 non-null  datetime64[us]\n",
      " 25  days_from_last_rem  192367 non-null  Int64         \n",
      " 26  ost_prob            203845 non-null  Int64         \n",
      " 27  manage_type         203853 non-null  Int64         \n",
      " 28  rod_id              203853 non-null  Int64         \n",
      " 29  reestr_state        203853 non-null  Int64         \n",
      " 30  ownership_type      203853 non-null  Int64         \n",
      "dtypes: Int64(11), datetime64[ns](1), datetime64[us](4), float64(15)\n",
      "memory usage: 50.4 MB\n"
     ]
    }
   ],
   "source": [
    "target_df_new_.info()"
   ]
  },
  {
   "cell_type": "code",
   "execution_count": 333,
   "id": "cbbd5006",
   "metadata": {},
   "outputs": [],
   "source": [
    "target_df_new = target_df_new_"
   ]
  },
  {
   "cell_type": "markdown",
   "id": "91cdb3592a7cdf00",
   "metadata": {
    "collapsed": false
   },
   "source": [
    "### Характеристики вагонов - обзор данных"
   ]
  },
  {
   "cell_type": "code",
   "execution_count": 94,
   "id": "53f441a8cf0ba07a",
   "metadata": {
    "ExecuteTime": {
     "end_time": "2023-11-10T21:28:24.107170942Z",
     "start_time": "2023-11-10T21:28:24.053311009Z"
    },
    "collapsed": false
   },
   "outputs": [
    {
     "data": {
      "text/plain": [
       "Index(['wagnum', 'model', 'rod_id', 'gruz', 'cnsi_gruz_capacity',\n",
       "       'cnsi_volumek', 'tara', 'date_build', 'srok_sl', 'zavod_build',\n",
       "       'date_iskl', 'cnsi_probeg_dr', 'cnsi_probeg_kr', 'kuzov', 'telega',\n",
       "       'tormoz', 'tipvozd', 'tippogl', 'norma_km', 'ownertype'],\n",
       "      dtype='object')"
      ]
     },
     "execution_count": 94,
     "metadata": {},
     "output_type": "execute_result"
    }
   ],
   "source": [
    "wag_param.columns"
   ]
  },
  {
   "cell_type": "code",
   "execution_count": 336,
   "id": "a69861eebe7dc29b",
   "metadata": {
    "ExecuteTime": {
     "end_time": "2023-11-10T21:28:35.224935582Z",
     "start_time": "2023-11-10T21:28:35.210110385Z"
    },
    "collapsed": false
   },
   "outputs": [
    {
     "data": {
      "text/html": [
       "<div>\n",
       "<style scoped>\n",
       "    .dataframe tbody tr th:only-of-type {\n",
       "        vertical-align: middle;\n",
       "    }\n",
       "\n",
       "    .dataframe tbody tr th {\n",
       "        vertical-align: top;\n",
       "    }\n",
       "\n",
       "    .dataframe thead th {\n",
       "        text-align: right;\n",
       "    }\n",
       "</style>\n",
       "<table border=\"1\" class=\"dataframe\">\n",
       "  <thead>\n",
       "    <tr style=\"text-align: right;\">\n",
       "      <th></th>\n",
       "      <th>wagnum</th>\n",
       "      <th>month</th>\n",
       "      <th>target_month</th>\n",
       "      <th>target_day</th>\n",
       "      <th>10d_ost_prob_max</th>\n",
       "      <th>30d_ost_prob_sum</th>\n",
       "      <th>30d_prob_mean</th>\n",
       "      <th>90d_isload_mean</th>\n",
       "      <th>90d_prob_mean</th>\n",
       "      <th>90d_ost_prob_min</th>\n",
       "      <th>...</th>\n",
       "      <th>date_iskl</th>\n",
       "      <th>cnsi_probeg_dr</th>\n",
       "      <th>cnsi_probeg_kr</th>\n",
       "      <th>kuzov</th>\n",
       "      <th>telega</th>\n",
       "      <th>tormoz</th>\n",
       "      <th>tipvozd</th>\n",
       "      <th>tippogl</th>\n",
       "      <th>norma_km</th>\n",
       "      <th>ownertype</th>\n",
       "    </tr>\n",
       "  </thead>\n",
       "  <tbody>\n",
       "    <tr>\n",
       "      <th>195361</th>\n",
       "      <td>25481</td>\n",
       "      <td>2023-01-01</td>\n",
       "      <td>0</td>\n",
       "      <td>0</td>\n",
       "      <td>158057.0</td>\n",
       "      <td>158555.0</td>\n",
       "      <td>5285.166667</td>\n",
       "      <td>0.355556</td>\n",
       "      <td>1761.722222</td>\n",
       "      <td>1444.0</td>\n",
       "      <td>...</td>\n",
       "      <td>NaT</td>\n",
       "      <td>110</td>\n",
       "      <td>160</td>\n",
       "      <td>22</td>\n",
       "      <td>2</td>\n",
       "      <td>2</td>\n",
       "      <td>7</td>\n",
       "      <td>11</td>\n",
       "      <td>160000</td>\n",
       "      <td>0</td>\n",
       "    </tr>\n",
       "    <tr>\n",
       "      <th>29344</th>\n",
       "      <td>29345</td>\n",
       "      <td>2022-08-01</td>\n",
       "      <td>0</td>\n",
       "      <td>0</td>\n",
       "      <td>NaN</td>\n",
       "      <td>NaN</td>\n",
       "      <td>NaN</td>\n",
       "      <td>NaN</td>\n",
       "      <td>NaN</td>\n",
       "      <td>NaN</td>\n",
       "      <td>...</td>\n",
       "      <td>NaT</td>\n",
       "      <td>110</td>\n",
       "      <td>160</td>\n",
       "      <td>2</td>\n",
       "      <td>9</td>\n",
       "      <td>2</td>\n",
       "      <td>7</td>\n",
       "      <td>11</td>\n",
       "      <td>160000</td>\n",
       "      <td>0</td>\n",
       "    </tr>\n",
       "    <tr>\n",
       "      <th>141554</th>\n",
       "      <td>5650</td>\n",
       "      <td>2022-12-01</td>\n",
       "      <td>1</td>\n",
       "      <td>0</td>\n",
       "      <td>8426.0</td>\n",
       "      <td>4455.0</td>\n",
       "      <td>148.500000</td>\n",
       "      <td>0.477778</td>\n",
       "      <td>173.333333</td>\n",
       "      <td>5563.0</td>\n",
       "      <td>...</td>\n",
       "      <td>NaT</td>\n",
       "      <td>110</td>\n",
       "      <td>160</td>\n",
       "      <td>2</td>\n",
       "      <td>9</td>\n",
       "      <td>3</td>\n",
       "      <td>1</td>\n",
       "      <td>12</td>\n",
       "      <td>110000</td>\n",
       "      <td>0</td>\n",
       "    </tr>\n",
       "    <tr>\n",
       "      <th>51760</th>\n",
       "      <td>17785</td>\n",
       "      <td>2022-09-01</td>\n",
       "      <td>0</td>\n",
       "      <td>0</td>\n",
       "      <td>95672.0</td>\n",
       "      <td>6080.0</td>\n",
       "      <td>202.666667</td>\n",
       "      <td>NaN</td>\n",
       "      <td>NaN</td>\n",
       "      <td>NaN</td>\n",
       "      <td>...</td>\n",
       "      <td>NaT</td>\n",
       "      <td>110</td>\n",
       "      <td>160</td>\n",
       "      <td>2</td>\n",
       "      <td>9</td>\n",
       "      <td>2</td>\n",
       "      <td>7</td>\n",
       "      <td>11</td>\n",
       "      <td>160000</td>\n",
       "      <td>0</td>\n",
       "    </tr>\n",
       "    <tr>\n",
       "      <th>42209</th>\n",
       "      <td>8234</td>\n",
       "      <td>2022-09-01</td>\n",
       "      <td>0</td>\n",
       "      <td>0</td>\n",
       "      <td>112321.0</td>\n",
       "      <td>1075.0</td>\n",
       "      <td>35.833333</td>\n",
       "      <td>NaN</td>\n",
       "      <td>NaN</td>\n",
       "      <td>NaN</td>\n",
       "      <td>...</td>\n",
       "      <td>NaT</td>\n",
       "      <td>110</td>\n",
       "      <td>160</td>\n",
       "      <td>2</td>\n",
       "      <td>9</td>\n",
       "      <td>2</td>\n",
       "      <td>1</td>\n",
       "      <td>2</td>\n",
       "      <td>160000</td>\n",
       "      <td>0</td>\n",
       "    </tr>\n",
       "  </tbody>\n",
       "</table>\n",
       "<p>5 rows × 50 columns</p>\n",
       "</div>"
      ],
      "text/plain": [
       "        wagnum      month  target_month  target_day  10d_ost_prob_max  \\\n",
       "195361   25481 2023-01-01             0           0          158057.0   \n",
       "29344    29345 2022-08-01             0           0               NaN   \n",
       "141554    5650 2022-12-01             1           0            8426.0   \n",
       "51760    17785 2022-09-01             0           0           95672.0   \n",
       "42209     8234 2022-09-01             0           0          112321.0   \n",
       "\n",
       "        30d_ost_prob_sum  30d_prob_mean  90d_isload_mean  90d_prob_mean  \\\n",
       "195361          158555.0    5285.166667         0.355556    1761.722222   \n",
       "29344                NaN            NaN              NaN            NaN   \n",
       "141554            4455.0     148.500000         0.477778     173.333333   \n",
       "51760             6080.0     202.666667              NaN            NaN   \n",
       "42209             1075.0      35.833333              NaN            NaN   \n",
       "\n",
       "        90d_ost_prob_min  ...  date_iskl  cnsi_probeg_dr  cnsi_probeg_kr  \\\n",
       "195361            1444.0  ...        NaT             110             160   \n",
       "29344                NaN  ...        NaT             110             160   \n",
       "141554            5563.0  ...        NaT             110             160   \n",
       "51760                NaN  ...        NaT             110             160   \n",
       "42209                NaN  ...        NaT             110             160   \n",
       "\n",
       "        kuzov  telega  tormoz  tipvozd  tippogl  norma_km ownertype  \n",
       "195361     22       2       2        7       11    160000         0  \n",
       "29344       2       9       2        7       11    160000         0  \n",
       "141554      2       9       3        1       12    110000         0  \n",
       "51760       2       9       2        7       11    160000         0  \n",
       "42209       2       9       2        1        2    160000         0  \n",
       "\n",
       "[5 rows x 50 columns]"
      ]
     },
     "execution_count": 336,
     "metadata": {},
     "output_type": "execute_result"
    }
   ],
   "source": [
    "target_df_new = target_df_new.merge(wag_param, on=['wagnum'], how='left')\n",
    "target_df_new.sample(5)"
   ]
  },
  {
   "cell_type": "code",
   "execution_count": 337,
   "id": "9c497d24e1101816",
   "metadata": {
    "ExecuteTime": {
     "end_time": "2023-11-10T21:35:22.149154475Z",
     "start_time": "2023-11-10T21:35:22.106312579Z"
    },
    "collapsed": false
   },
   "outputs": [
    {
     "name": "stdout",
     "output_type": "stream",
     "text": [
      "<class 'pandas.core.frame.DataFrame'>\n",
      "RangeIndex: 203854 entries, 0 to 203853\n",
      "Data columns (total 50 columns):\n",
      " #   Column              Non-Null Count   Dtype         \n",
      "---  ------              --------------   -----         \n",
      " 0   wagnum              203854 non-null  Int64         \n",
      " 1   month               203854 non-null  datetime64[ns]\n",
      " 2   target_month        203854 non-null  Int64         \n",
      " 3   target_day          203854 non-null  Int64         \n",
      " 4   10d_ost_prob_max    169870 non-null  float64       \n",
      " 5   30d_ost_prob_sum    169861 non-null  float64       \n",
      " 6   30d_prob_mean       169861 non-null  float64       \n",
      " 7   90d_isload_mean     101910 non-null  float64       \n",
      " 8   90d_prob_mean       101910 non-null  float64       \n",
      " 9   90d_ost_prob_min    101910 non-null  float64       \n",
      " 10  90d_ost_prob_sum    101910 non-null  float64       \n",
      " 11  10d_ost_prob_sum    169870 non-null  float64       \n",
      " 12  10d_ost_prob_min    169870 non-null  float64       \n",
      " 13  10d_prob_mean       169870 non-null  float64       \n",
      " 14  30d_ost_prob_max    169861 non-null  float64       \n",
      " 15  30d_isload_mean     169861 non-null  float64       \n",
      " 16  10d_isload_mean     169870 non-null  float64       \n",
      " 17  90d_ost_prob_max    101910 non-null  float64       \n",
      " 18  30d_ost_prob_min    169861 non-null  float64       \n",
      " 19  date_kap            113976 non-null  datetime64[us]\n",
      " 20  date_dep            192367 non-null  datetime64[us]\n",
      " 21  kod_vrab            203845 non-null  Int64         \n",
      " 22  date_pl_rem         203845 non-null  datetime64[us]\n",
      " 23  days_to_pl_rem      203845 non-null  Int64         \n",
      " 24  last_rem_date       192367 non-null  datetime64[us]\n",
      " 25  days_from_last_rem  192367 non-null  Int64         \n",
      " 26  ost_prob            203845 non-null  Int64         \n",
      " 27  manage_type         203853 non-null  Int64         \n",
      " 28  rod_id_x            203853 non-null  Int64         \n",
      " 29  reestr_state        203853 non-null  Int64         \n",
      " 30  ownership_type      203853 non-null  Int64         \n",
      " 31  model               203854 non-null  string        \n",
      " 32  rod_id_y            203854 non-null  Int64         \n",
      " 33  gruz                203854 non-null  Int64         \n",
      " 34  cnsi_gruz_capacity  203854 non-null  Int64         \n",
      " 35  cnsi_volumek        203854 non-null  Float64       \n",
      " 36  tara                203854 non-null  Int64         \n",
      " 37  date_build          203854 non-null  datetime64[ms]\n",
      " 38  srok_sl             203854 non-null  datetime64[ms]\n",
      " 39  zavod_build         203854 non-null  Int64         \n",
      " 40  date_iskl           694 non-null     datetime64[ms]\n",
      " 41  cnsi_probeg_dr      203854 non-null  Int64         \n",
      " 42  cnsi_probeg_kr      203854 non-null  Int64         \n",
      " 43  kuzov               203854 non-null  Int64         \n",
      " 44  telega              203854 non-null  Int64         \n",
      " 45  tormoz              203854 non-null  Int64         \n",
      " 46  tipvozd             203854 non-null  string        \n",
      " 47  tippogl             203500 non-null  Int64         \n",
      " 48  norma_km            203854 non-null  Int64         \n",
      " 49  ownertype           203854 non-null  Int64         \n",
      "dtypes: Float64(1), Int64(24), datetime64[ms](3), datetime64[ns](1), datetime64[us](4), float64(15), string(2)\n",
      "memory usage: 82.6 MB\n"
     ]
    }
   ],
   "source": [
    "target_df_new.info()"
   ]
  },
  {
   "cell_type": "code",
   "execution_count": 339,
   "id": "64f9faa4636dfa1",
   "metadata": {
    "ExecuteTime": {
     "end_time": "2023-11-10T21:53:29.111365663Z",
     "start_time": "2023-11-10T21:53:28.803146704Z"
    },
    "collapsed": false
   },
   "outputs": [
    {
     "data": {
      "text/plain": [
       "<Axes: ylabel='Frequency'>"
      ]
     },
     "execution_count": 339,
     "metadata": {},
     "output_type": "execute_result"
    },
    {
     "data": {
      "image/png": "[encoded data removed]",
      "text/plain": [
       "<Figure size 640x480 with 1 Axes>"
      ]
     },
     "metadata": {},
     "output_type": "display_data"
    }
   ],
   "source": [
    "target_df_new['expected_srok_sl_y'] = (target_df_new['srok_sl'] - target_df_new['date_build']).dt.days / 365\n",
    "target_df_new['expected_srok_sl_y'].plot.hist(bins=50, range=(18, 36))"
   ]
  },
  {
   "cell_type": "code",
   "execution_count": 340,
   "id": "76d7c67b125365e9",
   "metadata": {
    "ExecuteTime": {
     "end_time": "2023-11-10T21:53:33.627358536Z",
     "start_time": "2023-11-10T21:53:33.607391149Z"
    },
    "collapsed": false
   },
   "outputs": [
    {
     "data": {
      "text/plain": [
       "expected_srok_sl_y_b\n",
       "short    117834\n",
       "long      86020\n",
       "Name: count, dtype: int64"
      ]
     },
     "execution_count": 340,
     "metadata": {},
     "output_type": "execute_result"
    }
   ],
   "source": [
    "target_df_new['expected_srok_sl_y_b'] = target_df_new['expected_srok_sl_y'].apply(lambda x: \"short\" if x <= 27.5 else \"long\")\n",
    "target_df_new['expected_srok_sl_y_b'].value_counts()"
   ]
  },
  {
   "cell_type": "code",
   "execution_count": 341,
   "id": "cf9b60edd4a58529",
   "metadata": {
    "ExecuteTime": {
     "end_time": "2023-11-10T21:57:08.466369052Z",
     "start_time": "2023-11-10T21:57:08.417961130Z"
    },
    "collapsed": false
   },
   "outputs": [
    {
     "data": {
      "text/plain": [
       "date_build_b\n",
       "(2007, 2017]    125342\n",
       "(0, 2000]        32037\n",
       "(2000, 2007]     31451\n",
       "(2017, 2030]     15024\n",
       "Name: count, dtype: int64"
      ]
     },
     "execution_count": 341,
     "metadata": {},
     "output_type": "execute_result"
    }
   ],
   "source": [
    "target_df_new['date_build_b'] = pd.cut(target_df_new['date_build'].dt.year, bins=[0, 2000, 2007, 2017, 2030])\n",
    "target_df_new['date_build_b'].value_counts()"
   ]
  },
  {
   "cell_type": "code",
   "execution_count": null,
   "id": "74388824",
   "metadata": {},
   "outputs": [],
   "source": []
  },
  {
   "cell_type": "code",
   "execution_count": null,
   "id": "e67b9f6f",
   "metadata": {},
   "outputs": [],
   "source": []
  },
  {
   "cell_type": "code",
   "execution_count": 343,
   "id": "253fadd1",
   "metadata": {},
   "outputs": [],
   "source": [
    "target_df_new.to_csv(path_train + '/data/first_3_tables.csv', index=False)"
   ]
  }
 ],
 "metadata": {
  "kernelspec": {
   "display_name": "Python 3",
   "language": "python",
   "name": "python3"
  },
  "language_info": {
   "codemirror_mode": {
    "name": "ipython",
    "version": 3
   },
   "file_extension": ".py",
   "mimetype": "text/x-python",
   "name": "python",
   "nbconvert_exporter": "python",
   "pygments_lexer": "ipython3",
   "version": "3.11.5"
  }
 },
 "nbformat": 4,
 "nbformat_minor": 5
}
