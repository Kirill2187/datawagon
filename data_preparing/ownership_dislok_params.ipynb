{
 "cells": [
  {
   "cell_type": "code",
   "execution_count": 1,
   "id": "initial_id",
   "metadata": {
    "collapsed": true,
    "ExecuteTime": {
     "end_time": "2023-11-11T16:36:04.377622714Z",
     "start_time": "2023-11-11T16:36:04.361262579Z"
    }
   },
   "outputs": [],
   "source": [
    "import pandas as pd\n",
    "import numpy as np\n",
    "import matplotlib.pyplot as plt\n",
    "import seaborn as sns\n",
    "import os\n",
    "from tqdm.notebook import tqdm"
   ]
  },
  {
   "cell_type": "code",
   "execution_count": 2,
   "id": "adde4964e4995e02",
   "metadata": {
    "collapsed": false,
    "ExecuteTime": {
     "end_time": "2023-11-11T16:36:04.424638015Z",
     "start_time": "2023-11-11T16:36:04.377332372Z"
    }
   },
   "outputs": [],
   "source": [
    "path_train = r\"../train/\""
   ]
  },
  {
   "cell_type": "code",
   "execution_count": 3,
   "id": "7aceb6de95aab3c6",
   "metadata": {
    "collapsed": false,
    "ExecuteTime": {
     "end_time": "2023-11-11T16:36:07.650710855Z",
     "start_time": "2023-11-11T16:36:04.423827482Z"
    }
   },
   "outputs": [],
   "source": [
    "dislok = pd.read_parquet(path_train + '/dislok_wagons.parquet').convert_dtypes()\n",
    "wag_prob = pd.read_parquet(path_train + '/wagons_probeg_ownersip.parquet').convert_dtypes()\n",
    "wag_param = pd.read_parquet(path_train + '/wag_params.parquet').convert_dtypes()\n",
    "freight_data = pd.read_parquet(path_train + '/freight_info.parquet').convert_dtypes()\n",
    "\n",
    "dislok.fillna(pd.NA, inplace=True)"
   ]
  },
  {
   "cell_type": "code",
   "execution_count": 4,
   "id": "19423f3e",
   "metadata": {
    "ExecuteTime": {
     "end_time": "2023-11-11T16:36:07.680906093Z",
     "start_time": "2023-11-11T16:36:07.653119779Z"
    }
   },
   "outputs": [
    {
     "data": {
      "text/plain": "(8205541, 16)"
     },
     "execution_count": 4,
     "metadata": {},
     "output_type": "execute_result"
    }
   ],
   "source": [
    "dislok.shape"
   ]
  },
  {
   "cell_type": "code",
   "execution_count": null,
   "outputs": [],
   "source": [
    "dislok = dislok.merge(freight_data, on='fr_id')"
   ],
   "metadata": {
    "collapsed": false,
    "is_executing": true,
    "ExecuteTime": {
     "start_time": "2023-11-11T16:36:07.661743610Z"
    }
   },
   "id": "76a575257004c3d7"
  },
  {
   "cell_type": "code",
   "execution_count": null,
   "outputs": [],
   "source": [
    "dislok.shape"
   ],
   "metadata": {
    "collapsed": false,
    "is_executing": true
   },
   "id": "ede65245fd29b3a3"
  },
  {
   "cell_type": "code",
   "execution_count": null,
   "id": "fe67d357ae99b4cf",
   "metadata": {
    "collapsed": false,
    "ExecuteTime": {
     "start_time": "2023-11-11T16:31:50.985617857Z"
    }
   },
   "outputs": [],
   "source": [
    "target_df = pd.read_csv(path_train +'/target/y_train.csv').convert_dtypes()\n",
    "target_df['month'] = pd.to_datetime(target_df['month'])\n",
    "target_df.sample(5)"
   ]
  },
  {
   "cell_type": "code",
   "execution_count": null,
   "id": "cf6f140435731fb2",
   "metadata": {
    "collapsed": false,
    "ExecuteTime": {
     "start_time": "2023-11-11T16:31:50.987228048Z"
    }
   },
   "outputs": [],
   "source": [
    "target_df.target_month.mean()"
   ]
  },
  {
   "cell_type": "markdown",
   "id": "b9d76297079861fa",
   "metadata": {
    "collapsed": false
   },
   "source": [
    "### Дислокация вагонов - сбор данных"
   ]
  },
  {
   "cell_type": "code",
   "execution_count": null,
   "id": "59bdd3736ffca595",
   "metadata": {
    "collapsed": false,
    "ExecuteTime": {
     "start_time": "2023-11-11T16:31:50.989991109Z"
    }
   },
   "outputs": [],
   "source": [
    "dislok.columns"
   ]
  },
  {
   "cell_type": "code",
   "execution_count": null,
   "id": "a98ef33de5a64d63",
   "metadata": {
    "collapsed": false,
    "ExecuteTime": {
     "start_time": "2023-11-11T16:31:50.991931789Z"
    }
   },
   "outputs": [],
   "source": [
    "import gc\n",
    "gc.collect()"
   ]
  },
  {
   "cell_type": "code",
   "execution_count": null,
   "id": "b64af81c4a013c8d",
   "metadata": {
    "collapsed": false,
    "ExecuteTime": {
     "start_time": "2023-11-11T16:31:50.993950831Z"
    }
   },
   "outputs": [],
   "source": [
    "dislok['days_to_pl_rem'] = (dislok['date_pl_rem'] - dislok['plan_date']).dt.days\n",
    "dislok['another_road'] = dislok['id_road_dest'] != dislok['id_road_send']\n",
    "dislok['last_rem_date'] = dislok[['date_kap', 'date_dep']].max(axis=1)\n",
    "dislok['days_from_last_rem'] = (dislok['plan_date'] - dislok['last_rem_date']).dt.days\n",
    "dislok = dislok.convert_dtypes()"
   ]
  },
  {
   "cell_type": "code",
   "execution_count": null,
   "id": "3bd3b5d36ac660bc",
   "metadata": {
    "collapsed": false,
    "ExecuteTime": {
     "start_time": "2023-11-11T16:31:50.995902964Z"
    }
   },
   "outputs": [],
   "source": [
    "dislok.sort_values(by='plan_date', inplace=True)"
   ]
  },
  {
   "cell_type": "code",
   "execution_count": null,
   "id": "ee0485e5",
   "metadata": {
    "ExecuteTime": {
     "start_time": "2023-11-11T16:31:50.997421384Z"
    }
   },
   "outputs": [],
   "source": [
    "to_fill = ['ost_prob']\n",
    "\n",
    "dislok[to_fill] = dislok.groupby('wagnum')[to_fill].transform(lambda x: x.fillna(method='ffill'))\n",
    "dislok[to_fill] = dislok.groupby('wagnum')[to_fill].transform(lambda x: x.fillna(0))"
   ]
  },
  {
   "cell_type": "code",
   "execution_count": null,
   "id": "8587e7c3",
   "metadata": {
    "ExecuteTime": {
     "start_time": "2023-11-11T16:31:50.999563625Z"
    }
   },
   "outputs": [],
   "source": [
    "dislok.info()"
   ]
  },
  {
   "cell_type": "code",
   "execution_count": null,
   "id": "c6295127",
   "metadata": {
    "ExecuteTime": {
     "start_time": "2023-11-11T16:31:51.002765988Z"
    }
   },
   "outputs": [],
   "source": [
    "wagnum_subtables = {wagnum: table for wagnum, table in tqdm(dislok.groupby('wagnum'))}"
   ]
  },
  {
   "cell_type": "code",
   "execution_count": null,
   "id": "4de0c6c9f39114f8",
   "metadata": {
    "collapsed": false,
    "ExecuteTime": {
     "start_time": "2023-11-11T16:31:51.003217093Z"
    }
   },
   "outputs": [],
   "source": [
    "from itertools import product\n",
    "\n",
    "intervals = [pd.DateOffset(days=10), pd.DateOffset(days=30), pd.DateOffset(days=90)]\n",
    "functions = {\"isload\": ['mean'], \"ost_prob\": ['min', 'max'], 'freight': ['mean']}\n",
    "\n",
    "fr_classes = ['skoroport', 'naval', 'nasip', 'naliv', 'openvagons', 'soprovod', 'smerz']\n",
    "for fr_class in fr_classes:\n",
    "    functions[fr_class] = ['mean']\n",
    "\n",
    "take_last_cols = ['date_kap', 'date_dep', 'kod_vrab', 'date_pl_rem', 'days_to_pl_rem', 'last_rem_date', 'days_from_last_rem', 'ost_prob']\n",
    "rolling_cols = set()\n",
    "\n",
    "\n",
    "for wagnum, table in tqdm(wagnum_subtables.items()):\n",
    "    for interval in intervals:\n",
    "        for col, func_list in functions.items():\n",
    "            for func in func_list:\n",
    "                table[f\"{interval.days}d_{col}_{func}\"] = getattr(table[col].rolling(interval.days), func)(engine='numba')\n",
    "                rolling_cols.add(f\"{interval.days}d_{col}_{func}\")\n",
    "\n",
    "for wagnum, table in tqdm(wagnum_subtables.items()):\n",
    "    table['10d_ost_prob_sum'] = table['10d_ost_prob_max'] - table['10d_ost_prob_min']\n",
    "    table['30d_ost_prob_sum'] = table['30d_ost_prob_max'] - table['30d_ost_prob_min']\n",
    "    table['90d_ost_prob_sum'] = table['90d_ost_prob_max'] - table['90d_ost_prob_min']\n",
    "    table['10d_prob_mean'] = table['10d_ost_prob_sum'] / 10\n",
    "    table['30d_prob_mean'] = table['30d_ost_prob_sum'] / 30\n",
    "    table['90d_prob_mean'] = table['90d_ost_prob_sum'] / 90\n",
    "\n",
    "for newcol in ['10d_prob_mean', '30d_prob_mean', '90d_prob_mean', '10d_ost_prob_sum', '30d_ost_prob_sum', '90d_ost_prob_sum']:\n",
    "    rolling_cols.add(newcol)\n",
    "\n",
    "columns_to_add = list(rolling_cols) + take_last_cols"
   ]
  },
  {
   "cell_type": "code",
   "execution_count": null,
   "id": "30292214",
   "metadata": {
    "ExecuteTime": {
     "start_time": "2023-11-11T16:31:51.004727830Z"
    }
   },
   "outputs": [],
   "source": [
    "wagnum_subtables[0][['plan_date', '30d_ost_prob_min', '30d_ost_prob_max', '30d_prob_mean', '30d_ost_prob_sum']].sample(10)"
   ]
  },
  {
   "cell_type": "code",
   "execution_count": null,
   "id": "a0a8737d",
   "metadata": {
    "ExecuteTime": {
     "end_time": "2023-11-11T16:31:51.074510589Z",
     "start_time": "2023-11-11T16:31:51.049065103Z"
    }
   },
   "outputs": [],
   "source": [
    "columns_to_add"
   ]
  },
  {
   "cell_type": "code",
   "execution_count": null,
   "id": "a4afc75c98f1a10a",
   "metadata": {
    "collapsed": false,
    "ExecuteTime": {
     "start_time": "2023-11-11T16:31:51.049349427Z"
    }
   },
   "outputs": [],
   "source": [
    "target_df.sort_values(by=['month', 'wagnum'], inplace=True)\n",
    "\n",
    "data = pd.concat([wagnum_subtables[wagnum] for wagnum in tqdm(wagnum_subtables.keys())])\n",
    "data = data[columns_to_add + ['wagnum', 'plan_date']]\n",
    "data.rename({'plan_date': 'month'}, axis=1, inplace=True)\n",
    "target_df_new = target_df.merge(data, on=['month', 'wagnum'], how='left')\n",
    "    \n",
    "\n",
    "target_df_new.sample(5)"
   ]
  },
  {
   "cell_type": "code",
   "execution_count": null,
   "id": "271a8bcc",
   "metadata": {
    "ExecuteTime": {
     "start_time": "2023-11-11T16:31:51.049471510Z"
    }
   },
   "outputs": [],
   "source": [
    "target_df_new.info()"
   ]
  },
  {
   "cell_type": "code",
   "execution_count": null,
   "id": "ade190aa",
   "metadata": {
    "ExecuteTime": {
     "start_time": "2023-11-11T16:31:51.049608748Z"
    }
   },
   "outputs": [],
   "source": [
    "target_df_new.month.unique()"
   ]
  },
  {
   "cell_type": "markdown",
   "id": "692e3820bea5da48",
   "metadata": {
    "collapsed": false
   },
   "source": [
    "### Тип владения вагоном - сбор данных"
   ]
  },
  {
   "cell_type": "code",
   "execution_count": null,
   "id": "6b9c1420831bcb29",
   "metadata": {
    "collapsed": false,
    "ExecuteTime": {
     "start_time": "2023-11-11T16:31:51.049724684Z"
    }
   },
   "outputs": [],
   "source": [
    "wag_prob_months.dtypes"
   ]
  },
  {
   "cell_type": "code",
   "execution_count": null,
   "id": "81ad9d6d",
   "metadata": {
    "ExecuteTime": {
     "start_time": "2023-11-11T16:31:51.049815199Z"
    }
   },
   "outputs": [],
   "source": [
    "target_df_new.dtypes"
   ]
  },
  {
   "cell_type": "code",
   "execution_count": null,
   "id": "4a880bd1bf66efbe",
   "metadata": {
    "collapsed": false,
    "ExecuteTime": {
     "start_time": "2023-11-11T16:31:51.049920240Z"
    }
   },
   "outputs": [],
   "source": [
    "wag_prob_months = wag_prob[wag_prob.repdate.dt.day == 1].copy()\n",
    "print(wag_prob_months.shape)\n",
    "\n",
    "wag_prob_months.drop(['ost_prob', 'month'], axis=1, inplace=True)\n",
    "wag_prob_months.rename({'repdate': 'month'}, axis=1, inplace=True)\n",
    "\n",
    "target_df_new_ = target_df_new.merge(wag_prob_months, on=['month', 'wagnum'], how='left')\n",
    "target_df_new_.sample(5)"
   ]
  },
  {
   "cell_type": "code",
   "execution_count": null,
   "id": "9e5f0f81",
   "metadata": {
    "ExecuteTime": {
     "start_time": "2023-11-11T16:31:51.050015154Z"
    }
   },
   "outputs": [],
   "source": [
    "target_df_new_.info()"
   ]
  },
  {
   "cell_type": "code",
   "execution_count": null,
   "id": "cbbd5006",
   "metadata": {
    "ExecuteTime": {
     "start_time": "2023-11-11T16:31:51.050112513Z"
    }
   },
   "outputs": [],
   "source": [
    "target_df_new = target_df_new_"
   ]
  },
  {
   "cell_type": "markdown",
   "id": "91cdb3592a7cdf00",
   "metadata": {
    "collapsed": false
   },
   "source": [
    "### Характеристики вагонов - обзор данных"
   ]
  },
  {
   "cell_type": "code",
   "execution_count": null,
   "id": "53f441a8cf0ba07a",
   "metadata": {
    "collapsed": false,
    "ExecuteTime": {
     "start_time": "2023-11-11T16:31:51.050225656Z"
    }
   },
   "outputs": [],
   "source": [
    "wag_param.columns"
   ]
  },
  {
   "cell_type": "code",
   "execution_count": null,
   "id": "a69861eebe7dc29b",
   "metadata": {
    "collapsed": false,
    "ExecuteTime": {
     "start_time": "2023-11-11T16:31:51.050334678Z"
    }
   },
   "outputs": [],
   "source": [
    "target_df_new = target_df_new.merge(wag_param, on=['wagnum'], how='left')\n",
    "target_df_new.sample(5)"
   ]
  },
  {
   "cell_type": "code",
   "execution_count": null,
   "id": "9c497d24e1101816",
   "metadata": {
    "collapsed": false,
    "ExecuteTime": {
     "start_time": "2023-11-11T16:31:51.050592393Z"
    }
   },
   "outputs": [],
   "source": [
    "target_df_new.info()"
   ]
  },
  {
   "cell_type": "code",
   "execution_count": null,
   "id": "64f9faa4636dfa1",
   "metadata": {
    "collapsed": false,
    "ExecuteTime": {
     "start_time": "2023-11-11T16:31:51.050699110Z"
    }
   },
   "outputs": [],
   "source": [
    "target_df_new['expected_srok_sl_y'] = (target_df_new['srok_sl'] - target_df_new['date_build']).dt.days / 365\n",
    "target_df_new['expected_srok_sl_y'].plot.hist(bins=50, range=(18, 36))"
   ]
  },
  {
   "cell_type": "code",
   "execution_count": null,
   "id": "76d7c67b125365e9",
   "metadata": {
    "collapsed": false,
    "ExecuteTime": {
     "start_time": "2023-11-11T16:31:51.050796469Z"
    }
   },
   "outputs": [],
   "source": [
    "target_df_new['expected_srok_sl_y_b'] = target_df_new['expected_srok_sl_y'].apply(lambda x: \"short\" if x <= 27.5 else \"long\")\n",
    "target_df_new['expected_srok_sl_y_b'].value_counts()"
   ]
  },
  {
   "cell_type": "code",
   "execution_count": null,
   "id": "cf9b60edd4a58529",
   "metadata": {
    "collapsed": false,
    "ExecuteTime": {
     "start_time": "2023-11-11T16:31:51.050892570Z"
    }
   },
   "outputs": [],
   "source": [
    "target_df_new['date_build_b'] = pd.cut(target_df_new['date_build'].dt.year, bins=[0, 2000, 2007, 2017, 2030])\n",
    "target_df_new['date_build_b'].value_counts()"
   ]
  },
  {
   "cell_type": "code",
   "execution_count": null,
   "id": "74388824",
   "metadata": {
    "ExecuteTime": {
     "start_time": "2023-11-11T16:31:51.050991117Z"
    }
   },
   "outputs": [],
   "source": []
  },
  {
   "cell_type": "code",
   "execution_count": null,
   "id": "e67b9f6f",
   "metadata": {
    "ExecuteTime": {
     "start_time": "2023-11-11T16:31:51.051092666Z"
    }
   },
   "outputs": [],
   "source": []
  },
  {
   "cell_type": "code",
   "execution_count": null,
   "id": "253fadd1",
   "metadata": {
    "ExecuteTime": {
     "start_time": "2023-11-11T16:31:51.051347447Z"
    }
   },
   "outputs": [],
   "source": [
    "target_df_new.to_csv(path_train + '/data/first_3_tables.csv', index=False)"
   ]
  }
 ],
 "metadata": {
  "kernelspec": {
   "display_name": "Python 3",
   "language": "python",
   "name": "python3"
  },
  "language_info": {
   "codemirror_mode": {
    "name": "ipython",
    "version": 3
   },
   "file_extension": ".py",
   "mimetype": "text/x-python",
   "name": "python",
   "nbconvert_exporter": "python",
   "pygments_lexer": "ipython3",
   "version": "3.11.5"
  }
 },
 "nbformat": 4,
 "nbformat_minor": 5
}
