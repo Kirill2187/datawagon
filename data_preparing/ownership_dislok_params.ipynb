{
 "cells": [
  {
   "cell_type": "code",
   "execution_count": 1,
   "id": "initial_id",
   "metadata": {
    "collapsed": true,
    "ExecuteTime": {
     "end_time": "2023-11-11T00:34:55.710147820Z",
     "start_time": "2023-11-11T00:34:55.661644614Z"
    }
   },
   "outputs": [],
   "source": [
    "import pandas as pd\n",
    "import numpy as np\n",
    "import matplotlib.pyplot as plt\n",
    "import seaborn as sns\n",
    "import os\n",
    "from tqdm.notebook import tqdm\n",
    "\n",
    "from train.metrics_f1 import calc_f1_score"
   ]
  },
  {
   "cell_type": "code",
   "execution_count": 2,
   "outputs": [],
   "source": [
    "path_train = r\"../train/\""
   ],
   "metadata": {
    "collapsed": false,
    "ExecuteTime": {
     "end_time": "2023-11-11T00:34:55.718260402Z",
     "start_time": "2023-11-11T00:34:55.664898765Z"
    }
   },
   "id": "adde4964e4995e02"
  },
  {
   "cell_type": "code",
   "execution_count": 3,
   "outputs": [],
   "source": [
    "dislok = pd.read_parquet(path_train + '/dislok_wagons.parquet').convert_dtypes()\n",
    "wag_prob = pd.read_parquet(path_train + '/wagons_probeg_ownersip.parquet').convert_dtypes()\n",
    "wag_param = pd.read_parquet(path_train + '/wag_params.parquet').convert_dtypes()\n",
    "target_df = pd.read_csv(path_train +'/target/y_train.csv').convert_dtypes()"
   ],
   "metadata": {
    "collapsed": false,
    "ExecuteTime": {
     "end_time": "2023-11-11T00:35:00.019000988Z",
     "start_time": "2023-11-11T00:34:55.665724631Z"
    }
   },
   "id": "7aceb6de95aab3c6"
  },
  {
   "cell_type": "code",
   "execution_count": 4,
   "outputs": [
    {
     "data": {
      "text/plain": "        wagnum      month  target_month  target_day\n202293    8956 2022-12-01             0           0\n123319   30766 2022-10-01             0           0\n169551   23505 2022-11-01             0           0\n112103   10429 2022-10-01             0           0\n182765    8707 2022-12-01             0           0",
      "text/html": "<div>\n<style scoped>\n    .dataframe tbody tr th:only-of-type {\n        vertical-align: middle;\n    }\n\n    .dataframe tbody tr th {\n        vertical-align: top;\n    }\n\n    .dataframe thead th {\n        text-align: right;\n    }\n</style>\n<table border=\"1\" class=\"dataframe\">\n  <thead>\n    <tr style=\"text-align: right;\">\n      <th></th>\n      <th>wagnum</th>\n      <th>month</th>\n      <th>target_month</th>\n      <th>target_day</th>\n    </tr>\n  </thead>\n  <tbody>\n    <tr>\n      <th>202293</th>\n      <td>8956</td>\n      <td>2022-12-01</td>\n      <td>0</td>\n      <td>0</td>\n    </tr>\n    <tr>\n      <th>123319</th>\n      <td>30766</td>\n      <td>2022-10-01</td>\n      <td>0</td>\n      <td>0</td>\n    </tr>\n    <tr>\n      <th>169551</th>\n      <td>23505</td>\n      <td>2022-11-01</td>\n      <td>0</td>\n      <td>0</td>\n    </tr>\n    <tr>\n      <th>112103</th>\n      <td>10429</td>\n      <td>2022-10-01</td>\n      <td>0</td>\n      <td>0</td>\n    </tr>\n    <tr>\n      <th>182765</th>\n      <td>8707</td>\n      <td>2022-12-01</td>\n      <td>0</td>\n      <td>0</td>\n    </tr>\n  </tbody>\n</table>\n</div>"
     },
     "execution_count": 4,
     "metadata": {},
     "output_type": "execute_result"
    }
   ],
   "source": [
    "target_df['month'] = pd.to_datetime(target_df['month'])\n",
    "target_df.sample(5)"
   ],
   "metadata": {
    "collapsed": false,
    "ExecuteTime": {
     "end_time": "2023-11-11T00:35:00.115059733Z",
     "start_time": "2023-11-11T00:35:00.020754715Z"
    }
   },
   "id": "fe67d357ae99b4cf"
  },
  {
   "cell_type": "code",
   "execution_count": 5,
   "outputs": [
    {
     "data": {
      "text/plain": "0.0510220600138335"
     },
     "execution_count": 5,
     "metadata": {},
     "output_type": "execute_result"
    }
   ],
   "source": [
    "target_df.target_month.mean()"
   ],
   "metadata": {
    "collapsed": false,
    "ExecuteTime": {
     "end_time": "2023-11-11T00:35:00.117192682Z",
     "start_time": "2023-11-11T00:35:00.085287540Z"
    }
   },
   "id": "cf6f140435731fb2"
  },
  {
   "cell_type": "markdown",
   "source": [
    "### Дислокация вагонов - сбор данных"
   ],
   "metadata": {
    "collapsed": false
   },
   "id": "b9d76297079861fa"
  },
  {
   "cell_type": "code",
   "execution_count": 6,
   "outputs": [
    {
     "data": {
      "text/plain": "Index(['plan_date', 'wagnum', 'date_kap', 'date_dep', 'kod_vrab',\n       'date_pl_rem', 'id_road_disl', 'st_id_dest', 'id_road_dest',\n       'st_id_send', 'id_road_send', 'ost_prob', 'isload', 'fr_id',\n       'last_fr_id', 'distance'],\n      dtype='object')"
     },
     "execution_count": 6,
     "metadata": {},
     "output_type": "execute_result"
    }
   ],
   "source": [
    "dislok.columns"
   ],
   "metadata": {
    "collapsed": false,
    "ExecuteTime": {
     "end_time": "2023-11-11T00:35:00.153243593Z",
     "start_time": "2023-11-11T00:35:00.099012352Z"
    }
   },
   "id": "59bdd3736ffca595"
  },
  {
   "cell_type": "code",
   "execution_count": 7,
   "outputs": [
    {
     "data": {
      "text/plain": "0"
     },
     "execution_count": 7,
     "metadata": {},
     "output_type": "execute_result"
    }
   ],
   "source": [
    "import gc\n",
    "gc.collect()"
   ],
   "metadata": {
    "collapsed": false,
    "ExecuteTime": {
     "end_time": "2023-11-11T00:35:00.463270091Z",
     "start_time": "2023-11-11T00:35:00.186374487Z"
    }
   },
   "id": "a98ef33de5a64d63"
  },
  {
   "cell_type": "code",
   "execution_count": 8,
   "outputs": [],
   "source": [
    "dislok['days_to_pl_rem'] = (dislok['date_pl_rem'] - dislok['plan_date']).dt.days\n",
    "dislok['another_road'] = dislok['id_road_dest'] != dislok['id_road_send']\n",
    "dislok['last_rem_date'] = dislok[['date_kap', 'date_dep']].max(axis=1)\n",
    "dislok['days_from_last_rem'] = (dislok['plan_date'] - dislok['last_rem_date']).dt.days"
   ],
   "metadata": {
    "collapsed": false,
    "ExecuteTime": {
     "end_time": "2023-11-11T00:35:03.229348251Z",
     "start_time": "2023-11-11T00:35:00.201131080Z"
    }
   },
   "id": "b64af81c4a013c8d"
  },
  {
   "cell_type": "code",
   "execution_count": 9,
   "outputs": [
    {
     "data": {
      "text/plain": "  0%|          | 0/33977 [00:00<?, ?it/s]",
      "application/vnd.jupyter.widget-view+json": {
       "version_major": 2,
       "version_minor": 0,
       "model_id": "2a8f00e0192441fca8ba301f86a66f46"
      }
     },
     "metadata": {},
     "output_type": "display_data"
    },
    {
     "data": {
      "text/plain": "plan_date             datetime64[us]\nwagnum                         Int64\ndate_kap              datetime64[us]\ndate_dep              datetime64[us]\nkod_vrab                       Int64\ndate_pl_rem           datetime64[us]\nid_road_disl                   Int64\nst_id_dest                     Int64\nid_road_dest                   Int64\nst_id_send                     Int64\nid_road_send                   Int64\nost_prob                       Int64\nisload                         Int64\nfr_id                          Int64\nlast_fr_id                     Int64\ndistance                       Int64\ndays_to_pl_rem                 int64\nanother_road                 boolean\nlast_rem_date         datetime64[us]\ndays_from_last_rem           float64\ndtype: object"
     },
     "execution_count": 9,
     "metadata": {},
     "output_type": "execute_result"
    }
   ],
   "source": [
    "wagnum_subtables = {wagnum: table.sort_values(by='plan_date') for wagnum, table in tqdm(dislok.groupby('wagnum'))}\n",
    "\n",
    "wagnum_subtables[0].dtypes"
   ],
   "metadata": {
    "collapsed": false,
    "ExecuteTime": {
     "end_time": "2023-11-11T00:35:44.890752825Z",
     "start_time": "2023-11-11T00:35:03.224465333Z"
    }
   },
   "id": "3bd3b5d36ac660bc"
  },
  {
   "cell_type": "code",
   "execution_count": 10,
   "outputs": [
    {
     "data": {
      "text/plain": "  0%|          | 0/33977 [00:00<?, ?it/s]",
      "application/vnd.jupyter.widget-view+json": {
       "version_major": 2,
       "version_minor": 0,
       "model_id": "55681b9bfc434d898bdc59060fa32eb8"
      }
     },
     "metadata": {},
     "output_type": "display_data"
    }
   ],
   "source": [
    "from itertools import product\n",
    "\n",
    "intervals = [pd.DateOffset(days=10), pd.DateOffset(days=30), pd.DateOffset(days=90)]\n",
    "functions = {\"isload\": ['mean']}\n",
    "take_last_cols = ['date_kap', 'date_dep', 'kod_vrab', 'date_pl_rem', 'days_to_pl_rem', 'last_rem_date', 'days_from_last_rem', 'ost_prob']\n",
    "rolling_cols = set()\n",
    "\n",
    "\n",
    "for wagnum, table in tqdm(wagnum_subtables.items()):\n",
    "    for interval in intervals:\n",
    "        for col, func_list in functions.items():\n",
    "            for func in func_list:\n",
    "                table[f\"{interval.days}d_{col}_{func}\"] = getattr(table[col].rolling(interval.days), func)(engine='numba')\n",
    "                rolling_cols.add(f\"{interval.days}d_{col}_{func}\")"
   ],
   "metadata": {
    "collapsed": false,
    "ExecuteTime": {
     "end_time": "2023-11-11T00:36:27.337380756Z",
     "start_time": "2023-11-11T00:35:44.864986239Z"
    }
   },
   "id": "4de0c6c9f39114f8"
  },
  {
   "cell_type": "code",
   "execution_count": 14,
   "outputs": [
    {
     "data": {
      "text/plain": "  0%|          | 0/33977 [00:00<?, ?it/s]",
      "application/vnd.jupyter.widget-view+json": {
       "version_major": 2,
       "version_minor": 0,
       "model_id": "daab636b223c474f9c9bd06c27e2ff13"
      }
     },
     "metadata": {},
     "output_type": "display_data"
    },
    {
     "ename": "ValueError",
     "evalue": "NumPy boolean array indexing assignment cannot assign 4 input values to the 6 output values where the mask is true",
     "output_type": "error",
     "traceback": [
      "\u001B[0;31m---------------------------------------------------------------------------\u001B[0m",
      "\u001B[0;31mValueError\u001B[0m                                Traceback (most recent call last)",
      "File \u001B[0;32m~/Programming/MLvenv/lib/python3.11/site-packages/pandas/core/internals/blocks.py:1622\u001B[0m, in \u001B[0;36mEABackedBlock.setitem\u001B[0;34m(self, indexer, value, using_cow)\u001B[0m\n\u001B[1;32m   1621\u001B[0m \u001B[38;5;28;01mtry\u001B[39;00m:\n\u001B[0;32m-> 1622\u001B[0m     \u001B[43mvalues\u001B[49m\u001B[43m[\u001B[49m\u001B[43mindexer\u001B[49m\u001B[43m]\u001B[49m \u001B[38;5;241m=\u001B[39m value\n\u001B[1;32m   1623\u001B[0m \u001B[38;5;28;01mexcept\u001B[39;00m (\u001B[38;5;167;01mValueError\u001B[39;00m, \u001B[38;5;167;01mTypeError\u001B[39;00m) \u001B[38;5;28;01mas\u001B[39;00m err:\n",
      "File \u001B[0;32m~/Programming/MLvenv/lib/python3.11/site-packages/pandas/core/arrays/datetimelike.py:425\u001B[0m, in \u001B[0;36mDatetimeLikeArrayMixin.__setitem__\u001B[0;34m(self, key, value)\u001B[0m\n\u001B[1;32m    423\u001B[0m \u001B[38;5;66;03m# Calling super() before the no_op short-circuit means that we raise\u001B[39;00m\n\u001B[1;32m    424\u001B[0m \u001B[38;5;66;03m#  on invalid 'value' even if this is a no-op, e.g. wrong-dtype empty array.\u001B[39;00m\n\u001B[0;32m--> 425\u001B[0m \u001B[38;5;28;43msuper\u001B[39;49m\u001B[43m(\u001B[49m\u001B[43m)\u001B[49m\u001B[38;5;241;43m.\u001B[39;49m\u001B[38;5;21;43m__setitem__\u001B[39;49m\u001B[43m(\u001B[49m\u001B[43mkey\u001B[49m\u001B[43m,\u001B[49m\u001B[43m \u001B[49m\u001B[43mvalue\u001B[49m\u001B[43m)\u001B[49m\n\u001B[1;32m    427\u001B[0m \u001B[38;5;28;01mif\u001B[39;00m no_op:\n",
      "File \u001B[0;32m~/Programming/MLvenv/lib/python3.11/site-packages/pandas/core/arrays/_mixins.py:250\u001B[0m, in \u001B[0;36mNDArrayBackedExtensionArray.__setitem__\u001B[0;34m(self, key, value)\u001B[0m\n\u001B[1;32m    249\u001B[0m value \u001B[38;5;241m=\u001B[39m \u001B[38;5;28mself\u001B[39m\u001B[38;5;241m.\u001B[39m_validate_setitem_value(value)\n\u001B[0;32m--> 250\u001B[0m \u001B[38;5;28;43mself\u001B[39;49m\u001B[38;5;241;43m.\u001B[39;49m\u001B[43m_ndarray\u001B[49m\u001B[43m[\u001B[49m\u001B[43mkey\u001B[49m\u001B[43m]\u001B[49m \u001B[38;5;241m=\u001B[39m value\n",
      "\u001B[0;31mValueError\u001B[0m: NumPy boolean array indexing assignment cannot assign 4 input values to the 6 output values where the mask is true",
      "\nDuring handling of the above exception, another exception occurred:\n",
      "\u001B[0;31mValueError\u001B[0m                                Traceback (most recent call last)",
      "Cell \u001B[0;32mIn[14], line 8\u001B[0m\n\u001B[1;32m      6\u001B[0m dates \u001B[38;5;241m=\u001B[39m target_df[target_df[\u001B[38;5;124m'\u001B[39m\u001B[38;5;124mwagnum\u001B[39m\u001B[38;5;124m'\u001B[39m] \u001B[38;5;241m==\u001B[39m wagnum][\u001B[38;5;124m'\u001B[39m\u001B[38;5;124mmonth\u001B[39m\u001B[38;5;124m'\u001B[39m]\n\u001B[1;32m      7\u001B[0m table \u001B[38;5;241m=\u001B[39m wagnum_subtables[wagnum]\n\u001B[0;32m----> 8\u001B[0m \u001B[43mtarget_df\u001B[49m\u001B[38;5;241;43m.\u001B[39;49m\u001B[43mloc\u001B[49m\u001B[43m[\u001B[49m\u001B[43mtarget_df\u001B[49m\u001B[43m[\u001B[49m\u001B[38;5;124;43m'\u001B[39;49m\u001B[38;5;124;43mwagnum\u001B[39;49m\u001B[38;5;124;43m'\u001B[39;49m\u001B[43m]\u001B[49m\u001B[43m \u001B[49m\u001B[38;5;241;43m==\u001B[39;49m\u001B[43m \u001B[49m\u001B[43mwagnum\u001B[49m\u001B[43m,\u001B[49m\u001B[43m \u001B[49m\u001B[43mcols\u001B[49m\u001B[43m]\u001B[49m \u001B[38;5;241m=\u001B[39m table[table[\u001B[38;5;124m'\u001B[39m\u001B[38;5;124mplan_date\u001B[39m\u001B[38;5;124m'\u001B[39m]\u001B[38;5;241m.\u001B[39misin(dates)][cols]\u001B[38;5;241m.\u001B[39mvalues\n",
      "File \u001B[0;32m~/Programming/MLvenv/lib/python3.11/site-packages/pandas/core/indexing.py:849\u001B[0m, in \u001B[0;36m_LocationIndexer.__setitem__\u001B[0;34m(self, key, value)\u001B[0m\n\u001B[1;32m    846\u001B[0m \u001B[38;5;28mself\u001B[39m\u001B[38;5;241m.\u001B[39m_has_valid_setitem_indexer(key)\n\u001B[1;32m    848\u001B[0m iloc \u001B[38;5;241m=\u001B[39m \u001B[38;5;28mself\u001B[39m \u001B[38;5;28;01mif\u001B[39;00m \u001B[38;5;28mself\u001B[39m\u001B[38;5;241m.\u001B[39mname \u001B[38;5;241m==\u001B[39m \u001B[38;5;124m\"\u001B[39m\u001B[38;5;124miloc\u001B[39m\u001B[38;5;124m\"\u001B[39m \u001B[38;5;28;01melse\u001B[39;00m \u001B[38;5;28mself\u001B[39m\u001B[38;5;241m.\u001B[39mobj\u001B[38;5;241m.\u001B[39miloc\n\u001B[0;32m--> 849\u001B[0m \u001B[43miloc\u001B[49m\u001B[38;5;241;43m.\u001B[39;49m\u001B[43m_setitem_with_indexer\u001B[49m\u001B[43m(\u001B[49m\u001B[43mindexer\u001B[49m\u001B[43m,\u001B[49m\u001B[43m \u001B[49m\u001B[43mvalue\u001B[49m\u001B[43m,\u001B[49m\u001B[43m \u001B[49m\u001B[38;5;28;43mself\u001B[39;49m\u001B[38;5;241;43m.\u001B[39;49m\u001B[43mname\u001B[49m\u001B[43m)\u001B[49m\n",
      "File \u001B[0;32m~/Programming/MLvenv/lib/python3.11/site-packages/pandas/core/indexing.py:1835\u001B[0m, in \u001B[0;36m_iLocIndexer._setitem_with_indexer\u001B[0;34m(self, indexer, value, name)\u001B[0m\n\u001B[1;32m   1832\u001B[0m \u001B[38;5;66;03m# align and set the values\u001B[39;00m\n\u001B[1;32m   1833\u001B[0m \u001B[38;5;28;01mif\u001B[39;00m take_split_path:\n\u001B[1;32m   1834\u001B[0m     \u001B[38;5;66;03m# We have to operate column-wise\u001B[39;00m\n\u001B[0;32m-> 1835\u001B[0m     \u001B[38;5;28;43mself\u001B[39;49m\u001B[38;5;241;43m.\u001B[39;49m\u001B[43m_setitem_with_indexer_split_path\u001B[49m\u001B[43m(\u001B[49m\u001B[43mindexer\u001B[49m\u001B[43m,\u001B[49m\u001B[43m \u001B[49m\u001B[43mvalue\u001B[49m\u001B[43m,\u001B[49m\u001B[43m \u001B[49m\u001B[43mname\u001B[49m\u001B[43m)\u001B[49m\n\u001B[1;32m   1836\u001B[0m \u001B[38;5;28;01melse\u001B[39;00m:\n\u001B[1;32m   1837\u001B[0m     \u001B[38;5;28mself\u001B[39m\u001B[38;5;241m.\u001B[39m_setitem_single_block(indexer, value, name)\n",
      "File \u001B[0;32m~/Programming/MLvenv/lib/python3.11/site-packages/pandas/core/indexing.py:1875\u001B[0m, in \u001B[0;36m_iLocIndexer._setitem_with_indexer_split_path\u001B[0;34m(self, indexer, value, name)\u001B[0m\n\u001B[1;32m   1870\u001B[0m     \u001B[38;5;28mself\u001B[39m\u001B[38;5;241m.\u001B[39m_setitem_with_indexer_frame_value(indexer, value, name)\n\u001B[1;32m   1872\u001B[0m \u001B[38;5;28;01melif\u001B[39;00m np\u001B[38;5;241m.\u001B[39mndim(value) \u001B[38;5;241m==\u001B[39m \u001B[38;5;241m2\u001B[39m:\n\u001B[1;32m   1873\u001B[0m     \u001B[38;5;66;03m# TODO: avoid np.ndim call in case it isn't an ndarray, since\u001B[39;00m\n\u001B[1;32m   1874\u001B[0m     \u001B[38;5;66;03m#  that will construct an ndarray, which will be wasteful\u001B[39;00m\n\u001B[0;32m-> 1875\u001B[0m     \u001B[38;5;28;43mself\u001B[39;49m\u001B[38;5;241;43m.\u001B[39;49m\u001B[43m_setitem_with_indexer_2d_value\u001B[49m\u001B[43m(\u001B[49m\u001B[43mindexer\u001B[49m\u001B[43m,\u001B[49m\u001B[43m \u001B[49m\u001B[43mvalue\u001B[49m\u001B[43m)\u001B[49m\n\u001B[1;32m   1877\u001B[0m \u001B[38;5;28;01melif\u001B[39;00m \u001B[38;5;28mlen\u001B[39m(ilocs) \u001B[38;5;241m==\u001B[39m \u001B[38;5;241m1\u001B[39m \u001B[38;5;129;01mand\u001B[39;00m lplane_indexer \u001B[38;5;241m==\u001B[39m \u001B[38;5;28mlen\u001B[39m(value) \u001B[38;5;129;01mand\u001B[39;00m \u001B[38;5;129;01mnot\u001B[39;00m is_scalar(pi):\n\u001B[1;32m   1878\u001B[0m     \u001B[38;5;66;03m# We are setting multiple rows in a single column.\u001B[39;00m\n\u001B[1;32m   1879\u001B[0m     \u001B[38;5;28mself\u001B[39m\u001B[38;5;241m.\u001B[39m_setitem_single_column(ilocs[\u001B[38;5;241m0\u001B[39m], value, pi)\n",
      "File \u001B[0;32m~/Programming/MLvenv/lib/python3.11/site-packages/pandas/core/indexing.py:1950\u001B[0m, in \u001B[0;36m_iLocIndexer._setitem_with_indexer_2d_value\u001B[0;34m(self, indexer, value)\u001B[0m\n\u001B[1;32m   1947\u001B[0m \u001B[38;5;28;01mif\u001B[39;00m is_object_dtype(value_col\u001B[38;5;241m.\u001B[39mdtype):\n\u001B[1;32m   1948\u001B[0m     \u001B[38;5;66;03m# casting to list so that we do type inference in setitem_single_column\u001B[39;00m\n\u001B[1;32m   1949\u001B[0m     value_col \u001B[38;5;241m=\u001B[39m value_col\u001B[38;5;241m.\u001B[39mtolist()\n\u001B[0;32m-> 1950\u001B[0m \u001B[38;5;28;43mself\u001B[39;49m\u001B[38;5;241;43m.\u001B[39;49m\u001B[43m_setitem_single_column\u001B[49m\u001B[43m(\u001B[49m\u001B[43mloc\u001B[49m\u001B[43m,\u001B[49m\u001B[43m \u001B[49m\u001B[43mvalue_col\u001B[49m\u001B[43m,\u001B[49m\u001B[43m \u001B[49m\u001B[43mpi\u001B[49m\u001B[43m)\u001B[49m\n",
      "File \u001B[0;32m~/Programming/MLvenv/lib/python3.11/site-packages/pandas/core/indexing.py:2034\u001B[0m, in \u001B[0;36m_iLocIndexer._setitem_single_column\u001B[0;34m(self, loc, value, plane_indexer)\u001B[0m\n\u001B[1;32m   2030\u001B[0m         \u001B[38;5;28mself\u001B[39m\u001B[38;5;241m.\u001B[39mobj\u001B[38;5;241m.\u001B[39misetitem(loc, value)\n\u001B[1;32m   2031\u001B[0m \u001B[38;5;28;01melse\u001B[39;00m:\n\u001B[1;32m   2032\u001B[0m     \u001B[38;5;66;03m# set value into the column (first attempting to operate inplace, then\u001B[39;00m\n\u001B[1;32m   2033\u001B[0m     \u001B[38;5;66;03m#  falling back to casting if necessary)\u001B[39;00m\n\u001B[0;32m-> 2034\u001B[0m     \u001B[38;5;28;43mself\u001B[39;49m\u001B[38;5;241;43m.\u001B[39;49m\u001B[43mobj\u001B[49m\u001B[38;5;241;43m.\u001B[39;49m\u001B[43m_mgr\u001B[49m\u001B[38;5;241;43m.\u001B[39;49m\u001B[43mcolumn_setitem\u001B[49m\u001B[43m(\u001B[49m\u001B[43mloc\u001B[49m\u001B[43m,\u001B[49m\u001B[43m \u001B[49m\u001B[43mplane_indexer\u001B[49m\u001B[43m,\u001B[49m\u001B[43m \u001B[49m\u001B[43mvalue\u001B[49m\u001B[43m)\u001B[49m\n\u001B[1;32m   2036\u001B[0m \u001B[38;5;28mself\u001B[39m\u001B[38;5;241m.\u001B[39mobj\u001B[38;5;241m.\u001B[39m_clear_item_cache()\n",
      "File \u001B[0;32m~/Programming/MLvenv/lib/python3.11/site-packages/pandas/core/internals/managers.py:1384\u001B[0m, in \u001B[0;36mBlockManager.column_setitem\u001B[0;34m(self, loc, idx, value, inplace_only)\u001B[0m\n\u001B[1;32m   1382\u001B[0m     col_mgr\u001B[38;5;241m.\u001B[39msetitem_inplace(idx, value)\n\u001B[1;32m   1383\u001B[0m \u001B[38;5;28;01melse\u001B[39;00m:\n\u001B[0;32m-> 1384\u001B[0m     new_mgr \u001B[38;5;241m=\u001B[39m \u001B[43mcol_mgr\u001B[49m\u001B[38;5;241;43m.\u001B[39;49m\u001B[43msetitem\u001B[49m\u001B[43m(\u001B[49m\u001B[43m(\u001B[49m\u001B[43midx\u001B[49m\u001B[43m,\u001B[49m\u001B[43m)\u001B[49m\u001B[43m,\u001B[49m\u001B[43m \u001B[49m\u001B[43mvalue\u001B[49m\u001B[43m)\u001B[49m\n\u001B[1;32m   1385\u001B[0m     \u001B[38;5;28mself\u001B[39m\u001B[38;5;241m.\u001B[39miset(loc, new_mgr\u001B[38;5;241m.\u001B[39m_block\u001B[38;5;241m.\u001B[39mvalues, inplace\u001B[38;5;241m=\u001B[39m\u001B[38;5;28;01mTrue\u001B[39;00m)\n",
      "File \u001B[0;32m~/Programming/MLvenv/lib/python3.11/site-packages/pandas/core/internals/managers.py:394\u001B[0m, in \u001B[0;36mBaseBlockManager.setitem\u001B[0;34m(self, indexer, value)\u001B[0m\n\u001B[1;32m    389\u001B[0m \u001B[38;5;28;01mif\u001B[39;00m using_copy_on_write() \u001B[38;5;129;01mand\u001B[39;00m \u001B[38;5;129;01mnot\u001B[39;00m \u001B[38;5;28mself\u001B[39m\u001B[38;5;241m.\u001B[39m_has_no_reference(\u001B[38;5;241m0\u001B[39m):\n\u001B[1;32m    390\u001B[0m     \u001B[38;5;66;03m# if being referenced -> perform Copy-on-Write and clear the reference\u001B[39;00m\n\u001B[1;32m    391\u001B[0m     \u001B[38;5;66;03m# this method is only called if there is a single block -> hardcoded 0\u001B[39;00m\n\u001B[1;32m    392\u001B[0m     \u001B[38;5;28mself\u001B[39m \u001B[38;5;241m=\u001B[39m \u001B[38;5;28mself\u001B[39m\u001B[38;5;241m.\u001B[39mcopy()\n\u001B[0;32m--> 394\u001B[0m \u001B[38;5;28;01mreturn\u001B[39;00m \u001B[38;5;28;43mself\u001B[39;49m\u001B[38;5;241;43m.\u001B[39;49m\u001B[43mapply\u001B[49m\u001B[43m(\u001B[49m\u001B[38;5;124;43m\"\u001B[39;49m\u001B[38;5;124;43msetitem\u001B[39;49m\u001B[38;5;124;43m\"\u001B[39;49m\u001B[43m,\u001B[49m\u001B[43m \u001B[49m\u001B[43mindexer\u001B[49m\u001B[38;5;241;43m=\u001B[39;49m\u001B[43mindexer\u001B[49m\u001B[43m,\u001B[49m\u001B[43m \u001B[49m\u001B[43mvalue\u001B[49m\u001B[38;5;241;43m=\u001B[39;49m\u001B[43mvalue\u001B[49m\u001B[43m)\u001B[49m\n",
      "File \u001B[0;32m~/Programming/MLvenv/lib/python3.11/site-packages/pandas/core/internals/managers.py:352\u001B[0m, in \u001B[0;36mBaseBlockManager.apply\u001B[0;34m(self, f, align_keys, **kwargs)\u001B[0m\n\u001B[1;32m    350\u001B[0m         applied \u001B[38;5;241m=\u001B[39m b\u001B[38;5;241m.\u001B[39mapply(f, \u001B[38;5;241m*\u001B[39m\u001B[38;5;241m*\u001B[39mkwargs)\n\u001B[1;32m    351\u001B[0m     \u001B[38;5;28;01melse\u001B[39;00m:\n\u001B[0;32m--> 352\u001B[0m         applied \u001B[38;5;241m=\u001B[39m \u001B[38;5;28;43mgetattr\u001B[39;49m\u001B[43m(\u001B[49m\u001B[43mb\u001B[49m\u001B[43m,\u001B[49m\u001B[43m \u001B[49m\u001B[43mf\u001B[49m\u001B[43m)\u001B[49m\u001B[43m(\u001B[49m\u001B[38;5;241;43m*\u001B[39;49m\u001B[38;5;241;43m*\u001B[39;49m\u001B[43mkwargs\u001B[49m\u001B[43m)\u001B[49m\n\u001B[1;32m    353\u001B[0m     result_blocks \u001B[38;5;241m=\u001B[39m extend_blocks(applied, result_blocks)\n\u001B[1;32m    355\u001B[0m out \u001B[38;5;241m=\u001B[39m \u001B[38;5;28mtype\u001B[39m(\u001B[38;5;28mself\u001B[39m)\u001B[38;5;241m.\u001B[39mfrom_blocks(result_blocks, \u001B[38;5;28mself\u001B[39m\u001B[38;5;241m.\u001B[39maxes)\n",
      "File \u001B[0;32m~/Programming/MLvenv/lib/python3.11/site-packages/pandas/core/internals/blocks.py:1633\u001B[0m, in \u001B[0;36mEABackedBlock.setitem\u001B[0;34m(self, indexer, value, using_cow)\u001B[0m\n\u001B[1;32m   1631\u001B[0m \u001B[38;5;28;01melif\u001B[39;00m \u001B[38;5;28misinstance\u001B[39m(\u001B[38;5;28mself\u001B[39m, NDArrayBackedExtensionBlock):\n\u001B[1;32m   1632\u001B[0m     nb \u001B[38;5;241m=\u001B[39m \u001B[38;5;28mself\u001B[39m\u001B[38;5;241m.\u001B[39mcoerce_to_target_dtype(orig_value)\n\u001B[0;32m-> 1633\u001B[0m     \u001B[38;5;28;01mreturn\u001B[39;00m \u001B[43mnb\u001B[49m\u001B[38;5;241;43m.\u001B[39;49m\u001B[43msetitem\u001B[49m\u001B[43m(\u001B[49m\u001B[43morig_indexer\u001B[49m\u001B[43m,\u001B[49m\u001B[43m \u001B[49m\u001B[43morig_value\u001B[49m\u001B[43m)\u001B[49m\n\u001B[1;32m   1635\u001B[0m \u001B[38;5;28;01melse\u001B[39;00m:\n\u001B[1;32m   1636\u001B[0m     \u001B[38;5;28;01mraise\u001B[39;00m\n",
      "File \u001B[0;32m~/Programming/MLvenv/lib/python3.11/site-packages/pandas/core/internals/blocks.py:1067\u001B[0m, in \u001B[0;36mBlock.setitem\u001B[0;34m(self, indexer, value, using_cow)\u001B[0m\n\u001B[1;32m   1064\u001B[0m     \u001B[38;5;28;01mif\u001B[39;00m \u001B[38;5;28misinstance\u001B[39m(casted, np\u001B[38;5;241m.\u001B[39mndarray) \u001B[38;5;129;01mand\u001B[39;00m casted\u001B[38;5;241m.\u001B[39mndim \u001B[38;5;241m==\u001B[39m \u001B[38;5;241m1\u001B[39m \u001B[38;5;129;01mand\u001B[39;00m \u001B[38;5;28mlen\u001B[39m(casted) \u001B[38;5;241m==\u001B[39m \u001B[38;5;241m1\u001B[39m:\n\u001B[1;32m   1065\u001B[0m         \u001B[38;5;66;03m# NumPy 1.25 deprecation: https://github.com/numpy/numpy/pull/10615\u001B[39;00m\n\u001B[1;32m   1066\u001B[0m         casted \u001B[38;5;241m=\u001B[39m casted[\u001B[38;5;241m0\u001B[39m, \u001B[38;5;241m.\u001B[39m\u001B[38;5;241m.\u001B[39m\u001B[38;5;241m.\u001B[39m]\n\u001B[0;32m-> 1067\u001B[0m     \u001B[43mvalues\u001B[49m\u001B[43m[\u001B[49m\u001B[43mindexer\u001B[49m\u001B[43m]\u001B[49m \u001B[38;5;241m=\u001B[39m casted\n\u001B[1;32m   1068\u001B[0m \u001B[38;5;28;01mreturn\u001B[39;00m \u001B[38;5;28mself\u001B[39m\n",
      "\u001B[0;31mValueError\u001B[0m: NumPy boolean array indexing assignment cannot assign 4 input values to the 6 output values where the mask is true"
     ]
    }
   ],
   "source": [
    "target_df.sort_values(by=['month', 'wagnum'], inplace=True)\n",
    "\n",
    "cols = take_last_cols + list(rolling_cols)\n",
    "\n",
    "for wagnum in tqdm(wagnum_subtables.keys()):\n",
    "    dates = target_df[target_df['wagnum'] == wagnum]['month']\n",
    "    table = wagnum_subtables[wagnum]\n",
    "    target_df.loc[target_df['wagnum'] == wagnum, cols] = table[table['plan_date'].isin(dates)][cols].values\n",
    "    "
   ],
   "metadata": {
    "collapsed": false,
    "ExecuteTime": {
     "end_time": "2023-11-11T00:41:17.696184867Z",
     "start_time": "2023-11-11T00:40:12.377141853Z"
    }
   },
   "id": "a4afc75c98f1a10a"
  },
  {
   "cell_type": "markdown",
   "source": [
    "### Тип владения вагоном - обзор данных"
   ],
   "metadata": {
    "collapsed": false
   },
   "id": "692e3820bea5da48"
  },
  {
   "cell_type": "code",
   "execution_count": 79,
   "outputs": [
    {
     "data": {
      "text/plain": "Index(['repdate', 'wagnum', 'ost_prob', 'manage_type', 'rod_id',\n       'reestr_state', 'ownership_type', 'month'],\n      dtype='object')"
     },
     "execution_count": 79,
     "metadata": {},
     "output_type": "execute_result"
    }
   ],
   "source": [
    "wag_prob.columns"
   ],
   "metadata": {
    "collapsed": false,
    "ExecuteTime": {
     "end_time": "2023-11-10T21:14:33.593791666Z",
     "start_time": "2023-11-10T21:14:33.569272210Z"
    }
   },
   "id": "6b9c1420831bcb29"
  },
  {
   "cell_type": "code",
   "execution_count": 80,
   "outputs": [
    {
     "data": {
      "text/plain": "repdate\n2022-11-20    33977\n2022-11-19    33977\n2022-11-18    33977\n2022-11-17    33977\n2022-11-16    33977\n              ...  \n2023-01-27    33709\n2023-01-28    33709\n2023-01-29    33709\n2023-01-30    33708\n2023-01-31    33708\nName: count, Length: 184, dtype: int64"
     },
     "execution_count": 80,
     "metadata": {},
     "output_type": "execute_result"
    }
   ],
   "source": [
    "wag_prob.repdate.value_counts()"
   ],
   "metadata": {
    "collapsed": false,
    "ExecuteTime": {
     "end_time": "2023-11-10T21:14:47.681188663Z",
     "start_time": "2023-11-10T21:14:47.674681116Z"
    }
   },
   "id": "4a880bd1bf66efbe"
  },
  {
   "cell_type": "code",
   "execution_count": 84,
   "outputs": [
    {
     "data": {
      "text/plain": "manage_type\n0    5838801\n1     411056\nName: count, dtype: Int64"
     },
     "execution_count": 84,
     "metadata": {},
     "output_type": "execute_result"
    }
   ],
   "source": [
    "wag_prob['manage_type'].value_counts()"
   ],
   "metadata": {
    "collapsed": false,
    "ExecuteTime": {
     "end_time": "2023-11-10T21:16:09.455098540Z",
     "start_time": "2023-11-10T21:16:09.443959849Z"
    }
   },
   "id": "1ba52becd77f8e9b"
  },
  {
   "cell_type": "code",
   "execution_count": 87,
   "outputs": [
    {
     "data": {
      "text/plain": "rod_id\n1    3824207\n0    2425650\nName: count, dtype: Int64"
     },
     "execution_count": 87,
     "metadata": {},
     "output_type": "execute_result"
    }
   ],
   "source": [
    "wag_prob['rod_id'].value_counts()"
   ],
   "metadata": {
    "collapsed": false,
    "ExecuteTime": {
     "end_time": "2023-11-10T21:21:33.775252219Z",
     "start_time": "2023-11-10T21:21:33.706847534Z"
    }
   },
   "id": "3a6dceae8fef62c0"
  },
  {
   "cell_type": "code",
   "execution_count": 90,
   "outputs": [
    {
     "data": {
      "text/plain": "reestr_state\n1    6245239\n2       4320\n0        298\nName: count, dtype: Int64"
     },
     "execution_count": 90,
     "metadata": {},
     "output_type": "execute_result"
    }
   ],
   "source": [
    "wag_prob['reestr_state'].value_counts()"
   ],
   "metadata": {
    "collapsed": false,
    "ExecuteTime": {
     "end_time": "2023-11-10T21:23:04.928209259Z",
     "start_time": "2023-11-10T21:23:04.913977138Z"
    }
   },
   "id": "9ca39c57c8b2ed1"
  },
  {
   "cell_type": "code",
   "execution_count": 92,
   "outputs": [
    {
     "data": {
      "text/plain": "1"
     },
     "execution_count": 92,
     "metadata": {},
     "output_type": "execute_result"
    }
   ],
   "source": [
    "wag_prob['ownership_type'].nunique()"
   ],
   "metadata": {
    "collapsed": false,
    "ExecuteTime": {
     "end_time": "2023-11-10T21:25:06.941397768Z",
     "start_time": "2023-11-10T21:25:06.894087408Z"
    }
   },
   "id": "3abfa1c11ccc1a02"
  },
  {
   "cell_type": "markdown",
   "source": [
    "### Характеристики вагонов - обзор данных"
   ],
   "metadata": {
    "collapsed": false
   },
   "id": "91cdb3592a7cdf00"
  },
  {
   "cell_type": "code",
   "execution_count": 94,
   "outputs": [
    {
     "data": {
      "text/plain": "Index(['wagnum', 'model', 'rod_id', 'gruz', 'cnsi_gruz_capacity',\n       'cnsi_volumek', 'tara', 'date_build', 'srok_sl', 'zavod_build',\n       'date_iskl', 'cnsi_probeg_dr', 'cnsi_probeg_kr', 'kuzov', 'telega',\n       'tormoz', 'tipvozd', 'tippogl', 'norma_km', 'ownertype'],\n      dtype='object')"
     },
     "execution_count": 94,
     "metadata": {},
     "output_type": "execute_result"
    }
   ],
   "source": [
    "wag_param.columns"
   ],
   "metadata": {
    "collapsed": false,
    "ExecuteTime": {
     "end_time": "2023-11-10T21:28:24.107170942Z",
     "start_time": "2023-11-10T21:28:24.053311009Z"
    }
   },
   "id": "53f441a8cf0ba07a"
  },
  {
   "cell_type": "code",
   "execution_count": 95,
   "outputs": [
    {
     "data": {
      "text/plain": "model\n12-132        11659\n12-132-03      4034\n11-286         3359\n11-1807-01     2941\n11-280         1731\n11-2135-01     1711\n11-276         1181\n11-2163         950\n12-1303-01      770\n12-196-02       695\n12-7023-02      686\n11-1807         514\n12-9788-01      475\n12-783          421\n11-9962         379\n12-4102         320\n12-1704-04      310\n12-296-01       282\n11-7038         225\n12-600-05       193\n12-9780         160\n12-9766         138\n12-9790         138\n12-295          100\n12-600-02        63\n12-9085          63\n11-1268          60\n12-196-01        58\n11-270           53\n12-9046          49\n12-1302          40\n12-955           38\n11-280-01        38\n12-600-08        37\n12-600-04        33\n11-264           23\n11-260           19\n12-9745           7\n12-532-02         6\n12-9837           6\n11-066-04         2\n11-217            2\n12-9850-02        1\n12-1000           1\n12-600-07         1\n11-К001           1\n11-066-08         1\n12-753-03         1\nР-9494-01         1\n11-259            1\nName: count, dtype: Int64"
     },
     "execution_count": 95,
     "metadata": {},
     "output_type": "execute_result"
    }
   ],
   "source": [
    "wag_param.model.value_counts()"
   ],
   "metadata": {
    "collapsed": false,
    "ExecuteTime": {
     "end_time": "2023-11-10T21:28:35.224935582Z",
     "start_time": "2023-11-10T21:28:35.210110385Z"
    }
   },
   "id": "a69861eebe7dc29b"
  },
  {
   "cell_type": "code",
   "execution_count": 96,
   "outputs": [
    {
     "data": {
      "text/plain": "ownertype\n0    31354\n1     2623\nName: count, dtype: Int64"
     },
     "execution_count": 96,
     "metadata": {},
     "output_type": "execute_result"
    }
   ],
   "source": [
    "wag_param['ownertype'].value_counts()"
   ],
   "metadata": {
    "collapsed": false,
    "ExecuteTime": {
     "end_time": "2023-11-10T21:35:22.149154475Z",
     "start_time": "2023-11-10T21:35:22.106312579Z"
    }
   },
   "id": "9c497d24e1101816"
  },
  {
   "cell_type": "code",
   "execution_count": 108,
   "outputs": [
    {
     "data": {
      "text/plain": "<Axes: ylabel='Frequency'>"
     },
     "execution_count": 108,
     "metadata": {},
     "output_type": "execute_result"
    },
    {
     "data": {
      "text/plain": "<Figure size 640x480 with 1 Axes>",
      "image/png": "[encoded data removed]"
     },
     "metadata": {},
     "output_type": "display_data"
    }
   ],
   "source": [
    "wag_param['tara'].plot.hist(bins=10, range=(220, 280))"
   ],
   "metadata": {
    "collapsed": false,
    "ExecuteTime": {
     "end_time": "2023-11-10T21:38:32.449421260Z",
     "start_time": "2023-11-10T21:38:32.172762147Z"
    }
   },
   "id": "5a460150d31e57b3"
  },
  {
   "cell_type": "code",
   "execution_count": 107,
   "outputs": [
    {
     "data": {
      "text/plain": "<Axes: ylabel='Frequency'>"
     },
     "execution_count": 107,
     "metadata": {},
     "output_type": "execute_result"
    },
    {
     "data": {
      "text/plain": "<Figure size 640x480 with 1 Axes>",
      "image/png": "[encoded data removed]"
     },
     "metadata": {},
     "output_type": "display_data"
    }
   ],
   "source": [
    "wag_param['gruz'].plot.hist(bins=10, range=(650, 775))"
   ],
   "metadata": {
    "collapsed": false,
    "ExecuteTime": {
     "end_time": "2023-11-10T21:38:28.216646453Z",
     "start_time": "2023-11-10T21:38:27.955465144Z"
    }
   },
   "id": "eca7ada0e44f57b0"
  },
  {
   "cell_type": "code",
   "execution_count": 131,
   "outputs": [
    {
     "name": "stderr",
     "output_type": "stream",
     "text": [
      "/home/flypew/Programming/MLvenv/lib/python3.11/site-packages/seaborn/axisgrid.py:118: UserWarning: The figure layout has changed to tight\n",
      "  self._figure.tight_layout(*args, **kwargs)\n"
     ]
    },
    {
     "data": {
      "text/plain": "<Figure size 500x500 with 1 Axes>",
      "image/png": "[encoded data removed]"
     },
     "metadata": {},
     "output_type": "display_data"
    }
   ],
   "source": [
    "dates = wag_param['date_build']\n",
    "sns.displot(dates, bins=100, kde=False)\n",
    "plt.xticks(rotation=90)\n",
    "plt.show()"
   ],
   "metadata": {
    "collapsed": false,
    "ExecuteTime": {
     "end_time": "2023-11-10T21:53:00.381471729Z",
     "start_time": "2023-11-10T21:52:59.518262483Z"
    }
   },
   "id": "d198d72ec99bcd76"
  },
  {
   "cell_type": "code",
   "execution_count": 132,
   "outputs": [
    {
     "name": "stderr",
     "output_type": "stream",
     "text": [
      "/home/flypew/Programming/MLvenv/lib/python3.11/site-packages/seaborn/axisgrid.py:118: UserWarning: The figure layout has changed to tight\n",
      "  self._figure.tight_layout(*args, **kwargs)\n"
     ]
    },
    {
     "data": {
      "text/plain": "<Figure size 500x500 with 1 Axes>",
      "image/png": "[encoded data removed]"
     },
     "metadata": {},
     "output_type": "display_data"
    }
   ],
   "source": [
    "dates = wag_param['srok_sl']\n",
    "sns.displot(dates, bins=100, kde=False)\n",
    "plt.xticks(rotation=90)\n",
    "plt.show()"
   ],
   "metadata": {
    "collapsed": false,
    "ExecuteTime": {
     "end_time": "2023-11-10T21:53:17.705382998Z",
     "start_time": "2023-11-10T21:53:16.715561693Z"
    }
   },
   "id": "71108a65ab7a7537"
  },
  {
   "cell_type": "code",
   "execution_count": 133,
   "outputs": [
    {
     "data": {
      "text/plain": "<Axes: ylabel='Frequency'>"
     },
     "execution_count": 133,
     "metadata": {},
     "output_type": "execute_result"
    },
    {
     "data": {
      "text/plain": "<Figure size 640x480 with 1 Axes>",
      "image/png": "[encoded data removed]"
     },
     "metadata": {},
     "output_type": "display_data"
    }
   ],
   "source": [
    "wag_param['expected_srok_sl_y'] = (wag_param['srok_sl'] - wag_param['date_build']).dt.days / 365\n",
    "wag_param['expected_srok_sl_y'].plot.hist(bins=50, range=(18, 36))"
   ],
   "metadata": {
    "collapsed": false,
    "ExecuteTime": {
     "end_time": "2023-11-10T21:53:29.111365663Z",
     "start_time": "2023-11-10T21:53:28.803146704Z"
    }
   },
   "id": "64f9faa4636dfa1"
  },
  {
   "cell_type": "code",
   "execution_count": 134,
   "outputs": [
    {
     "data": {
      "text/plain": "expected_srok_sl_y_b\nshort    19639\nlong     14338\nName: count, dtype: int64"
     },
     "execution_count": 134,
     "metadata": {},
     "output_type": "execute_result"
    }
   ],
   "source": [
    "wag_param['expected_srok_sl_y_b'] = wag_param['expected_srok_sl_y'].apply(lambda x: \"short\" if x <= 27.5 else \"long\")\n",
    "wag_param['expected_srok_sl_y_b'].value_counts()"
   ],
   "metadata": {
    "collapsed": false,
    "ExecuteTime": {
     "end_time": "2023-11-10T21:53:33.627358536Z",
     "start_time": "2023-11-10T21:53:33.607391149Z"
    }
   },
   "id": "76d7c67b125365e9"
  },
  {
   "cell_type": "code",
   "execution_count": 137,
   "outputs": [
    {
     "data": {
      "text/plain": "date_build_b\n(2007, 2017]    20891\n(0, 2000]        5340\n(2000, 2007]     5242\n(2017, 2030]     2504\nName: count, dtype: int64"
     },
     "execution_count": 137,
     "metadata": {},
     "output_type": "execute_result"
    }
   ],
   "source": [
    "# Discretize date_build into classes <2000, 2000-2007, 2008-2017, 2017+\n",
    "# Use pd.cut, bins=[0, 2000, 2007, 2017, 2030]\n",
    "wag_param['date_build_b'] = pd.cut(wag_param['date_build'].dt.year, bins=[0, 2000, 2007, 2017, 2030])\n",
    "wag_param['date_build_b'].value_counts()"
   ],
   "metadata": {
    "collapsed": false,
    "ExecuteTime": {
     "end_time": "2023-11-10T21:57:08.466369052Z",
     "start_time": "2023-11-10T21:57:08.417961130Z"
    }
   },
   "id": "cf9b60edd4a58529"
  },
  {
   "cell_type": "code",
   "execution_count": 140,
   "outputs": [
    {
     "data": {
      "text/plain": "zavod_build\n0     15756\n1      9453\n17     2722\n2      1334\n6      1285\n15      710\n13      700\n20      379\n9       333\n8       320\n5       209\n4       160\n18      138\n11      106\n21       88\n3        87\n19       64\n16       56\n10       39\n12       23\n7         7\n14        6\n22        1\n23        1\nName: count, dtype: Int64"
     },
     "execution_count": 140,
     "metadata": {},
     "output_type": "execute_result"
    }
   ],
   "source": [
    "wag_param['zavod_build'].value_counts()"
   ],
   "metadata": {
    "collapsed": false,
    "ExecuteTime": {
     "end_time": "2023-11-10T22:01:06.036882134Z",
     "start_time": "2023-11-10T22:01:05.928354921Z"
    }
   },
   "id": "12e4046b9706743"
  },
  {
   "cell_type": "code",
   "execution_count": 141,
   "outputs": [
    {
     "data": {
      "text/plain": "cnsi_probeg_dr\n110    30779\n160     1494\n320      950\n350      753\n250        1\nName: count, dtype: Int64"
     },
     "execution_count": 141,
     "metadata": {},
     "output_type": "execute_result"
    }
   ],
   "source": [
    "wag_param['cnsi_probeg_dr'].value_counts()"
   ],
   "metadata": {
    "collapsed": false,
    "ExecuteTime": {
     "end_time": "2023-11-10T22:04:10.000779831Z",
     "start_time": "2023-11-10T22:04:09.954356269Z"
    }
   },
   "id": "3a2d504c4fd2acdf"
  },
  {
   "cell_type": "code",
   "execution_count": 142,
   "outputs": [
    {
     "data": {
      "text/plain": "cnsi_probeg_kr\n160    32236\n320      950\n500      754\n0         37\nName: count, dtype: Int64"
     },
     "execution_count": 142,
     "metadata": {},
     "output_type": "execute_result"
    }
   ],
   "source": [
    "wag_param['cnsi_probeg_kr'].value_counts()"
   ],
   "metadata": {
    "collapsed": false,
    "ExecuteTime": {
     "end_time": "2023-11-10T22:04:41.893137789Z",
     "start_time": "2023-11-10T22:04:41.846812692Z"
    }
   },
   "id": "157b740cf2bdbc05"
  },
  {
   "cell_type": "code",
   "execution_count": 143,
   "outputs": [
    {
     "data": {
      "text/plain": "kuzov\n2     27403\n22     4927\n43     1645\n1         2\nName: count, dtype: Int64"
     },
     "execution_count": 143,
     "metadata": {},
     "output_type": "execute_result"
    }
   ],
   "source": [
    "wag_param['kuzov'].value_counts()"
   ],
   "metadata": {
    "collapsed": false,
    "ExecuteTime": {
     "end_time": "2023-11-10T22:05:11.382093327Z",
     "start_time": "2023-11-10T22:05:11.340349550Z"
    }
   },
   "id": "9eb632cd9b54639a"
  },
  {
   "cell_type": "code",
   "execution_count": 144,
   "outputs": [
    {
     "data": {
      "text/plain": "norma_km\n160000    31291\n350000      753\n0           749\n110000      642\n500000      490\n210000       50\n250000        1\n320000        1\nName: count, dtype: Int64"
     },
     "execution_count": 144,
     "metadata": {},
     "output_type": "execute_result"
    }
   ],
   "source": [
    "wag_param['norma_km'].value_counts()"
   ],
   "metadata": {
    "collapsed": false,
    "ExecuteTime": {
     "end_time": "2023-11-10T22:06:18.048206861Z",
     "start_time": "2023-11-10T22:06:18.009164918Z"
    }
   },
   "id": "5a7a1e6f33cb0f9e"
  }
 ],
 "metadata": {
  "kernelspec": {
   "display_name": "Python 3",
   "language": "python",
   "name": "python3"
  },
  "language_info": {
   "codemirror_mode": {
    "name": "ipython",
    "version": 2
   },
   "file_extension": ".py",
   "mimetype": "text/x-python",
   "name": "python",
   "nbconvert_exporter": "python",
   "pygments_lexer": "ipython2",
   "version": "2.7.6"
  }
 },
 "nbformat": 4,
 "nbformat_minor": 5
}
