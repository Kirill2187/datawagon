{
 "cells": [
  {
   "cell_type": "code",
   "execution_count": 1,
   "id": "initial_id",
   "metadata": {
    "ExecuteTime": {
     "end_time": "2023-11-11T16:36:04.377622714Z",
     "start_time": "2023-11-11T16:36:04.361262579Z"
    },
    "collapsed": true
   },
   "outputs": [],
   "source": [
    "import pandas as pd\n",
    "import numpy as np\n",
    "import matplotlib.pyplot as plt\n",
    "import seaborn as sns\n",
    "import os\n",
    "from tqdm.notebook import tqdm"
   ]
  },
  {
   "cell_type": "code",
   "execution_count": 2,
   "id": "adde4964e4995e02",
   "metadata": {
    "ExecuteTime": {
     "end_time": "2023-11-11T16:36:04.424638015Z",
     "start_time": "2023-11-11T16:36:04.377332372Z"
    },
    "collapsed": false
   },
   "outputs": [],
   "source": [
    "path_train = r\"../train/\""
   ]
  },
  {
   "cell_type": "code",
   "execution_count": 3,
   "id": "7aceb6de95aab3c6",
   "metadata": {
    "ExecuteTime": {
     "end_time": "2023-11-11T16:36:07.650710855Z",
     "start_time": "2023-11-11T16:36:04.423827482Z"
    },
    "collapsed": false
   },
   "outputs": [],
   "source": [
    "TEST = True\n",
    "\n",
    "test_wagnums = range(1, 1000)\n",
    "\n",
    "test_start = pd.to_datetime('2023-01-01')\n",
    "test_end = pd.to_datetime('2023-03-01')\n",
    "\n",
    "dislok = pd.read_parquet(path_train + '/dislok_wagons.parquet').convert_dtypes()\n",
    "dislok['plan_date'] = pd.to_datetime(dislok['plan_date'])\n",
    "\n",
    "if TEST:\n",
    "    dislok = dislok[(dislok['plan_date'] >= test_start) & (dislok['plan_date'] <= test_end)]\n",
    "    dislok = dislok[dislok['wagnum'].isin(test_wagnums)]\n",
    "\n",
    "freight_data = pd.read_parquet(path_train + '/freight_info.parquet').convert_dtypes()\n",
    "\n",
    "dislok.fillna(pd.NA, inplace=True)"
   ]
  },
  {
   "cell_type": "code",
   "execution_count": 4,
   "id": "19423f3e",
   "metadata": {
    "ExecuteTime": {
     "end_time": "2023-11-11T16:36:07.680906093Z",
     "start_time": "2023-11-11T16:36:07.653119779Z"
    }
   },
   "outputs": [
    {
     "data": {
      "text/plain": [
       "(59853, 16)"
      ]
     },
     "execution_count": 4,
     "metadata": {},
     "output_type": "execute_result"
    }
   ],
   "source": [
    "dislok.shape"
   ]
  },
  {
   "cell_type": "code",
   "execution_count": 5,
   "id": "98e03c8f",
   "metadata": {},
   "outputs": [
    {
     "name": "stdout",
     "output_type": "stream",
     "text": [
      "Absent freights: 3\n"
     ]
    }
   ],
   "source": [
    "absent_freights = set(dislok.fr_id.unique()) - set(freight_data.fr_id.unique())\n",
    "print(f\"Absent freights: {len(absent_freights)}\")\n",
    "\n",
    "for fr_id in absent_freights:\n",
    "    values = {col: 0 for col in freight_data.columns}\n",
    "    values['fr_id'] = fr_id\n",
    "    freight_data = pd.concat([freight_data, pd.DataFrame([values])], ignore_index=True)"
   ]
  },
  {
   "cell_type": "code",
   "execution_count": 6,
   "id": "c5af4e4e",
   "metadata": {},
   "outputs": [],
   "source": [
    "absent_freights = set(dislok.fr_id.unique()) - set(freight_data.fr_id.unique())\n",
    "assert len(absent_freights) == 0"
   ]
  },
  {
   "cell_type": "code",
   "execution_count": 7,
   "id": "76a575257004c3d7",
   "metadata": {
    "ExecuteTime": {
     "start_time": "2023-11-11T16:36:07.661743610Z"
    },
    "collapsed": false,
    "is_executing": true
   },
   "outputs": [],
   "source": [
    "dislok = dislok.merge(freight_data, on='fr_id')"
   ]
  },
  {
   "cell_type": "code",
   "execution_count": 8,
   "id": "f237c700",
   "metadata": {},
   "outputs": [],
   "source": [
    "del freight_data"
   ]
  },
  {
   "cell_type": "code",
   "execution_count": 10,
   "id": "ede65245fd29b3a3",
   "metadata": {
    "collapsed": false,
    "is_executing": true
   },
   "outputs": [
    {
     "data": {
      "text/plain": [
       "(59853, 24)"
      ]
     },
     "execution_count": 10,
     "metadata": {},
     "output_type": "execute_result"
    }
   ],
   "source": [
    "dislok.shape"
   ]
  },
  {
   "cell_type": "code",
   "execution_count": 11,
   "id": "08f62dc6",
   "metadata": {},
   "outputs": [
    {
     "data": {
      "text/html": [
       "<div>\n",
       "<style scoped>\n",
       "    .dataframe tbody tr th:only-of-type {\n",
       "        vertical-align: middle;\n",
       "    }\n",
       "\n",
       "    .dataframe tbody tr th {\n",
       "        vertical-align: top;\n",
       "    }\n",
       "\n",
       "    .dataframe thead th {\n",
       "        text-align: right;\n",
       "    }\n",
       "</style>\n",
       "<table border=\"1\" class=\"dataframe\">\n",
       "  <thead>\n",
       "    <tr style=\"text-align: right;\">\n",
       "      <th></th>\n",
       "      <th>plan_date</th>\n",
       "      <th>wagnum</th>\n",
       "      <th>date_kap</th>\n",
       "      <th>date_dep</th>\n",
       "      <th>kod_vrab</th>\n",
       "      <th>date_pl_rem</th>\n",
       "      <th>id_road_disl</th>\n",
       "      <th>st_id_dest</th>\n",
       "      <th>id_road_dest</th>\n",
       "      <th>st_id_send</th>\n",
       "      <th>...</th>\n",
       "      <th>last_fr_id</th>\n",
       "      <th>distance</th>\n",
       "      <th>fr_class</th>\n",
       "      <th>skoroport</th>\n",
       "      <th>naval</th>\n",
       "      <th>nasip</th>\n",
       "      <th>naliv</th>\n",
       "      <th>openvagons</th>\n",
       "      <th>soprovod</th>\n",
       "      <th>smerz</th>\n",
       "    </tr>\n",
       "  </thead>\n",
       "  <tbody>\n",
       "    <tr>\n",
       "      <th>58995</th>\n",
       "      <td>2023-01-05</td>\n",
       "      <td>253</td>\n",
       "      <td>NaT</td>\n",
       "      <td>2019-12-06</td>\n",
       "      <td>1</td>\n",
       "      <td>2022-12-06</td>\n",
       "      <td>31</td>\n",
       "      <td>7944</td>\n",
       "      <td>32</td>\n",
       "      <td>12648</td>\n",
       "      <td>...</td>\n",
       "      <td>418</td>\n",
       "      <td>-1</td>\n",
       "      <td>2</td>\n",
       "      <td>0</td>\n",
       "      <td>0</td>\n",
       "      <td>0</td>\n",
       "      <td>0</td>\n",
       "      <td>0</td>\n",
       "      <td>0</td>\n",
       "      <td>0</td>\n",
       "    </tr>\n",
       "    <tr>\n",
       "      <th>26764</th>\n",
       "      <td>2023-03-01</td>\n",
       "      <td>209</td>\n",
       "      <td>NaT</td>\n",
       "      <td>2019-11-06</td>\n",
       "      <td>1</td>\n",
       "      <td>2022-11-06</td>\n",
       "      <td>44</td>\n",
       "      <td>11412</td>\n",
       "      <td>42</td>\n",
       "      <td>12382</td>\n",
       "      <td>...</td>\n",
       "      <td>1671</td>\n",
       "      <td>-1</td>\n",
       "      <td>1</td>\n",
       "      <td>0</td>\n",
       "      <td>0</td>\n",
       "      <td>0</td>\n",
       "      <td>0</td>\n",
       "      <td>0</td>\n",
       "      <td>0</td>\n",
       "      <td>0</td>\n",
       "    </tr>\n",
       "    <tr>\n",
       "      <th>58417</th>\n",
       "      <td>2023-01-09</td>\n",
       "      <td>864</td>\n",
       "      <td>NaT</td>\n",
       "      <td>2020-08-31</td>\n",
       "      <td>0</td>\n",
       "      <td>2022-08-31</td>\n",
       "      <td>37</td>\n",
       "      <td>7895</td>\n",
       "      <td>31</td>\n",
       "      <td>6265</td>\n",
       "      <td>...</td>\n",
       "      <td>4987</td>\n",
       "      <td>-1</td>\n",
       "      <td>1</td>\n",
       "      <td>0</td>\n",
       "      <td>0</td>\n",
       "      <td>0</td>\n",
       "      <td>0</td>\n",
       "      <td>0</td>\n",
       "      <td>0</td>\n",
       "      <td>0</td>\n",
       "    </tr>\n",
       "    <tr>\n",
       "      <th>3376</th>\n",
       "      <td>2023-01-12</td>\n",
       "      <td>321</td>\n",
       "      <td>NaT</td>\n",
       "      <td>2019-07-18</td>\n",
       "      <td>1</td>\n",
       "      <td>2022-07-18</td>\n",
       "      <td>25</td>\n",
       "      <td>22</td>\n",
       "      <td>25</td>\n",
       "      <td>5272</td>\n",
       "      <td>...</td>\n",
       "      <td>365</td>\n",
       "      <td>-1</td>\n",
       "      <td>1</td>\n",
       "      <td>0</td>\n",
       "      <td>0</td>\n",
       "      <td>0</td>\n",
       "      <td>0</td>\n",
       "      <td>0</td>\n",
       "      <td>0</td>\n",
       "      <td>0</td>\n",
       "    </tr>\n",
       "    <tr>\n",
       "      <th>26689</th>\n",
       "      <td>2023-03-01</td>\n",
       "      <td>85</td>\n",
       "      <td>2012-05-29</td>\n",
       "      <td>2020-11-16</td>\n",
       "      <td>0</td>\n",
       "      <td>2023-11-16</td>\n",
       "      <td>38</td>\n",
       "      <td>22</td>\n",
       "      <td>38</td>\n",
       "      <td>10374</td>\n",
       "      <td>...</td>\n",
       "      <td>1671</td>\n",
       "      <td>86</td>\n",
       "      <td>1</td>\n",
       "      <td>0</td>\n",
       "      <td>0</td>\n",
       "      <td>0</td>\n",
       "      <td>0</td>\n",
       "      <td>0</td>\n",
       "      <td>0</td>\n",
       "      <td>0</td>\n",
       "    </tr>\n",
       "  </tbody>\n",
       "</table>\n",
       "<p>5 rows × 24 columns</p>\n",
       "</div>"
      ],
      "text/plain": [
       "       plan_date  wagnum   date_kap   date_dep  kod_vrab date_pl_rem  \\\n",
       "58995 2023-01-05     253        NaT 2019-12-06         1  2022-12-06   \n",
       "26764 2023-03-01     209        NaT 2019-11-06         1  2022-11-06   \n",
       "58417 2023-01-09     864        NaT 2020-08-31         0  2022-08-31   \n",
       "3376  2023-01-12     321        NaT 2019-07-18         1  2022-07-18   \n",
       "26689 2023-03-01      85 2012-05-29 2020-11-16         0  2023-11-16   \n",
       "\n",
       "       id_road_disl  st_id_dest  id_road_dest  st_id_send  ...  last_fr_id  \\\n",
       "58995            31        7944            32       12648  ...         418   \n",
       "26764            44       11412            42       12382  ...        1671   \n",
       "58417            37        7895            31        6265  ...        4987   \n",
       "3376             25          22            25        5272  ...         365   \n",
       "26689            38          22            38       10374  ...        1671   \n",
       "\n",
       "       distance  fr_class  skoroport  naval  nasip  naliv  openvagons  \\\n",
       "58995        -1         2          0      0      0      0           0   \n",
       "26764        -1         1          0      0      0      0           0   \n",
       "58417        -1         1          0      0      0      0           0   \n",
       "3376         -1         1          0      0      0      0           0   \n",
       "26689        86         1          0      0      0      0           0   \n",
       "\n",
       "       soprovod  smerz  \n",
       "58995         0      0  \n",
       "26764         0      0  \n",
       "58417         0      0  \n",
       "3376          0      0  \n",
       "26689         0      0  \n",
       "\n",
       "[5 rows x 24 columns]"
      ]
     },
     "execution_count": 11,
     "metadata": {},
     "output_type": "execute_result"
    }
   ],
   "source": [
    "dislok.sample(5)"
   ]
  },
  {
   "cell_type": "code",
   "execution_count": 12,
   "id": "fe67d357ae99b4cf",
   "metadata": {
    "ExecuteTime": {
     "start_time": "2023-11-11T16:31:50.985617857Z"
    },
    "collapsed": false
   },
   "outputs": [
    {
     "data": {
      "text/html": [
       "<div>\n",
       "<style scoped>\n",
       "    .dataframe tbody tr th:only-of-type {\n",
       "        vertical-align: middle;\n",
       "    }\n",
       "\n",
       "    .dataframe tbody tr th {\n",
       "        vertical-align: top;\n",
       "    }\n",
       "\n",
       "    .dataframe thead th {\n",
       "        text-align: right;\n",
       "    }\n",
       "</style>\n",
       "<table border=\"1\" class=\"dataframe\">\n",
       "  <thead>\n",
       "    <tr style=\"text-align: right;\">\n",
       "      <th></th>\n",
       "      <th>wagnum</th>\n",
       "      <th>month</th>\n",
       "      <th>target_month</th>\n",
       "      <th>target_day</th>\n",
       "    </tr>\n",
       "  </thead>\n",
       "  <tbody>\n",
       "    <tr>\n",
       "      <th>233951</th>\n",
       "      <td>783</td>\n",
       "      <td>2023-02-01</td>\n",
       "      <td>0</td>\n",
       "      <td>0</td>\n",
       "    </tr>\n",
       "    <tr>\n",
       "      <th>26594</th>\n",
       "      <td>381</td>\n",
       "      <td>2023-01-01</td>\n",
       "      <td>0</td>\n",
       "      <td>0</td>\n",
       "    </tr>\n",
       "    <tr>\n",
       "      <th>28093</th>\n",
       "      <td>913</td>\n",
       "      <td>2023-01-01</td>\n",
       "      <td>0</td>\n",
       "      <td>0</td>\n",
       "    </tr>\n",
       "    <tr>\n",
       "      <th>229673</th>\n",
       "      <td>331</td>\n",
       "      <td>2023-02-01</td>\n",
       "      <td>0</td>\n",
       "      <td>0</td>\n",
       "    </tr>\n",
       "    <tr>\n",
       "      <th>230001</th>\n",
       "      <td>495</td>\n",
       "      <td>2023-02-01</td>\n",
       "      <td>0</td>\n",
       "      <td>0</td>\n",
       "    </tr>\n",
       "  </tbody>\n",
       "</table>\n",
       "</div>"
      ],
      "text/plain": [
       "        wagnum      month  target_month  target_day\n",
       "233951     783 2023-02-01             0           0\n",
       "26594      381 2023-01-01             0           0\n",
       "28093      913 2023-01-01             0           0\n",
       "229673     331 2023-02-01             0           0\n",
       "230001     495 2023-02-01             0           0"
      ]
     },
     "execution_count": 12,
     "metadata": {},
     "output_type": "execute_result"
    }
   ],
   "source": [
    "train_df = pd.read_csv(path_train +'/target/y_train.csv').convert_dtypes()\n",
    "train_df['month'] = pd.to_datetime(train_df['month'])\n",
    "\n",
    "if TEST:\n",
    "    train_df = train_df[(train_df['month'] >= test_start) & (train_df['month'] <= test_end)]\n",
    "    train_df = train_df[train_df['wagnum'].isin(test_wagnums)]\n",
    "\n",
    "train_df.sample(5)"
   ]
  },
  {
   "cell_type": "code",
   "execution_count": 13,
   "id": "5041aa3b",
   "metadata": {},
   "outputs": [
    {
     "name": "stdout",
     "output_type": "stream",
     "text": [
      "Test set size: 33707\n",
      "996 999\n"
     ]
    },
    {
     "data": {
      "text/html": [
       "<div>\n",
       "<style scoped>\n",
       "    .dataframe tbody tr th:only-of-type {\n",
       "        vertical-align: middle;\n",
       "    }\n",
       "\n",
       "    .dataframe tbody tr th {\n",
       "        vertical-align: top;\n",
       "    }\n",
       "\n",
       "    .dataframe thead th {\n",
       "        text-align: right;\n",
       "    }\n",
       "</style>\n",
       "<table border=\"1\" class=\"dataframe\">\n",
       "  <thead>\n",
       "    <tr style=\"text-align: right;\">\n",
       "      <th></th>\n",
       "      <th>wagnum</th>\n",
       "      <th>month</th>\n",
       "    </tr>\n",
       "  </thead>\n",
       "  <tbody>\n",
       "    <tr>\n",
       "      <th>28609</th>\n",
       "      <td>179</td>\n",
       "      <td>2023-03-01</td>\n",
       "    </tr>\n",
       "    <tr>\n",
       "      <th>26311</th>\n",
       "      <td>482</td>\n",
       "      <td>2023-03-01</td>\n",
       "    </tr>\n",
       "    <tr>\n",
       "      <th>28159</th>\n",
       "      <td>745</td>\n",
       "      <td>2023-03-01</td>\n",
       "    </tr>\n",
       "    <tr>\n",
       "      <th>25752</th>\n",
       "      <td>362</td>\n",
       "      <td>2023-03-01</td>\n",
       "    </tr>\n",
       "    <tr>\n",
       "      <th>26324</th>\n",
       "      <td>424</td>\n",
       "      <td>2023-03-01</td>\n",
       "    </tr>\n",
       "  </tbody>\n",
       "</table>\n",
       "</div>"
      ],
      "text/plain": [
       "       wagnum      month\n",
       "28609     179 2023-03-01\n",
       "26311     482 2023-03-01\n",
       "28159     745 2023-03-01\n",
       "25752     362 2023-03-01\n",
       "26324     424 2023-03-01"
      ]
     },
     "execution_count": 13,
     "metadata": {},
     "output_type": "execute_result"
    }
   ],
   "source": [
    "test_set = pd.read_csv(path_train +'/target/y_predict.csv').convert_dtypes()\n",
    "wagnums_test = test_set.wagnum.unique()\n",
    "\n",
    "print(f\"Test set size: {len(test_set)}\")\n",
    "\n",
    "test_df = pd.DataFrame({'wagnum': wagnums_test, 'month': [pd.to_datetime('2023-03-01')] * len(wagnums_test)})\n",
    "\n",
    "if TEST:\n",
    "    test_df = test_df[test_df['wagnum'].isin(test_wagnums)]\n",
    "\n",
    "print(len(test_df), train_df.wagnum.nunique())\n",
    "test_df.sample(5)"
   ]
  },
  {
   "cell_type": "code",
   "execution_count": 14,
   "id": "f5b344ce",
   "metadata": {},
   "outputs": [
    {
     "data": {
      "text/plain": [
       "wagnum            0\n",
       "month             0\n",
       "target_month    996\n",
       "target_day      996\n",
       "dtype: int64"
      ]
     },
     "execution_count": 14,
     "metadata": {},
     "output_type": "execute_result"
    }
   ],
   "source": [
    "all_df = pd.concat([train_df, test_df], ignore_index=True)\n",
    "all_df.isna().sum()"
   ]
  },
  {
   "cell_type": "code",
   "execution_count": 42,
   "id": "cf6f140435731fb2",
   "metadata": {
    "ExecuteTime": {
     "start_time": "2023-11-11T16:31:50.987228048Z"
    },
    "collapsed": false
   },
   "outputs": [
    {
     "data": {
      "text/plain": [
       "0.04824101298739676"
      ]
     },
     "execution_count": 42,
     "metadata": {},
     "output_type": "execute_result"
    }
   ],
   "source": [
    "train_df.target_month.mean()"
   ]
  },
  {
   "cell_type": "code",
   "execution_count": 15,
   "id": "2b0588d7",
   "metadata": {},
   "outputs": [
    {
     "data": {
      "text/plain": [
       "0"
      ]
     },
     "execution_count": 15,
     "metadata": {},
     "output_type": "execute_result"
    }
   ],
   "source": [
    "import gc\n",
    "gc.collect()"
   ]
  },
  {
   "cell_type": "markdown",
   "id": "b9d76297079861fa",
   "metadata": {
    "collapsed": false
   },
   "source": [
    "### Дислокация вагонов - сбор данных"
   ]
  },
  {
   "cell_type": "code",
   "execution_count": 16,
   "id": "59bdd3736ffca595",
   "metadata": {
    "ExecuteTime": {
     "start_time": "2023-11-11T16:31:50.989991109Z"
    },
    "collapsed": false
   },
   "outputs": [
    {
     "data": {
      "text/plain": [
       "Index(['plan_date', 'wagnum', 'date_kap', 'date_dep', 'kod_vrab',\n",
       "       'date_pl_rem', 'id_road_disl', 'st_id_dest', 'id_road_dest',\n",
       "       'st_id_send', 'id_road_send', 'ost_prob', 'isload', 'fr_id',\n",
       "       'last_fr_id', 'distance', 'fr_class', 'skoroport', 'naval', 'nasip',\n",
       "       'naliv', 'openvagons', 'soprovod', 'smerz'],\n",
       "      dtype='object')"
      ]
     },
     "execution_count": 16,
     "metadata": {},
     "output_type": "execute_result"
    }
   ],
   "source": [
    "dislok.columns"
   ]
  },
  {
   "cell_type": "code",
   "execution_count": 17,
   "id": "b64af81c4a013c8d",
   "metadata": {
    "ExecuteTime": {
     "start_time": "2023-11-11T16:31:50.993950831Z"
    },
    "collapsed": false
   },
   "outputs": [],
   "source": [
    "dislok['days_to_pl_rem'] = (dislok['date_pl_rem'] - dislok['plan_date']).dt.days\n",
    "dislok['another_road'] = dislok['id_road_dest'] != dislok['id_road_send']\n",
    "dislok['last_rem_date'] = dislok[['date_kap', 'date_dep']].max(axis=1)\n",
    "dislok['days_from_last_rem'] = (dislok['plan_date'] - dislok['last_rem_date']).dt.days\n",
    "dislok = dislok.convert_dtypes()"
   ]
  },
  {
   "cell_type": "code",
   "execution_count": 18,
   "id": "3bd3b5d36ac660bc",
   "metadata": {
    "ExecuteTime": {
     "start_time": "2023-11-11T16:31:50.995902964Z"
    },
    "collapsed": false
   },
   "outputs": [],
   "source": [
    "dislok.sort_values(by='plan_date', inplace=True)"
   ]
  },
  {
   "cell_type": "code",
   "execution_count": 19,
   "id": "ee0485e5",
   "metadata": {
    "ExecuteTime": {
     "start_time": "2023-11-11T16:31:50.997421384Z"
    }
   },
   "outputs": [
    {
     "name": "stdout",
     "output_type": "stream",
     "text": [
      "ost_prob    115197.0\n",
      "dtype: float64\n"
     ]
    }
   ],
   "source": [
    "to_fill = ['ost_prob']\n",
    "\n",
    "median_values = dislok[to_fill].median()\n",
    "print(median_values)\n",
    "\n",
    "dislok[to_fill] = dislok.groupby('wagnum')[to_fill].transform(lambda x: x.fillna(method='ffill'))\n",
    "# dislok[to_fill] = dislok.groupby('wagnum')[to_fill].transform(lambda x: x.fillna(method='bfill'))\n",
    "dislok[to_fill] = dislok.groupby('wagnum')[to_fill].transform(lambda x: x.fillna(median_values))"
   ]
  },
  {
   "cell_type": "code",
   "execution_count": 20,
   "id": "8587e7c3",
   "metadata": {
    "ExecuteTime": {
     "start_time": "2023-11-11T16:31:50.999563625Z"
    }
   },
   "outputs": [
    {
     "name": "stdout",
     "output_type": "stream",
     "text": [
      "<class 'pandas.core.frame.DataFrame'>\n",
      "Index: 59853 entries, 0 to 59852\n",
      "Data columns (total 28 columns):\n",
      " #   Column              Non-Null Count  Dtype         \n",
      "---  ------              --------------  -----         \n",
      " 0   plan_date           59853 non-null  datetime64[ns]\n",
      " 1   wagnum              59853 non-null  Int64         \n",
      " 2   date_kap            17553 non-null  datetime64[ns]\n",
      " 3   date_dep            59853 non-null  datetime64[ns]\n",
      " 4   kod_vrab            59853 non-null  Int64         \n",
      " 5   date_pl_rem         59853 non-null  datetime64[ns]\n",
      " 6   id_road_disl        59853 non-null  Int64         \n",
      " 7   st_id_dest          59853 non-null  Int64         \n",
      " 8   id_road_dest        59853 non-null  Int64         \n",
      " 9   st_id_send          59853 non-null  Int64         \n",
      " 10  id_road_send        59853 non-null  Int64         \n",
      " 11  ost_prob            59853 non-null  Int64         \n",
      " 12  isload              59853 non-null  Int64         \n",
      " 13  fr_id               59853 non-null  Int64         \n",
      " 14  last_fr_id          59853 non-null  Int64         \n",
      " 15  distance            59853 non-null  Int64         \n",
      " 16  fr_class            59853 non-null  Int64         \n",
      " 17  skoroport           59853 non-null  Int64         \n",
      " 18  naval               59853 non-null  Int64         \n",
      " 19  nasip               59853 non-null  Int64         \n",
      " 20  naliv               59853 non-null  Int64         \n",
      " 21  openvagons          59853 non-null  Int64         \n",
      " 22  soprovod            59853 non-null  Int64         \n",
      " 23  smerz               59853 non-null  Int64         \n",
      " 24  days_to_pl_rem      59853 non-null  Int64         \n",
      " 25  another_road        59853 non-null  boolean       \n",
      " 26  last_rem_date       59853 non-null  datetime64[ns]\n",
      " 27  days_from_last_rem  59853 non-null  Int64         \n",
      "dtypes: Int64(22), boolean(1), datetime64[ns](5)\n",
      "memory usage: 14.2 MB\n"
     ]
    }
   ],
   "source": [
    "dislok.info()"
   ]
  },
  {
   "cell_type": "code",
   "execution_count": 21,
   "id": "c8b7fad3",
   "metadata": {},
   "outputs": [
    {
     "data": {
      "application/vnd.jupyter.widget-view+json": {
       "model_id": "b0dfe6094c8b4199b79a2d5f62aa46d2",
       "version_major": 2,
       "version_minor": 0
      },
      "text/plain": [
       "  0%|          | 0/16498 [00:00<?, ?it/s]"
      ]
     },
     "metadata": {},
     "output_type": "display_data"
    }
   ],
   "source": [
    "from collections import Counter\n",
    "\n",
    "distances = dict()\n",
    "counter = Counter()\n",
    "\n",
    "data = dislok[['st_id_send', 'st_id_dest', 'distance']]\n",
    "data = data[data.distance != -1]\n",
    "\n",
    "# Compute average distance between each pair of stations\n",
    "data = data.to_numpy()\n",
    "\n",
    "for st_id_send, st_id_dest, distance in tqdm(data):\n",
    "    counter[(st_id_send, st_id_dest)] += 1\n",
    "    distances[(st_id_send, st_id_dest)] = distances.get((st_id_send, st_id_dest), 0) + distance\n",
    "\n",
    "for key in distances.keys():\n",
    "    distances[key] /= counter[key]"
   ]
  },
  {
   "cell_type": "code",
   "execution_count": 22,
   "id": "4852904b",
   "metadata": {},
   "outputs": [
    {
     "data": {
      "application/vnd.jupyter.widget-view+json": {
       "model_id": "463b2c1c993f4f1ba8ddb06c4a635564",
       "version_major": 2,
       "version_minor": 0
      },
      "text/plain": [
       "  0%|          | 0/59853 [00:00<?, ?it/s]"
      ]
     },
     "metadata": {},
     "output_type": "display_data"
    },
    {
     "name": "stdout",
     "output_type": "stream",
     "text": [
      "Found: 36462\n"
     ]
    }
   ],
   "source": [
    "data = data = dislok[['st_id_send', 'st_id_dest', 'distance']].to_numpy()\n",
    "found = 0\n",
    "for i in tqdm(range(len(data))):\n",
    "    st_id_send, st_id_dest, distance = data[i]\n",
    "    if distance == -1 and (st_id_send, st_id_dest) in distances:\n",
    "        found += 1\n",
    "\n",
    "print(f\"Found: {found}\")"
   ]
  },
  {
   "cell_type": "code",
   "execution_count": 23,
   "id": "2a8a8099",
   "metadata": {},
   "outputs": [
    {
     "data": {
      "application/vnd.jupyter.widget-view+json": {
       "model_id": "9393845b02d74fe3810d43149661fd8f",
       "version_major": 2,
       "version_minor": 0
      },
      "text/plain": [
       "  0%|          | 0/59853 [00:00<?, ?it/s]"
      ]
     },
     "metadata": {},
     "output_type": "display_data"
    }
   ],
   "source": [
    "avg_distances = np.zeros(len(data))\n",
    "for i in tqdm(range(len(data))):\n",
    "    st_id_send, st_id_dest, distance = data[i]\n",
    "    avg_distances[i] = distances.get((st_id_send, st_id_dest), np.nan)\n",
    "\n",
    "\n",
    "dislok['avg_distance'] = avg_distances\n",
    "dislok.avg_distance.fillna(dislok.avg_distance.mean(), inplace=True)"
   ]
  },
  {
   "cell_type": "code",
   "execution_count": 24,
   "id": "467e61f4",
   "metadata": {},
   "outputs": [
    {
     "data": {
      "text/plain": [
       "<Axes: ylabel='Frequency'>"
      ]
     },
     "execution_count": 24,
     "metadata": {},
     "output_type": "execute_result"
    },
    {
     "data": {
      "image/png": "[encoded data removed]",
      "text/plain": [
       "<Figure size 640x480 with 1 Axes>"
      ]
     },
     "metadata": {},
     "output_type": "display_data"
    }
   ],
   "source": [
    "dislok['avg_distance'].plot.hist(bins=100, range=(0, 4000))"
   ]
  },
  {
   "cell_type": "code",
   "execution_count": 25,
   "id": "c6295127",
   "metadata": {
    "ExecuteTime": {
     "start_time": "2023-11-11T16:31:51.002765988Z"
    }
   },
   "outputs": [
    {
     "data": {
      "application/vnd.jupyter.widget-view+json": {
       "model_id": "a1a8e40a5097460a9478d09a8cd6fc4f",
       "version_major": 2,
       "version_minor": 0
      },
      "text/plain": [
       "  0%|          | 0/999 [00:00<?, ?it/s]"
      ]
     },
     "metadata": {},
     "output_type": "display_data"
    }
   ],
   "source": [
    "wagnum_subtables = {wagnum: table for wagnum, table in tqdm(dislok.groupby('wagnum'))}"
   ]
  },
  {
   "cell_type": "code",
   "execution_count": 28,
   "id": "4de0c6c9f39114f8",
   "metadata": {
    "ExecuteTime": {
     "start_time": "2023-11-11T16:31:51.003217093Z"
    },
    "collapsed": false
   },
   "outputs": [
    {
     "data": {
      "application/vnd.jupyter.widget-view+json": {
       "model_id": "0ab09241d7d14b4a8cde86ed982ad4c3",
       "version_major": 2,
       "version_minor": 0
      },
      "text/plain": [
       "  0%|          | 0/999 [00:00<?, ?it/s]"
      ]
     },
     "metadata": {},
     "output_type": "display_data"
    },
    {
     "data": {
      "application/vnd.jupyter.widget-view+json": {
       "model_id": "cf6231c594d24e429e37bae8c1c253c8",
       "version_major": 2,
       "version_minor": 0
      },
      "text/plain": [
       "  0%|          | 0/999 [00:00<?, ?it/s]"
      ]
     },
     "metadata": {},
     "output_type": "display_data"
    }
   ],
   "source": [
    "from itertools import product\n",
    "\n",
    "intervals = [pd.DateOffset(days=5), pd.DateOffset(days=10), pd.DateOffset(days=30), pd.DateOffset(days=60)]\n",
    "functions = {\"isload\": ['mean'], \"ost_prob\": ['min', 'max'], \"another_road\": ['max'],\n",
    "              \"avg_distance\": ['max', 'min']}\n",
    "\n",
    "fr_classes = ['skoroport', 'naval', 'nasip', 'naliv', 'openvagons', 'soprovod', 'smerz']\n",
    "for fr_class in fr_classes:\n",
    "    functions[fr_class] = ['mean']\n",
    "\n",
    "take_last_cols = ['date_kap', 'date_dep', 'kod_vrab', 'date_pl_rem', 'days_to_pl_rem', 'last_rem_date', 'days_from_last_rem', 'ost_prob']\n",
    "rolling_cols = set()\n",
    "\n",
    "\n",
    "for wagnum, table in tqdm(wagnum_subtables.items()):\n",
    "    for interval in intervals:\n",
    "        for col, func_list in functions.items():\n",
    "            for func in func_list:\n",
    "                table[f\"{interval.days}d_{col}_{func}\"] = getattr(table[col].rolling(interval.days), func)(engine='numba')\n",
    "                rolling_cols.add(f\"{interval.days}d_{col}_{func}\")\n",
    "\n",
    "for wagnum, table in tqdm(wagnum_subtables.items()):\n",
    "    table['5d_ost_prob_sum'] = table['5d_ost_prob_max'] - table['5d_ost_prob_min']\n",
    "    table['10d_ost_prob_sum'] = table['10d_ost_prob_max'] - table['10d_ost_prob_min']\n",
    "    table['30d_ost_prob_sum'] = table['30d_ost_prob_max'] - table['30d_ost_prob_min']\n",
    "    table['60d_ost_prob_sum'] = table['60d_ost_prob_max'] - table['60d_ost_prob_min']\n",
    "\n",
    "    table['5d_prob_mean'] = table['5d_ost_prob_sum'] / 5\n",
    "    table['10d_prob_mean'] = table['10d_ost_prob_sum'] / 10\n",
    "    table['30d_prob_mean'] = table['30d_ost_prob_sum'] / 30\n",
    "    table['60d_prob_mean'] = table['60d_ost_prob_sum'] / 60\n",
    "\n",
    "    \n",
    "\n",
    "for newcol in ['5d_prob_mean', '10d_prob_mean', '30d_prob_mean', '60d_prob_mean', '5d_ost_prob_sum', '10d_ost_prob_sum', '30d_ost_prob_sum', '60d_ost_prob_sum']:\n",
    "    rolling_cols.add(newcol)\n",
    "\n",
    "columns_to_add = list(rolling_cols) + take_last_cols"
   ]
  },
  {
   "cell_type": "code",
   "execution_count": 30,
   "id": "30292214",
   "metadata": {
    "ExecuteTime": {
     "start_time": "2023-11-11T16:31:51.004727830Z"
    }
   },
   "outputs": [
    {
     "data": {
      "text/html": [
       "<div>\n",
       "<style scoped>\n",
       "    .dataframe tbody tr th:only-of-type {\n",
       "        vertical-align: middle;\n",
       "    }\n",
       "\n",
       "    .dataframe tbody tr th {\n",
       "        vertical-align: top;\n",
       "    }\n",
       "\n",
       "    .dataframe thead th {\n",
       "        text-align: right;\n",
       "    }\n",
       "</style>\n",
       "<table border=\"1\" class=\"dataframe\">\n",
       "  <thead>\n",
       "    <tr style=\"text-align: right;\">\n",
       "      <th></th>\n",
       "      <th>plan_date</th>\n",
       "      <th>30d_ost_prob_min</th>\n",
       "      <th>30d_ost_prob_max</th>\n",
       "      <th>30d_prob_mean</th>\n",
       "      <th>30d_ost_prob_sum</th>\n",
       "    </tr>\n",
       "  </thead>\n",
       "  <tbody>\n",
       "    <tr>\n",
       "      <th>15921</th>\n",
       "      <td>2023-02-06</td>\n",
       "      <td>93045.0</td>\n",
       "      <td>93069.0</td>\n",
       "      <td>0.800000</td>\n",
       "      <td>24.0</td>\n",
       "    </tr>\n",
       "    <tr>\n",
       "      <th>15918</th>\n",
       "      <td>2023-02-03</td>\n",
       "      <td>93045.0</td>\n",
       "      <td>93069.0</td>\n",
       "      <td>0.800000</td>\n",
       "      <td>24.0</td>\n",
       "    </tr>\n",
       "    <tr>\n",
       "      <th>2883</th>\n",
       "      <td>2023-01-26</td>\n",
       "      <td>NaN</td>\n",
       "      <td>NaN</td>\n",
       "      <td>NaN</td>\n",
       "      <td>NaN</td>\n",
       "    </tr>\n",
       "    <tr>\n",
       "      <th>15941</th>\n",
       "      <td>2023-02-26</td>\n",
       "      <td>83324.0</td>\n",
       "      <td>93045.0</td>\n",
       "      <td>324.033333</td>\n",
       "      <td>9721.0</td>\n",
       "    </tr>\n",
       "    <tr>\n",
       "      <th>2863</th>\n",
       "      <td>2023-01-06</td>\n",
       "      <td>NaN</td>\n",
       "      <td>NaN</td>\n",
       "      <td>NaN</td>\n",
       "      <td>NaN</td>\n",
       "    </tr>\n",
       "    <tr>\n",
       "      <th>15939</th>\n",
       "      <td>2023-02-24</td>\n",
       "      <td>83324.0</td>\n",
       "      <td>93045.0</td>\n",
       "      <td>324.033333</td>\n",
       "      <td>9721.0</td>\n",
       "    </tr>\n",
       "    <tr>\n",
       "      <th>2858</th>\n",
       "      <td>2023-01-01</td>\n",
       "      <td>NaN</td>\n",
       "      <td>NaN</td>\n",
       "      <td>NaN</td>\n",
       "      <td>NaN</td>\n",
       "    </tr>\n",
       "    <tr>\n",
       "      <th>15919</th>\n",
       "      <td>2023-02-04</td>\n",
       "      <td>93045.0</td>\n",
       "      <td>93069.0</td>\n",
       "      <td>0.800000</td>\n",
       "      <td>24.0</td>\n",
       "    </tr>\n",
       "    <tr>\n",
       "      <th>15937</th>\n",
       "      <td>2023-02-22</td>\n",
       "      <td>83324.0</td>\n",
       "      <td>93045.0</td>\n",
       "      <td>324.033333</td>\n",
       "      <td>9721.0</td>\n",
       "    </tr>\n",
       "    <tr>\n",
       "      <th>2865</th>\n",
       "      <td>2023-01-08</td>\n",
       "      <td>NaN</td>\n",
       "      <td>NaN</td>\n",
       "      <td>NaN</td>\n",
       "      <td>NaN</td>\n",
       "    </tr>\n",
       "  </tbody>\n",
       "</table>\n",
       "</div>"
      ],
      "text/plain": [
       "       plan_date  30d_ost_prob_min  30d_ost_prob_max  30d_prob_mean  \\\n",
       "15921 2023-02-06           93045.0           93069.0       0.800000   \n",
       "15918 2023-02-03           93045.0           93069.0       0.800000   \n",
       "2883  2023-01-26               NaN               NaN            NaN   \n",
       "15941 2023-02-26           83324.0           93045.0     324.033333   \n",
       "2863  2023-01-06               NaN               NaN            NaN   \n",
       "15939 2023-02-24           83324.0           93045.0     324.033333   \n",
       "2858  2023-01-01               NaN               NaN            NaN   \n",
       "15919 2023-02-04           93045.0           93069.0       0.800000   \n",
       "15937 2023-02-22           83324.0           93045.0     324.033333   \n",
       "2865  2023-01-08               NaN               NaN            NaN   \n",
       "\n",
       "       30d_ost_prob_sum  \n",
       "15921              24.0  \n",
       "15918              24.0  \n",
       "2883                NaN  \n",
       "15941            9721.0  \n",
       "2863                NaN  \n",
       "15939            9721.0  \n",
       "2858                NaN  \n",
       "15919              24.0  \n",
       "15937            9721.0  \n",
       "2865                NaN  "
      ]
     },
     "execution_count": 30,
     "metadata": {},
     "output_type": "execute_result"
    }
   ],
   "source": [
    "wagnum_subtables[1][['plan_date', '30d_ost_prob_min', '30d_ost_prob_max', '30d_prob_mean', '30d_ost_prob_sum']].sample(10)"
   ]
  },
  {
   "cell_type": "code",
   "execution_count": 31,
   "id": "a0a8737d",
   "metadata": {
    "ExecuteTime": {
     "end_time": "2023-11-11T16:31:51.074510589Z",
     "start_time": "2023-11-11T16:31:51.049065103Z"
    }
   },
   "outputs": [
    {
     "data": {
      "text/plain": [
       "['60d_isload_mean',\n",
       " '10d_another_road_max',\n",
       " '30d_soprovod_mean',\n",
       " '30d_naval_mean',\n",
       " '10d_prob_mean',\n",
       " '30d_avg_distance_min',\n",
       " '30d_another_road_max',\n",
       " '30d_skoroport_mean',\n",
       " '10d_openvagons_mean',\n",
       " '60d_avg_distance_max',\n",
       " '10d_soprovod_mean',\n",
       " '60d_prob_mean',\n",
       " '5d_ost_prob_min',\n",
       " '60d_ost_prob_min',\n",
       " '10d_naliv_mean',\n",
       " '30d_avg_distance_max',\n",
       " '10d_skoroport_mean',\n",
       " '30d_ost_prob_max',\n",
       " '30d_smerz_mean',\n",
       " '60d_avg_distance_min',\n",
       " '5d_nasip_mean',\n",
       " '30d_nasip_mean',\n",
       " '60d_ost_prob_sum',\n",
       " '30d_ost_prob_sum',\n",
       " '5d_avg_distance_max',\n",
       " '60d_nasip_mean',\n",
       " '10d_naval_mean',\n",
       " '60d_skoroport_mean',\n",
       " '10d_ost_prob_max',\n",
       " '5d_naval_mean',\n",
       " '5d_avg_distance_min',\n",
       " '5d_another_road_max',\n",
       " '30d_openvagons_mean',\n",
       " '30d_isload_mean',\n",
       " '30d_prob_mean',\n",
       " '10d_avg_distance_min',\n",
       " '5d_openvagons_mean',\n",
       " '5d_prob_mean',\n",
       " '60d_naval_mean',\n",
       " '60d_another_road_max',\n",
       " '60d_soprovod_mean',\n",
       " '10d_ost_prob_min',\n",
       " '5d_smerz_mean',\n",
       " '5d_ost_prob_sum',\n",
       " '60d_ost_prob_max',\n",
       " '30d_ost_prob_min',\n",
       " '30d_naliv_mean',\n",
       " '10d_ost_prob_sum',\n",
       " '5d_naliv_mean',\n",
       " '10d_avg_distance_max',\n",
       " '5d_skoroport_mean',\n",
       " '10d_nasip_mean',\n",
       " '60d_smerz_mean',\n",
       " '5d_soprovod_mean',\n",
       " '60d_naliv_mean',\n",
       " '10d_smerz_mean',\n",
       " '5d_ost_prob_max',\n",
       " '10d_isload_mean',\n",
       " '60d_openvagons_mean',\n",
       " '5d_isload_mean',\n",
       " 'date_kap',\n",
       " 'date_dep',\n",
       " 'kod_vrab',\n",
       " 'date_pl_rem',\n",
       " 'days_to_pl_rem',\n",
       " 'last_rem_date',\n",
       " 'days_from_last_rem',\n",
       " 'ost_prob']"
      ]
     },
     "execution_count": 31,
     "metadata": {},
     "output_type": "execute_result"
    }
   ],
   "source": [
    "columns_to_add"
   ]
  },
  {
   "cell_type": "code",
   "execution_count": 32,
   "id": "a4afc75c98f1a10a",
   "metadata": {
    "ExecuteTime": {
     "start_time": "2023-11-11T16:31:51.049349427Z"
    },
    "collapsed": false
   },
   "outputs": [
    {
     "data": {
      "application/vnd.jupyter.widget-view+json": {
       "model_id": "4326eea082cb412183409a2025c677cf",
       "version_major": 2,
       "version_minor": 0
      },
      "text/plain": [
       "  0%|          | 0/999 [00:00<?, ?it/s]"
      ]
     },
     "metadata": {},
     "output_type": "display_data"
    },
    {
     "data": {
      "text/html": [
       "<div>\n",
       "<style scoped>\n",
       "    .dataframe tbody tr th:only-of-type {\n",
       "        vertical-align: middle;\n",
       "    }\n",
       "\n",
       "    .dataframe tbody tr th {\n",
       "        vertical-align: top;\n",
       "    }\n",
       "\n",
       "    .dataframe thead th {\n",
       "        text-align: right;\n",
       "    }\n",
       "</style>\n",
       "<table border=\"1\" class=\"dataframe\">\n",
       "  <thead>\n",
       "    <tr style=\"text-align: right;\">\n",
       "      <th></th>\n",
       "      <th>wagnum</th>\n",
       "      <th>month</th>\n",
       "      <th>target_month</th>\n",
       "      <th>target_day</th>\n",
       "      <th>60d_isload_mean</th>\n",
       "      <th>10d_another_road_max</th>\n",
       "      <th>30d_soprovod_mean</th>\n",
       "      <th>30d_naval_mean</th>\n",
       "      <th>10d_prob_mean</th>\n",
       "      <th>30d_avg_distance_min</th>\n",
       "      <th>...</th>\n",
       "      <th>60d_openvagons_mean</th>\n",
       "      <th>5d_isload_mean</th>\n",
       "      <th>date_kap</th>\n",
       "      <th>date_dep</th>\n",
       "      <th>kod_vrab</th>\n",
       "      <th>date_pl_rem</th>\n",
       "      <th>days_to_pl_rem</th>\n",
       "      <th>last_rem_date</th>\n",
       "      <th>days_from_last_rem</th>\n",
       "      <th>ost_prob</th>\n",
       "    </tr>\n",
       "  </thead>\n",
       "  <tbody>\n",
       "    <tr>\n",
       "      <th>404</th>\n",
       "      <td>405</td>\n",
       "      <td>2023-01-01</td>\n",
       "      <td>0</td>\n",
       "      <td>0</td>\n",
       "      <td>NaN</td>\n",
       "      <td>NaN</td>\n",
       "      <td>NaN</td>\n",
       "      <td>NaN</td>\n",
       "      <td>NaN</td>\n",
       "      <td>NaN</td>\n",
       "      <td>...</td>\n",
       "      <td>NaN</td>\n",
       "      <td>NaN</td>\n",
       "      <td>NaT</td>\n",
       "      <td>2020-05-13</td>\n",
       "      <td>1</td>\n",
       "      <td>2023-05-13</td>\n",
       "      <td>132</td>\n",
       "      <td>2020-05-13</td>\n",
       "      <td>963</td>\n",
       "      <td>66652</td>\n",
       "    </tr>\n",
       "    <tr>\n",
       "      <th>406</th>\n",
       "      <td>407</td>\n",
       "      <td>2023-01-01</td>\n",
       "      <td>0</td>\n",
       "      <td>0</td>\n",
       "      <td>NaN</td>\n",
       "      <td>NaN</td>\n",
       "      <td>NaN</td>\n",
       "      <td>NaN</td>\n",
       "      <td>NaN</td>\n",
       "      <td>NaN</td>\n",
       "      <td>...</td>\n",
       "      <td>NaN</td>\n",
       "      <td>NaN</td>\n",
       "      <td>NaT</td>\n",
       "      <td>2019-10-30</td>\n",
       "      <td>1</td>\n",
       "      <td>2022-10-30</td>\n",
       "      <td>-63</td>\n",
       "      <td>2019-10-30</td>\n",
       "      <td>1159</td>\n",
       "      <td>151569</td>\n",
       "    </tr>\n",
       "    <tr>\n",
       "      <th>2831</th>\n",
       "      <td>840</td>\n",
       "      <td>2023-03-01</td>\n",
       "      <td>&lt;NA&gt;</td>\n",
       "      <td>&lt;NA&gt;</td>\n",
       "      <td>0.9</td>\n",
       "      <td>1.0</td>\n",
       "      <td>0.0</td>\n",
       "      <td>0.0</td>\n",
       "      <td>0.0</td>\n",
       "      <td>1565.685279</td>\n",
       "      <td>...</td>\n",
       "      <td>0.0</td>\n",
       "      <td>0.0</td>\n",
       "      <td>NaT</td>\n",
       "      <td>2021-10-25</td>\n",
       "      <td>0</td>\n",
       "      <td>2023-10-25</td>\n",
       "      <td>238</td>\n",
       "      <td>2021-10-25</td>\n",
       "      <td>492</td>\n",
       "      <td>115197</td>\n",
       "    </tr>\n",
       "    <tr>\n",
       "      <th>1133</th>\n",
       "      <td>138</td>\n",
       "      <td>2023-02-01</td>\n",
       "      <td>0</td>\n",
       "      <td>0</td>\n",
       "      <td>NaN</td>\n",
       "      <td>1.0</td>\n",
       "      <td>0.0</td>\n",
       "      <td>0.5</td>\n",
       "      <td>134.5</td>\n",
       "      <td>153.500000</td>\n",
       "      <td>...</td>\n",
       "      <td>NaN</td>\n",
       "      <td>0.0</td>\n",
       "      <td>NaT</td>\n",
       "      <td>2019-12-27</td>\n",
       "      <td>1</td>\n",
       "      <td>2022-12-27</td>\n",
       "      <td>-36</td>\n",
       "      <td>2019-12-27</td>\n",
       "      <td>1132</td>\n",
       "      <td>151538</td>\n",
       "    </tr>\n",
       "    <tr>\n",
       "      <th>1984</th>\n",
       "      <td>989</td>\n",
       "      <td>2023-02-01</td>\n",
       "      <td>0</td>\n",
       "      <td>0</td>\n",
       "      <td>NaN</td>\n",
       "      <td>1.0</td>\n",
       "      <td>0.0</td>\n",
       "      <td>0.0</td>\n",
       "      <td>0.0</td>\n",
       "      <td>255.000000</td>\n",
       "      <td>...</td>\n",
       "      <td>NaN</td>\n",
       "      <td>1.0</td>\n",
       "      <td>NaT</td>\n",
       "      <td>2020-07-06</td>\n",
       "      <td>0</td>\n",
       "      <td>2023-07-06</td>\n",
       "      <td>155</td>\n",
       "      <td>2020-07-06</td>\n",
       "      <td>940</td>\n",
       "      <td>36000</td>\n",
       "    </tr>\n",
       "  </tbody>\n",
       "</table>\n",
       "<p>5 rows × 72 columns</p>\n",
       "</div>"
      ],
      "text/plain": [
       "      wagnum      month  target_month  target_day  60d_isload_mean  \\\n",
       "404      405 2023-01-01             0           0              NaN   \n",
       "406      407 2023-01-01             0           0              NaN   \n",
       "2831     840 2023-03-01          <NA>        <NA>              0.9   \n",
       "1133     138 2023-02-01             0           0              NaN   \n",
       "1984     989 2023-02-01             0           0              NaN   \n",
       "\n",
       "      10d_another_road_max  30d_soprovod_mean  30d_naval_mean  10d_prob_mean  \\\n",
       "404                    NaN                NaN             NaN            NaN   \n",
       "406                    NaN                NaN             NaN            NaN   \n",
       "2831                   1.0                0.0             0.0            0.0   \n",
       "1133                   1.0                0.0             0.5          134.5   \n",
       "1984                   1.0                0.0             0.0            0.0   \n",
       "\n",
       "      30d_avg_distance_min  ...  60d_openvagons_mean  5d_isload_mean  \\\n",
       "404                    NaN  ...                  NaN             NaN   \n",
       "406                    NaN  ...                  NaN             NaN   \n",
       "2831           1565.685279  ...                  0.0             0.0   \n",
       "1133            153.500000  ...                  NaN             0.0   \n",
       "1984            255.000000  ...                  NaN             1.0   \n",
       "\n",
       "      date_kap   date_dep  kod_vrab  date_pl_rem  days_to_pl_rem  \\\n",
       "404        NaT 2020-05-13         1   2023-05-13             132   \n",
       "406        NaT 2019-10-30         1   2022-10-30             -63   \n",
       "2831       NaT 2021-10-25         0   2023-10-25             238   \n",
       "1133       NaT 2019-12-27         1   2022-12-27             -36   \n",
       "1984       NaT 2020-07-06         0   2023-07-06             155   \n",
       "\n",
       "      last_rem_date  days_from_last_rem  ost_prob  \n",
       "404      2020-05-13                 963     66652  \n",
       "406      2019-10-30                1159    151569  \n",
       "2831     2021-10-25                 492    115197  \n",
       "1133     2019-12-27                1132    151538  \n",
       "1984     2020-07-06                 940     36000  \n",
       "\n",
       "[5 rows x 72 columns]"
      ]
     },
     "execution_count": 32,
     "metadata": {},
     "output_type": "execute_result"
    }
   ],
   "source": [
    "all_df.sort_values(by=['month', 'wagnum'], inplace=True)\n",
    "\n",
    "data = pd.concat([wagnum_subtables[wagnum] for wagnum in tqdm(wagnum_subtables.keys())])\n",
    "data = data[columns_to_add + ['wagnum', 'plan_date']]\n",
    "data.rename({'plan_date': 'month'}, axis=1, inplace=True)\n",
    "all_df_new = all_df.merge(data, on=['month', 'wagnum'], how='left')\n",
    "    \n",
    "\n",
    "all_df_new.sample(5)"
   ]
  },
  {
   "cell_type": "code",
   "execution_count": 33,
   "id": "271a8bcc",
   "metadata": {
    "ExecuteTime": {
     "start_time": "2023-11-11T16:31:51.049471510Z"
    }
   },
   "outputs": [
    {
     "name": "stdout",
     "output_type": "stream",
     "text": [
      "<class 'pandas.core.frame.DataFrame'>\n",
      "RangeIndex: 2991 entries, 0 to 2990\n",
      "Data columns (total 72 columns):\n",
      " #   Column                Non-Null Count  Dtype         \n",
      "---  ------                --------------  -----         \n",
      " 0   wagnum                2991 non-null   Int64         \n",
      " 1   month                 2991 non-null   datetime64[ns]\n",
      " 2   target_month          1995 non-null   Int64         \n",
      " 3   target_day            1995 non-null   Int64         \n",
      " 4   60d_isload_mean       996 non-null    float64       \n",
      " 5   10d_another_road_max  1992 non-null   float64       \n",
      " 6   30d_soprovod_mean     1992 non-null   float64       \n",
      " 7   30d_naval_mean        1992 non-null   float64       \n",
      " 8   10d_prob_mean         1992 non-null   float64       \n",
      " 9   30d_avg_distance_min  1992 non-null   float64       \n",
      " 10  30d_another_road_max  1992 non-null   float64       \n",
      " 11  30d_skoroport_mean    1992 non-null   float64       \n",
      " 12  10d_openvagons_mean   1992 non-null   float64       \n",
      " 13  60d_avg_distance_max  996 non-null    float64       \n",
      " 14  10d_soprovod_mean     1992 non-null   float64       \n",
      " 15  60d_prob_mean         996 non-null    float64       \n",
      " 16  5d_ost_prob_min       1992 non-null   float64       \n",
      " 17  60d_ost_prob_min      996 non-null    float64       \n",
      " 18  10d_naliv_mean        1992 non-null   float64       \n",
      " 19  30d_avg_distance_max  1992 non-null   float64       \n",
      " 20  10d_skoroport_mean    1992 non-null   float64       \n",
      " 21  30d_ost_prob_max      1992 non-null   float64       \n",
      " 22  30d_smerz_mean        1992 non-null   float64       \n",
      " 23  60d_avg_distance_min  996 non-null    float64       \n",
      " 24  5d_nasip_mean         1992 non-null   float64       \n",
      " 25  30d_nasip_mean        1992 non-null   float64       \n",
      " 26  60d_ost_prob_sum      996 non-null    float64       \n",
      " 27  30d_ost_prob_sum      1992 non-null   float64       \n",
      " 28  5d_avg_distance_max   1992 non-null   float64       \n",
      " 29  60d_nasip_mean        996 non-null    float64       \n",
      " 30  10d_naval_mean        1992 non-null   float64       \n",
      " 31  60d_skoroport_mean    996 non-null    float64       \n",
      " 32  10d_ost_prob_max      1992 non-null   float64       \n",
      " 33  5d_naval_mean         1992 non-null   float64       \n",
      " 34  5d_avg_distance_min   1992 non-null   float64       \n",
      " 35  5d_another_road_max   1992 non-null   float64       \n",
      " 36  30d_openvagons_mean   1992 non-null   float64       \n",
      " 37  30d_isload_mean       1992 non-null   float64       \n",
      " 38  30d_prob_mean         1992 non-null   float64       \n",
      " 39  10d_avg_distance_min  1992 non-null   float64       \n",
      " 40  5d_openvagons_mean    1992 non-null   float64       \n",
      " 41  5d_prob_mean          1992 non-null   float64       \n",
      " 42  60d_naval_mean        996 non-null    float64       \n",
      " 43  60d_another_road_max  996 non-null    float64       \n",
      " 44  60d_soprovod_mean     996 non-null    float64       \n",
      " 45  10d_ost_prob_min      1992 non-null   float64       \n",
      " 46  5d_smerz_mean         1992 non-null   float64       \n",
      " 47  5d_ost_prob_sum       1992 non-null   float64       \n",
      " 48  60d_ost_prob_max      996 non-null    float64       \n",
      " 49  30d_ost_prob_min      1992 non-null   float64       \n",
      " 50  30d_naliv_mean        1992 non-null   float64       \n",
      " 51  10d_ost_prob_sum      1992 non-null   float64       \n",
      " 52  5d_naliv_mean         1992 non-null   float64       \n",
      " 53  10d_avg_distance_max  1992 non-null   float64       \n",
      " 54  5d_skoroport_mean     1992 non-null   float64       \n",
      " 55  10d_nasip_mean        1992 non-null   float64       \n",
      " 56  60d_smerz_mean        996 non-null    float64       \n",
      " 57  5d_soprovod_mean      1992 non-null   float64       \n",
      " 58  60d_naliv_mean        996 non-null    float64       \n",
      " 59  10d_smerz_mean        1992 non-null   float64       \n",
      " 60  5d_ost_prob_max       1992 non-null   float64       \n",
      " 61  10d_isload_mean       1992 non-null   float64       \n",
      " 62  60d_openvagons_mean   996 non-null    float64       \n",
      " 63  5d_isload_mean        1992 non-null   float64       \n",
      " 64  date_kap              876 non-null    datetime64[ns]\n",
      " 65  date_dep              2991 non-null   datetime64[ns]\n",
      " 66  kod_vrab              2991 non-null   Int64         \n",
      " 67  date_pl_rem           2991 non-null   datetime64[ns]\n",
      " 68  days_to_pl_rem        2991 non-null   Int64         \n",
      " 69  last_rem_date         2991 non-null   datetime64[ns]\n",
      " 70  days_from_last_rem    2991 non-null   Int64         \n",
      " 71  ost_prob              2991 non-null   Int64         \n",
      "dtypes: Int64(7), datetime64[ns](5), float64(60)\n",
      "memory usage: 1.7 MB\n"
     ]
    }
   ],
   "source": [
    "all_df_new.info()"
   ]
  },
  {
   "cell_type": "code",
   "execution_count": 34,
   "id": "ade190aa",
   "metadata": {
    "ExecuteTime": {
     "start_time": "2023-11-11T16:31:51.049608748Z"
    }
   },
   "outputs": [
    {
     "data": {
      "text/plain": [
       "<DatetimeArray>\n",
       "['2023-01-01 00:00:00', '2023-02-01 00:00:00', '2023-03-01 00:00:00']\n",
       "Length: 3, dtype: datetime64[ns]"
      ]
     },
     "execution_count": 34,
     "metadata": {},
     "output_type": "execute_result"
    }
   ],
   "source": [
    "all_df_new.month.unique()"
   ]
  },
  {
   "cell_type": "markdown",
   "id": "692e3820bea5da48",
   "metadata": {
    "collapsed": false
   },
   "source": [
    "### Тип владения вагоном - сбор данных"
   ]
  },
  {
   "cell_type": "code",
   "execution_count": 41,
   "id": "be324f8d",
   "metadata": {},
   "outputs": [
    {
     "name": "stdout",
     "output_type": "stream",
     "text": [
      "(7193667, 8)\n",
      "(7227374, 8)\n"
     ]
    },
    {
     "data": {
      "text/html": [
       "<div>\n",
       "<style scoped>\n",
       "    .dataframe tbody tr th:only-of-type {\n",
       "        vertical-align: middle;\n",
       "    }\n",
       "\n",
       "    .dataframe tbody tr th {\n",
       "        vertical-align: top;\n",
       "    }\n",
       "\n",
       "    .dataframe thead th {\n",
       "        text-align: right;\n",
       "    }\n",
       "</style>\n",
       "<table border=\"1\" class=\"dataframe\">\n",
       "  <thead>\n",
       "    <tr style=\"text-align: right;\">\n",
       "      <th></th>\n",
       "      <th>repdate</th>\n",
       "      <th>wagnum</th>\n",
       "      <th>ost_prob</th>\n",
       "      <th>manage_type</th>\n",
       "      <th>rod_id</th>\n",
       "      <th>reestr_state</th>\n",
       "      <th>ownership_type</th>\n",
       "      <th>month</th>\n",
       "    </tr>\n",
       "  </thead>\n",
       "  <tbody>\n",
       "    <tr>\n",
       "      <th>476757</th>\n",
       "      <td>2022-12-26</td>\n",
       "      <td>14249</td>\n",
       "      <td>142555</td>\n",
       "      <td>0</td>\n",
       "      <td>1</td>\n",
       "      <td>1</td>\n",
       "      <td>0</td>\n",
       "      <td>12</td>\n",
       "    </tr>\n",
       "    <tr>\n",
       "      <th>1771899</th>\n",
       "      <td>2022-09-09</td>\n",
       "      <td>5892</td>\n",
       "      <td>134553</td>\n",
       "      <td>0</td>\n",
       "      <td>0</td>\n",
       "      <td>1</td>\n",
       "      <td>0</td>\n",
       "      <td>9</td>\n",
       "    </tr>\n",
       "    <tr>\n",
       "      <th>5986803</th>\n",
       "      <td>2022-08-12</td>\n",
       "      <td>6187</td>\n",
       "      <td>16147</td>\n",
       "      <td>0</td>\n",
       "      <td>0</td>\n",
       "      <td>1</td>\n",
       "      <td>0</td>\n",
       "      <td>8</td>\n",
       "    </tr>\n",
       "    <tr>\n",
       "      <th>7175313</th>\n",
       "      <td>2023-02-15</td>\n",
       "      <td>25600</td>\n",
       "      <td>146934</td>\n",
       "      <td>0</td>\n",
       "      <td>1</td>\n",
       "      <td>1</td>\n",
       "      <td>0</td>\n",
       "      <td>2</td>\n",
       "    </tr>\n",
       "    <tr>\n",
       "      <th>2302740</th>\n",
       "      <td>2022-09-24</td>\n",
       "      <td>27412</td>\n",
       "      <td>154088</td>\n",
       "      <td>0</td>\n",
       "      <td>1</td>\n",
       "      <td>1</td>\n",
       "      <td>0</td>\n",
       "      <td>9</td>\n",
       "    </tr>\n",
       "    <tr>\n",
       "      <th>6619151</th>\n",
       "      <td>2023-02-03</td>\n",
       "      <td>33824</td>\n",
       "      <td>337184</td>\n",
       "      <td>0</td>\n",
       "      <td>1</td>\n",
       "      <td>1</td>\n",
       "      <td>0</td>\n",
       "      <td>2</td>\n",
       "    </tr>\n",
       "    <tr>\n",
       "      <th>5142040</th>\n",
       "      <td>2022-11-13</td>\n",
       "      <td>5130</td>\n",
       "      <td>15351</td>\n",
       "      <td>0</td>\n",
       "      <td>0</td>\n",
       "      <td>1</td>\n",
       "      <td>0</td>\n",
       "      <td>11</td>\n",
       "    </tr>\n",
       "    <tr>\n",
       "      <th>2971914</th>\n",
       "      <td>2022-09-18</td>\n",
       "      <td>13273</td>\n",
       "      <td>54611</td>\n",
       "      <td>0</td>\n",
       "      <td>1</td>\n",
       "      <td>1</td>\n",
       "      <td>0</td>\n",
       "      <td>9</td>\n",
       "    </tr>\n",
       "    <tr>\n",
       "      <th>5448997</th>\n",
       "      <td>2023-01-03</td>\n",
       "      <td>28931</td>\n",
       "      <td>139541</td>\n",
       "      <td>0</td>\n",
       "      <td>1</td>\n",
       "      <td>1</td>\n",
       "      <td>0</td>\n",
       "      <td>1</td>\n",
       "    </tr>\n",
       "    <tr>\n",
       "      <th>3282318</th>\n",
       "      <td>2022-10-12</td>\n",
       "      <td>7991</td>\n",
       "      <td>135599</td>\n",
       "      <td>0</td>\n",
       "      <td>0</td>\n",
       "      <td>1</td>\n",
       "      <td>0</td>\n",
       "      <td>10</td>\n",
       "    </tr>\n",
       "  </tbody>\n",
       "</table>\n",
       "</div>"
      ],
      "text/plain": [
       "           repdate  wagnum  ost_prob  manage_type  rod_id  reestr_state  \\\n",
       "476757  2022-12-26   14249    142555            0       1             1   \n",
       "1771899 2022-09-09    5892    134553            0       0             1   \n",
       "5986803 2022-08-12    6187     16147            0       0             1   \n",
       "7175313 2023-02-15   25600    146934            0       1             1   \n",
       "2302740 2022-09-24   27412    154088            0       1             1   \n",
       "6619151 2023-02-03   33824    337184            0       1             1   \n",
       "5142040 2022-11-13    5130     15351            0       0             1   \n",
       "2971914 2022-09-18   13273     54611            0       1             1   \n",
       "5448997 2023-01-03   28931    139541            0       1             1   \n",
       "3282318 2022-10-12    7991    135599            0       0             1   \n",
       "\n",
       "         ownership_type  month  \n",
       "476757                0     12  \n",
       "1771899               0      9  \n",
       "5986803               0      8  \n",
       "7175313               0      2  \n",
       "2302740               0      9  \n",
       "6619151               0      2  \n",
       "5142040               0     11  \n",
       "2971914               0      9  \n",
       "5448997               0      1  \n",
       "3282318               0     10  "
      ]
     },
     "execution_count": 41,
     "metadata": {},
     "output_type": "execute_result"
    }
   ],
   "source": [
    "# For rows in wag_prob with repdate == 2023-02-28, add the same row with repdate == 2023-03-01\n",
    "\n",
    "wag_prob = pd.read_parquet(path_train + '/wagons_probeg_ownersip.parquet').convert_dtypes()\n",
    "print(wag_prob.shape)\n",
    "\n",
    "rows = wag_prob[wag_prob['repdate'] == pd.to_datetime('2023-02-28')].copy()\n",
    "rows['repdate'] = pd.to_datetime('2023-03-01')\n",
    "wag_prob = pd.concat([wag_prob, rows], ignore_index=True)\n",
    "print(wag_prob.shape)\n",
    "\n",
    "wag_prob.sample(10)"
   ]
  },
  {
   "cell_type": "code",
   "execution_count": 42,
   "id": "4a880bd1bf66efbe",
   "metadata": {
    "ExecuteTime": {
     "start_time": "2023-11-11T16:31:51.049920240Z"
    },
    "collapsed": false
   },
   "outputs": [
    {
     "name": "stdout",
     "output_type": "stream",
     "text": [
      "(271267, 8)\n"
     ]
    },
    {
     "data": {
      "text/html": [
       "<div>\n",
       "<style scoped>\n",
       "    .dataframe tbody tr th:only-of-type {\n",
       "        vertical-align: middle;\n",
       "    }\n",
       "\n",
       "    .dataframe tbody tr th {\n",
       "        vertical-align: top;\n",
       "    }\n",
       "\n",
       "    .dataframe thead th {\n",
       "        text-align: right;\n",
       "    }\n",
       "</style>\n",
       "<table border=\"1\" class=\"dataframe\">\n",
       "  <thead>\n",
       "    <tr style=\"text-align: right;\">\n",
       "      <th></th>\n",
       "      <th>wagnum</th>\n",
       "      <th>month</th>\n",
       "      <th>target_month</th>\n",
       "      <th>target_day</th>\n",
       "      <th>60d_isload_mean</th>\n",
       "      <th>10d_another_road_max</th>\n",
       "      <th>30d_soprovod_mean</th>\n",
       "      <th>30d_naval_mean</th>\n",
       "      <th>10d_prob_mean</th>\n",
       "      <th>30d_avg_distance_min</th>\n",
       "      <th>...</th>\n",
       "      <th>kod_vrab</th>\n",
       "      <th>date_pl_rem</th>\n",
       "      <th>days_to_pl_rem</th>\n",
       "      <th>last_rem_date</th>\n",
       "      <th>days_from_last_rem</th>\n",
       "      <th>ost_prob</th>\n",
       "      <th>manage_type</th>\n",
       "      <th>rod_id</th>\n",
       "      <th>reestr_state</th>\n",
       "      <th>ownership_type</th>\n",
       "    </tr>\n",
       "  </thead>\n",
       "  <tbody>\n",
       "    <tr>\n",
       "      <th>33</th>\n",
       "      <td>34</td>\n",
       "      <td>2023-01-01</td>\n",
       "      <td>0</td>\n",
       "      <td>0</td>\n",
       "      <td>NaN</td>\n",
       "      <td>NaN</td>\n",
       "      <td>NaN</td>\n",
       "      <td>NaN</td>\n",
       "      <td>NaN</td>\n",
       "      <td>NaN</td>\n",
       "      <td>...</td>\n",
       "      <td>2</td>\n",
       "      <td>2024-07-01</td>\n",
       "      <td>547</td>\n",
       "      <td>2021-11-10</td>\n",
       "      <td>417</td>\n",
       "      <td>115945</td>\n",
       "      <td>0</td>\n",
       "      <td>0</td>\n",
       "      <td>1</td>\n",
       "      <td>0</td>\n",
       "    </tr>\n",
       "    <tr>\n",
       "      <th>2132</th>\n",
       "      <td>141</td>\n",
       "      <td>2023-03-01</td>\n",
       "      <td>&lt;NA&gt;</td>\n",
       "      <td>&lt;NA&gt;</td>\n",
       "      <td>0.3</td>\n",
       "      <td>0.0</td>\n",
       "      <td>0.0</td>\n",
       "      <td>0.0</td>\n",
       "      <td>0.0</td>\n",
       "      <td>1565.685279</td>\n",
       "      <td>...</td>\n",
       "      <td>1</td>\n",
       "      <td>2022-11-27</td>\n",
       "      <td>-94</td>\n",
       "      <td>2019-11-27</td>\n",
       "      <td>1190</td>\n",
       "      <td>141525</td>\n",
       "      <td>0</td>\n",
       "      <td>0</td>\n",
       "      <td>1</td>\n",
       "      <td>0</td>\n",
       "    </tr>\n",
       "    <tr>\n",
       "      <th>2831</th>\n",
       "      <td>840</td>\n",
       "      <td>2023-03-01</td>\n",
       "      <td>&lt;NA&gt;</td>\n",
       "      <td>&lt;NA&gt;</td>\n",
       "      <td>0.9</td>\n",
       "      <td>1.0</td>\n",
       "      <td>0.0</td>\n",
       "      <td>0.0</td>\n",
       "      <td>0.0</td>\n",
       "      <td>1565.685279</td>\n",
       "      <td>...</td>\n",
       "      <td>0</td>\n",
       "      <td>2023-10-25</td>\n",
       "      <td>238</td>\n",
       "      <td>2021-10-25</td>\n",
       "      <td>492</td>\n",
       "      <td>115197</td>\n",
       "      <td>0</td>\n",
       "      <td>0</td>\n",
       "      <td>1</td>\n",
       "      <td>0</td>\n",
       "    </tr>\n",
       "    <tr>\n",
       "      <th>340</th>\n",
       "      <td>341</td>\n",
       "      <td>2023-01-01</td>\n",
       "      <td>0</td>\n",
       "      <td>0</td>\n",
       "      <td>NaN</td>\n",
       "      <td>NaN</td>\n",
       "      <td>NaN</td>\n",
       "      <td>NaN</td>\n",
       "      <td>NaN</td>\n",
       "      <td>NaN</td>\n",
       "      <td>...</td>\n",
       "      <td>1</td>\n",
       "      <td>2022-11-22</td>\n",
       "      <td>-40</td>\n",
       "      <td>2019-11-22</td>\n",
       "      <td>1136</td>\n",
       "      <td>157877</td>\n",
       "      <td>0</td>\n",
       "      <td>0</td>\n",
       "      <td>1</td>\n",
       "      <td>0</td>\n",
       "    </tr>\n",
       "    <tr>\n",
       "      <th>712</th>\n",
       "      <td>713</td>\n",
       "      <td>2023-01-01</td>\n",
       "      <td>0</td>\n",
       "      <td>0</td>\n",
       "      <td>NaN</td>\n",
       "      <td>NaN</td>\n",
       "      <td>NaN</td>\n",
       "      <td>NaN</td>\n",
       "      <td>NaN</td>\n",
       "      <td>NaN</td>\n",
       "      <td>...</td>\n",
       "      <td>0</td>\n",
       "      <td>2024-04-06</td>\n",
       "      <td>461</td>\n",
       "      <td>2021-04-06</td>\n",
       "      <td>635</td>\n",
       "      <td>85871</td>\n",
       "      <td>0</td>\n",
       "      <td>0</td>\n",
       "      <td>1</td>\n",
       "      <td>0</td>\n",
       "    </tr>\n",
       "  </tbody>\n",
       "</table>\n",
       "<p>5 rows × 76 columns</p>\n",
       "</div>"
      ],
      "text/plain": [
       "      wagnum      month  target_month  target_day  60d_isload_mean  \\\n",
       "33        34 2023-01-01             0           0              NaN   \n",
       "2132     141 2023-03-01          <NA>        <NA>              0.3   \n",
       "2831     840 2023-03-01          <NA>        <NA>              0.9   \n",
       "340      341 2023-01-01             0           0              NaN   \n",
       "712      713 2023-01-01             0           0              NaN   \n",
       "\n",
       "      10d_another_road_max  30d_soprovod_mean  30d_naval_mean  10d_prob_mean  \\\n",
       "33                     NaN                NaN             NaN            NaN   \n",
       "2132                   0.0                0.0             0.0            0.0   \n",
       "2831                   1.0                0.0             0.0            0.0   \n",
       "340                    NaN                NaN             NaN            NaN   \n",
       "712                    NaN                NaN             NaN            NaN   \n",
       "\n",
       "      30d_avg_distance_min  ...  kod_vrab  date_pl_rem  days_to_pl_rem  \\\n",
       "33                     NaN  ...         2   2024-07-01             547   \n",
       "2132           1565.685279  ...         1   2022-11-27             -94   \n",
       "2831           1565.685279  ...         0   2023-10-25             238   \n",
       "340                    NaN  ...         1   2022-11-22             -40   \n",
       "712                    NaN  ...         0   2024-04-06             461   \n",
       "\n",
       "      last_rem_date  days_from_last_rem  ost_prob  manage_type  rod_id  \\\n",
       "33       2021-11-10                 417    115945            0       0   \n",
       "2132     2019-11-27                1190    141525            0       0   \n",
       "2831     2021-10-25                 492    115197            0       0   \n",
       "340      2019-11-22                1136    157877            0       0   \n",
       "712      2021-04-06                 635     85871            0       0   \n",
       "\n",
       "      reestr_state  ownership_type  \n",
       "33               1               0  \n",
       "2132             1               0  \n",
       "2831             1               0  \n",
       "340              1               0  \n",
       "712              1               0  \n",
       "\n",
       "[5 rows x 76 columns]"
      ]
     },
     "execution_count": 42,
     "metadata": {},
     "output_type": "execute_result"
    }
   ],
   "source": [
    "wag_prob_months = wag_prob[wag_prob.repdate.dt.day == 1].copy()\n",
    "print(wag_prob_months.shape)\n",
    "\n",
    "wag_prob_months.drop(['ost_prob', 'month'], axis=1, inplace=True)\n",
    "wag_prob_months.rename({'repdate': 'month'}, axis=1, inplace=True)\n",
    "\n",
    "all_df_new_ = all_df_new.merge(wag_prob_months, on=['month', 'wagnum'], how='left')\n",
    "all_df_new_.sample(5)"
   ]
  },
  {
   "cell_type": "code",
   "execution_count": 45,
   "id": "cbbd5006",
   "metadata": {
    "ExecuteTime": {
     "start_time": "2023-11-11T16:31:51.050112513Z"
    }
   },
   "outputs": [],
   "source": [
    "all_df_new = all_df_new_"
   ]
  },
  {
   "cell_type": "markdown",
   "id": "91cdb3592a7cdf00",
   "metadata": {
    "collapsed": false
   },
   "source": [
    "### Характеристики вагонов - сбор данных"
   ]
  },
  {
   "cell_type": "code",
   "execution_count": 46,
   "id": "53f441a8cf0ba07a",
   "metadata": {
    "ExecuteTime": {
     "start_time": "2023-11-11T16:31:51.050225656Z"
    },
    "collapsed": false
   },
   "outputs": [
    {
     "data": {
      "text/plain": [
       "Index(['wagnum', 'model', 'rod_id', 'gruz', 'cnsi_gruz_capacity',\n",
       "       'cnsi_volumek', 'tara', 'date_build', 'srok_sl', 'zavod_build',\n",
       "       'date_iskl', 'cnsi_probeg_dr', 'cnsi_probeg_kr', 'kuzov', 'telega',\n",
       "       'tormoz', 'tipvozd', 'tippogl', 'norma_km', 'ownertype'],\n",
       "      dtype='object')"
      ]
     },
     "execution_count": 46,
     "metadata": {},
     "output_type": "execute_result"
    }
   ],
   "source": [
    "wag_param = pd.read_parquet(path_train + '/wag_params.parquet').convert_dtypes()\n",
    "wag_param.columns"
   ]
  },
  {
   "cell_type": "code",
   "execution_count": 47,
   "id": "a69861eebe7dc29b",
   "metadata": {
    "ExecuteTime": {
     "start_time": "2023-11-11T16:31:51.050334678Z"
    },
    "collapsed": false
   },
   "outputs": [
    {
     "data": {
      "text/html": [
       "<div>\n",
       "<style scoped>\n",
       "    .dataframe tbody tr th:only-of-type {\n",
       "        vertical-align: middle;\n",
       "    }\n",
       "\n",
       "    .dataframe tbody tr th {\n",
       "        vertical-align: top;\n",
       "    }\n",
       "\n",
       "    .dataframe thead th {\n",
       "        text-align: right;\n",
       "    }\n",
       "</style>\n",
       "<table border=\"1\" class=\"dataframe\">\n",
       "  <thead>\n",
       "    <tr style=\"text-align: right;\">\n",
       "      <th></th>\n",
       "      <th>wagnum</th>\n",
       "      <th>month</th>\n",
       "      <th>target_month</th>\n",
       "      <th>target_day</th>\n",
       "      <th>60d_isload_mean</th>\n",
       "      <th>10d_another_road_max</th>\n",
       "      <th>30d_soprovod_mean</th>\n",
       "      <th>30d_naval_mean</th>\n",
       "      <th>10d_prob_mean</th>\n",
       "      <th>30d_avg_distance_min</th>\n",
       "      <th>...</th>\n",
       "      <th>date_iskl</th>\n",
       "      <th>cnsi_probeg_dr</th>\n",
       "      <th>cnsi_probeg_kr</th>\n",
       "      <th>kuzov</th>\n",
       "      <th>telega</th>\n",
       "      <th>tormoz</th>\n",
       "      <th>tipvozd</th>\n",
       "      <th>tippogl</th>\n",
       "      <th>norma_km</th>\n",
       "      <th>ownertype</th>\n",
       "    </tr>\n",
       "  </thead>\n",
       "  <tbody>\n",
       "    <tr>\n",
       "      <th>2990</th>\n",
       "      <td>999</td>\n",
       "      <td>2023-03-01</td>\n",
       "      <td>&lt;NA&gt;</td>\n",
       "      <td>&lt;NA&gt;</td>\n",
       "      <td>0.350000</td>\n",
       "      <td>1.0</td>\n",
       "      <td>0.0</td>\n",
       "      <td>0.000000</td>\n",
       "      <td>260.6</td>\n",
       "      <td>251.428571</td>\n",
       "      <td>...</td>\n",
       "      <td>NaT</td>\n",
       "      <td>110</td>\n",
       "      <td>160</td>\n",
       "      <td>2</td>\n",
       "      <td>9</td>\n",
       "      <td>2</td>\n",
       "      <td>7</td>\n",
       "      <td>12</td>\n",
       "      <td>160000</td>\n",
       "      <td>0</td>\n",
       "    </tr>\n",
       "    <tr>\n",
       "      <th>460</th>\n",
       "      <td>461</td>\n",
       "      <td>2023-01-01</td>\n",
       "      <td>0</td>\n",
       "      <td>0</td>\n",
       "      <td>NaN</td>\n",
       "      <td>NaN</td>\n",
       "      <td>NaN</td>\n",
       "      <td>NaN</td>\n",
       "      <td>NaN</td>\n",
       "      <td>NaN</td>\n",
       "      <td>...</td>\n",
       "      <td>NaT</td>\n",
       "      <td>110</td>\n",
       "      <td>160</td>\n",
       "      <td>2</td>\n",
       "      <td>9</td>\n",
       "      <td>2</td>\n",
       "      <td>6</td>\n",
       "      <td>11</td>\n",
       "      <td>160000</td>\n",
       "      <td>0</td>\n",
       "    </tr>\n",
       "    <tr>\n",
       "      <th>130</th>\n",
       "      <td>131</td>\n",
       "      <td>2023-01-01</td>\n",
       "      <td>0</td>\n",
       "      <td>0</td>\n",
       "      <td>NaN</td>\n",
       "      <td>NaN</td>\n",
       "      <td>NaN</td>\n",
       "      <td>NaN</td>\n",
       "      <td>NaN</td>\n",
       "      <td>NaN</td>\n",
       "      <td>...</td>\n",
       "      <td>NaT</td>\n",
       "      <td>110</td>\n",
       "      <td>160</td>\n",
       "      <td>2</td>\n",
       "      <td>9</td>\n",
       "      <td>2</td>\n",
       "      <td>4</td>\n",
       "      <td>11</td>\n",
       "      <td>160000</td>\n",
       "      <td>0</td>\n",
       "    </tr>\n",
       "    <tr>\n",
       "      <th>1448</th>\n",
       "      <td>453</td>\n",
       "      <td>2023-02-01</td>\n",
       "      <td>0</td>\n",
       "      <td>0</td>\n",
       "      <td>NaN</td>\n",
       "      <td>1.0</td>\n",
       "      <td>0.0</td>\n",
       "      <td>0.166667</td>\n",
       "      <td>255.6</td>\n",
       "      <td>371.000000</td>\n",
       "      <td>...</td>\n",
       "      <td>NaT</td>\n",
       "      <td>110</td>\n",
       "      <td>160</td>\n",
       "      <td>2</td>\n",
       "      <td>9</td>\n",
       "      <td>2</td>\n",
       "      <td>4</td>\n",
       "      <td>11</td>\n",
       "      <td>160000</td>\n",
       "      <td>0</td>\n",
       "    </tr>\n",
       "    <tr>\n",
       "      <th>2586</th>\n",
       "      <td>595</td>\n",
       "      <td>2023-03-01</td>\n",
       "      <td>&lt;NA&gt;</td>\n",
       "      <td>&lt;NA&gt;</td>\n",
       "      <td>0.516667</td>\n",
       "      <td>1.0</td>\n",
       "      <td>0.0</td>\n",
       "      <td>0.000000</td>\n",
       "      <td>0.0</td>\n",
       "      <td>658.000000</td>\n",
       "      <td>...</td>\n",
       "      <td>NaT</td>\n",
       "      <td>110</td>\n",
       "      <td>160</td>\n",
       "      <td>2</td>\n",
       "      <td>9</td>\n",
       "      <td>2</td>\n",
       "      <td>6</td>\n",
       "      <td>11</td>\n",
       "      <td>160000</td>\n",
       "      <td>0</td>\n",
       "    </tr>\n",
       "  </tbody>\n",
       "</table>\n",
       "<p>5 rows × 95 columns</p>\n",
       "</div>"
      ],
      "text/plain": [
       "      wagnum      month  target_month  target_day  60d_isload_mean  \\\n",
       "2990     999 2023-03-01          <NA>        <NA>         0.350000   \n",
       "460      461 2023-01-01             0           0              NaN   \n",
       "130      131 2023-01-01             0           0              NaN   \n",
       "1448     453 2023-02-01             0           0              NaN   \n",
       "2586     595 2023-03-01          <NA>        <NA>         0.516667   \n",
       "\n",
       "      10d_another_road_max  30d_soprovod_mean  30d_naval_mean  10d_prob_mean  \\\n",
       "2990                   1.0                0.0        0.000000          260.6   \n",
       "460                    NaN                NaN             NaN            NaN   \n",
       "130                    NaN                NaN             NaN            NaN   \n",
       "1448                   1.0                0.0        0.166667          255.6   \n",
       "2586                   1.0                0.0        0.000000            0.0   \n",
       "\n",
       "      30d_avg_distance_min  ...  date_iskl  cnsi_probeg_dr  cnsi_probeg_kr  \\\n",
       "2990            251.428571  ...        NaT             110             160   \n",
       "460                    NaN  ...        NaT             110             160   \n",
       "130                    NaN  ...        NaT             110             160   \n",
       "1448            371.000000  ...        NaT             110             160   \n",
       "2586            658.000000  ...        NaT             110             160   \n",
       "\n",
       "      kuzov  telega  tormoz  tipvozd  tippogl  norma_km  ownertype  \n",
       "2990      2       9       2        7       12    160000          0  \n",
       "460       2       9       2        6       11    160000          0  \n",
       "130       2       9       2        4       11    160000          0  \n",
       "1448      2       9       2        4       11    160000          0  \n",
       "2586      2       9       2        6       11    160000          0  \n",
       "\n",
       "[5 rows x 95 columns]"
      ]
     },
     "execution_count": 47,
     "metadata": {},
     "output_type": "execute_result"
    }
   ],
   "source": [
    "all_df_new = all_df_new.merge(wag_param, on=['wagnum'], how='left')\n",
    "all_df_new.sample(5)"
   ]
  },
  {
   "cell_type": "code",
   "execution_count": 48,
   "id": "9c497d24e1101816",
   "metadata": {
    "ExecuteTime": {
     "start_time": "2023-11-11T16:31:51.050592393Z"
    },
    "collapsed": false
   },
   "outputs": [
    {
     "name": "stdout",
     "output_type": "stream",
     "text": [
      "<class 'pandas.core.frame.DataFrame'>\n",
      "RangeIndex: 2991 entries, 0 to 2990\n",
      "Data columns (total 95 columns):\n",
      " #   Column                Non-Null Count  Dtype         \n",
      "---  ------                --------------  -----         \n",
      " 0   wagnum                2991 non-null   Int64         \n",
      " 1   month                 2991 non-null   datetime64[ns]\n",
      " 2   target_month          1995 non-null   Int64         \n",
      " 3   target_day            1995 non-null   Int64         \n",
      " 4   60d_isload_mean       996 non-null    float64       \n",
      " 5   10d_another_road_max  1992 non-null   float64       \n",
      " 6   30d_soprovod_mean     1992 non-null   float64       \n",
      " 7   30d_naval_mean        1992 non-null   float64       \n",
      " 8   10d_prob_mean         1992 non-null   float64       \n",
      " 9   30d_avg_distance_min  1992 non-null   float64       \n",
      " 10  30d_another_road_max  1992 non-null   float64       \n",
      " 11  30d_skoroport_mean    1992 non-null   float64       \n",
      " 12  10d_openvagons_mean   1992 non-null   float64       \n",
      " 13  60d_avg_distance_max  996 non-null    float64       \n",
      " 14  10d_soprovod_mean     1992 non-null   float64       \n",
      " 15  60d_prob_mean         996 non-null    float64       \n",
      " 16  5d_ost_prob_min       1992 non-null   float64       \n",
      " 17  60d_ost_prob_min      996 non-null    float64       \n",
      " 18  10d_naliv_mean        1992 non-null   float64       \n",
      " 19  30d_avg_distance_max  1992 non-null   float64       \n",
      " 20  10d_skoroport_mean    1992 non-null   float64       \n",
      " 21  30d_ost_prob_max      1992 non-null   float64       \n",
      " 22  30d_smerz_mean        1992 non-null   float64       \n",
      " 23  60d_avg_distance_min  996 non-null    float64       \n",
      " 24  5d_nasip_mean         1992 non-null   float64       \n",
      " 25  30d_nasip_mean        1992 non-null   float64       \n",
      " 26  60d_ost_prob_sum      996 non-null    float64       \n",
      " 27  30d_ost_prob_sum      1992 non-null   float64       \n",
      " 28  5d_avg_distance_max   1992 non-null   float64       \n",
      " 29  60d_nasip_mean        996 non-null    float64       \n",
      " 30  10d_naval_mean        1992 non-null   float64       \n",
      " 31  60d_skoroport_mean    996 non-null    float64       \n",
      " 32  10d_ost_prob_max      1992 non-null   float64       \n",
      " 33  5d_naval_mean         1992 non-null   float64       \n",
      " 34  5d_avg_distance_min   1992 non-null   float64       \n",
      " 35  5d_another_road_max   1992 non-null   float64       \n",
      " 36  30d_openvagons_mean   1992 non-null   float64       \n",
      " 37  30d_isload_mean       1992 non-null   float64       \n",
      " 38  30d_prob_mean         1992 non-null   float64       \n",
      " 39  10d_avg_distance_min  1992 non-null   float64       \n",
      " 40  5d_openvagons_mean    1992 non-null   float64       \n",
      " 41  5d_prob_mean          1992 non-null   float64       \n",
      " 42  60d_naval_mean        996 non-null    float64       \n",
      " 43  60d_another_road_max  996 non-null    float64       \n",
      " 44  60d_soprovod_mean     996 non-null    float64       \n",
      " 45  10d_ost_prob_min      1992 non-null   float64       \n",
      " 46  5d_smerz_mean         1992 non-null   float64       \n",
      " 47  5d_ost_prob_sum       1992 non-null   float64       \n",
      " 48  60d_ost_prob_max      996 non-null    float64       \n",
      " 49  30d_ost_prob_min      1992 non-null   float64       \n",
      " 50  30d_naliv_mean        1992 non-null   float64       \n",
      " 51  10d_ost_prob_sum      1992 non-null   float64       \n",
      " 52  5d_naliv_mean         1992 non-null   float64       \n",
      " 53  10d_avg_distance_max  1992 non-null   float64       \n",
      " 54  5d_skoroport_mean     1992 non-null   float64       \n",
      " 55  10d_nasip_mean        1992 non-null   float64       \n",
      " 56  60d_smerz_mean        996 non-null    float64       \n",
      " 57  5d_soprovod_mean      1992 non-null   float64       \n",
      " 58  60d_naliv_mean        996 non-null    float64       \n",
      " 59  10d_smerz_mean        1992 non-null   float64       \n",
      " 60  5d_ost_prob_max       1992 non-null   float64       \n",
      " 61  10d_isload_mean       1992 non-null   float64       \n",
      " 62  60d_openvagons_mean   996 non-null    float64       \n",
      " 63  5d_isload_mean        1992 non-null   float64       \n",
      " 64  date_kap              876 non-null    datetime64[ns]\n",
      " 65  date_dep              2991 non-null   datetime64[ns]\n",
      " 66  kod_vrab              2991 non-null   Int64         \n",
      " 67  date_pl_rem           2991 non-null   datetime64[ns]\n",
      " 68  days_to_pl_rem        2991 non-null   Int64         \n",
      " 69  last_rem_date         2991 non-null   datetime64[ns]\n",
      " 70  days_from_last_rem    2991 non-null   Int64         \n",
      " 71  ost_prob              2991 non-null   Int64         \n",
      " 72  manage_type           2991 non-null   Int64         \n",
      " 73  rod_id_x              2991 non-null   Int64         \n",
      " 74  reestr_state          2991 non-null   Int64         \n",
      " 75  ownership_type        2991 non-null   Int64         \n",
      " 76  model                 2991 non-null   string        \n",
      " 77  rod_id_y              2991 non-null   Int64         \n",
      " 78  gruz                  2991 non-null   Int64         \n",
      " 79  cnsi_gruz_capacity    2991 non-null   Int64         \n",
      " 80  cnsi_volumek          2991 non-null   Float64       \n",
      " 81  tara                  2991 non-null   Int64         \n",
      " 82  date_build            2991 non-null   datetime64[ns]\n",
      " 83  srok_sl               2991 non-null   datetime64[ns]\n",
      " 84  zavod_build           2991 non-null   Int64         \n",
      " 85  date_iskl             3 non-null      datetime64[ns]\n",
      " 86  cnsi_probeg_dr        2991 non-null   Int64         \n",
      " 87  cnsi_probeg_kr        2991 non-null   Int64         \n",
      " 88  kuzov                 2991 non-null   Int64         \n",
      " 89  telega                2991 non-null   Int64         \n",
      " 90  tormoz                2991 non-null   Int64         \n",
      " 91  tipvozd               2991 non-null   string        \n",
      " 92  tippogl               2898 non-null   Int64         \n",
      " 93  norma_km              2991 non-null   Int64         \n",
      " 94  ownertype             2991 non-null   Int64         \n",
      "dtypes: Float64(1), Int64(24), datetime64[ns](8), float64(60), string(2)\n",
      "memory usage: 2.2 MB\n"
     ]
    }
   ],
   "source": [
    "all_df_new.info()"
   ]
  },
  {
   "cell_type": "code",
   "execution_count": 49,
   "id": "64f9faa4636dfa1",
   "metadata": {
    "ExecuteTime": {
     "start_time": "2023-11-11T16:31:51.050699110Z"
    },
    "collapsed": false
   },
   "outputs": [
    {
     "data": {
      "text/plain": [
       "<Axes: ylabel='Frequency'>"
      ]
     },
     "execution_count": 49,
     "metadata": {},
     "output_type": "execute_result"
    },
    {
     "data": {
      "image/png": "[encoded data removed]",
      "text/plain": [
       "<Figure size 640x480 with 1 Axes>"
      ]
     },
     "metadata": {},
     "output_type": "display_data"
    }
   ],
   "source": [
    "all_df_new['expected_srok_sl_y'] = (all_df_new['srok_sl'] - all_df_new['date_build']).dt.days / 365\n",
    "all_df_new['expected_srok_sl_y'].plot.hist(bins=50, range=(18, 36))"
   ]
  },
  {
   "cell_type": "code",
   "execution_count": 50,
   "id": "76d7c67b125365e9",
   "metadata": {
    "ExecuteTime": {
     "start_time": "2023-11-11T16:31:51.050796469Z"
    },
    "collapsed": false
   },
   "outputs": [
    {
     "data": {
      "text/plain": [
       "expected_srok_sl_y_b\n",
       "long    2991\n",
       "Name: count, dtype: int64"
      ]
     },
     "execution_count": 50,
     "metadata": {},
     "output_type": "execute_result"
    }
   ],
   "source": [
    "all_df_new['expected_srok_sl_y_b'] = all_df_new['expected_srok_sl_y'].apply(lambda x: \"short\" if x <= 27.5 else \"long\")\n",
    "all_df_new['expected_srok_sl_y_b'].value_counts()"
   ]
  },
  {
   "cell_type": "code",
   "execution_count": 51,
   "id": "cf9b60edd4a58529",
   "metadata": {
    "ExecuteTime": {
     "start_time": "2023-11-11T16:31:51.050892570Z"
    },
    "collapsed": false
   },
   "outputs": [
    {
     "data": {
      "text/plain": [
       "date_build_b\n",
       "(2007, 2017]    2322\n",
       "(0, 2000]        390\n",
       "(2000, 2007]     279\n",
       "(2017, 2030]       0\n",
       "Name: count, dtype: int64"
      ]
     },
     "execution_count": 51,
     "metadata": {},
     "output_type": "execute_result"
    }
   ],
   "source": [
    "all_df_new['date_build_b'] = pd.cut(all_df_new['date_build'].dt.year, bins=[0, 2000, 2007, 2017, 2030])\n",
    "all_df_new['date_build_b'].value_counts()"
   ]
  },
  {
   "cell_type": "markdown",
   "id": "74388824",
   "metadata": {
    "ExecuteTime": {
     "start_time": "2023-11-11T16:31:51.050991117Z"
    }
   },
   "source": [
    "### Просмотр результата и сохранение"
   ]
  },
  {
   "cell_type": "code",
   "execution_count": 52,
   "id": "e67b9f6f",
   "metadata": {
    "ExecuteTime": {
     "start_time": "2023-11-11T16:31:51.051092666Z"
    }
   },
   "outputs": [
    {
     "data": {
      "text/plain": [
       "(2991, 98)"
      ]
     },
     "execution_count": 52,
     "metadata": {},
     "output_type": "execute_result"
    }
   ],
   "source": [
    "all_df_new.shape"
   ]
  },
  {
   "cell_type": "code",
   "execution_count": 53,
   "id": "c77a5033",
   "metadata": {},
   "outputs": [
    {
     "name": "stdout",
     "output_type": "stream",
     "text": [
      "<class 'pandas.core.frame.DataFrame'>\n",
      "RangeIndex: 2991 entries, 0 to 2990\n",
      "Data columns (total 98 columns):\n",
      " #   Column                Non-Null Count  Dtype         \n",
      "---  ------                --------------  -----         \n",
      " 0   wagnum                2991 non-null   Int64         \n",
      " 1   month                 2991 non-null   datetime64[ns]\n",
      " 2   target_month          1995 non-null   Int64         \n",
      " 3   target_day            1995 non-null   Int64         \n",
      " 4   60d_isload_mean       996 non-null    float64       \n",
      " 5   10d_another_road_max  1992 non-null   float64       \n",
      " 6   30d_soprovod_mean     1992 non-null   float64       \n",
      " 7   30d_naval_mean        1992 non-null   float64       \n",
      " 8   10d_prob_mean         1992 non-null   float64       \n",
      " 9   30d_avg_distance_min  1992 non-null   float64       \n",
      " 10  30d_another_road_max  1992 non-null   float64       \n",
      " 11  30d_skoroport_mean    1992 non-null   float64       \n",
      " 12  10d_openvagons_mean   1992 non-null   float64       \n",
      " 13  60d_avg_distance_max  996 non-null    float64       \n",
      " 14  10d_soprovod_mean     1992 non-null   float64       \n",
      " 15  60d_prob_mean         996 non-null    float64       \n",
      " 16  5d_ost_prob_min       1992 non-null   float64       \n",
      " 17  60d_ost_prob_min      996 non-null    float64       \n",
      " 18  10d_naliv_mean        1992 non-null   float64       \n",
      " 19  30d_avg_distance_max  1992 non-null   float64       \n",
      " 20  10d_skoroport_mean    1992 non-null   float64       \n",
      " 21  30d_ost_prob_max      1992 non-null   float64       \n",
      " 22  30d_smerz_mean        1992 non-null   float64       \n",
      " 23  60d_avg_distance_min  996 non-null    float64       \n",
      " 24  5d_nasip_mean         1992 non-null   float64       \n",
      " 25  30d_nasip_mean        1992 non-null   float64       \n",
      " 26  60d_ost_prob_sum      996 non-null    float64       \n",
      " 27  30d_ost_prob_sum      1992 non-null   float64       \n",
      " 28  5d_avg_distance_max   1992 non-null   float64       \n",
      " 29  60d_nasip_mean        996 non-null    float64       \n",
      " 30  10d_naval_mean        1992 non-null   float64       \n",
      " 31  60d_skoroport_mean    996 non-null    float64       \n",
      " 32  10d_ost_prob_max      1992 non-null   float64       \n",
      " 33  5d_naval_mean         1992 non-null   float64       \n",
      " 34  5d_avg_distance_min   1992 non-null   float64       \n",
      " 35  5d_another_road_max   1992 non-null   float64       \n",
      " 36  30d_openvagons_mean   1992 non-null   float64       \n",
      " 37  30d_isload_mean       1992 non-null   float64       \n",
      " 38  30d_prob_mean         1992 non-null   float64       \n",
      " 39  10d_avg_distance_min  1992 non-null   float64       \n",
      " 40  5d_openvagons_mean    1992 non-null   float64       \n",
      " 41  5d_prob_mean          1992 non-null   float64       \n",
      " 42  60d_naval_mean        996 non-null    float64       \n",
      " 43  60d_another_road_max  996 non-null    float64       \n",
      " 44  60d_soprovod_mean     996 non-null    float64       \n",
      " 45  10d_ost_prob_min      1992 non-null   float64       \n",
      " 46  5d_smerz_mean         1992 non-null   float64       \n",
      " 47  5d_ost_prob_sum       1992 non-null   float64       \n",
      " 48  60d_ost_prob_max      996 non-null    float64       \n",
      " 49  30d_ost_prob_min      1992 non-null   float64       \n",
      " 50  30d_naliv_mean        1992 non-null   float64       \n",
      " 51  10d_ost_prob_sum      1992 non-null   float64       \n",
      " 52  5d_naliv_mean         1992 non-null   float64       \n",
      " 53  10d_avg_distance_max  1992 non-null   float64       \n",
      " 54  5d_skoroport_mean     1992 non-null   float64       \n",
      " 55  10d_nasip_mean        1992 non-null   float64       \n",
      " 56  60d_smerz_mean        996 non-null    float64       \n",
      " 57  5d_soprovod_mean      1992 non-null   float64       \n",
      " 58  60d_naliv_mean        996 non-null    float64       \n",
      " 59  10d_smerz_mean        1992 non-null   float64       \n",
      " 60  5d_ost_prob_max       1992 non-null   float64       \n",
      " 61  10d_isload_mean       1992 non-null   float64       \n",
      " 62  60d_openvagons_mean   996 non-null    float64       \n",
      " 63  5d_isload_mean        1992 non-null   float64       \n",
      " 64  date_kap              876 non-null    datetime64[ns]\n",
      " 65  date_dep              2991 non-null   datetime64[ns]\n",
      " 66  kod_vrab              2991 non-null   Int64         \n",
      " 67  date_pl_rem           2991 non-null   datetime64[ns]\n",
      " 68  days_to_pl_rem        2991 non-null   Int64         \n",
      " 69  last_rem_date         2991 non-null   datetime64[ns]\n",
      " 70  days_from_last_rem    2991 non-null   Int64         \n",
      " 71  ost_prob              2991 non-null   Int64         \n",
      " 72  manage_type           2991 non-null   Int64         \n",
      " 73  rod_id_x              2991 non-null   Int64         \n",
      " 74  reestr_state          2991 non-null   Int64         \n",
      " 75  ownership_type        2991 non-null   Int64         \n",
      " 76  model                 2991 non-null   string        \n",
      " 77  rod_id_y              2991 non-null   Int64         \n",
      " 78  gruz                  2991 non-null   Int64         \n",
      " 79  cnsi_gruz_capacity    2991 non-null   Int64         \n",
      " 80  cnsi_volumek          2991 non-null   Float64       \n",
      " 81  tara                  2991 non-null   Int64         \n",
      " 82  date_build            2991 non-null   datetime64[ns]\n",
      " 83  srok_sl               2991 non-null   datetime64[ns]\n",
      " 84  zavod_build           2991 non-null   Int64         \n",
      " 85  date_iskl             3 non-null      datetime64[ns]\n",
      " 86  cnsi_probeg_dr        2991 non-null   Int64         \n",
      " 87  cnsi_probeg_kr        2991 non-null   Int64         \n",
      " 88  kuzov                 2991 non-null   Int64         \n",
      " 89  telega                2991 non-null   Int64         \n",
      " 90  tormoz                2991 non-null   Int64         \n",
      " 91  tipvozd               2991 non-null   string        \n",
      " 92  tippogl               2898 non-null   Int64         \n",
      " 93  norma_km              2991 non-null   Int64         \n",
      " 94  ownertype             2991 non-null   Int64         \n",
      " 95  expected_srok_sl_y    2991 non-null   float64       \n",
      " 96  expected_srok_sl_y_b  2991 non-null   object        \n",
      " 97  date_build_b          2991 non-null   category      \n",
      "dtypes: Float64(1), Int64(24), category(1), datetime64[ns](8), float64(61), object(1), string(2)\n",
      "memory usage: 2.3+ MB\n"
     ]
    }
   ],
   "source": [
    "all_df_new.info()"
   ]
  },
  {
   "cell_type": "code",
   "execution_count": 54,
   "id": "2869448b",
   "metadata": {},
   "outputs": [
    {
     "name": "stdout",
     "output_type": "stream",
     "text": [
      "(1995, 98) (996, 98)\n"
     ]
    }
   ],
   "source": [
    "train_df_new = all_df_new[all_df_new.target_month.notna()]\n",
    "test_df_new = all_df_new[all_df_new.target_month.isna()]\n",
    "\n",
    "print(train_df_new.shape, test_df_new.shape)"
   ]
  },
  {
   "cell_type": "code",
   "execution_count": null,
   "id": "253fadd1",
   "metadata": {
    "ExecuteTime": {
     "start_time": "2023-11-11T16:31:51.051347447Z"
    }
   },
   "outputs": [],
   "source": [
    "train_df_new.to_csv(path_train + '/data/train.csv', index=False)\n",
    "test_df_new.to_csv(path_train + '/data/test.csv', index=False)"
   ]
  }
 ],
 "metadata": {
  "kernelspec": {
   "display_name": "Python 3",
   "language": "python",
   "name": "python3"
  },
  "language_info": {
   "codemirror_mode": {
    "name": "ipython",
    "version": 3
   },
   "file_extension": ".py",
   "mimetype": "text/x-python",
   "name": "python",
   "nbconvert_exporter": "python",
   "pygments_lexer": "ipython3",
   "version": "3.11.5"
  }
 },
 "nbformat": 4,
 "nbformat_minor": 5
}
