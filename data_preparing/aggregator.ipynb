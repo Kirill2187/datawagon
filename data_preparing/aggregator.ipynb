{
 "cells": [
  {
   "cell_type": "code",
   "execution_count": 217,
   "id": "initial_id",
   "metadata": {
    "ExecuteTime": {
     "end_time": "2023-11-11T16:36:04.377622714Z",
     "start_time": "2023-11-11T16:36:04.361262579Z"
    },
    "collapsed": true
   },
   "outputs": [],
   "source": [
    "import pandas as pd\n",
    "import numpy as np\n",
    "import matplotlib.pyplot as plt\n",
    "import seaborn as sns\n",
    "import os\n",
    "from tqdm.notebook import tqdm"
   ]
  },
  {
   "cell_type": "code",
   "execution_count": 218,
   "id": "adde4964e4995e02",
   "metadata": {
    "ExecuteTime": {
     "end_time": "2023-11-11T16:36:04.424638015Z",
     "start_time": "2023-11-11T16:36:04.377332372Z"
    },
    "collapsed": false
   },
   "outputs": [],
   "source": [
    "path_train = r\"../train/\""
   ]
  },
  {
   "cell_type": "code",
   "execution_count": 219,
   "id": "7aceb6de95aab3c6",
   "metadata": {
    "ExecuteTime": {
     "end_time": "2023-11-11T16:36:07.650710855Z",
     "start_time": "2023-11-11T16:36:04.423827482Z"
    },
    "collapsed": false
   },
   "outputs": [],
   "source": [
    "TEST = True\n",
    "\n",
    "test_wagnums = range(1, 1000)\n",
    "\n",
    "test_start = pd.to_datetime('2023-01-01')\n",
    "test_end = pd.to_datetime('2023-03-01')\n",
    "\n",
    "dislok = pd.read_parquet(path_train + '/dislok_wagons.parquet').convert_dtypes()\n",
    "dislok['plan_date'] = pd.to_datetime(dislok['plan_date'])\n",
    "\n",
    "if TEST:\n",
    "    dislok = dislok[(dislok['plan_date'] >= test_start) & (dislok['plan_date'] <= test_end)]\n",
    "    dislok = dislok[dislok['wagnum'].isin(test_wagnums)]\n",
    "\n",
    "freight_data = pd.read_parquet(path_train + '/freight_info.parquet').convert_dtypes()\n",
    "\n",
    "dislok.fillna(pd.NA, inplace=True)"
   ]
  },
  {
   "cell_type": "code",
   "execution_count": 220,
   "id": "19423f3e",
   "metadata": {
    "ExecuteTime": {
     "end_time": "2023-11-11T16:36:07.680906093Z",
     "start_time": "2023-11-11T16:36:07.653119779Z"
    }
   },
   "outputs": [
    {
     "data": {
      "text/plain": [
       "(59853, 16)"
      ]
     },
     "execution_count": 220,
     "metadata": {},
     "output_type": "execute_result"
    }
   ],
   "source": [
    "dislok.shape"
   ]
  },
  {
   "cell_type": "code",
   "execution_count": 221,
   "id": "98e03c8f",
   "metadata": {},
   "outputs": [
    {
     "name": "stdout",
     "output_type": "stream",
     "text": [
      "Absent freights: 3\n"
     ]
    }
   ],
   "source": [
    "absent_freights = set(dislok.fr_id.unique()) - set(freight_data.fr_id.unique())\n",
    "print(f\"Absent freights: {len(absent_freights)}\")\n",
    "\n",
    "for fr_id in absent_freights:\n",
    "    values = {col: 0 for col in freight_data.columns}\n",
    "    values['fr_id'] = fr_id\n",
    "    freight_data = pd.concat([freight_data, pd.DataFrame([values])], ignore_index=True)"
   ]
  },
  {
   "cell_type": "code",
   "execution_count": 222,
   "id": "c5af4e4e",
   "metadata": {},
   "outputs": [],
   "source": [
    "absent_freights = set(dislok.fr_id.unique()) - set(freight_data.fr_id.unique())\n",
    "assert len(absent_freights) == 0"
   ]
  },
  {
   "cell_type": "code",
   "execution_count": 223,
   "id": "76a575257004c3d7",
   "metadata": {
    "ExecuteTime": {
     "start_time": "2023-11-11T16:36:07.661743610Z"
    },
    "collapsed": false,
    "is_executing": true
   },
   "outputs": [],
   "source": [
    "dislok = dislok.merge(freight_data, on='fr_id')"
   ]
  },
  {
   "cell_type": "code",
   "execution_count": 224,
   "id": "f237c700",
   "metadata": {},
   "outputs": [],
   "source": [
    "del freight_data"
   ]
  },
  {
   "cell_type": "code",
   "execution_count": 225,
   "id": "ede65245fd29b3a3",
   "metadata": {
    "collapsed": false,
    "is_executing": true
   },
   "outputs": [
    {
     "data": {
      "text/plain": [
       "(59853, 24)"
      ]
     },
     "execution_count": 225,
     "metadata": {},
     "output_type": "execute_result"
    }
   ],
   "source": [
    "dislok.shape"
   ]
  },
  {
   "cell_type": "code",
   "execution_count": 226,
   "id": "08f62dc6",
   "metadata": {},
   "outputs": [
    {
     "data": {
      "text/html": [
       "<div>\n",
       "<style scoped>\n",
       "    .dataframe tbody tr th:only-of-type {\n",
       "        vertical-align: middle;\n",
       "    }\n",
       "\n",
       "    .dataframe tbody tr th {\n",
       "        vertical-align: top;\n",
       "    }\n",
       "\n",
       "    .dataframe thead th {\n",
       "        text-align: right;\n",
       "    }\n",
       "</style>\n",
       "<table border=\"1\" class=\"dataframe\">\n",
       "  <thead>\n",
       "    <tr style=\"text-align: right;\">\n",
       "      <th></th>\n",
       "      <th>plan_date</th>\n",
       "      <th>wagnum</th>\n",
       "      <th>date_kap</th>\n",
       "      <th>date_dep</th>\n",
       "      <th>kod_vrab</th>\n",
       "      <th>date_pl_rem</th>\n",
       "      <th>id_road_disl</th>\n",
       "      <th>st_id_dest</th>\n",
       "      <th>id_road_dest</th>\n",
       "      <th>st_id_send</th>\n",
       "      <th>...</th>\n",
       "      <th>last_fr_id</th>\n",
       "      <th>distance</th>\n",
       "      <th>fr_class</th>\n",
       "      <th>skoroport</th>\n",
       "      <th>naval</th>\n",
       "      <th>nasip</th>\n",
       "      <th>naliv</th>\n",
       "      <th>openvagons</th>\n",
       "      <th>soprovod</th>\n",
       "      <th>smerz</th>\n",
       "    </tr>\n",
       "  </thead>\n",
       "  <tbody>\n",
       "    <tr>\n",
       "      <th>1938</th>\n",
       "      <td>2023-01-05</td>\n",
       "      <td>818</td>\n",
       "      <td>NaT</td>\n",
       "      <td>2020-03-30</td>\n",
       "      <td>0</td>\n",
       "      <td>2023-03-30</td>\n",
       "      <td>31</td>\n",
       "      <td>22</td>\n",
       "      <td>31</td>\n",
       "      <td>7908</td>\n",
       "      <td>...</td>\n",
       "      <td>5007</td>\n",
       "      <td>-1</td>\n",
       "      <td>1</td>\n",
       "      <td>0</td>\n",
       "      <td>0</td>\n",
       "      <td>0</td>\n",
       "      <td>0</td>\n",
       "      <td>0</td>\n",
       "      <td>0</td>\n",
       "      <td>0</td>\n",
       "    </tr>\n",
       "    <tr>\n",
       "      <th>38616</th>\n",
       "      <td>2023-02-26</td>\n",
       "      <td>551</td>\n",
       "      <td>NaT</td>\n",
       "      <td>2020-09-27</td>\n",
       "      <td>1</td>\n",
       "      <td>2023-09-27</td>\n",
       "      <td>31</td>\n",
       "      <td>8021</td>\n",
       "      <td>33</td>\n",
       "      <td>10829</td>\n",
       "      <td>...</td>\n",
       "      <td>1671</td>\n",
       "      <td>-1</td>\n",
       "      <td>2</td>\n",
       "      <td>0</td>\n",
       "      <td>0</td>\n",
       "      <td>0</td>\n",
       "      <td>0</td>\n",
       "      <td>0</td>\n",
       "      <td>0</td>\n",
       "      <td>0</td>\n",
       "    </tr>\n",
       "    <tr>\n",
       "      <th>23319</th>\n",
       "      <td>2023-02-17</td>\n",
       "      <td>681</td>\n",
       "      <td>2012-07-17</td>\n",
       "      <td>2021-05-21</td>\n",
       "      <td>0</td>\n",
       "      <td>2024-05-21</td>\n",
       "      <td>43</td>\n",
       "      <td>22</td>\n",
       "      <td>43</td>\n",
       "      <td>12055</td>\n",
       "      <td>...</td>\n",
       "      <td>4987</td>\n",
       "      <td>309</td>\n",
       "      <td>1</td>\n",
       "      <td>0</td>\n",
       "      <td>0</td>\n",
       "      <td>0</td>\n",
       "      <td>0</td>\n",
       "      <td>0</td>\n",
       "      <td>0</td>\n",
       "      <td>0</td>\n",
       "    </tr>\n",
       "    <tr>\n",
       "      <th>8112</th>\n",
       "      <td>2023-01-26</td>\n",
       "      <td>678</td>\n",
       "      <td>2012-07-12</td>\n",
       "      <td>2021-06-08</td>\n",
       "      <td>0</td>\n",
       "      <td>2024-06-08</td>\n",
       "      <td>42</td>\n",
       "      <td>22</td>\n",
       "      <td>42</td>\n",
       "      <td>11413</td>\n",
       "      <td>...</td>\n",
       "      <td>5058</td>\n",
       "      <td>-1</td>\n",
       "      <td>1</td>\n",
       "      <td>0</td>\n",
       "      <td>0</td>\n",
       "      <td>0</td>\n",
       "      <td>0</td>\n",
       "      <td>0</td>\n",
       "      <td>0</td>\n",
       "      <td>0</td>\n",
       "    </tr>\n",
       "    <tr>\n",
       "      <th>4231</th>\n",
       "      <td>2023-01-25</td>\n",
       "      <td>606</td>\n",
       "      <td>NaT</td>\n",
       "      <td>2019-06-24</td>\n",
       "      <td>1</td>\n",
       "      <td>2022-06-24</td>\n",
       "      <td>31</td>\n",
       "      <td>22</td>\n",
       "      <td>31</td>\n",
       "      <td>7880</td>\n",
       "      <td>...</td>\n",
       "      <td>429</td>\n",
       "      <td>-1</td>\n",
       "      <td>1</td>\n",
       "      <td>0</td>\n",
       "      <td>0</td>\n",
       "      <td>0</td>\n",
       "      <td>0</td>\n",
       "      <td>0</td>\n",
       "      <td>0</td>\n",
       "      <td>0</td>\n",
       "    </tr>\n",
       "  </tbody>\n",
       "</table>\n",
       "<p>5 rows × 24 columns</p>\n",
       "</div>"
      ],
      "text/plain": [
       "       plan_date  wagnum   date_kap   date_dep  kod_vrab date_pl_rem  \\\n",
       "1938  2023-01-05     818        NaT 2020-03-30         0  2023-03-30   \n",
       "38616 2023-02-26     551        NaT 2020-09-27         1  2023-09-27   \n",
       "23319 2023-02-17     681 2012-07-17 2021-05-21         0  2024-05-21   \n",
       "8112  2023-01-26     678 2012-07-12 2021-06-08         0  2024-06-08   \n",
       "4231  2023-01-25     606        NaT 2019-06-24         1  2022-06-24   \n",
       "\n",
       "       id_road_disl  st_id_dest  id_road_dest  st_id_send  ...  last_fr_id  \\\n",
       "1938             31          22            31        7908  ...        5007   \n",
       "38616            31        8021            33       10829  ...        1671   \n",
       "23319            43          22            43       12055  ...        4987   \n",
       "8112             42          22            42       11413  ...        5058   \n",
       "4231             31          22            31        7880  ...         429   \n",
       "\n",
       "       distance  fr_class  skoroport  naval  nasip  naliv  openvagons  \\\n",
       "1938         -1         1          0      0      0      0           0   \n",
       "38616        -1         2          0      0      0      0           0   \n",
       "23319       309         1          0      0      0      0           0   \n",
       "8112         -1         1          0      0      0      0           0   \n",
       "4231         -1         1          0      0      0      0           0   \n",
       "\n",
       "       soprovod  smerz  \n",
       "1938          0      0  \n",
       "38616         0      0  \n",
       "23319         0      0  \n",
       "8112          0      0  \n",
       "4231          0      0  \n",
       "\n",
       "[5 rows x 24 columns]"
      ]
     },
     "execution_count": 226,
     "metadata": {},
     "output_type": "execute_result"
    }
   ],
   "source": [
    "dislok.sample(5)"
   ]
  },
  {
   "cell_type": "code",
   "execution_count": 227,
   "id": "fe67d357ae99b4cf",
   "metadata": {
    "ExecuteTime": {
     "start_time": "2023-11-11T16:31:50.985617857Z"
    },
    "collapsed": false
   },
   "outputs": [
    {
     "data": {
      "text/html": [
       "<div>\n",
       "<style scoped>\n",
       "    .dataframe tbody tr th:only-of-type {\n",
       "        vertical-align: middle;\n",
       "    }\n",
       "\n",
       "    .dataframe tbody tr th {\n",
       "        vertical-align: top;\n",
       "    }\n",
       "\n",
       "    .dataframe thead th {\n",
       "        text-align: right;\n",
       "    }\n",
       "</style>\n",
       "<table border=\"1\" class=\"dataframe\">\n",
       "  <thead>\n",
       "    <tr style=\"text-align: right;\">\n",
       "      <th></th>\n",
       "      <th>wagnum</th>\n",
       "      <th>month</th>\n",
       "      <th>target_month</th>\n",
       "      <th>target_day</th>\n",
       "    </tr>\n",
       "  </thead>\n",
       "  <tbody>\n",
       "    <tr>\n",
       "      <th>28439</th>\n",
       "      <td>800</td>\n",
       "      <td>2023-01-01</td>\n",
       "      <td>0</td>\n",
       "      <td>0</td>\n",
       "    </tr>\n",
       "    <tr>\n",
       "      <th>229264</th>\n",
       "      <td>269</td>\n",
       "      <td>2023-02-01</td>\n",
       "      <td>0</td>\n",
       "      <td>0</td>\n",
       "    </tr>\n",
       "    <tr>\n",
       "      <th>230353</th>\n",
       "      <td>389</td>\n",
       "      <td>2023-02-01</td>\n",
       "      <td>0</td>\n",
       "      <td>0</td>\n",
       "    </tr>\n",
       "    <tr>\n",
       "      <th>230639</th>\n",
       "      <td>339</td>\n",
       "      <td>2023-02-01</td>\n",
       "      <td>0</td>\n",
       "      <td>0</td>\n",
       "    </tr>\n",
       "    <tr>\n",
       "      <th>204224</th>\n",
       "      <td>862</td>\n",
       "      <td>2023-02-01</td>\n",
       "      <td>0</td>\n",
       "      <td>0</td>\n",
       "    </tr>\n",
       "  </tbody>\n",
       "</table>\n",
       "</div>"
      ],
      "text/plain": [
       "        wagnum      month  target_month  target_day\n",
       "28439      800 2023-01-01             0           0\n",
       "229264     269 2023-02-01             0           0\n",
       "230353     389 2023-02-01             0           0\n",
       "230639     339 2023-02-01             0           0\n",
       "204224     862 2023-02-01             0           0"
      ]
     },
     "execution_count": 227,
     "metadata": {},
     "output_type": "execute_result"
    }
   ],
   "source": [
    "train_df = pd.read_csv(path_train +'/target/y_train.csv').convert_dtypes()\n",
    "train_df['month'] = pd.to_datetime(train_df['month'])\n",
    "\n",
    "if TEST:\n",
    "    train_df = train_df[(train_df['month'] >= test_start) & (train_df['month'] <= test_end)]\n",
    "    train_df = train_df[train_df['wagnum'].isin(test_wagnums)]\n",
    "\n",
    "train_df.sample(5)"
   ]
  },
  {
   "cell_type": "code",
   "execution_count": 228,
   "id": "5041aa3b",
   "metadata": {},
   "outputs": [
    {
     "name": "stdout",
     "output_type": "stream",
     "text": [
      "Test set size: 33707\n",
      "996 999\n"
     ]
    },
    {
     "data": {
      "text/html": [
       "<div>\n",
       "<style scoped>\n",
       "    .dataframe tbody tr th:only-of-type {\n",
       "        vertical-align: middle;\n",
       "    }\n",
       "\n",
       "    .dataframe tbody tr th {\n",
       "        vertical-align: top;\n",
       "    }\n",
       "\n",
       "    .dataframe thead th {\n",
       "        text-align: right;\n",
       "    }\n",
       "</style>\n",
       "<table border=\"1\" class=\"dataframe\">\n",
       "  <thead>\n",
       "    <tr style=\"text-align: right;\">\n",
       "      <th></th>\n",
       "      <th>wagnum</th>\n",
       "      <th>month</th>\n",
       "    </tr>\n",
       "  </thead>\n",
       "  <tbody>\n",
       "    <tr>\n",
       "      <th>29575</th>\n",
       "      <td>178</td>\n",
       "      <td>2023-03-01</td>\n",
       "    </tr>\n",
       "    <tr>\n",
       "      <th>28504</th>\n",
       "      <td>679</td>\n",
       "      <td>2023-03-01</td>\n",
       "    </tr>\n",
       "    <tr>\n",
       "      <th>26492</th>\n",
       "      <td>377</td>\n",
       "      <td>2023-03-01</td>\n",
       "    </tr>\n",
       "    <tr>\n",
       "      <th>29996</th>\n",
       "      <td>88</td>\n",
       "      <td>2023-03-01</td>\n",
       "    </tr>\n",
       "    <tr>\n",
       "      <th>26429</th>\n",
       "      <td>413</td>\n",
       "      <td>2023-03-01</td>\n",
       "    </tr>\n",
       "  </tbody>\n",
       "</table>\n",
       "</div>"
      ],
      "text/plain": [
       "       wagnum      month\n",
       "29575     178 2023-03-01\n",
       "28504     679 2023-03-01\n",
       "26492     377 2023-03-01\n",
       "29996      88 2023-03-01\n",
       "26429     413 2023-03-01"
      ]
     },
     "execution_count": 228,
     "metadata": {},
     "output_type": "execute_result"
    }
   ],
   "source": [
    "test_set = pd.read_csv(path_train +'/target/y_predict.csv').convert_dtypes()\n",
    "wagnums_test = test_set.wagnum.unique()\n",
    "\n",
    "print(f\"Test set size: {len(test_set)}\")\n",
    "\n",
    "test_df = pd.DataFrame({'wagnum': wagnums_test, 'month': [pd.to_datetime('2023-03-01')] * len(wagnums_test)})\n",
    "\n",
    "if TEST:\n",
    "    test_df = test_df[test_df['wagnum'].isin(test_wagnums)]\n",
    "\n",
    "print(len(test_df), train_df.wagnum.nunique())\n",
    "test_df.sample(5)"
   ]
  },
  {
   "cell_type": "code",
   "execution_count": 229,
   "id": "f5b344ce",
   "metadata": {},
   "outputs": [
    {
     "data": {
      "text/plain": [
       "wagnum            0\n",
       "month             0\n",
       "target_month    996\n",
       "target_day      996\n",
       "dtype: int64"
      ]
     },
     "execution_count": 229,
     "metadata": {},
     "output_type": "execute_result"
    }
   ],
   "source": [
    "all_df = pd.concat([train_df, test_df], ignore_index=True)\n",
    "all_df.isna().sum()"
   ]
  },
  {
   "cell_type": "code",
   "execution_count": 230,
   "id": "cf6f140435731fb2",
   "metadata": {
    "ExecuteTime": {
     "start_time": "2023-11-11T16:31:50.987228048Z"
    },
    "collapsed": false
   },
   "outputs": [
    {
     "data": {
      "text/plain": [
       "0.02456140350877193"
      ]
     },
     "execution_count": 230,
     "metadata": {},
     "output_type": "execute_result"
    }
   ],
   "source": [
    "train_df.target_month.mean()"
   ]
  },
  {
   "cell_type": "code",
   "execution_count": 231,
   "id": "2b0588d7",
   "metadata": {},
   "outputs": [
    {
     "data": {
      "text/plain": [
       "255"
      ]
     },
     "execution_count": 231,
     "metadata": {},
     "output_type": "execute_result"
    }
   ],
   "source": [
    "import gc\n",
    "gc.collect()"
   ]
  },
  {
   "cell_type": "markdown",
   "id": "b9d76297079861fa",
   "metadata": {
    "collapsed": false
   },
   "source": [
    "### Дислокация вагонов - сбор данных"
   ]
  },
  {
   "cell_type": "code",
   "execution_count": 232,
   "id": "59bdd3736ffca595",
   "metadata": {
    "ExecuteTime": {
     "start_time": "2023-11-11T16:31:50.989991109Z"
    },
    "collapsed": false
   },
   "outputs": [
    {
     "data": {
      "text/plain": [
       "Index(['plan_date', 'wagnum', 'date_kap', 'date_dep', 'kod_vrab',\n",
       "       'date_pl_rem', 'id_road_disl', 'st_id_dest', 'id_road_dest',\n",
       "       'st_id_send', 'id_road_send', 'ost_prob', 'isload', 'fr_id',\n",
       "       'last_fr_id', 'distance', 'fr_class', 'skoroport', 'naval', 'nasip',\n",
       "       'naliv', 'openvagons', 'soprovod', 'smerz'],\n",
       "      dtype='object')"
      ]
     },
     "execution_count": 232,
     "metadata": {},
     "output_type": "execute_result"
    }
   ],
   "source": [
    "dislok.columns"
   ]
  },
  {
   "cell_type": "code",
   "execution_count": 233,
   "id": "b64af81c4a013c8d",
   "metadata": {
    "ExecuteTime": {
     "start_time": "2023-11-11T16:31:50.993950831Z"
    },
    "collapsed": false
   },
   "outputs": [],
   "source": [
    "dislok['days_to_pl_rem'] = (dislok['date_pl_rem'] - dislok['plan_date']).dt.days\n",
    "dislok['another_road'] = dislok['id_road_dest'] != dislok['id_road_send']\n",
    "dislok['last_rem_date'] = dislok[['date_kap', 'date_dep']].max(axis=1)\n",
    "dislok['days_from_last_rem'] = (dislok['plan_date'] - dislok['last_rem_date']).dt.days\n",
    "dislok = dislok.convert_dtypes()"
   ]
  },
  {
   "cell_type": "code",
   "execution_count": 234,
   "id": "3bd3b5d36ac660bc",
   "metadata": {
    "ExecuteTime": {
     "start_time": "2023-11-11T16:31:50.995902964Z"
    },
    "collapsed": false
   },
   "outputs": [],
   "source": [
    "dislok.sort_values(by='plan_date', inplace=True)"
   ]
  },
  {
   "cell_type": "code",
   "execution_count": 235,
   "id": "ee0485e5",
   "metadata": {
    "ExecuteTime": {
     "start_time": "2023-11-11T16:31:50.997421384Z"
    }
   },
   "outputs": [
    {
     "name": "stdout",
     "output_type": "stream",
     "text": [
      "ost_prob    115197.0\n",
      "dtype: float64\n",
      "Total nans: ost_prob    2972\n",
      "dtype: int64\n",
      "Total nans after ffill: ost_prob    2972\n",
      "dtype: int64\n"
     ]
    }
   ],
   "source": [
    "to_fill = ['ost_prob']\n",
    "\n",
    "median_values = dislok[to_fill].median()\n",
    "print(median_values)\n",
    "print(f\"Total nans: {dislok[to_fill].isna().sum()}\")\n",
    "\n",
    "dislok[to_fill] = dislok.groupby('wagnum')[to_fill].transform(lambda x: x.fillna(method='ffill'))\n",
    "print(f\"Total nans after ffill: {dislok[to_fill].isna().sum()}\")\n",
    "\n",
    "# dislok[to_fill] = dislok.groupby('wagnum')[to_fill].transform(lambda x: x.fillna(method='bfill'))\n",
    "dislok[to_fill] = dislok.groupby('wagnum')[to_fill].transform(lambda x: x.fillna(median_values))"
   ]
  },
  {
   "cell_type": "code",
   "execution_count": 236,
   "id": "6327b876",
   "metadata": {},
   "outputs": [],
   "source": [
    "dislok['diff'] = -dislok.groupby('wagnum')['ost_prob'].diff()\n",
    "dislok['diff'] = dislok['diff'].clip(lower=0)\n",
    "dislok['diff'] = dislok['diff'].fillna(dislok['diff'].median())"
   ]
  },
  {
   "cell_type": "code",
   "execution_count": 237,
   "id": "00abc8e3",
   "metadata": {},
   "outputs": [
    {
     "data": {
      "text/html": [
       "<div>\n",
       "<style scoped>\n",
       "    .dataframe tbody tr th:only-of-type {\n",
       "        vertical-align: middle;\n",
       "    }\n",
       "\n",
       "    .dataframe tbody tr th {\n",
       "        vertical-align: top;\n",
       "    }\n",
       "\n",
       "    .dataframe thead th {\n",
       "        text-align: right;\n",
       "    }\n",
       "</style>\n",
       "<table border=\"1\" class=\"dataframe\">\n",
       "  <thead>\n",
       "    <tr style=\"text-align: right;\">\n",
       "      <th></th>\n",
       "      <th>plan_date</th>\n",
       "      <th>wagnum</th>\n",
       "      <th>date_kap</th>\n",
       "      <th>date_dep</th>\n",
       "      <th>kod_vrab</th>\n",
       "      <th>date_pl_rem</th>\n",
       "      <th>id_road_disl</th>\n",
       "      <th>st_id_dest</th>\n",
       "      <th>id_road_dest</th>\n",
       "      <th>st_id_send</th>\n",
       "      <th>...</th>\n",
       "      <th>st_id_x</th>\n",
       "      <th>road_id</th>\n",
       "      <th>st_id_y</th>\n",
       "      <th>st_border_sign</th>\n",
       "      <th>st_sea_sign</th>\n",
       "      <th>st_river_sign</th>\n",
       "      <th>st_car_sign</th>\n",
       "      <th>st_ferry_sign</th>\n",
       "      <th>st_freigh_sign</th>\n",
       "      <th>opor_station_sign</th>\n",
       "    </tr>\n",
       "  </thead>\n",
       "  <tbody>\n",
       "    <tr>\n",
       "      <th>42207</th>\n",
       "      <td>2023-02-12</td>\n",
       "      <td>811</td>\n",
       "      <td>NaT</td>\n",
       "      <td>2021-06-21</td>\n",
       "      <td>0</td>\n",
       "      <td>2024-06-21</td>\n",
       "      <td>38</td>\n",
       "      <td>498</td>\n",
       "      <td>3</td>\n",
       "      <td>16008</td>\n",
       "      <td>...</td>\n",
       "      <td>498</td>\n",
       "      <td>3</td>\n",
       "      <td>16008</td>\n",
       "      <td>11</td>\n",
       "      <td>9</td>\n",
       "      <td>2</td>\n",
       "      <td>0</td>\n",
       "      <td>2</td>\n",
       "      <td>447</td>\n",
       "      <td>0</td>\n",
       "    </tr>\n",
       "    <tr>\n",
       "      <th>27891</th>\n",
       "      <td>2023-01-28</td>\n",
       "      <td>600</td>\n",
       "      <td>NaT</td>\n",
       "      <td>2019-10-08</td>\n",
       "      <td>1</td>\n",
       "      <td>2022-10-08</td>\n",
       "      <td>11</td>\n",
       "      <td>2606</td>\n",
       "      <td>11</td>\n",
       "      <td>3084</td>\n",
       "      <td>...</td>\n",
       "      <td>2606</td>\n",
       "      <td>5</td>\n",
       "      <td>3084</td>\n",
       "      <td>8</td>\n",
       "      <td>0</td>\n",
       "      <td>4</td>\n",
       "      <td>0</td>\n",
       "      <td>0</td>\n",
       "      <td>465</td>\n",
       "      <td>0</td>\n",
       "    </tr>\n",
       "    <tr>\n",
       "      <th>34467</th>\n",
       "      <td>2023-02-04</td>\n",
       "      <td>71</td>\n",
       "      <td>2020-08-09</td>\n",
       "      <td>2017-08-04</td>\n",
       "      <td>0</td>\n",
       "      <td>2023-08-09</td>\n",
       "      <td>44</td>\n",
       "      <td>12329</td>\n",
       "      <td>44</td>\n",
       "      <td>9546</td>\n",
       "      <td>...</td>\n",
       "      <td>12329</td>\n",
       "      <td>24</td>\n",
       "      <td>9546</td>\n",
       "      <td>6</td>\n",
       "      <td>18</td>\n",
       "      <td>5</td>\n",
       "      <td>1</td>\n",
       "      <td>2</td>\n",
       "      <td>317</td>\n",
       "      <td>0</td>\n",
       "    </tr>\n",
       "    <tr>\n",
       "      <th>19580</th>\n",
       "      <td>2023-01-20</td>\n",
       "      <td>44</td>\n",
       "      <td>2018-07-26</td>\n",
       "      <td>2021-07-27</td>\n",
       "      <td>0</td>\n",
       "      <td>2024-07-27</td>\n",
       "      <td>42</td>\n",
       "      <td>1953</td>\n",
       "      <td>11</td>\n",
       "      <td>11412</td>\n",
       "      <td>...</td>\n",
       "      <td>1953</td>\n",
       "      <td>5</td>\n",
       "      <td>11412</td>\n",
       "      <td>8</td>\n",
       "      <td>0</td>\n",
       "      <td>4</td>\n",
       "      <td>0</td>\n",
       "      <td>0</td>\n",
       "      <td>465</td>\n",
       "      <td>0</td>\n",
       "    </tr>\n",
       "    <tr>\n",
       "      <th>22812</th>\n",
       "      <td>2023-01-23</td>\n",
       "      <td>583</td>\n",
       "      <td>2022-05-25</td>\n",
       "      <td>2019-06-11</td>\n",
       "      <td>0</td>\n",
       "      <td>2025-05-25</td>\n",
       "      <td>15</td>\n",
       "      <td>10518</td>\n",
       "      <td>38</td>\n",
       "      <td>2641</td>\n",
       "      <td>...</td>\n",
       "      <td>10518</td>\n",
       "      <td>19</td>\n",
       "      <td>2641</td>\n",
       "      <td>3</td>\n",
       "      <td>0</td>\n",
       "      <td>6</td>\n",
       "      <td>2</td>\n",
       "      <td>0</td>\n",
       "      <td>208</td>\n",
       "      <td>0</td>\n",
       "    </tr>\n",
       "  </tbody>\n",
       "</table>\n",
       "<p>5 rows × 39 columns</p>\n",
       "</div>"
      ],
      "text/plain": [
       "       plan_date  wagnum   date_kap   date_dep  kod_vrab date_pl_rem  \\\n",
       "42207 2023-02-12     811        NaT 2021-06-21         0  2024-06-21   \n",
       "27891 2023-01-28     600        NaT 2019-10-08         1  2022-10-08   \n",
       "34467 2023-02-04      71 2020-08-09 2017-08-04         0  2023-08-09   \n",
       "19580 2023-01-20      44 2018-07-26 2021-07-27         0  2024-07-27   \n",
       "22812 2023-01-23     583 2022-05-25 2019-06-11         0  2025-05-25   \n",
       "\n",
       "       id_road_disl  st_id_dest  id_road_dest  st_id_send  ...  st_id_x  \\\n",
       "42207            38         498             3       16008  ...      498   \n",
       "27891            11        2606            11        3084  ...     2606   \n",
       "34467            44       12329            44        9546  ...    12329   \n",
       "19580            42        1953            11       11412  ...     1953   \n",
       "22812            15       10518            38        2641  ...    10518   \n",
       "\n",
       "       road_id  st_id_y  st_border_sign  st_sea_sign  st_river_sign  \\\n",
       "42207        3    16008              11            9              2   \n",
       "27891        5     3084               8            0              4   \n",
       "34467       24     9546               6           18              5   \n",
       "19580        5    11412               8            0              4   \n",
       "22812       19     2641               3            0              6   \n",
       "\n",
       "       st_car_sign  st_ferry_sign  st_freigh_sign  opor_station_sign  \n",
       "42207            0              2             447                  0  \n",
       "27891            0              0             465                  0  \n",
       "34467            1              2             317                  0  \n",
       "19580            0              0             465                  0  \n",
       "22812            2              0             208                  0  \n",
       "\n",
       "[5 rows x 39 columns]"
      ]
     },
     "execution_count": 237,
     "metadata": {},
     "output_type": "execute_result"
    }
   ],
   "source": [
    "import importlib\n",
    "import add_roads\n",
    "importlib.reload(add_roads)\n",
    "\n",
    "from add_roads import add_roads\n",
    "dislok = add_roads(dislok, path_train)\n",
    "\n",
    "st_features = ['st_border_sign', 'st_sea_sign', 'st_river_sign', 'st_car_sign', 'st_ferry_sign', 'st_freigh_sign', 'opor_station_sign']\n",
    "dislok.loc[:, st_features] = dislok.loc[:, st_features].fillna(0)\n",
    "\n",
    "dislok.sample(5)"
   ]
  },
  {
   "cell_type": "code",
   "execution_count": 238,
   "id": "8587e7c3",
   "metadata": {
    "ExecuteTime": {
     "start_time": "2023-11-11T16:31:50.999563625Z"
    }
   },
   "outputs": [
    {
     "name": "stdout",
     "output_type": "stream",
     "text": [
      "<class 'pandas.core.frame.DataFrame'>\n",
      "RangeIndex: 59853 entries, 0 to 59852\n",
      "Data columns (total 39 columns):\n",
      " #   Column              Non-Null Count  Dtype         \n",
      "---  ------              --------------  -----         \n",
      " 0   plan_date           59853 non-null  datetime64[ns]\n",
      " 1   wagnum              59853 non-null  Int64         \n",
      " 2   date_kap            17553 non-null  datetime64[ns]\n",
      " 3   date_dep            59853 non-null  datetime64[ns]\n",
      " 4   kod_vrab            59853 non-null  Int64         \n",
      " 5   date_pl_rem         59853 non-null  datetime64[ns]\n",
      " 6   id_road_disl        59853 non-null  Int64         \n",
      " 7   st_id_dest          59853 non-null  Int64         \n",
      " 8   id_road_dest        59853 non-null  Int64         \n",
      " 9   st_id_send          59853 non-null  Int64         \n",
      " 10  id_road_send        59853 non-null  Int64         \n",
      " 11  ost_prob            59853 non-null  Int64         \n",
      " 12  isload              59853 non-null  Int64         \n",
      " 13  fr_id               59853 non-null  Int64         \n",
      " 14  last_fr_id          59853 non-null  Int64         \n",
      " 15  distance            59853 non-null  Int64         \n",
      " 16  fr_class            59853 non-null  Int64         \n",
      " 17  skoroport           59853 non-null  Int64         \n",
      " 18  naval               59853 non-null  Int64         \n",
      " 19  nasip               59853 non-null  Int64         \n",
      " 20  naliv               59853 non-null  Int64         \n",
      " 21  openvagons          59853 non-null  Int64         \n",
      " 22  soprovod            59853 non-null  Int64         \n",
      " 23  smerz               59853 non-null  Int64         \n",
      " 24  days_to_pl_rem      59853 non-null  Int64         \n",
      " 25  another_road        59853 non-null  boolean       \n",
      " 26  last_rem_date       59853 non-null  datetime64[ns]\n",
      " 27  days_from_last_rem  59853 non-null  Int64         \n",
      " 28  diff                59853 non-null  Int64         \n",
      " 29  st_id_x             24961 non-null  Int64         \n",
      " 30  road_id             56165 non-null  Int64         \n",
      " 31  st_id_y             53323 non-null  Int64         \n",
      " 32  st_border_sign      59853 non-null  Int64         \n",
      " 33  st_sea_sign         59853 non-null  Int64         \n",
      " 34  st_river_sign       59853 non-null  Int64         \n",
      " 35  st_car_sign         59853 non-null  Int64         \n",
      " 36  st_ferry_sign       59853 non-null  Int64         \n",
      " 37  st_freigh_sign      59853 non-null  Int64         \n",
      " 38  opor_station_sign   59853 non-null  Int64         \n",
      "dtypes: Int64(33), boolean(1), datetime64[ns](5)\n",
      "memory usage: 19.4 MB\n"
     ]
    }
   ],
   "source": [
    "dislok.info()"
   ]
  },
  {
   "cell_type": "code",
   "execution_count": 239,
   "id": "c8b7fad3",
   "metadata": {},
   "outputs": [
    {
     "data": {
      "application/vnd.jupyter.widget-view+json": {
       "model_id": "ef3dee2cd31940389986277971d592be",
       "version_major": 2,
       "version_minor": 0
      },
      "text/plain": [
       "  0%|          | 0/16498 [00:00<?, ?it/s]"
      ]
     },
     "metadata": {},
     "output_type": "display_data"
    }
   ],
   "source": [
    "from collections import Counter\n",
    "\n",
    "distances = dict()\n",
    "counter = Counter()\n",
    "\n",
    "data = dislok[['st_id_send', 'st_id_dest', 'distance']]\n",
    "data = data[data.distance != -1]\n",
    "\n",
    "# Compute average distance between each pair of stations\n",
    "data = data.to_numpy()\n",
    "\n",
    "for st_id_send, st_id_dest, distance in tqdm(data):\n",
    "    counter[(st_id_send, st_id_dest)] += 1\n",
    "    distances[(st_id_send, st_id_dest)] = distances.get((st_id_send, st_id_dest), 0) + distance\n",
    "\n",
    "for key in distances.keys():\n",
    "    distances[key] /= counter[key]"
   ]
  },
  {
   "cell_type": "code",
   "execution_count": 240,
   "id": "4852904b",
   "metadata": {},
   "outputs": [
    {
     "data": {
      "application/vnd.jupyter.widget-view+json": {
       "model_id": "a86c98653ef74ea19bfff1d230503899",
       "version_major": 2,
       "version_minor": 0
      },
      "text/plain": [
       "  0%|          | 0/59853 [00:00<?, ?it/s]"
      ]
     },
     "metadata": {},
     "output_type": "display_data"
    },
    {
     "name": "stdout",
     "output_type": "stream",
     "text": [
      "Found: 36462\n"
     ]
    }
   ],
   "source": [
    "data = data = dislok[['st_id_send', 'st_id_dest', 'distance']].to_numpy()\n",
    "found = 0\n",
    "for i in tqdm(range(len(data))):\n",
    "    st_id_send, st_id_dest, distance = data[i]\n",
    "    if distance == -1 and (st_id_send, st_id_dest) in distances:\n",
    "        found += 1\n",
    "\n",
    "print(f\"Found: {found}\")"
   ]
  },
  {
   "cell_type": "code",
   "execution_count": 241,
   "id": "2a8a8099",
   "metadata": {},
   "outputs": [
    {
     "data": {
      "application/vnd.jupyter.widget-view+json": {
       "model_id": "055570b6b1cb4040b29e9b5482eff529",
       "version_major": 2,
       "version_minor": 0
      },
      "text/plain": [
       "  0%|          | 0/59853 [00:00<?, ?it/s]"
      ]
     },
     "metadata": {},
     "output_type": "display_data"
    }
   ],
   "source": [
    "avg_distances = np.zeros(len(data))\n",
    "for i in tqdm(range(len(data))):\n",
    "    st_id_send, st_id_dest, distance = data[i]\n",
    "    avg_distances[i] = distances.get((st_id_send, st_id_dest), np.nan)\n",
    "\n",
    "\n",
    "dislok['avg_distance'] = avg_distances\n",
    "dislok.avg_distance.fillna(dislok.avg_distance.mean(), inplace=True)"
   ]
  },
  {
   "cell_type": "code",
   "execution_count": 242,
   "id": "467e61f4",
   "metadata": {},
   "outputs": [
    {
     "data": {
      "text/plain": [
       "<Axes: ylabel='Frequency'>"
      ]
     },
     "execution_count": 242,
     "metadata": {},
     "output_type": "execute_result"
    },
    {
     "data": {
      "image/png": "[encoded data removed]",
      "text/plain": [
       "<Figure size 640x480 with 1 Axes>"
      ]
     },
     "metadata": {},
     "output_type": "display_data"
    }
   ],
   "source": [
    "dislok['avg_distance'].plot.hist(bins=100, range=(0, 4000))"
   ]
  },
  {
   "cell_type": "code",
   "execution_count": 243,
   "id": "c6295127",
   "metadata": {
    "ExecuteTime": {
     "start_time": "2023-11-11T16:31:51.002765988Z"
    }
   },
   "outputs": [
    {
     "data": {
      "application/vnd.jupyter.widget-view+json": {
       "model_id": "69f8f62e9bf44fa5a1b8c5c6d0250af4",
       "version_major": 2,
       "version_minor": 0
      },
      "text/plain": [
       "  0%|          | 0/999 [00:00<?, ?it/s]"
      ]
     },
     "metadata": {},
     "output_type": "display_data"
    }
   ],
   "source": [
    "wagnum_subtables = {wagnum: table.copy() for wagnum, table in tqdm(dislok.groupby('wagnum'))}"
   ]
  },
  {
   "cell_type": "code",
   "execution_count": 244,
   "id": "4de0c6c9f39114f8",
   "metadata": {
    "ExecuteTime": {
     "start_time": "2023-11-11T16:31:51.003217093Z"
    },
    "collapsed": false
   },
   "outputs": [
    {
     "data": {
      "application/vnd.jupyter.widget-view+json": {
       "model_id": "bf2d3ff3396a4d77bb569dff052ac8bb",
       "version_major": 2,
       "version_minor": 0
      },
      "text/plain": [
       "  0%|          | 0/999 [00:00<?, ?it/s]"
      ]
     },
     "metadata": {},
     "output_type": "display_data"
    }
   ],
   "source": [
    "from itertools import product\n",
    "\n",
    "intervals = [pd.DateOffset(days=5), pd.DateOffset(days=10), pd.DateOffset(days=30), pd.DateOffset(days=60)]\n",
    "functions = {\"isload\": ['mean'], \"diff\": ['mean'], \"another_road\": ['max'],\n",
    "              \"avg_distance\": ['max', 'min']}\n",
    "\n",
    "fr_classes = ['skoroport', 'naval', 'nasip', 'naliv', 'openvagons', 'soprovod', 'smerz']\n",
    "for fr_class in fr_classes:\n",
    "    functions[fr_class] = ['mean']\n",
    "\n",
    "st_features = ['st_border_sign', 'st_sea_sign', 'st_river_sign', 'st_car_sign', 'st_ferry_sign', 'st_freigh_sign', 'opor_station_sign']\n",
    "for st_feature in st_features:\n",
    "    functions[st_feature] = ['max', 'mean']\n",
    "\n",
    "take_last_cols = ['date_kap', 'date_dep', 'kod_vrab', 'date_pl_rem', 'days_to_pl_rem', 'last_rem_date', 'days_from_last_rem', 'ost_prob']\n",
    "rolling_cols = set()\n",
    "\n",
    "\n",
    "for wagnum, table in tqdm(wagnum_subtables.items()):\n",
    "    col_names = []\n",
    "    cols = []\n",
    "    for interval in intervals:\n",
    "        for col, func_list in functions.items():\n",
    "            for func in func_list:\n",
    "                col_names.append(f\"{interval.days}d_{col}_{func}\")\n",
    "                cols.append(getattr(table[col].rolling(interval.days), func)(engine='numba'))\n",
    "                cols[-1].name = f\"{interval.days}d_{col}_{func}\"\n",
    "                # table.loc[:, f\"{interval.days}d_{col}_{func}\"] = getattr(table[col].rolling(interval.days), func)(engine='numba')\n",
    "                rolling_cols.add(f\"{interval.days}d_{col}_{func}\")\n",
    "\n",
    "    table.loc[:, col_names] = pd.concat(cols, axis=1)\n",
    "\n",
    "columns_to_add = list(rolling_cols) + take_last_cols"
   ]
  },
  {
   "cell_type": "code",
   "execution_count": 245,
   "id": "30292214",
   "metadata": {
    "ExecuteTime": {
     "start_time": "2023-11-11T16:31:51.004727830Z"
    }
   },
   "outputs": [
    {
     "data": {
      "text/html": [
       "<div>\n",
       "<style scoped>\n",
       "    .dataframe tbody tr th:only-of-type {\n",
       "        vertical-align: middle;\n",
       "    }\n",
       "\n",
       "    .dataframe tbody tr th {\n",
       "        vertical-align: top;\n",
       "    }\n",
       "\n",
       "    .dataframe thead th {\n",
       "        text-align: right;\n",
       "    }\n",
       "</style>\n",
       "<table border=\"1\" class=\"dataframe\">\n",
       "  <thead>\n",
       "    <tr style=\"text-align: right;\">\n",
       "      <th></th>\n",
       "      <th>plan_date</th>\n",
       "      <th>30d_diff_mean</th>\n",
       "      <th>5d_diff_mean</th>\n",
       "      <th>10d_diff_mean</th>\n",
       "      <th>60d_diff_mean</th>\n",
       "      <th>diff</th>\n",
       "    </tr>\n",
       "  </thead>\n",
       "  <tbody>\n",
       "    <tr>\n",
       "      <th>534</th>\n",
       "      <td>2023-01-01</td>\n",
       "      <td>NaN</td>\n",
       "      <td>NaN</td>\n",
       "      <td>NaN</td>\n",
       "      <td>NaN</td>\n",
       "      <td>0</td>\n",
       "    </tr>\n",
       "    <tr>\n",
       "      <th>1786</th>\n",
       "      <td>2023-01-02</td>\n",
       "      <td>NaN</td>\n",
       "      <td>NaN</td>\n",
       "      <td>NaN</td>\n",
       "      <td>NaN</td>\n",
       "      <td>363</td>\n",
       "    </tr>\n",
       "    <tr>\n",
       "      <th>2349</th>\n",
       "      <td>2023-01-03</td>\n",
       "      <td>NaN</td>\n",
       "      <td>NaN</td>\n",
       "      <td>NaN</td>\n",
       "      <td>NaN</td>\n",
       "      <td>217</td>\n",
       "    </tr>\n",
       "    <tr>\n",
       "      <th>3577</th>\n",
       "      <td>2023-01-04</td>\n",
       "      <td>NaN</td>\n",
       "      <td>NaN</td>\n",
       "      <td>NaN</td>\n",
       "      <td>NaN</td>\n",
       "      <td>0</td>\n",
       "    </tr>\n",
       "    <tr>\n",
       "      <th>4821</th>\n",
       "      <td>2023-01-05</td>\n",
       "      <td>NaN</td>\n",
       "      <td>197.4</td>\n",
       "      <td>NaN</td>\n",
       "      <td>NaN</td>\n",
       "      <td>407</td>\n",
       "    </tr>\n",
       "    <tr>\n",
       "      <th>5690</th>\n",
       "      <td>2023-01-06</td>\n",
       "      <td>NaN</td>\n",
       "      <td>378.4</td>\n",
       "      <td>NaN</td>\n",
       "      <td>NaN</td>\n",
       "      <td>905</td>\n",
       "    </tr>\n",
       "    <tr>\n",
       "      <th>6130</th>\n",
       "      <td>2023-01-07</td>\n",
       "      <td>NaN</td>\n",
       "      <td>417.0</td>\n",
       "      <td>NaN</td>\n",
       "      <td>NaN</td>\n",
       "      <td>556</td>\n",
       "    </tr>\n",
       "    <tr>\n",
       "      <th>7614</th>\n",
       "      <td>2023-01-08</td>\n",
       "      <td>NaN</td>\n",
       "      <td>535.0</td>\n",
       "      <td>NaN</td>\n",
       "      <td>NaN</td>\n",
       "      <td>807</td>\n",
       "    </tr>\n",
       "    <tr>\n",
       "      <th>8403</th>\n",
       "      <td>2023-01-09</td>\n",
       "      <td>NaN</td>\n",
       "      <td>709.6</td>\n",
       "      <td>NaN</td>\n",
       "      <td>NaN</td>\n",
       "      <td>873</td>\n",
       "    </tr>\n",
       "    <tr>\n",
       "      <th>9452</th>\n",
       "      <td>2023-01-10</td>\n",
       "      <td>NaN</td>\n",
       "      <td>726.2</td>\n",
       "      <td>461.8</td>\n",
       "      <td>NaN</td>\n",
       "      <td>490</td>\n",
       "    </tr>\n",
       "  </tbody>\n",
       "</table>\n",
       "</div>"
      ],
      "text/plain": [
       "      plan_date  30d_diff_mean  5d_diff_mean  10d_diff_mean  60d_diff_mean  \\\n",
       "534  2023-01-01            NaN           NaN            NaN            NaN   \n",
       "1786 2023-01-02            NaN           NaN            NaN            NaN   \n",
       "2349 2023-01-03            NaN           NaN            NaN            NaN   \n",
       "3577 2023-01-04            NaN           NaN            NaN            NaN   \n",
       "4821 2023-01-05            NaN         197.4            NaN            NaN   \n",
       "5690 2023-01-06            NaN         378.4            NaN            NaN   \n",
       "6130 2023-01-07            NaN         417.0            NaN            NaN   \n",
       "7614 2023-01-08            NaN         535.0            NaN            NaN   \n",
       "8403 2023-01-09            NaN         709.6            NaN            NaN   \n",
       "9452 2023-01-10            NaN         726.2          461.8            NaN   \n",
       "\n",
       "      diff  \n",
       "534      0  \n",
       "1786   363  \n",
       "2349   217  \n",
       "3577     0  \n",
       "4821   407  \n",
       "5690   905  \n",
       "6130   556  \n",
       "7614   807  \n",
       "8403   873  \n",
       "9452   490  "
      ]
     },
     "execution_count": 245,
     "metadata": {},
     "output_type": "execute_result"
    }
   ],
   "source": [
    "wagnum_subtables[10][['plan_date', '30d_diff_mean', '5d_diff_mean', '10d_diff_mean', '60d_diff_mean', 'diff']].head(10)"
   ]
  },
  {
   "cell_type": "code",
   "execution_count": 246,
   "id": "a0a8737d",
   "metadata": {
    "ExecuteTime": {
     "end_time": "2023-11-11T16:31:51.074510589Z",
     "start_time": "2023-11-11T16:31:51.049065103Z"
    }
   },
   "outputs": [
    {
     "data": {
      "text/plain": [
       "['60d_opor_station_sign_max',\n",
       " '5d_st_river_sign_mean',\n",
       " '60d_st_border_sign_mean',\n",
       " '60d_st_car_sign_max',\n",
       " '30d_st_car_sign_max',\n",
       " '60d_avg_distance_max',\n",
       " '5d_st_sea_sign_max',\n",
       " '30d_st_freigh_sign_mean',\n",
       " '10d_st_sea_sign_mean',\n",
       " '60d_st_freigh_sign_max',\n",
       " '10d_avg_distance_max',\n",
       " '60d_st_sea_sign_mean',\n",
       " '10d_opor_station_sign_mean',\n",
       " '10d_naliv_mean',\n",
       " '30d_diff_mean',\n",
       " '30d_st_border_sign_mean',\n",
       " '30d_st_freigh_sign_max',\n",
       " '60d_st_freigh_sign_mean',\n",
       " '30d_st_border_sign_max',\n",
       " '5d_opor_station_sign_max',\n",
       " '60d_st_ferry_sign_mean',\n",
       " '5d_st_ferry_sign_max',\n",
       " '10d_st_ferry_sign_mean',\n",
       " '60d_naval_mean',\n",
       " '10d_st_freigh_sign_mean',\n",
       " '5d_st_sea_sign_mean',\n",
       " '5d_skoroport_mean',\n",
       " '10d_st_border_sign_mean',\n",
       " '10d_opor_station_sign_max',\n",
       " '5d_st_freigh_sign_mean',\n",
       " '30d_opor_station_sign_mean',\n",
       " '60d_opor_station_sign_mean',\n",
       " '5d_openvagons_mean',\n",
       " '10d_st_car_sign_max',\n",
       " '60d_openvagons_mean',\n",
       " '30d_openvagons_mean',\n",
       " '5d_st_border_sign_max',\n",
       " '10d_diff_mean',\n",
       " '5d_diff_mean',\n",
       " '10d_st_river_sign_mean',\n",
       " '60d_st_sea_sign_max',\n",
       " '60d_st_car_sign_mean',\n",
       " '10d_another_road_max',\n",
       " '60d_naliv_mean',\n",
       " '10d_naval_mean',\n",
       " '10d_skoroport_mean',\n",
       " '5d_opor_station_sign_mean',\n",
       " '30d_nasip_mean',\n",
       " '10d_soprovod_mean',\n",
       " '30d_isload_mean',\n",
       " '60d_nasip_mean',\n",
       " '60d_st_river_sign_max',\n",
       " '60d_diff_mean',\n",
       " '10d_nasip_mean',\n",
       " '30d_avg_distance_max',\n",
       " '5d_st_border_sign_mean',\n",
       " '30d_naval_mean',\n",
       " '5d_avg_distance_min',\n",
       " '60d_skoroport_mean',\n",
       " '5d_avg_distance_max',\n",
       " '60d_isload_mean',\n",
       " '10d_openvagons_mean',\n",
       " '30d_st_sea_sign_mean',\n",
       " '10d_smerz_mean',\n",
       " '5d_smerz_mean',\n",
       " '10d_isload_mean',\n",
       " '10d_st_ferry_sign_max',\n",
       " '5d_another_road_max',\n",
       " '5d_soprovod_mean',\n",
       " '30d_naliv_mean',\n",
       " '5d_naval_mean',\n",
       " '5d_st_car_sign_max',\n",
       " '30d_st_ferry_sign_mean',\n",
       " '60d_st_river_sign_mean',\n",
       " '5d_naliv_mean',\n",
       " '60d_st_ferry_sign_max',\n",
       " '10d_st_border_sign_max',\n",
       " '10d_st_freigh_sign_max',\n",
       " '30d_st_car_sign_mean',\n",
       " '10d_avg_distance_min',\n",
       " '5d_st_car_sign_mean',\n",
       " '30d_another_road_max',\n",
       " '5d_st_ferry_sign_mean',\n",
       " '30d_smerz_mean',\n",
       " '30d_opor_station_sign_max',\n",
       " '10d_st_river_sign_max',\n",
       " '60d_smerz_mean',\n",
       " '30d_soprovod_mean',\n",
       " '30d_st_river_sign_max',\n",
       " '30d_skoroport_mean',\n",
       " '5d_st_freigh_sign_max',\n",
       " '10d_st_sea_sign_max',\n",
       " '30d_avg_distance_min',\n",
       " '60d_st_border_sign_max',\n",
       " '30d_st_ferry_sign_max',\n",
       " '5d_st_river_sign_max',\n",
       " '30d_st_river_sign_mean',\n",
       " '30d_st_sea_sign_max',\n",
       " '60d_soprovod_mean',\n",
       " '60d_another_road_max',\n",
       " '5d_isload_mean',\n",
       " '10d_st_car_sign_mean',\n",
       " '60d_avg_distance_min',\n",
       " '5d_nasip_mean',\n",
       " 'date_kap',\n",
       " 'date_dep',\n",
       " 'kod_vrab',\n",
       " 'date_pl_rem',\n",
       " 'days_to_pl_rem',\n",
       " 'last_rem_date',\n",
       " 'days_from_last_rem',\n",
       " 'ost_prob']"
      ]
     },
     "execution_count": 246,
     "metadata": {},
     "output_type": "execute_result"
    }
   ],
   "source": [
    "columns_to_add"
   ]
  },
  {
   "cell_type": "code",
   "execution_count": 247,
   "id": "a4afc75c98f1a10a",
   "metadata": {
    "ExecuteTime": {
     "start_time": "2023-11-11T16:31:51.049349427Z"
    },
    "collapsed": false
   },
   "outputs": [
    {
     "data": {
      "application/vnd.jupyter.widget-view+json": {
       "model_id": "0ed9a2a575b649d299daa5e35d037302",
       "version_major": 2,
       "version_minor": 0
      },
      "text/plain": [
       "  0%|          | 0/999 [00:00<?, ?it/s]"
      ]
     },
     "metadata": {},
     "output_type": "display_data"
    },
    {
     "data": {
      "text/html": [
       "<div>\n",
       "<style scoped>\n",
       "    .dataframe tbody tr th:only-of-type {\n",
       "        vertical-align: middle;\n",
       "    }\n",
       "\n",
       "    .dataframe tbody tr th {\n",
       "        vertical-align: top;\n",
       "    }\n",
       "\n",
       "    .dataframe thead th {\n",
       "        text-align: right;\n",
       "    }\n",
       "</style>\n",
       "<table border=\"1\" class=\"dataframe\">\n",
       "  <thead>\n",
       "    <tr style=\"text-align: right;\">\n",
       "      <th></th>\n",
       "      <th>wagnum</th>\n",
       "      <th>month</th>\n",
       "      <th>target_month</th>\n",
       "      <th>target_day</th>\n",
       "      <th>60d_opor_station_sign_max</th>\n",
       "      <th>5d_st_river_sign_mean</th>\n",
       "      <th>60d_st_border_sign_mean</th>\n",
       "      <th>60d_st_car_sign_max</th>\n",
       "      <th>30d_st_car_sign_max</th>\n",
       "      <th>60d_avg_distance_max</th>\n",
       "      <th>...</th>\n",
       "      <th>60d_avg_distance_min</th>\n",
       "      <th>5d_nasip_mean</th>\n",
       "      <th>date_kap</th>\n",
       "      <th>date_dep</th>\n",
       "      <th>kod_vrab</th>\n",
       "      <th>date_pl_rem</th>\n",
       "      <th>days_to_pl_rem</th>\n",
       "      <th>last_rem_date</th>\n",
       "      <th>days_from_last_rem</th>\n",
       "      <th>ost_prob</th>\n",
       "    </tr>\n",
       "  </thead>\n",
       "  <tbody>\n",
       "    <tr>\n",
       "      <th>1789</th>\n",
       "      <td>794</td>\n",
       "      <td>2023-02-01</td>\n",
       "      <td>0</td>\n",
       "      <td>0</td>\n",
       "      <td>NaN</td>\n",
       "      <td>4.0</td>\n",
       "      <td>NaN</td>\n",
       "      <td>NaN</td>\n",
       "      <td>0.0</td>\n",
       "      <td>NaN</td>\n",
       "      <td>...</td>\n",
       "      <td>NaN</td>\n",
       "      <td>0.0</td>\n",
       "      <td>NaT</td>\n",
       "      <td>2021-07-30</td>\n",
       "      <td>0</td>\n",
       "      <td>2024-07-30</td>\n",
       "      <td>545</td>\n",
       "      <td>2021-07-30</td>\n",
       "      <td>551</td>\n",
       "      <td>29228</td>\n",
       "    </tr>\n",
       "    <tr>\n",
       "      <th>2220</th>\n",
       "      <td>229</td>\n",
       "      <td>2023-03-01</td>\n",
       "      <td>&lt;NA&gt;</td>\n",
       "      <td>&lt;NA&gt;</td>\n",
       "      <td>3.0</td>\n",
       "      <td>4.0</td>\n",
       "      <td>7.800000</td>\n",
       "      <td>0.0</td>\n",
       "      <td>0.0</td>\n",
       "      <td>1879.835294</td>\n",
       "      <td>...</td>\n",
       "      <td>285.25</td>\n",
       "      <td>0.0</td>\n",
       "      <td>NaT</td>\n",
       "      <td>2020-04-18</td>\n",
       "      <td>1</td>\n",
       "      <td>2023-04-18</td>\n",
       "      <td>48</td>\n",
       "      <td>2020-04-18</td>\n",
       "      <td>1047</td>\n",
       "      <td>159325</td>\n",
       "    </tr>\n",
       "    <tr>\n",
       "      <th>694</th>\n",
       "      <td>695</td>\n",
       "      <td>2023-01-01</td>\n",
       "      <td>0</td>\n",
       "      <td>0</td>\n",
       "      <td>NaN</td>\n",
       "      <td>NaN</td>\n",
       "      <td>NaN</td>\n",
       "      <td>NaN</td>\n",
       "      <td>NaN</td>\n",
       "      <td>NaN</td>\n",
       "      <td>...</td>\n",
       "      <td>NaN</td>\n",
       "      <td>NaN</td>\n",
       "      <td>NaT</td>\n",
       "      <td>2021-04-01</td>\n",
       "      <td>0</td>\n",
       "      <td>2024-04-01</td>\n",
       "      <td>456</td>\n",
       "      <td>2021-04-01</td>\n",
       "      <td>640</td>\n",
       "      <td>74540</td>\n",
       "    </tr>\n",
       "    <tr>\n",
       "      <th>858</th>\n",
       "      <td>859</td>\n",
       "      <td>2023-01-01</td>\n",
       "      <td>0</td>\n",
       "      <td>0</td>\n",
       "      <td>NaN</td>\n",
       "      <td>NaN</td>\n",
       "      <td>NaN</td>\n",
       "      <td>NaN</td>\n",
       "      <td>NaN</td>\n",
       "      <td>NaN</td>\n",
       "      <td>...</td>\n",
       "      <td>NaN</td>\n",
       "      <td>NaN</td>\n",
       "      <td>NaT</td>\n",
       "      <td>2021-06-30</td>\n",
       "      <td>0</td>\n",
       "      <td>2023-06-30</td>\n",
       "      <td>180</td>\n",
       "      <td>2021-06-30</td>\n",
       "      <td>550</td>\n",
       "      <td>115197</td>\n",
       "    </tr>\n",
       "    <tr>\n",
       "      <th>2530</th>\n",
       "      <td>539</td>\n",
       "      <td>2023-03-01</td>\n",
       "      <td>&lt;NA&gt;</td>\n",
       "      <td>&lt;NA&gt;</td>\n",
       "      <td>0.0</td>\n",
       "      <td>3.0</td>\n",
       "      <td>4.183333</td>\n",
       "      <td>0.0</td>\n",
       "      <td>0.0</td>\n",
       "      <td>2729.371859</td>\n",
       "      <td>...</td>\n",
       "      <td>92.00</td>\n",
       "      <td>1.0</td>\n",
       "      <td>2022-02-25</td>\n",
       "      <td>2019-03-23</td>\n",
       "      <td>0</td>\n",
       "      <td>2025-02-25</td>\n",
       "      <td>727</td>\n",
       "      <td>2022-02-25</td>\n",
       "      <td>369</td>\n",
       "      <td>106694</td>\n",
       "    </tr>\n",
       "  </tbody>\n",
       "</table>\n",
       "<p>5 rows × 116 columns</p>\n",
       "</div>"
      ],
      "text/plain": [
       "      wagnum      month  target_month  target_day  60d_opor_station_sign_max  \\\n",
       "1789     794 2023-02-01             0           0                        NaN   \n",
       "2220     229 2023-03-01          <NA>        <NA>                        3.0   \n",
       "694      695 2023-01-01             0           0                        NaN   \n",
       "858      859 2023-01-01             0           0                        NaN   \n",
       "2530     539 2023-03-01          <NA>        <NA>                        0.0   \n",
       "\n",
       "      5d_st_river_sign_mean  60d_st_border_sign_mean  60d_st_car_sign_max  \\\n",
       "1789                    4.0                      NaN                  NaN   \n",
       "2220                    4.0                 7.800000                  0.0   \n",
       "694                     NaN                      NaN                  NaN   \n",
       "858                     NaN                      NaN                  NaN   \n",
       "2530                    3.0                 4.183333                  0.0   \n",
       "\n",
       "      30d_st_car_sign_max  60d_avg_distance_max  ...  60d_avg_distance_min  \\\n",
       "1789                  0.0                   NaN  ...                   NaN   \n",
       "2220                  0.0           1879.835294  ...                285.25   \n",
       "694                   NaN                   NaN  ...                   NaN   \n",
       "858                   NaN                   NaN  ...                   NaN   \n",
       "2530                  0.0           2729.371859  ...                 92.00   \n",
       "\n",
       "      5d_nasip_mean   date_kap   date_dep  kod_vrab  date_pl_rem  \\\n",
       "1789            0.0        NaT 2021-07-30         0   2024-07-30   \n",
       "2220            0.0        NaT 2020-04-18         1   2023-04-18   \n",
       "694             NaN        NaT 2021-04-01         0   2024-04-01   \n",
       "858             NaN        NaT 2021-06-30         0   2023-06-30   \n",
       "2530            1.0 2022-02-25 2019-03-23         0   2025-02-25   \n",
       "\n",
       "      days_to_pl_rem  last_rem_date  days_from_last_rem  ost_prob  \n",
       "1789             545     2021-07-30                 551     29228  \n",
       "2220              48     2020-04-18                1047    159325  \n",
       "694              456     2021-04-01                 640     74540  \n",
       "858              180     2021-06-30                 550    115197  \n",
       "2530             727     2022-02-25                 369    106694  \n",
       "\n",
       "[5 rows x 116 columns]"
      ]
     },
     "execution_count": 247,
     "metadata": {},
     "output_type": "execute_result"
    }
   ],
   "source": [
    "all_df.sort_values(by=['month', 'wagnum'], inplace=True)\n",
    "\n",
    "data = pd.concat([wagnum_subtables[wagnum] for wagnum in tqdm(wagnum_subtables.keys())])\n",
    "data = data[columns_to_add + ['wagnum', 'plan_date']]\n",
    "data.rename({'plan_date': 'month'}, axis=1, inplace=True)\n",
    "all_df_new = all_df.merge(data, on=['month', 'wagnum'], how='left')\n",
    "    \n",
    "\n",
    "all_df_new.sample(5)"
   ]
  },
  {
   "cell_type": "code",
   "execution_count": 248,
   "id": "ade190aa",
   "metadata": {
    "ExecuteTime": {
     "start_time": "2023-11-11T16:31:51.049608748Z"
    }
   },
   "outputs": [
    {
     "data": {
      "text/plain": [
       "<DatetimeArray>\n",
       "['2023-01-01 00:00:00', '2023-02-01 00:00:00', '2023-03-01 00:00:00']\n",
       "Length: 3, dtype: datetime64[ns]"
      ]
     },
     "execution_count": 248,
     "metadata": {},
     "output_type": "execute_result"
    }
   ],
   "source": [
    "all_df_new.month.unique()"
   ]
  },
  {
   "cell_type": "markdown",
   "id": "692e3820bea5da48",
   "metadata": {
    "collapsed": false
   },
   "source": [
    "### Тип владения вагоном - сбор данных"
   ]
  },
  {
   "cell_type": "code",
   "execution_count": 249,
   "id": "be324f8d",
   "metadata": {},
   "outputs": [
    {
     "name": "stdout",
     "output_type": "stream",
     "text": [
      "(7193667, 8)\n",
      "(7227374, 8)\n"
     ]
    },
    {
     "data": {
      "text/html": [
       "<div>\n",
       "<style scoped>\n",
       "    .dataframe tbody tr th:only-of-type {\n",
       "        vertical-align: middle;\n",
       "    }\n",
       "\n",
       "    .dataframe tbody tr th {\n",
       "        vertical-align: top;\n",
       "    }\n",
       "\n",
       "    .dataframe thead th {\n",
       "        text-align: right;\n",
       "    }\n",
       "</style>\n",
       "<table border=\"1\" class=\"dataframe\">\n",
       "  <thead>\n",
       "    <tr style=\"text-align: right;\">\n",
       "      <th></th>\n",
       "      <th>repdate</th>\n",
       "      <th>wagnum</th>\n",
       "      <th>ost_prob</th>\n",
       "      <th>manage_type</th>\n",
       "      <th>rod_id</th>\n",
       "      <th>reestr_state</th>\n",
       "      <th>ownership_type</th>\n",
       "      <th>month</th>\n",
       "    </tr>\n",
       "  </thead>\n",
       "  <tbody>\n",
       "    <tr>\n",
       "      <th>7208943</th>\n",
       "      <td>2023-03-01</td>\n",
       "      <td>2054</td>\n",
       "      <td>&lt;NA&gt;</td>\n",
       "      <td>0</td>\n",
       "      <td>0</td>\n",
       "      <td>1</td>\n",
       "      <td>0</td>\n",
       "      <td>2</td>\n",
       "    </tr>\n",
       "    <tr>\n",
       "      <th>3024280</th>\n",
       "      <td>2022-09-24</td>\n",
       "      <td>11289</td>\n",
       "      <td>40779</td>\n",
       "      <td>0</td>\n",
       "      <td>1</td>\n",
       "      <td>1</td>\n",
       "      <td>0</td>\n",
       "      <td>9</td>\n",
       "    </tr>\n",
       "    <tr>\n",
       "      <th>464855</th>\n",
       "      <td>2022-08-22</td>\n",
       "      <td>14079</td>\n",
       "      <td>135899</td>\n",
       "      <td>0</td>\n",
       "      <td>1</td>\n",
       "      <td>1</td>\n",
       "      <td>0</td>\n",
       "      <td>8</td>\n",
       "    </tr>\n",
       "    <tr>\n",
       "      <th>3085815</th>\n",
       "      <td>2023-01-05</td>\n",
       "      <td>11665</td>\n",
       "      <td>14609</td>\n",
       "      <td>0</td>\n",
       "      <td>1</td>\n",
       "      <td>1</td>\n",
       "      <td>0</td>\n",
       "      <td>1</td>\n",
       "    </tr>\n",
       "    <tr>\n",
       "      <th>1271742</th>\n",
       "      <td>2022-11-25</td>\n",
       "      <td>26875</td>\n",
       "      <td>159722</td>\n",
       "      <td>0</td>\n",
       "      <td>1</td>\n",
       "      <td>1</td>\n",
       "      <td>0</td>\n",
       "      <td>11</td>\n",
       "    </tr>\n",
       "    <tr>\n",
       "      <th>2980965</th>\n",
       "      <td>2022-10-23</td>\n",
       "      <td>19594</td>\n",
       "      <td>148865</td>\n",
       "      <td>0</td>\n",
       "      <td>0</td>\n",
       "      <td>1</td>\n",
       "      <td>0</td>\n",
       "      <td>10</td>\n",
       "    </tr>\n",
       "    <tr>\n",
       "      <th>6814860</th>\n",
       "      <td>2023-02-20</td>\n",
       "      <td>30061</td>\n",
       "      <td>91854</td>\n",
       "      <td>1</td>\n",
       "      <td>1</td>\n",
       "      <td>1</td>\n",
       "      <td>0</td>\n",
       "      <td>2</td>\n",
       "    </tr>\n",
       "    <tr>\n",
       "      <th>206354</th>\n",
       "      <td>2023-01-06</td>\n",
       "      <td>13738</td>\n",
       "      <td>138163</td>\n",
       "      <td>0</td>\n",
       "      <td>1</td>\n",
       "      <td>1</td>\n",
       "      <td>0</td>\n",
       "      <td>1</td>\n",
       "    </tr>\n",
       "    <tr>\n",
       "      <th>231247</th>\n",
       "      <td>2022-09-03</td>\n",
       "      <td>8801</td>\n",
       "      <td>89619</td>\n",
       "      <td>0</td>\n",
       "      <td>0</td>\n",
       "      <td>1</td>\n",
       "      <td>0</td>\n",
       "      <td>9</td>\n",
       "    </tr>\n",
       "    <tr>\n",
       "      <th>5834169</th>\n",
       "      <td>2022-10-25</td>\n",
       "      <td>9798</td>\n",
       "      <td>94885</td>\n",
       "      <td>0</td>\n",
       "      <td>0</td>\n",
       "      <td>1</td>\n",
       "      <td>0</td>\n",
       "      <td>10</td>\n",
       "    </tr>\n",
       "  </tbody>\n",
       "</table>\n",
       "</div>"
      ],
      "text/plain": [
       "           repdate  wagnum  ost_prob  manage_type  rod_id  reestr_state  \\\n",
       "7208943 2023-03-01    2054      <NA>            0       0             1   \n",
       "3024280 2022-09-24   11289     40779            0       1             1   \n",
       "464855  2022-08-22   14079    135899            0       1             1   \n",
       "3085815 2023-01-05   11665     14609            0       1             1   \n",
       "1271742 2022-11-25   26875    159722            0       1             1   \n",
       "2980965 2022-10-23   19594    148865            0       0             1   \n",
       "6814860 2023-02-20   30061     91854            1       1             1   \n",
       "206354  2023-01-06   13738    138163            0       1             1   \n",
       "231247  2022-09-03    8801     89619            0       0             1   \n",
       "5834169 2022-10-25    9798     94885            0       0             1   \n",
       "\n",
       "         ownership_type  month  \n",
       "7208943               0      2  \n",
       "3024280               0      9  \n",
       "464855                0      8  \n",
       "3085815               0      1  \n",
       "1271742               0     11  \n",
       "2980965               0     10  \n",
       "6814860               0      2  \n",
       "206354                0      1  \n",
       "231247                0      9  \n",
       "5834169               0     10  "
      ]
     },
     "execution_count": 249,
     "metadata": {},
     "output_type": "execute_result"
    }
   ],
   "source": [
    "# For rows in wag_prob with repdate == 2023-02-28, add the same row with repdate == 2023-03-01\n",
    "\n",
    "wag_prob = pd.read_parquet(path_train + '/wagons_probeg_ownersip.parquet').convert_dtypes()\n",
    "print(wag_prob.shape)\n",
    "\n",
    "rows = wag_prob[wag_prob['repdate'] == pd.to_datetime('2023-02-28')].copy()\n",
    "rows['repdate'] = pd.to_datetime('2023-03-01')\n",
    "wag_prob = pd.concat([wag_prob, rows], ignore_index=True)\n",
    "print(wag_prob.shape)\n",
    "\n",
    "wag_prob.sample(10)"
   ]
  },
  {
   "cell_type": "code",
   "execution_count": 250,
   "id": "4a880bd1bf66efbe",
   "metadata": {
    "ExecuteTime": {
     "start_time": "2023-11-11T16:31:51.049920240Z"
    },
    "collapsed": false
   },
   "outputs": [
    {
     "name": "stdout",
     "output_type": "stream",
     "text": [
      "(271267, 8)\n"
     ]
    },
    {
     "data": {
      "text/html": [
       "<div>\n",
       "<style scoped>\n",
       "    .dataframe tbody tr th:only-of-type {\n",
       "        vertical-align: middle;\n",
       "    }\n",
       "\n",
       "    .dataframe tbody tr th {\n",
       "        vertical-align: top;\n",
       "    }\n",
       "\n",
       "    .dataframe thead th {\n",
       "        text-align: right;\n",
       "    }\n",
       "</style>\n",
       "<table border=\"1\" class=\"dataframe\">\n",
       "  <thead>\n",
       "    <tr style=\"text-align: right;\">\n",
       "      <th></th>\n",
       "      <th>wagnum</th>\n",
       "      <th>month</th>\n",
       "      <th>target_month</th>\n",
       "      <th>target_day</th>\n",
       "      <th>60d_opor_station_sign_max</th>\n",
       "      <th>5d_st_river_sign_mean</th>\n",
       "      <th>60d_st_border_sign_mean</th>\n",
       "      <th>60d_st_car_sign_max</th>\n",
       "      <th>30d_st_car_sign_max</th>\n",
       "      <th>60d_avg_distance_max</th>\n",
       "      <th>...</th>\n",
       "      <th>kod_vrab</th>\n",
       "      <th>date_pl_rem</th>\n",
       "      <th>days_to_pl_rem</th>\n",
       "      <th>last_rem_date</th>\n",
       "      <th>days_from_last_rem</th>\n",
       "      <th>ost_prob</th>\n",
       "      <th>manage_type</th>\n",
       "      <th>rod_id</th>\n",
       "      <th>reestr_state</th>\n",
       "      <th>ownership_type</th>\n",
       "    </tr>\n",
       "  </thead>\n",
       "  <tbody>\n",
       "    <tr>\n",
       "      <th>202</th>\n",
       "      <td>203</td>\n",
       "      <td>2023-01-01</td>\n",
       "      <td>0</td>\n",
       "      <td>0</td>\n",
       "      <td>NaN</td>\n",
       "      <td>NaN</td>\n",
       "      <td>NaN</td>\n",
       "      <td>NaN</td>\n",
       "      <td>NaN</td>\n",
       "      <td>NaN</td>\n",
       "      <td>...</td>\n",
       "      <td>1</td>\n",
       "      <td>2023-05-20</td>\n",
       "      <td>139</td>\n",
       "      <td>2020-05-20</td>\n",
       "      <td>956</td>\n",
       "      <td>36005</td>\n",
       "      <td>0</td>\n",
       "      <td>0</td>\n",
       "      <td>1</td>\n",
       "      <td>0</td>\n",
       "    </tr>\n",
       "    <tr>\n",
       "      <th>454</th>\n",
       "      <td>455</td>\n",
       "      <td>2023-01-01</td>\n",
       "      <td>0</td>\n",
       "      <td>0</td>\n",
       "      <td>NaN</td>\n",
       "      <td>NaN</td>\n",
       "      <td>NaN</td>\n",
       "      <td>NaN</td>\n",
       "      <td>NaN</td>\n",
       "      <td>NaN</td>\n",
       "      <td>...</td>\n",
       "      <td>1</td>\n",
       "      <td>2023-04-22</td>\n",
       "      <td>111</td>\n",
       "      <td>2020-04-22</td>\n",
       "      <td>984</td>\n",
       "      <td>35541</td>\n",
       "      <td>0</td>\n",
       "      <td>0</td>\n",
       "      <td>1</td>\n",
       "      <td>0</td>\n",
       "    </tr>\n",
       "    <tr>\n",
       "      <th>2279</th>\n",
       "      <td>288</td>\n",
       "      <td>2023-03-01</td>\n",
       "      <td>&lt;NA&gt;</td>\n",
       "      <td>&lt;NA&gt;</td>\n",
       "      <td>3.0</td>\n",
       "      <td>6.0</td>\n",
       "      <td>2.533333</td>\n",
       "      <td>0.0</td>\n",
       "      <td>0.0</td>\n",
       "      <td>2209.800000</td>\n",
       "      <td>...</td>\n",
       "      <td>1</td>\n",
       "      <td>2022-11-23</td>\n",
       "      <td>-98</td>\n",
       "      <td>2019-11-23</td>\n",
       "      <td>1194</td>\n",
       "      <td>145358</td>\n",
       "      <td>0</td>\n",
       "      <td>0</td>\n",
       "      <td>1</td>\n",
       "      <td>0</td>\n",
       "    </tr>\n",
       "    <tr>\n",
       "      <th>426</th>\n",
       "      <td>427</td>\n",
       "      <td>2023-01-01</td>\n",
       "      <td>0</td>\n",
       "      <td>0</td>\n",
       "      <td>NaN</td>\n",
       "      <td>NaN</td>\n",
       "      <td>NaN</td>\n",
       "      <td>NaN</td>\n",
       "      <td>NaN</td>\n",
       "      <td>NaN</td>\n",
       "      <td>...</td>\n",
       "      <td>1</td>\n",
       "      <td>2022-11-24</td>\n",
       "      <td>-38</td>\n",
       "      <td>2019-11-24</td>\n",
       "      <td>1134</td>\n",
       "      <td>158241</td>\n",
       "      <td>0</td>\n",
       "      <td>0</td>\n",
       "      <td>1</td>\n",
       "      <td>0</td>\n",
       "    </tr>\n",
       "    <tr>\n",
       "      <th>2345</th>\n",
       "      <td>354</td>\n",
       "      <td>2023-03-01</td>\n",
       "      <td>&lt;NA&gt;</td>\n",
       "      <td>&lt;NA&gt;</td>\n",
       "      <td>0.0</td>\n",
       "      <td>6.0</td>\n",
       "      <td>1.300000</td>\n",
       "      <td>0.0</td>\n",
       "      <td>0.0</td>\n",
       "      <td>4890.285714</td>\n",
       "      <td>...</td>\n",
       "      <td>1</td>\n",
       "      <td>2022-07-17</td>\n",
       "      <td>-227</td>\n",
       "      <td>2019-07-17</td>\n",
       "      <td>1323</td>\n",
       "      <td>135365</td>\n",
       "      <td>0</td>\n",
       "      <td>0</td>\n",
       "      <td>1</td>\n",
       "      <td>0</td>\n",
       "    </tr>\n",
       "  </tbody>\n",
       "</table>\n",
       "<p>5 rows × 120 columns</p>\n",
       "</div>"
      ],
      "text/plain": [
       "      wagnum      month  target_month  target_day  60d_opor_station_sign_max  \\\n",
       "202      203 2023-01-01             0           0                        NaN   \n",
       "454      455 2023-01-01             0           0                        NaN   \n",
       "2279     288 2023-03-01          <NA>        <NA>                        3.0   \n",
       "426      427 2023-01-01             0           0                        NaN   \n",
       "2345     354 2023-03-01          <NA>        <NA>                        0.0   \n",
       "\n",
       "      5d_st_river_sign_mean  60d_st_border_sign_mean  60d_st_car_sign_max  \\\n",
       "202                     NaN                      NaN                  NaN   \n",
       "454                     NaN                      NaN                  NaN   \n",
       "2279                    6.0                 2.533333                  0.0   \n",
       "426                     NaN                      NaN                  NaN   \n",
       "2345                    6.0                 1.300000                  0.0   \n",
       "\n",
       "      30d_st_car_sign_max  60d_avg_distance_max  ...  kod_vrab  date_pl_rem  \\\n",
       "202                   NaN                   NaN  ...         1   2023-05-20   \n",
       "454                   NaN                   NaN  ...         1   2023-04-22   \n",
       "2279                  0.0           2209.800000  ...         1   2022-11-23   \n",
       "426                   NaN                   NaN  ...         1   2022-11-24   \n",
       "2345                  0.0           4890.285714  ...         1   2022-07-17   \n",
       "\n",
       "      days_to_pl_rem  last_rem_date  days_from_last_rem  ost_prob  \\\n",
       "202              139     2020-05-20                 956     36005   \n",
       "454              111     2020-04-22                 984     35541   \n",
       "2279             -98     2019-11-23                1194    145358   \n",
       "426              -38     2019-11-24                1134    158241   \n",
       "2345            -227     2019-07-17                1323    135365   \n",
       "\n",
       "      manage_type  rod_id  reestr_state  ownership_type  \n",
       "202             0       0             1               0  \n",
       "454             0       0             1               0  \n",
       "2279            0       0             1               0  \n",
       "426             0       0             1               0  \n",
       "2345            0       0             1               0  \n",
       "\n",
       "[5 rows x 120 columns]"
      ]
     },
     "execution_count": 250,
     "metadata": {},
     "output_type": "execute_result"
    }
   ],
   "source": [
    "wag_prob_months = wag_prob[wag_prob.repdate.dt.day == 1].copy()\n",
    "print(wag_prob_months.shape)\n",
    "\n",
    "wag_prob_months.drop(['ost_prob', 'month'], axis=1, inplace=True)\n",
    "wag_prob_months.rename({'repdate': 'month'}, axis=1, inplace=True)\n",
    "\n",
    "all_df_new_ = all_df_new.merge(wag_prob_months, on=['month', 'wagnum'], how='left')\n",
    "all_df_new_.sample(5)"
   ]
  },
  {
   "cell_type": "code",
   "execution_count": 251,
   "id": "cbbd5006",
   "metadata": {
    "ExecuteTime": {
     "start_time": "2023-11-11T16:31:51.050112513Z"
    }
   },
   "outputs": [],
   "source": [
    "all_df_new = all_df_new_"
   ]
  },
  {
   "cell_type": "markdown",
   "id": "91cdb3592a7cdf00",
   "metadata": {
    "collapsed": false
   },
   "source": [
    "### Характеристики вагонов - сбор данных"
   ]
  },
  {
   "cell_type": "code",
   "execution_count": 252,
   "id": "53f441a8cf0ba07a",
   "metadata": {
    "ExecuteTime": {
     "start_time": "2023-11-11T16:31:51.050225656Z"
    },
    "collapsed": false
   },
   "outputs": [
    {
     "data": {
      "text/plain": [
       "Index(['wagnum', 'model', 'rod_id', 'gruz', 'cnsi_gruz_capacity',\n",
       "       'cnsi_volumek', 'tara', 'date_build', 'srok_sl', 'zavod_build',\n",
       "       'date_iskl', 'cnsi_probeg_dr', 'cnsi_probeg_kr', 'kuzov', 'telega',\n",
       "       'tormoz', 'tipvozd', 'tippogl', 'norma_km', 'ownertype'],\n",
       "      dtype='object')"
      ]
     },
     "execution_count": 252,
     "metadata": {},
     "output_type": "execute_result"
    }
   ],
   "source": [
    "wag_param = pd.read_parquet(path_train + '/wag_params.parquet').convert_dtypes()\n",
    "wag_param.columns"
   ]
  },
  {
   "cell_type": "code",
   "execution_count": 253,
   "id": "a69861eebe7dc29b",
   "metadata": {
    "ExecuteTime": {
     "start_time": "2023-11-11T16:31:51.050334678Z"
    },
    "collapsed": false
   },
   "outputs": [
    {
     "data": {
      "text/html": [
       "<div>\n",
       "<style scoped>\n",
       "    .dataframe tbody tr th:only-of-type {\n",
       "        vertical-align: middle;\n",
       "    }\n",
       "\n",
       "    .dataframe tbody tr th {\n",
       "        vertical-align: top;\n",
       "    }\n",
       "\n",
       "    .dataframe thead th {\n",
       "        text-align: right;\n",
       "    }\n",
       "</style>\n",
       "<table border=\"1\" class=\"dataframe\">\n",
       "  <thead>\n",
       "    <tr style=\"text-align: right;\">\n",
       "      <th></th>\n",
       "      <th>wagnum</th>\n",
       "      <th>month</th>\n",
       "      <th>target_month</th>\n",
       "      <th>target_day</th>\n",
       "      <th>60d_opor_station_sign_max</th>\n",
       "      <th>5d_st_river_sign_mean</th>\n",
       "      <th>60d_st_border_sign_mean</th>\n",
       "      <th>60d_st_car_sign_max</th>\n",
       "      <th>30d_st_car_sign_max</th>\n",
       "      <th>60d_avg_distance_max</th>\n",
       "      <th>...</th>\n",
       "      <th>date_iskl</th>\n",
       "      <th>cnsi_probeg_dr</th>\n",
       "      <th>cnsi_probeg_kr</th>\n",
       "      <th>kuzov</th>\n",
       "      <th>telega</th>\n",
       "      <th>tormoz</th>\n",
       "      <th>tipvozd</th>\n",
       "      <th>tippogl</th>\n",
       "      <th>norma_km</th>\n",
       "      <th>ownertype</th>\n",
       "    </tr>\n",
       "  </thead>\n",
       "  <tbody>\n",
       "    <tr>\n",
       "      <th>504</th>\n",
       "      <td>505</td>\n",
       "      <td>2023-01-01</td>\n",
       "      <td>0</td>\n",
       "      <td>0</td>\n",
       "      <td>NaN</td>\n",
       "      <td>NaN</td>\n",
       "      <td>NaN</td>\n",
       "      <td>NaN</td>\n",
       "      <td>NaN</td>\n",
       "      <td>NaN</td>\n",
       "      <td>...</td>\n",
       "      <td>NaT</td>\n",
       "      <td>110</td>\n",
       "      <td>160</td>\n",
       "      <td>2</td>\n",
       "      <td>9</td>\n",
       "      <td>2</td>\n",
       "      <td>4</td>\n",
       "      <td>11</td>\n",
       "      <td>160000</td>\n",
       "      <td>0</td>\n",
       "    </tr>\n",
       "    <tr>\n",
       "      <th>2399</th>\n",
       "      <td>408</td>\n",
       "      <td>2023-03-01</td>\n",
       "      <td>&lt;NA&gt;</td>\n",
       "      <td>&lt;NA&gt;</td>\n",
       "      <td>3.0</td>\n",
       "      <td>8.0</td>\n",
       "      <td>4.85</td>\n",
       "      <td>2.0</td>\n",
       "      <td>0.0</td>\n",
       "      <td>2256.418605</td>\n",
       "      <td>...</td>\n",
       "      <td>NaT</td>\n",
       "      <td>110</td>\n",
       "      <td>160</td>\n",
       "      <td>2</td>\n",
       "      <td>9</td>\n",
       "      <td>2</td>\n",
       "      <td>4</td>\n",
       "      <td>3</td>\n",
       "      <td>160000</td>\n",
       "      <td>0</td>\n",
       "    </tr>\n",
       "    <tr>\n",
       "      <th>2111</th>\n",
       "      <td>120</td>\n",
       "      <td>2023-03-01</td>\n",
       "      <td>&lt;NA&gt;</td>\n",
       "      <td>&lt;NA&gt;</td>\n",
       "      <td>3.0</td>\n",
       "      <td>7.0</td>\n",
       "      <td>4.10</td>\n",
       "      <td>0.0</td>\n",
       "      <td>0.0</td>\n",
       "      <td>4749.250000</td>\n",
       "      <td>...</td>\n",
       "      <td>NaT</td>\n",
       "      <td>110</td>\n",
       "      <td>160</td>\n",
       "      <td>2</td>\n",
       "      <td>9</td>\n",
       "      <td>2</td>\n",
       "      <td>4</td>\n",
       "      <td>11</td>\n",
       "      <td>160000</td>\n",
       "      <td>0</td>\n",
       "    </tr>\n",
       "    <tr>\n",
       "      <th>1347</th>\n",
       "      <td>352</td>\n",
       "      <td>2023-02-01</td>\n",
       "      <td>0</td>\n",
       "      <td>0</td>\n",
       "      <td>NaN</td>\n",
       "      <td>4.0</td>\n",
       "      <td>NaN</td>\n",
       "      <td>NaN</td>\n",
       "      <td>0.0</td>\n",
       "      <td>NaN</td>\n",
       "      <td>...</td>\n",
       "      <td>NaT</td>\n",
       "      <td>110</td>\n",
       "      <td>160</td>\n",
       "      <td>2</td>\n",
       "      <td>9</td>\n",
       "      <td>2</td>\n",
       "      <td>6</td>\n",
       "      <td>11</td>\n",
       "      <td>160000</td>\n",
       "      <td>0</td>\n",
       "    </tr>\n",
       "    <tr>\n",
       "      <th>889</th>\n",
       "      <td>890</td>\n",
       "      <td>2023-01-01</td>\n",
       "      <td>0</td>\n",
       "      <td>0</td>\n",
       "      <td>NaN</td>\n",
       "      <td>NaN</td>\n",
       "      <td>NaN</td>\n",
       "      <td>NaN</td>\n",
       "      <td>NaN</td>\n",
       "      <td>NaN</td>\n",
       "      <td>...</td>\n",
       "      <td>NaT</td>\n",
       "      <td>110</td>\n",
       "      <td>160</td>\n",
       "      <td>2</td>\n",
       "      <td>9</td>\n",
       "      <td>2</td>\n",
       "      <td>7</td>\n",
       "      <td>12</td>\n",
       "      <td>160000</td>\n",
       "      <td>0</td>\n",
       "    </tr>\n",
       "  </tbody>\n",
       "</table>\n",
       "<p>5 rows × 139 columns</p>\n",
       "</div>"
      ],
      "text/plain": [
       "      wagnum      month  target_month  target_day  60d_opor_station_sign_max  \\\n",
       "504      505 2023-01-01             0           0                        NaN   \n",
       "2399     408 2023-03-01          <NA>        <NA>                        3.0   \n",
       "2111     120 2023-03-01          <NA>        <NA>                        3.0   \n",
       "1347     352 2023-02-01             0           0                        NaN   \n",
       "889      890 2023-01-01             0           0                        NaN   \n",
       "\n",
       "      5d_st_river_sign_mean  60d_st_border_sign_mean  60d_st_car_sign_max  \\\n",
       "504                     NaN                      NaN                  NaN   \n",
       "2399                    8.0                     4.85                  2.0   \n",
       "2111                    7.0                     4.10                  0.0   \n",
       "1347                    4.0                      NaN                  NaN   \n",
       "889                     NaN                      NaN                  NaN   \n",
       "\n",
       "      30d_st_car_sign_max  60d_avg_distance_max  ...  date_iskl  \\\n",
       "504                   NaN                   NaN  ...        NaT   \n",
       "2399                  0.0           2256.418605  ...        NaT   \n",
       "2111                  0.0           4749.250000  ...        NaT   \n",
       "1347                  0.0                   NaN  ...        NaT   \n",
       "889                   NaN                   NaN  ...        NaT   \n",
       "\n",
       "      cnsi_probeg_dr  cnsi_probeg_kr  kuzov  telega  tormoz  tipvozd  tippogl  \\\n",
       "504              110             160      2       9       2        4       11   \n",
       "2399             110             160      2       9       2        4        3   \n",
       "2111             110             160      2       9       2        4       11   \n",
       "1347             110             160      2       9       2        6       11   \n",
       "889              110             160      2       9       2        7       12   \n",
       "\n",
       "      norma_km  ownertype  \n",
       "504     160000          0  \n",
       "2399    160000          0  \n",
       "2111    160000          0  \n",
       "1347    160000          0  \n",
       "889     160000          0  \n",
       "\n",
       "[5 rows x 139 columns]"
      ]
     },
     "execution_count": 253,
     "metadata": {},
     "output_type": "execute_result"
    }
   ],
   "source": [
    "all_df_new = all_df_new.merge(wag_param, on=['wagnum'], how='left')\n",
    "all_df_new.sample(5)"
   ]
  },
  {
   "cell_type": "code",
   "execution_count": 254,
   "id": "9c497d24e1101816",
   "metadata": {
    "ExecuteTime": {
     "start_time": "2023-11-11T16:31:51.050592393Z"
    },
    "collapsed": false
   },
   "outputs": [
    {
     "name": "stdout",
     "output_type": "stream",
     "text": [
      "<class 'pandas.core.frame.DataFrame'>\n",
      "RangeIndex: 2991 entries, 0 to 2990\n",
      "Columns: 139 entries, wagnum to ownertype\n",
      "dtypes: Float64(1), Int64(24), datetime64[ns](8), float64(104), string(2)\n",
      "memory usage: 3.2 MB\n"
     ]
    }
   ],
   "source": [
    "all_df_new.info()"
   ]
  },
  {
   "cell_type": "code",
   "execution_count": 255,
   "id": "64f9faa4636dfa1",
   "metadata": {
    "ExecuteTime": {
     "start_time": "2023-11-11T16:31:51.050699110Z"
    },
    "collapsed": false
   },
   "outputs": [
    {
     "name": "stderr",
     "output_type": "stream",
     "text": [
      "/tmp/ipykernel_25136/2815582639.py:1: PerformanceWarning: DataFrame is highly fragmented.  This is usually the result of calling `frame.insert` many times, which has poor performance.  Consider joining all columns at once using pd.concat(axis=1) instead. To get a de-fragmented frame, use `newframe = frame.copy()`\n",
      "  all_df_new['expected_srok_sl_y'] = (all_df_new['srok_sl'] - all_df_new['date_build']).dt.days / 365\n"
     ]
    },
    {
     "data": {
      "text/plain": [
       "<Axes: ylabel='Frequency'>"
      ]
     },
     "execution_count": 255,
     "metadata": {},
     "output_type": "execute_result"
    },
    {
     "data": {
      "image/png": "[encoded data removed]",
      "text/plain": [
       "<Figure size 640x480 with 1 Axes>"
      ]
     },
     "metadata": {},
     "output_type": "display_data"
    }
   ],
   "source": [
    "all_df_new['expected_srok_sl_y'] = (all_df_new['srok_sl'] - all_df_new['date_build']).dt.days / 365\n",
    "all_df_new['expected_srok_sl_y'].plot.hist(bins=50, range=(18, 36))"
   ]
  },
  {
   "cell_type": "code",
   "execution_count": 256,
   "id": "76d7c67b125365e9",
   "metadata": {
    "ExecuteTime": {
     "start_time": "2023-11-11T16:31:51.050796469Z"
    },
    "collapsed": false
   },
   "outputs": [
    {
     "name": "stderr",
     "output_type": "stream",
     "text": [
      "/tmp/ipykernel_25136/2689697492.py:1: PerformanceWarning: DataFrame is highly fragmented.  This is usually the result of calling `frame.insert` many times, which has poor performance.  Consider joining all columns at once using pd.concat(axis=1) instead. To get a de-fragmented frame, use `newframe = frame.copy()`\n",
      "  all_df_new['expected_srok_sl_y_b'] = all_df_new['expected_srok_sl_y'].apply(lambda x: \"short\" if x <= 27.5 else \"long\")\n"
     ]
    },
    {
     "data": {
      "text/plain": [
       "expected_srok_sl_y_b\n",
       "long    2991\n",
       "Name: count, dtype: int64"
      ]
     },
     "execution_count": 256,
     "metadata": {},
     "output_type": "execute_result"
    }
   ],
   "source": [
    "all_df_new['expected_srok_sl_y_b'] = all_df_new['expected_srok_sl_y'].apply(lambda x: \"short\" if x <= 27.5 else \"long\")\n",
    "all_df_new['expected_srok_sl_y_b'].value_counts()"
   ]
  },
  {
   "cell_type": "code",
   "execution_count": 257,
   "id": "cf9b60edd4a58529",
   "metadata": {
    "ExecuteTime": {
     "start_time": "2023-11-11T16:31:51.050892570Z"
    },
    "collapsed": false
   },
   "outputs": [
    {
     "name": "stderr",
     "output_type": "stream",
     "text": [
      "/tmp/ipykernel_25136/2605943646.py:1: PerformanceWarning: DataFrame is highly fragmented.  This is usually the result of calling `frame.insert` many times, which has poor performance.  Consider joining all columns at once using pd.concat(axis=1) instead. To get a de-fragmented frame, use `newframe = frame.copy()`\n",
      "  all_df_new['date_build_b'] = pd.cut(all_df_new['date_build'].dt.year, bins=[0, 2000, 2007, 2017, 2030])\n"
     ]
    },
    {
     "data": {
      "text/plain": [
       "date_build_b\n",
       "(2007, 2017]    2322\n",
       "(0, 2000]        390\n",
       "(2000, 2007]     279\n",
       "(2017, 2030]       0\n",
       "Name: count, dtype: int64"
      ]
     },
     "execution_count": 257,
     "metadata": {},
     "output_type": "execute_result"
    }
   ],
   "source": [
    "all_df_new['date_build_b'] = pd.cut(all_df_new['date_build'].dt.year, bins=[0, 2000, 2007, 2017, 2030])\n",
    "all_df_new['date_build_b'].value_counts()"
   ]
  },
  {
   "cell_type": "markdown",
   "id": "74388824",
   "metadata": {
    "ExecuteTime": {
     "start_time": "2023-11-11T16:31:51.050991117Z"
    }
   },
   "source": [
    "### Просмотр результата и сохранение"
   ]
  },
  {
   "cell_type": "code",
   "execution_count": 258,
   "id": "e67b9f6f",
   "metadata": {
    "ExecuteTime": {
     "start_time": "2023-11-11T16:31:51.051092666Z"
    }
   },
   "outputs": [
    {
     "data": {
      "text/plain": [
       "(2991, 142)"
      ]
     },
     "execution_count": 258,
     "metadata": {},
     "output_type": "execute_result"
    }
   ],
   "source": [
    "all_df_new.shape"
   ]
  },
  {
   "cell_type": "code",
   "execution_count": 259,
   "id": "c77a5033",
   "metadata": {},
   "outputs": [
    {
     "name": "stdout",
     "output_type": "stream",
     "text": [
      "<class 'pandas.core.frame.DataFrame'>\n",
      "RangeIndex: 2991 entries, 0 to 2990\n",
      "Columns: 142 entries, wagnum to date_build_b\n",
      "dtypes: Float64(1), Int64(24), category(1), datetime64[ns](8), float64(105), object(1), string(2)\n",
      "memory usage: 3.3+ MB\n"
     ]
    }
   ],
   "source": [
    "all_df_new.info()"
   ]
  },
  {
   "cell_type": "code",
   "execution_count": 260,
   "id": "2869448b",
   "metadata": {},
   "outputs": [
    {
     "name": "stdout",
     "output_type": "stream",
     "text": [
      "(1995, 142) (996, 142)\n"
     ]
    }
   ],
   "source": [
    "train_df_new = all_df_new[all_df_new.target_month.notna()]\n",
    "test_df_new = all_df_new[all_df_new.target_month.isna()]\n",
    "\n",
    "print(train_df_new.shape, test_df_new.shape)"
   ]
  },
  {
   "cell_type": "code",
   "execution_count": 261,
   "id": "253fadd1",
   "metadata": {
    "ExecuteTime": {
     "start_time": "2023-11-11T16:31:51.051347447Z"
    }
   },
   "outputs": [],
   "source": [
    "train_df_new.to_csv(path_train + '/data/train_.csv', index=False)\n",
    "test_df_new.to_csv(path_train + '/data/test_.csv', index=False)"
   ]
  }
 ],
 "metadata": {
  "kernelspec": {
   "display_name": "Python 3",
   "language": "python",
   "name": "python3"
  },
  "language_info": {
   "codemirror_mode": {
    "name": "ipython",
    "version": 3
   },
   "file_extension": ".py",
   "mimetype": "text/x-python",
   "name": "python",
   "nbconvert_exporter": "python",
   "pygments_lexer": "ipython3",
   "version": "3.11.5"
  }
 },
 "nbformat": 4,
 "nbformat_minor": 5
}
