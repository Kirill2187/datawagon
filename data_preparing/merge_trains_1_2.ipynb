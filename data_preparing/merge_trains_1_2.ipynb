{
 "cells": [
  {
   "cell_type": "code",
   "execution_count": 23,
   "metadata": {
    "collapsed": true,
    "ExecuteTime": {
     "end_time": "2023-11-11T13:27:38.450953116Z",
     "start_time": "2023-11-11T13:27:38.447299020Z"
    }
   },
   "outputs": [],
   "source": [
    "import pandas as pd\n",
    "import numpy as np\n",
    "from tqdm import tqdm"
   ]
  },
  {
   "cell_type": "code",
   "execution_count": 27,
   "outputs": [],
   "source": [
    "path_to_1 = '../train/'\n",
    "path_to_2 = '../train_2/test/'\n",
    "files_p = [\n",
    "    'dislok_wagons.parquet',\n",
    "    'freight_info.parquet',\n",
    "    'kti_izm.parquet',\n",
    "    'pr_rems.parquet',\n",
    "    'stations.parquet',\n",
    "    'tr_rems.parquet',\n",
    "    'wagons_probeg_ownersip.parquet',\n",
    "    'wag_params.parquet'\n",
    "]\n",
    "file_y_1 = 'target/y_train.csv'\n",
    "file_y_2 = 'target/y_test.csv'"
   ],
   "metadata": {
    "collapsed": false,
    "ExecuteTime": {
     "end_time": "2023-11-11T13:30:07.455258800Z",
     "start_time": "2023-11-11T13:30:07.413714941Z"
    }
   }
  },
  {
   "cell_type": "code",
   "execution_count": 28,
   "outputs": [],
   "source": [
    "for name in files_p:\n",
    "    df1 = pd.read_parquet(path_to_1 + name).convert_dtypes()\n",
    "    df2 = pd.read_parquet(path_to_2 + name).convert_dtypes()\n",
    "    df1 = pd.concat([df1, df2], ignore_index=True)\n",
    "    df1.to_parquet(path_to_1 + name)"
   ],
   "metadata": {
    "collapsed": false,
    "ExecuteTime": {
     "end_time": "2023-11-11T13:30:28.805253511Z",
     "start_time": "2023-11-11T13:30:16.938496134Z"
    }
   }
  },
  {
   "cell_type": "code",
   "execution_count": 29,
   "outputs": [],
   "source": [
    "df1 = pd.read_csv(path_to_1 + file_y_1)\n",
    "df2 = pd.read_csv(path_to_2 + file_y_2)\n",
    "df1 = pd.concat([df1, df2], ignore_index=True)\n",
    "df1.to_csv(path_to_1 + file_y_1)"
   ],
   "metadata": {
    "collapsed": false,
    "ExecuteTime": {
     "end_time": "2023-11-11T13:30:29.145998576Z",
     "start_time": "2023-11-11T13:30:28.808535416Z"
    }
   }
  }
 ],
 "metadata": {
  "kernelspec": {
   "display_name": "Python 3",
   "language": "python",
   "name": "python3"
  },
  "language_info": {
   "codemirror_mode": {
    "name": "ipython",
    "version": 2
   },
   "file_extension": ".py",
   "mimetype": "text/x-python",
   "name": "python",
   "nbconvert_exporter": "python",
   "pygments_lexer": "ipython2",
   "version": "2.7.6"
  }
 },
 "nbformat": 4,
 "nbformat_minor": 0
}
