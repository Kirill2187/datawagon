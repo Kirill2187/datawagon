{
 "cells": [
  {
   "cell_type": "code",
   "execution_count": 1,
   "metadata": {
    "collapsed": true,
    "ExecuteTime": {
     "end_time": "2023-11-12T03:37:15.235104102Z",
     "start_time": "2023-11-12T03:37:15.225725640Z"
    }
   },
   "outputs": [],
   "source": [
    "import pandas as pd\n",
    "import numpy as np\n",
    "import seaborn as sns\n",
    "from tqdm import tqdm"
   ]
  },
  {
   "cell_type": "code",
   "execution_count": 2,
   "outputs": [],
   "source": [
    "pr_rems = pd.read_parquet('train/pr_rems.parquet').convert_dtypes()\n",
    "tr_rems = pd.read_parquet('train/tr_rems.parquet').convert_dtypes()\n",
    "y_train = pd.read_csv('train/target/y_train.csv')\n",
    "pr_rems = pr_rems.sort_values(by='rem_month')\n",
    "tr_rems = tr_rems.sort_values(by='rem_month')\n",
    "y_train = y_train.sort_values(by='month')"
   ],
   "metadata": {
    "collapsed": false,
    "ExecuteTime": {
     "end_time": "2023-11-12T03:37:16.999108035Z",
     "start_time": "2023-11-12T03:37:16.749739992Z"
    }
   }
  },
  {
   "cell_type": "code",
   "execution_count": 9,
   "outputs": [],
   "source": [
    "del pr_rems\n",
    "del tr_rems\n",
    "del y_train"
   ],
   "metadata": {
    "collapsed": false,
    "ExecuteTime": {
     "end_time": "2023-11-12T02:01:41.980411338Z",
     "start_time": "2023-11-12T02:01:41.959015634Z"
    }
   }
  },
  {
   "cell_type": "code",
   "execution_count": 191,
   "outputs": [
    {
     "data": {
      "text/plain": "       wagnum       month  target_month  target_day\n50962   15844  2022-08-01             0           0\n45317   22524  2022-08-01             1           0\n50961   15838  2022-08-01             0           0\n45289    2049  2022-08-01             0           0\n45290    7974  2022-08-01             0           0\n...       ...         ...           ...         ...\n22655   18705  2023-01-01             0           0\n22656   18719  2023-01-01             0           0\n22657   18733  2023-01-01             0           0\n22693   33478  2023-01-01             0           0\n0       33361  2023-01-01             0           0\n\n[203853 rows x 4 columns]",
      "text/html": "<div>\n<style scoped>\n    .dataframe tbody tr th:only-of-type {\n        vertical-align: middle;\n    }\n\n    .dataframe tbody tr th {\n        vertical-align: top;\n    }\n\n    .dataframe thead th {\n        text-align: right;\n    }\n</style>\n<table border=\"1\" class=\"dataframe\">\n  <thead>\n    <tr style=\"text-align: right;\">\n      <th></th>\n      <th>wagnum</th>\n      <th>month</th>\n      <th>target_month</th>\n      <th>target_day</th>\n    </tr>\n  </thead>\n  <tbody>\n    <tr>\n      <th>50962</th>\n      <td>15844</td>\n      <td>2022-08-01</td>\n      <td>0</td>\n      <td>0</td>\n    </tr>\n    <tr>\n      <th>45317</th>\n      <td>22524</td>\n      <td>2022-08-01</td>\n      <td>1</td>\n      <td>0</td>\n    </tr>\n    <tr>\n      <th>50961</th>\n      <td>15838</td>\n      <td>2022-08-01</td>\n      <td>0</td>\n      <td>0</td>\n    </tr>\n    <tr>\n      <th>45289</th>\n      <td>2049</td>\n      <td>2022-08-01</td>\n      <td>0</td>\n      <td>0</td>\n    </tr>\n    <tr>\n      <th>45290</th>\n      <td>7974</td>\n      <td>2022-08-01</td>\n      <td>0</td>\n      <td>0</td>\n    </tr>\n    <tr>\n      <th>...</th>\n      <td>...</td>\n      <td>...</td>\n      <td>...</td>\n      <td>...</td>\n    </tr>\n    <tr>\n      <th>22655</th>\n      <td>18705</td>\n      <td>2023-01-01</td>\n      <td>0</td>\n      <td>0</td>\n    </tr>\n    <tr>\n      <th>22656</th>\n      <td>18719</td>\n      <td>2023-01-01</td>\n      <td>0</td>\n      <td>0</td>\n    </tr>\n    <tr>\n      <th>22657</th>\n      <td>18733</td>\n      <td>2023-01-01</td>\n      <td>0</td>\n      <td>0</td>\n    </tr>\n    <tr>\n      <th>22693</th>\n      <td>33478</td>\n      <td>2023-01-01</td>\n      <td>0</td>\n      <td>0</td>\n    </tr>\n    <tr>\n      <th>0</th>\n      <td>33361</td>\n      <td>2023-01-01</td>\n      <td>0</td>\n      <td>0</td>\n    </tr>\n  </tbody>\n</table>\n<p>203853 rows × 4 columns</p>\n</div>"
     },
     "execution_count": 191,
     "metadata": {},
     "output_type": "execute_result"
    }
   ],
   "source": [
    "y_train"
   ],
   "metadata": {
    "collapsed": false,
    "ExecuteTime": {
     "end_time": "2023-11-11T08:33:40.216988791Z",
     "start_time": "2023-11-11T08:33:40.173858157Z"
    }
   }
  },
  {
   "cell_type": "markdown",
   "source": [
    "# Pr_rems"
   ],
   "metadata": {
    "collapsed": false
   }
  },
  {
   "cell_type": "code",
   "execution_count": 93,
   "outputs": [
    {
     "name": "stderr",
     "output_type": "stream",
     "text": [
      "100%|██████████| 33977/33977 [00:22<00:00, 1535.63it/s]\n"
     ]
    }
   ],
   "source": [
    "TP = 0\n",
    "FP = 0\n",
    "for wag in tqdm(y_train.wagnum.unique()):\n",
    "    for month in pr_rems[pr_rems.wagnum == wag].rem_month:\n",
    "        for ind, now_month in enumerate(y_train[y_train.wagnum == wag].month):\n",
    "            if str(now_month)[:7] == str(month)[:7]:\n",
    "                if y_train[y_train.wagnum == wag].iloc[ind, 2] == 1:\n",
    "                    TP += 1\n",
    "                else:\n",
    "                    FP += 1"
   ],
   "metadata": {
    "collapsed": false,
    "ExecuteTime": {
     "end_time": "2023-11-10T22:39:00.631529050Z",
     "start_time": "2023-11-10T22:38:38.458143373Z"
    }
   }
  },
  {
   "cell_type": "code",
   "execution_count": 97,
   "outputs": [
    {
     "data": {
      "text/plain": "(10441, 0, 10401)"
     },
     "execution_count": 97,
     "metadata": {},
     "output_type": "execute_result"
    }
   ],
   "source": [
    "TP, FP, y_train[y_train.target_month == 1].shape[0]  # => Все поломки в таблице -- это лики\n",
    "                                                     # Иногда происходит несколько поломок за месяц"
   ],
   "metadata": {
    "collapsed": false,
    "ExecuteTime": {
     "end_time": "2023-11-10T22:43:09.295335644Z",
     "start_time": "2023-11-10T22:43:09.254924011Z"
    }
   }
  },
  {
   "cell_type": "code",
   "execution_count": 95,
   "outputs": [
    {
     "data": {
      "text/plain": "      wagnum  rem_month  rod_id      model  road_id_send  road_id_rem  \\\n0      15000 2022-08-05       1     12-132             3            3   \n2      25485 2022-08-21       1  12-132-03            13           13   \n3      25944 2022-08-09       1  12-132-03            13           13   \n4      24080 2022-08-13       1  12-296-01            13           13   \n5      28612 2022-08-09       1     12-132            13           13   \n...      ...        ...     ...        ...           ...          ...   \n1578   11193 2023-01-30       1     12-132            12           12   \n509    24703 2023-01-24       1    12-9780             6            6   \n511    26437 2023-01-29       1    12-9780             6            6   \n711    29345 2023-01-15       1     12-132            13           13   \n1515   15740 2023-01-07       1     12-132            23           12   \n\n      kod_vrab  st_id_send  st_id_rem  distance  month  \n0            0         493        493        37      8  \n2            0        6152       4793       360      8  \n3            1        6152       4793       322      8  \n4            0        6152       4793       308      8  \n5            0        6152       4793       373      8  \n...        ...         ...        ...       ...    ...  \n1578         0       12607      12607       885      1  \n509          1        4025       4025       890      1  \n511          1        4025       4025       892      1  \n711          1        6152       5960       397      1  \n1515         0       12610      11915      4101      1  \n\n[10441 rows x 11 columns]",
      "text/html": "<div>\n<style scoped>\n    .dataframe tbody tr th:only-of-type {\n        vertical-align: middle;\n    }\n\n    .dataframe tbody tr th {\n        vertical-align: top;\n    }\n\n    .dataframe thead th {\n        text-align: right;\n    }\n</style>\n<table border=\"1\" class=\"dataframe\">\n  <thead>\n    <tr style=\"text-align: right;\">\n      <th></th>\n      <th>wagnum</th>\n      <th>rem_month</th>\n      <th>rod_id</th>\n      <th>model</th>\n      <th>road_id_send</th>\n      <th>road_id_rem</th>\n      <th>kod_vrab</th>\n      <th>st_id_send</th>\n      <th>st_id_rem</th>\n      <th>distance</th>\n      <th>month</th>\n    </tr>\n  </thead>\n  <tbody>\n    <tr>\n      <th>0</th>\n      <td>15000</td>\n      <td>2022-08-05</td>\n      <td>1</td>\n      <td>12-132</td>\n      <td>3</td>\n      <td>3</td>\n      <td>0</td>\n      <td>493</td>\n      <td>493</td>\n      <td>37</td>\n      <td>8</td>\n    </tr>\n    <tr>\n      <th>2</th>\n      <td>25485</td>\n      <td>2022-08-21</td>\n      <td>1</td>\n      <td>12-132-03</td>\n      <td>13</td>\n      <td>13</td>\n      <td>0</td>\n      <td>6152</td>\n      <td>4793</td>\n      <td>360</td>\n      <td>8</td>\n    </tr>\n    <tr>\n      <th>3</th>\n      <td>25944</td>\n      <td>2022-08-09</td>\n      <td>1</td>\n      <td>12-132-03</td>\n      <td>13</td>\n      <td>13</td>\n      <td>1</td>\n      <td>6152</td>\n      <td>4793</td>\n      <td>322</td>\n      <td>8</td>\n    </tr>\n    <tr>\n      <th>4</th>\n      <td>24080</td>\n      <td>2022-08-13</td>\n      <td>1</td>\n      <td>12-296-01</td>\n      <td>13</td>\n      <td>13</td>\n      <td>0</td>\n      <td>6152</td>\n      <td>4793</td>\n      <td>308</td>\n      <td>8</td>\n    </tr>\n    <tr>\n      <th>5</th>\n      <td>28612</td>\n      <td>2022-08-09</td>\n      <td>1</td>\n      <td>12-132</td>\n      <td>13</td>\n      <td>13</td>\n      <td>0</td>\n      <td>6152</td>\n      <td>4793</td>\n      <td>373</td>\n      <td>8</td>\n    </tr>\n    <tr>\n      <th>...</th>\n      <td>...</td>\n      <td>...</td>\n      <td>...</td>\n      <td>...</td>\n      <td>...</td>\n      <td>...</td>\n      <td>...</td>\n      <td>...</td>\n      <td>...</td>\n      <td>...</td>\n      <td>...</td>\n    </tr>\n    <tr>\n      <th>1578</th>\n      <td>11193</td>\n      <td>2023-01-30</td>\n      <td>1</td>\n      <td>12-132</td>\n      <td>12</td>\n      <td>12</td>\n      <td>0</td>\n      <td>12607</td>\n      <td>12607</td>\n      <td>885</td>\n      <td>1</td>\n    </tr>\n    <tr>\n      <th>509</th>\n      <td>24703</td>\n      <td>2023-01-24</td>\n      <td>1</td>\n      <td>12-9780</td>\n      <td>6</td>\n      <td>6</td>\n      <td>1</td>\n      <td>4025</td>\n      <td>4025</td>\n      <td>890</td>\n      <td>1</td>\n    </tr>\n    <tr>\n      <th>511</th>\n      <td>26437</td>\n      <td>2023-01-29</td>\n      <td>1</td>\n      <td>12-9780</td>\n      <td>6</td>\n      <td>6</td>\n      <td>1</td>\n      <td>4025</td>\n      <td>4025</td>\n      <td>892</td>\n      <td>1</td>\n    </tr>\n    <tr>\n      <th>711</th>\n      <td>29345</td>\n      <td>2023-01-15</td>\n      <td>1</td>\n      <td>12-132</td>\n      <td>13</td>\n      <td>13</td>\n      <td>1</td>\n      <td>6152</td>\n      <td>5960</td>\n      <td>397</td>\n      <td>1</td>\n    </tr>\n    <tr>\n      <th>1515</th>\n      <td>15740</td>\n      <td>2023-01-07</td>\n      <td>1</td>\n      <td>12-132</td>\n      <td>23</td>\n      <td>12</td>\n      <td>0</td>\n      <td>12610</td>\n      <td>11915</td>\n      <td>4101</td>\n      <td>1</td>\n    </tr>\n  </tbody>\n</table>\n<p>10441 rows × 11 columns</p>\n</div>"
     },
     "execution_count": 95,
     "metadata": {},
     "output_type": "execute_result"
    }
   ],
   "source": [
    "pr_rems"
   ],
   "metadata": {
    "collapsed": false,
    "ExecuteTime": {
     "end_time": "2023-11-10T22:39:44.925597297Z",
     "start_time": "2023-11-10T22:39:44.909539511Z"
    }
   }
  },
  {
   "cell_type": "code",
   "execution_count": 59,
   "outputs": [
    {
     "data": {
      "text/plain": "1    8069\n0    2372\nName: rod_id, dtype: Int64"
     },
     "execution_count": 59,
     "metadata": {},
     "output_type": "execute_result"
    }
   ],
   "source": [
    "pr_rems.rod_id.value_counts()  # Поломок РПС значительно больше"
   ],
   "metadata": {
    "collapsed": false,
    "ExecuteTime": {
     "end_time": "2023-11-10T21:23:14.852687149Z",
     "start_time": "2023-11-10T21:23:14.848090799Z"
    }
   }
  },
  {
   "cell_type": "code",
   "execution_count": 257,
   "outputs": [
    {
     "data": {
      "text/plain": "0    6857\n1    3584\nName: kod_vrab, dtype: Int64"
     },
     "execution_count": 257,
     "metadata": {},
     "output_type": "execute_result"
    }
   ],
   "source": [
    "pr_rems.kod_vrab.value_counts()"
   ],
   "metadata": {
    "collapsed": false,
    "ExecuteTime": {
     "end_time": "2023-11-11T10:39:01.534969079Z",
     "start_time": "2023-11-11T10:39:01.530464421Z"
    }
   }
  },
  {
   "cell_type": "code",
   "execution_count": 104,
   "outputs": [
    {
     "data": {
      "text/plain": "<Figure size 640x480 with 1 Axes>",
      "image/png": "[encoded data removed]"
     },
     "metadata": {},
     "output_type": "display_data"
    }
   ],
   "source": [
    "pr_rems.model.value_counts().plot(kind='bar');"
   ],
   "metadata": {
    "collapsed": false,
    "ExecuteTime": {
     "end_time": "2023-11-10T22:45:55.344319936Z",
     "start_time": "2023-11-10T22:45:54.984767135Z"
    }
   }
  },
  {
   "cell_type": "code",
   "execution_count": 106,
   "outputs": [
    {
     "data": {
      "text/plain": "<Figure size 640x480 with 1 Axes>",
      "image/png": "[encoded data removed]"
     },
     "metadata": {},
     "output_type": "display_data"
    }
   ],
   "source": [
    "pr_rems.road_id_send.value_counts().plot(kind='bar');"
   ],
   "metadata": {
    "collapsed": false,
    "ExecuteTime": {
     "end_time": "2023-11-10T22:47:36.739410329Z",
     "start_time": "2023-11-10T22:47:36.555531998Z"
    }
   }
  },
  {
   "cell_type": "code",
   "execution_count": 110,
   "outputs": [
    {
     "data": {
      "text/plain": "<Figure size 640x480 with 1 Axes>",
      "image/png": "[encoded data removed]"
     },
     "metadata": {},
     "output_type": "display_data"
    }
   ],
   "source": [
    "pr_rems.road_id_rem.value_counts().plot(kind='bar');"
   ],
   "metadata": {
    "collapsed": false,
    "ExecuteTime": {
     "end_time": "2023-11-10T22:50:22.320449616Z",
     "start_time": "2023-11-10T22:50:22.113645426Z"
    }
   }
  },
  {
   "cell_type": "code",
   "execution_count": 109,
   "outputs": [
    {
     "data": {
      "text/plain": "(2502, 7939)"
     },
     "execution_count": 109,
     "metadata": {},
     "output_type": "execute_result"
    }
   ],
   "source": [
    "pr_rems[pr_rems.road_id_send != pr_rems.road_id_rem].shape[0],\\\n",
    "    pr_rems[pr_rems.road_id_send == pr_rems.road_id_rem].shape[0]\n",
    "# Отличаются / сходятся дороги"
   ],
   "metadata": {
    "collapsed": false,
    "ExecuteTime": {
     "end_time": "2023-11-10T22:48:52.366598284Z",
     "start_time": "2023-11-10T22:48:52.360253705Z"
    }
   }
  },
  {
   "cell_type": "code",
   "execution_count": 116,
   "outputs": [
    {
     "data": {
      "text/plain": "6152     1568\n4421     1162\n4420      593\n10016     310\n498       266\n         ... \n3255        1\n9032        1\n9540        1\n2688        1\n12564       1\nName: st_id_send, Length: 911, dtype: Int64"
     },
     "execution_count": 116,
     "metadata": {},
     "output_type": "execute_result"
    }
   ],
   "source": [
    "pr_rems.st_id_send.value_counts()"
   ],
   "metadata": {
    "collapsed": false,
    "ExecuteTime": {
     "end_time": "2023-11-10T22:54:12.577838561Z",
     "start_time": "2023-11-10T22:54:12.574532519Z"
    }
   }
  },
  {
   "cell_type": "code",
   "execution_count": 117,
   "outputs": [
    {
     "data": {
      "text/plain": "10364    911\n6279     640\n4387     586\n392      560\n4391     487\n        ... \n12383      1\n4262       1\n4253       1\n3466       1\n1213       1\nName: st_id_rem, Length: 415, dtype: Int64"
     },
     "execution_count": 117,
     "metadata": {},
     "output_type": "execute_result"
    }
   ],
   "source": [
    "pr_rems.st_id_rem.value_counts()"
   ],
   "metadata": {
    "collapsed": false,
    "ExecuteTime": {
     "end_time": "2023-11-10T22:54:31.570055684Z",
     "start_time": "2023-11-10T22:54:31.566498675Z"
    }
   }
  },
  {
   "cell_type": "code",
   "execution_count": 140,
   "outputs": [
    {
     "data": {
      "text/plain": "<Figure size 640x480 with 1 Axes>",
      "image/png": "[encoded data removed]"
     },
     "metadata": {},
     "output_type": "display_data"
    }
   ],
   "source": [
    "pr_rems.distance.hist();"
   ],
   "metadata": {
    "collapsed": false,
    "ExecuteTime": {
     "end_time": "2023-11-10T23:28:25.597872158Z",
     "start_time": "2023-11-10T23:28:25.449525737Z"
    }
   }
  },
  {
   "cell_type": "markdown",
   "source": [
    "# Tr_rems"
   ],
   "metadata": {
    "collapsed": false
   }
  },
  {
   "cell_type": "code",
   "execution_count": 141,
   "outputs": [
    {
     "data": {
      "text/plain": "      wagnum  rem_month  kod_vrab  neis1_kod  neis2_kod  neis3_kod  mod1_kod  \\\n0      29938 2022-08-01         3          0         98         54         7   \n1      29938 2022-08-01         3         14         98         54         7   \n2      29852 2022-08-01         2          0         98         54         7   \n3      29852 2022-08-01         2         36         98         54         7   \n4      13674 2022-08-01         2         95         98         54         7   \n...      ...        ...       ...        ...        ...        ...       ...   \n7695   31868 2023-01-01         3         14         98         54         7   \n7696   22921 2023-01-01         5          0         98         54         7   \n7697   22921 2023-01-01         3         34         95         54         7   \n7698    4978 2023-01-01         3        131         68         54         7   \n7699   16226 2023-01-01         3          6         98         54         7   \n\n      mod2_kod  mod3_kod  mod4_kod  mod5_kod  mod6_kod  mod7_kod  \\\n0            4         2         0         0         0         0   \n1            4         2         0         0         0         0   \n2            4         2         0         0         0         0   \n3            4         2         0         0         0         0   \n4            4         2         0         0         0         0   \n...        ...       ...       ...       ...       ...       ...   \n7695         4         2         0         0         0         0   \n7696         4         2         0         0         0         0   \n7697         4         2         0         0         0         0   \n7698         4         2         0         0         0         0   \n7699         4         2         0         0         0         0   \n\n      road_id_send  gr_probeg  por_probeg  st_id_send  \n0               38      87913       37467       10522  \n1               38      87913       37467       10441  \n2               28      81824       45579        4789  \n3               28      81824       45579        4789  \n4               28      64130       34697        4789  \n...            ...        ...         ...         ...  \n7695            42      88690       60006       11552  \n7696            28      93198       53596        6168  \n7697            28      93198       53596        6168  \n7698             3      72453       38209         262  \n7699            43      71577       20493       11915  \n\n[48652 rows x 17 columns]",
      "text/html": "<div>\n<style scoped>\n    .dataframe tbody tr th:only-of-type {\n        vertical-align: middle;\n    }\n\n    .dataframe tbody tr th {\n        vertical-align: top;\n    }\n\n    .dataframe thead th {\n        text-align: right;\n    }\n</style>\n<table border=\"1\" class=\"dataframe\">\n  <thead>\n    <tr style=\"text-align: right;\">\n      <th></th>\n      <th>wagnum</th>\n      <th>rem_month</th>\n      <th>kod_vrab</th>\n      <th>neis1_kod</th>\n      <th>neis2_kod</th>\n      <th>neis3_kod</th>\n      <th>mod1_kod</th>\n      <th>mod2_kod</th>\n      <th>mod3_kod</th>\n      <th>mod4_kod</th>\n      <th>mod5_kod</th>\n      <th>mod6_kod</th>\n      <th>mod7_kod</th>\n      <th>road_id_send</th>\n      <th>gr_probeg</th>\n      <th>por_probeg</th>\n      <th>st_id_send</th>\n    </tr>\n  </thead>\n  <tbody>\n    <tr>\n      <th>0</th>\n      <td>29938</td>\n      <td>2022-08-01</td>\n      <td>3</td>\n      <td>0</td>\n      <td>98</td>\n      <td>54</td>\n      <td>7</td>\n      <td>4</td>\n      <td>2</td>\n      <td>0</td>\n      <td>0</td>\n      <td>0</td>\n      <td>0</td>\n      <td>38</td>\n      <td>87913</td>\n      <td>37467</td>\n      <td>10522</td>\n    </tr>\n    <tr>\n      <th>1</th>\n      <td>29938</td>\n      <td>2022-08-01</td>\n      <td>3</td>\n      <td>14</td>\n      <td>98</td>\n      <td>54</td>\n      <td>7</td>\n      <td>4</td>\n      <td>2</td>\n      <td>0</td>\n      <td>0</td>\n      <td>0</td>\n      <td>0</td>\n      <td>38</td>\n      <td>87913</td>\n      <td>37467</td>\n      <td>10441</td>\n    </tr>\n    <tr>\n      <th>2</th>\n      <td>29852</td>\n      <td>2022-08-01</td>\n      <td>2</td>\n      <td>0</td>\n      <td>98</td>\n      <td>54</td>\n      <td>7</td>\n      <td>4</td>\n      <td>2</td>\n      <td>0</td>\n      <td>0</td>\n      <td>0</td>\n      <td>0</td>\n      <td>28</td>\n      <td>81824</td>\n      <td>45579</td>\n      <td>4789</td>\n    </tr>\n    <tr>\n      <th>3</th>\n      <td>29852</td>\n      <td>2022-08-01</td>\n      <td>2</td>\n      <td>36</td>\n      <td>98</td>\n      <td>54</td>\n      <td>7</td>\n      <td>4</td>\n      <td>2</td>\n      <td>0</td>\n      <td>0</td>\n      <td>0</td>\n      <td>0</td>\n      <td>28</td>\n      <td>81824</td>\n      <td>45579</td>\n      <td>4789</td>\n    </tr>\n    <tr>\n      <th>4</th>\n      <td>13674</td>\n      <td>2022-08-01</td>\n      <td>2</td>\n      <td>95</td>\n      <td>98</td>\n      <td>54</td>\n      <td>7</td>\n      <td>4</td>\n      <td>2</td>\n      <td>0</td>\n      <td>0</td>\n      <td>0</td>\n      <td>0</td>\n      <td>28</td>\n      <td>64130</td>\n      <td>34697</td>\n      <td>4789</td>\n    </tr>\n    <tr>\n      <th>...</th>\n      <td>...</td>\n      <td>...</td>\n      <td>...</td>\n      <td>...</td>\n      <td>...</td>\n      <td>...</td>\n      <td>...</td>\n      <td>...</td>\n      <td>...</td>\n      <td>...</td>\n      <td>...</td>\n      <td>...</td>\n      <td>...</td>\n      <td>...</td>\n      <td>...</td>\n      <td>...</td>\n      <td>...</td>\n    </tr>\n    <tr>\n      <th>7695</th>\n      <td>31868</td>\n      <td>2023-01-01</td>\n      <td>3</td>\n      <td>14</td>\n      <td>98</td>\n      <td>54</td>\n      <td>7</td>\n      <td>4</td>\n      <td>2</td>\n      <td>0</td>\n      <td>0</td>\n      <td>0</td>\n      <td>0</td>\n      <td>42</td>\n      <td>88690</td>\n      <td>60006</td>\n      <td>11552</td>\n    </tr>\n    <tr>\n      <th>7696</th>\n      <td>22921</td>\n      <td>2023-01-01</td>\n      <td>5</td>\n      <td>0</td>\n      <td>98</td>\n      <td>54</td>\n      <td>7</td>\n      <td>4</td>\n      <td>2</td>\n      <td>0</td>\n      <td>0</td>\n      <td>0</td>\n      <td>0</td>\n      <td>28</td>\n      <td>93198</td>\n      <td>53596</td>\n      <td>6168</td>\n    </tr>\n    <tr>\n      <th>7697</th>\n      <td>22921</td>\n      <td>2023-01-01</td>\n      <td>3</td>\n      <td>34</td>\n      <td>95</td>\n      <td>54</td>\n      <td>7</td>\n      <td>4</td>\n      <td>2</td>\n      <td>0</td>\n      <td>0</td>\n      <td>0</td>\n      <td>0</td>\n      <td>28</td>\n      <td>93198</td>\n      <td>53596</td>\n      <td>6168</td>\n    </tr>\n    <tr>\n      <th>7698</th>\n      <td>4978</td>\n      <td>2023-01-01</td>\n      <td>3</td>\n      <td>131</td>\n      <td>68</td>\n      <td>54</td>\n      <td>7</td>\n      <td>4</td>\n      <td>2</td>\n      <td>0</td>\n      <td>0</td>\n      <td>0</td>\n      <td>0</td>\n      <td>3</td>\n      <td>72453</td>\n      <td>38209</td>\n      <td>262</td>\n    </tr>\n    <tr>\n      <th>7699</th>\n      <td>16226</td>\n      <td>2023-01-01</td>\n      <td>3</td>\n      <td>6</td>\n      <td>98</td>\n      <td>54</td>\n      <td>7</td>\n      <td>4</td>\n      <td>2</td>\n      <td>0</td>\n      <td>0</td>\n      <td>0</td>\n      <td>0</td>\n      <td>43</td>\n      <td>71577</td>\n      <td>20493</td>\n      <td>11915</td>\n    </tr>\n  </tbody>\n</table>\n<p>48652 rows × 17 columns</p>\n</div>"
     },
     "execution_count": 141,
     "metadata": {},
     "output_type": "execute_result"
    }
   ],
   "source": [
    "tr_rems"
   ],
   "metadata": {
    "collapsed": false,
    "ExecuteTime": {
     "end_time": "2023-11-10T23:29:21.131466087Z",
     "start_time": "2023-11-10T23:29:21.089333815Z"
    }
   }
  },
  {
   "cell_type": "code",
   "execution_count": 47,
   "outputs": [
    {
     "data": {
      "text/plain": "3    26538\n2    19135\n5     2979\nName: kod_vrab, dtype: Int64"
     },
     "execution_count": 47,
     "metadata": {},
     "output_type": "execute_result"
    }
   ],
   "source": [
    "tr_rems.kod_vrab.value_counts()"
   ],
   "metadata": {
    "collapsed": false,
    "ExecuteTime": {
     "end_time": "2023-11-10T19:23:44.379651270Z",
     "start_time": "2023-11-10T19:23:44.376286142Z"
    }
   }
  },
  {
   "cell_type": "code",
   "execution_count": 231,
   "outputs": [
    {
     "data": {
      "text/plain": "0      24398\n2       5654\n95      3992\n6       3136\n88      1792\n       ...  \n113        1\n17         1\n91         1\n23         1\n64         1\nName: neis1_kod, Length: 120, dtype: Int64"
     },
     "execution_count": 231,
     "metadata": {},
     "output_type": "execute_result"
    }
   ],
   "source": [
    "tr_rems.neis1_kod.value_counts()"
   ],
   "metadata": {
    "collapsed": false,
    "ExecuteTime": {
     "end_time": "2023-11-11T09:03:32.786243804Z",
     "start_time": "2023-11-11T09:03:32.782450953Z"
    }
   }
  },
  {
   "cell_type": "code",
   "execution_count": 232,
   "outputs": [
    {
     "data": {
      "text/plain": "<Figure size 640x480 with 1 Axes>",
      "image/png": "[encoded data removed]"
     },
     "metadata": {},
     "output_type": "display_data"
    }
   ],
   "source": [
    "tr_rems.neis1_kod.hist();"
   ],
   "metadata": {
    "collapsed": false,
    "ExecuteTime": {
     "end_time": "2023-11-11T09:03:36.642419169Z",
     "start_time": "2023-11-11T09:03:36.490636819Z"
    }
   }
  },
  {
   "cell_type": "code",
   "execution_count": 145,
   "outputs": [
    {
     "data": {
      "text/plain": "17849"
     },
     "execution_count": 145,
     "metadata": {},
     "output_type": "execute_result"
    }
   ],
   "source": [
    "tr_rems.wagnum.nunique()"
   ],
   "metadata": {
    "collapsed": false,
    "ExecuteTime": {
     "end_time": "2023-11-10T23:32:32.436041387Z",
     "start_time": "2023-11-10T23:32:32.428768864Z"
    }
   }
  },
  {
   "cell_type": "code",
   "execution_count": 221,
   "outputs": [
    {
     "data": {
      "text/plain": "7    44660\n1     2447\n4      755\n2      525\n3      146\n6       64\n5       54\n0        1\nName: mod1_kod, dtype: Int64"
     },
     "execution_count": 221,
     "metadata": {},
     "output_type": "execute_result"
    }
   ],
   "source": [
    "tr_rems.mod2_kod.value_counts()\n",
    "# mod2 - mod7 -- почти одно значение (или реально только одно)\n",
    "# mod2 -- больше всего 4\n",
    "# mod3 -- больше всего 2\n",
    "# neis2_kod -- больше всего 98, 95, 96, 62\n",
    "# neis3_kod -- больше всего 54, 51"
   ],
   "metadata": {
    "collapsed": false,
    "ExecuteTime": {
     "end_time": "2023-11-11T08:59:07.783519035Z",
     "start_time": "2023-11-11T08:59:07.781290294Z"
    }
   }
  },
  {
   "cell_type": "code",
   "execution_count": 162,
   "outputs": [
    {
     "data": {
      "text/plain": "17672"
     },
     "execution_count": 162,
     "metadata": {},
     "output_type": "execute_result"
    }
   ],
   "source": [
    "tr_rems.dropna(subset=['gr_probeg', 'por_probeg']).wagnum.nunique()\n",
    "# Довольно мало nan"
   ],
   "metadata": {
    "collapsed": false,
    "ExecuteTime": {
     "end_time": "2023-11-10T23:40:34.109979853Z",
     "start_time": "2023-11-10T23:40:34.102447906Z"
    }
   }
  },
  {
   "cell_type": "code",
   "execution_count": 208,
   "outputs": [
    {
     "data": {
      "text/plain": "      wagnum  rem_month  rod_id       model  road_id_send  road_id_rem  \\\n1389   33769 2022-08-02       1      12-132             7            7   \n147     3996 2022-08-02       0  11-1807-01            15           15   \n679    24232 2022-08-02       1      12-132             7            7   \n1434    3919 2022-08-02       0  11-1807-01             6            6   \n784     3932 2022-08-02       0  11-1807-01            12           12   \n...      ...        ...     ...         ...           ...          ...   \n1287   27183 2023-01-31       1      12-132             6            7   \n788    25669 2023-01-31       1   12-132-03            13           12   \n187    28182 2023-01-31       1   12-132-03            19           19   \n1261   23549 2023-01-31       1      12-132             6            7   \n734     5717 2023-01-31       0      11-276             6            6   \n\n      kod_vrab  st_id_send  st_id_rem  distance  month  \n1389         0        4420       4387       179      8  \n147          0        7602       7827       473      8  \n679          1        4420       4391       125      8  \n1434         0        3823       3823       409      8  \n784          0        5272      12606       226      8  \n...        ...         ...        ...       ...    ...  \n1287         0        4421      12597       739      1  \n788          0        5032      12605       858      1  \n187          0       10016      10364       217      1  \n1261         1        4420      12597       766      1  \n734          0        3604       3457       461      1  \n\n[10441 rows x 11 columns]",
      "text/html": "<div>\n<style scoped>\n    .dataframe tbody tr th:only-of-type {\n        vertical-align: middle;\n    }\n\n    .dataframe tbody tr th {\n        vertical-align: top;\n    }\n\n    .dataframe thead th {\n        text-align: right;\n    }\n</style>\n<table border=\"1\" class=\"dataframe\">\n  <thead>\n    <tr style=\"text-align: right;\">\n      <th></th>\n      <th>wagnum</th>\n      <th>rem_month</th>\n      <th>rod_id</th>\n      <th>model</th>\n      <th>road_id_send</th>\n      <th>road_id_rem</th>\n      <th>kod_vrab</th>\n      <th>st_id_send</th>\n      <th>st_id_rem</th>\n      <th>distance</th>\n      <th>month</th>\n    </tr>\n  </thead>\n  <tbody>\n    <tr>\n      <th>1389</th>\n      <td>33769</td>\n      <td>2022-08-02</td>\n      <td>1</td>\n      <td>12-132</td>\n      <td>7</td>\n      <td>7</td>\n      <td>0</td>\n      <td>4420</td>\n      <td>4387</td>\n      <td>179</td>\n      <td>8</td>\n    </tr>\n    <tr>\n      <th>147</th>\n      <td>3996</td>\n      <td>2022-08-02</td>\n      <td>0</td>\n      <td>11-1807-01</td>\n      <td>15</td>\n      <td>15</td>\n      <td>0</td>\n      <td>7602</td>\n      <td>7827</td>\n      <td>473</td>\n      <td>8</td>\n    </tr>\n    <tr>\n      <th>679</th>\n      <td>24232</td>\n      <td>2022-08-02</td>\n      <td>1</td>\n      <td>12-132</td>\n      <td>7</td>\n      <td>7</td>\n      <td>1</td>\n      <td>4420</td>\n      <td>4391</td>\n      <td>125</td>\n      <td>8</td>\n    </tr>\n    <tr>\n      <th>1434</th>\n      <td>3919</td>\n      <td>2022-08-02</td>\n      <td>0</td>\n      <td>11-1807-01</td>\n      <td>6</td>\n      <td>6</td>\n      <td>0</td>\n      <td>3823</td>\n      <td>3823</td>\n      <td>409</td>\n      <td>8</td>\n    </tr>\n    <tr>\n      <th>784</th>\n      <td>3932</td>\n      <td>2022-08-02</td>\n      <td>0</td>\n      <td>11-1807-01</td>\n      <td>12</td>\n      <td>12</td>\n      <td>0</td>\n      <td>5272</td>\n      <td>12606</td>\n      <td>226</td>\n      <td>8</td>\n    </tr>\n    <tr>\n      <th>...</th>\n      <td>...</td>\n      <td>...</td>\n      <td>...</td>\n      <td>...</td>\n      <td>...</td>\n      <td>...</td>\n      <td>...</td>\n      <td>...</td>\n      <td>...</td>\n      <td>...</td>\n      <td>...</td>\n    </tr>\n    <tr>\n      <th>1287</th>\n      <td>27183</td>\n      <td>2023-01-31</td>\n      <td>1</td>\n      <td>12-132</td>\n      <td>6</td>\n      <td>7</td>\n      <td>0</td>\n      <td>4421</td>\n      <td>12597</td>\n      <td>739</td>\n      <td>1</td>\n    </tr>\n    <tr>\n      <th>788</th>\n      <td>25669</td>\n      <td>2023-01-31</td>\n      <td>1</td>\n      <td>12-132-03</td>\n      <td>13</td>\n      <td>12</td>\n      <td>0</td>\n      <td>5032</td>\n      <td>12605</td>\n      <td>858</td>\n      <td>1</td>\n    </tr>\n    <tr>\n      <th>187</th>\n      <td>28182</td>\n      <td>2023-01-31</td>\n      <td>1</td>\n      <td>12-132-03</td>\n      <td>19</td>\n      <td>19</td>\n      <td>0</td>\n      <td>10016</td>\n      <td>10364</td>\n      <td>217</td>\n      <td>1</td>\n    </tr>\n    <tr>\n      <th>1261</th>\n      <td>23549</td>\n      <td>2023-01-31</td>\n      <td>1</td>\n      <td>12-132</td>\n      <td>6</td>\n      <td>7</td>\n      <td>1</td>\n      <td>4420</td>\n      <td>12597</td>\n      <td>766</td>\n      <td>1</td>\n    </tr>\n    <tr>\n      <th>734</th>\n      <td>5717</td>\n      <td>2023-01-31</td>\n      <td>0</td>\n      <td>11-276</td>\n      <td>6</td>\n      <td>6</td>\n      <td>0</td>\n      <td>3604</td>\n      <td>3457</td>\n      <td>461</td>\n      <td>1</td>\n    </tr>\n  </tbody>\n</table>\n<p>10441 rows × 11 columns</p>\n</div>"
     },
     "execution_count": 208,
     "metadata": {},
     "output_type": "execute_result"
    }
   ],
   "source": [
    "tr_rems"
   ],
   "metadata": {
    "collapsed": false,
    "ExecuteTime": {
     "end_time": "2023-11-11T08:48:16.702203917Z",
     "start_time": "2023-11-11T08:48:16.690066488Z"
    }
   }
  },
  {
   "cell_type": "code",
   "execution_count": 211,
   "outputs": [
    {
     "name": "stderr",
     "output_type": "stream",
     "text": [
      "100%|██████████| 33977/33977 [01:50<00:00, 306.26it/s]\n"
     ]
    }
   ],
   "source": [
    "after_date = 0\n",
    "before_date = 0\n",
    "for wag in tqdm(y_train.wagnum.unique()):\n",
    "    for month in tr_rems[tr_rems.wagnum == wag].rem_month:\n",
    "        for ind, now_month in enumerate(y_train[y_train.wagnum == wag].month):\n",
    "            if y_train[y_train.wagnum == wag].iloc[ind, 2] == 1:\n",
    "                if str(now_month)[:7] > str(month)[:7]:\n",
    "                    before_date += 1\n",
    "                else:\n",
    "                    after_date += 1"
   ],
   "metadata": {
    "collapsed": false,
    "ExecuteTime": {
     "end_time": "2023-11-11T08:51:11.311908669Z",
     "start_time": "2023-11-11T08:49:20.315697622Z"
    }
   }
  },
  {
   "cell_type": "code",
   "execution_count": 213,
   "outputs": [
    {
     "data": {
      "text/plain": "(7183, 5923)"
     },
     "execution_count": 213,
     "metadata": {},
     "output_type": "execute_result"
    }
   ],
   "source": [
    "before_date, after_date\n",
    "# tr_rems и предсказания y_train независимы"
   ],
   "metadata": {
    "collapsed": false,
    "ExecuteTime": {
     "end_time": "2023-11-11T08:53:58.745809087Z",
     "start_time": "2023-11-11T08:53:58.699748378Z"
    }
   }
  },
  {
   "cell_type": "markdown",
   "source": [
    "# Генерация признаков для айдишников без лик"
   ],
   "metadata": {
    "collapsed": false
   }
  },
  {
   "cell_type": "code",
   "execution_count": 3,
   "outputs": [],
   "source": [
    "def f(x):\n",
    "    if x.dropna().shape[0] == 0:\n",
    "        return x.fillna(0)\n",
    "    return x.fillna(int(x.dropna().mean()))"
   ],
   "metadata": {
    "collapsed": false,
    "ExecuteTime": {
     "end_time": "2023-11-12T03:37:51.036175795Z",
     "start_time": "2023-11-12T03:37:50.991467268Z"
    }
   }
  },
  {
   "cell_type": "code",
   "execution_count": 4,
   "outputs": [],
   "source": [
    "tr_rems['gr_probeg'] = tr_rems.groupby(['wagnum', 'rem_month'])['gr_probeg'].transform(f)\n",
    "tr_rems['por_probeg'] = tr_rems.groupby(['wagnum', 'rem_month'])['por_probeg'].transform(f)"
   ],
   "metadata": {
    "collapsed": false,
    "ExecuteTime": {
     "end_time": "2023-11-12T03:38:13.273320974Z",
     "start_time": "2023-11-12T03:37:53.677551599Z"
    }
   }
  },
  {
   "cell_type": "code",
   "execution_count": 6,
   "outputs": [],
   "source": [
    "tr_data = tr_rems.groupby(['wagnum', 'rem_month']).agg(\n",
    "    kod_vrab_2_tr=('kod_vrab', lambda x: (x == 2).sum()),\n",
    "    kod_vrab_3_tr=('kod_vrab', lambda x: (x == 3).sum()),\n",
    "    kod_vrab_5_tr=('kod_vrab', lambda x: (x == 5).sum()),\n",
    "    neis1_kod_0_tr=('neis1_kod', lambda x: (x == 0).sum()),\n",
    "    neis1_kod_2_tr=('neis1_kod', lambda x: (x == 2).sum()),\n",
    "    neis1_kod_95_tr=('neis1_kod', lambda x: (x == 95).sum()),\n",
    "    neis1_kod_6_tr=('neis1_kod', lambda x: (x == 6).sum()),\n",
    "    neis1_kod_88_tr=('neis1_kod', lambda x: (x == 88).sum()),\n",
    "    neis1_kod_tr_max=('neis1_kod', 'max'),\n",
    "    neis2_kod_98_tr=('neis2_kod', lambda x: (x == 98).sum()),\n",
    "    neis2_kod_95_tr=('neis2_kod', lambda x: (x == 95).sum()),\n",
    "    neis2_kod_96_tr=('neis2_kod', lambda x: (x == 96).sum()),\n",
    "    neis2_kod_62_tr=('neis2_kod', lambda x: (x == 62).sum()),\n",
    "    neis2_kod_tr_max=('neis2_kod', 'max'),\n",
    "    neis3_kod_54_tr=('neis3_kod', lambda x: (x == 54).sum()),\n",
    "    neis3_kod_51_tr=('neis3_kod', lambda x: (x == 51).sum()),\n",
    "    neis3_kod_tr_max=('neis3_kod', 'max'),\n",
    "    mod1_kod_tr_min=('mod1_kod', 'min'),\n",
    "    mod1_kod_tr_max=('mod1_kod', 'max'),\n",
    "    mod2_kod_tr_min=('mod2_kod', 'min'),\n",
    "    mod2_kod_tr_max=('mod2_kod', 'max'),\n",
    "    gr_probeg_tr_max=('gr_probeg', 'max'),\n",
    "    gr_probeg_tr_mean=('gr_probeg', 'mean'),\n",
    "    gr_probeg_tr_min=('gr_probeg', 'min'),\n",
    "    por_probeg_tr_max=('por_probeg', 'max'),\n",
    "    por_probeg_tr_mean=('por_probeg', 'mean'),\n",
    "    por_probeg_tr_min=('por_probeg', 'min'),\n",
    "    _1m_tr_rems=('rem_month', 'count')\n",
    ").reset_index().rename(columns={'rem_month': 'month'})"
   ],
   "metadata": {
    "collapsed": false,
    "ExecuteTime": {
     "end_time": "2023-11-12T03:43:08.804348153Z",
     "start_time": "2023-11-12T03:42:30.233897135Z"
    }
   }
  },
  {
   "cell_type": "code",
   "execution_count": 7,
   "outputs": [],
   "source": [
    "tr_data['month'] = tr_data.month.apply(lambda x: str(x)[:10])"
   ],
   "metadata": {
    "collapsed": false,
    "ExecuteTime": {
     "end_time": "2023-11-12T03:43:08.880565065Z",
     "start_time": "2023-11-12T03:43:08.804488896Z"
    }
   }
  },
  {
   "cell_type": "code",
   "execution_count": null,
   "outputs": [],
   "source": [
    "'''def g(x):\n",
    "    print(x)\n",
    "    for i in range(x.shape[0] - 1, 0, -1):\n",
    "        if abs(int(str(x.iloc[i, 0])[6:8]) - int(str(x.iloc[i-1, 0])[6:8])) % 11 == 1:\n",
    "            x.iloc[i, 1] += x.iloc[i-1, 1]\n",
    "    return x\n",
    "tr_data['_2m_tr_rems'] = tr_data.groupby('wagnum')[['month', '_1m_tr_rems']].transform(g)\n",
    "#tr_data['_2m_tr_rems'] = tr_data.groupby('wagnum').agg(aba=g)'''"
   ],
   "metadata": {
    "collapsed": false
   }
  },
  {
   "cell_type": "code",
   "execution_count": 8,
   "outputs": [],
   "source": [
    "pr_rems['month_str'] = pr_rems.rem_month.apply(lambda x: str(x)[:10])\n",
    "pr_rems['just_month_str'] = pr_rems.month_str.apply(lambda x: x[:-2] + '01')\n",
    "pr_rems['diff_road'] = (pr_rems.road_id_rem != pr_rems.road_id_send).astype(int)\n",
    "pr_rems['diff_st'] = (pr_rems.st_id_rem != pr_rems.st_id_send).astype(int)"
   ],
   "metadata": {
    "collapsed": false,
    "ExecuteTime": {
     "end_time": "2023-11-12T03:43:08.932750798Z",
     "start_time": "2023-11-12T03:43:08.923748234Z"
    }
   }
  },
  {
   "cell_type": "code",
   "execution_count": 9,
   "outputs": [
    {
     "data": {
      "text/plain": "       wagnum  rem_month  rod_id       model  road_id_send  road_id_rem  \\\n1117    33769 2022-08-02       1      12-132             7            7   \n1476    29274 2022-08-02       1      12-132            18           18   \n1477    22096 2022-08-02       1      12-132            18           17   \n1478    23969 2022-08-02       1      12-132            18           18   \n1375    27915 2022-08-02       1   12-132-03            23           24   \n...       ...        ...     ...         ...           ...          ...   \n11905   27094 2023-02-28       1   12-132-03            23           24   \n11894    2044 2023-02-28       0  11-2135-01             6            7   \n11893    2012 2023-02-28       0  11-2135-01             6            7   \n11936   21076 2023-02-28       1  12-9788-01            22           24   \n10695    4414 2023-02-28       0     11-9962             5            5   \n\n       kod_vrab  st_id_send  st_id_rem  distance  month   month_str  \\\n1117          0        4420       4387       179      8  2022-08-02   \n1476          1        9189      12647       175      8  2022-08-02   \n1477          1        8921      12647       157      8  2022-08-02   \n1478          1        9043      12647        19      8  2022-08-02   \n1375          0       12393      11891        60      8  2022-08-02   \n...         ...         ...        ...       ...    ...         ...   \n11905         0       12380      12012      6067      2  2023-02-28   \n11894         0        4147       3457      1433      2  2023-02-28   \n11893         0       12920       3457      2503      2  2023-02-28   \n11936         0       13202      11305      5835      2  2023-02-28   \n10695         0        1852      12594       707      2  2023-02-28   \n\n      just_month_str  diff_road  diff_st  \n1117      2022-08-01          0        1  \n1476      2022-08-01          0        1  \n1477      2022-08-01          1        1  \n1478      2022-08-01          0        1  \n1375      2022-08-01          1        1  \n...              ...        ...      ...  \n11905     2023-02-01          1        1  \n11894     2023-02-01          1        1  \n11893     2023-02-01          1        1  \n11936     2023-02-01          1        1  \n10695     2023-02-01          0        1  \n\n[12032 rows x 15 columns]",
      "text/html": "<div>\n<style scoped>\n    .dataframe tbody tr th:only-of-type {\n        vertical-align: middle;\n    }\n\n    .dataframe tbody tr th {\n        vertical-align: top;\n    }\n\n    .dataframe thead th {\n        text-align: right;\n    }\n</style>\n<table border=\"1\" class=\"dataframe\">\n  <thead>\n    <tr style=\"text-align: right;\">\n      <th></th>\n      <th>wagnum</th>\n      <th>rem_month</th>\n      <th>rod_id</th>\n      <th>model</th>\n      <th>road_id_send</th>\n      <th>road_id_rem</th>\n      <th>kod_vrab</th>\n      <th>st_id_send</th>\n      <th>st_id_rem</th>\n      <th>distance</th>\n      <th>month</th>\n      <th>month_str</th>\n      <th>just_month_str</th>\n      <th>diff_road</th>\n      <th>diff_st</th>\n    </tr>\n  </thead>\n  <tbody>\n    <tr>\n      <th>1117</th>\n      <td>33769</td>\n      <td>2022-08-02</td>\n      <td>1</td>\n      <td>12-132</td>\n      <td>7</td>\n      <td>7</td>\n      <td>0</td>\n      <td>4420</td>\n      <td>4387</td>\n      <td>179</td>\n      <td>8</td>\n      <td>2022-08-02</td>\n      <td>2022-08-01</td>\n      <td>0</td>\n      <td>1</td>\n    </tr>\n    <tr>\n      <th>1476</th>\n      <td>29274</td>\n      <td>2022-08-02</td>\n      <td>1</td>\n      <td>12-132</td>\n      <td>18</td>\n      <td>18</td>\n      <td>1</td>\n      <td>9189</td>\n      <td>12647</td>\n      <td>175</td>\n      <td>8</td>\n      <td>2022-08-02</td>\n      <td>2022-08-01</td>\n      <td>0</td>\n      <td>1</td>\n    </tr>\n    <tr>\n      <th>1477</th>\n      <td>22096</td>\n      <td>2022-08-02</td>\n      <td>1</td>\n      <td>12-132</td>\n      <td>18</td>\n      <td>17</td>\n      <td>1</td>\n      <td>8921</td>\n      <td>12647</td>\n      <td>157</td>\n      <td>8</td>\n      <td>2022-08-02</td>\n      <td>2022-08-01</td>\n      <td>1</td>\n      <td>1</td>\n    </tr>\n    <tr>\n      <th>1478</th>\n      <td>23969</td>\n      <td>2022-08-02</td>\n      <td>1</td>\n      <td>12-132</td>\n      <td>18</td>\n      <td>18</td>\n      <td>1</td>\n      <td>9043</td>\n      <td>12647</td>\n      <td>19</td>\n      <td>8</td>\n      <td>2022-08-02</td>\n      <td>2022-08-01</td>\n      <td>0</td>\n      <td>1</td>\n    </tr>\n    <tr>\n      <th>1375</th>\n      <td>27915</td>\n      <td>2022-08-02</td>\n      <td>1</td>\n      <td>12-132-03</td>\n      <td>23</td>\n      <td>24</td>\n      <td>0</td>\n      <td>12393</td>\n      <td>11891</td>\n      <td>60</td>\n      <td>8</td>\n      <td>2022-08-02</td>\n      <td>2022-08-01</td>\n      <td>1</td>\n      <td>1</td>\n    </tr>\n    <tr>\n      <th>...</th>\n      <td>...</td>\n      <td>...</td>\n      <td>...</td>\n      <td>...</td>\n      <td>...</td>\n      <td>...</td>\n      <td>...</td>\n      <td>...</td>\n      <td>...</td>\n      <td>...</td>\n      <td>...</td>\n      <td>...</td>\n      <td>...</td>\n      <td>...</td>\n      <td>...</td>\n    </tr>\n    <tr>\n      <th>11905</th>\n      <td>27094</td>\n      <td>2023-02-28</td>\n      <td>1</td>\n      <td>12-132-03</td>\n      <td>23</td>\n      <td>24</td>\n      <td>0</td>\n      <td>12380</td>\n      <td>12012</td>\n      <td>6067</td>\n      <td>2</td>\n      <td>2023-02-28</td>\n      <td>2023-02-01</td>\n      <td>1</td>\n      <td>1</td>\n    </tr>\n    <tr>\n      <th>11894</th>\n      <td>2044</td>\n      <td>2023-02-28</td>\n      <td>0</td>\n      <td>11-2135-01</td>\n      <td>6</td>\n      <td>7</td>\n      <td>0</td>\n      <td>4147</td>\n      <td>3457</td>\n      <td>1433</td>\n      <td>2</td>\n      <td>2023-02-28</td>\n      <td>2023-02-01</td>\n      <td>1</td>\n      <td>1</td>\n    </tr>\n    <tr>\n      <th>11893</th>\n      <td>2012</td>\n      <td>2023-02-28</td>\n      <td>0</td>\n      <td>11-2135-01</td>\n      <td>6</td>\n      <td>7</td>\n      <td>0</td>\n      <td>12920</td>\n      <td>3457</td>\n      <td>2503</td>\n      <td>2</td>\n      <td>2023-02-28</td>\n      <td>2023-02-01</td>\n      <td>1</td>\n      <td>1</td>\n    </tr>\n    <tr>\n      <th>11936</th>\n      <td>21076</td>\n      <td>2023-02-28</td>\n      <td>1</td>\n      <td>12-9788-01</td>\n      <td>22</td>\n      <td>24</td>\n      <td>0</td>\n      <td>13202</td>\n      <td>11305</td>\n      <td>5835</td>\n      <td>2</td>\n      <td>2023-02-28</td>\n      <td>2023-02-01</td>\n      <td>1</td>\n      <td>1</td>\n    </tr>\n    <tr>\n      <th>10695</th>\n      <td>4414</td>\n      <td>2023-02-28</td>\n      <td>0</td>\n      <td>11-9962</td>\n      <td>5</td>\n      <td>5</td>\n      <td>0</td>\n      <td>1852</td>\n      <td>12594</td>\n      <td>707</td>\n      <td>2</td>\n      <td>2023-02-28</td>\n      <td>2023-02-01</td>\n      <td>0</td>\n      <td>1</td>\n    </tr>\n  </tbody>\n</table>\n<p>12032 rows × 15 columns</p>\n</div>"
     },
     "execution_count": 9,
     "metadata": {},
     "output_type": "execute_result"
    }
   ],
   "source": [
    "pr_rems"
   ],
   "metadata": {
    "collapsed": false,
    "ExecuteTime": {
     "end_time": "2023-11-12T03:43:08.992160601Z",
     "start_time": "2023-11-12T03:43:08.934776935Z"
    }
   }
  },
  {
   "cell_type": "code",
   "execution_count": 10,
   "outputs": [],
   "source": [
    "pr_data = pr_rems.groupby(['wagnum', 'just_month_str']).agg(\n",
    "    kod_vrab_0_pr=('kod_vrab', lambda x: (x == 0).sum()),\n",
    "    kod_vrab_1_pr=('kod_vrab', lambda x: (x == 1).sum()),\n",
    "    diff_road_pr=('diff_road', 'sum'),\n",
    "    diff_st_pr=('diff_st', 'sum'),\n",
    "    _10d_pr_rems=('month_str', lambda x: (x >= x.max()[:-2] + '20').sum()),\n",
    "    _20d_pr_rems=('month_str', lambda x: (x >= x.max()[:-2] + '10').sum()),\n",
    "    _1m_pr_rems=('rem_month', 'count'),\n",
    "    rem_dist_pr_sum=('distance', 'sum'),\n",
    "    rem_dist_pr_mean=('distance', 'mean'),\n",
    "    last_month_for_cnt=('month_str', 'max')\n",
    ").reset_index().rename(columns={'just_month_str': 'month'})"
   ],
   "metadata": {
    "collapsed": false,
    "ExecuteTime": {
     "end_time": "2023-11-12T03:44:37.293080741Z",
     "start_time": "2023-11-12T03:44:31.782915834Z"
    }
   }
  },
  {
   "cell_type": "code",
   "execution_count": 33,
   "outputs": [],
   "source": [
    "y_test = pd.read_csv('train/target/y_predict_submit_example.csv')\n",
    "y_test['target_month'] = 0\n",
    "y_test['target_day'] = 0\n",
    "y_all = pd.concat([y_train, y_test], ignore_index=True)"
   ],
   "metadata": {
    "collapsed": false,
    "ExecuteTime": {
     "end_time": "2023-11-12T04:22:04.891752569Z",
     "start_time": "2023-11-12T04:22:04.861458665Z"
    }
   }
  },
  {
   "cell_type": "code",
   "execution_count": 34,
   "outputs": [],
   "source": [
    "y_all = y_all.merge(tr_data, on=['wagnum', 'month'], how='left').merge(pr_data, on=['wagnum', 'month'], how='left')"
   ],
   "metadata": {
    "collapsed": false,
    "ExecuteTime": {
     "end_time": "2023-11-12T04:22:07.669138895Z",
     "start_time": "2023-11-12T04:22:07.408819819Z"
    }
   }
  },
  {
   "cell_type": "code",
   "execution_count": 35,
   "outputs": [],
   "source": [
    "y_all['_allm_pr_rems'] = y_all['_1m_pr_rems'].copy()\n",
    "y_all['_allm_tr_rems'] = y_all['_1m_tr_rems'].copy()"
   ],
   "metadata": {
    "collapsed": false,
    "ExecuteTime": {
     "end_time": "2023-11-12T04:22:08.664458268Z",
     "start_time": "2023-11-12T04:22:08.652962954Z"
    }
   }
  },
  {
   "cell_type": "code",
   "execution_count": 36,
   "outputs": [],
   "source": [
    "y_all['months_after_tr_rems'] = y_all['_1m_tr_rems'].copy()\n",
    "y_all['months_after_pr_rems'] = y_all['_1m_pr_rems'].copy()"
   ],
   "metadata": {
    "collapsed": false,
    "ExecuteTime": {
     "end_time": "2023-11-12T04:22:10.467107660Z",
     "start_time": "2023-11-12T04:22:10.453237265Z"
    }
   }
  },
  {
   "cell_type": "code",
   "execution_count": 37,
   "outputs": [
    {
     "data": {
      "text/plain": "        wagnum       month  target_month  target_day  kod_vrab_2_tr  \\\n0        15844  2022-08-01             0           0           <NA>   \n1         2049  2022-08-01             0           0              0   \n2         7974  2022-08-01             0           0           <NA>   \n3          931  2022-08-01             0           0           <NA>   \n4        26853  2022-08-01             0           0           <NA>   \n...        ...         ...           ...         ...            ...   \n271263   17621  2023-03-01             0           0           <NA>   \n271264   25045  2023-03-01             0           0           <NA>   \n271265   27156  2023-03-01             0           0           <NA>   \n271266   21361  2023-03-01             0           0           <NA>   \n271267    8061  2023-03-01             0           0           <NA>   \n\n        kod_vrab_3_tr  kod_vrab_5_tr  neis1_kod_0_tr  neis1_kod_2_tr  \\\n0                <NA>           <NA>            <NA>            <NA>   \n1                   1              0               0               0   \n2                <NA>           <NA>            <NA>            <NA>   \n3                <NA>           <NA>            <NA>            <NA>   \n4                <NA>           <NA>            <NA>            <NA>   \n...               ...            ...             ...             ...   \n271263           <NA>           <NA>            <NA>            <NA>   \n271264           <NA>           <NA>            <NA>            <NA>   \n271265           <NA>           <NA>            <NA>            <NA>   \n271266           <NA>           <NA>            <NA>            <NA>   \n271267           <NA>           <NA>            <NA>            <NA>   \n\n        neis1_kod_95_tr  ...  _10d_pr_rems  _20d_pr_rems  _1m_pr_rems  \\\n0                  <NA>  ...           NaN           NaN          NaN   \n1                     0  ...           NaN           NaN          NaN   \n2                  <NA>  ...           NaN           NaN          NaN   \n3                  <NA>  ...           NaN           NaN          NaN   \n4                  <NA>  ...           NaN           NaN          NaN   \n...                 ...  ...           ...           ...          ...   \n271263             <NA>  ...           NaN           NaN          NaN   \n271264             <NA>  ...           NaN           NaN          NaN   \n271265             <NA>  ...           NaN           NaN          NaN   \n271266             <NA>  ...           NaN           NaN          NaN   \n271267             <NA>  ...           NaN           NaN          NaN   \n\n        rem_dist_pr_sum  rem_dist_pr_mean  last_month_for_cnt  _allm_pr_rems  \\\n0                  <NA>              <NA>                 NaN            NaN   \n1                  <NA>              <NA>                 NaN            NaN   \n2                  <NA>              <NA>                 NaN            NaN   \n3                  <NA>              <NA>                 NaN            NaN   \n4                  <NA>              <NA>                 NaN            NaN   \n...                 ...               ...                 ...            ...   \n271263             <NA>              <NA>                 NaN            NaN   \n271264             <NA>              <NA>                 NaN            NaN   \n271265             <NA>              <NA>                 NaN            NaN   \n271266             <NA>              <NA>                 NaN            NaN   \n271267             <NA>              <NA>                 NaN            NaN   \n\n        _allm_tr_rems  months_after_tr_rems  months_after_pr_rems  \n0                 NaN                   NaN                   NaN  \n1                 1.0                   1.0                   NaN  \n2                 NaN                   NaN                   NaN  \n3                 NaN                   NaN                   NaN  \n4                 NaN                   NaN                   NaN  \n...               ...                   ...                   ...  \n271263            NaN                   NaN                   NaN  \n271264            NaN                   NaN                   NaN  \n271265            NaN                   NaN                   NaN  \n271266            NaN                   NaN                   NaN  \n271267            NaN                   NaN                   NaN  \n\n[271268 rows x 46 columns]",
      "text/html": "<div>\n<style scoped>\n    .dataframe tbody tr th:only-of-type {\n        vertical-align: middle;\n    }\n\n    .dataframe tbody tr th {\n        vertical-align: top;\n    }\n\n    .dataframe thead th {\n        text-align: right;\n    }\n</style>\n<table border=\"1\" class=\"dataframe\">\n  <thead>\n    <tr style=\"text-align: right;\">\n      <th></th>\n      <th>wagnum</th>\n      <th>month</th>\n      <th>target_month</th>\n      <th>target_day</th>\n      <th>kod_vrab_2_tr</th>\n      <th>kod_vrab_3_tr</th>\n      <th>kod_vrab_5_tr</th>\n      <th>neis1_kod_0_tr</th>\n      <th>neis1_kod_2_tr</th>\n      <th>neis1_kod_95_tr</th>\n      <th>...</th>\n      <th>_10d_pr_rems</th>\n      <th>_20d_pr_rems</th>\n      <th>_1m_pr_rems</th>\n      <th>rem_dist_pr_sum</th>\n      <th>rem_dist_pr_mean</th>\n      <th>last_month_for_cnt</th>\n      <th>_allm_pr_rems</th>\n      <th>_allm_tr_rems</th>\n      <th>months_after_tr_rems</th>\n      <th>months_after_pr_rems</th>\n    </tr>\n  </thead>\n  <tbody>\n    <tr>\n      <th>0</th>\n      <td>15844</td>\n      <td>2022-08-01</td>\n      <td>0</td>\n      <td>0</td>\n      <td>&lt;NA&gt;</td>\n      <td>&lt;NA&gt;</td>\n      <td>&lt;NA&gt;</td>\n      <td>&lt;NA&gt;</td>\n      <td>&lt;NA&gt;</td>\n      <td>&lt;NA&gt;</td>\n      <td>...</td>\n      <td>NaN</td>\n      <td>NaN</td>\n      <td>NaN</td>\n      <td>&lt;NA&gt;</td>\n      <td>&lt;NA&gt;</td>\n      <td>NaN</td>\n      <td>NaN</td>\n      <td>NaN</td>\n      <td>NaN</td>\n      <td>NaN</td>\n    </tr>\n    <tr>\n      <th>1</th>\n      <td>2049</td>\n      <td>2022-08-01</td>\n      <td>0</td>\n      <td>0</td>\n      <td>0</td>\n      <td>1</td>\n      <td>0</td>\n      <td>0</td>\n      <td>0</td>\n      <td>0</td>\n      <td>...</td>\n      <td>NaN</td>\n      <td>NaN</td>\n      <td>NaN</td>\n      <td>&lt;NA&gt;</td>\n      <td>&lt;NA&gt;</td>\n      <td>NaN</td>\n      <td>NaN</td>\n      <td>1.0</td>\n      <td>1.0</td>\n      <td>NaN</td>\n    </tr>\n    <tr>\n      <th>2</th>\n      <td>7974</td>\n      <td>2022-08-01</td>\n      <td>0</td>\n      <td>0</td>\n      <td>&lt;NA&gt;</td>\n      <td>&lt;NA&gt;</td>\n      <td>&lt;NA&gt;</td>\n      <td>&lt;NA&gt;</td>\n      <td>&lt;NA&gt;</td>\n      <td>&lt;NA&gt;</td>\n      <td>...</td>\n      <td>NaN</td>\n      <td>NaN</td>\n      <td>NaN</td>\n      <td>&lt;NA&gt;</td>\n      <td>&lt;NA&gt;</td>\n      <td>NaN</td>\n      <td>NaN</td>\n      <td>NaN</td>\n      <td>NaN</td>\n      <td>NaN</td>\n    </tr>\n    <tr>\n      <th>3</th>\n      <td>931</td>\n      <td>2022-08-01</td>\n      <td>0</td>\n      <td>0</td>\n      <td>&lt;NA&gt;</td>\n      <td>&lt;NA&gt;</td>\n      <td>&lt;NA&gt;</td>\n      <td>&lt;NA&gt;</td>\n      <td>&lt;NA&gt;</td>\n      <td>&lt;NA&gt;</td>\n      <td>...</td>\n      <td>NaN</td>\n      <td>NaN</td>\n      <td>NaN</td>\n      <td>&lt;NA&gt;</td>\n      <td>&lt;NA&gt;</td>\n      <td>NaN</td>\n      <td>NaN</td>\n      <td>NaN</td>\n      <td>NaN</td>\n      <td>NaN</td>\n    </tr>\n    <tr>\n      <th>4</th>\n      <td>26853</td>\n      <td>2022-08-01</td>\n      <td>0</td>\n      <td>0</td>\n      <td>&lt;NA&gt;</td>\n      <td>&lt;NA&gt;</td>\n      <td>&lt;NA&gt;</td>\n      <td>&lt;NA&gt;</td>\n      <td>&lt;NA&gt;</td>\n      <td>&lt;NA&gt;</td>\n      <td>...</td>\n      <td>NaN</td>\n      <td>NaN</td>\n      <td>NaN</td>\n      <td>&lt;NA&gt;</td>\n      <td>&lt;NA&gt;</td>\n      <td>NaN</td>\n      <td>NaN</td>\n      <td>NaN</td>\n      <td>NaN</td>\n      <td>NaN</td>\n    </tr>\n    <tr>\n      <th>...</th>\n      <td>...</td>\n      <td>...</td>\n      <td>...</td>\n      <td>...</td>\n      <td>...</td>\n      <td>...</td>\n      <td>...</td>\n      <td>...</td>\n      <td>...</td>\n      <td>...</td>\n      <td>...</td>\n      <td>...</td>\n      <td>...</td>\n      <td>...</td>\n      <td>...</td>\n      <td>...</td>\n      <td>...</td>\n      <td>...</td>\n      <td>...</td>\n      <td>...</td>\n      <td>...</td>\n    </tr>\n    <tr>\n      <th>271263</th>\n      <td>17621</td>\n      <td>2023-03-01</td>\n      <td>0</td>\n      <td>0</td>\n      <td>&lt;NA&gt;</td>\n      <td>&lt;NA&gt;</td>\n      <td>&lt;NA&gt;</td>\n      <td>&lt;NA&gt;</td>\n      <td>&lt;NA&gt;</td>\n      <td>&lt;NA&gt;</td>\n      <td>...</td>\n      <td>NaN</td>\n      <td>NaN</td>\n      <td>NaN</td>\n      <td>&lt;NA&gt;</td>\n      <td>&lt;NA&gt;</td>\n      <td>NaN</td>\n      <td>NaN</td>\n      <td>NaN</td>\n      <td>NaN</td>\n      <td>NaN</td>\n    </tr>\n    <tr>\n      <th>271264</th>\n      <td>25045</td>\n      <td>2023-03-01</td>\n      <td>0</td>\n      <td>0</td>\n      <td>&lt;NA&gt;</td>\n      <td>&lt;NA&gt;</td>\n      <td>&lt;NA&gt;</td>\n      <td>&lt;NA&gt;</td>\n      <td>&lt;NA&gt;</td>\n      <td>&lt;NA&gt;</td>\n      <td>...</td>\n      <td>NaN</td>\n      <td>NaN</td>\n      <td>NaN</td>\n      <td>&lt;NA&gt;</td>\n      <td>&lt;NA&gt;</td>\n      <td>NaN</td>\n      <td>NaN</td>\n      <td>NaN</td>\n      <td>NaN</td>\n      <td>NaN</td>\n    </tr>\n    <tr>\n      <th>271265</th>\n      <td>27156</td>\n      <td>2023-03-01</td>\n      <td>0</td>\n      <td>0</td>\n      <td>&lt;NA&gt;</td>\n      <td>&lt;NA&gt;</td>\n      <td>&lt;NA&gt;</td>\n      <td>&lt;NA&gt;</td>\n      <td>&lt;NA&gt;</td>\n      <td>&lt;NA&gt;</td>\n      <td>...</td>\n      <td>NaN</td>\n      <td>NaN</td>\n      <td>NaN</td>\n      <td>&lt;NA&gt;</td>\n      <td>&lt;NA&gt;</td>\n      <td>NaN</td>\n      <td>NaN</td>\n      <td>NaN</td>\n      <td>NaN</td>\n      <td>NaN</td>\n    </tr>\n    <tr>\n      <th>271266</th>\n      <td>21361</td>\n      <td>2023-03-01</td>\n      <td>0</td>\n      <td>0</td>\n      <td>&lt;NA&gt;</td>\n      <td>&lt;NA&gt;</td>\n      <td>&lt;NA&gt;</td>\n      <td>&lt;NA&gt;</td>\n      <td>&lt;NA&gt;</td>\n      <td>&lt;NA&gt;</td>\n      <td>...</td>\n      <td>NaN</td>\n      <td>NaN</td>\n      <td>NaN</td>\n      <td>&lt;NA&gt;</td>\n      <td>&lt;NA&gt;</td>\n      <td>NaN</td>\n      <td>NaN</td>\n      <td>NaN</td>\n      <td>NaN</td>\n      <td>NaN</td>\n    </tr>\n    <tr>\n      <th>271267</th>\n      <td>8061</td>\n      <td>2023-03-01</td>\n      <td>0</td>\n      <td>0</td>\n      <td>&lt;NA&gt;</td>\n      <td>&lt;NA&gt;</td>\n      <td>&lt;NA&gt;</td>\n      <td>&lt;NA&gt;</td>\n      <td>&lt;NA&gt;</td>\n      <td>&lt;NA&gt;</td>\n      <td>...</td>\n      <td>NaN</td>\n      <td>NaN</td>\n      <td>NaN</td>\n      <td>&lt;NA&gt;</td>\n      <td>&lt;NA&gt;</td>\n      <td>NaN</td>\n      <td>NaN</td>\n      <td>NaN</td>\n      <td>NaN</td>\n      <td>NaN</td>\n    </tr>\n  </tbody>\n</table>\n<p>271268 rows × 46 columns</p>\n</div>"
     },
     "execution_count": 37,
     "metadata": {},
     "output_type": "execute_result"
    }
   ],
   "source": [
    "y_all"
   ],
   "metadata": {
    "collapsed": false,
    "ExecuteTime": {
     "end_time": "2023-11-12T04:22:11.788293614Z",
     "start_time": "2023-11-12T04:22:11.742231695Z"
    }
   }
  },
  {
   "cell_type": "code",
   "execution_count": 38,
   "outputs": [
    {
     "data": {
      "text/plain": "Index(['wagnum', 'month', 'target_month', 'target_day', 'kod_vrab_2_tr',\n       'kod_vrab_3_tr', 'kod_vrab_5_tr', 'neis1_kod_0_tr', 'neis1_kod_2_tr',\n       'neis1_kod_95_tr', 'neis1_kod_6_tr', 'neis1_kod_88_tr',\n       'neis1_kod_tr_max', 'neis2_kod_98_tr', 'neis2_kod_95_tr',\n       'neis2_kod_96_tr', 'neis2_kod_62_tr', 'neis2_kod_tr_max',\n       'neis3_kod_54_tr', 'neis3_kod_51_tr', 'neis3_kod_tr_max',\n       'mod1_kod_tr_min', 'mod1_kod_tr_max', 'mod2_kod_tr_min',\n       'mod2_kod_tr_max', 'gr_probeg_tr_max', 'gr_probeg_tr_mean',\n       'gr_probeg_tr_min', 'por_probeg_tr_max', 'por_probeg_tr_mean',\n       'por_probeg_tr_min', '_1m_tr_rems', 'kod_vrab_0_pr', 'kod_vrab_1_pr',\n       'diff_road_pr', 'diff_st_pr', '_10d_pr_rems', '_20d_pr_rems',\n       '_1m_pr_rems', 'rem_dist_pr_sum', 'rem_dist_pr_mean',\n       'last_month_for_cnt', '_allm_pr_rems', '_allm_tr_rems',\n       'months_after_tr_rems', 'months_after_pr_rems'],\n      dtype='object')"
     },
     "execution_count": 38,
     "metadata": {},
     "output_type": "execute_result"
    }
   ],
   "source": [
    "y_all.columns"
   ],
   "metadata": {
    "collapsed": false,
    "ExecuteTime": {
     "end_time": "2023-11-12T04:22:14.978586562Z",
     "start_time": "2023-11-12T04:22:14.971603351Z"
    }
   }
  },
  {
   "cell_type": "code",
   "execution_count": 29,
   "outputs": [
    {
     "data": {
      "text/plain": "0    1000.0\n1       1.0\n2       2.0\n3       3.0\n4       4.0\n5    1000.0\ndtype: float64"
     },
     "execution_count": 29,
     "metadata": {},
     "output_type": "execute_result"
    }
   ],
   "source": [
    "def shift_and_k_nan(k):\n",
    "    def ff(x):\n",
    "        x.iloc[1:] = x.iloc[:-1]\n",
    "        x.iloc[0] = k\n",
    "        x = x.fillna(k)\n",
    "        return x\n",
    "    return ff\n",
    "ff = shift_and_k_nan(1000)\n",
    "ff(pd.Series([1, 2, 3, 4, np.nan, 5]))"
   ],
   "metadata": {
    "collapsed": false,
    "ExecuteTime": {
     "end_time": "2023-11-12T04:13:27.979016854Z",
     "start_time": "2023-11-12T04:13:27.970813400Z"
    }
   }
  },
  {
   "cell_type": "code",
   "execution_count": 17,
   "outputs": [
    {
     "data": {
      "text/plain": "0    730.0\n1    731.0\n2      0.0\n3      1.0\n4      0.0\n5      1.0\ndtype: float64"
     },
     "execution_count": 17,
     "metadata": {},
     "output_type": "execute_result"
    }
   ],
   "source": [
    "def shift_and_cnt_after(x):\n",
    "    x = x.fillna(0)\n",
    "    x.iloc[1:] = x.iloc[:-1]\n",
    "    x.iloc[0] = 0\n",
    "    prev = 365*2\n",
    "    for i in range(x.shape[0]):\n",
    "        if x.iloc[i] > 0:\n",
    "            prev = 0\n",
    "        x.iloc[i] = prev\n",
    "        prev += 1\n",
    "    return x\n",
    "shift_and_cnt_after(pd.Series([np.nan, 1, 0, 2, np.nan, 0]))"
   ],
   "metadata": {
    "collapsed": false,
    "ExecuteTime": {
     "end_time": "2023-11-12T03:52:27.031691402Z",
     "start_time": "2023-11-12T03:52:27.027006982Z"
    }
   }
  },
  {
   "cell_type": "code",
   "execution_count": 19,
   "outputs": [
    {
     "data": {
      "text/plain": "0    0.0\n1    0.0\n2    1.0\n3    1.0\n4    2.0\n5    2.0\ndtype: float64"
     },
     "execution_count": 19,
     "metadata": {},
     "output_type": "execute_result"
    }
   ],
   "source": [
    "def shift_and_get_prev(x):\n",
    "    x = x.fillna(0)\n",
    "    x.iloc[1:] = x.iloc[:-1]\n",
    "    x.iloc[0] = 0\n",
    "    prev = 0\n",
    "    for i in range(x.shape[0]):\n",
    "        if x.iloc[i] > 0:\n",
    "            prev = x.iloc[i]\n",
    "        x.iloc[i] = prev\n",
    "    return x\n",
    "shift_and_get_prev(pd.Series([np.nan, 1, 0, 2, np.nan, 0]))"
   ],
   "metadata": {
    "collapsed": false,
    "ExecuteTime": {
     "end_time": "2023-11-12T03:56:19.296050693Z",
     "start_time": "2023-11-12T03:56:19.253281601Z"
    }
   }
  },
  {
   "cell_type": "code",
   "execution_count": 27,
   "outputs": [
    {
     "data": {
      "text/plain": "0    0.0\n1    1.0\n2    1.0\n3    1.0\n4    5.0\n5    5.0\ndtype: float64"
     },
     "execution_count": 27,
     "metadata": {},
     "output_type": "execute_result"
    }
   ],
   "source": [
    "def shift_and_pref_sum(x):\n",
    "    x = x.fillna(0)\n",
    "    x.iloc[1:] = x.iloc[:-1]\n",
    "    x.iloc[0] = 0\n",
    "    for i in range(1, x.shape[0]):\n",
    "        x.iloc[i] += x.iloc[i-1]\n",
    "    return x\n",
    "shift_and_pref_sum(pd.Series([1, np.nan, 0, 4, np.nan, 5]))"
   ],
   "metadata": {
    "collapsed": false,
    "ExecuteTime": {
     "end_time": "2023-11-12T04:13:20.503868917Z",
     "start_time": "2023-11-12T04:13:20.463343365Z"
    }
   }
  },
  {
   "cell_type": "code",
   "execution_count": 24,
   "outputs": [
    {
     "data": {
      "text/plain": "0    730\n1    760\n2    790\n3     16\n4     46\n5     76\ndtype: object"
     },
     "execution_count": 24,
     "metadata": {},
     "output_type": "execute_result"
    }
   ],
   "source": [
    "def shift_and_count_exac_days(x):\n",
    "    x = x.fillna('0')\n",
    "    x.iloc[1:] = x.iloc[:-1]\n",
    "    x.iloc[0] = '0'\n",
    "    prev = 365 * 2\n",
    "    for i in range(x.shape[0]):\n",
    "        if x.iloc[i] != '0':\n",
    "            prev = 31 - int(x.iloc[i][8:10])\n",
    "        x.iloc[i] = str(prev)\n",
    "        prev += 30\n",
    "    x[x == '0'] = str(365 * 2)\n",
    "    return x\n",
    "shift_and_count_exac_days(pd.Series([np.nan, np.nan, '2022-05-15', np.nan, np.nan, np.nan]))"
   ],
   "metadata": {
    "collapsed": false,
    "ExecuteTime": {
     "end_time": "2023-11-12T04:11:59.841302231Z",
     "start_time": "2023-11-12T04:11:59.801871457Z"
    }
   }
  },
  {
   "cell_type": "code",
   "execution_count": 32,
   "outputs": [],
   "source": [
    "column_to_function = {\n",
    "    'kod_vrab_2_tr':shift_and_pref_sum,\n",
    "    'kod_vrab_3_tr':shift_and_pref_sum,\n",
    "    'kod_vrab_5_tr':shift_and_pref_sum,\n",
    "    #'neis1_kod_0_tr':shift_and_pref_sum,\n",
    "    #'neis1_kod_2_tr':shift_and_pref_sum,\n",
    "    #'neis1_kod_95_tr':shift_and_pref_sum,\n",
    "    #'neis1_kod_6_tr':shift_and_pref_sum,\n",
    "    #'neis1_kod_88_tr':shift_and_pref_sum,\n",
    "    'neis1_kod_tr_max':shift_and_get_prev,\n",
    "    #'neis2_kod_98_tr':shift_and_pref_sum,\n",
    "    #'neis2_kod_95_tr':shift_and_pref_sum,\n",
    "    #'neis2_kod_96_tr':shift_and_pref_sum,\n",
    "    #'neis2_kod_62_tr':shift_and_pref_sum,\n",
    "    'neis2_kod_tr_max':shift_and_get_prev,\n",
    "    #'neis3_kod_54_tr':shift_and_pref_sum,\n",
    "    #'neis3_kod_51_tr':shift_and_pref_sum,\n",
    "    'neis3_kod_tr_max':shift_and_get_prev,\n",
    "    #'mod1_kod_tr_min':shift_and_get_prev,\n",
    "    #'mod1_kod_tr_max':shift_and_get_prev,\n",
    "    #'mod2_kod_tr_min':shift_and_get_prev,\n",
    "    #'mod2_kod_tr_max':shift_and_get_prev,\n",
    "    'gr_probeg_tr_max':shift_and_get_prev,\n",
    "    'gr_probeg_tr_mean':shift_and_get_prev,\n",
    "    'gr_probeg_tr_min':shift_and_get_prev,\n",
    "    'por_probeg_tr_max':shift_and_get_prev,\n",
    "    'por_probeg_tr_mean':shift_and_get_prev,\n",
    "    'por_probeg_tr_min':shift_and_get_prev,\n",
    "    '_1m_tr_rems':shift_and_k_nan(0),\n",
    "    'kod_vrab_0_pr':shift_and_pref_sum,\n",
    "    'kod_vrab_1_pr':shift_and_pref_sum,\n",
    "    'diff_road_pr':shift_and_pref_sum,\n",
    "    'diff_st_pr':shift_and_pref_sum,\n",
    "    '_10d_pr_rems':shift_and_k_nan(0),\n",
    "    '_20d_pr_rems':shift_and_k_nan(0),\n",
    "    '_1m_pr_rems':shift_and_k_nan(0),\n",
    "    #'rem_dist_pr_sum':shift_and_pref_sum,\n",
    "    #'rem_dist_pr_mean':shift_and_get_prev,\n",
    "    '_allm_pr_rems':shift_and_pref_sum,\n",
    "    '_allm_tr_rems':shift_and_pref_sum,\n",
    "    'last_month_for_cnt':shift_and_count_exac_days,\n",
    "    'months_after_tr_rems':shift_and_cnt_after,\n",
    "    'months_after_pr_rems':shift_and_cnt_after,\n",
    "}\n",
    "\n",
    "cat_features = []"
   ],
   "metadata": {
    "collapsed": false,
    "ExecuteTime": {
     "end_time": "2023-11-12T04:21:57.898941639Z",
     "start_time": "2023-11-12T04:21:57.892407028Z"
    }
   }
  },
  {
   "cell_type": "code",
   "execution_count": 39,
   "outputs": [
    {
     "name": "stderr",
     "output_type": "stream",
     "text": [
      "100%|██████████| 25/25 [10:44<00:00, 25.77s/it]\n"
     ]
    }
   ],
   "source": [
    "y_all_gr = y_all.groupby('wagnum')\n",
    "for column, function in tqdm(column_to_function.items()):\n",
    "    y_all[column] = y_all.groupby('wagnum')[column].transform(function)"
   ],
   "metadata": {
    "collapsed": false,
    "ExecuteTime": {
     "end_time": "2023-11-12T04:33:03.588232969Z",
     "start_time": "2023-11-12T04:22:19.278821726Z"
    }
   }
  },
  {
   "cell_type": "code",
   "execution_count": 40,
   "outputs": [],
   "source": [
    "y_all['last_month_for_cnt'] = y_all.last_month_for_cnt.apply(lambda x: int(x))"
   ],
   "metadata": {
    "collapsed": false,
    "ExecuteTime": {
     "end_time": "2023-11-12T04:37:06.779845549Z",
     "start_time": "2023-11-12T04:37:06.665303202Z"
    }
   }
  },
  {
   "cell_type": "code",
   "execution_count": 46,
   "outputs": [],
   "source": [
    "actual_features = ['wagnum', 'month', 'target_month', 'target_day'] + list(column_to_function.keys())"
   ],
   "metadata": {
    "collapsed": false,
    "ExecuteTime": {
     "end_time": "2023-11-12T04:39:37.594932514Z",
     "start_time": "2023-11-12T04:39:37.588885477Z"
    }
   }
  },
  {
   "cell_type": "code",
   "execution_count": 49,
   "outputs": [],
   "source": [
    "y_all = y_all[actual_features]"
   ],
   "metadata": {
    "collapsed": false,
    "ExecuteTime": {
     "end_time": "2023-11-12T04:40:02.612301073Z",
     "start_time": "2023-11-12T04:40:02.604001399Z"
    }
   }
  },
  {
   "cell_type": "code",
   "execution_count": 59,
   "outputs": [
    {
     "name": "stderr",
     "output_type": "stream",
     "text": [
      "/tmp/ipykernel_155921/3905214218.py:1: SettingWithCopyWarning: \n",
      "A value is trying to be set on a copy of a slice from a DataFrame.\n",
      "Try using .loc[row_indexer,col_indexer] = value instead\n",
      "\n",
      "See the caveats in the documentation: https://pandas.pydata.org/pandas-docs/stable/user_guide/indexing.html#returning-a-view-versus-a-copy\n",
      "  y_all['is_in_kti'] = y_all.wagnum.apply(lambda x: 1 if x in are_in_kti_izm else 0)\n"
     ]
    }
   ],
   "source": [
    "y_all['is_in_kti'] = y_all.wagnum.apply(lambda x: 1 if x in are_in_kti_izm else 0)"
   ],
   "metadata": {
    "collapsed": false,
    "ExecuteTime": {
     "end_time": "2023-11-12T04:47:37.719576004Z",
     "start_time": "2023-11-12T04:47:37.680273846Z"
    }
   }
  },
  {
   "cell_type": "code",
   "execution_count": 60,
   "outputs": [
    {
     "data": {
      "text/plain": "        wagnum       month  target_month  target_day  kod_vrab_2_tr  \\\n0        15844  2022-08-01             0           0              0   \n1         2049  2022-08-01             0           0              0   \n2         7974  2022-08-01             0           0              0   \n3          931  2022-08-01             0           0              0   \n4        26853  2022-08-01             0           0              0   \n...        ...         ...           ...         ...            ...   \n271263   17621  2023-03-01             0           0              0   \n271264   25045  2023-03-01             0           0              0   \n271265   27156  2023-03-01             0           0              2   \n271266   21361  2023-03-01             0           0              0   \n271267    8061  2023-03-01             0           0              0   \n\n        kod_vrab_3_tr  kod_vrab_5_tr  neis1_kod_tr_max  neis2_kod_tr_max  \\\n0                   0              0                 0                 0   \n1                   0              0                 0                 0   \n2                   0              0                 0                 0   \n3                   0              0                 0                 0   \n4                   0              0                 0                 0   \n...               ...            ...               ...               ...   \n271263              0              0                 0                 0   \n271264              0              0                 0                 0   \n271265              2              0                95                98   \n271266              0              0                 0                 0   \n271267              0              0                 0                 0   \n\n        neis3_kod_tr_max  ...  diff_st_pr  _10d_pr_rems  _20d_pr_rems  \\\n0                      0  ...         0.0           0.0           0.0   \n1                      0  ...         0.0           0.0           0.0   \n2                      0  ...         0.0           0.0           0.0   \n3                      0  ...         0.0           0.0           0.0   \n4                      0  ...         0.0           0.0           0.0   \n...                  ...  ...         ...           ...           ...   \n271263                 0  ...         0.0           0.0           0.0   \n271264                 0  ...         1.0           0.0           0.0   \n271265                54  ...         1.0           0.0           0.0   \n271266                 0  ...         1.0           0.0           0.0   \n271267                 0  ...         1.0           0.0           0.0   \n\n        _1m_pr_rems  _allm_pr_rems  _allm_tr_rems  last_month_for_cnt  \\\n0               0.0            0.0            0.0                 730   \n1               0.0            0.0            0.0                 730   \n2               0.0            0.0            0.0                 730   \n3               0.0            0.0            0.0                 730   \n4               0.0            0.0            0.0                 730   \n...             ...            ...            ...                 ...   \n271263          0.0            0.0            0.0                 940   \n271264          0.0            1.0            0.0                 163   \n271265          0.0            1.0            4.0                 133   \n271266          0.0            1.0            0.0                 177   \n271267          0.0            1.0            0.0                 162   \n\n        months_after_tr_rems  months_after_pr_rems  is_in_kti  \n0                      730.0                 730.0          0  \n1                      730.0                 730.0          0  \n2                      730.0                 730.0          0  \n3                      730.0                 730.0          0  \n4                      730.0                 730.0          0  \n...                      ...                   ...        ...  \n271263                 737.0                 737.0          0  \n271264                 737.0                   5.0          0  \n271265                   5.0                   4.0          0  \n271266                 737.0                   5.0          1  \n271267                 736.0                   5.0          0  \n\n[271268 rows x 30 columns]",
      "text/html": "<div>\n<style scoped>\n    .dataframe tbody tr th:only-of-type {\n        vertical-align: middle;\n    }\n\n    .dataframe tbody tr th {\n        vertical-align: top;\n    }\n\n    .dataframe thead th {\n        text-align: right;\n    }\n</style>\n<table border=\"1\" class=\"dataframe\">\n  <thead>\n    <tr style=\"text-align: right;\">\n      <th></th>\n      <th>wagnum</th>\n      <th>month</th>\n      <th>target_month</th>\n      <th>target_day</th>\n      <th>kod_vrab_2_tr</th>\n      <th>kod_vrab_3_tr</th>\n      <th>kod_vrab_5_tr</th>\n      <th>neis1_kod_tr_max</th>\n      <th>neis2_kod_tr_max</th>\n      <th>neis3_kod_tr_max</th>\n      <th>...</th>\n      <th>diff_st_pr</th>\n      <th>_10d_pr_rems</th>\n      <th>_20d_pr_rems</th>\n      <th>_1m_pr_rems</th>\n      <th>_allm_pr_rems</th>\n      <th>_allm_tr_rems</th>\n      <th>last_month_for_cnt</th>\n      <th>months_after_tr_rems</th>\n      <th>months_after_pr_rems</th>\n      <th>is_in_kti</th>\n    </tr>\n  </thead>\n  <tbody>\n    <tr>\n      <th>0</th>\n      <td>15844</td>\n      <td>2022-08-01</td>\n      <td>0</td>\n      <td>0</td>\n      <td>0</td>\n      <td>0</td>\n      <td>0</td>\n      <td>0</td>\n      <td>0</td>\n      <td>0</td>\n      <td>...</td>\n      <td>0.0</td>\n      <td>0.0</td>\n      <td>0.0</td>\n      <td>0.0</td>\n      <td>0.0</td>\n      <td>0.0</td>\n      <td>730</td>\n      <td>730.0</td>\n      <td>730.0</td>\n      <td>0</td>\n    </tr>\n    <tr>\n      <th>1</th>\n      <td>2049</td>\n      <td>2022-08-01</td>\n      <td>0</td>\n      <td>0</td>\n      <td>0</td>\n      <td>0</td>\n      <td>0</td>\n      <td>0</td>\n      <td>0</td>\n      <td>0</td>\n      <td>...</td>\n      <td>0.0</td>\n      <td>0.0</td>\n      <td>0.0</td>\n      <td>0.0</td>\n      <td>0.0</td>\n      <td>0.0</td>\n      <td>730</td>\n      <td>730.0</td>\n      <td>730.0</td>\n      <td>0</td>\n    </tr>\n    <tr>\n      <th>2</th>\n      <td>7974</td>\n      <td>2022-08-01</td>\n      <td>0</td>\n      <td>0</td>\n      <td>0</td>\n      <td>0</td>\n      <td>0</td>\n      <td>0</td>\n      <td>0</td>\n      <td>0</td>\n      <td>...</td>\n      <td>0.0</td>\n      <td>0.0</td>\n      <td>0.0</td>\n      <td>0.0</td>\n      <td>0.0</td>\n      <td>0.0</td>\n      <td>730</td>\n      <td>730.0</td>\n      <td>730.0</td>\n      <td>0</td>\n    </tr>\n    <tr>\n      <th>3</th>\n      <td>931</td>\n      <td>2022-08-01</td>\n      <td>0</td>\n      <td>0</td>\n      <td>0</td>\n      <td>0</td>\n      <td>0</td>\n      <td>0</td>\n      <td>0</td>\n      <td>0</td>\n      <td>...</td>\n      <td>0.0</td>\n      <td>0.0</td>\n      <td>0.0</td>\n      <td>0.0</td>\n      <td>0.0</td>\n      <td>0.0</td>\n      <td>730</td>\n      <td>730.0</td>\n      <td>730.0</td>\n      <td>0</td>\n    </tr>\n    <tr>\n      <th>4</th>\n      <td>26853</td>\n      <td>2022-08-01</td>\n      <td>0</td>\n      <td>0</td>\n      <td>0</td>\n      <td>0</td>\n      <td>0</td>\n      <td>0</td>\n      <td>0</td>\n      <td>0</td>\n      <td>...</td>\n      <td>0.0</td>\n      <td>0.0</td>\n      <td>0.0</td>\n      <td>0.0</td>\n      <td>0.0</td>\n      <td>0.0</td>\n      <td>730</td>\n      <td>730.0</td>\n      <td>730.0</td>\n      <td>0</td>\n    </tr>\n    <tr>\n      <th>...</th>\n      <td>...</td>\n      <td>...</td>\n      <td>...</td>\n      <td>...</td>\n      <td>...</td>\n      <td>...</td>\n      <td>...</td>\n      <td>...</td>\n      <td>...</td>\n      <td>...</td>\n      <td>...</td>\n      <td>...</td>\n      <td>...</td>\n      <td>...</td>\n      <td>...</td>\n      <td>...</td>\n      <td>...</td>\n      <td>...</td>\n      <td>...</td>\n      <td>...</td>\n      <td>...</td>\n    </tr>\n    <tr>\n      <th>271263</th>\n      <td>17621</td>\n      <td>2023-03-01</td>\n      <td>0</td>\n      <td>0</td>\n      <td>0</td>\n      <td>0</td>\n      <td>0</td>\n      <td>0</td>\n      <td>0</td>\n      <td>0</td>\n      <td>...</td>\n      <td>0.0</td>\n      <td>0.0</td>\n      <td>0.0</td>\n      <td>0.0</td>\n      <td>0.0</td>\n      <td>0.0</td>\n      <td>940</td>\n      <td>737.0</td>\n      <td>737.0</td>\n      <td>0</td>\n    </tr>\n    <tr>\n      <th>271264</th>\n      <td>25045</td>\n      <td>2023-03-01</td>\n      <td>0</td>\n      <td>0</td>\n      <td>0</td>\n      <td>0</td>\n      <td>0</td>\n      <td>0</td>\n      <td>0</td>\n      <td>0</td>\n      <td>...</td>\n      <td>1.0</td>\n      <td>0.0</td>\n      <td>0.0</td>\n      <td>0.0</td>\n      <td>1.0</td>\n      <td>0.0</td>\n      <td>163</td>\n      <td>737.0</td>\n      <td>5.0</td>\n      <td>0</td>\n    </tr>\n    <tr>\n      <th>271265</th>\n      <td>27156</td>\n      <td>2023-03-01</td>\n      <td>0</td>\n      <td>0</td>\n      <td>2</td>\n      <td>2</td>\n      <td>0</td>\n      <td>95</td>\n      <td>98</td>\n      <td>54</td>\n      <td>...</td>\n      <td>1.0</td>\n      <td>0.0</td>\n      <td>0.0</td>\n      <td>0.0</td>\n      <td>1.0</td>\n      <td>4.0</td>\n      <td>133</td>\n      <td>5.0</td>\n      <td>4.0</td>\n      <td>0</td>\n    </tr>\n    <tr>\n      <th>271266</th>\n      <td>21361</td>\n      <td>2023-03-01</td>\n      <td>0</td>\n      <td>0</td>\n      <td>0</td>\n      <td>0</td>\n      <td>0</td>\n      <td>0</td>\n      <td>0</td>\n      <td>0</td>\n      <td>...</td>\n      <td>1.0</td>\n      <td>0.0</td>\n      <td>0.0</td>\n      <td>0.0</td>\n      <td>1.0</td>\n      <td>0.0</td>\n      <td>177</td>\n      <td>737.0</td>\n      <td>5.0</td>\n      <td>1</td>\n    </tr>\n    <tr>\n      <th>271267</th>\n      <td>8061</td>\n      <td>2023-03-01</td>\n      <td>0</td>\n      <td>0</td>\n      <td>0</td>\n      <td>0</td>\n      <td>0</td>\n      <td>0</td>\n      <td>0</td>\n      <td>0</td>\n      <td>...</td>\n      <td>1.0</td>\n      <td>0.0</td>\n      <td>0.0</td>\n      <td>0.0</td>\n      <td>1.0</td>\n      <td>0.0</td>\n      <td>162</td>\n      <td>736.0</td>\n      <td>5.0</td>\n      <td>0</td>\n    </tr>\n  </tbody>\n</table>\n<p>271268 rows × 30 columns</p>\n</div>"
     },
     "execution_count": 60,
     "metadata": {},
     "output_type": "execute_result"
    }
   ],
   "source": [
    "y_all"
   ],
   "metadata": {
    "collapsed": false,
    "ExecuteTime": {
     "end_time": "2023-11-12T04:47:45.340769424Z",
     "start_time": "2023-11-12T04:47:45.301461417Z"
    }
   }
  },
  {
   "cell_type": "code",
   "execution_count": 61,
   "outputs": [],
   "source": [
    "end_y_train = y_all[y_all.month != '2023-03-01']"
   ],
   "metadata": {
    "collapsed": false,
    "ExecuteTime": {
     "end_time": "2023-11-12T04:49:31.615834666Z",
     "start_time": "2023-11-12T04:49:31.572581257Z"
    }
   }
  },
  {
   "cell_type": "code",
   "execution_count": 62,
   "outputs": [
    {
     "data": {
      "text/plain": "        wagnum       month  target_month  target_day  kod_vrab_2_tr  \\\n0        15844  2022-08-01             0           0              0   \n1         2049  2022-08-01             0           0              0   \n2         7974  2022-08-01             0           0              0   \n3          931  2022-08-01             0           0              0   \n4        26853  2022-08-01             0           0              0   \n...        ...         ...           ...         ...            ...   \n237556   28985  2023-02-01             0           0              0   \n237557   24360  2023-02-01             0           0              2   \n237558   32421  2023-02-01             0           0              0   \n237559   32485  2023-02-01             0           0              0   \n237560    8061  2023-02-01             0           0              0   \n\n        kod_vrab_3_tr  kod_vrab_5_tr  neis1_kod_tr_max  neis2_kod_tr_max  \\\n0                   0              0                 0                 0   \n1                   0              0                 0                 0   \n2                   0              0                 0                 0   \n3                   0              0                 0                 0   \n4                   0              0                 0                 0   \n...               ...            ...               ...               ...   \n237556              1              0                 6                98   \n237557              1              1                 6                98   \n237558              0              0                 0                 0   \n237559              0              0                 0                 0   \n237560              0              0                 0                 0   \n\n        neis3_kod_tr_max  ...  diff_st_pr  _10d_pr_rems  _20d_pr_rems  \\\n0                      0  ...         0.0           0.0           0.0   \n1                      0  ...         0.0           0.0           0.0   \n2                      0  ...         0.0           0.0           0.0   \n3                      0  ...         0.0           0.0           0.0   \n4                      0  ...         0.0           0.0           0.0   \n...                  ...  ...         ...           ...           ...   \n237556                54  ...         1.0           0.0           0.0   \n237557                54  ...         1.0           0.0           0.0   \n237558                 0  ...         0.0           0.0           0.0   \n237559                 0  ...         0.0           0.0           0.0   \n237560                 0  ...         1.0           0.0           0.0   \n\n        _1m_pr_rems  _allm_pr_rems  _allm_tr_rems  last_month_for_cnt  \\\n0               0.0            0.0            0.0                 730   \n1               0.0            0.0            0.0                 730   \n2               0.0            0.0            0.0                 730   \n3               0.0            0.0            0.0                 730   \n4               0.0            0.0            0.0                 730   \n...             ...            ...            ...                 ...   \n237556          0.0            1.0            1.0                 150   \n237557          0.0            1.0            4.0                 139   \n237558          0.0            0.0            0.0                 910   \n237559          0.0            0.0            0.0                 910   \n237560          0.0            1.0            0.0                 132   \n\n        months_after_tr_rems  months_after_pr_rems  is_in_kti  \n0                      730.0                 730.0          0  \n1                      730.0                 730.0          0  \n2                      730.0                 730.0          0  \n3                      730.0                 730.0          0  \n4                      730.0                 730.0          0  \n...                      ...                   ...        ...  \n237556                   5.0                   5.0          0  \n237557                   4.0                   4.0          0  \n237558                 736.0                 736.0          0  \n237559                 736.0                 736.0          0  \n237560                 735.0                   4.0          0  \n\n[237561 rows x 30 columns]",
      "text/html": "<div>\n<style scoped>\n    .dataframe tbody tr th:only-of-type {\n        vertical-align: middle;\n    }\n\n    .dataframe tbody tr th {\n        vertical-align: top;\n    }\n\n    .dataframe thead th {\n        text-align: right;\n    }\n</style>\n<table border=\"1\" class=\"dataframe\">\n  <thead>\n    <tr style=\"text-align: right;\">\n      <th></th>\n      <th>wagnum</th>\n      <th>month</th>\n      <th>target_month</th>\n      <th>target_day</th>\n      <th>kod_vrab_2_tr</th>\n      <th>kod_vrab_3_tr</th>\n      <th>kod_vrab_5_tr</th>\n      <th>neis1_kod_tr_max</th>\n      <th>neis2_kod_tr_max</th>\n      <th>neis3_kod_tr_max</th>\n      <th>...</th>\n      <th>diff_st_pr</th>\n      <th>_10d_pr_rems</th>\n      <th>_20d_pr_rems</th>\n      <th>_1m_pr_rems</th>\n      <th>_allm_pr_rems</th>\n      <th>_allm_tr_rems</th>\n      <th>last_month_for_cnt</th>\n      <th>months_after_tr_rems</th>\n      <th>months_after_pr_rems</th>\n      <th>is_in_kti</th>\n    </tr>\n  </thead>\n  <tbody>\n    <tr>\n      <th>0</th>\n      <td>15844</td>\n      <td>2022-08-01</td>\n      <td>0</td>\n      <td>0</td>\n      <td>0</td>\n      <td>0</td>\n      <td>0</td>\n      <td>0</td>\n      <td>0</td>\n      <td>0</td>\n      <td>...</td>\n      <td>0.0</td>\n      <td>0.0</td>\n      <td>0.0</td>\n      <td>0.0</td>\n      <td>0.0</td>\n      <td>0.0</td>\n      <td>730</td>\n      <td>730.0</td>\n      <td>730.0</td>\n      <td>0</td>\n    </tr>\n    <tr>\n      <th>1</th>\n      <td>2049</td>\n      <td>2022-08-01</td>\n      <td>0</td>\n      <td>0</td>\n      <td>0</td>\n      <td>0</td>\n      <td>0</td>\n      <td>0</td>\n      <td>0</td>\n      <td>0</td>\n      <td>...</td>\n      <td>0.0</td>\n      <td>0.0</td>\n      <td>0.0</td>\n      <td>0.0</td>\n      <td>0.0</td>\n      <td>0.0</td>\n      <td>730</td>\n      <td>730.0</td>\n      <td>730.0</td>\n      <td>0</td>\n    </tr>\n    <tr>\n      <th>2</th>\n      <td>7974</td>\n      <td>2022-08-01</td>\n      <td>0</td>\n      <td>0</td>\n      <td>0</td>\n      <td>0</td>\n      <td>0</td>\n      <td>0</td>\n      <td>0</td>\n      <td>0</td>\n      <td>...</td>\n      <td>0.0</td>\n      <td>0.0</td>\n      <td>0.0</td>\n      <td>0.0</td>\n      <td>0.0</td>\n      <td>0.0</td>\n      <td>730</td>\n      <td>730.0</td>\n      <td>730.0</td>\n      <td>0</td>\n    </tr>\n    <tr>\n      <th>3</th>\n      <td>931</td>\n      <td>2022-08-01</td>\n      <td>0</td>\n      <td>0</td>\n      <td>0</td>\n      <td>0</td>\n      <td>0</td>\n      <td>0</td>\n      <td>0</td>\n      <td>0</td>\n      <td>...</td>\n      <td>0.0</td>\n      <td>0.0</td>\n      <td>0.0</td>\n      <td>0.0</td>\n      <td>0.0</td>\n      <td>0.0</td>\n      <td>730</td>\n      <td>730.0</td>\n      <td>730.0</td>\n      <td>0</td>\n    </tr>\n    <tr>\n      <th>4</th>\n      <td>26853</td>\n      <td>2022-08-01</td>\n      <td>0</td>\n      <td>0</td>\n      <td>0</td>\n      <td>0</td>\n      <td>0</td>\n      <td>0</td>\n      <td>0</td>\n      <td>0</td>\n      <td>...</td>\n      <td>0.0</td>\n      <td>0.0</td>\n      <td>0.0</td>\n      <td>0.0</td>\n      <td>0.0</td>\n      <td>0.0</td>\n      <td>730</td>\n      <td>730.0</td>\n      <td>730.0</td>\n      <td>0</td>\n    </tr>\n    <tr>\n      <th>...</th>\n      <td>...</td>\n      <td>...</td>\n      <td>...</td>\n      <td>...</td>\n      <td>...</td>\n      <td>...</td>\n      <td>...</td>\n      <td>...</td>\n      <td>...</td>\n      <td>...</td>\n      <td>...</td>\n      <td>...</td>\n      <td>...</td>\n      <td>...</td>\n      <td>...</td>\n      <td>...</td>\n      <td>...</td>\n      <td>...</td>\n      <td>...</td>\n      <td>...</td>\n      <td>...</td>\n    </tr>\n    <tr>\n      <th>237556</th>\n      <td>28985</td>\n      <td>2023-02-01</td>\n      <td>0</td>\n      <td>0</td>\n      <td>0</td>\n      <td>1</td>\n      <td>0</td>\n      <td>6</td>\n      <td>98</td>\n      <td>54</td>\n      <td>...</td>\n      <td>1.0</td>\n      <td>0.0</td>\n      <td>0.0</td>\n      <td>0.0</td>\n      <td>1.0</td>\n      <td>1.0</td>\n      <td>150</td>\n      <td>5.0</td>\n      <td>5.0</td>\n      <td>0</td>\n    </tr>\n    <tr>\n      <th>237557</th>\n      <td>24360</td>\n      <td>2023-02-01</td>\n      <td>0</td>\n      <td>0</td>\n      <td>2</td>\n      <td>1</td>\n      <td>1</td>\n      <td>6</td>\n      <td>98</td>\n      <td>54</td>\n      <td>...</td>\n      <td>1.0</td>\n      <td>0.0</td>\n      <td>0.0</td>\n      <td>0.0</td>\n      <td>1.0</td>\n      <td>4.0</td>\n      <td>139</td>\n      <td>4.0</td>\n      <td>4.0</td>\n      <td>0</td>\n    </tr>\n    <tr>\n      <th>237558</th>\n      <td>32421</td>\n      <td>2023-02-01</td>\n      <td>0</td>\n      <td>0</td>\n      <td>0</td>\n      <td>0</td>\n      <td>0</td>\n      <td>0</td>\n      <td>0</td>\n      <td>0</td>\n      <td>...</td>\n      <td>0.0</td>\n      <td>0.0</td>\n      <td>0.0</td>\n      <td>0.0</td>\n      <td>0.0</td>\n      <td>0.0</td>\n      <td>910</td>\n      <td>736.0</td>\n      <td>736.0</td>\n      <td>0</td>\n    </tr>\n    <tr>\n      <th>237559</th>\n      <td>32485</td>\n      <td>2023-02-01</td>\n      <td>0</td>\n      <td>0</td>\n      <td>0</td>\n      <td>0</td>\n      <td>0</td>\n      <td>0</td>\n      <td>0</td>\n      <td>0</td>\n      <td>...</td>\n      <td>0.0</td>\n      <td>0.0</td>\n      <td>0.0</td>\n      <td>0.0</td>\n      <td>0.0</td>\n      <td>0.0</td>\n      <td>910</td>\n      <td>736.0</td>\n      <td>736.0</td>\n      <td>0</td>\n    </tr>\n    <tr>\n      <th>237560</th>\n      <td>8061</td>\n      <td>2023-02-01</td>\n      <td>0</td>\n      <td>0</td>\n      <td>0</td>\n      <td>0</td>\n      <td>0</td>\n      <td>0</td>\n      <td>0</td>\n      <td>0</td>\n      <td>...</td>\n      <td>1.0</td>\n      <td>0.0</td>\n      <td>0.0</td>\n      <td>0.0</td>\n      <td>1.0</td>\n      <td>0.0</td>\n      <td>132</td>\n      <td>735.0</td>\n      <td>4.0</td>\n      <td>0</td>\n    </tr>\n  </tbody>\n</table>\n<p>237561 rows × 30 columns</p>\n</div>"
     },
     "execution_count": 62,
     "metadata": {},
     "output_type": "execute_result"
    }
   ],
   "source": [
    "end_y_train"
   ],
   "metadata": {
    "collapsed": false,
    "ExecuteTime": {
     "end_time": "2023-11-12T04:49:32.780775879Z",
     "start_time": "2023-11-12T04:49:32.708727641Z"
    }
   }
  },
  {
   "cell_type": "code",
   "execution_count": 63,
   "outputs": [],
   "source": [
    "end_y_test = y_all[y_all.month == '2023-03-01']"
   ],
   "metadata": {
    "collapsed": false,
    "ExecuteTime": {
     "end_time": "2023-11-12T04:49:36.695944529Z",
     "start_time": "2023-11-12T04:49:36.690735001Z"
    }
   }
  },
  {
   "cell_type": "code",
   "execution_count": 64,
   "outputs": [
    {
     "data": {
      "text/plain": "        wagnum       month  target_month  target_day  kod_vrab_2_tr  \\\n237561   33361  2023-03-01             0           0              3   \n237562   33364  2023-03-01             0           0              0   \n237563   33366  2023-03-01             0           0              0   \n237564   33358  2023-03-01             0           0              0   \n237565   33349  2023-03-01             0           0              0   \n...        ...         ...           ...         ...            ...   \n271263   17621  2023-03-01             0           0              0   \n271264   25045  2023-03-01             0           0              0   \n271265   27156  2023-03-01             0           0              2   \n271266   21361  2023-03-01             0           0              0   \n271267    8061  2023-03-01             0           0              0   \n\n        kod_vrab_3_tr  kod_vrab_5_tr  neis1_kod_tr_max  neis2_kod_tr_max  \\\n237561              0              0               102                98   \n237562              1              1                 2                98   \n237563              2              0                 2                98   \n237564              2              0                 6                98   \n237565              0              0                 0                 0   \n...               ...            ...               ...               ...   \n271263              0              0                 0                 0   \n271264              0              0                 0                 0   \n271265              2              0                95                98   \n271266              0              0                 0                 0   \n271267              0              0                 0                 0   \n\n        neis3_kod_tr_max  ...  diff_st_pr  _10d_pr_rems  _20d_pr_rems  \\\n237561                54  ...         1.0           0.0           0.0   \n237562                54  ...         1.0           0.0           0.0   \n237563                54  ...         1.0           0.0           0.0   \n237564                54  ...         0.0           0.0           0.0   \n237565                 0  ...         1.0           0.0           0.0   \n...                  ...  ...         ...           ...           ...   \n271263                 0  ...         0.0           0.0           0.0   \n271264                 0  ...         1.0           0.0           0.0   \n271265                54  ...         1.0           0.0           0.0   \n271266                 0  ...         1.0           0.0           0.0   \n271267                 0  ...         1.0           0.0           0.0   \n\n        _1m_pr_rems  _allm_pr_rems  _allm_tr_rems  last_month_for_cnt  \\\n237561          0.0            1.0            3.0                 100   \n237562          0.0            1.0            2.0                  83   \n237563          0.0            1.0            2.0                  87   \n237564          0.0            0.0            2.0                 940   \n237565          0.0            1.0            0.0                 145   \n...             ...            ...            ...                 ...   \n271263          0.0            0.0            0.0                 940   \n271264          0.0            1.0            0.0                 163   \n271265          0.0            1.0            4.0                 133   \n271266          0.0            1.0            0.0                 177   \n271267          0.0            1.0            0.0                 162   \n\n        months_after_tr_rems  months_after_pr_rems  is_in_kti  \n237561                   4.0                   3.0          1  \n237562                   2.0                   2.0          1  \n237563                   6.0                   2.0          1  \n237564                   6.0                 737.0          1  \n237565                 737.0                   4.0          0  \n...                      ...                   ...        ...  \n271263                 737.0                 737.0          0  \n271264                 737.0                   5.0          0  \n271265                   5.0                   4.0          0  \n271266                 737.0                   5.0          1  \n271267                 736.0                   5.0          0  \n\n[33707 rows x 30 columns]",
      "text/html": "<div>\n<style scoped>\n    .dataframe tbody tr th:only-of-type {\n        vertical-align: middle;\n    }\n\n    .dataframe tbody tr th {\n        vertical-align: top;\n    }\n\n    .dataframe thead th {\n        text-align: right;\n    }\n</style>\n<table border=\"1\" class=\"dataframe\">\n  <thead>\n    <tr style=\"text-align: right;\">\n      <th></th>\n      <th>wagnum</th>\n      <th>month</th>\n      <th>target_month</th>\n      <th>target_day</th>\n      <th>kod_vrab_2_tr</th>\n      <th>kod_vrab_3_tr</th>\n      <th>kod_vrab_5_tr</th>\n      <th>neis1_kod_tr_max</th>\n      <th>neis2_kod_tr_max</th>\n      <th>neis3_kod_tr_max</th>\n      <th>...</th>\n      <th>diff_st_pr</th>\n      <th>_10d_pr_rems</th>\n      <th>_20d_pr_rems</th>\n      <th>_1m_pr_rems</th>\n      <th>_allm_pr_rems</th>\n      <th>_allm_tr_rems</th>\n      <th>last_month_for_cnt</th>\n      <th>months_after_tr_rems</th>\n      <th>months_after_pr_rems</th>\n      <th>is_in_kti</th>\n    </tr>\n  </thead>\n  <tbody>\n    <tr>\n      <th>237561</th>\n      <td>33361</td>\n      <td>2023-03-01</td>\n      <td>0</td>\n      <td>0</td>\n      <td>3</td>\n      <td>0</td>\n      <td>0</td>\n      <td>102</td>\n      <td>98</td>\n      <td>54</td>\n      <td>...</td>\n      <td>1.0</td>\n      <td>0.0</td>\n      <td>0.0</td>\n      <td>0.0</td>\n      <td>1.0</td>\n      <td>3.0</td>\n      <td>100</td>\n      <td>4.0</td>\n      <td>3.0</td>\n      <td>1</td>\n    </tr>\n    <tr>\n      <th>237562</th>\n      <td>33364</td>\n      <td>2023-03-01</td>\n      <td>0</td>\n      <td>0</td>\n      <td>0</td>\n      <td>1</td>\n      <td>1</td>\n      <td>2</td>\n      <td>98</td>\n      <td>54</td>\n      <td>...</td>\n      <td>1.0</td>\n      <td>0.0</td>\n      <td>0.0</td>\n      <td>0.0</td>\n      <td>1.0</td>\n      <td>2.0</td>\n      <td>83</td>\n      <td>2.0</td>\n      <td>2.0</td>\n      <td>1</td>\n    </tr>\n    <tr>\n      <th>237563</th>\n      <td>33366</td>\n      <td>2023-03-01</td>\n      <td>0</td>\n      <td>0</td>\n      <td>0</td>\n      <td>2</td>\n      <td>0</td>\n      <td>2</td>\n      <td>98</td>\n      <td>54</td>\n      <td>...</td>\n      <td>1.0</td>\n      <td>0.0</td>\n      <td>0.0</td>\n      <td>0.0</td>\n      <td>1.0</td>\n      <td>2.0</td>\n      <td>87</td>\n      <td>6.0</td>\n      <td>2.0</td>\n      <td>1</td>\n    </tr>\n    <tr>\n      <th>237564</th>\n      <td>33358</td>\n      <td>2023-03-01</td>\n      <td>0</td>\n      <td>0</td>\n      <td>0</td>\n      <td>2</td>\n      <td>0</td>\n      <td>6</td>\n      <td>98</td>\n      <td>54</td>\n      <td>...</td>\n      <td>0.0</td>\n      <td>0.0</td>\n      <td>0.0</td>\n      <td>0.0</td>\n      <td>0.0</td>\n      <td>2.0</td>\n      <td>940</td>\n      <td>6.0</td>\n      <td>737.0</td>\n      <td>1</td>\n    </tr>\n    <tr>\n      <th>237565</th>\n      <td>33349</td>\n      <td>2023-03-01</td>\n      <td>0</td>\n      <td>0</td>\n      <td>0</td>\n      <td>0</td>\n      <td>0</td>\n      <td>0</td>\n      <td>0</td>\n      <td>0</td>\n      <td>...</td>\n      <td>1.0</td>\n      <td>0.0</td>\n      <td>0.0</td>\n      <td>0.0</td>\n      <td>1.0</td>\n      <td>0.0</td>\n      <td>145</td>\n      <td>737.0</td>\n      <td>4.0</td>\n      <td>0</td>\n    </tr>\n    <tr>\n      <th>...</th>\n      <td>...</td>\n      <td>...</td>\n      <td>...</td>\n      <td>...</td>\n      <td>...</td>\n      <td>...</td>\n      <td>...</td>\n      <td>...</td>\n      <td>...</td>\n      <td>...</td>\n      <td>...</td>\n      <td>...</td>\n      <td>...</td>\n      <td>...</td>\n      <td>...</td>\n      <td>...</td>\n      <td>...</td>\n      <td>...</td>\n      <td>...</td>\n      <td>...</td>\n      <td>...</td>\n    </tr>\n    <tr>\n      <th>271263</th>\n      <td>17621</td>\n      <td>2023-03-01</td>\n      <td>0</td>\n      <td>0</td>\n      <td>0</td>\n      <td>0</td>\n      <td>0</td>\n      <td>0</td>\n      <td>0</td>\n      <td>0</td>\n      <td>...</td>\n      <td>0.0</td>\n      <td>0.0</td>\n      <td>0.0</td>\n      <td>0.0</td>\n      <td>0.0</td>\n      <td>0.0</td>\n      <td>940</td>\n      <td>737.0</td>\n      <td>737.0</td>\n      <td>0</td>\n    </tr>\n    <tr>\n      <th>271264</th>\n      <td>25045</td>\n      <td>2023-03-01</td>\n      <td>0</td>\n      <td>0</td>\n      <td>0</td>\n      <td>0</td>\n      <td>0</td>\n      <td>0</td>\n      <td>0</td>\n      <td>0</td>\n      <td>...</td>\n      <td>1.0</td>\n      <td>0.0</td>\n      <td>0.0</td>\n      <td>0.0</td>\n      <td>1.0</td>\n      <td>0.0</td>\n      <td>163</td>\n      <td>737.0</td>\n      <td>5.0</td>\n      <td>0</td>\n    </tr>\n    <tr>\n      <th>271265</th>\n      <td>27156</td>\n      <td>2023-03-01</td>\n      <td>0</td>\n      <td>0</td>\n      <td>2</td>\n      <td>2</td>\n      <td>0</td>\n      <td>95</td>\n      <td>98</td>\n      <td>54</td>\n      <td>...</td>\n      <td>1.0</td>\n      <td>0.0</td>\n      <td>0.0</td>\n      <td>0.0</td>\n      <td>1.0</td>\n      <td>4.0</td>\n      <td>133</td>\n      <td>5.0</td>\n      <td>4.0</td>\n      <td>0</td>\n    </tr>\n    <tr>\n      <th>271266</th>\n      <td>21361</td>\n      <td>2023-03-01</td>\n      <td>0</td>\n      <td>0</td>\n      <td>0</td>\n      <td>0</td>\n      <td>0</td>\n      <td>0</td>\n      <td>0</td>\n      <td>0</td>\n      <td>...</td>\n      <td>1.0</td>\n      <td>0.0</td>\n      <td>0.0</td>\n      <td>0.0</td>\n      <td>1.0</td>\n      <td>0.0</td>\n      <td>177</td>\n      <td>737.0</td>\n      <td>5.0</td>\n      <td>1</td>\n    </tr>\n    <tr>\n      <th>271267</th>\n      <td>8061</td>\n      <td>2023-03-01</td>\n      <td>0</td>\n      <td>0</td>\n      <td>0</td>\n      <td>0</td>\n      <td>0</td>\n      <td>0</td>\n      <td>0</td>\n      <td>0</td>\n      <td>...</td>\n      <td>1.0</td>\n      <td>0.0</td>\n      <td>0.0</td>\n      <td>0.0</td>\n      <td>1.0</td>\n      <td>0.0</td>\n      <td>162</td>\n      <td>736.0</td>\n      <td>5.0</td>\n      <td>0</td>\n    </tr>\n  </tbody>\n</table>\n<p>33707 rows × 30 columns</p>\n</div>"
     },
     "execution_count": 64,
     "metadata": {},
     "output_type": "execute_result"
    }
   ],
   "source": [
    "end_y_test"
   ],
   "metadata": {
    "collapsed": false,
    "ExecuteTime": {
     "end_time": "2023-11-12T04:49:37.904197211Z",
     "start_time": "2023-11-12T04:49:37.877733658Z"
    }
   }
  },
  {
   "cell_type": "code",
   "execution_count": 65,
   "outputs": [],
   "source": [
    "train = pd.read_csv('train/data/train.csv')\n",
    "test = pd.read_csv('train/data/test.csv')"
   ],
   "metadata": {
    "collapsed": false,
    "ExecuteTime": {
     "end_time": "2023-11-12T04:50:16.865122666Z",
     "start_time": "2023-11-12T04:50:14.106827851Z"
    }
   }
  },
  {
   "cell_type": "code",
   "execution_count": 66,
   "outputs": [
    {
     "data": {
      "text/plain": "        wagnum       month  target_month  target_day  10d_nasip_mean  \\\n0            0  2022-09-01             0           0             0.0   \n1            1  2022-09-01             0           0             0.0   \n2            2  2022-09-01             0           0             0.8   \n3            3  2022-09-01             0           0             0.0   \n4            4  2022-09-01             0           0             0.0   \n...        ...         ...           ...         ...             ...   \n203605   33972  2023-02-01             0           0             0.6   \n203606   33973  2023-02-01             0           0             0.8   \n203607   33974  2023-02-01             0           0             0.0   \n203608   33975  2023-02-01             0           0             0.3   \n203609   33976  2023-02-01             0           0             1.0   \n\n        5d_avg_distance_min  10d_isload_mean  60d_opor_station_sign_mean  \\\n0               1980.115725              0.0                         0.0   \n1               2138.510870              1.0                         0.0   \n2               1920.025345              0.7                         0.0   \n3               1920.025345              0.0                         0.0   \n4               1917.051546              0.0                         0.0   \n...                     ...              ...                         ...   \n203605          1647.438326              0.6                         0.0   \n203606          1697.516729              0.5                         0.0   \n203607          1962.747541              0.0                         0.0   \n203608          2919.514286              0.3                         0.0   \n203609          1919.408790              0.0                         0.0   \n\n        60d_skoroport_mean  60d_avg_distance_max  ...  kod_vrab_1_pr  \\\n0                      0.0           2540.472727  ...              0   \n1                      0.0           2540.472727  ...              0   \n2                      0.0           2540.472727  ...              0   \n3                      0.0           2540.472727  ...              0   \n4                      0.0           2540.472727  ...              0   \n...                    ...                   ...  ...            ...   \n203605                 0.0           2844.363636  ...              0   \n203606                 0.0           2118.214286  ...              0   \n203607                 0.0           2930.657097  ...              0   \n203608                 0.0           2919.514286  ...              0   \n203609                 0.0           2345.652265  ...              0   \n\n        diff_road_pr  diff_st_pr  _10d_pr_rems  _20d_pr_rems  _1m_pr_rems  \\\n0                0.0         0.0           0.0           0.0          0.0   \n1                0.0         0.0           0.0           0.0          0.0   \n2                0.0         0.0           0.0           0.0          0.0   \n3                0.0         0.0           0.0           0.0          0.0   \n4                0.0         0.0           0.0           0.0          0.0   \n...              ...         ...           ...           ...          ...   \n203605           0.0         0.0           0.0           0.0          0.0   \n203606           0.0         0.0           0.0           0.0          0.0   \n203607           0.0         0.0           0.0           0.0          0.0   \n203608           0.0         0.0           0.0           0.0          0.0   \n203609           0.0         0.0           0.0           0.0          0.0   \n\n        rem_dist_pr_sum  rem_dist_pr_mean  _allm_pr_rems  _allm_tr_rems  \n0                     0               0.0            0.0            0.0  \n1                     0               0.0            0.0            0.0  \n2                     0               0.0            0.0            0.0  \n3                     0               0.0            0.0            2.0  \n4                     0               0.0            0.0            0.0  \n...                 ...               ...            ...            ...  \n203605                0               0.0            1.0            0.0  \n203606                0               0.0            1.0            2.0  \n203607                0               0.0            1.0            0.0  \n203608                0               0.0            1.0            2.0  \n203609                0               0.0            1.0            2.0  \n\n[203610 rows x 160 columns]",
      "text/html": "<div>\n<style scoped>\n    .dataframe tbody tr th:only-of-type {\n        vertical-align: middle;\n    }\n\n    .dataframe tbody tr th {\n        vertical-align: top;\n    }\n\n    .dataframe thead th {\n        text-align: right;\n    }\n</style>\n<table border=\"1\" class=\"dataframe\">\n  <thead>\n    <tr style=\"text-align: right;\">\n      <th></th>\n      <th>wagnum</th>\n      <th>month</th>\n      <th>target_month</th>\n      <th>target_day</th>\n      <th>10d_nasip_mean</th>\n      <th>5d_avg_distance_min</th>\n      <th>10d_isload_mean</th>\n      <th>60d_opor_station_sign_mean</th>\n      <th>60d_skoroport_mean</th>\n      <th>60d_avg_distance_max</th>\n      <th>...</th>\n      <th>kod_vrab_1_pr</th>\n      <th>diff_road_pr</th>\n      <th>diff_st_pr</th>\n      <th>_10d_pr_rems</th>\n      <th>_20d_pr_rems</th>\n      <th>_1m_pr_rems</th>\n      <th>rem_dist_pr_sum</th>\n      <th>rem_dist_pr_mean</th>\n      <th>_allm_pr_rems</th>\n      <th>_allm_tr_rems</th>\n    </tr>\n  </thead>\n  <tbody>\n    <tr>\n      <th>0</th>\n      <td>0</td>\n      <td>2022-09-01</td>\n      <td>0</td>\n      <td>0</td>\n      <td>0.0</td>\n      <td>1980.115725</td>\n      <td>0.0</td>\n      <td>0.0</td>\n      <td>0.0</td>\n      <td>2540.472727</td>\n      <td>...</td>\n      <td>0</td>\n      <td>0.0</td>\n      <td>0.0</td>\n      <td>0.0</td>\n      <td>0.0</td>\n      <td>0.0</td>\n      <td>0</td>\n      <td>0.0</td>\n      <td>0.0</td>\n      <td>0.0</td>\n    </tr>\n    <tr>\n      <th>1</th>\n      <td>1</td>\n      <td>2022-09-01</td>\n      <td>0</td>\n      <td>0</td>\n      <td>0.0</td>\n      <td>2138.510870</td>\n      <td>1.0</td>\n      <td>0.0</td>\n      <td>0.0</td>\n      <td>2540.472727</td>\n      <td>...</td>\n      <td>0</td>\n      <td>0.0</td>\n      <td>0.0</td>\n      <td>0.0</td>\n      <td>0.0</td>\n      <td>0.0</td>\n      <td>0</td>\n      <td>0.0</td>\n      <td>0.0</td>\n      <td>0.0</td>\n    </tr>\n    <tr>\n      <th>2</th>\n      <td>2</td>\n      <td>2022-09-01</td>\n      <td>0</td>\n      <td>0</td>\n      <td>0.8</td>\n      <td>1920.025345</td>\n      <td>0.7</td>\n      <td>0.0</td>\n      <td>0.0</td>\n      <td>2540.472727</td>\n      <td>...</td>\n      <td>0</td>\n      <td>0.0</td>\n      <td>0.0</td>\n      <td>0.0</td>\n      <td>0.0</td>\n      <td>0.0</td>\n      <td>0</td>\n      <td>0.0</td>\n      <td>0.0</td>\n      <td>0.0</td>\n    </tr>\n    <tr>\n      <th>3</th>\n      <td>3</td>\n      <td>2022-09-01</td>\n      <td>0</td>\n      <td>0</td>\n      <td>0.0</td>\n      <td>1920.025345</td>\n      <td>0.0</td>\n      <td>0.0</td>\n      <td>0.0</td>\n      <td>2540.472727</td>\n      <td>...</td>\n      <td>0</td>\n      <td>0.0</td>\n      <td>0.0</td>\n      <td>0.0</td>\n      <td>0.0</td>\n      <td>0.0</td>\n      <td>0</td>\n      <td>0.0</td>\n      <td>0.0</td>\n      <td>2.0</td>\n    </tr>\n    <tr>\n      <th>4</th>\n      <td>4</td>\n      <td>2022-09-01</td>\n      <td>0</td>\n      <td>0</td>\n      <td>0.0</td>\n      <td>1917.051546</td>\n      <td>0.0</td>\n      <td>0.0</td>\n      <td>0.0</td>\n      <td>2540.472727</td>\n      <td>...</td>\n      <td>0</td>\n      <td>0.0</td>\n      <td>0.0</td>\n      <td>0.0</td>\n      <td>0.0</td>\n      <td>0.0</td>\n      <td>0</td>\n      <td>0.0</td>\n      <td>0.0</td>\n      <td>0.0</td>\n    </tr>\n    <tr>\n      <th>...</th>\n      <td>...</td>\n      <td>...</td>\n      <td>...</td>\n      <td>...</td>\n      <td>...</td>\n      <td>...</td>\n      <td>...</td>\n      <td>...</td>\n      <td>...</td>\n      <td>...</td>\n      <td>...</td>\n      <td>...</td>\n      <td>...</td>\n      <td>...</td>\n      <td>...</td>\n      <td>...</td>\n      <td>...</td>\n      <td>...</td>\n      <td>...</td>\n      <td>...</td>\n      <td>...</td>\n    </tr>\n    <tr>\n      <th>203605</th>\n      <td>33972</td>\n      <td>2023-02-01</td>\n      <td>0</td>\n      <td>0</td>\n      <td>0.6</td>\n      <td>1647.438326</td>\n      <td>0.6</td>\n      <td>0.0</td>\n      <td>0.0</td>\n      <td>2844.363636</td>\n      <td>...</td>\n      <td>0</td>\n      <td>0.0</td>\n      <td>0.0</td>\n      <td>0.0</td>\n      <td>0.0</td>\n      <td>0.0</td>\n      <td>0</td>\n      <td>0.0</td>\n      <td>1.0</td>\n      <td>0.0</td>\n    </tr>\n    <tr>\n      <th>203606</th>\n      <td>33973</td>\n      <td>2023-02-01</td>\n      <td>0</td>\n      <td>0</td>\n      <td>0.8</td>\n      <td>1697.516729</td>\n      <td>0.5</td>\n      <td>0.0</td>\n      <td>0.0</td>\n      <td>2118.214286</td>\n      <td>...</td>\n      <td>0</td>\n      <td>0.0</td>\n      <td>0.0</td>\n      <td>0.0</td>\n      <td>0.0</td>\n      <td>0.0</td>\n      <td>0</td>\n      <td>0.0</td>\n      <td>1.0</td>\n      <td>2.0</td>\n    </tr>\n    <tr>\n      <th>203607</th>\n      <td>33974</td>\n      <td>2023-02-01</td>\n      <td>0</td>\n      <td>0</td>\n      <td>0.0</td>\n      <td>1962.747541</td>\n      <td>0.0</td>\n      <td>0.0</td>\n      <td>0.0</td>\n      <td>2930.657097</td>\n      <td>...</td>\n      <td>0</td>\n      <td>0.0</td>\n      <td>0.0</td>\n      <td>0.0</td>\n      <td>0.0</td>\n      <td>0.0</td>\n      <td>0</td>\n      <td>0.0</td>\n      <td>1.0</td>\n      <td>0.0</td>\n    </tr>\n    <tr>\n      <th>203608</th>\n      <td>33975</td>\n      <td>2023-02-01</td>\n      <td>0</td>\n      <td>0</td>\n      <td>0.3</td>\n      <td>2919.514286</td>\n      <td>0.3</td>\n      <td>0.0</td>\n      <td>0.0</td>\n      <td>2919.514286</td>\n      <td>...</td>\n      <td>0</td>\n      <td>0.0</td>\n      <td>0.0</td>\n      <td>0.0</td>\n      <td>0.0</td>\n      <td>0.0</td>\n      <td>0</td>\n      <td>0.0</td>\n      <td>1.0</td>\n      <td>2.0</td>\n    </tr>\n    <tr>\n      <th>203609</th>\n      <td>33976</td>\n      <td>2023-02-01</td>\n      <td>0</td>\n      <td>0</td>\n      <td>1.0</td>\n      <td>1919.408790</td>\n      <td>0.0</td>\n      <td>0.0</td>\n      <td>0.0</td>\n      <td>2345.652265</td>\n      <td>...</td>\n      <td>0</td>\n      <td>0.0</td>\n      <td>0.0</td>\n      <td>0.0</td>\n      <td>0.0</td>\n      <td>0.0</td>\n      <td>0</td>\n      <td>0.0</td>\n      <td>1.0</td>\n      <td>2.0</td>\n    </tr>\n  </tbody>\n</table>\n<p>203610 rows × 160 columns</p>\n</div>"
     },
     "execution_count": 66,
     "metadata": {},
     "output_type": "execute_result"
    }
   ],
   "source": [
    "train"
   ],
   "metadata": {
    "collapsed": false,
    "ExecuteTime": {
     "end_time": "2023-11-12T04:50:40.002463319Z",
     "start_time": "2023-11-12T04:50:39.957265439Z"
    }
   }
  },
  {
   "cell_type": "code",
   "execution_count": 12,
   "outputs": [],
   "source": [
    "train_new = train_new.merge(train, on=['wagnum', 'month'])\n",
    "test_new = test_new.merge(test, on=['wagnum', 'month'])"
   ],
   "metadata": {
    "collapsed": false,
    "ExecuteTime": {
     "end_time": "2023-11-12T02:03:39.447754308Z",
     "start_time": "2023-11-12T02:03:37.972517874Z"
    }
   }
  },
  {
   "cell_type": "code",
   "execution_count": 69,
   "outputs": [],
   "source": [
    "features = [\n",
    "     'kod_vrab_2_tr',\n",
    "     'kod_vrab_3_tr', 'kod_vrab_5_tr', 'neis1_kod_0_tr', 'neis1_kod_2_tr',\n",
    "     'neis1_kod_95_tr', 'neis1_kod_6_tr', 'neis1_kod_88_tr',\n",
    "     'neis1_kod_tr_max', 'neis2_kod_98_tr', 'neis2_kod_95_tr',\n",
    "     'neis2_kod_96_tr', 'neis2_kod_62_tr', 'neis2_kod_tr_max',\n",
    "     'neis3_kod_54_tr', 'neis3_kod_51_tr', 'neis3_kod_tr_max',\n",
    "     'mod1_kod_tr_min', 'mod1_kod_tr_max', 'mod2_kod_tr_min',\n",
    "     'mod2_kod_tr_max', 'gr_probeg_tr_max', 'gr_probeg_tr_mean',\n",
    "     'gr_probeg_tr_min', 'por_probeg_tr_max', 'por_probeg_tr_mean',\n",
    "     'por_probeg_tr_min', '_1m_tr_rems', 'kod_vrab_0_pr', 'kod_vrab_1_pr',\n",
    "     'diff_road_pr', 'diff_st_pr', '_10d_pr_rems', '_20d_pr_rems',\n",
    "     '_1m_pr_rems', 'rem_dist_pr_sum', 'rem_dist_pr_mean', '_allm_pr_rems',\n",
    "     '_allm_tr_rems'\n",
    "]"
   ],
   "metadata": {
    "collapsed": false,
    "ExecuteTime": {
     "end_time": "2023-11-12T04:52:08.128480577Z",
     "start_time": "2023-11-12T04:52:08.120834824Z"
    }
   }
  },
  {
   "cell_type": "code",
   "execution_count": 11,
   "outputs": [],
   "source": [
    "train = train[features]\n",
    "test = test[features]"
   ],
   "metadata": {
    "collapsed": false,
    "ExecuteTime": {
     "end_time": "2023-11-12T02:03:08.024462051Z",
     "start_time": "2023-11-12T02:03:07.981340979Z"
    }
   }
  },
  {
   "cell_type": "code",
   "execution_count": 8,
   "outputs": [],
   "source": [
    "train_new = pd.read_csv('train/data/train.csv')\n",
    "test_new = pd.read_csv('train/data/test.csv')"
   ],
   "metadata": {
    "collapsed": false,
    "ExecuteTime": {
     "end_time": "2023-11-12T02:01:11.659538062Z",
     "start_time": "2023-11-12T02:01:04.645882470Z"
    }
   }
  },
  {
   "cell_type": "code",
   "execution_count": 70,
   "outputs": [],
   "source": [
    "train = train.drop(columns=features)\n",
    "test = test.drop(columns=features)"
   ],
   "metadata": {
    "collapsed": false,
    "ExecuteTime": {
     "end_time": "2023-11-12T04:52:10.455325570Z",
     "start_time": "2023-11-12T04:52:10.421931112Z"
    }
   }
  },
  {
   "cell_type": "code",
   "execution_count": 73,
   "outputs": [],
   "source": [
    "train = train.merge(end_y_train.drop(columns=['target_month', 'target_day']), on=['wagnum', 'month'])"
   ],
   "metadata": {
    "collapsed": false,
    "ExecuteTime": {
     "end_time": "2023-11-12T04:53:34.455003289Z",
     "start_time": "2023-11-12T04:53:33.923370517Z"
    }
   }
  },
  {
   "cell_type": "code",
   "execution_count": 74,
   "outputs": [],
   "source": [
    "test = test.merge(end_y_test.drop(columns=['target_month', 'target_day']), on=['wagnum', 'month'])"
   ],
   "metadata": {
    "collapsed": false,
    "ExecuteTime": {
     "end_time": "2023-11-12T04:53:52.485588552Z",
     "start_time": "2023-11-12T04:53:52.440667366Z"
    }
   }
  },
  {
   "cell_type": "code",
   "execution_count": 77,
   "outputs": [
    {
     "data": {
      "text/plain": "        wagnum       month  target_month  target_day  10d_nasip_mean  \\\n0            0  2022-09-01             0           0             0.0   \n1            1  2022-09-01             0           0             0.0   \n2            2  2022-09-01             0           0             0.8   \n3            3  2022-09-01             0           0             0.0   \n4            4  2022-09-01             0           0             0.0   \n...        ...         ...           ...         ...             ...   \n203605   33972  2023-02-01             0           0             0.6   \n203606   33973  2023-02-01             0           0             0.8   \n203607   33974  2023-02-01             0           0             0.0   \n203608   33975  2023-02-01             0           0             0.3   \n203609   33976  2023-02-01             0           0             1.0   \n\n        5d_avg_distance_min  10d_isload_mean  60d_opor_station_sign_mean  \\\n0               1980.115725              0.0                         0.0   \n1               2138.510870              1.0                         0.0   \n2               1920.025345              0.7                         0.0   \n3               1920.025345              0.0                         0.0   \n4               1917.051546              0.0                         0.0   \n...                     ...              ...                         ...   \n203605          1647.438326              0.6                         0.0   \n203606          1697.516729              0.5                         0.0   \n203607          1962.747541              0.0                         0.0   \n203608          2919.514286              0.3                         0.0   \n203609          1919.408790              0.0                         0.0   \n\n        60d_skoroport_mean  60d_avg_distance_max  ...  diff_st_pr  \\\n0                      0.0           2540.472727  ...         0.0   \n1                      0.0           2540.472727  ...         0.0   \n2                      0.0           2540.472727  ...         0.0   \n3                      0.0           2540.472727  ...         0.0   \n4                      0.0           2540.472727  ...         0.0   \n...                    ...                   ...  ...         ...   \n203605                 0.0           2844.363636  ...         1.0   \n203606                 0.0           2118.214286  ...         0.0   \n203607                 0.0           2930.657097  ...         1.0   \n203608                 0.0           2919.514286  ...         1.0   \n203609                 0.0           2345.652265  ...         1.0   \n\n        _10d_pr_rems  _20d_pr_rems  _1m_pr_rems  _allm_pr_rems  _allm_tr_rems  \\\n0                0.0           0.0          0.0            0.0            0.0   \n1                0.0           0.0          0.0            0.0            0.0   \n2                0.0           0.0          0.0            0.0            0.0   \n3                0.0           0.0          0.0            0.0            2.0   \n4                0.0           0.0          0.0            0.0            0.0   \n...              ...           ...          ...            ...            ...   \n203605           0.0           0.0          0.0            1.0            0.0   \n203606           0.0           0.0          0.0            1.0            2.0   \n203607           0.0           0.0          0.0            1.0            0.0   \n203608           0.0           0.0          0.0            1.0            2.0   \n203609           0.0           0.0          0.0            1.0            2.0   \n\n        last_month_for_cnt  months_after_tr_rems  months_after_pr_rems  \\\n0                      760                 731.0                 731.0   \n1                      760                 731.0                 731.0   \n2                      760                 731.0                 731.0   \n3                      760                   0.0                 731.0   \n4                      760                 731.0                 731.0   \n...                    ...                   ...                   ...   \n203605                  63                 736.0                   2.0   \n203606                 137                   5.0                   4.0   \n203607                  66                 736.0                   2.0   \n203608                 113                   5.0                   3.0   \n203609                  93                   0.0                   3.0   \n\n        is_in_kti  \n0               1  \n1               0  \n2               0  \n3               0  \n4               0  \n...           ...  \n203605          0  \n203606          1  \n203607          0  \n203608          1  \n203609          0  \n\n[203610 rows x 147 columns]",
      "text/html": "<div>\n<style scoped>\n    .dataframe tbody tr th:only-of-type {\n        vertical-align: middle;\n    }\n\n    .dataframe tbody tr th {\n        vertical-align: top;\n    }\n\n    .dataframe thead th {\n        text-align: right;\n    }\n</style>\n<table border=\"1\" class=\"dataframe\">\n  <thead>\n    <tr style=\"text-align: right;\">\n      <th></th>\n      <th>wagnum</th>\n      <th>month</th>\n      <th>target_month</th>\n      <th>target_day</th>\n      <th>10d_nasip_mean</th>\n      <th>5d_avg_distance_min</th>\n      <th>10d_isload_mean</th>\n      <th>60d_opor_station_sign_mean</th>\n      <th>60d_skoroport_mean</th>\n      <th>60d_avg_distance_max</th>\n      <th>...</th>\n      <th>diff_st_pr</th>\n      <th>_10d_pr_rems</th>\n      <th>_20d_pr_rems</th>\n      <th>_1m_pr_rems</th>\n      <th>_allm_pr_rems</th>\n      <th>_allm_tr_rems</th>\n      <th>last_month_for_cnt</th>\n      <th>months_after_tr_rems</th>\n      <th>months_after_pr_rems</th>\n      <th>is_in_kti</th>\n    </tr>\n  </thead>\n  <tbody>\n    <tr>\n      <th>0</th>\n      <td>0</td>\n      <td>2022-09-01</td>\n      <td>0</td>\n      <td>0</td>\n      <td>0.0</td>\n      <td>1980.115725</td>\n      <td>0.0</td>\n      <td>0.0</td>\n      <td>0.0</td>\n      <td>2540.472727</td>\n      <td>...</td>\n      <td>0.0</td>\n      <td>0.0</td>\n      <td>0.0</td>\n      <td>0.0</td>\n      <td>0.0</td>\n      <td>0.0</td>\n      <td>760</td>\n      <td>731.0</td>\n      <td>731.0</td>\n      <td>1</td>\n    </tr>\n    <tr>\n      <th>1</th>\n      <td>1</td>\n      <td>2022-09-01</td>\n      <td>0</td>\n      <td>0</td>\n      <td>0.0</td>\n      <td>2138.510870</td>\n      <td>1.0</td>\n      <td>0.0</td>\n      <td>0.0</td>\n      <td>2540.472727</td>\n      <td>...</td>\n      <td>0.0</td>\n      <td>0.0</td>\n      <td>0.0</td>\n      <td>0.0</td>\n      <td>0.0</td>\n      <td>0.0</td>\n      <td>760</td>\n      <td>731.0</td>\n      <td>731.0</td>\n      <td>0</td>\n    </tr>\n    <tr>\n      <th>2</th>\n      <td>2</td>\n      <td>2022-09-01</td>\n      <td>0</td>\n      <td>0</td>\n      <td>0.8</td>\n      <td>1920.025345</td>\n      <td>0.7</td>\n      <td>0.0</td>\n      <td>0.0</td>\n      <td>2540.472727</td>\n      <td>...</td>\n      <td>0.0</td>\n      <td>0.0</td>\n      <td>0.0</td>\n      <td>0.0</td>\n      <td>0.0</td>\n      <td>0.0</td>\n      <td>760</td>\n      <td>731.0</td>\n      <td>731.0</td>\n      <td>0</td>\n    </tr>\n    <tr>\n      <th>3</th>\n      <td>3</td>\n      <td>2022-09-01</td>\n      <td>0</td>\n      <td>0</td>\n      <td>0.0</td>\n      <td>1920.025345</td>\n      <td>0.0</td>\n      <td>0.0</td>\n      <td>0.0</td>\n      <td>2540.472727</td>\n      <td>...</td>\n      <td>0.0</td>\n      <td>0.0</td>\n      <td>0.0</td>\n      <td>0.0</td>\n      <td>0.0</td>\n      <td>2.0</td>\n      <td>760</td>\n      <td>0.0</td>\n      <td>731.0</td>\n      <td>0</td>\n    </tr>\n    <tr>\n      <th>4</th>\n      <td>4</td>\n      <td>2022-09-01</td>\n      <td>0</td>\n      <td>0</td>\n      <td>0.0</td>\n      <td>1917.051546</td>\n      <td>0.0</td>\n      <td>0.0</td>\n      <td>0.0</td>\n      <td>2540.472727</td>\n      <td>...</td>\n      <td>0.0</td>\n      <td>0.0</td>\n      <td>0.0</td>\n      <td>0.0</td>\n      <td>0.0</td>\n      <td>0.0</td>\n      <td>760</td>\n      <td>731.0</td>\n      <td>731.0</td>\n      <td>0</td>\n    </tr>\n    <tr>\n      <th>...</th>\n      <td>...</td>\n      <td>...</td>\n      <td>...</td>\n      <td>...</td>\n      <td>...</td>\n      <td>...</td>\n      <td>...</td>\n      <td>...</td>\n      <td>...</td>\n      <td>...</td>\n      <td>...</td>\n      <td>...</td>\n      <td>...</td>\n      <td>...</td>\n      <td>...</td>\n      <td>...</td>\n      <td>...</td>\n      <td>...</td>\n      <td>...</td>\n      <td>...</td>\n      <td>...</td>\n    </tr>\n    <tr>\n      <th>203605</th>\n      <td>33972</td>\n      <td>2023-02-01</td>\n      <td>0</td>\n      <td>0</td>\n      <td>0.6</td>\n      <td>1647.438326</td>\n      <td>0.6</td>\n      <td>0.0</td>\n      <td>0.0</td>\n      <td>2844.363636</td>\n      <td>...</td>\n      <td>1.0</td>\n      <td>0.0</td>\n      <td>0.0</td>\n      <td>0.0</td>\n      <td>1.0</td>\n      <td>0.0</td>\n      <td>63</td>\n      <td>736.0</td>\n      <td>2.0</td>\n      <td>0</td>\n    </tr>\n    <tr>\n      <th>203606</th>\n      <td>33973</td>\n      <td>2023-02-01</td>\n      <td>0</td>\n      <td>0</td>\n      <td>0.8</td>\n      <td>1697.516729</td>\n      <td>0.5</td>\n      <td>0.0</td>\n      <td>0.0</td>\n      <td>2118.214286</td>\n      <td>...</td>\n      <td>0.0</td>\n      <td>0.0</td>\n      <td>0.0</td>\n      <td>0.0</td>\n      <td>1.0</td>\n      <td>2.0</td>\n      <td>137</td>\n      <td>5.0</td>\n      <td>4.0</td>\n      <td>1</td>\n    </tr>\n    <tr>\n      <th>203607</th>\n      <td>33974</td>\n      <td>2023-02-01</td>\n      <td>0</td>\n      <td>0</td>\n      <td>0.0</td>\n      <td>1962.747541</td>\n      <td>0.0</td>\n      <td>0.0</td>\n      <td>0.0</td>\n      <td>2930.657097</td>\n      <td>...</td>\n      <td>1.0</td>\n      <td>0.0</td>\n      <td>0.0</td>\n      <td>0.0</td>\n      <td>1.0</td>\n      <td>0.0</td>\n      <td>66</td>\n      <td>736.0</td>\n      <td>2.0</td>\n      <td>0</td>\n    </tr>\n    <tr>\n      <th>203608</th>\n      <td>33975</td>\n      <td>2023-02-01</td>\n      <td>0</td>\n      <td>0</td>\n      <td>0.3</td>\n      <td>2919.514286</td>\n      <td>0.3</td>\n      <td>0.0</td>\n      <td>0.0</td>\n      <td>2919.514286</td>\n      <td>...</td>\n      <td>1.0</td>\n      <td>0.0</td>\n      <td>0.0</td>\n      <td>0.0</td>\n      <td>1.0</td>\n      <td>2.0</td>\n      <td>113</td>\n      <td>5.0</td>\n      <td>3.0</td>\n      <td>1</td>\n    </tr>\n    <tr>\n      <th>203609</th>\n      <td>33976</td>\n      <td>2023-02-01</td>\n      <td>0</td>\n      <td>0</td>\n      <td>1.0</td>\n      <td>1919.408790</td>\n      <td>0.0</td>\n      <td>0.0</td>\n      <td>0.0</td>\n      <td>2345.652265</td>\n      <td>...</td>\n      <td>1.0</td>\n      <td>0.0</td>\n      <td>0.0</td>\n      <td>0.0</td>\n      <td>1.0</td>\n      <td>2.0</td>\n      <td>93</td>\n      <td>0.0</td>\n      <td>3.0</td>\n      <td>0</td>\n    </tr>\n  </tbody>\n</table>\n<p>203610 rows × 147 columns</p>\n</div>"
     },
     "execution_count": 77,
     "metadata": {},
     "output_type": "execute_result"
    }
   ],
   "source": [
    "train"
   ],
   "metadata": {
    "collapsed": false,
    "ExecuteTime": {
     "end_time": "2023-11-12T04:54:09.025174555Z",
     "start_time": "2023-11-12T04:54:08.993016489Z"
    }
   }
  },
  {
   "cell_type": "code",
   "execution_count": 14,
   "outputs": [
    {
     "data": {
      "text/plain": "       wagnum       month  target_month  target_day  10d_nasip_mean  \\\n0           0  2023-03-01           NaN         NaN             0.0   \n1           1  2023-03-01           NaN         NaN             0.0   \n2           2  2023-03-01           NaN         NaN             0.1   \n3           3  2023-03-01           NaN         NaN             0.0   \n4           4  2023-03-01           NaN         NaN             0.0   \n...       ...         ...           ...         ...             ...   \n33702   33972  2023-03-01           NaN         NaN             1.0   \n33703   33973  2023-03-01           NaN         NaN             0.8   \n33704   33974  2023-03-01           NaN         NaN             0.9   \n33705   33975  2023-03-01           NaN         NaN             0.3   \n33706   33976  2023-03-01           NaN         NaN             0.6   \n\n       5d_avg_distance_min  10d_isload_mean  60d_opor_station_sign_mean  \\\n0              3341.322034              1.0                    1.950000   \n1              1801.034188              0.0                    0.000000   \n2              1216.523810              0.0                    1.750000   \n3              1879.067639              0.0                    2.216667   \n4              1961.321752              0.0                    1.100000   \n...                    ...              ...                         ...   \n33702          1573.603306              1.0                    0.000000   \n33703          2850.272058              0.8                    0.000000   \n33704          1825.446272              0.8                    0.000000   \n33705          1603.106956              0.0                    0.000000   \n33706          1600.929577              0.3                    0.000000   \n\n       60d_skoroport_mean  60d_avg_distance_max  ...  kod_vrab_1_pr  \\\n0                     0.0           3341.322034  ...              0   \n1                     0.0           2785.500000  ...              0   \n2                     0.0           2259.663043  ...              0   \n3                     0.0           2262.500000  ...              0   \n4                     0.0           3490.432220  ...              0   \n...                   ...                   ...  ...            ...   \n33702                 0.0           2844.363636  ...              0   \n33703                 0.0           2850.272058  ...              0   \n33704                 0.0           1995.153846  ...              0   \n33705                 0.0           2988.432432  ...              0   \n33706                 0.0           2850.272058  ...              0   \n\n       diff_road_pr  diff_st_pr  _10d_pr_rems  _20d_pr_rems  _1m_pr_rems  \\\n0               0.0         0.0           0.0           0.0          0.0   \n1               0.0         0.0           0.0           0.0          0.0   \n2               0.0         0.0           0.0           0.0          0.0   \n3               0.0         0.0           0.0           0.0          0.0   \n4               0.0         0.0           0.0           0.0          0.0   \n...             ...         ...           ...           ...          ...   \n33702           0.0         0.0           0.0           0.0          0.0   \n33703           0.0         0.0           0.0           0.0          0.0   \n33704           0.0         0.0           0.0           0.0          0.0   \n33705           0.0         0.0           0.0           0.0          0.0   \n33706           0.0         0.0           0.0           0.0          0.0   \n\n       rem_dist_pr_sum  rem_dist_pr_mean  _allm_pr_rems  _allm_tr_rems  \n0                    0               0.0            0.0            2.0  \n1                    0               0.0            0.0            0.0  \n2                    0               0.0            0.0            4.0  \n3                    0               0.0            0.0            2.0  \n4                    0               0.0            0.0            0.0  \n...                ...               ...            ...            ...  \n33702                0               0.0            1.0            0.0  \n33703                0               0.0            1.0            2.0  \n33704                0               0.0            1.0            0.0  \n33705                0               0.0            1.0            2.0  \n33706                0               0.0            1.0            2.0  \n\n[33707 rows x 160 columns]",
      "text/html": "<div>\n<style scoped>\n    .dataframe tbody tr th:only-of-type {\n        vertical-align: middle;\n    }\n\n    .dataframe tbody tr th {\n        vertical-align: top;\n    }\n\n    .dataframe thead th {\n        text-align: right;\n    }\n</style>\n<table border=\"1\" class=\"dataframe\">\n  <thead>\n    <tr style=\"text-align: right;\">\n      <th></th>\n      <th>wagnum</th>\n      <th>month</th>\n      <th>target_month</th>\n      <th>target_day</th>\n      <th>10d_nasip_mean</th>\n      <th>5d_avg_distance_min</th>\n      <th>10d_isload_mean</th>\n      <th>60d_opor_station_sign_mean</th>\n      <th>60d_skoroport_mean</th>\n      <th>60d_avg_distance_max</th>\n      <th>...</th>\n      <th>kod_vrab_1_pr</th>\n      <th>diff_road_pr</th>\n      <th>diff_st_pr</th>\n      <th>_10d_pr_rems</th>\n      <th>_20d_pr_rems</th>\n      <th>_1m_pr_rems</th>\n      <th>rem_dist_pr_sum</th>\n      <th>rem_dist_pr_mean</th>\n      <th>_allm_pr_rems</th>\n      <th>_allm_tr_rems</th>\n    </tr>\n  </thead>\n  <tbody>\n    <tr>\n      <th>0</th>\n      <td>0</td>\n      <td>2023-03-01</td>\n      <td>NaN</td>\n      <td>NaN</td>\n      <td>0.0</td>\n      <td>3341.322034</td>\n      <td>1.0</td>\n      <td>1.950000</td>\n      <td>0.0</td>\n      <td>3341.322034</td>\n      <td>...</td>\n      <td>0</td>\n      <td>0.0</td>\n      <td>0.0</td>\n      <td>0.0</td>\n      <td>0.0</td>\n      <td>0.0</td>\n      <td>0</td>\n      <td>0.0</td>\n      <td>0.0</td>\n      <td>2.0</td>\n    </tr>\n    <tr>\n      <th>1</th>\n      <td>1</td>\n      <td>2023-03-01</td>\n      <td>NaN</td>\n      <td>NaN</td>\n      <td>0.0</td>\n      <td>1801.034188</td>\n      <td>0.0</td>\n      <td>0.000000</td>\n      <td>0.0</td>\n      <td>2785.500000</td>\n      <td>...</td>\n      <td>0</td>\n      <td>0.0</td>\n      <td>0.0</td>\n      <td>0.0</td>\n      <td>0.0</td>\n      <td>0.0</td>\n      <td>0</td>\n      <td>0.0</td>\n      <td>0.0</td>\n      <td>0.0</td>\n    </tr>\n    <tr>\n      <th>2</th>\n      <td>2</td>\n      <td>2023-03-01</td>\n      <td>NaN</td>\n      <td>NaN</td>\n      <td>0.1</td>\n      <td>1216.523810</td>\n      <td>0.0</td>\n      <td>1.750000</td>\n      <td>0.0</td>\n      <td>2259.663043</td>\n      <td>...</td>\n      <td>0</td>\n      <td>0.0</td>\n      <td>0.0</td>\n      <td>0.0</td>\n      <td>0.0</td>\n      <td>0.0</td>\n      <td>0</td>\n      <td>0.0</td>\n      <td>0.0</td>\n      <td>4.0</td>\n    </tr>\n    <tr>\n      <th>3</th>\n      <td>3</td>\n      <td>2023-03-01</td>\n      <td>NaN</td>\n      <td>NaN</td>\n      <td>0.0</td>\n      <td>1879.067639</td>\n      <td>0.0</td>\n      <td>2.216667</td>\n      <td>0.0</td>\n      <td>2262.500000</td>\n      <td>...</td>\n      <td>0</td>\n      <td>0.0</td>\n      <td>0.0</td>\n      <td>0.0</td>\n      <td>0.0</td>\n      <td>0.0</td>\n      <td>0</td>\n      <td>0.0</td>\n      <td>0.0</td>\n      <td>2.0</td>\n    </tr>\n    <tr>\n      <th>4</th>\n      <td>4</td>\n      <td>2023-03-01</td>\n      <td>NaN</td>\n      <td>NaN</td>\n      <td>0.0</td>\n      <td>1961.321752</td>\n      <td>0.0</td>\n      <td>1.100000</td>\n      <td>0.0</td>\n      <td>3490.432220</td>\n      <td>...</td>\n      <td>0</td>\n      <td>0.0</td>\n      <td>0.0</td>\n      <td>0.0</td>\n      <td>0.0</td>\n      <td>0.0</td>\n      <td>0</td>\n      <td>0.0</td>\n      <td>0.0</td>\n      <td>0.0</td>\n    </tr>\n    <tr>\n      <th>...</th>\n      <td>...</td>\n      <td>...</td>\n      <td>...</td>\n      <td>...</td>\n      <td>...</td>\n      <td>...</td>\n      <td>...</td>\n      <td>...</td>\n      <td>...</td>\n      <td>...</td>\n      <td>...</td>\n      <td>...</td>\n      <td>...</td>\n      <td>...</td>\n      <td>...</td>\n      <td>...</td>\n      <td>...</td>\n      <td>...</td>\n      <td>...</td>\n      <td>...</td>\n      <td>...</td>\n    </tr>\n    <tr>\n      <th>33702</th>\n      <td>33972</td>\n      <td>2023-03-01</td>\n      <td>NaN</td>\n      <td>NaN</td>\n      <td>1.0</td>\n      <td>1573.603306</td>\n      <td>1.0</td>\n      <td>0.000000</td>\n      <td>0.0</td>\n      <td>2844.363636</td>\n      <td>...</td>\n      <td>0</td>\n      <td>0.0</td>\n      <td>0.0</td>\n      <td>0.0</td>\n      <td>0.0</td>\n      <td>0.0</td>\n      <td>0</td>\n      <td>0.0</td>\n      <td>1.0</td>\n      <td>0.0</td>\n    </tr>\n    <tr>\n      <th>33703</th>\n      <td>33973</td>\n      <td>2023-03-01</td>\n      <td>NaN</td>\n      <td>NaN</td>\n      <td>0.8</td>\n      <td>2850.272058</td>\n      <td>0.8</td>\n      <td>0.000000</td>\n      <td>0.0</td>\n      <td>2850.272058</td>\n      <td>...</td>\n      <td>0</td>\n      <td>0.0</td>\n      <td>0.0</td>\n      <td>0.0</td>\n      <td>0.0</td>\n      <td>0.0</td>\n      <td>0</td>\n      <td>0.0</td>\n      <td>1.0</td>\n      <td>2.0</td>\n    </tr>\n    <tr>\n      <th>33704</th>\n      <td>33974</td>\n      <td>2023-03-01</td>\n      <td>NaN</td>\n      <td>NaN</td>\n      <td>0.9</td>\n      <td>1825.446272</td>\n      <td>0.8</td>\n      <td>0.000000</td>\n      <td>0.0</td>\n      <td>1995.153846</td>\n      <td>...</td>\n      <td>0</td>\n      <td>0.0</td>\n      <td>0.0</td>\n      <td>0.0</td>\n      <td>0.0</td>\n      <td>0.0</td>\n      <td>0</td>\n      <td>0.0</td>\n      <td>1.0</td>\n      <td>0.0</td>\n    </tr>\n    <tr>\n      <th>33705</th>\n      <td>33975</td>\n      <td>2023-03-01</td>\n      <td>NaN</td>\n      <td>NaN</td>\n      <td>0.3</td>\n      <td>1603.106956</td>\n      <td>0.0</td>\n      <td>0.000000</td>\n      <td>0.0</td>\n      <td>2988.432432</td>\n      <td>...</td>\n      <td>0</td>\n      <td>0.0</td>\n      <td>0.0</td>\n      <td>0.0</td>\n      <td>0.0</td>\n      <td>0.0</td>\n      <td>0</td>\n      <td>0.0</td>\n      <td>1.0</td>\n      <td>2.0</td>\n    </tr>\n    <tr>\n      <th>33706</th>\n      <td>33976</td>\n      <td>2023-03-01</td>\n      <td>NaN</td>\n      <td>NaN</td>\n      <td>0.6</td>\n      <td>1600.929577</td>\n      <td>0.3</td>\n      <td>0.000000</td>\n      <td>0.0</td>\n      <td>2850.272058</td>\n      <td>...</td>\n      <td>0</td>\n      <td>0.0</td>\n      <td>0.0</td>\n      <td>0.0</td>\n      <td>0.0</td>\n      <td>0.0</td>\n      <td>0</td>\n      <td>0.0</td>\n      <td>1.0</td>\n      <td>2.0</td>\n    </tr>\n  </tbody>\n</table>\n<p>33707 rows × 160 columns</p>\n</div>"
     },
     "execution_count": 14,
     "metadata": {},
     "output_type": "execute_result"
    }
   ],
   "source": [
    "test_new"
   ],
   "metadata": {
    "collapsed": false,
    "ExecuteTime": {
     "end_time": "2023-11-12T02:03:51.570772145Z",
     "start_time": "2023-11-12T02:03:51.490867737Z"
    }
   }
  },
  {
   "cell_type": "code",
   "execution_count": 78,
   "outputs": [],
   "source": [
    "train.to_csv('train/data/train.csv', index=False)\n",
    "test.to_csv('train/data/test.csv', index=False)"
   ],
   "metadata": {
    "collapsed": false,
    "ExecuteTime": {
     "end_time": "2023-11-12T04:55:11.884184098Z",
     "start_time": "2023-11-12T04:55:02.399093390Z"
    }
   }
  },
  {
   "cell_type": "markdown",
   "source": [
    "# Другие фичи"
   ],
   "metadata": {
    "collapsed": false
   }
  },
  {
   "cell_type": "code",
   "execution_count": 50,
   "outputs": [],
   "source": [
    "kti_izm = pd.read_parquet('train/kti_izm.parquet').convert_dtypes()"
   ],
   "metadata": {
    "collapsed": false,
    "ExecuteTime": {
     "end_time": "2023-11-12T04:41:53.599285748Z",
     "start_time": "2023-11-12T04:41:53.568439945Z"
    }
   }
  },
  {
   "cell_type": "code",
   "execution_count": 56,
   "outputs": [],
   "source": [
    "are_in_kti_izm = set(kti_izm.wagnum)"
   ],
   "metadata": {
    "collapsed": false,
    "ExecuteTime": {
     "end_time": "2023-11-12T04:44:56.168131256Z",
     "start_time": "2023-11-12T04:44:56.124227036Z"
    }
   }
  },
  {
   "cell_type": "code",
   "execution_count": 57,
   "outputs": [
    {
     "data": {
      "text/plain": "{0,\n 20,\n 23,\n 36,\n 40,\n 41,\n 42,\n 43,\n 50,\n 51,\n 57,\n 58,\n 62,\n 63,\n 74,\n 83,\n 84,\n 85,\n 87,\n 32894,\n 32896,\n 32899,\n 32904,\n 32905,\n 32906,\n 32908,\n 32910,\n 32912,\n 32919,\n 320,\n 325,\n 326,\n 33095,\n 33096,\n 33097,\n 330,\n 33098,\n 332,\n 33100,\n 334,\n 335,\n 33099,\n 33101,\n 33102,\n 336,\n 340,\n 33103,\n 33104,\n 33105,\n 33106,\n 33107,\n 33108,\n 33109,\n 33111,\n 33113,\n 350,\n 33112,\n 33116,\n 33114,\n 33115,\n 33121,\n 33119,\n 33120,\n 358,\n 33127,\n 33122,\n 33124,\n 33123,\n 33126,\n 33125,\n 33143,\n 33144,\n 33145,\n 33146,\n 33147,\n 33148,\n 33149,\n 33150,\n 33151,\n 33152,\n 33153,\n 33154,\n 33155,\n 33156,\n 33157,\n 33158,\n 33159,\n 33160,\n 33161,\n 33162,\n 33163,\n 33164,\n 33165,\n 33166,\n 33167,\n 33168,\n 33169,\n 33170,\n 33171,\n 33172,\n 33174,\n 33175,\n 33176,\n 33213,\n 33214,\n 33215,\n 33216,\n 33217,\n 33230,\n 33259,\n 33277,\n 33278,\n 33279,\n 33282,\n 33283,\n 33343,\n 33344,\n 33346,\n 33347,\n 33351,\n 33358,\n 33359,\n 33360,\n 33361,\n 33362,\n 33363,\n 33364,\n 33365,\n 33366,\n 33367,\n 33373,\n 33374,\n 33375,\n 33376,\n 33377,\n 33378,\n 33379,\n 33380,\n 33408,\n 33409,\n 643,\n 647,\n 648,\n 649,\n 33418,\n 33419,\n 33420,\n 33421,\n 654,\n 33422,\n 33424,\n 33423,\n 33425,\n 656,\n 33426,\n 661,\n 33427,\n 33428,\n 33431,\n 666,\n 669,\n 33439,\n 676,\n 678,\n 679,\n 680,\n 681,\n 33448,\n 33450,\n 33449,\n 682,\n 33470,\n 33471,\n 33472,\n 33474,\n 33514,\n 33515,\n 33516,\n 33517,\n 761,\n 762,\n 763,\n 764,\n 765,\n 766,\n 767,\n 768,\n 769,\n 770,\n 771,\n 772,\n 773,\n 774,\n 775,\n 776,\n 777,\n 778,\n 779,\n 780,\n 781,\n 33550,\n 782,\n 784,\n 783,\n 785,\n 786,\n 788,\n 789,\n 787,\n 791,\n 792,\n 33555,\n 794,\n 795,\n 796,\n 797,\n 33557,\n 799,\n 800,\n 33569,\n 33570,\n 33571,\n 33572,\n 33573,\n 33574,\n 33575,\n 803,\n 807,\n 806,\n 804,\n 810,\n 808,\n 805,\n 33576,\n 816,\n 811,\n 813,\n 33578,\n 818,\n 821,\n 820,\n 823,\n 33592,\n 33593,\n 33594,\n 819,\n 33596,\n 827,\n 822,\n 829,\n 33598,\n 33595,\n 33597,\n 826,\n 831,\n 33599,\n 833,\n 33600,\n 835,\n 33601,\n 834,\n 839,\n 841,\n 857,\n 33629,\n 862,\n 33630,\n 33631,\n 865,\n 864,\n 33651,\n 33652,\n 33653,\n 33657,\n 33658,\n 33676,\n 33677,\n 33678,\n 33679,\n 33680,\n 33681,\n 33682,\n 33683,\n 33687,\n 33696,\n 33697,\n 33698,\n 33699,\n 33717,\n 33718,\n 33719,\n 33720,\n 33721,\n 33722,\n 33723,\n 968,\n 33747,\n 33766,\n 33774,\n 33775,\n 33776,\n 33777,\n 33789,\n 33790,\n 33791,\n 33792,\n 33798,\n 33799,\n 33808,\n 33809,\n 33814,\n 33823,\n 33827,\n 33828,\n 33833,\n 33834,\n 33835,\n 33846,\n 33847,\n 33848,\n 33849,\n 33850,\n 33851,\n 33852,\n 33853,\n 33854,\n 33904,\n 33906,\n 33907,\n 33913,\n 1196,\n 1197,\n 1198,\n 1199,\n 1200,\n 1201,\n 33970,\n 1203,\n 33973,\n 1206,\n 1205,\n 1208,\n 1207,\n 33975,\n 1213,\n 1214,\n 1215,\n 1216,\n 1301,\n 1302,\n 1374,\n 1375,\n 1377,\n 1378,\n 1379,\n 1380,\n 1381,\n 1382,\n 1384,\n 1385,\n 1386,\n 1387,\n 1388,\n 1389,\n 1390,\n 1391,\n 1392,\n 1393,\n 1394,\n 1395,\n 1396,\n 1397,\n 1398,\n 1399,\n 1400,\n 1401,\n 1402,\n 1403,\n 1404,\n 1405,\n 1406,\n 1407,\n 1408,\n 1409,\n 1410,\n 1411,\n 1412,\n 1413,\n 1414,\n 1415,\n 1417,\n 1418,\n 1419,\n 1420,\n 1421,\n 1422,\n 1423,\n 1425,\n 1426,\n 1427,\n 1428,\n 1430,\n 1431,\n 1432,\n 1433,\n 1434,\n 1435,\n 1436,\n 1437,\n 1438,\n 1439,\n 1440,\n 1441,\n 1442,\n 1443,\n 1444,\n 1445,\n 1446,\n 1447,\n 1448,\n 1449,\n 1450,\n 1451,\n 1452,\n 1453,\n 1454,\n 1455,\n 1456,\n 1457,\n 1458,\n 1460,\n 1461,\n 1462,\n 1463,\n 1464,\n 1465,\n 1466,\n 1467,\n 1468,\n 1469,\n 1470,\n 1471,\n 1472,\n 1474,\n 1476,\n 1477,\n 1478,\n 1479,\n 1480,\n 1483,\n 1484,\n 1486,\n 1487,\n 1488,\n 1489,\n 1490,\n 1491,\n 1494,\n 1500,\n 1502,\n 1503,\n 1504,\n 1569,\n 1868,\n 1872,\n 1873,\n 1878,\n 1886,\n 2402,\n 2403,\n 2404,\n 2405,\n 2406,\n 2407,\n 2408,\n 2409,\n 2410,\n 2411,\n 2412,\n 2413,\n 2414,\n 2415,\n 2416,\n 2417,\n 2418,\n 2419,\n 2420,\n 2421,\n 2422,\n 2423,\n 2424,\n 2425,\n 2426,\n 2427,\n 2428,\n 2429,\n 2430,\n 2431,\n 2432,\n 2433,\n 2434,\n 2435,\n 2436,\n 2437,\n 2438,\n 2439,\n 2440,\n 2441,\n 2442,\n 2443,\n 2444,\n 2445,\n 2446,\n 2447,\n 2448,\n 2449,\n 2450,\n 2451,\n 2452,\n 2453,\n 2454,\n 2455,\n 2456,\n 2457,\n 33110,\n 33117,\n 33118,\n 2910,\n 2911,\n 2912,\n 2913,\n 2914,\n 2915,\n 2916,\n 2917,\n 2918,\n 2919,\n 2920,\n 2921,\n 2922,\n 2923,\n 2924,\n 2925,\n 2926,\n 2927,\n 2928,\n 2929,\n 2930,\n 2931,\n 2932,\n 2933,\n 2934,\n 2935,\n 2936,\n 2937,\n 2938,\n 2939,\n 2940,\n 2941,\n 2942,\n 2943,\n 2944,\n 2945,\n 2946,\n 2947,\n 2948,\n 2949,\n 2950,\n 2951,\n 2952,\n 2953,\n 2954,\n 2955,\n 2956,\n 2957,\n 2958,\n 2959,\n 2960,\n 2961,\n 2963,\n 2964,\n 2965,\n 2966,\n 2967,\n 2968,\n 2969,\n 2970,\n 2971,\n 2972,\n 2973,\n 2974,\n 2975,\n 2976,\n 2977,\n 2979,\n 2980,\n 2981,\n 2982,\n 2983,\n 2984,\n 2985,\n 2986,\n 2987,\n 2988,\n 2989,\n 2990,\n 2991,\n 2992,\n 2993,\n 2995,\n 2996,\n 2997,\n 2998,\n 2999,\n 3000,\n 3001,\n 3002,\n 3003,\n 3004,\n 3005,\n 3006,\n 3007,\n 3009,\n 3010,\n 3011,\n 3012,\n 3013,\n 3014,\n 3015,\n 3017,\n 3018,\n 3019,\n 3020,\n 3021,\n 3022,\n 3023,\n 3024,\n 3025,\n 3026,\n 3027,\n 3029,\n 3030,\n 3032,\n 3033,\n 3034,\n 3035,\n 3037,\n 3040,\n 3142,\n 3145,\n 3147,\n 3148,\n 3149,\n 3159,\n 3166,\n 3171,\n 3181,\n 3666,\n 3667,\n 3838,\n 3839,\n 3840,\n 3841,\n 3842,\n 3843,\n 3844,\n 3845,\n 3846,\n 3847,\n 3848,\n 3849,\n 3850,\n 3851,\n 3852,\n 3853,\n 3854,\n 3855,\n 3857,\n 3858,\n 3859,\n 3860,\n 3861,\n 3862,\n 3863,\n 3864,\n 3865,\n 3866,\n 3867,\n 3868,\n 3869,\n 3870,\n 3872,\n 3873,\n 3874,\n 3875,\n 3876,\n 3877,\n 3878,\n 3879,\n 3880,\n 3882,\n 3883,\n 3884,\n 3885,\n 3886,\n 3887,\n 3888,\n 3889,\n 3890,\n 3891,\n 3892,\n 3893,\n 3894,\n 3895,\n 3896,\n 3897,\n 3898,\n 3899,\n 3901,\n 3903,\n 3904,\n 3905,\n 3906,\n 3909,\n 3913,\n 3916,\n 3925,\n 3926,\n 3952,\n 3967,\n 3968,\n 3969,\n 3970,\n 793,\n 798,\n 4017,\n 4018,\n 4019,\n 4020,\n 801,\n 4049,\n 4050,\n 809,\n 814,\n 817,\n 4129,\n 4130,\n 4131,\n 4132,\n 4133,\n 4134,\n 4135,\n 4136,\n 4137,\n 4138,\n 4139,\n 4140,\n 4141,\n 4142,\n 4143,\n 4144,\n 4145,\n 4146,\n 4147,\n 4148,\n 4149,\n 4150,\n 4151,\n 4152,\n 4153,\n 4154,\n 4155,\n 4156,\n 4157,\n 4158,\n 4159,\n 4160,\n 4161,\n 4162,\n 4163,\n 4164,\n 4165,\n 4166,\n 4167,\n 4168,\n 828,\n 4171,\n 4172,\n 4174,\n 4175,\n 832,\n 4276,\n 4277,\n 4278,\n 4279,\n 4280,\n 4281,\n 4282,\n 4283,\n 4284,\n 4285,\n 4286,\n 4287,\n 4402,\n 4403,\n 4404,\n 4405,\n 4406,\n 4407,\n 4408,\n 4409,\n 4410,\n 4411,\n 4412,\n 4413,\n 4414,\n 4415,\n 4416,\n 4451,\n 4489,\n 4490,\n 4491,\n 4492,\n 4493,\n 4494,\n 4495,\n 4496,\n 4497,\n 4498,\n 4499,\n 4500,\n 4501,\n 4502,\n 4503,\n 4504,\n 4505,\n 4506,\n 4507,\n 4508,\n 4509,\n 4510,\n 4511,\n 4512,\n 4513,\n 4514,\n 4515,\n 4516,\n 4517,\n 4518,\n 4519,\n 4520,\n 4521,\n 4522,\n 4523,\n 4524,\n 4525,\n 4526,\n 4527,\n 4528,\n 4529,\n 4530,\n 4531,\n 4533,\n 4534,\n 4535,\n 4536,\n 4537,\n 4538,\n 4539,\n 4541,\n 4542,\n 4543,\n 4544,\n 4545,\n 4546,\n 4547,\n 4548,\n 4549,\n 4550,\n 4551,\n 4552,\n 4553,\n 4554,\n 4555,\n 4556,\n 4558,\n 4559,\n 4560,\n 4561,\n 4562,\n 4563,\n 4565,\n 4568,\n 4569,\n 4572,\n 4656,\n 4735,\n 4816,\n 4817,\n 4818,\n 4819,\n 4820,\n 4821,\n 4822,\n 4823,\n 4824,\n 4825,\n 4826,\n 4827,\n 4828,\n 4829,\n 4830,\n 4831,\n 4832,\n 4834,\n 4835,\n 4836,\n 4837,\n 4838,\n 4839,\n 4841,\n 4842,\n 4843,\n 4844,\n 4845,\n 4846,\n 4847,\n 4848,\n 4849,\n 4850,\n 4851,\n 4852,\n 4853,\n 4854,\n 4855,\n 4857,\n 4858,\n 4859,\n 4860,\n 4861,\n 4862,\n 4863,\n 4864,\n 4865,\n 4866,\n 4867,\n 4868,\n 4869,\n 4870,\n 4871,\n 4872,\n 4873,\n 4875,\n 4876,\n 4877,\n 4878,\n 4879,\n 4880,\n 4882,\n 4883,\n 4889,\n 33551,\n 33552,\n 4973,\n 33553,\n 4975,\n 33554,\n 33556,\n 5053,\n 33577,\n 33579,\n 33580,\n 5130,\n 5131,\n 5132,\n 5133,\n 5134,\n 5135,\n 5137,\n 5138,\n 5139,\n 5140,\n 5141,\n 5142,\n 5143,\n 5144,\n 5145,\n 5146,\n 5147,\n 5148,\n 5149,\n 5150,\n 5151,\n 5152,\n 5153,\n 5154,\n 5155,\n 5156,\n 5157,\n 5158,\n ...}"
     },
     "execution_count": 57,
     "metadata": {},
     "output_type": "execute_result"
    }
   ],
   "source": [
    "are_in_kti_izm"
   ],
   "metadata": {
    "collapsed": false,
    "ExecuteTime": {
     "end_time": "2023-11-12T04:44:59.917596383Z",
     "start_time": "2023-11-12T04:44:59.910439507Z"
    }
   }
  }
 ],
 "metadata": {
  "kernelspec": {
   "display_name": "Python 3",
   "language": "python",
   "name": "python3"
  },
  "language_info": {
   "codemirror_mode": {
    "name": "ipython",
    "version": 2
   },
   "file_extension": ".py",
   "mimetype": "text/x-python",
   "name": "python",
   "nbconvert_exporter": "python",
   "pygments_lexer": "ipython2",
   "version": "2.7.6"
  }
 },
 "nbformat": 4,
 "nbformat_minor": 0
}
