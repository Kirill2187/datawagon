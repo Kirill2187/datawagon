{
 "cells": [
  {
   "cell_type": "code",
   "execution_count": 1,
   "metadata": {
    "collapsed": true,
    "ExecuteTime": {
     "end_time": "2023-11-12T01:49:36.011776609Z",
     "start_time": "2023-11-12T01:49:35.970031018Z"
    }
   },
   "outputs": [],
   "source": [
    "import pandas as pd\n",
    "import numpy as np\n",
    "import seaborn as sns\n",
    "from tqdm import tqdm"
   ]
  },
  {
   "cell_type": "code",
   "execution_count": 2,
   "outputs": [],
   "source": [
    "pr_rems = pd.read_parquet('train/pr_rems.parquet').convert_dtypes()\n",
    "tr_rems = pd.read_parquet('train/tr_rems.parquet').convert_dtypes()\n",
    "y_train = pd.read_csv('train/target/y_train.csv')\n",
    "pr_rems = pr_rems.sort_values(by='rem_month')\n",
    "tr_rems = tr_rems.sort_values(by='rem_month')\n",
    "y_train = y_train.sort_values(by='month')"
   ],
   "metadata": {
    "collapsed": false,
    "ExecuteTime": {
     "end_time": "2023-11-12T01:49:37.634189476Z",
     "start_time": "2023-11-12T01:49:37.042788395Z"
    }
   }
  },
  {
   "cell_type": "code",
   "execution_count": 191,
   "outputs": [
    {
     "data": {
      "text/plain": "       wagnum       month  target_month  target_day\n50962   15844  2022-08-01             0           0\n45317   22524  2022-08-01             1           0\n50961   15838  2022-08-01             0           0\n45289    2049  2022-08-01             0           0\n45290    7974  2022-08-01             0           0\n...       ...         ...           ...         ...\n22655   18705  2023-01-01             0           0\n22656   18719  2023-01-01             0           0\n22657   18733  2023-01-01             0           0\n22693   33478  2023-01-01             0           0\n0       33361  2023-01-01             0           0\n\n[203853 rows x 4 columns]",
      "text/html": "<div>\n<style scoped>\n    .dataframe tbody tr th:only-of-type {\n        vertical-align: middle;\n    }\n\n    .dataframe tbody tr th {\n        vertical-align: top;\n    }\n\n    .dataframe thead th {\n        text-align: right;\n    }\n</style>\n<table border=\"1\" class=\"dataframe\">\n  <thead>\n    <tr style=\"text-align: right;\">\n      <th></th>\n      <th>wagnum</th>\n      <th>month</th>\n      <th>target_month</th>\n      <th>target_day</th>\n    </tr>\n  </thead>\n  <tbody>\n    <tr>\n      <th>50962</th>\n      <td>15844</td>\n      <td>2022-08-01</td>\n      <td>0</td>\n      <td>0</td>\n    </tr>\n    <tr>\n      <th>45317</th>\n      <td>22524</td>\n      <td>2022-08-01</td>\n      <td>1</td>\n      <td>0</td>\n    </tr>\n    <tr>\n      <th>50961</th>\n      <td>15838</td>\n      <td>2022-08-01</td>\n      <td>0</td>\n      <td>0</td>\n    </tr>\n    <tr>\n      <th>45289</th>\n      <td>2049</td>\n      <td>2022-08-01</td>\n      <td>0</td>\n      <td>0</td>\n    </tr>\n    <tr>\n      <th>45290</th>\n      <td>7974</td>\n      <td>2022-08-01</td>\n      <td>0</td>\n      <td>0</td>\n    </tr>\n    <tr>\n      <th>...</th>\n      <td>...</td>\n      <td>...</td>\n      <td>...</td>\n      <td>...</td>\n    </tr>\n    <tr>\n      <th>22655</th>\n      <td>18705</td>\n      <td>2023-01-01</td>\n      <td>0</td>\n      <td>0</td>\n    </tr>\n    <tr>\n      <th>22656</th>\n      <td>18719</td>\n      <td>2023-01-01</td>\n      <td>0</td>\n      <td>0</td>\n    </tr>\n    <tr>\n      <th>22657</th>\n      <td>18733</td>\n      <td>2023-01-01</td>\n      <td>0</td>\n      <td>0</td>\n    </tr>\n    <tr>\n      <th>22693</th>\n      <td>33478</td>\n      <td>2023-01-01</td>\n      <td>0</td>\n      <td>0</td>\n    </tr>\n    <tr>\n      <th>0</th>\n      <td>33361</td>\n      <td>2023-01-01</td>\n      <td>0</td>\n      <td>0</td>\n    </tr>\n  </tbody>\n</table>\n<p>203853 rows × 4 columns</p>\n</div>"
     },
     "execution_count": 191,
     "metadata": {},
     "output_type": "execute_result"
    }
   ],
   "source": [
    "y_train"
   ],
   "metadata": {
    "collapsed": false,
    "ExecuteTime": {
     "end_time": "2023-11-11T08:33:40.216988791Z",
     "start_time": "2023-11-11T08:33:40.173858157Z"
    }
   }
  },
  {
   "cell_type": "markdown",
   "source": [
    "# Pr_rems"
   ],
   "metadata": {
    "collapsed": false
   }
  },
  {
   "cell_type": "code",
   "execution_count": 93,
   "outputs": [
    {
     "name": "stderr",
     "output_type": "stream",
     "text": [
      "100%|██████████| 33977/33977 [00:22<00:00, 1535.63it/s]\n"
     ]
    }
   ],
   "source": [
    "TP = 0\n",
    "FP = 0\n",
    "for wag in tqdm(y_train.wagnum.unique()):\n",
    "    for month in pr_rems[pr_rems.wagnum == wag].rem_month:\n",
    "        for ind, now_month in enumerate(y_train[y_train.wagnum == wag].month):\n",
    "            if str(now_month)[:7] == str(month)[:7]:\n",
    "                if y_train[y_train.wagnum == wag].iloc[ind, 2] == 1:\n",
    "                    TP += 1\n",
    "                else:\n",
    "                    FP += 1"
   ],
   "metadata": {
    "collapsed": false,
    "ExecuteTime": {
     "end_time": "2023-11-10T22:39:00.631529050Z",
     "start_time": "2023-11-10T22:38:38.458143373Z"
    }
   }
  },
  {
   "cell_type": "code",
   "execution_count": 97,
   "outputs": [
    {
     "data": {
      "text/plain": "(10441, 0, 10401)"
     },
     "execution_count": 97,
     "metadata": {},
     "output_type": "execute_result"
    }
   ],
   "source": [
    "TP, FP, y_train[y_train.target_month == 1].shape[0]  # => Все поломки в таблице -- это лики\n",
    "                                                     # Иногда происходит несколько поломок за месяц"
   ],
   "metadata": {
    "collapsed": false,
    "ExecuteTime": {
     "end_time": "2023-11-10T22:43:09.295335644Z",
     "start_time": "2023-11-10T22:43:09.254924011Z"
    }
   }
  },
  {
   "cell_type": "code",
   "execution_count": 95,
   "outputs": [
    {
     "data": {
      "text/plain": "      wagnum  rem_month  rod_id      model  road_id_send  road_id_rem  \\\n0      15000 2022-08-05       1     12-132             3            3   \n2      25485 2022-08-21       1  12-132-03            13           13   \n3      25944 2022-08-09       1  12-132-03            13           13   \n4      24080 2022-08-13       1  12-296-01            13           13   \n5      28612 2022-08-09       1     12-132            13           13   \n...      ...        ...     ...        ...           ...          ...   \n1578   11193 2023-01-30       1     12-132            12           12   \n509    24703 2023-01-24       1    12-9780             6            6   \n511    26437 2023-01-29       1    12-9780             6            6   \n711    29345 2023-01-15       1     12-132            13           13   \n1515   15740 2023-01-07       1     12-132            23           12   \n\n      kod_vrab  st_id_send  st_id_rem  distance  month  \n0            0         493        493        37      8  \n2            0        6152       4793       360      8  \n3            1        6152       4793       322      8  \n4            0        6152       4793       308      8  \n5            0        6152       4793       373      8  \n...        ...         ...        ...       ...    ...  \n1578         0       12607      12607       885      1  \n509          1        4025       4025       890      1  \n511          1        4025       4025       892      1  \n711          1        6152       5960       397      1  \n1515         0       12610      11915      4101      1  \n\n[10441 rows x 11 columns]",
      "text/html": "<div>\n<style scoped>\n    .dataframe tbody tr th:only-of-type {\n        vertical-align: middle;\n    }\n\n    .dataframe tbody tr th {\n        vertical-align: top;\n    }\n\n    .dataframe thead th {\n        text-align: right;\n    }\n</style>\n<table border=\"1\" class=\"dataframe\">\n  <thead>\n    <tr style=\"text-align: right;\">\n      <th></th>\n      <th>wagnum</th>\n      <th>rem_month</th>\n      <th>rod_id</th>\n      <th>model</th>\n      <th>road_id_send</th>\n      <th>road_id_rem</th>\n      <th>kod_vrab</th>\n      <th>st_id_send</th>\n      <th>st_id_rem</th>\n      <th>distance</th>\n      <th>month</th>\n    </tr>\n  </thead>\n  <tbody>\n    <tr>\n      <th>0</th>\n      <td>15000</td>\n      <td>2022-08-05</td>\n      <td>1</td>\n      <td>12-132</td>\n      <td>3</td>\n      <td>3</td>\n      <td>0</td>\n      <td>493</td>\n      <td>493</td>\n      <td>37</td>\n      <td>8</td>\n    </tr>\n    <tr>\n      <th>2</th>\n      <td>25485</td>\n      <td>2022-08-21</td>\n      <td>1</td>\n      <td>12-132-03</td>\n      <td>13</td>\n      <td>13</td>\n      <td>0</td>\n      <td>6152</td>\n      <td>4793</td>\n      <td>360</td>\n      <td>8</td>\n    </tr>\n    <tr>\n      <th>3</th>\n      <td>25944</td>\n      <td>2022-08-09</td>\n      <td>1</td>\n      <td>12-132-03</td>\n      <td>13</td>\n      <td>13</td>\n      <td>1</td>\n      <td>6152</td>\n      <td>4793</td>\n      <td>322</td>\n      <td>8</td>\n    </tr>\n    <tr>\n      <th>4</th>\n      <td>24080</td>\n      <td>2022-08-13</td>\n      <td>1</td>\n      <td>12-296-01</td>\n      <td>13</td>\n      <td>13</td>\n      <td>0</td>\n      <td>6152</td>\n      <td>4793</td>\n      <td>308</td>\n      <td>8</td>\n    </tr>\n    <tr>\n      <th>5</th>\n      <td>28612</td>\n      <td>2022-08-09</td>\n      <td>1</td>\n      <td>12-132</td>\n      <td>13</td>\n      <td>13</td>\n      <td>0</td>\n      <td>6152</td>\n      <td>4793</td>\n      <td>373</td>\n      <td>8</td>\n    </tr>\n    <tr>\n      <th>...</th>\n      <td>...</td>\n      <td>...</td>\n      <td>...</td>\n      <td>...</td>\n      <td>...</td>\n      <td>...</td>\n      <td>...</td>\n      <td>...</td>\n      <td>...</td>\n      <td>...</td>\n      <td>...</td>\n    </tr>\n    <tr>\n      <th>1578</th>\n      <td>11193</td>\n      <td>2023-01-30</td>\n      <td>1</td>\n      <td>12-132</td>\n      <td>12</td>\n      <td>12</td>\n      <td>0</td>\n      <td>12607</td>\n      <td>12607</td>\n      <td>885</td>\n      <td>1</td>\n    </tr>\n    <tr>\n      <th>509</th>\n      <td>24703</td>\n      <td>2023-01-24</td>\n      <td>1</td>\n      <td>12-9780</td>\n      <td>6</td>\n      <td>6</td>\n      <td>1</td>\n      <td>4025</td>\n      <td>4025</td>\n      <td>890</td>\n      <td>1</td>\n    </tr>\n    <tr>\n      <th>511</th>\n      <td>26437</td>\n      <td>2023-01-29</td>\n      <td>1</td>\n      <td>12-9780</td>\n      <td>6</td>\n      <td>6</td>\n      <td>1</td>\n      <td>4025</td>\n      <td>4025</td>\n      <td>892</td>\n      <td>1</td>\n    </tr>\n    <tr>\n      <th>711</th>\n      <td>29345</td>\n      <td>2023-01-15</td>\n      <td>1</td>\n      <td>12-132</td>\n      <td>13</td>\n      <td>13</td>\n      <td>1</td>\n      <td>6152</td>\n      <td>5960</td>\n      <td>397</td>\n      <td>1</td>\n    </tr>\n    <tr>\n      <th>1515</th>\n      <td>15740</td>\n      <td>2023-01-07</td>\n      <td>1</td>\n      <td>12-132</td>\n      <td>23</td>\n      <td>12</td>\n      <td>0</td>\n      <td>12610</td>\n      <td>11915</td>\n      <td>4101</td>\n      <td>1</td>\n    </tr>\n  </tbody>\n</table>\n<p>10441 rows × 11 columns</p>\n</div>"
     },
     "execution_count": 95,
     "metadata": {},
     "output_type": "execute_result"
    }
   ],
   "source": [
    "pr_rems"
   ],
   "metadata": {
    "collapsed": false,
    "ExecuteTime": {
     "end_time": "2023-11-10T22:39:44.925597297Z",
     "start_time": "2023-11-10T22:39:44.909539511Z"
    }
   }
  },
  {
   "cell_type": "code",
   "execution_count": 59,
   "outputs": [
    {
     "data": {
      "text/plain": "1    8069\n0    2372\nName: rod_id, dtype: Int64"
     },
     "execution_count": 59,
     "metadata": {},
     "output_type": "execute_result"
    }
   ],
   "source": [
    "pr_rems.rod_id.value_counts()  # Поломок РПС значительно больше"
   ],
   "metadata": {
    "collapsed": false,
    "ExecuteTime": {
     "end_time": "2023-11-10T21:23:14.852687149Z",
     "start_time": "2023-11-10T21:23:14.848090799Z"
    }
   }
  },
  {
   "cell_type": "code",
   "execution_count": 257,
   "outputs": [
    {
     "data": {
      "text/plain": "0    6857\n1    3584\nName: kod_vrab, dtype: Int64"
     },
     "execution_count": 257,
     "metadata": {},
     "output_type": "execute_result"
    }
   ],
   "source": [
    "pr_rems.kod_vrab.value_counts()"
   ],
   "metadata": {
    "collapsed": false,
    "ExecuteTime": {
     "end_time": "2023-11-11T10:39:01.534969079Z",
     "start_time": "2023-11-11T10:39:01.530464421Z"
    }
   }
  },
  {
   "cell_type": "code",
   "execution_count": 104,
   "outputs": [
    {
     "data": {
      "text/plain": "<Figure size 640x480 with 1 Axes>",
      "image/png": "[encoded data removed]"
     },
     "metadata": {},
     "output_type": "display_data"
    }
   ],
   "source": [
    "pr_rems.model.value_counts().plot(kind='bar');"
   ],
   "metadata": {
    "collapsed": false,
    "ExecuteTime": {
     "end_time": "2023-11-10T22:45:55.344319936Z",
     "start_time": "2023-11-10T22:45:54.984767135Z"
    }
   }
  },
  {
   "cell_type": "code",
   "execution_count": 106,
   "outputs": [
    {
     "data": {
      "text/plain": "<Figure size 640x480 with 1 Axes>",
      "image/png": "[encoded data removed]"
     },
     "metadata": {},
     "output_type": "display_data"
    }
   ],
   "source": [
    "pr_rems.road_id_send.value_counts().plot(kind='bar');"
   ],
   "metadata": {
    "collapsed": false,
    "ExecuteTime": {
     "end_time": "2023-11-10T22:47:36.739410329Z",
     "start_time": "2023-11-10T22:47:36.555531998Z"
    }
   }
  },
  {
   "cell_type": "code",
   "execution_count": 110,
   "outputs": [
    {
     "data": {
      "text/plain": "<Figure size 640x480 with 1 Axes>",
      "image/png": "[encoded data removed]"
     },
     "metadata": {},
     "output_type": "display_data"
    }
   ],
   "source": [
    "pr_rems.road_id_rem.value_counts().plot(kind='bar');"
   ],
   "metadata": {
    "collapsed": false,
    "ExecuteTime": {
     "end_time": "2023-11-10T22:50:22.320449616Z",
     "start_time": "2023-11-10T22:50:22.113645426Z"
    }
   }
  },
  {
   "cell_type": "code",
   "execution_count": 109,
   "outputs": [
    {
     "data": {
      "text/plain": "(2502, 7939)"
     },
     "execution_count": 109,
     "metadata": {},
     "output_type": "execute_result"
    }
   ],
   "source": [
    "pr_rems[pr_rems.road_id_send != pr_rems.road_id_rem].shape[0],\\\n",
    "    pr_rems[pr_rems.road_id_send == pr_rems.road_id_rem].shape[0]\n",
    "# Отличаются / сходятся дороги"
   ],
   "metadata": {
    "collapsed": false,
    "ExecuteTime": {
     "end_time": "2023-11-10T22:48:52.366598284Z",
     "start_time": "2023-11-10T22:48:52.360253705Z"
    }
   }
  },
  {
   "cell_type": "code",
   "execution_count": 116,
   "outputs": [
    {
     "data": {
      "text/plain": "6152     1568\n4421     1162\n4420      593\n10016     310\n498       266\n         ... \n3255        1\n9032        1\n9540        1\n2688        1\n12564       1\nName: st_id_send, Length: 911, dtype: Int64"
     },
     "execution_count": 116,
     "metadata": {},
     "output_type": "execute_result"
    }
   ],
   "source": [
    "pr_rems.st_id_send.value_counts()"
   ],
   "metadata": {
    "collapsed": false,
    "ExecuteTime": {
     "end_time": "2023-11-10T22:54:12.577838561Z",
     "start_time": "2023-11-10T22:54:12.574532519Z"
    }
   }
  },
  {
   "cell_type": "code",
   "execution_count": 117,
   "outputs": [
    {
     "data": {
      "text/plain": "10364    911\n6279     640\n4387     586\n392      560\n4391     487\n        ... \n12383      1\n4262       1\n4253       1\n3466       1\n1213       1\nName: st_id_rem, Length: 415, dtype: Int64"
     },
     "execution_count": 117,
     "metadata": {},
     "output_type": "execute_result"
    }
   ],
   "source": [
    "pr_rems.st_id_rem.value_counts()"
   ],
   "metadata": {
    "collapsed": false,
    "ExecuteTime": {
     "end_time": "2023-11-10T22:54:31.570055684Z",
     "start_time": "2023-11-10T22:54:31.566498675Z"
    }
   }
  },
  {
   "cell_type": "code",
   "execution_count": 140,
   "outputs": [
    {
     "data": {
      "text/plain": "<Figure size 640x480 with 1 Axes>",
      "image/png": "[encoded data removed]"
     },
     "metadata": {},
     "output_type": "display_data"
    }
   ],
   "source": [
    "pr_rems.distance.hist();"
   ],
   "metadata": {
    "collapsed": false,
    "ExecuteTime": {
     "end_time": "2023-11-10T23:28:25.597872158Z",
     "start_time": "2023-11-10T23:28:25.449525737Z"
    }
   }
  },
  {
   "cell_type": "markdown",
   "source": [
    "# Tr_rems"
   ],
   "metadata": {
    "collapsed": false
   }
  },
  {
   "cell_type": "code",
   "execution_count": 141,
   "outputs": [
    {
     "data": {
      "text/plain": "      wagnum  rem_month  kod_vrab  neis1_kod  neis2_kod  neis3_kod  mod1_kod  \\\n0      29938 2022-08-01         3          0         98         54         7   \n1      29938 2022-08-01         3         14         98         54         7   \n2      29852 2022-08-01         2          0         98         54         7   \n3      29852 2022-08-01         2         36         98         54         7   \n4      13674 2022-08-01         2         95         98         54         7   \n...      ...        ...       ...        ...        ...        ...       ...   \n7695   31868 2023-01-01         3         14         98         54         7   \n7696   22921 2023-01-01         5          0         98         54         7   \n7697   22921 2023-01-01         3         34         95         54         7   \n7698    4978 2023-01-01         3        131         68         54         7   \n7699   16226 2023-01-01         3          6         98         54         7   \n\n      mod2_kod  mod3_kod  mod4_kod  mod5_kod  mod6_kod  mod7_kod  \\\n0            4         2         0         0         0         0   \n1            4         2         0         0         0         0   \n2            4         2         0         0         0         0   \n3            4         2         0         0         0         0   \n4            4         2         0         0         0         0   \n...        ...       ...       ...       ...       ...       ...   \n7695         4         2         0         0         0         0   \n7696         4         2         0         0         0         0   \n7697         4         2         0         0         0         0   \n7698         4         2         0         0         0         0   \n7699         4         2         0         0         0         0   \n\n      road_id_send  gr_probeg  por_probeg  st_id_send  \n0               38      87913       37467       10522  \n1               38      87913       37467       10441  \n2               28      81824       45579        4789  \n3               28      81824       45579        4789  \n4               28      64130       34697        4789  \n...            ...        ...         ...         ...  \n7695            42      88690       60006       11552  \n7696            28      93198       53596        6168  \n7697            28      93198       53596        6168  \n7698             3      72453       38209         262  \n7699            43      71577       20493       11915  \n\n[48652 rows x 17 columns]",
      "text/html": "<div>\n<style scoped>\n    .dataframe tbody tr th:only-of-type {\n        vertical-align: middle;\n    }\n\n    .dataframe tbody tr th {\n        vertical-align: top;\n    }\n\n    .dataframe thead th {\n        text-align: right;\n    }\n</style>\n<table border=\"1\" class=\"dataframe\">\n  <thead>\n    <tr style=\"text-align: right;\">\n      <th></th>\n      <th>wagnum</th>\n      <th>rem_month</th>\n      <th>kod_vrab</th>\n      <th>neis1_kod</th>\n      <th>neis2_kod</th>\n      <th>neis3_kod</th>\n      <th>mod1_kod</th>\n      <th>mod2_kod</th>\n      <th>mod3_kod</th>\n      <th>mod4_kod</th>\n      <th>mod5_kod</th>\n      <th>mod6_kod</th>\n      <th>mod7_kod</th>\n      <th>road_id_send</th>\n      <th>gr_probeg</th>\n      <th>por_probeg</th>\n      <th>st_id_send</th>\n    </tr>\n  </thead>\n  <tbody>\n    <tr>\n      <th>0</th>\n      <td>29938</td>\n      <td>2022-08-01</td>\n      <td>3</td>\n      <td>0</td>\n      <td>98</td>\n      <td>54</td>\n      <td>7</td>\n      <td>4</td>\n      <td>2</td>\n      <td>0</td>\n      <td>0</td>\n      <td>0</td>\n      <td>0</td>\n      <td>38</td>\n      <td>87913</td>\n      <td>37467</td>\n      <td>10522</td>\n    </tr>\n    <tr>\n      <th>1</th>\n      <td>29938</td>\n      <td>2022-08-01</td>\n      <td>3</td>\n      <td>14</td>\n      <td>98</td>\n      <td>54</td>\n      <td>7</td>\n      <td>4</td>\n      <td>2</td>\n      <td>0</td>\n      <td>0</td>\n      <td>0</td>\n      <td>0</td>\n      <td>38</td>\n      <td>87913</td>\n      <td>37467</td>\n      <td>10441</td>\n    </tr>\n    <tr>\n      <th>2</th>\n      <td>29852</td>\n      <td>2022-08-01</td>\n      <td>2</td>\n      <td>0</td>\n      <td>98</td>\n      <td>54</td>\n      <td>7</td>\n      <td>4</td>\n      <td>2</td>\n      <td>0</td>\n      <td>0</td>\n      <td>0</td>\n      <td>0</td>\n      <td>28</td>\n      <td>81824</td>\n      <td>45579</td>\n      <td>4789</td>\n    </tr>\n    <tr>\n      <th>3</th>\n      <td>29852</td>\n      <td>2022-08-01</td>\n      <td>2</td>\n      <td>36</td>\n      <td>98</td>\n      <td>54</td>\n      <td>7</td>\n      <td>4</td>\n      <td>2</td>\n      <td>0</td>\n      <td>0</td>\n      <td>0</td>\n      <td>0</td>\n      <td>28</td>\n      <td>81824</td>\n      <td>45579</td>\n      <td>4789</td>\n    </tr>\n    <tr>\n      <th>4</th>\n      <td>13674</td>\n      <td>2022-08-01</td>\n      <td>2</td>\n      <td>95</td>\n      <td>98</td>\n      <td>54</td>\n      <td>7</td>\n      <td>4</td>\n      <td>2</td>\n      <td>0</td>\n      <td>0</td>\n      <td>0</td>\n      <td>0</td>\n      <td>28</td>\n      <td>64130</td>\n      <td>34697</td>\n      <td>4789</td>\n    </tr>\n    <tr>\n      <th>...</th>\n      <td>...</td>\n      <td>...</td>\n      <td>...</td>\n      <td>...</td>\n      <td>...</td>\n      <td>...</td>\n      <td>...</td>\n      <td>...</td>\n      <td>...</td>\n      <td>...</td>\n      <td>...</td>\n      <td>...</td>\n      <td>...</td>\n      <td>...</td>\n      <td>...</td>\n      <td>...</td>\n      <td>...</td>\n    </tr>\n    <tr>\n      <th>7695</th>\n      <td>31868</td>\n      <td>2023-01-01</td>\n      <td>3</td>\n      <td>14</td>\n      <td>98</td>\n      <td>54</td>\n      <td>7</td>\n      <td>4</td>\n      <td>2</td>\n      <td>0</td>\n      <td>0</td>\n      <td>0</td>\n      <td>0</td>\n      <td>42</td>\n      <td>88690</td>\n      <td>60006</td>\n      <td>11552</td>\n    </tr>\n    <tr>\n      <th>7696</th>\n      <td>22921</td>\n      <td>2023-01-01</td>\n      <td>5</td>\n      <td>0</td>\n      <td>98</td>\n      <td>54</td>\n      <td>7</td>\n      <td>4</td>\n      <td>2</td>\n      <td>0</td>\n      <td>0</td>\n      <td>0</td>\n      <td>0</td>\n      <td>28</td>\n      <td>93198</td>\n      <td>53596</td>\n      <td>6168</td>\n    </tr>\n    <tr>\n      <th>7697</th>\n      <td>22921</td>\n      <td>2023-01-01</td>\n      <td>3</td>\n      <td>34</td>\n      <td>95</td>\n      <td>54</td>\n      <td>7</td>\n      <td>4</td>\n      <td>2</td>\n      <td>0</td>\n      <td>0</td>\n      <td>0</td>\n      <td>0</td>\n      <td>28</td>\n      <td>93198</td>\n      <td>53596</td>\n      <td>6168</td>\n    </tr>\n    <tr>\n      <th>7698</th>\n      <td>4978</td>\n      <td>2023-01-01</td>\n      <td>3</td>\n      <td>131</td>\n      <td>68</td>\n      <td>54</td>\n      <td>7</td>\n      <td>4</td>\n      <td>2</td>\n      <td>0</td>\n      <td>0</td>\n      <td>0</td>\n      <td>0</td>\n      <td>3</td>\n      <td>72453</td>\n      <td>38209</td>\n      <td>262</td>\n    </tr>\n    <tr>\n      <th>7699</th>\n      <td>16226</td>\n      <td>2023-01-01</td>\n      <td>3</td>\n      <td>6</td>\n      <td>98</td>\n      <td>54</td>\n      <td>7</td>\n      <td>4</td>\n      <td>2</td>\n      <td>0</td>\n      <td>0</td>\n      <td>0</td>\n      <td>0</td>\n      <td>43</td>\n      <td>71577</td>\n      <td>20493</td>\n      <td>11915</td>\n    </tr>\n  </tbody>\n</table>\n<p>48652 rows × 17 columns</p>\n</div>"
     },
     "execution_count": 141,
     "metadata": {},
     "output_type": "execute_result"
    }
   ],
   "source": [
    "tr_rems"
   ],
   "metadata": {
    "collapsed": false,
    "ExecuteTime": {
     "end_time": "2023-11-10T23:29:21.131466087Z",
     "start_time": "2023-11-10T23:29:21.089333815Z"
    }
   }
  },
  {
   "cell_type": "code",
   "execution_count": 47,
   "outputs": [
    {
     "data": {
      "text/plain": "3    26538\n2    19135\n5     2979\nName: kod_vrab, dtype: Int64"
     },
     "execution_count": 47,
     "metadata": {},
     "output_type": "execute_result"
    }
   ],
   "source": [
    "tr_rems.kod_vrab.value_counts()"
   ],
   "metadata": {
    "collapsed": false,
    "ExecuteTime": {
     "end_time": "2023-11-10T19:23:44.379651270Z",
     "start_time": "2023-11-10T19:23:44.376286142Z"
    }
   }
  },
  {
   "cell_type": "code",
   "execution_count": 231,
   "outputs": [
    {
     "data": {
      "text/plain": "0      24398\n2       5654\n95      3992\n6       3136\n88      1792\n       ...  \n113        1\n17         1\n91         1\n23         1\n64         1\nName: neis1_kod, Length: 120, dtype: Int64"
     },
     "execution_count": 231,
     "metadata": {},
     "output_type": "execute_result"
    }
   ],
   "source": [
    "tr_rems.neis1_kod.value_counts()"
   ],
   "metadata": {
    "collapsed": false,
    "ExecuteTime": {
     "end_time": "2023-11-11T09:03:32.786243804Z",
     "start_time": "2023-11-11T09:03:32.782450953Z"
    }
   }
  },
  {
   "cell_type": "code",
   "execution_count": 232,
   "outputs": [
    {
     "data": {
      "text/plain": "<Figure size 640x480 with 1 Axes>",
      "image/png": "[encoded data removed]"
     },
     "metadata": {},
     "output_type": "display_data"
    }
   ],
   "source": [
    "tr_rems.neis1_kod.hist();"
   ],
   "metadata": {
    "collapsed": false,
    "ExecuteTime": {
     "end_time": "2023-11-11T09:03:36.642419169Z",
     "start_time": "2023-11-11T09:03:36.490636819Z"
    }
   }
  },
  {
   "cell_type": "code",
   "execution_count": 145,
   "outputs": [
    {
     "data": {
      "text/plain": "17849"
     },
     "execution_count": 145,
     "metadata": {},
     "output_type": "execute_result"
    }
   ],
   "source": [
    "tr_rems.wagnum.nunique()"
   ],
   "metadata": {
    "collapsed": false,
    "ExecuteTime": {
     "end_time": "2023-11-10T23:32:32.436041387Z",
     "start_time": "2023-11-10T23:32:32.428768864Z"
    }
   }
  },
  {
   "cell_type": "code",
   "execution_count": 221,
   "outputs": [
    {
     "data": {
      "text/plain": "7    44660\n1     2447\n4      755\n2      525\n3      146\n6       64\n5       54\n0        1\nName: mod1_kod, dtype: Int64"
     },
     "execution_count": 221,
     "metadata": {},
     "output_type": "execute_result"
    }
   ],
   "source": [
    "tr_rems.mod2_kod.value_counts()\n",
    "# mod2 - mod7 -- почти одно значение (или реально только одно)\n",
    "# mod2 -- больше всего 4\n",
    "# mod3 -- больше всего 2\n",
    "# neis2_kod -- больше всего 98, 95, 96, 62\n",
    "# neis3_kod -- больше всего 54, 51"
   ],
   "metadata": {
    "collapsed": false,
    "ExecuteTime": {
     "end_time": "2023-11-11T08:59:07.783519035Z",
     "start_time": "2023-11-11T08:59:07.781290294Z"
    }
   }
  },
  {
   "cell_type": "code",
   "execution_count": 162,
   "outputs": [
    {
     "data": {
      "text/plain": "17672"
     },
     "execution_count": 162,
     "metadata": {},
     "output_type": "execute_result"
    }
   ],
   "source": [
    "tr_rems.dropna(subset=['gr_probeg', 'por_probeg']).wagnum.nunique()\n",
    "# Довольно мало nan"
   ],
   "metadata": {
    "collapsed": false,
    "ExecuteTime": {
     "end_time": "2023-11-10T23:40:34.109979853Z",
     "start_time": "2023-11-10T23:40:34.102447906Z"
    }
   }
  },
  {
   "cell_type": "code",
   "execution_count": 208,
   "outputs": [
    {
     "data": {
      "text/plain": "      wagnum  rem_month  rod_id       model  road_id_send  road_id_rem  \\\n1389   33769 2022-08-02       1      12-132             7            7   \n147     3996 2022-08-02       0  11-1807-01            15           15   \n679    24232 2022-08-02       1      12-132             7            7   \n1434    3919 2022-08-02       0  11-1807-01             6            6   \n784     3932 2022-08-02       0  11-1807-01            12           12   \n...      ...        ...     ...         ...           ...          ...   \n1287   27183 2023-01-31       1      12-132             6            7   \n788    25669 2023-01-31       1   12-132-03            13           12   \n187    28182 2023-01-31       1   12-132-03            19           19   \n1261   23549 2023-01-31       1      12-132             6            7   \n734     5717 2023-01-31       0      11-276             6            6   \n\n      kod_vrab  st_id_send  st_id_rem  distance  month  \n1389         0        4420       4387       179      8  \n147          0        7602       7827       473      8  \n679          1        4420       4391       125      8  \n1434         0        3823       3823       409      8  \n784          0        5272      12606       226      8  \n...        ...         ...        ...       ...    ...  \n1287         0        4421      12597       739      1  \n788          0        5032      12605       858      1  \n187          0       10016      10364       217      1  \n1261         1        4420      12597       766      1  \n734          0        3604       3457       461      1  \n\n[10441 rows x 11 columns]",
      "text/html": "<div>\n<style scoped>\n    .dataframe tbody tr th:only-of-type {\n        vertical-align: middle;\n    }\n\n    .dataframe tbody tr th {\n        vertical-align: top;\n    }\n\n    .dataframe thead th {\n        text-align: right;\n    }\n</style>\n<table border=\"1\" class=\"dataframe\">\n  <thead>\n    <tr style=\"text-align: right;\">\n      <th></th>\n      <th>wagnum</th>\n      <th>rem_month</th>\n      <th>rod_id</th>\n      <th>model</th>\n      <th>road_id_send</th>\n      <th>road_id_rem</th>\n      <th>kod_vrab</th>\n      <th>st_id_send</th>\n      <th>st_id_rem</th>\n      <th>distance</th>\n      <th>month</th>\n    </tr>\n  </thead>\n  <tbody>\n    <tr>\n      <th>1389</th>\n      <td>33769</td>\n      <td>2022-08-02</td>\n      <td>1</td>\n      <td>12-132</td>\n      <td>7</td>\n      <td>7</td>\n      <td>0</td>\n      <td>4420</td>\n      <td>4387</td>\n      <td>179</td>\n      <td>8</td>\n    </tr>\n    <tr>\n      <th>147</th>\n      <td>3996</td>\n      <td>2022-08-02</td>\n      <td>0</td>\n      <td>11-1807-01</td>\n      <td>15</td>\n      <td>15</td>\n      <td>0</td>\n      <td>7602</td>\n      <td>7827</td>\n      <td>473</td>\n      <td>8</td>\n    </tr>\n    <tr>\n      <th>679</th>\n      <td>24232</td>\n      <td>2022-08-02</td>\n      <td>1</td>\n      <td>12-132</td>\n      <td>7</td>\n      <td>7</td>\n      <td>1</td>\n      <td>4420</td>\n      <td>4391</td>\n      <td>125</td>\n      <td>8</td>\n    </tr>\n    <tr>\n      <th>1434</th>\n      <td>3919</td>\n      <td>2022-08-02</td>\n      <td>0</td>\n      <td>11-1807-01</td>\n      <td>6</td>\n      <td>6</td>\n      <td>0</td>\n      <td>3823</td>\n      <td>3823</td>\n      <td>409</td>\n      <td>8</td>\n    </tr>\n    <tr>\n      <th>784</th>\n      <td>3932</td>\n      <td>2022-08-02</td>\n      <td>0</td>\n      <td>11-1807-01</td>\n      <td>12</td>\n      <td>12</td>\n      <td>0</td>\n      <td>5272</td>\n      <td>12606</td>\n      <td>226</td>\n      <td>8</td>\n    </tr>\n    <tr>\n      <th>...</th>\n      <td>...</td>\n      <td>...</td>\n      <td>...</td>\n      <td>...</td>\n      <td>...</td>\n      <td>...</td>\n      <td>...</td>\n      <td>...</td>\n      <td>...</td>\n      <td>...</td>\n      <td>...</td>\n    </tr>\n    <tr>\n      <th>1287</th>\n      <td>27183</td>\n      <td>2023-01-31</td>\n      <td>1</td>\n      <td>12-132</td>\n      <td>6</td>\n      <td>7</td>\n      <td>0</td>\n      <td>4421</td>\n      <td>12597</td>\n      <td>739</td>\n      <td>1</td>\n    </tr>\n    <tr>\n      <th>788</th>\n      <td>25669</td>\n      <td>2023-01-31</td>\n      <td>1</td>\n      <td>12-132-03</td>\n      <td>13</td>\n      <td>12</td>\n      <td>0</td>\n      <td>5032</td>\n      <td>12605</td>\n      <td>858</td>\n      <td>1</td>\n    </tr>\n    <tr>\n      <th>187</th>\n      <td>28182</td>\n      <td>2023-01-31</td>\n      <td>1</td>\n      <td>12-132-03</td>\n      <td>19</td>\n      <td>19</td>\n      <td>0</td>\n      <td>10016</td>\n      <td>10364</td>\n      <td>217</td>\n      <td>1</td>\n    </tr>\n    <tr>\n      <th>1261</th>\n      <td>23549</td>\n      <td>2023-01-31</td>\n      <td>1</td>\n      <td>12-132</td>\n      <td>6</td>\n      <td>7</td>\n      <td>1</td>\n      <td>4420</td>\n      <td>12597</td>\n      <td>766</td>\n      <td>1</td>\n    </tr>\n    <tr>\n      <th>734</th>\n      <td>5717</td>\n      <td>2023-01-31</td>\n      <td>0</td>\n      <td>11-276</td>\n      <td>6</td>\n      <td>6</td>\n      <td>0</td>\n      <td>3604</td>\n      <td>3457</td>\n      <td>461</td>\n      <td>1</td>\n    </tr>\n  </tbody>\n</table>\n<p>10441 rows × 11 columns</p>\n</div>"
     },
     "execution_count": 208,
     "metadata": {},
     "output_type": "execute_result"
    }
   ],
   "source": [
    "tr_rems"
   ],
   "metadata": {
    "collapsed": false,
    "ExecuteTime": {
     "end_time": "2023-11-11T08:48:16.702203917Z",
     "start_time": "2023-11-11T08:48:16.690066488Z"
    }
   }
  },
  {
   "cell_type": "code",
   "execution_count": 211,
   "outputs": [
    {
     "name": "stderr",
     "output_type": "stream",
     "text": [
      "100%|██████████| 33977/33977 [01:50<00:00, 306.26it/s]\n"
     ]
    }
   ],
   "source": [
    "after_date = 0\n",
    "before_date = 0\n",
    "for wag in tqdm(y_train.wagnum.unique()):\n",
    "    for month in tr_rems[tr_rems.wagnum == wag].rem_month:\n",
    "        for ind, now_month in enumerate(y_train[y_train.wagnum == wag].month):\n",
    "            if y_train[y_train.wagnum == wag].iloc[ind, 2] == 1:\n",
    "                if str(now_month)[:7] > str(month)[:7]:\n",
    "                    before_date += 1\n",
    "                else:\n",
    "                    after_date += 1"
   ],
   "metadata": {
    "collapsed": false,
    "ExecuteTime": {
     "end_time": "2023-11-11T08:51:11.311908669Z",
     "start_time": "2023-11-11T08:49:20.315697622Z"
    }
   }
  },
  {
   "cell_type": "code",
   "execution_count": 213,
   "outputs": [
    {
     "data": {
      "text/plain": "(7183, 5923)"
     },
     "execution_count": 213,
     "metadata": {},
     "output_type": "execute_result"
    }
   ],
   "source": [
    "before_date, after_date\n",
    "# tr_rems и предсказания y_train независимы"
   ],
   "metadata": {
    "collapsed": false,
    "ExecuteTime": {
     "end_time": "2023-11-11T08:53:58.745809087Z",
     "start_time": "2023-11-11T08:53:58.699748378Z"
    }
   }
  },
  {
   "cell_type": "markdown",
   "source": [
    "# Генерация признаков для айдишников без лик"
   ],
   "metadata": {
    "collapsed": false
   }
  },
  {
   "cell_type": "code",
   "execution_count": 214,
   "outputs": [
    {
     "data": {
      "text/plain": "      wagnum  rem_month  kod_vrab  neis1_kod  neis2_kod  neis3_kod  mod1_kod  \\\n0      29938 2022-08-01         3          0         98         54         7   \n6027   19956 2022-08-01         3          0         98         54         7   \n6026   29113 2022-08-01         3          0         98         54         7   \n6025   29113 2022-08-01         3         36          2         54         7   \n6024   23726 2022-08-01         3          0         98         54         7   \n...      ...        ...       ...        ...        ...        ...       ...   \n2558    5719 2023-01-01         3          0         98         54         1   \n2557    5719 2023-01-01         3          6         19         51         7   \n2556   14345 2023-01-01         3          0         98         54         7   \n2644    9537 2023-01-01         3          0         98         54         7   \n7699   16226 2023-01-01         3          6         98         54         7   \n\n      mod2_kod  mod3_kod  mod4_kod  mod5_kod  mod6_kod  mod7_kod  \\\n0            4         2         0         0         0         0   \n6027         4         2         0         0         0         0   \n6026         4         2         0         0         0         0   \n6025         4         2         0         0         0         0   \n6024         4         2         0         0         0         0   \n...        ...       ...       ...       ...       ...       ...   \n2558         4         2         0         0         0         0   \n2557         4         2         0         0         0         0   \n2556         4         2         0         0         0         0   \n2644         4         2         0         0         0         0   \n7699         4         2         0         0         0         0   \n\n      road_id_send  gr_probeg  por_probeg  st_id_send  \n0               38      87913       37467       10522  \n6027            38      85569       42821        9753  \n6026            28      77399       40555        6321  \n6025            28      77399       40555        6321  \n6024            38      20531       15778       10380  \n...            ...        ...         ...         ...  \n2558            42      98308       56779       11464  \n2557            42      98308       56779       11464  \n2556            38      73618       26938        9726  \n2644            15      93646       26318        3735  \n7699            43      71577       20493       11915  \n\n[48652 rows x 17 columns]",
      "text/html": "<div>\n<style scoped>\n    .dataframe tbody tr th:only-of-type {\n        vertical-align: middle;\n    }\n\n    .dataframe tbody tr th {\n        vertical-align: top;\n    }\n\n    .dataframe thead th {\n        text-align: right;\n    }\n</style>\n<table border=\"1\" class=\"dataframe\">\n  <thead>\n    <tr style=\"text-align: right;\">\n      <th></th>\n      <th>wagnum</th>\n      <th>rem_month</th>\n      <th>kod_vrab</th>\n      <th>neis1_kod</th>\n      <th>neis2_kod</th>\n      <th>neis3_kod</th>\n      <th>mod1_kod</th>\n      <th>mod2_kod</th>\n      <th>mod3_kod</th>\n      <th>mod4_kod</th>\n      <th>mod5_kod</th>\n      <th>mod6_kod</th>\n      <th>mod7_kod</th>\n      <th>road_id_send</th>\n      <th>gr_probeg</th>\n      <th>por_probeg</th>\n      <th>st_id_send</th>\n    </tr>\n  </thead>\n  <tbody>\n    <tr>\n      <th>0</th>\n      <td>29938</td>\n      <td>2022-08-01</td>\n      <td>3</td>\n      <td>0</td>\n      <td>98</td>\n      <td>54</td>\n      <td>7</td>\n      <td>4</td>\n      <td>2</td>\n      <td>0</td>\n      <td>0</td>\n      <td>0</td>\n      <td>0</td>\n      <td>38</td>\n      <td>87913</td>\n      <td>37467</td>\n      <td>10522</td>\n    </tr>\n    <tr>\n      <th>6027</th>\n      <td>19956</td>\n      <td>2022-08-01</td>\n      <td>3</td>\n      <td>0</td>\n      <td>98</td>\n      <td>54</td>\n      <td>7</td>\n      <td>4</td>\n      <td>2</td>\n      <td>0</td>\n      <td>0</td>\n      <td>0</td>\n      <td>0</td>\n      <td>38</td>\n      <td>85569</td>\n      <td>42821</td>\n      <td>9753</td>\n    </tr>\n    <tr>\n      <th>6026</th>\n      <td>29113</td>\n      <td>2022-08-01</td>\n      <td>3</td>\n      <td>0</td>\n      <td>98</td>\n      <td>54</td>\n      <td>7</td>\n      <td>4</td>\n      <td>2</td>\n      <td>0</td>\n      <td>0</td>\n      <td>0</td>\n      <td>0</td>\n      <td>28</td>\n      <td>77399</td>\n      <td>40555</td>\n      <td>6321</td>\n    </tr>\n    <tr>\n      <th>6025</th>\n      <td>29113</td>\n      <td>2022-08-01</td>\n      <td>3</td>\n      <td>36</td>\n      <td>2</td>\n      <td>54</td>\n      <td>7</td>\n      <td>4</td>\n      <td>2</td>\n      <td>0</td>\n      <td>0</td>\n      <td>0</td>\n      <td>0</td>\n      <td>28</td>\n      <td>77399</td>\n      <td>40555</td>\n      <td>6321</td>\n    </tr>\n    <tr>\n      <th>6024</th>\n      <td>23726</td>\n      <td>2022-08-01</td>\n      <td>3</td>\n      <td>0</td>\n      <td>98</td>\n      <td>54</td>\n      <td>7</td>\n      <td>4</td>\n      <td>2</td>\n      <td>0</td>\n      <td>0</td>\n      <td>0</td>\n      <td>0</td>\n      <td>38</td>\n      <td>20531</td>\n      <td>15778</td>\n      <td>10380</td>\n    </tr>\n    <tr>\n      <th>...</th>\n      <td>...</td>\n      <td>...</td>\n      <td>...</td>\n      <td>...</td>\n      <td>...</td>\n      <td>...</td>\n      <td>...</td>\n      <td>...</td>\n      <td>...</td>\n      <td>...</td>\n      <td>...</td>\n      <td>...</td>\n      <td>...</td>\n      <td>...</td>\n      <td>...</td>\n      <td>...</td>\n      <td>...</td>\n    </tr>\n    <tr>\n      <th>2558</th>\n      <td>5719</td>\n      <td>2023-01-01</td>\n      <td>3</td>\n      <td>0</td>\n      <td>98</td>\n      <td>54</td>\n      <td>1</td>\n      <td>4</td>\n      <td>2</td>\n      <td>0</td>\n      <td>0</td>\n      <td>0</td>\n      <td>0</td>\n      <td>42</td>\n      <td>98308</td>\n      <td>56779</td>\n      <td>11464</td>\n    </tr>\n    <tr>\n      <th>2557</th>\n      <td>5719</td>\n      <td>2023-01-01</td>\n      <td>3</td>\n      <td>6</td>\n      <td>19</td>\n      <td>51</td>\n      <td>7</td>\n      <td>4</td>\n      <td>2</td>\n      <td>0</td>\n      <td>0</td>\n      <td>0</td>\n      <td>0</td>\n      <td>42</td>\n      <td>98308</td>\n      <td>56779</td>\n      <td>11464</td>\n    </tr>\n    <tr>\n      <th>2556</th>\n      <td>14345</td>\n      <td>2023-01-01</td>\n      <td>3</td>\n      <td>0</td>\n      <td>98</td>\n      <td>54</td>\n      <td>7</td>\n      <td>4</td>\n      <td>2</td>\n      <td>0</td>\n      <td>0</td>\n      <td>0</td>\n      <td>0</td>\n      <td>38</td>\n      <td>73618</td>\n      <td>26938</td>\n      <td>9726</td>\n    </tr>\n    <tr>\n      <th>2644</th>\n      <td>9537</td>\n      <td>2023-01-01</td>\n      <td>3</td>\n      <td>0</td>\n      <td>98</td>\n      <td>54</td>\n      <td>7</td>\n      <td>4</td>\n      <td>2</td>\n      <td>0</td>\n      <td>0</td>\n      <td>0</td>\n      <td>0</td>\n      <td>15</td>\n      <td>93646</td>\n      <td>26318</td>\n      <td>3735</td>\n    </tr>\n    <tr>\n      <th>7699</th>\n      <td>16226</td>\n      <td>2023-01-01</td>\n      <td>3</td>\n      <td>6</td>\n      <td>98</td>\n      <td>54</td>\n      <td>7</td>\n      <td>4</td>\n      <td>2</td>\n      <td>0</td>\n      <td>0</td>\n      <td>0</td>\n      <td>0</td>\n      <td>43</td>\n      <td>71577</td>\n      <td>20493</td>\n      <td>11915</td>\n    </tr>\n  </tbody>\n</table>\n<p>48652 rows × 17 columns</p>\n</div>"
     },
     "execution_count": 214,
     "metadata": {},
     "output_type": "execute_result"
    }
   ],
   "source": [
    "def f(x):\n",
    "    if x.dropna().shape[0] == 0:\n",
    "        return x.fillna(0)\n",
    "    return x.fillna(int(x.dropna().mean()))"
   ],
   "metadata": {
    "collapsed": false,
    "ExecuteTime": {
     "end_time": "2023-11-11T08:55:32.841618085Z",
     "start_time": "2023-11-11T08:55:32.825538068Z"
    }
   }
  },
  {
   "cell_type": "code",
   "execution_count": 256,
   "outputs": [
    {
     "data": {
      "text/plain": "      wagnum  rem_month  rod_id      model  road_id_send  road_id_rem  \\\n1389   33769 2022-08-02       1     12-132             7            7   \n1848   29274 2022-08-02       1     12-132            18           18   \n1849   22096 2022-08-02       1     12-132            18           17   \n1850   23969 2022-08-02       1     12-132            18           18   \n1718   27915 2022-08-02       1  12-132-03            23           24   \n...      ...        ...     ...        ...           ...          ...   \n272    15447 2023-01-31       1     12-132            21           24   \n1133   28093 2023-01-31       1  12-132-03            13           13   \n1115   24541 2023-01-31       1     12-132            13           13   \n1460    7910 2023-01-31       0     11-286            12           12   \n734     5717 2023-01-31       0     11-276             6            6   \n\n      kod_vrab  st_id_send  st_id_rem  distance  month  \n1389         0        4420       4387       179      8  \n1848         1        9189      12647       175      8  \n1849         1        8921      12647       157      8  \n1850         1        9043      12647        19      8  \n1718         0       12393      11891        60      8  \n...        ...         ...        ...       ...    ...  \n272          0       12393      10951      6094      1  \n1133         0        6152       4789       305      1  \n1115         1        6152       4789       348      1  \n1460         0        5352       5310       223      1  \n734          0        3604       3457       461      1  \n\n[10441 rows x 11 columns]",
      "text/html": "<div>\n<style scoped>\n    .dataframe tbody tr th:only-of-type {\n        vertical-align: middle;\n    }\n\n    .dataframe tbody tr th {\n        vertical-align: top;\n    }\n\n    .dataframe thead th {\n        text-align: right;\n    }\n</style>\n<table border=\"1\" class=\"dataframe\">\n  <thead>\n    <tr style=\"text-align: right;\">\n      <th></th>\n      <th>wagnum</th>\n      <th>rem_month</th>\n      <th>rod_id</th>\n      <th>model</th>\n      <th>road_id_send</th>\n      <th>road_id_rem</th>\n      <th>kod_vrab</th>\n      <th>st_id_send</th>\n      <th>st_id_rem</th>\n      <th>distance</th>\n      <th>month</th>\n    </tr>\n  </thead>\n  <tbody>\n    <tr>\n      <th>1389</th>\n      <td>33769</td>\n      <td>2022-08-02</td>\n      <td>1</td>\n      <td>12-132</td>\n      <td>7</td>\n      <td>7</td>\n      <td>0</td>\n      <td>4420</td>\n      <td>4387</td>\n      <td>179</td>\n      <td>8</td>\n    </tr>\n    <tr>\n      <th>1848</th>\n      <td>29274</td>\n      <td>2022-08-02</td>\n      <td>1</td>\n      <td>12-132</td>\n      <td>18</td>\n      <td>18</td>\n      <td>1</td>\n      <td>9189</td>\n      <td>12647</td>\n      <td>175</td>\n      <td>8</td>\n    </tr>\n    <tr>\n      <th>1849</th>\n      <td>22096</td>\n      <td>2022-08-02</td>\n      <td>1</td>\n      <td>12-132</td>\n      <td>18</td>\n      <td>17</td>\n      <td>1</td>\n      <td>8921</td>\n      <td>12647</td>\n      <td>157</td>\n      <td>8</td>\n    </tr>\n    <tr>\n      <th>1850</th>\n      <td>23969</td>\n      <td>2022-08-02</td>\n      <td>1</td>\n      <td>12-132</td>\n      <td>18</td>\n      <td>18</td>\n      <td>1</td>\n      <td>9043</td>\n      <td>12647</td>\n      <td>19</td>\n      <td>8</td>\n    </tr>\n    <tr>\n      <th>1718</th>\n      <td>27915</td>\n      <td>2022-08-02</td>\n      <td>1</td>\n      <td>12-132-03</td>\n      <td>23</td>\n      <td>24</td>\n      <td>0</td>\n      <td>12393</td>\n      <td>11891</td>\n      <td>60</td>\n      <td>8</td>\n    </tr>\n    <tr>\n      <th>...</th>\n      <td>...</td>\n      <td>...</td>\n      <td>...</td>\n      <td>...</td>\n      <td>...</td>\n      <td>...</td>\n      <td>...</td>\n      <td>...</td>\n      <td>...</td>\n      <td>...</td>\n      <td>...</td>\n    </tr>\n    <tr>\n      <th>272</th>\n      <td>15447</td>\n      <td>2023-01-31</td>\n      <td>1</td>\n      <td>12-132</td>\n      <td>21</td>\n      <td>24</td>\n      <td>0</td>\n      <td>12393</td>\n      <td>10951</td>\n      <td>6094</td>\n      <td>1</td>\n    </tr>\n    <tr>\n      <th>1133</th>\n      <td>28093</td>\n      <td>2023-01-31</td>\n      <td>1</td>\n      <td>12-132-03</td>\n      <td>13</td>\n      <td>13</td>\n      <td>0</td>\n      <td>6152</td>\n      <td>4789</td>\n      <td>305</td>\n      <td>1</td>\n    </tr>\n    <tr>\n      <th>1115</th>\n      <td>24541</td>\n      <td>2023-01-31</td>\n      <td>1</td>\n      <td>12-132</td>\n      <td>13</td>\n      <td>13</td>\n      <td>1</td>\n      <td>6152</td>\n      <td>4789</td>\n      <td>348</td>\n      <td>1</td>\n    </tr>\n    <tr>\n      <th>1460</th>\n      <td>7910</td>\n      <td>2023-01-31</td>\n      <td>0</td>\n      <td>11-286</td>\n      <td>12</td>\n      <td>12</td>\n      <td>0</td>\n      <td>5352</td>\n      <td>5310</td>\n      <td>223</td>\n      <td>1</td>\n    </tr>\n    <tr>\n      <th>734</th>\n      <td>5717</td>\n      <td>2023-01-31</td>\n      <td>0</td>\n      <td>11-276</td>\n      <td>6</td>\n      <td>6</td>\n      <td>0</td>\n      <td>3604</td>\n      <td>3457</td>\n      <td>461</td>\n      <td>1</td>\n    </tr>\n  </tbody>\n</table>\n<p>10441 rows × 11 columns</p>\n</div>"
     },
     "execution_count": 256,
     "metadata": {},
     "output_type": "execute_result"
    }
   ],
   "source": [
    "tr_rems['gr_probeg'] = tr_rems.groupby(['wagnum', 'rem_month'])['gr_probeg'].transform(f)\n",
    "tr_rems['por_probeg'] = tr_rems.groupby(['wagnum', 'rem_month'])['por_probeg'].transform(f)"
   ],
   "metadata": {
    "collapsed": false,
    "ExecuteTime": {
     "end_time": "2023-11-11T10:36:01.006658324Z",
     "start_time": "2023-11-11T10:36:00.993796509Z"
    }
   }
  },
  {
   "cell_type": "code",
   "execution_count": 242,
   "outputs": [],
   "source": [
    "tr_data = tr_rems.groupby(['wagnum', 'rem_month']).agg(\n",
    "    kod_vrab_2_tr=('kod_vrab', lambda x: (x == 2).sum()),\n",
    "    kod_vrab_3_tr=('kod_vrab', lambda x: (x == 3).sum()),\n",
    "    kod_vrab_5_tr=('kod_vrab', lambda x: (x == 5).sum()),\n",
    "    neis1_kod_0_tr=('neis1_kod', lambda x: (x == 0).sum()),\n",
    "    neis1_kod_2_tr=('neis1_kod', lambda x: (x == 2).sum()),\n",
    "    neis1_kod_95_tr=('neis1_kod', lambda x: (x == 95).sum()),\n",
    "    neis1_kod_6_tr=('neis1_kod', lambda x: (x == 6).sum()),\n",
    "    neis1_kod_88_tr=('neis1_kod', lambda x: (x == 88).sum()),\n",
    "    neis1_kod_tr_max=('neis1_kod', 'max'),\n",
    "    neis2_kod_98_tr=('neis2_kod', lambda x: (x == 98).sum()),\n",
    "    neis2_kod_95_tr=('neis2_kod', lambda x: (x == 95).sum()),\n",
    "    neis2_kod_96_tr=('neis2_kod', lambda x: (x == 96).sum()),\n",
    "    neis2_kod_62_tr=('neis2_kod', lambda x: (x == 62).sum()),\n",
    "    neis2_kod_tr_max=('neis2_kod', 'max'),\n",
    "    neis3_kod_54_tr=('neis3_kod', lambda x: (x == 54).sum()),\n",
    "    neis3_kod_51_tr=('neis3_kod', lambda x: (x == 51).sum()),\n",
    "    neis3_kod_tr_max=('neis3_kod', 'max'),\n",
    "    mod1_kod_tr_min=('mod1_kod', 'min'),\n",
    "    mod1_kod_tr_max=('mod1_kod', 'max'),\n",
    "    mod2_kod_tr_min=('mod2_kod', 'min'),\n",
    "    mod2_kod_tr_max=('mod2_kod', 'max'),\n",
    "    gr_probeg_tr_max=('gr_probeg', 'max'),\n",
    "    gr_probeg_tr_mean=('gr_probeg', 'mean'),\n",
    "    gr_probeg_tr_min=('gr_probeg', 'min'),\n",
    "    por_probeg_tr_max=('por_probeg', 'max'),\n",
    "    por_probeg_tr_mean=('por_probeg', 'mean'),\n",
    "    por_probeg_tr_min=('por_probeg', 'min'),\n",
    "    _1m_tr_rems=('rem_month', 'count')\n",
    ").reset_index().rename(columns={'rem_month': 'month'})"
   ],
   "metadata": {
    "collapsed": false,
    "ExecuteTime": {
     "end_time": "2023-11-11T10:14:42.859211802Z",
     "start_time": "2023-11-11T10:14:34.993872654Z"
    }
   }
  },
  {
   "cell_type": "code",
   "execution_count": null,
   "outputs": [],
   "source": [
    "tr_data['month'] = tr_data.month.apply(lambda x: str(x)[:10])"
   ],
   "metadata": {
    "collapsed": false
   }
  },
  {
   "cell_type": "code",
   "execution_count": null,
   "outputs": [],
   "source": [
    "'''def g(x):\n",
    "    print(x)\n",
    "    for i in range(x.shape[0] - 1, 0, -1):\n",
    "        if abs(int(str(x.iloc[i, 0])[6:8]) - int(str(x.iloc[i-1, 0])[6:8])) % 11 == 1:\n",
    "            x.iloc[i, 1] += x.iloc[i-1, 1]\n",
    "    return x\n",
    "tr_data['_2m_tr_rems'] = tr_data.groupby('wagnum')[['month', '_1m_tr_rems']].transform(g)\n",
    "#tr_data['_2m_tr_rems'] = tr_data.groupby('wagnum').agg(aba=g)'''"
   ],
   "metadata": {
    "collapsed": false
   }
  },
  {
   "cell_type": "code",
   "execution_count": null,
   "outputs": [],
   "source": [
    "pr_rems['month_str'] = pr_rems.rem_month.apply(lambda x: str(x)[:10])\n",
    "pr_rems['just_month_str'] = pr_rems.month_str.apply(lambda x: x[:-2] + '01')\n",
    "pr_rems['diff_road'] = (pr_rems.road_id_rem != pr_rems.road_id_send).astype(int)\n",
    "pr_rems['diff_st'] = (pr_rems.st_id_rem != pr_rems.st_id_send).astype(int)"
   ],
   "metadata": {
    "collapsed": false
   }
  },
  {
   "cell_type": "code",
   "execution_count": null,
   "outputs": [],
   "source": [
    "pr_data = pr_rems.groupby(['wagnum', 'just_month_str']).agg(\n",
    "    kod_vrab_0_pr=('kod_vrab', lambda x: (x == 0).sum()),\n",
    "    kod_vrab_1_pr=('kod_vrab', lambda x: (x == 1).sum()),\n",
    "    diff_road_pr=('diff_road', 'sum'),\n",
    "    diff_st_pr=('diff_st', 'sum'),\n",
    "    _10d_pr_rems=('month_str', lambda x: (x >= x.max()[:-2] + '20').sum()),\n",
    "    _20d_pr_rems=('month_str', lambda x: (x >= x.max()[:-2] + '10').sum()),\n",
    "    _1m_pr_rems=('rem_month', 'count'),\n",
    "    rem_dist_pr_sum=('distance', 'sum'),\n",
    "    rem_dist_pr_mean=('distance', 'mean'),\n",
    ").reset_index().rename(columns={'just_month_str': 'month'})"
   ],
   "metadata": {
    "collapsed": false
   }
  },
  {
   "cell_type": "code",
   "execution_count": 246,
   "outputs": [
    {
     "data": {
      "text/plain": "wagnum           int64\nmonth           object\ntarget_month     int64\ntarget_day       int64\ndtype: object"
     },
     "execution_count": 246,
     "metadata": {},
     "output_type": "execute_result"
    }
   ],
   "source": [
    "y_test = pd.read_csv('train/target/y_predict_submit_example.csv')\n",
    "y_test['target_month'] = 0\n",
    "y_test['target_day'] = 0\n",
    "y_all = pd.concat([y_train, y_test], ignore_index=True)"
   ],
   "metadata": {
    "collapsed": false,
    "ExecuteTime": {
     "end_time": "2023-11-11T10:16:28.170831480Z",
     "start_time": "2023-11-11T10:16:28.165007166Z"
    }
   }
  },
  {
   "cell_type": "code",
   "execution_count": 253,
   "outputs": [],
   "source": [
    "y_all = y_all.merge(tr_data, on=['wagnum', 'month'], how='left').merge(pr_data, on=['wagnum', 'month'], how='left')"
   ],
   "metadata": {
    "collapsed": false,
    "ExecuteTime": {
     "end_time": "2023-11-11T10:30:05.623178528Z",
     "start_time": "2023-11-11T10:30:05.579023266Z"
    }
   }
  },
  {
   "cell_type": "code",
   "execution_count": 249,
   "outputs": [
    {
     "data": {
      "text/plain": "wagnum            Int64\nmonth            object\nkod_vrab_2        Int64\nkod_vrab_3        Int64\nkod_vrab_5        Int64\nneis1_kod_max     Int64\ndtype: object"
     },
     "execution_count": 249,
     "metadata": {},
     "output_type": "execute_result"
    }
   ],
   "source": [
    "y_all['_allm_pr_rems'] = y_all['_1m_pr_rems'].copy()\n",
    "y_all['_allm_tr_rems'] = y_all['_1m_tr_rems'].copy()"
   ],
   "metadata": {
    "collapsed": false,
    "ExecuteTime": {
     "end_time": "2023-11-11T10:18:37.823480404Z",
     "start_time": "2023-11-11T10:18:37.821077074Z"
    }
   }
  },
  {
   "cell_type": "code",
   "execution_count": 255,
   "outputs": [
    {
     "data": {
      "text/plain": "        wagnum       month  target_month  target_day  kod_vrab_2  kod_vrab_3  \\\n0        15844  2022-08-01             0           0        <NA>        <NA>   \n1         2049  2022-08-01             0           0           0           1   \n2         7974  2022-08-01             0           0        <NA>        <NA>   \n3          931  2022-08-01             0           0        <NA>        <NA>   \n4        26853  2022-08-01             0           0        <NA>        <NA>   \n...        ...         ...           ...         ...         ...         ...   \n203848   18719  2023-01-01             0           0        <NA>        <NA>   \n203849   18733  2023-01-01             0           0        <NA>        <NA>   \n203850    2563  2023-01-01             0           0        <NA>        <NA>   \n203851    2828  2023-01-01             0           0        <NA>        <NA>   \n203852   33361  2023-01-01             0           0        <NA>        <NA>   \n\n        kod_vrab_5  neis1_kod_max  \n0             <NA>           <NA>  \n1                0             14  \n2             <NA>           <NA>  \n3             <NA>           <NA>  \n4             <NA>           <NA>  \n...            ...            ...  \n203848        <NA>           <NA>  \n203849        <NA>           <NA>  \n203850        <NA>           <NA>  \n203851        <NA>           <NA>  \n203852        <NA>           <NA>  \n\n[203853 rows x 8 columns]",
      "text/html": "<div>\n<style scoped>\n    .dataframe tbody tr th:only-of-type {\n        vertical-align: middle;\n    }\n\n    .dataframe tbody tr th {\n        vertical-align: top;\n    }\n\n    .dataframe thead th {\n        text-align: right;\n    }\n</style>\n<table border=\"1\" class=\"dataframe\">\n  <thead>\n    <tr style=\"text-align: right;\">\n      <th></th>\n      <th>wagnum</th>\n      <th>month</th>\n      <th>target_month</th>\n      <th>target_day</th>\n      <th>kod_vrab_2</th>\n      <th>kod_vrab_3</th>\n      <th>kod_vrab_5</th>\n      <th>neis1_kod_max</th>\n    </tr>\n  </thead>\n  <tbody>\n    <tr>\n      <th>0</th>\n      <td>15844</td>\n      <td>2022-08-01</td>\n      <td>0</td>\n      <td>0</td>\n      <td>&lt;NA&gt;</td>\n      <td>&lt;NA&gt;</td>\n      <td>&lt;NA&gt;</td>\n      <td>&lt;NA&gt;</td>\n    </tr>\n    <tr>\n      <th>1</th>\n      <td>2049</td>\n      <td>2022-08-01</td>\n      <td>0</td>\n      <td>0</td>\n      <td>0</td>\n      <td>1</td>\n      <td>0</td>\n      <td>14</td>\n    </tr>\n    <tr>\n      <th>2</th>\n      <td>7974</td>\n      <td>2022-08-01</td>\n      <td>0</td>\n      <td>0</td>\n      <td>&lt;NA&gt;</td>\n      <td>&lt;NA&gt;</td>\n      <td>&lt;NA&gt;</td>\n      <td>&lt;NA&gt;</td>\n    </tr>\n    <tr>\n      <th>3</th>\n      <td>931</td>\n      <td>2022-08-01</td>\n      <td>0</td>\n      <td>0</td>\n      <td>&lt;NA&gt;</td>\n      <td>&lt;NA&gt;</td>\n      <td>&lt;NA&gt;</td>\n      <td>&lt;NA&gt;</td>\n    </tr>\n    <tr>\n      <th>4</th>\n      <td>26853</td>\n      <td>2022-08-01</td>\n      <td>0</td>\n      <td>0</td>\n      <td>&lt;NA&gt;</td>\n      <td>&lt;NA&gt;</td>\n      <td>&lt;NA&gt;</td>\n      <td>&lt;NA&gt;</td>\n    </tr>\n    <tr>\n      <th>...</th>\n      <td>...</td>\n      <td>...</td>\n      <td>...</td>\n      <td>...</td>\n      <td>...</td>\n      <td>...</td>\n      <td>...</td>\n      <td>...</td>\n    </tr>\n    <tr>\n      <th>203848</th>\n      <td>18719</td>\n      <td>2023-01-01</td>\n      <td>0</td>\n      <td>0</td>\n      <td>&lt;NA&gt;</td>\n      <td>&lt;NA&gt;</td>\n      <td>&lt;NA&gt;</td>\n      <td>&lt;NA&gt;</td>\n    </tr>\n    <tr>\n      <th>203849</th>\n      <td>18733</td>\n      <td>2023-01-01</td>\n      <td>0</td>\n      <td>0</td>\n      <td>&lt;NA&gt;</td>\n      <td>&lt;NA&gt;</td>\n      <td>&lt;NA&gt;</td>\n      <td>&lt;NA&gt;</td>\n    </tr>\n    <tr>\n      <th>203850</th>\n      <td>2563</td>\n      <td>2023-01-01</td>\n      <td>0</td>\n      <td>0</td>\n      <td>&lt;NA&gt;</td>\n      <td>&lt;NA&gt;</td>\n      <td>&lt;NA&gt;</td>\n      <td>&lt;NA&gt;</td>\n    </tr>\n    <tr>\n      <th>203851</th>\n      <td>2828</td>\n      <td>2023-01-01</td>\n      <td>0</td>\n      <td>0</td>\n      <td>&lt;NA&gt;</td>\n      <td>&lt;NA&gt;</td>\n      <td>&lt;NA&gt;</td>\n      <td>&lt;NA&gt;</td>\n    </tr>\n    <tr>\n      <th>203852</th>\n      <td>33361</td>\n      <td>2023-01-01</td>\n      <td>0</td>\n      <td>0</td>\n      <td>&lt;NA&gt;</td>\n      <td>&lt;NA&gt;</td>\n      <td>&lt;NA&gt;</td>\n      <td>&lt;NA&gt;</td>\n    </tr>\n  </tbody>\n</table>\n<p>203853 rows × 8 columns</p>\n</div>"
     },
     "execution_count": 255,
     "metadata": {},
     "output_type": "execute_result"
    }
   ],
   "source": [
    "y_all"
   ],
   "metadata": {
    "collapsed": false,
    "ExecuteTime": {
     "end_time": "2023-11-11T10:30:11.875469557Z",
     "start_time": "2023-11-11T10:30:11.827364540Z"
    }
   }
  },
  {
   "cell_type": "code",
   "execution_count": 106,
   "outputs": [
    {
     "data": {
      "text/plain": "Index(['wagnum', 'month', 'target_month', 'target_day', 'kod_vrab_2_tr',\n       'kod_vrab_3_tr', 'kod_vrab_5_tr', 'neis1_kod_0_tr', 'neis1_kod_2_tr',\n       'neis1_kod_95_tr', 'neis1_kod_6_tr', 'neis1_kod_88_tr',\n       'neis1_kod_tr_max', 'neis2_kod_98_tr', 'neis2_kod_95_tr',\n       'neis2_kod_96_tr', 'neis2_kod_62_tr', 'neis2_kod_tr_max',\n       'neis3_kod_54_tr', 'neis3_kod_51_tr', 'neis3_kod_tr_max',\n       'mod1_kod_tr_min', 'mod1_kod_tr_max', 'mod2_kod_tr_min',\n       'mod2_kod_tr_max', 'gr_probeg_tr_max', 'gr_probeg_tr_mean',\n       'gr_probeg_tr_min', 'por_probeg_tr_max', 'por_probeg_tr_mean',\n       'por_probeg_tr_min', '_1m_tr_rems', 'kod_vrab_0_pr', 'kod_vrab_1_pr',\n       'diff_road_pr', 'diff_st_pr', '_10d_pr_rems', '_20d_pr_rems',\n       '_1m_pr_rems', 'rem_dist_pr_sum', 'rem_dist_pr_mean', '_allm_pr_rems',\n       '_allm_tr_rems'],\n      dtype='object')"
     },
     "execution_count": 106,
     "metadata": {},
     "output_type": "execute_result"
    }
   ],
   "source": [
    "y_all.columns"
   ],
   "metadata": {
    "collapsed": false,
    "ExecuteTime": {
     "end_time": "2023-11-11T22:12:54.070584365Z",
     "start_time": "2023-11-11T22:12:54.061237891Z"
    }
   }
  },
  {
   "cell_type": "code",
   "execution_count": null,
   "outputs": [],
   "source": [
    "def shift_and_k_nan(k):\n",
    "    def ff(x):\n",
    "        x.iloc[1:] = x.iloc[:-1]\n",
    "        x.iloc[0] = k\n",
    "        x = x.fillna(k)\n",
    "        return x\n",
    "    return ff\n",
    "ff = shift_and_k_nan(1000)\n",
    "ff(pd.Series([1, 2, 3, 4, np.nan, 5]))"
   ],
   "metadata": {
    "collapsed": false
   }
  },
  {
   "cell_type": "code",
   "execution_count": 182,
   "outputs": [
    {
     "data": {
      "text/plain": "        min_diff\nwagnum          \n6327           0\n24481          0\n29852          0\n24439          0\n13815          0\n...          ...\n20657      10000\n20659      10000\n20661      10000\n20597      10000\n33976      10000\n\n[10393 rows x 1 columns]",
      "text/html": "<div>\n<style scoped>\n    .dataframe tbody tr th:only-of-type {\n        vertical-align: middle;\n    }\n\n    .dataframe tbody tr th {\n        vertical-align: top;\n    }\n\n    .dataframe thead th {\n        text-align: right;\n    }\n</style>\n<table border=\"1\" class=\"dataframe\">\n  <thead>\n    <tr style=\"text-align: right;\">\n      <th></th>\n      <th>min_diff</th>\n    </tr>\n    <tr>\n      <th>wagnum</th>\n      <th></th>\n    </tr>\n  </thead>\n  <tbody>\n    <tr>\n      <th>6327</th>\n      <td>0</td>\n    </tr>\n    <tr>\n      <th>24481</th>\n      <td>0</td>\n    </tr>\n    <tr>\n      <th>29852</th>\n      <td>0</td>\n    </tr>\n    <tr>\n      <th>24439</th>\n      <td>0</td>\n    </tr>\n    <tr>\n      <th>13815</th>\n      <td>0</td>\n    </tr>\n    <tr>\n      <th>...</th>\n      <td>...</td>\n    </tr>\n    <tr>\n      <th>20657</th>\n      <td>10000</td>\n    </tr>\n    <tr>\n      <th>20659</th>\n      <td>10000</td>\n    </tr>\n    <tr>\n      <th>20661</th>\n      <td>10000</td>\n    </tr>\n    <tr>\n      <th>20597</th>\n      <td>10000</td>\n    </tr>\n    <tr>\n      <th>33976</th>\n      <td>10000</td>\n    </tr>\n  </tbody>\n</table>\n<p>10393 rows × 1 columns</p>\n</div>"
     },
     "execution_count": 182,
     "metadata": {},
     "output_type": "execute_result"
    }
   ],
   "source": [
    "def shift_and_pref_sum(x):\n",
    "    x = x.fillna(0)\n",
    "    x.iloc[1:] = x.iloc[:-1]\n",
    "    x.iloc[0] = 0\n",
    "    for i in range(1, x.shape[0]):\n",
    "        x.iloc[i] += x.iloc[i-1]\n",
    "    return x\n",
    "shift_and_pref_sum(pd.Series([1, np.nan, 0, 4, np.nan, 5]))"
   ],
   "metadata": {
    "collapsed": false,
    "ExecuteTime": {
     "end_time": "2023-11-11T00:23:42.320768835Z",
     "start_time": "2023-11-11T00:23:42.117096312Z"
    }
   }
  },
  {
   "cell_type": "code",
   "execution_count": 179,
   "outputs": [
    {
     "ename": "ValueError",
     "evalue": "zero-size array to reduction operation minimum which has no identity",
     "output_type": "error",
     "traceback": [
      "\u001B[0;31m---------------------------------------------------------------------------\u001B[0m",
      "\u001B[0;31mValueError\u001B[0m                                Traceback (most recent call last)",
      "Cell \u001B[0;32mIn[179], line 1\u001B[0m\n\u001B[0;32m----> 1\u001B[0m \u001B[43mnp\u001B[49m\u001B[38;5;241;43m.\u001B[39;49m\u001B[43mdiff\u001B[49m\u001B[43m(\u001B[49m\u001B[43mnp\u001B[49m\u001B[38;5;241;43m.\u001B[39;49m\u001B[43marray\u001B[49m\u001B[43m(\u001B[49m\u001B[43m[\u001B[49m\u001B[38;5;241;43m1\u001B[39;49m\u001B[43m]\u001B[49m\u001B[43m)\u001B[49m\u001B[43m)\u001B[49m\u001B[38;5;241;43m.\u001B[39;49m\u001B[43mmin\u001B[49m\u001B[43m(\u001B[49m\u001B[43m)\u001B[49m\n",
      "File \u001B[0;32m~/.local/lib/python3.10/site-packages/numpy/core/_methods.py:44\u001B[0m, in \u001B[0;36m_amin\u001B[0;34m(a, axis, out, keepdims, initial, where)\u001B[0m\n\u001B[1;32m     42\u001B[0m \u001B[38;5;28;01mdef\u001B[39;00m \u001B[38;5;21m_amin\u001B[39m(a, axis\u001B[38;5;241m=\u001B[39m\u001B[38;5;28;01mNone\u001B[39;00m, out\u001B[38;5;241m=\u001B[39m\u001B[38;5;28;01mNone\u001B[39;00m, keepdims\u001B[38;5;241m=\u001B[39m\u001B[38;5;28;01mFalse\u001B[39;00m,\n\u001B[1;32m     43\u001B[0m           initial\u001B[38;5;241m=\u001B[39m_NoValue, where\u001B[38;5;241m=\u001B[39m\u001B[38;5;28;01mTrue\u001B[39;00m):\n\u001B[0;32m---> 44\u001B[0m     \u001B[38;5;28;01mreturn\u001B[39;00m \u001B[43mumr_minimum\u001B[49m\u001B[43m(\u001B[49m\u001B[43ma\u001B[49m\u001B[43m,\u001B[49m\u001B[43m \u001B[49m\u001B[43maxis\u001B[49m\u001B[43m,\u001B[49m\u001B[43m \u001B[49m\u001B[38;5;28;43;01mNone\u001B[39;49;00m\u001B[43m,\u001B[49m\u001B[43m \u001B[49m\u001B[43mout\u001B[49m\u001B[43m,\u001B[49m\u001B[43m \u001B[49m\u001B[43mkeepdims\u001B[49m\u001B[43m,\u001B[49m\u001B[43m \u001B[49m\u001B[43minitial\u001B[49m\u001B[43m,\u001B[49m\u001B[43m \u001B[49m\u001B[43mwhere\u001B[49m\u001B[43m)\u001B[49m\n",
      "\u001B[0;31mValueError\u001B[0m: zero-size array to reduction operation minimum which has no identity"
     ]
    }
   ],
   "source": [
    "column_to_function = {\n",
    "    'kod_vrab_2_tr':shift_and_k_nan(0),\n",
    "    'kod_vrab_3_tr':shift_and_k_nan(0),\n",
    "    'kod_vrab_5_tr':shift_and_k_nan(0),\n",
    "    'neis1_kod_0_tr':shift_and_k_nan(0),\n",
    "    'neis1_kod_2_tr':shift_and_k_nan(0),\n",
    "    'neis1_kod_95_tr':shift_and_k_nan(0),\n",
    "    'neis1_kod_6_tr':shift_and_k_nan(0),\n",
    "    'neis1_kod_88_tr':shift_and_k_nan(0),\n",
    "    'neis1_kod_tr_max':shift_and_k_nan(-1),\n",
    "    'neis2_kod_98_tr':shift_and_k_nan(0),\n",
    "    'neis2_kod_95_tr':shift_and_k_nan(0),\n",
    "    'neis2_kod_96_tr':shift_and_k_nan(0),\n",
    "    'neis2_kod_62_tr':shift_and_k_nan(0),\n",
    "    'neis2_kod_tr_max':shift_and_k_nan(-1),\n",
    "    'neis3_kod_54_tr':shift_and_k_nan(0),\n",
    "    'neis3_kod_51_tr':shift_and_k_nan(0),\n",
    "    'neis3_kod_tr_max':shift_and_k_nan(-1),\n",
    "    'mod1_kod_tr_min':shift_and_k_nan(-1),\n",
    "    'mod1_kod_tr_max':shift_and_k_nan(-1),\n",
    "    'mod2_kod_tr_min':shift_and_k_nan(-1),\n",
    "    'mod2_kod_tr_max':shift_and_k_nan(-1),\n",
    "    'gr_probeg_tr_max':shift_and_k_nan(0),\n",
    "    'gr_probeg_tr_mean':shift_and_k_nan(0),\n",
    "    'gr_probeg_tr_min':shift_and_k_nan(0),\n",
    "    'por_probeg_tr_max':shift_and_k_nan(0),\n",
    "    'por_probeg_tr_mean':shift_and_k_nan(0),\n",
    "    'por_probeg_tr_min':shift_and_k_nan(0),\n",
    "    '_1m_tr_rems':shift_and_k_nan(0),\n",
    "    'kod_vrab_0_pr':shift_and_k_nan(0),\n",
    "    'kod_vrab_1_pr':shift_and_k_nan(0),\n",
    "    'diff_road_pr':shift_and_k_nan(0),\n",
    "    'diff_st_pr':shift_and_k_nan(0),\n",
    "    '_10d_pr_rems':shift_and_k_nan(0),\n",
    "    '_20d_pr_rems':shift_and_k_nan(0),\n",
    "    '_1m_pr_rems':shift_and_k_nan(0),\n",
    "    'rem_dist_pr_sum':shift_and_k_nan(0),\n",
    "    'rem_dist_pr_mean':shift_and_k_nan(0),\n",
    "    '_allm_pr_rems':shift_and_pref_sum,\n",
    "    '_allm_tr_rems':shift_and_pref_sum,\n",
    "}\n",
    "\n",
    "cat_features = []"
   ],
   "metadata": {
    "collapsed": false,
    "ExecuteTime": {
     "end_time": "2023-11-11T00:22:44.049805154Z",
     "start_time": "2023-11-11T00:22:44.007010280Z"
    }
   }
  },
  {
   "cell_type": "code",
   "execution_count": null,
   "outputs": [],
   "source": [
    "y_all_gr = y_all.groupby('wagnum')\n",
    "for column, function in tqdm(column_to_function.items()):\n",
    "    y_all[column] = y_all.groupby('wagnum')[column].transform(function)"
   ],
   "metadata": {
    "collapsed": false
   }
  },
  {
   "cell_type": "code",
   "execution_count": 95,
   "outputs": [
    {
     "data": {
      "text/plain": "        wagnum       month  target_month  target_day  kod_vrab_2_tr  \\\n0        15844  2022-08-01             0           0              0   \n1         2049  2022-08-01             0           0              0   \n2         7974  2022-08-01             0           0              0   \n3          931  2022-08-01             0           0              0   \n4        26853  2022-08-01             0           0              0   \n...        ...         ...           ...         ...            ...   \n271263   17621  2023-03-01             0           0              0   \n271264   25045  2023-03-01             0           0              0   \n271265   27156  2023-03-01             0           0              0   \n271266   21361  2023-03-01             0           0              0   \n271267    8061  2023-03-01             0           0              0   \n\n        kod_vrab_3_tr  kod_vrab_5_tr  neis1_kod_0_tr  neis1_kod_2_tr  \\\n0                   0              0               0               0   \n1                   0              0               0               0   \n2                   0              0               0               0   \n3                   0              0               0               0   \n4                   0              0               0               0   \n...               ...            ...             ...             ...   \n271263              0              0               0               0   \n271264              0              0               0               0   \n271265              0              0               0               0   \n271266              0              0               0               0   \n271267              0              0               0               0   \n\n        neis1_kod_95_tr  ...  kod_vrab_1_pr  diff_road_pr  diff_st_pr  \\\n0                     0  ...              0           0.0         0.0   \n1                     0  ...              0           0.0         0.0   \n2                     0  ...              0           0.0         0.0   \n3                     0  ...              0           0.0         0.0   \n4                     0  ...              0           0.0         0.0   \n...                 ...  ...            ...           ...         ...   \n271263                0  ...              0           0.0         0.0   \n271264                0  ...              0           0.0         0.0   \n271265                0  ...              0           0.0         0.0   \n271266                0  ...              0           0.0         0.0   \n271267                0  ...              0           0.0         0.0   \n\n        _10d_pr_rems  _20d_pr_rems  _1m_pr_rems  rem_dist_pr_sum  \\\n0                0.0           0.0          0.0                0   \n1                0.0           0.0          0.0                0   \n2                0.0           0.0          0.0                0   \n3                0.0           0.0          0.0                0   \n4                0.0           0.0          0.0                0   \n...              ...           ...          ...              ...   \n271263           0.0           0.0          0.0                0   \n271264           0.0           0.0          0.0                0   \n271265           0.0           0.0          0.0                0   \n271266           0.0           0.0          0.0                0   \n271267           0.0           0.0          0.0                0   \n\n        rem_dist_pr_mean  _allm_pr_rems  _allm_tr_rems  \n0                    0.0            0.0            0.0  \n1                    0.0            0.0            0.0  \n2                    0.0            0.0            0.0  \n3                    0.0            0.0            0.0  \n4                    0.0            0.0            0.0  \n...                  ...            ...            ...  \n271263               0.0            0.0            0.0  \n271264               0.0            1.0            0.0  \n271265               0.0            1.0            4.0  \n271266               0.0            1.0            0.0  \n271267               0.0            1.0            0.0  \n\n[271268 rows x 43 columns]",
      "text/html": "<div>\n<style scoped>\n    .dataframe tbody tr th:only-of-type {\n        vertical-align: middle;\n    }\n\n    .dataframe tbody tr th {\n        vertical-align: top;\n    }\n\n    .dataframe thead th {\n        text-align: right;\n    }\n</style>\n<table border=\"1\" class=\"dataframe\">\n  <thead>\n    <tr style=\"text-align: right;\">\n      <th></th>\n      <th>wagnum</th>\n      <th>month</th>\n      <th>target_month</th>\n      <th>target_day</th>\n      <th>kod_vrab_2_tr</th>\n      <th>kod_vrab_3_tr</th>\n      <th>kod_vrab_5_tr</th>\n      <th>neis1_kod_0_tr</th>\n      <th>neis1_kod_2_tr</th>\n      <th>neis1_kod_95_tr</th>\n      <th>...</th>\n      <th>kod_vrab_1_pr</th>\n      <th>diff_road_pr</th>\n      <th>diff_st_pr</th>\n      <th>_10d_pr_rems</th>\n      <th>_20d_pr_rems</th>\n      <th>_1m_pr_rems</th>\n      <th>rem_dist_pr_sum</th>\n      <th>rem_dist_pr_mean</th>\n      <th>_allm_pr_rems</th>\n      <th>_allm_tr_rems</th>\n    </tr>\n  </thead>\n  <tbody>\n    <tr>\n      <th>0</th>\n      <td>15844</td>\n      <td>2022-08-01</td>\n      <td>0</td>\n      <td>0</td>\n      <td>0</td>\n      <td>0</td>\n      <td>0</td>\n      <td>0</td>\n      <td>0</td>\n      <td>0</td>\n      <td>...</td>\n      <td>0</td>\n      <td>0.0</td>\n      <td>0.0</td>\n      <td>0.0</td>\n      <td>0.0</td>\n      <td>0.0</td>\n      <td>0</td>\n      <td>0.0</td>\n      <td>0.0</td>\n      <td>0.0</td>\n    </tr>\n    <tr>\n      <th>1</th>\n      <td>2049</td>\n      <td>2022-08-01</td>\n      <td>0</td>\n      <td>0</td>\n      <td>0</td>\n      <td>0</td>\n      <td>0</td>\n      <td>0</td>\n      <td>0</td>\n      <td>0</td>\n      <td>...</td>\n      <td>0</td>\n      <td>0.0</td>\n      <td>0.0</td>\n      <td>0.0</td>\n      <td>0.0</td>\n      <td>0.0</td>\n      <td>0</td>\n      <td>0.0</td>\n      <td>0.0</td>\n      <td>0.0</td>\n    </tr>\n    <tr>\n      <th>2</th>\n      <td>7974</td>\n      <td>2022-08-01</td>\n      <td>0</td>\n      <td>0</td>\n      <td>0</td>\n      <td>0</td>\n      <td>0</td>\n      <td>0</td>\n      <td>0</td>\n      <td>0</td>\n      <td>...</td>\n      <td>0</td>\n      <td>0.0</td>\n      <td>0.0</td>\n      <td>0.0</td>\n      <td>0.0</td>\n      <td>0.0</td>\n      <td>0</td>\n      <td>0.0</td>\n      <td>0.0</td>\n      <td>0.0</td>\n    </tr>\n    <tr>\n      <th>3</th>\n      <td>931</td>\n      <td>2022-08-01</td>\n      <td>0</td>\n      <td>0</td>\n      <td>0</td>\n      <td>0</td>\n      <td>0</td>\n      <td>0</td>\n      <td>0</td>\n      <td>0</td>\n      <td>...</td>\n      <td>0</td>\n      <td>0.0</td>\n      <td>0.0</td>\n      <td>0.0</td>\n      <td>0.0</td>\n      <td>0.0</td>\n      <td>0</td>\n      <td>0.0</td>\n      <td>0.0</td>\n      <td>0.0</td>\n    </tr>\n    <tr>\n      <th>4</th>\n      <td>26853</td>\n      <td>2022-08-01</td>\n      <td>0</td>\n      <td>0</td>\n      <td>0</td>\n      <td>0</td>\n      <td>0</td>\n      <td>0</td>\n      <td>0</td>\n      <td>0</td>\n      <td>...</td>\n      <td>0</td>\n      <td>0.0</td>\n      <td>0.0</td>\n      <td>0.0</td>\n      <td>0.0</td>\n      <td>0.0</td>\n      <td>0</td>\n      <td>0.0</td>\n      <td>0.0</td>\n      <td>0.0</td>\n    </tr>\n    <tr>\n      <th>...</th>\n      <td>...</td>\n      <td>...</td>\n      <td>...</td>\n      <td>...</td>\n      <td>...</td>\n      <td>...</td>\n      <td>...</td>\n      <td>...</td>\n      <td>...</td>\n      <td>...</td>\n      <td>...</td>\n      <td>...</td>\n      <td>...</td>\n      <td>...</td>\n      <td>...</td>\n      <td>...</td>\n      <td>...</td>\n      <td>...</td>\n      <td>...</td>\n      <td>...</td>\n      <td>...</td>\n    </tr>\n    <tr>\n      <th>271263</th>\n      <td>17621</td>\n      <td>2023-03-01</td>\n      <td>0</td>\n      <td>0</td>\n      <td>0</td>\n      <td>0</td>\n      <td>0</td>\n      <td>0</td>\n      <td>0</td>\n      <td>0</td>\n      <td>...</td>\n      <td>0</td>\n      <td>0.0</td>\n      <td>0.0</td>\n      <td>0.0</td>\n      <td>0.0</td>\n      <td>0.0</td>\n      <td>0</td>\n      <td>0.0</td>\n      <td>0.0</td>\n      <td>0.0</td>\n    </tr>\n    <tr>\n      <th>271264</th>\n      <td>25045</td>\n      <td>2023-03-01</td>\n      <td>0</td>\n      <td>0</td>\n      <td>0</td>\n      <td>0</td>\n      <td>0</td>\n      <td>0</td>\n      <td>0</td>\n      <td>0</td>\n      <td>...</td>\n      <td>0</td>\n      <td>0.0</td>\n      <td>0.0</td>\n      <td>0.0</td>\n      <td>0.0</td>\n      <td>0.0</td>\n      <td>0</td>\n      <td>0.0</td>\n      <td>1.0</td>\n      <td>0.0</td>\n    </tr>\n    <tr>\n      <th>271265</th>\n      <td>27156</td>\n      <td>2023-03-01</td>\n      <td>0</td>\n      <td>0</td>\n      <td>0</td>\n      <td>0</td>\n      <td>0</td>\n      <td>0</td>\n      <td>0</td>\n      <td>0</td>\n      <td>...</td>\n      <td>0</td>\n      <td>0.0</td>\n      <td>0.0</td>\n      <td>0.0</td>\n      <td>0.0</td>\n      <td>0.0</td>\n      <td>0</td>\n      <td>0.0</td>\n      <td>1.0</td>\n      <td>4.0</td>\n    </tr>\n    <tr>\n      <th>271266</th>\n      <td>21361</td>\n      <td>2023-03-01</td>\n      <td>0</td>\n      <td>0</td>\n      <td>0</td>\n      <td>0</td>\n      <td>0</td>\n      <td>0</td>\n      <td>0</td>\n      <td>0</td>\n      <td>...</td>\n      <td>0</td>\n      <td>0.0</td>\n      <td>0.0</td>\n      <td>0.0</td>\n      <td>0.0</td>\n      <td>0.0</td>\n      <td>0</td>\n      <td>0.0</td>\n      <td>1.0</td>\n      <td>0.0</td>\n    </tr>\n    <tr>\n      <th>271267</th>\n      <td>8061</td>\n      <td>2023-03-01</td>\n      <td>0</td>\n      <td>0</td>\n      <td>0</td>\n      <td>0</td>\n      <td>0</td>\n      <td>0</td>\n      <td>0</td>\n      <td>0</td>\n      <td>...</td>\n      <td>0</td>\n      <td>0.0</td>\n      <td>0.0</td>\n      <td>0.0</td>\n      <td>0.0</td>\n      <td>0.0</td>\n      <td>0</td>\n      <td>0.0</td>\n      <td>1.0</td>\n      <td>0.0</td>\n    </tr>\n  </tbody>\n</table>\n<p>271268 rows × 43 columns</p>\n</div>"
     },
     "execution_count": 95,
     "metadata": {},
     "output_type": "execute_result"
    }
   ],
   "source": [
    "y_all"
   ],
   "metadata": {
    "collapsed": false,
    "ExecuteTime": {
     "end_time": "2023-11-11T21:53:00.974420655Z",
     "start_time": "2023-11-11T21:53:00.920027258Z"
    }
   }
  },
  {
   "cell_type": "code",
   "execution_count": 96,
   "outputs": [],
   "source": [
    "end_y_train = y_all[y_all.month != '2023-03-01']"
   ],
   "metadata": {
    "collapsed": false,
    "ExecuteTime": {
     "end_time": "2023-11-11T21:53:22.445300860Z",
     "start_time": "2023-11-11T21:53:22.403488576Z"
    }
   }
  },
  {
   "cell_type": "code",
   "execution_count": 107,
   "outputs": [
    {
     "data": {
      "text/plain": "        wagnum       month  target_month  target_day  kod_vrab_2_tr  \\\n0        15844  2022-08-01             0           0              0   \n1         2049  2022-08-01             0           0              0   \n2         7974  2022-08-01             0           0              0   \n3          931  2022-08-01             0           0              0   \n4        26853  2022-08-01             0           0              0   \n...        ...         ...           ...         ...            ...   \n237556   28985  2023-02-01             0           0              0   \n237557   24360  2023-02-01             0           0              0   \n237558   32421  2023-02-01             0           0              0   \n237559   32485  2023-02-01             0           0              0   \n237560    8061  2023-02-01             0           0              0   \n\n        kod_vrab_3_tr  kod_vrab_5_tr  neis1_kod_0_tr  neis1_kod_2_tr  \\\n0                   0              0               0               0   \n1                   0              0               0               0   \n2                   0              0               0               0   \n3                   0              0               0               0   \n4                   0              0               0               0   \n...               ...            ...             ...             ...   \n237556              0              0               0               0   \n237557              0              0               0               0   \n237558              0              0               0               0   \n237559              0              0               0               0   \n237560              0              0               0               0   \n\n        neis1_kod_95_tr  ...  kod_vrab_1_pr  diff_road_pr  diff_st_pr  \\\n0                     0  ...              0           0.0         0.0   \n1                     0  ...              0           0.0         0.0   \n2                     0  ...              0           0.0         0.0   \n3                     0  ...              0           0.0         0.0   \n4                     0  ...              0           0.0         0.0   \n...                 ...  ...            ...           ...         ...   \n237556                0  ...              0           0.0         0.0   \n237557                0  ...              0           0.0         0.0   \n237558                0  ...              0           0.0         0.0   \n237559                0  ...              0           0.0         0.0   \n237560                0  ...              0           0.0         0.0   \n\n        _10d_pr_rems  _20d_pr_rems  _1m_pr_rems  rem_dist_pr_sum  \\\n0                0.0           0.0          0.0                0   \n1                0.0           0.0          0.0                0   \n2                0.0           0.0          0.0                0   \n3                0.0           0.0          0.0                0   \n4                0.0           0.0          0.0                0   \n...              ...           ...          ...              ...   \n237556           0.0           0.0          0.0                0   \n237557           0.0           0.0          0.0                0   \n237558           0.0           0.0          0.0                0   \n237559           0.0           0.0          0.0                0   \n237560           0.0           0.0          0.0                0   \n\n        rem_dist_pr_mean  _allm_pr_rems  _allm_tr_rems  \n0                    0.0            0.0            0.0  \n1                    0.0            0.0            0.0  \n2                    0.0            0.0            0.0  \n3                    0.0            0.0            0.0  \n4                    0.0            0.0            0.0  \n...                  ...            ...            ...  \n237556               0.0            1.0            1.0  \n237557               0.0            1.0            4.0  \n237558               0.0            0.0            0.0  \n237559               0.0            0.0            0.0  \n237560               0.0            1.0            0.0  \n\n[237561 rows x 43 columns]",
      "text/html": "<div>\n<style scoped>\n    .dataframe tbody tr th:only-of-type {\n        vertical-align: middle;\n    }\n\n    .dataframe tbody tr th {\n        vertical-align: top;\n    }\n\n    .dataframe thead th {\n        text-align: right;\n    }\n</style>\n<table border=\"1\" class=\"dataframe\">\n  <thead>\n    <tr style=\"text-align: right;\">\n      <th></th>\n      <th>wagnum</th>\n      <th>month</th>\n      <th>target_month</th>\n      <th>target_day</th>\n      <th>kod_vrab_2_tr</th>\n      <th>kod_vrab_3_tr</th>\n      <th>kod_vrab_5_tr</th>\n      <th>neis1_kod_0_tr</th>\n      <th>neis1_kod_2_tr</th>\n      <th>neis1_kod_95_tr</th>\n      <th>...</th>\n      <th>kod_vrab_1_pr</th>\n      <th>diff_road_pr</th>\n      <th>diff_st_pr</th>\n      <th>_10d_pr_rems</th>\n      <th>_20d_pr_rems</th>\n      <th>_1m_pr_rems</th>\n      <th>rem_dist_pr_sum</th>\n      <th>rem_dist_pr_mean</th>\n      <th>_allm_pr_rems</th>\n      <th>_allm_tr_rems</th>\n    </tr>\n  </thead>\n  <tbody>\n    <tr>\n      <th>0</th>\n      <td>15844</td>\n      <td>2022-08-01</td>\n      <td>0</td>\n      <td>0</td>\n      <td>0</td>\n      <td>0</td>\n      <td>0</td>\n      <td>0</td>\n      <td>0</td>\n      <td>0</td>\n      <td>...</td>\n      <td>0</td>\n      <td>0.0</td>\n      <td>0.0</td>\n      <td>0.0</td>\n      <td>0.0</td>\n      <td>0.0</td>\n      <td>0</td>\n      <td>0.0</td>\n      <td>0.0</td>\n      <td>0.0</td>\n    </tr>\n    <tr>\n      <th>1</th>\n      <td>2049</td>\n      <td>2022-08-01</td>\n      <td>0</td>\n      <td>0</td>\n      <td>0</td>\n      <td>0</td>\n      <td>0</td>\n      <td>0</td>\n      <td>0</td>\n      <td>0</td>\n      <td>...</td>\n      <td>0</td>\n      <td>0.0</td>\n      <td>0.0</td>\n      <td>0.0</td>\n      <td>0.0</td>\n      <td>0.0</td>\n      <td>0</td>\n      <td>0.0</td>\n      <td>0.0</td>\n      <td>0.0</td>\n    </tr>\n    <tr>\n      <th>2</th>\n      <td>7974</td>\n      <td>2022-08-01</td>\n      <td>0</td>\n      <td>0</td>\n      <td>0</td>\n      <td>0</td>\n      <td>0</td>\n      <td>0</td>\n      <td>0</td>\n      <td>0</td>\n      <td>...</td>\n      <td>0</td>\n      <td>0.0</td>\n      <td>0.0</td>\n      <td>0.0</td>\n      <td>0.0</td>\n      <td>0.0</td>\n      <td>0</td>\n      <td>0.0</td>\n      <td>0.0</td>\n      <td>0.0</td>\n    </tr>\n    <tr>\n      <th>3</th>\n      <td>931</td>\n      <td>2022-08-01</td>\n      <td>0</td>\n      <td>0</td>\n      <td>0</td>\n      <td>0</td>\n      <td>0</td>\n      <td>0</td>\n      <td>0</td>\n      <td>0</td>\n      <td>...</td>\n      <td>0</td>\n      <td>0.0</td>\n      <td>0.0</td>\n      <td>0.0</td>\n      <td>0.0</td>\n      <td>0.0</td>\n      <td>0</td>\n      <td>0.0</td>\n      <td>0.0</td>\n      <td>0.0</td>\n    </tr>\n    <tr>\n      <th>4</th>\n      <td>26853</td>\n      <td>2022-08-01</td>\n      <td>0</td>\n      <td>0</td>\n      <td>0</td>\n      <td>0</td>\n      <td>0</td>\n      <td>0</td>\n      <td>0</td>\n      <td>0</td>\n      <td>...</td>\n      <td>0</td>\n      <td>0.0</td>\n      <td>0.0</td>\n      <td>0.0</td>\n      <td>0.0</td>\n      <td>0.0</td>\n      <td>0</td>\n      <td>0.0</td>\n      <td>0.0</td>\n      <td>0.0</td>\n    </tr>\n    <tr>\n      <th>...</th>\n      <td>...</td>\n      <td>...</td>\n      <td>...</td>\n      <td>...</td>\n      <td>...</td>\n      <td>...</td>\n      <td>...</td>\n      <td>...</td>\n      <td>...</td>\n      <td>...</td>\n      <td>...</td>\n      <td>...</td>\n      <td>...</td>\n      <td>...</td>\n      <td>...</td>\n      <td>...</td>\n      <td>...</td>\n      <td>...</td>\n      <td>...</td>\n      <td>...</td>\n      <td>...</td>\n    </tr>\n    <tr>\n      <th>237556</th>\n      <td>28985</td>\n      <td>2023-02-01</td>\n      <td>0</td>\n      <td>0</td>\n      <td>0</td>\n      <td>0</td>\n      <td>0</td>\n      <td>0</td>\n      <td>0</td>\n      <td>0</td>\n      <td>...</td>\n      <td>0</td>\n      <td>0.0</td>\n      <td>0.0</td>\n      <td>0.0</td>\n      <td>0.0</td>\n      <td>0.0</td>\n      <td>0</td>\n      <td>0.0</td>\n      <td>1.0</td>\n      <td>1.0</td>\n    </tr>\n    <tr>\n      <th>237557</th>\n      <td>24360</td>\n      <td>2023-02-01</td>\n      <td>0</td>\n      <td>0</td>\n      <td>0</td>\n      <td>0</td>\n      <td>0</td>\n      <td>0</td>\n      <td>0</td>\n      <td>0</td>\n      <td>...</td>\n      <td>0</td>\n      <td>0.0</td>\n      <td>0.0</td>\n      <td>0.0</td>\n      <td>0.0</td>\n      <td>0.0</td>\n      <td>0</td>\n      <td>0.0</td>\n      <td>1.0</td>\n      <td>4.0</td>\n    </tr>\n    <tr>\n      <th>237558</th>\n      <td>32421</td>\n      <td>2023-02-01</td>\n      <td>0</td>\n      <td>0</td>\n      <td>0</td>\n      <td>0</td>\n      <td>0</td>\n      <td>0</td>\n      <td>0</td>\n      <td>0</td>\n      <td>...</td>\n      <td>0</td>\n      <td>0.0</td>\n      <td>0.0</td>\n      <td>0.0</td>\n      <td>0.0</td>\n      <td>0.0</td>\n      <td>0</td>\n      <td>0.0</td>\n      <td>0.0</td>\n      <td>0.0</td>\n    </tr>\n    <tr>\n      <th>237559</th>\n      <td>32485</td>\n      <td>2023-02-01</td>\n      <td>0</td>\n      <td>0</td>\n      <td>0</td>\n      <td>0</td>\n      <td>0</td>\n      <td>0</td>\n      <td>0</td>\n      <td>0</td>\n      <td>...</td>\n      <td>0</td>\n      <td>0.0</td>\n      <td>0.0</td>\n      <td>0.0</td>\n      <td>0.0</td>\n      <td>0.0</td>\n      <td>0</td>\n      <td>0.0</td>\n      <td>0.0</td>\n      <td>0.0</td>\n    </tr>\n    <tr>\n      <th>237560</th>\n      <td>8061</td>\n      <td>2023-02-01</td>\n      <td>0</td>\n      <td>0</td>\n      <td>0</td>\n      <td>0</td>\n      <td>0</td>\n      <td>0</td>\n      <td>0</td>\n      <td>0</td>\n      <td>...</td>\n      <td>0</td>\n      <td>0.0</td>\n      <td>0.0</td>\n      <td>0.0</td>\n      <td>0.0</td>\n      <td>0.0</td>\n      <td>0</td>\n      <td>0.0</td>\n      <td>1.0</td>\n      <td>0.0</td>\n    </tr>\n  </tbody>\n</table>\n<p>237561 rows × 43 columns</p>\n</div>"
     },
     "execution_count": 107,
     "metadata": {},
     "output_type": "execute_result"
    }
   ],
   "source": [
    "end_y_train"
   ],
   "metadata": {
    "collapsed": false,
    "ExecuteTime": {
     "end_time": "2023-11-11T22:18:50.001725721Z",
     "start_time": "2023-11-11T22:18:49.959780158Z"
    }
   }
  },
  {
   "cell_type": "code",
   "execution_count": 98,
   "outputs": [],
   "source": [
    "end_y_test = y_all[y_all.month == '2023-03-01']"
   ],
   "metadata": {
    "collapsed": false,
    "ExecuteTime": {
     "end_time": "2023-11-11T21:53:44.315492986Z",
     "start_time": "2023-11-11T21:53:44.297655832Z"
    }
   }
  },
  {
   "cell_type": "code",
   "execution_count": 99,
   "outputs": [
    {
     "data": {
      "text/plain": "        wagnum       month  target_month  target_day  kod_vrab_2_tr  \\\n237561   33361  2023-03-01             0           0              0   \n237562   33364  2023-03-01             0           0              0   \n237563   33366  2023-03-01             0           0              0   \n237564   33358  2023-03-01             0           0              0   \n237565   33349  2023-03-01             0           0              0   \n...        ...         ...           ...         ...            ...   \n271263   17621  2023-03-01             0           0              0   \n271264   25045  2023-03-01             0           0              0   \n271265   27156  2023-03-01             0           0              0   \n271266   21361  2023-03-01             0           0              0   \n271267    8061  2023-03-01             0           0              0   \n\n        kod_vrab_3_tr  kod_vrab_5_tr  neis1_kod_0_tr  neis1_kod_2_tr  \\\n237561              0              0               0               0   \n237562              0              0               0               0   \n237563              0              0               0               0   \n237564              0              0               0               0   \n237565              0              0               0               0   \n...               ...            ...             ...             ...   \n271263              0              0               0               0   \n271264              0              0               0               0   \n271265              0              0               0               0   \n271266              0              0               0               0   \n271267              0              0               0               0   \n\n        neis1_kod_95_tr  ...  kod_vrab_1_pr  diff_road_pr  diff_st_pr  \\\n237561                0  ...              0           0.0         0.0   \n237562                0  ...              0           0.0         0.0   \n237563                0  ...              0           0.0         0.0   \n237564                0  ...              0           0.0         0.0   \n237565                0  ...              0           0.0         0.0   \n...                 ...  ...            ...           ...         ...   \n271263                0  ...              0           0.0         0.0   \n271264                0  ...              0           0.0         0.0   \n271265                0  ...              0           0.0         0.0   \n271266                0  ...              0           0.0         0.0   \n271267                0  ...              0           0.0         0.0   \n\n        _10d_pr_rems  _20d_pr_rems  _1m_pr_rems  rem_dist_pr_sum  \\\n237561           0.0           0.0          0.0                0   \n237562           0.0           0.0          0.0                0   \n237563           0.0           0.0          0.0                0   \n237564           0.0           0.0          0.0                0   \n237565           0.0           0.0          0.0                0   \n...              ...           ...          ...              ...   \n271263           0.0           0.0          0.0                0   \n271264           0.0           0.0          0.0                0   \n271265           0.0           0.0          0.0                0   \n271266           0.0           0.0          0.0                0   \n271267           0.0           0.0          0.0                0   \n\n        rem_dist_pr_mean  _allm_pr_rems  _allm_tr_rems  \n237561               0.0            1.0            3.0  \n237562               0.0            1.0            2.0  \n237563               0.0            1.0            2.0  \n237564               0.0            0.0            2.0  \n237565               0.0            1.0            0.0  \n...                  ...            ...            ...  \n271263               0.0            0.0            0.0  \n271264               0.0            1.0            0.0  \n271265               0.0            1.0            4.0  \n271266               0.0            1.0            0.0  \n271267               0.0            1.0            0.0  \n\n[33707 rows x 43 columns]",
      "text/html": "<div>\n<style scoped>\n    .dataframe tbody tr th:only-of-type {\n        vertical-align: middle;\n    }\n\n    .dataframe tbody tr th {\n        vertical-align: top;\n    }\n\n    .dataframe thead th {\n        text-align: right;\n    }\n</style>\n<table border=\"1\" class=\"dataframe\">\n  <thead>\n    <tr style=\"text-align: right;\">\n      <th></th>\n      <th>wagnum</th>\n      <th>month</th>\n      <th>target_month</th>\n      <th>target_day</th>\n      <th>kod_vrab_2_tr</th>\n      <th>kod_vrab_3_tr</th>\n      <th>kod_vrab_5_tr</th>\n      <th>neis1_kod_0_tr</th>\n      <th>neis1_kod_2_tr</th>\n      <th>neis1_kod_95_tr</th>\n      <th>...</th>\n      <th>kod_vrab_1_pr</th>\n      <th>diff_road_pr</th>\n      <th>diff_st_pr</th>\n      <th>_10d_pr_rems</th>\n      <th>_20d_pr_rems</th>\n      <th>_1m_pr_rems</th>\n      <th>rem_dist_pr_sum</th>\n      <th>rem_dist_pr_mean</th>\n      <th>_allm_pr_rems</th>\n      <th>_allm_tr_rems</th>\n    </tr>\n  </thead>\n  <tbody>\n    <tr>\n      <th>237561</th>\n      <td>33361</td>\n      <td>2023-03-01</td>\n      <td>0</td>\n      <td>0</td>\n      <td>0</td>\n      <td>0</td>\n      <td>0</td>\n      <td>0</td>\n      <td>0</td>\n      <td>0</td>\n      <td>...</td>\n      <td>0</td>\n      <td>0.0</td>\n      <td>0.0</td>\n      <td>0.0</td>\n      <td>0.0</td>\n      <td>0.0</td>\n      <td>0</td>\n      <td>0.0</td>\n      <td>1.0</td>\n      <td>3.0</td>\n    </tr>\n    <tr>\n      <th>237562</th>\n      <td>33364</td>\n      <td>2023-03-01</td>\n      <td>0</td>\n      <td>0</td>\n      <td>0</td>\n      <td>0</td>\n      <td>0</td>\n      <td>0</td>\n      <td>0</td>\n      <td>0</td>\n      <td>...</td>\n      <td>0</td>\n      <td>0.0</td>\n      <td>0.0</td>\n      <td>0.0</td>\n      <td>0.0</td>\n      <td>0.0</td>\n      <td>0</td>\n      <td>0.0</td>\n      <td>1.0</td>\n      <td>2.0</td>\n    </tr>\n    <tr>\n      <th>237563</th>\n      <td>33366</td>\n      <td>2023-03-01</td>\n      <td>0</td>\n      <td>0</td>\n      <td>0</td>\n      <td>0</td>\n      <td>0</td>\n      <td>0</td>\n      <td>0</td>\n      <td>0</td>\n      <td>...</td>\n      <td>0</td>\n      <td>0.0</td>\n      <td>0.0</td>\n      <td>0.0</td>\n      <td>0.0</td>\n      <td>0.0</td>\n      <td>0</td>\n      <td>0.0</td>\n      <td>1.0</td>\n      <td>2.0</td>\n    </tr>\n    <tr>\n      <th>237564</th>\n      <td>33358</td>\n      <td>2023-03-01</td>\n      <td>0</td>\n      <td>0</td>\n      <td>0</td>\n      <td>0</td>\n      <td>0</td>\n      <td>0</td>\n      <td>0</td>\n      <td>0</td>\n      <td>...</td>\n      <td>0</td>\n      <td>0.0</td>\n      <td>0.0</td>\n      <td>0.0</td>\n      <td>0.0</td>\n      <td>0.0</td>\n      <td>0</td>\n      <td>0.0</td>\n      <td>0.0</td>\n      <td>2.0</td>\n    </tr>\n    <tr>\n      <th>237565</th>\n      <td>33349</td>\n      <td>2023-03-01</td>\n      <td>0</td>\n      <td>0</td>\n      <td>0</td>\n      <td>0</td>\n      <td>0</td>\n      <td>0</td>\n      <td>0</td>\n      <td>0</td>\n      <td>...</td>\n      <td>0</td>\n      <td>0.0</td>\n      <td>0.0</td>\n      <td>0.0</td>\n      <td>0.0</td>\n      <td>0.0</td>\n      <td>0</td>\n      <td>0.0</td>\n      <td>1.0</td>\n      <td>0.0</td>\n    </tr>\n    <tr>\n      <th>...</th>\n      <td>...</td>\n      <td>...</td>\n      <td>...</td>\n      <td>...</td>\n      <td>...</td>\n      <td>...</td>\n      <td>...</td>\n      <td>...</td>\n      <td>...</td>\n      <td>...</td>\n      <td>...</td>\n      <td>...</td>\n      <td>...</td>\n      <td>...</td>\n      <td>...</td>\n      <td>...</td>\n      <td>...</td>\n      <td>...</td>\n      <td>...</td>\n      <td>...</td>\n      <td>...</td>\n    </tr>\n    <tr>\n      <th>271263</th>\n      <td>17621</td>\n      <td>2023-03-01</td>\n      <td>0</td>\n      <td>0</td>\n      <td>0</td>\n      <td>0</td>\n      <td>0</td>\n      <td>0</td>\n      <td>0</td>\n      <td>0</td>\n      <td>...</td>\n      <td>0</td>\n      <td>0.0</td>\n      <td>0.0</td>\n      <td>0.0</td>\n      <td>0.0</td>\n      <td>0.0</td>\n      <td>0</td>\n      <td>0.0</td>\n      <td>0.0</td>\n      <td>0.0</td>\n    </tr>\n    <tr>\n      <th>271264</th>\n      <td>25045</td>\n      <td>2023-03-01</td>\n      <td>0</td>\n      <td>0</td>\n      <td>0</td>\n      <td>0</td>\n      <td>0</td>\n      <td>0</td>\n      <td>0</td>\n      <td>0</td>\n      <td>...</td>\n      <td>0</td>\n      <td>0.0</td>\n      <td>0.0</td>\n      <td>0.0</td>\n      <td>0.0</td>\n      <td>0.0</td>\n      <td>0</td>\n      <td>0.0</td>\n      <td>1.0</td>\n      <td>0.0</td>\n    </tr>\n    <tr>\n      <th>271265</th>\n      <td>27156</td>\n      <td>2023-03-01</td>\n      <td>0</td>\n      <td>0</td>\n      <td>0</td>\n      <td>0</td>\n      <td>0</td>\n      <td>0</td>\n      <td>0</td>\n      <td>0</td>\n      <td>...</td>\n      <td>0</td>\n      <td>0.0</td>\n      <td>0.0</td>\n      <td>0.0</td>\n      <td>0.0</td>\n      <td>0.0</td>\n      <td>0</td>\n      <td>0.0</td>\n      <td>1.0</td>\n      <td>4.0</td>\n    </tr>\n    <tr>\n      <th>271266</th>\n      <td>21361</td>\n      <td>2023-03-01</td>\n      <td>0</td>\n      <td>0</td>\n      <td>0</td>\n      <td>0</td>\n      <td>0</td>\n      <td>0</td>\n      <td>0</td>\n      <td>0</td>\n      <td>...</td>\n      <td>0</td>\n      <td>0.0</td>\n      <td>0.0</td>\n      <td>0.0</td>\n      <td>0.0</td>\n      <td>0.0</td>\n      <td>0</td>\n      <td>0.0</td>\n      <td>1.0</td>\n      <td>0.0</td>\n    </tr>\n    <tr>\n      <th>271267</th>\n      <td>8061</td>\n      <td>2023-03-01</td>\n      <td>0</td>\n      <td>0</td>\n      <td>0</td>\n      <td>0</td>\n      <td>0</td>\n      <td>0</td>\n      <td>0</td>\n      <td>0</td>\n      <td>...</td>\n      <td>0</td>\n      <td>0.0</td>\n      <td>0.0</td>\n      <td>0.0</td>\n      <td>0.0</td>\n      <td>0.0</td>\n      <td>0</td>\n      <td>0.0</td>\n      <td>1.0</td>\n      <td>0.0</td>\n    </tr>\n  </tbody>\n</table>\n<p>33707 rows × 43 columns</p>\n</div>"
     },
     "execution_count": 99,
     "metadata": {},
     "output_type": "execute_result"
    }
   ],
   "source": [
    "end_y_test"
   ],
   "metadata": {
    "collapsed": false,
    "ExecuteTime": {
     "end_time": "2023-11-11T21:53:48.402845904Z",
     "start_time": "2023-11-11T21:53:48.375887176Z"
    }
   }
  },
  {
   "cell_type": "code",
   "execution_count": 4,
   "outputs": [
    {
     "name": "stderr",
     "output_type": "stream",
     "text": [
      "/tmp/ipykernel_149519/20718447.py:1: DtypeWarning: Columns (64,85) have mixed types. Specify dtype option on import or set low_memory=False.\n",
      "  train = pd.read_csv('train/data/train.csv')\n",
      "/tmp/ipykernel_149519/20718447.py:2: DtypeWarning: Columns (85) have mixed types. Specify dtype option on import or set low_memory=False.\n",
      "  test = pd.read_csv('train/data/test.csv')\n"
     ]
    }
   ],
   "source": [
    "train = pd.read_csv('train/data/train.csv')\n",
    "test = pd.read_csv('train/data/test.csv')"
   ],
   "metadata": {
    "collapsed": false,
    "ExecuteTime": {
     "end_time": "2023-11-12T01:52:36.970224389Z",
     "start_time": "2023-11-12T01:52:25.425002895Z"
    }
   }
  },
  {
   "cell_type": "code",
   "execution_count": 123,
   "outputs": [],
   "source": [
    "train = train.merge(end_y_train.drop(columns=['target_month', 'target_day']), on=['wagnum', 'month'])\n",
    "test = test.merge(end_y_test.drop(columns=['target_month', 'target_day']), on=['wagnum', 'month'])"
   ],
   "metadata": {
    "collapsed": false,
    "ExecuteTime": {
     "end_time": "2023-11-11T22:27:15.954381533Z",
     "start_time": "2023-11-11T22:27:15.352545658Z"
    }
   }
  },
  {
   "cell_type": "code",
   "execution_count": 5,
   "outputs": [],
   "source": [
    "features = [\n",
    "    'wagnum', 'month', 'target_month', 'target_day', 'kod_vrab_2_tr',\n",
    "     'kod_vrab_3_tr', 'kod_vrab_5_tr', 'neis1_kod_0_tr', 'neis1_kod_2_tr',\n",
    "     'neis1_kod_95_tr', 'neis1_kod_6_tr', 'neis1_kod_88_tr',\n",
    "     'neis1_kod_tr_max', 'neis2_kod_98_tr', 'neis2_kod_95_tr',\n",
    "     'neis2_kod_96_tr', 'neis2_kod_62_tr', 'neis2_kod_tr_max',\n",
    "     'neis3_kod_54_tr', 'neis3_kod_51_tr', 'neis3_kod_tr_max',\n",
    "     'mod1_kod_tr_min', 'mod1_kod_tr_max', 'mod2_kod_tr_min',\n",
    "     'mod2_kod_tr_max', 'gr_probeg_tr_max', 'gr_probeg_tr_mean',\n",
    "     'gr_probeg_tr_min', 'por_probeg_tr_max', 'por_probeg_tr_mean',\n",
    "     'por_probeg_tr_min', '_1m_tr_rems', 'kod_vrab_0_pr', 'kod_vrab_1_pr',\n",
    "     'diff_road_pr', 'diff_st_pr', '_10d_pr_rems', '_20d_pr_rems',\n",
    "     '_1m_pr_rems', 'rem_dist_pr_sum', 'rem_dist_pr_mean', '_allm_pr_rems',\n",
    "     '_allm_tr_rems'\n",
    "]"
   ],
   "metadata": {
    "collapsed": false,
    "ExecuteTime": {
     "end_time": "2023-11-12T01:54:11.271143928Z",
     "start_time": "2023-11-12T01:54:11.220407487Z"
    }
   }
  },
  {
   "cell_type": "code",
   "execution_count": 6,
   "outputs": [],
   "source": [
    "train = train[features]\n",
    "test = test[features]"
   ],
   "metadata": {
    "collapsed": false,
    "ExecuteTime": {
     "end_time": "2023-11-12T01:56:08.002343331Z",
     "start_time": "2023-11-12T01:56:07.931609156Z"
    }
   }
  },
  {
   "cell_type": "code",
   "execution_count": null,
   "outputs": [],
   "source": [],
   "metadata": {
    "collapsed": false
   }
  },
  {
   "cell_type": "code",
   "execution_count": 124,
   "outputs": [
    {
     "data": {
      "text/plain": "        wagnum       month  target_month  target_day  5d_another_road_max  \\\n0            0  2022-08-01             0           0                  NaN   \n1            1  2022-08-01             0           0                  NaN   \n2            2  2022-08-01             0           0                  NaN   \n3            3  2022-08-01             0           0                  NaN   \n4            4  2022-08-01             0           0                  NaN   \n...        ...         ...           ...         ...                  ...   \n237556   33972  2023-02-01             0           0                  1.0   \n237557   33973  2023-02-01             0           0                  1.0   \n237558   33974  2023-02-01             0           0                  1.0   \n237559   33975  2023-02-01             0           0                  0.0   \n237560   33976  2023-02-01             0           0                  0.0   \n\n        5d_naliv_mean  5d_ost_prob_min  60d_nasip_mean  30d_nasip_mean  \\\n0                 NaN              NaN             NaN             NaN   \n1                 NaN              NaN             NaN             NaN   \n2                 NaN              NaN             NaN             NaN   \n3                 NaN              NaN             NaN             NaN   \n4                 NaN              NaN             NaN             NaN   \n...               ...              ...             ...             ...   \n237556            0.0         141459.0        0.650000        0.500000   \n237557            0.0         135756.0        0.633333        0.800000   \n237558            0.0         148203.0        0.583333        0.500000   \n237559            0.0         148660.0        0.883333        0.766667   \n237560            0.0         142117.0        0.566667        0.533333   \n\n        5d_skoroport_mean  ...  kod_vrab_1_pr  diff_road_pr  diff_st_pr  \\\n0                     NaN  ...              0           0.0         0.0   \n1                     NaN  ...              0           0.0         0.0   \n2                     NaN  ...              0           0.0         0.0   \n3                     NaN  ...              0           0.0         0.0   \n4                     NaN  ...              0           0.0         0.0   \n...                   ...  ...            ...           ...         ...   \n237556                0.0  ...              0           0.0         0.0   \n237557                0.0  ...              0           0.0         0.0   \n237558                0.0  ...              0           0.0         0.0   \n237559                0.0  ...              0           0.0         0.0   \n237560                0.0  ...              0           0.0         0.0   \n\n        _10d_pr_rems  _20d_pr_rems  _1m_pr_rems  rem_dist_pr_sum  \\\n0                0.0           0.0          0.0                0   \n1                0.0           0.0          0.0                0   \n2                0.0           0.0          0.0                0   \n3                0.0           0.0          0.0                0   \n4                0.0           0.0          0.0                0   \n...              ...           ...          ...              ...   \n237556           0.0           0.0          0.0                0   \n237557           0.0           0.0          0.0                0   \n237558           0.0           0.0          0.0                0   \n237559           0.0           0.0          0.0                0   \n237560           0.0           0.0          0.0                0   \n\n        rem_dist_pr_mean  _allm_pr_rems  _allm_tr_rems  \n0                    0.0            0.0            0.0  \n1                    0.0            0.0            0.0  \n2                    0.0            0.0            0.0  \n3                    0.0            0.0            0.0  \n4                    0.0            0.0            0.0  \n...                  ...            ...            ...  \n237556               0.0            1.0            0.0  \n237557               0.0            1.0            2.0  \n237558               0.0            1.0            0.0  \n237559               0.0            1.0            2.0  \n237560               0.0            1.0            2.0  \n\n[237561 rows x 137 columns]",
      "text/html": "<div>\n<style scoped>\n    .dataframe tbody tr th:only-of-type {\n        vertical-align: middle;\n    }\n\n    .dataframe tbody tr th {\n        vertical-align: top;\n    }\n\n    .dataframe thead th {\n        text-align: right;\n    }\n</style>\n<table border=\"1\" class=\"dataframe\">\n  <thead>\n    <tr style=\"text-align: right;\">\n      <th></th>\n      <th>wagnum</th>\n      <th>month</th>\n      <th>target_month</th>\n      <th>target_day</th>\n      <th>5d_another_road_max</th>\n      <th>5d_naliv_mean</th>\n      <th>5d_ost_prob_min</th>\n      <th>60d_nasip_mean</th>\n      <th>30d_nasip_mean</th>\n      <th>5d_skoroport_mean</th>\n      <th>...</th>\n      <th>kod_vrab_1_pr</th>\n      <th>diff_road_pr</th>\n      <th>diff_st_pr</th>\n      <th>_10d_pr_rems</th>\n      <th>_20d_pr_rems</th>\n      <th>_1m_pr_rems</th>\n      <th>rem_dist_pr_sum</th>\n      <th>rem_dist_pr_mean</th>\n      <th>_allm_pr_rems</th>\n      <th>_allm_tr_rems</th>\n    </tr>\n  </thead>\n  <tbody>\n    <tr>\n      <th>0</th>\n      <td>0</td>\n      <td>2022-08-01</td>\n      <td>0</td>\n      <td>0</td>\n      <td>NaN</td>\n      <td>NaN</td>\n      <td>NaN</td>\n      <td>NaN</td>\n      <td>NaN</td>\n      <td>NaN</td>\n      <td>...</td>\n      <td>0</td>\n      <td>0.0</td>\n      <td>0.0</td>\n      <td>0.0</td>\n      <td>0.0</td>\n      <td>0.0</td>\n      <td>0</td>\n      <td>0.0</td>\n      <td>0.0</td>\n      <td>0.0</td>\n    </tr>\n    <tr>\n      <th>1</th>\n      <td>1</td>\n      <td>2022-08-01</td>\n      <td>0</td>\n      <td>0</td>\n      <td>NaN</td>\n      <td>NaN</td>\n      <td>NaN</td>\n      <td>NaN</td>\n      <td>NaN</td>\n      <td>NaN</td>\n      <td>...</td>\n      <td>0</td>\n      <td>0.0</td>\n      <td>0.0</td>\n      <td>0.0</td>\n      <td>0.0</td>\n      <td>0.0</td>\n      <td>0</td>\n      <td>0.0</td>\n      <td>0.0</td>\n      <td>0.0</td>\n    </tr>\n    <tr>\n      <th>2</th>\n      <td>2</td>\n      <td>2022-08-01</td>\n      <td>0</td>\n      <td>0</td>\n      <td>NaN</td>\n      <td>NaN</td>\n      <td>NaN</td>\n      <td>NaN</td>\n      <td>NaN</td>\n      <td>NaN</td>\n      <td>...</td>\n      <td>0</td>\n      <td>0.0</td>\n      <td>0.0</td>\n      <td>0.0</td>\n      <td>0.0</td>\n      <td>0.0</td>\n      <td>0</td>\n      <td>0.0</td>\n      <td>0.0</td>\n      <td>0.0</td>\n    </tr>\n    <tr>\n      <th>3</th>\n      <td>3</td>\n      <td>2022-08-01</td>\n      <td>0</td>\n      <td>0</td>\n      <td>NaN</td>\n      <td>NaN</td>\n      <td>NaN</td>\n      <td>NaN</td>\n      <td>NaN</td>\n      <td>NaN</td>\n      <td>...</td>\n      <td>0</td>\n      <td>0.0</td>\n      <td>0.0</td>\n      <td>0.0</td>\n      <td>0.0</td>\n      <td>0.0</td>\n      <td>0</td>\n      <td>0.0</td>\n      <td>0.0</td>\n      <td>0.0</td>\n    </tr>\n    <tr>\n      <th>4</th>\n      <td>4</td>\n      <td>2022-08-01</td>\n      <td>0</td>\n      <td>0</td>\n      <td>NaN</td>\n      <td>NaN</td>\n      <td>NaN</td>\n      <td>NaN</td>\n      <td>NaN</td>\n      <td>NaN</td>\n      <td>...</td>\n      <td>0</td>\n      <td>0.0</td>\n      <td>0.0</td>\n      <td>0.0</td>\n      <td>0.0</td>\n      <td>0.0</td>\n      <td>0</td>\n      <td>0.0</td>\n      <td>0.0</td>\n      <td>0.0</td>\n    </tr>\n    <tr>\n      <th>...</th>\n      <td>...</td>\n      <td>...</td>\n      <td>...</td>\n      <td>...</td>\n      <td>...</td>\n      <td>...</td>\n      <td>...</td>\n      <td>...</td>\n      <td>...</td>\n      <td>...</td>\n      <td>...</td>\n      <td>...</td>\n      <td>...</td>\n      <td>...</td>\n      <td>...</td>\n      <td>...</td>\n      <td>...</td>\n      <td>...</td>\n      <td>...</td>\n      <td>...</td>\n      <td>...</td>\n    </tr>\n    <tr>\n      <th>237556</th>\n      <td>33972</td>\n      <td>2023-02-01</td>\n      <td>0</td>\n      <td>0</td>\n      <td>1.0</td>\n      <td>0.0</td>\n      <td>141459.0</td>\n      <td>0.650000</td>\n      <td>0.500000</td>\n      <td>0.0</td>\n      <td>...</td>\n      <td>0</td>\n      <td>0.0</td>\n      <td>0.0</td>\n      <td>0.0</td>\n      <td>0.0</td>\n      <td>0.0</td>\n      <td>0</td>\n      <td>0.0</td>\n      <td>1.0</td>\n      <td>0.0</td>\n    </tr>\n    <tr>\n      <th>237557</th>\n      <td>33973</td>\n      <td>2023-02-01</td>\n      <td>0</td>\n      <td>0</td>\n      <td>1.0</td>\n      <td>0.0</td>\n      <td>135756.0</td>\n      <td>0.633333</td>\n      <td>0.800000</td>\n      <td>0.0</td>\n      <td>...</td>\n      <td>0</td>\n      <td>0.0</td>\n      <td>0.0</td>\n      <td>0.0</td>\n      <td>0.0</td>\n      <td>0.0</td>\n      <td>0</td>\n      <td>0.0</td>\n      <td>1.0</td>\n      <td>2.0</td>\n    </tr>\n    <tr>\n      <th>237558</th>\n      <td>33974</td>\n      <td>2023-02-01</td>\n      <td>0</td>\n      <td>0</td>\n      <td>1.0</td>\n      <td>0.0</td>\n      <td>148203.0</td>\n      <td>0.583333</td>\n      <td>0.500000</td>\n      <td>0.0</td>\n      <td>...</td>\n      <td>0</td>\n      <td>0.0</td>\n      <td>0.0</td>\n      <td>0.0</td>\n      <td>0.0</td>\n      <td>0.0</td>\n      <td>0</td>\n      <td>0.0</td>\n      <td>1.0</td>\n      <td>0.0</td>\n    </tr>\n    <tr>\n      <th>237559</th>\n      <td>33975</td>\n      <td>2023-02-01</td>\n      <td>0</td>\n      <td>0</td>\n      <td>0.0</td>\n      <td>0.0</td>\n      <td>148660.0</td>\n      <td>0.883333</td>\n      <td>0.766667</td>\n      <td>0.0</td>\n      <td>...</td>\n      <td>0</td>\n      <td>0.0</td>\n      <td>0.0</td>\n      <td>0.0</td>\n      <td>0.0</td>\n      <td>0.0</td>\n      <td>0</td>\n      <td>0.0</td>\n      <td>1.0</td>\n      <td>2.0</td>\n    </tr>\n    <tr>\n      <th>237560</th>\n      <td>33976</td>\n      <td>2023-02-01</td>\n      <td>0</td>\n      <td>0</td>\n      <td>0.0</td>\n      <td>0.0</td>\n      <td>142117.0</td>\n      <td>0.566667</td>\n      <td>0.533333</td>\n      <td>0.0</td>\n      <td>...</td>\n      <td>0</td>\n      <td>0.0</td>\n      <td>0.0</td>\n      <td>0.0</td>\n      <td>0.0</td>\n      <td>0.0</td>\n      <td>0</td>\n      <td>0.0</td>\n      <td>1.0</td>\n      <td>2.0</td>\n    </tr>\n  </tbody>\n</table>\n<p>237561 rows × 137 columns</p>\n</div>"
     },
     "execution_count": 124,
     "metadata": {},
     "output_type": "execute_result"
    }
   ],
   "source": [
    "train"
   ],
   "metadata": {
    "collapsed": false,
    "ExecuteTime": {
     "end_time": "2023-11-11T22:27:22.921514163Z",
     "start_time": "2023-11-11T22:27:22.875892193Z"
    }
   }
  },
  {
   "cell_type": "code",
   "execution_count": 126,
   "outputs": [
    {
     "data": {
      "text/plain": "       wagnum       month  target_month  target_day  5d_another_road_max  \\\n0           0  2023-03-01           NaN         NaN                  1.0   \n1           1  2023-03-01           NaN         NaN                  0.0   \n2           2  2023-03-01           NaN         NaN                  0.0   \n3           3  2023-03-01           NaN         NaN                  0.0   \n4           4  2023-03-01           NaN         NaN                  0.0   \n...       ...         ...           ...         ...                  ...   \n33702   33972  2023-03-01           NaN         NaN                  0.0   \n33703   33973  2023-03-01           NaN         NaN                  1.0   \n33704   33974  2023-03-01           NaN         NaN                  1.0   \n33705   33975  2023-03-01           NaN         NaN                  1.0   \n33706   33976  2023-03-01           NaN         NaN                  1.0   \n\n       5d_naliv_mean  5d_ost_prob_min  60d_nasip_mean  30d_nasip_mean  \\\n0                0.0          41969.0        0.000000        0.000000   \n1                0.0          83058.0        0.000000        0.000000   \n2                0.0          50236.0        0.300000        0.466667   \n3                0.0          52596.0        0.000000        0.000000   \n4                0.0          87594.0        0.216667        0.433333   \n...              ...              ...             ...             ...   \n33702            0.0         137520.0        0.483333        0.400000   \n33703            0.0         122657.0        0.766667        0.666667   \n33704            0.0         140235.0        0.433333        0.300000   \n33705            0.0         146257.0        0.550000        0.266667   \n33706            0.0         137701.0        0.616667        0.766667   \n\n       5d_skoroport_mean  ...  kod_vrab_1_pr  diff_road_pr  diff_st_pr  \\\n0                    0.0  ...              0           0.0         0.0   \n1                    0.0  ...              0           0.0         0.0   \n2                    0.0  ...              0           0.0         0.0   \n3                    0.0  ...              0           0.0         0.0   \n4                    0.0  ...              0           0.0         0.0   \n...                  ...  ...            ...           ...         ...   \n33702                0.0  ...              0           0.0         0.0   \n33703                0.0  ...              0           0.0         0.0   \n33704                0.0  ...              0           0.0         0.0   \n33705                0.0  ...              0           0.0         0.0   \n33706                0.0  ...              0           0.0         0.0   \n\n       _10d_pr_rems  _20d_pr_rems  _1m_pr_rems  rem_dist_pr_sum  \\\n0               0.0           0.0          0.0                0   \n1               0.0           0.0          0.0                0   \n2               0.0           0.0          0.0                0   \n3               0.0           0.0          0.0                0   \n4               0.0           0.0          0.0                0   \n...             ...           ...          ...              ...   \n33702           0.0           0.0          0.0                0   \n33703           0.0           0.0          0.0                0   \n33704           0.0           0.0          0.0                0   \n33705           0.0           0.0          0.0                0   \n33706           0.0           0.0          0.0                0   \n\n       rem_dist_pr_mean  _allm_pr_rems  _allm_tr_rems  \n0                   0.0            0.0            2.0  \n1                   0.0            0.0            0.0  \n2                   0.0            0.0            4.0  \n3                   0.0            0.0            2.0  \n4                   0.0            0.0            0.0  \n...                 ...            ...            ...  \n33702               0.0            1.0            0.0  \n33703               0.0            1.0            2.0  \n33704               0.0            1.0            0.0  \n33705               0.0            1.0            2.0  \n33706               0.0            1.0            2.0  \n\n[33707 rows x 137 columns]",
      "text/html": "<div>\n<style scoped>\n    .dataframe tbody tr th:only-of-type {\n        vertical-align: middle;\n    }\n\n    .dataframe tbody tr th {\n        vertical-align: top;\n    }\n\n    .dataframe thead th {\n        text-align: right;\n    }\n</style>\n<table border=\"1\" class=\"dataframe\">\n  <thead>\n    <tr style=\"text-align: right;\">\n      <th></th>\n      <th>wagnum</th>\n      <th>month</th>\n      <th>target_month</th>\n      <th>target_day</th>\n      <th>5d_another_road_max</th>\n      <th>5d_naliv_mean</th>\n      <th>5d_ost_prob_min</th>\n      <th>60d_nasip_mean</th>\n      <th>30d_nasip_mean</th>\n      <th>5d_skoroport_mean</th>\n      <th>...</th>\n      <th>kod_vrab_1_pr</th>\n      <th>diff_road_pr</th>\n      <th>diff_st_pr</th>\n      <th>_10d_pr_rems</th>\n      <th>_20d_pr_rems</th>\n      <th>_1m_pr_rems</th>\n      <th>rem_dist_pr_sum</th>\n      <th>rem_dist_pr_mean</th>\n      <th>_allm_pr_rems</th>\n      <th>_allm_tr_rems</th>\n    </tr>\n  </thead>\n  <tbody>\n    <tr>\n      <th>0</th>\n      <td>0</td>\n      <td>2023-03-01</td>\n      <td>NaN</td>\n      <td>NaN</td>\n      <td>1.0</td>\n      <td>0.0</td>\n      <td>41969.0</td>\n      <td>0.000000</td>\n      <td>0.000000</td>\n      <td>0.0</td>\n      <td>...</td>\n      <td>0</td>\n      <td>0.0</td>\n      <td>0.0</td>\n      <td>0.0</td>\n      <td>0.0</td>\n      <td>0.0</td>\n      <td>0</td>\n      <td>0.0</td>\n      <td>0.0</td>\n      <td>2.0</td>\n    </tr>\n    <tr>\n      <th>1</th>\n      <td>1</td>\n      <td>2023-03-01</td>\n      <td>NaN</td>\n      <td>NaN</td>\n      <td>0.0</td>\n      <td>0.0</td>\n      <td>83058.0</td>\n      <td>0.000000</td>\n      <td>0.000000</td>\n      <td>0.0</td>\n      <td>...</td>\n      <td>0</td>\n      <td>0.0</td>\n      <td>0.0</td>\n      <td>0.0</td>\n      <td>0.0</td>\n      <td>0.0</td>\n      <td>0</td>\n      <td>0.0</td>\n      <td>0.0</td>\n      <td>0.0</td>\n    </tr>\n    <tr>\n      <th>2</th>\n      <td>2</td>\n      <td>2023-03-01</td>\n      <td>NaN</td>\n      <td>NaN</td>\n      <td>0.0</td>\n      <td>0.0</td>\n      <td>50236.0</td>\n      <td>0.300000</td>\n      <td>0.466667</td>\n      <td>0.0</td>\n      <td>...</td>\n      <td>0</td>\n      <td>0.0</td>\n      <td>0.0</td>\n      <td>0.0</td>\n      <td>0.0</td>\n      <td>0.0</td>\n      <td>0</td>\n      <td>0.0</td>\n      <td>0.0</td>\n      <td>4.0</td>\n    </tr>\n    <tr>\n      <th>3</th>\n      <td>3</td>\n      <td>2023-03-01</td>\n      <td>NaN</td>\n      <td>NaN</td>\n      <td>0.0</td>\n      <td>0.0</td>\n      <td>52596.0</td>\n      <td>0.000000</td>\n      <td>0.000000</td>\n      <td>0.0</td>\n      <td>...</td>\n      <td>0</td>\n      <td>0.0</td>\n      <td>0.0</td>\n      <td>0.0</td>\n      <td>0.0</td>\n      <td>0.0</td>\n      <td>0</td>\n      <td>0.0</td>\n      <td>0.0</td>\n      <td>2.0</td>\n    </tr>\n    <tr>\n      <th>4</th>\n      <td>4</td>\n      <td>2023-03-01</td>\n      <td>NaN</td>\n      <td>NaN</td>\n      <td>0.0</td>\n      <td>0.0</td>\n      <td>87594.0</td>\n      <td>0.216667</td>\n      <td>0.433333</td>\n      <td>0.0</td>\n      <td>...</td>\n      <td>0</td>\n      <td>0.0</td>\n      <td>0.0</td>\n      <td>0.0</td>\n      <td>0.0</td>\n      <td>0.0</td>\n      <td>0</td>\n      <td>0.0</td>\n      <td>0.0</td>\n      <td>0.0</td>\n    </tr>\n    <tr>\n      <th>...</th>\n      <td>...</td>\n      <td>...</td>\n      <td>...</td>\n      <td>...</td>\n      <td>...</td>\n      <td>...</td>\n      <td>...</td>\n      <td>...</td>\n      <td>...</td>\n      <td>...</td>\n      <td>...</td>\n      <td>...</td>\n      <td>...</td>\n      <td>...</td>\n      <td>...</td>\n      <td>...</td>\n      <td>...</td>\n      <td>...</td>\n      <td>...</td>\n      <td>...</td>\n      <td>...</td>\n    </tr>\n    <tr>\n      <th>33702</th>\n      <td>33972</td>\n      <td>2023-03-01</td>\n      <td>NaN</td>\n      <td>NaN</td>\n      <td>0.0</td>\n      <td>0.0</td>\n      <td>137520.0</td>\n      <td>0.483333</td>\n      <td>0.400000</td>\n      <td>0.0</td>\n      <td>...</td>\n      <td>0</td>\n      <td>0.0</td>\n      <td>0.0</td>\n      <td>0.0</td>\n      <td>0.0</td>\n      <td>0.0</td>\n      <td>0</td>\n      <td>0.0</td>\n      <td>1.0</td>\n      <td>0.0</td>\n    </tr>\n    <tr>\n      <th>33703</th>\n      <td>33973</td>\n      <td>2023-03-01</td>\n      <td>NaN</td>\n      <td>NaN</td>\n      <td>1.0</td>\n      <td>0.0</td>\n      <td>122657.0</td>\n      <td>0.766667</td>\n      <td>0.666667</td>\n      <td>0.0</td>\n      <td>...</td>\n      <td>0</td>\n      <td>0.0</td>\n      <td>0.0</td>\n      <td>0.0</td>\n      <td>0.0</td>\n      <td>0.0</td>\n      <td>0</td>\n      <td>0.0</td>\n      <td>1.0</td>\n      <td>2.0</td>\n    </tr>\n    <tr>\n      <th>33704</th>\n      <td>33974</td>\n      <td>2023-03-01</td>\n      <td>NaN</td>\n      <td>NaN</td>\n      <td>1.0</td>\n      <td>0.0</td>\n      <td>140235.0</td>\n      <td>0.433333</td>\n      <td>0.300000</td>\n      <td>0.0</td>\n      <td>...</td>\n      <td>0</td>\n      <td>0.0</td>\n      <td>0.0</td>\n      <td>0.0</td>\n      <td>0.0</td>\n      <td>0.0</td>\n      <td>0</td>\n      <td>0.0</td>\n      <td>1.0</td>\n      <td>0.0</td>\n    </tr>\n    <tr>\n      <th>33705</th>\n      <td>33975</td>\n      <td>2023-03-01</td>\n      <td>NaN</td>\n      <td>NaN</td>\n      <td>1.0</td>\n      <td>0.0</td>\n      <td>146257.0</td>\n      <td>0.550000</td>\n      <td>0.266667</td>\n      <td>0.0</td>\n      <td>...</td>\n      <td>0</td>\n      <td>0.0</td>\n      <td>0.0</td>\n      <td>0.0</td>\n      <td>0.0</td>\n      <td>0.0</td>\n      <td>0</td>\n      <td>0.0</td>\n      <td>1.0</td>\n      <td>2.0</td>\n    </tr>\n    <tr>\n      <th>33706</th>\n      <td>33976</td>\n      <td>2023-03-01</td>\n      <td>NaN</td>\n      <td>NaN</td>\n      <td>1.0</td>\n      <td>0.0</td>\n      <td>137701.0</td>\n      <td>0.616667</td>\n      <td>0.766667</td>\n      <td>0.0</td>\n      <td>...</td>\n      <td>0</td>\n      <td>0.0</td>\n      <td>0.0</td>\n      <td>0.0</td>\n      <td>0.0</td>\n      <td>0.0</td>\n      <td>0</td>\n      <td>0.0</td>\n      <td>1.0</td>\n      <td>2.0</td>\n    </tr>\n  </tbody>\n</table>\n<p>33707 rows × 137 columns</p>\n</div>"
     },
     "execution_count": 126,
     "metadata": {},
     "output_type": "execute_result"
    }
   ],
   "source": [
    "test"
   ],
   "metadata": {
    "collapsed": false,
    "ExecuteTime": {
     "end_time": "2023-11-11T22:28:25.405725532Z",
     "start_time": "2023-11-11T22:28:25.364427087Z"
    }
   }
  },
  {
   "cell_type": "code",
   "execution_count": 127,
   "outputs": [],
   "source": [
    "train.to_csv('../train2.csv', index=False)\n",
    "test.to_csv('../test2.csv', index=False)"
   ],
   "metadata": {
    "collapsed": false,
    "ExecuteTime": {
     "end_time": "2023-11-11T22:28:42.798661954Z",
     "start_time": "2023-11-11T22:28:27.673506675Z"
    }
   }
  }
 ],
 "metadata": {
  "kernelspec": {
   "display_name": "Python 3",
   "language": "python",
   "name": "python3"
  },
  "language_info": {
   "codemirror_mode": {
    "name": "ipython",
    "version": 2
   },
   "file_extension": ".py",
   "mimetype": "text/x-python",
   "name": "python",
   "nbconvert_exporter": "python",
   "pygments_lexer": "ipython2",
   "version": "2.7.6"
  }
 },
 "nbformat": 4,
 "nbformat_minor": 0
}
