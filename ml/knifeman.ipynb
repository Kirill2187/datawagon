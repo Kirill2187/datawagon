{
 "cells": [
  {
   "cell_type": "code",
   "execution_count": 30,
   "metadata": {
    "collapsed": true,
    "ExecuteTime": {
     "end_time": "2023-11-12T01:33:58.724030572Z",
     "start_time": "2023-11-12T01:33:58.481534721Z"
    }
   },
   "outputs": [],
   "source": [
    "import numpy as np\n",
    "import pandas as pd\n",
    "from catboost import CatBoostClassifier\n",
    "from sklearn.metrics import accuracy_score\n",
    "from sklearn.model_selection import KFold, StratifiedKFold, train_test_split\n",
    "import seaborn as sns\n",
    "from datetime import datetime\n",
    "import random\n",
    "import os\n",
    "import optuna"
   ]
  },
  {
   "cell_type": "code",
   "execution_count": 2,
   "outputs": [],
   "source": [
    "def set_all_seeds(seed):\n",
    "    random.seed(seed)\n",
    "    os.environ['PYTHONHASHSEED'] = str(seed)\n",
    "    np.random.seed(seed)\n",
    "\n",
    "DEFAULT_RANDOM_SEED = 84\n",
    "set_all_seeds(seed=DEFAULT_RANDOM_SEED)"
   ],
   "metadata": {
    "collapsed": false,
    "ExecuteTime": {
     "end_time": "2023-11-12T00:21:30.344641910Z",
     "start_time": "2023-11-12T00:21:30.333337070Z"
    }
   }
  },
  {
   "cell_type": "code",
   "execution_count": 3,
   "outputs": [
    {
     "name": "stderr",
     "output_type": "stream",
     "text": [
      "/tmp/ipykernel_150156/3749464350.py:3: DtypeWarning: Columns (64,85) have mixed types. Specify dtype option on import or set low_memory=False.\n",
      "  df_train = pd.read_csv(path_big_train)\n",
      "/tmp/ipykernel_150156/3749464350.py:4: DtypeWarning: Columns (85) have mixed types. Specify dtype option on import or set low_memory=False.\n",
      "  df_test = pd.read_csv(path_big_test)\n"
     ]
    }
   ],
   "source": [
    "path_big_train = '../train/data/train.csv'\n",
    "path_big_test = '../train/data/test.csv'\n",
    "df_train = pd.read_csv(path_big_train)\n",
    "df_test = pd.read_csv(path_big_test)"
   ],
   "metadata": {
    "collapsed": false,
    "ExecuteTime": {
     "end_time": "2023-11-12T00:21:38.656223758Z",
     "start_time": "2023-11-12T00:21:32.211780007Z"
    }
   }
  },
  {
   "cell_type": "code",
   "execution_count": 4,
   "outputs": [
    {
     "name": "stdout",
     "output_type": "stream",
     "text": [
      "Unused columns:\n",
      "wagnum\n",
      "ownership_type\n",
      "rod_id_y\n",
      "date_iskl\n"
     ]
    },
    {
     "name": "stderr",
     "output_type": "stream",
     "text": [
      "/tmp/ipykernel_150156/1696388158.py:57: SettingWithCopyWarning: \n",
      "A value is trying to be set on a copy of a slice from a DataFrame.\n",
      "Try using .loc[row_indexer,col_indexer] = value instead\n",
      "\n",
      "See the caveats in the documentation: https://pandas.pydata.org/pandas-docs/stable/user_guide/indexing.html#returning-a-view-versus-a-copy\n",
      "  df[col + '_notna'] = df[col].notna().astype(int)\n",
      "/tmp/ipykernel_150156/1696388158.py:57: SettingWithCopyWarning: \n",
      "A value is trying to be set on a copy of a slice from a DataFrame.\n",
      "Try using .loc[row_indexer,col_indexer] = value instead\n",
      "\n",
      "See the caveats in the documentation: https://pandas.pydata.org/pandas-docs/stable/user_guide/indexing.html#returning-a-view-versus-a-copy\n",
      "  df[col + '_notna'] = df[col].notna().astype(int)\n",
      "/tmp/ipykernel_150156/1696388158.py:57: SettingWithCopyWarning: \n",
      "A value is trying to be set on a copy of a slice from a DataFrame.\n",
      "Try using .loc[row_indexer,col_indexer] = value instead\n",
      "\n",
      "See the caveats in the documentation: https://pandas.pydata.org/pandas-docs/stable/user_guide/indexing.html#returning-a-view-versus-a-copy\n",
      "  df[col + '_notna'] = df[col].notna().astype(int)\n"
     ]
    }
   ],
   "source": [
    "import re\n",
    "\n",
    "targets = ['target_month', 'target_day']\n",
    "numerical = list(filter(lambda x: re.match(r'\\d+[dm]_', x), df_train.columns))\n",
    "categorical = ['kod_vrab', 'model',  'zavod_build', 'kuzov', 'telega', 'expected_srok_sl_y_b', 'date_build_b', 'manage_type', 'rod_id_x', 'reestr_state',\n",
    "                'tormoz', 'tipvozd', 'tippogl', 'ownertype']\n",
    "dates = ['month', 'date_kap', 'date_dep', 'date_pl_rem', 'last_rem_date', 'date_build', 'srok_sl']\n",
    "\n",
    "numerical += [\n",
    "    \"days_to_pl_rem\",\n",
    "    \"days_from_last_rem\",\n",
    "    \"ost_prob\",\n",
    "    \"gruz\",\n",
    "    \"cnsi_gruz_capacity\",\n",
    "    \"cnsi_volumek\",\n",
    "    \"tara\",\n",
    "    \"cnsi_probeg_dr\",\n",
    "    \"cnsi_probeg_kr\",\n",
    "    \"norma_km\",\n",
    "    \"expected_srok_sl_y\"\n",
    "]\n",
    "\n",
    "numerical += ['kod_vrab_2_tr',\n",
    "              'kod_vrab_3_tr', 'kod_vrab_5_tr', 'neis1_kod_0_tr', 'neis1_kod_2_tr',\n",
    "              'neis1_kod_95_tr', 'neis1_kod_6_tr', 'neis1_kod_88_tr',\n",
    "              'neis1_kod_tr_max', 'neis2_kod_98_tr', 'neis2_kod_95_tr',\n",
    "              'neis2_kod_96_tr', 'neis2_kod_62_tr', 'neis2_kod_tr_max',\n",
    "              'neis3_kod_54_tr', 'neis3_kod_51_tr', 'neis3_kod_tr_max',\n",
    "              'mod1_kod_tr_min', 'mod1_kod_tr_max', 'mod2_kod_tr_min',\n",
    "              'mod2_kod_tr_max', 'gr_probeg_tr_max', 'gr_probeg_tr_mean',\n",
    "              'gr_probeg_tr_min', 'por_probeg_tr_max', 'por_probeg_tr_mean',\n",
    "              'por_probeg_tr_min', '_1m_tr_rems', 'kod_vrab_0_pr', 'kod_vrab_1_pr',\n",
    "              'diff_road_pr', 'diff_st_pr', '_10d_pr_rems', '_20d_pr_rems',\n",
    "              '_1m_pr_rems', 'rem_dist_pr_sum', 'rem_dist_pr_mean', '_allm_pr_rems',\n",
    "              '_allm_tr_rems']\n",
    "\n",
    "notna_features = ['date_kap', 'date_dep', 'date_iskl']\n",
    "notna_features_res = [feature + '_notna' for feature in notna_features]\n",
    "categorical += notna_features_res\n",
    "\n",
    "print('Unused columns:')\n",
    "for col in df_train.columns:\n",
    "    if col not in targets and col not in numerical and col not in categorical and col not in dates:\n",
    "        print(col)\n",
    "\n",
    "features = numerical + categorical + targets\n",
    "train_features = numerical + categorical\n",
    "\n",
    "medians = df_train[numerical].median()\n",
    "\n",
    "def preprcoess_df(df, test=False):\n",
    "    for date in dates:\n",
    "        df[date] = pd.to_datetime(df[date])\n",
    "    df = df[df['month'] > '2022-08-01']\n",
    "\n",
    "    for col in notna_features:\n",
    "        df[col + '_notna'] = df[col].notna().astype(int)\n",
    "\n",
    "    features = numerical + categorical + targets\n",
    "    if test:\n",
    "        features = train_features\n",
    "    df = df[features]\n",
    "\n",
    "    df[categorical] = df[categorical].astype('str')\n",
    "    df[numerical] = df[numerical].fillna(medians)\n",
    "\n",
    "    return df\n",
    "\n",
    "df_train = preprcoess_df(df_train)\n",
    "df_test = preprcoess_df(df_test, test=True)"
   ],
   "metadata": {
    "collapsed": false,
    "ExecuteTime": {
     "end_time": "2023-11-12T00:21:46.741294902Z",
     "start_time": "2023-11-12T00:21:38.656049889Z"
    }
   }
  },
  {
   "cell_type": "code",
   "execution_count": 5,
   "outputs": [
    {
     "data": {
      "text/plain": "((203586, 129), (33707, 127))"
     },
     "execution_count": 5,
     "metadata": {},
     "output_type": "execute_result"
    }
   ],
   "source": [
    "df_train.shape, df_test.shape"
   ],
   "metadata": {
    "collapsed": false,
    "ExecuteTime": {
     "end_time": "2023-11-12T00:21:46.741808760Z",
     "start_time": "2023-11-12T00:21:46.659758436Z"
    }
   }
  },
  {
   "cell_type": "code",
   "execution_count": 6,
   "outputs": [],
   "source": [
    "from sklearn.metrics import f1_score\n",
    "from sklearn.model_selection import KFold, StratifiedKFold\n",
    "\n",
    "def train(target):\n",
    "    cnt_folds = 3\n",
    "    clfs = []\n",
    "    scores = []\n",
    "    kf = StratifiedKFold(n_splits=cnt_folds, shuffle=True, random_state=DEFAULT_RANDOM_SEED)\n",
    "\n",
    "    features = numerical + categorical + [target]\n",
    "    df = df_train[features]\n",
    "    X = df.drop(target, axis=1)\n",
    "    y = df[target]\n",
    "\n",
    "    for ind, (train_index, test_index) in enumerate(kf.split(X=X, y=y)):\n",
    "\n",
    "        X_train, X_test = X.iloc[train_index], X.iloc[test_index]\n",
    "        y_train, y_test = y.iloc[train_index], y.iloc[test_index]\n",
    "\n",
    "        clf = CatBoostClassifier(cat_features=categorical,\n",
    "                                 iterations=400,\n",
    "                                 eval_metric='F1',\n",
    "                                 random_seed=DEFAULT_RANDOM_SEED,\n",
    "                                 allow_writing_files=False)\n",
    "\n",
    "        clf.fit(X_train, y_train,\n",
    "                eval_set=(X_test, y_test),\n",
    "                verbose=150, plot=False)\n",
    "\n",
    "        clfs.append(clf)\n",
    "        y_pred = clf.predict(X_test)\n",
    "        score = f1_score(y_test, y_pred)\n",
    "        scores.append(score)\n",
    "        print(f'{ind} model: {score} f1')\n",
    "\n",
    "    assert len(clfs) == cnt_folds\n",
    "\n",
    "    print(\"mean f1 score --\", np.mean(scores, dtype=\"float16\"), np.std(scores).round(4))\n",
    "\n",
    "    return clfs, np.mean(scores, dtype=\"float16\"), np.std(scores).round(4)"
   ],
   "metadata": {
    "collapsed": false,
    "ExecuteTime": {
     "end_time": "2023-11-12T00:21:57.660659345Z",
     "start_time": "2023-11-12T00:21:57.614947787Z"
    }
   }
  },
  {
   "cell_type": "code",
   "execution_count": 10,
   "outputs": [
    {
     "name": "stdout",
     "output_type": "stream",
     "text": [
      "Learning rate set to 0.158774\n",
      "0:\tlearn: 0.5451649\ttest: 0.5392612\tbest: 0.5392612 (0)\ttotal: 291ms\tremaining: 1m 56s\n",
      "150:\tlearn: 0.7233408\ttest: 0.6727059\tbest: 0.6770519 (78)\ttotal: 24.4s\tremaining: 40.2s\n",
      "300:\tlearn: 0.7744758\ttest: 0.6677852\tbest: 0.6770519 (78)\ttotal: 45.1s\tremaining: 14.8s\n",
      "399:\tlearn: 0.7987820\ttest: 0.6672252\tbest: 0.6770519 (78)\ttotal: 1m 1s\tremaining: 0us\n",
      "\n",
      "bestTest = 0.6770519263\n",
      "bestIteration = 78\n",
      "\n",
      "Shrink model to first 79 iterations.\n",
      "0 model: 0.6770519262981575 f1\n",
      "Learning rate set to 0.158774\n",
      "0:\tlearn: 0.4396607\ttest: 0.4374199\tbest: 0.4374199 (0)\ttotal: 178ms\tremaining: 1m 11s\n",
      "150:\tlearn: 0.7129195\ttest: 0.6799670\tbest: 0.6817208 (144)\ttotal: 29s\tremaining: 47.9s\n",
      "300:\tlearn: 0.7587814\ttest: 0.6815716\tbest: 0.6834817 (228)\ttotal: 49.6s\tremaining: 16.3s\n",
      "399:\tlearn: 0.7861989\ttest: 0.6744800\tbest: 0.6834817 (228)\ttotal: 1m 2s\tremaining: 0us\n",
      "\n",
      "bestTest = 0.6834817013\n",
      "bestIteration = 228\n",
      "\n",
      "Shrink model to first 229 iterations.\n",
      "1 model: 0.6834817012858555 f1\n",
      "Learning rate set to 0.158774\n",
      "0:\tlearn: 0.6467582\ttest: 0.6462755\tbest: 0.6462755 (0)\ttotal: 139ms\tremaining: 55.5s\n",
      "150:\tlearn: 0.7264003\ttest: 0.6658979\tbest: 0.6676553 (141)\ttotal: 19.4s\tremaining: 32s\n",
      "300:\tlearn: 0.7680802\ttest: 0.6657877\tbest: 0.6701830 (216)\ttotal: 42.3s\tremaining: 13.9s\n",
      "399:\tlearn: 0.7965226\ttest: 0.6619533\tbest: 0.6701830 (216)\ttotal: 1m 5s\tremaining: 0us\n",
      "\n",
      "bestTest = 0.670182957\n",
      "bestIteration = 216\n",
      "\n",
      "Shrink model to first 217 iterations.\n",
      "2 model: 0.6701829569803857 f1\n",
      "mean f1 score -- 0.6772 0.0054\n"
     ]
    }
   ],
   "source": [
    "month_clfs, month_f1, month_std = train('target_month')\n",
    "day_clf, day_f1, day_std = train('target_day')"
   ],
   "metadata": {
    "collapsed": false,
    "ExecuteTime": {
     "end_time": "2023-11-12T01:06:46.260854831Z",
     "start_time": "2023-11-12T01:03:33.278865190Z"
    }
   }
  },
  {
   "cell_type": "code",
   "execution_count": 12,
   "outputs": [
    {
     "name": "stdout",
     "output_type": "stream",
     "text": [
      "0.6772 0.0054\n",
      "0.5444 0.0086\n"
     ]
    }
   ],
   "source": [
    "print(month_f1, month_std)\n",
    "print(day_f1, day_std)"
   ],
   "metadata": {
    "collapsed": false,
    "ExecuteTime": {
     "end_time": "2023-11-12T01:11:44.142201518Z",
     "start_time": "2023-11-12T01:11:44.139094783Z"
    }
   }
  },
  {
   "cell_type": "code",
   "execution_count": 13,
   "outputs": [
    {
     "data": {
      "text/plain": "0.61083984375"
     },
     "execution_count": 13,
     "metadata": {},
     "output_type": "execute_result"
    }
   ],
   "source": [
    "(month_f1 + day_f1) / 2"
   ],
   "metadata": {
    "collapsed": false,
    "ExecuteTime": {
     "end_time": "2023-11-12T01:11:57.872456383Z",
     "start_time": "2023-11-12T01:11:57.830683447Z"
    }
   }
  },
  {
   "cell_type": "code",
   "execution_count": 14,
   "outputs": [],
   "source": [
    "cnt_folds = 3\n",
    "df_features = sum(month_clfs[i].get_feature_importance(prettified=True).set_index('Feature Id') for i in range(cnt_folds)) / cnt_folds\n",
    "df_features = df_features.sort_values('Importances', ascending=False)"
   ],
   "metadata": {
    "collapsed": false,
    "ExecuteTime": {
     "end_time": "2023-11-12T01:18:15.583865567Z",
     "start_time": "2023-11-12T01:18:15.538065004Z"
    }
   }
  },
  {
   "cell_type": "code",
   "execution_count": 28,
   "outputs": [
    {
     "data": {
      "text/plain": "                      Importances\nFeature Id                       \nost_prob                14.070812\ndays_to_pl_rem          11.467984\n5d_ost_prob_max         11.214305\n5d_ost_prob_min          9.660306\n10d_ost_prob_max         7.569389\n...                           ...\ndiff_road_pr             0.000002\n10d_skoroport_mean       0.000000\n5d_skoroport_mean        0.000000\n60d_another_road_max     0.000000\nexpected_srok_sl_y_b     0.000000\n\n[127 rows x 1 columns]",
      "text/html": "<div>\n<style scoped>\n    .dataframe tbody tr th:only-of-type {\n        vertical-align: middle;\n    }\n\n    .dataframe tbody tr th {\n        vertical-align: top;\n    }\n\n    .dataframe thead th {\n        text-align: right;\n    }\n</style>\n<table border=\"1\" class=\"dataframe\">\n  <thead>\n    <tr style=\"text-align: right;\">\n      <th></th>\n      <th>Importances</th>\n    </tr>\n    <tr>\n      <th>Feature Id</th>\n      <th></th>\n    </tr>\n  </thead>\n  <tbody>\n    <tr>\n      <th>ost_prob</th>\n      <td>14.070812</td>\n    </tr>\n    <tr>\n      <th>days_to_pl_rem</th>\n      <td>11.467984</td>\n    </tr>\n    <tr>\n      <th>5d_ost_prob_max</th>\n      <td>11.214305</td>\n    </tr>\n    <tr>\n      <th>5d_ost_prob_min</th>\n      <td>9.660306</td>\n    </tr>\n    <tr>\n      <th>10d_ost_prob_max</th>\n      <td>7.569389</td>\n    </tr>\n    <tr>\n      <th>...</th>\n      <td>...</td>\n    </tr>\n    <tr>\n      <th>diff_road_pr</th>\n      <td>0.000002</td>\n    </tr>\n    <tr>\n      <th>10d_skoroport_mean</th>\n      <td>0.000000</td>\n    </tr>\n    <tr>\n      <th>5d_skoroport_mean</th>\n      <td>0.000000</td>\n    </tr>\n    <tr>\n      <th>60d_another_road_max</th>\n      <td>0.000000</td>\n    </tr>\n    <tr>\n      <th>expected_srok_sl_y_b</th>\n      <td>0.000000</td>\n    </tr>\n  </tbody>\n</table>\n<p>127 rows × 1 columns</p>\n</div>"
     },
     "execution_count": 28,
     "metadata": {},
     "output_type": "execute_result"
    }
   ],
   "source": [
    "df_features"
   ],
   "metadata": {
    "collapsed": false,
    "ExecuteTime": {
     "end_time": "2023-11-12T01:24:33.124336984Z",
     "start_time": "2023-11-12T01:24:33.081238758Z"
    }
   }
  },
  {
   "cell_type": "code",
   "execution_count": 35,
   "outputs": [],
   "source": [
    "def opt_train(trial):\n",
    "    target = 'target_month'\n",
    "\n",
    "    param = {\n",
    "        'iterations': trial.suggest_int('iterations', 100, 500),\n",
    "        'depth': trial.suggest_int('depth', 4, 10),\n",
    "        'learning_rate': trial.suggest_float('learning_rate', 0.01, 0.3),\n",
    "        'random_strength': trial.suggest_int('random_strength', 0, 100),\n",
    "        'bagging_temperature': trial.suggest_float('bagging_temperature', 0.0, 1.0),\n",
    "        'od_type': trial.suggest_categorical('od_type', ['IncToDec', 'Iter']),\n",
    "        'grow_policy': trial.suggest_categorical('grow_policy', ['SymmetricTree', 'Depthwise', 'Lossguide'])\n",
    "    }\n",
    "\n",
    "    clf = CatBoostClassifier(cat_features=categorical,\n",
    "                             eval_metric='F1',\n",
    "                             random_seed=DEFAULT_RANDOM_SEED,\n",
    "                             allow_writing_files=False,\n",
    "                             **param)\n",
    "\n",
    "    features = numerical + categorical + [target]\n",
    "    df = df_train[features]\n",
    "    X = df.drop(target, axis=1)\n",
    "    y = df[target]\n",
    "    X_train, X_test, y_train, y_test = train_test_split(X, y, test_size=0.33, random_state=DEFAULT_RANDOM_SEED)\n",
    "\n",
    "    clf.fit(X_train, y_train,\n",
    "            eval_set=(X_test, y_test),\n",
    "            verbose=150, plot=False)\n",
    "\n",
    "    y_pred = clf.predict(X_test)\n",
    "    score = f1_score(y_test, y_pred)\n",
    "\n",
    "    return score"
   ],
   "metadata": {
    "collapsed": false,
    "ExecuteTime": {
     "end_time": "2023-11-12T01:44:10.168418399Z",
     "start_time": "2023-11-12T01:44:10.124518155Z"
    }
   }
  },
  {
   "cell_type": "code",
   "execution_count": null,
   "outputs": [
    {
     "name": "stderr",
     "output_type": "stream",
     "text": [
      "[I 2023-11-12 04:44:12,303] A new study created in memory with name: no-name-f68465eb-29f4-41c7-b256-ec96c2c15cc2\n"
     ]
    },
    {
     "name": "stdout",
     "output_type": "stream",
     "text": [
      "0:\tlearn: 0.0000000\ttest: 0.0000000\tbest: 0.0000000 (0)\ttotal: 231ms\tremaining: 34.4s\n",
      "Stopped by overfitting detector  (20 iterations wait)\n",
      "\n",
      "bestTest = 0.666553768\n",
      "bestIteration = 82\n",
      "\n",
      "Shrink model to first 83 iterations.\n"
     ]
    },
    {
     "name": "stderr",
     "output_type": "stream",
     "text": [
      "[I 2023-11-12 04:44:35,854] Trial 0 finished with value: 0.666553767993226 and parameters: {'iterations': 150, 'depth': 8, 'learning_rate': 0.25764691338078466, 'random_strength': 83, 'bagging_temperature': 0.39125301527748746, 'od_type': 'Iter', 'grow_policy': 'SymmetricTree'}. Best is trial 0 with value: 0.666553767993226.\n"
     ]
    },
    {
     "name": "stdout",
     "output_type": "stream",
     "text": [
      "0:\tlearn: 0.0000000\ttest: 0.0000000\tbest: 0.0000000 (0)\ttotal: 105ms\tremaining: 46.9s\n",
      "150:\tlearn: 0.8324799\ttest: 0.6643461\tbest: 0.6685515 (96)\ttotal: 16.5s\tremaining: 32.4s\n",
      "300:\tlearn: 0.9249509\ttest: 0.6589557\tbest: 0.6685515 (96)\ttotal: 30.3s\tremaining: 14.8s\n",
      "447:\tlearn: 0.9688359\ttest: 0.6595148\tbest: 0.6685515 (96)\ttotal: 53.9s\tremaining: 0us\n",
      "\n",
      "bestTest = 0.6685514718\n",
      "bestIteration = 96\n",
      "\n",
      "Shrink model to first 97 iterations.\n"
     ]
    },
    {
     "name": "stderr",
     "output_type": "stream",
     "text": [
      "[I 2023-11-12 04:45:31,975] Trial 1 finished with value: 0.668551471811076 and parameters: {'iterations': 448, 'depth': 9, 'learning_rate': 0.29990282741361146, 'random_strength': 43, 'bagging_temperature': 0.1946616268414929, 'od_type': 'IncToDec', 'grow_policy': 'Lossguide'}. Best is trial 1 with value: 0.668551471811076.\n"
     ]
    },
    {
     "name": "stdout",
     "output_type": "stream",
     "text": [
      "0:\tlearn: 0.0000000\ttest: 0.0000000\tbest: 0.0000000 (0)\ttotal: 92.2ms\tremaining: 18.1s\n",
      "Stopped by overfitting detector  (20 iterations wait)\n",
      "\n",
      "bestTest = 0\n",
      "bestIteration = 0\n",
      "\n",
      "Shrink model to first 1 iterations.\n"
     ]
    },
    {
     "name": "stderr",
     "output_type": "stream",
     "text": [
      "[I 2023-11-12 04:45:36,020] Trial 2 finished with value: 0.0 and parameters: {'iterations': 197, 'depth': 10, 'learning_rate': 0.09122135459257101, 'random_strength': 75, 'bagging_temperature': 0.4747338632621929, 'od_type': 'Iter', 'grow_policy': 'Lossguide'}. Best is trial 1 with value: 0.668551471811076.\n"
     ]
    },
    {
     "name": "stdout",
     "output_type": "stream",
     "text": [
      "0:\tlearn: 0.0000000\ttest: 0.0000000\tbest: 0.0000000 (0)\ttotal: 117ms\tremaining: 47.8s\n",
      "150:\tlearn: 0.8323417\ttest: 0.6711252\tbest: 0.6747954 (129)\ttotal: 12.1s\tremaining: 20.8s\n",
      "300:\tlearn: 0.9529994\ttest: 0.6658906\tbest: 0.6747954 (129)\ttotal: 33.4s\tremaining: 12.2s\n",
      "410:\tlearn: 0.9823129\ttest: 0.6638852\tbest: 0.6747954 (129)\ttotal: 42.1s\tremaining: 0us\n",
      "\n",
      "bestTest = 0.67479539\n",
      "bestIteration = 129\n",
      "\n",
      "Shrink model to first 130 iterations.\n"
     ]
    },
    {
     "name": "stderr",
     "output_type": "stream",
     "text": [
      "[I 2023-11-12 04:46:20,080] Trial 3 finished with value: 0.6747953900116921 and parameters: {'iterations': 411, 'depth': 7, 'learning_rate': 0.20956554415377343, 'random_strength': 26, 'bagging_temperature': 0.5304002258569183, 'od_type': 'IncToDec', 'grow_policy': 'Depthwise'}. Best is trial 3 with value: 0.6747953900116921.\n"
     ]
    },
    {
     "name": "stdout",
     "output_type": "stream",
     "text": [
      "0:\tlearn: 0.0000000\ttest: 0.0000000\tbest: 0.0000000 (0)\ttotal: 104ms\tremaining: 32.3s\n",
      "150:\tlearn: 0.7153782\ttest: 0.6645249\tbest: 0.6664414 (141)\ttotal: 17s\tremaining: 18.1s\n",
      "300:\tlearn: 0.8017440\ttest: 0.6668921\tbest: 0.6722859 (217)\ttotal: 43.7s\tremaining: 1.6s\n",
      "311:\tlearn: 0.8078818\ttest: 0.6668916\tbest: 0.6722859 (217)\ttotal: 44.7s\tremaining: 0us\n",
      "\n",
      "bestTest = 0.6722859069\n",
      "bestIteration = 217\n",
      "\n",
      "Shrink model to first 218 iterations.\n"
     ]
    },
    {
     "name": "stderr",
     "output_type": "stream",
     "text": [
      "[I 2023-11-12 04:47:06,779] Trial 4 finished with value: 0.6722859069453809 and parameters: {'iterations': 312, 'depth': 6, 'learning_rate': 0.14603110531634853, 'random_strength': 86, 'bagging_temperature': 0.2735697577765558, 'od_type': 'IncToDec', 'grow_policy': 'Lossguide'}. Best is trial 3 with value: 0.6747953900116921.\n"
     ]
    },
    {
     "name": "stdout",
     "output_type": "stream",
     "text": [
      "0:\tlearn: 0.0002975\ttest: 0.0000000\tbest: 0.0000000 (0)\ttotal: 216ms\tremaining: 1m 10s\n",
      "Stopped by overfitting detector  (20 iterations wait)\n",
      "\n",
      "bestTest = 0\n",
      "bestIteration = 0\n",
      "\n",
      "Shrink model to first 1 iterations.\n"
     ]
    },
    {
     "name": "stderr",
     "output_type": "stream",
     "text": [
      "[I 2023-11-12 04:47:12,169] Trial 5 finished with value: 0.0 and parameters: {'iterations': 327, 'depth': 9, 'learning_rate': 0.030883341466885303, 'random_strength': 34, 'bagging_temperature': 0.4243915587149376, 'od_type': 'Iter', 'grow_policy': 'SymmetricTree'}. Best is trial 3 with value: 0.6747953900116921.\n"
     ]
    },
    {
     "name": "stdout",
     "output_type": "stream",
     "text": [
      "0:\tlearn: 0.0000000\ttest: 0.0000000\tbest: 0.0000000 (0)\ttotal: 61.7ms\tremaining: 18.1s\n",
      "150:\tlearn: 0.6987751\ttest: 0.6662162\tbest: 0.6699275 (128)\ttotal: 7.34s\tremaining: 7s\n",
      "294:\tlearn: 0.7457233\ttest: 0.6705823\tbest: 0.6727181 (252)\ttotal: 13.8s\tremaining: 0us\n",
      "\n",
      "bestTest = 0.6727181039\n",
      "bestIteration = 252\n",
      "\n",
      "Shrink model to first 253 iterations.\n"
     ]
    },
    {
     "name": "stderr",
     "output_type": "stream",
     "text": [
      "[I 2023-11-12 04:47:27,718] Trial 6 finished with value: 0.6727181038830056 and parameters: {'iterations': 295, 'depth': 4, 'learning_rate': 0.19500772067597522, 'random_strength': 69, 'bagging_temperature': 0.7416646106176022, 'od_type': 'IncToDec', 'grow_policy': 'Depthwise'}. Best is trial 3 with value: 0.6747953900116921.\n"
     ]
    },
    {
     "name": "stdout",
     "output_type": "stream",
     "text": [
      "0:\tlearn: 0.0000000\ttest: 0.0000000\tbest: 0.0000000 (0)\ttotal: 117ms\tremaining: 34.7s\n",
      "150:\tlearn: 0.7179317\ttest: 0.6696909\tbest: 0.6699143 (148)\ttotal: 14.9s\tremaining: 14.4s\n",
      "Stopped by overfitting detector  (20 iterations wait)\n",
      "\n",
      "bestTest = 0.671253566\n",
      "bestIteration = 158\n",
      "\n",
      "Shrink model to first 159 iterations.\n"
     ]
    },
    {
     "name": "stderr",
     "output_type": "stream",
     "text": [
      "[I 2023-11-12 04:47:47,100] Trial 7 finished with value: 0.6712535660345695 and parameters: {'iterations': 297, 'depth': 5, 'learning_rate': 0.1789449551390477, 'random_strength': 82, 'bagging_temperature': 0.3322801379745657, 'od_type': 'Iter', 'grow_policy': 'Lossguide'}. Best is trial 3 with value: 0.6747953900116921.\n"
     ]
    },
    {
     "name": "stdout",
     "output_type": "stream",
     "text": [
      "0:\tlearn: 0.4820226\ttest: 0.4806039\tbest: 0.4806039 (0)\ttotal: 55.1ms\tremaining: 24.4s\n",
      "Stopped by overfitting detector  (20 iterations wait)\n",
      "\n",
      "bestTest = 0.667777963\n",
      "bestIteration = 58\n",
      "\n",
      "Shrink model to first 59 iterations.\n"
     ]
    },
    {
     "name": "stderr",
     "output_type": "stream",
     "text": [
      "[I 2023-11-12 04:47:52,675] Trial 8 finished with value: 0.6677779629938323 and parameters: {'iterations': 444, 'depth': 4, 'learning_rate': 0.27240347808101817, 'random_strength': 4, 'bagging_temperature': 0.7351961599557455, 'od_type': 'Iter', 'grow_policy': 'Depthwise'}. Best is trial 3 with value: 0.6747953900116921.\n"
     ]
    },
    {
     "name": "stdout",
     "output_type": "stream",
     "text": [
      "0:\tlearn: 0.0000000\ttest: 0.0000000\tbest: 0.0000000 (0)\ttotal: 106ms\tremaining: 19.4s\n",
      "150:\tlearn: 0.6002102\ttest: 0.5972100\tbest: 0.5980254 (131)\ttotal: 8.98s\tremaining: 1.96s\n",
      "183:\tlearn: 0.6461042\ttest: 0.6402062\tbest: 0.6402062 (183)\ttotal: 11s\tremaining: 0us\n",
      "\n",
      "bestTest = 0.6402061856\n",
      "bestIteration = 183\n",
      "\n"
     ]
    },
    {
     "name": "stderr",
     "output_type": "stream",
     "text": [
      "[I 2023-11-12 04:48:05,423] Trial 9 finished with value: 0.6402061855670104 and parameters: {'iterations': 184, 'depth': 8, 'learning_rate': 0.07634880305847389, 'random_strength': 56, 'bagging_temperature': 0.4499384151540714, 'od_type': 'IncToDec', 'grow_policy': 'SymmetricTree'}. Best is trial 3 with value: 0.6747953900116921.\n"
     ]
    },
    {
     "name": "stdout",
     "output_type": "stream",
     "text": [
      "0:\tlearn: 0.0000000\ttest: 0.0000000\tbest: 0.0000000 (0)\ttotal: 96.5ms\tremaining: 38.4s\n",
      "150:\tlearn: 0.7995392\ttest: 0.6653185\tbest: 0.6721421 (81)\ttotal: 9.76s\tremaining: 16s\n",
      "300:\tlearn: 0.9153749\ttest: 0.6575707\tbest: 0.6721421 (81)\ttotal: 19.2s\tremaining: 6.26s\n",
      "398:\tlearn: 0.9512101\ttest: 0.6569149\tbest: 0.6721421 (81)\ttotal: 25.9s\tremaining: 0us\n",
      "\n",
      "bestTest = 0.6721421388\n",
      "bestIteration = 81\n",
      "\n",
      "Shrink model to first 82 iterations.\n"
     ]
    },
    {
     "name": "stderr",
     "output_type": "stream",
     "text": [
      "[I 2023-11-12 04:48:33,090] Trial 10 finished with value: 0.6721421387864566 and parameters: {'iterations': 399, 'depth': 6, 'learning_rate': 0.22292373354467038, 'random_strength': 18, 'bagging_temperature': 0.9651548489112933, 'od_type': 'IncToDec', 'grow_policy': 'Depthwise'}. Best is trial 3 with value: 0.6747953900116921.\n"
     ]
    },
    {
     "name": "stdout",
     "output_type": "stream",
     "text": [
      "0:\tlearn: 0.0000000\ttest: 0.0000000\tbest: 0.0000000 (0)\ttotal: 60.8ms\tremaining: 22.3s\n",
      "150:\tlearn: 0.7014863\ttest: 0.6655490\tbest: 0.6681172 (144)\ttotal: 7.13s\tremaining: 10.2s\n",
      "300:\tlearn: 0.7524785\ttest: 0.6666667\tbest: 0.6687941 (168)\ttotal: 13.9s\tremaining: 3.05s\n",
      "366:\tlearn: 0.7774305\ttest: 0.6674501\tbest: 0.6715744 (322)\ttotal: 16.9s\tremaining: 0us\n",
      "\n",
      "bestTest = 0.6715743684\n",
      "bestIteration = 322\n",
      "\n",
      "Shrink model to first 323 iterations.\n"
     ]
    },
    {
     "name": "stderr",
     "output_type": "stream",
     "text": [
      "[I 2023-11-12 04:48:51,838] Trial 11 finished with value: 0.6715743684122469 and parameters: {'iterations': 367, 'depth': 4, 'learning_rate': 0.2015521269015892, 'random_strength': 57, 'bagging_temperature': 0.669184551236998, 'od_type': 'IncToDec', 'grow_policy': 'Depthwise'}. Best is trial 3 with value: 0.6747953900116921.\n"
     ]
    },
    {
     "name": "stdout",
     "output_type": "stream",
     "text": [
      "0:\tlearn: 0.0000000\ttest: 0.0000000\tbest: 0.0000000 (0)\ttotal: 95.3ms\tremaining: 25.9s\n",
      "150:\tlearn: 0.7279497\ttest: 0.6654338\tbest: 0.6703462 (124)\ttotal: 9.92s\tremaining: 8.01s\n",
      "272:\tlearn: 0.8260727\ttest: 0.6648829\tbest: 0.6703462 (124)\ttotal: 17.7s\tremaining: 0us\n",
      "\n",
      "bestTest = 0.6703462117\n",
      "bestIteration = 124\n",
      "\n",
      "Shrink model to first 125 iterations.\n"
     ]
    },
    {
     "name": "stderr",
     "output_type": "stream",
     "text": [
      "[I 2023-11-12 04:49:11,323] Trial 12 finished with value: 0.6703462117410939 and parameters: {'iterations': 273, 'depth': 6, 'learning_rate': 0.1456995503402172, 'random_strength': 22, 'bagging_temperature': 0.0008662354902473357, 'od_type': 'IncToDec', 'grow_policy': 'Depthwise'}. Best is trial 3 with value: 0.6747953900116921.\n"
     ]
    },
    {
     "name": "stdout",
     "output_type": "stream",
     "text": [
      "0:\tlearn: 0.0000000\ttest: 0.0000000\tbest: 0.0000000 (0)\ttotal: 184ms\tremaining: 1m 29s\n",
      "150:\tlearn: 0.8608618\ttest: 0.6658886\tbest: 0.6714572 (111)\ttotal: 16.6s\tremaining: 36.7s\n",
      "300:\tlearn: 0.9638388\ttest: 0.6607738\tbest: 0.6714572 (111)\ttotal: 31.1s\tremaining: 19s\n",
      "450:\tlearn: 0.9942404\ttest: 0.6643368\tbest: 0.6714572 (111)\ttotal: 43.5s\tremaining: 3.27s\n",
      "484:\tlearn: 0.9967918\ttest: 0.6646707\tbest: 0.6714572 (111)\ttotal: 46.5s\tremaining: 0us\n",
      "\n",
      "bestTest = 0.6714572193\n",
      "bestIteration = 111\n",
      "\n",
      "Shrink model to first 112 iterations.\n"
     ]
    },
    {
     "name": "stderr",
     "output_type": "stream",
     "text": [
      "[I 2023-11-12 04:50:00,007] Trial 13 finished with value: 0.6714572192513367 and parameters: {'iterations': 485, 'depth': 7, 'learning_rate': 0.23152251675859098, 'random_strength': 66, 'bagging_temperature': 0.654406022057793, 'od_type': 'IncToDec', 'grow_policy': 'Depthwise'}. Best is trial 3 with value: 0.6747953900116921.\n"
     ]
    },
    {
     "name": "stdout",
     "output_type": "stream",
     "text": [
      "0:\tlearn: 0.0000000\ttest: 0.0000000\tbest: 0.0000000 (0)\ttotal: 100ms\tremaining: 24.9s\n",
      "150:\tlearn: 0.7186620\ttest: 0.6681252\tbest: 0.6711545 (142)\ttotal: 9.63s\tremaining: 6.25s\n",
      "248:\tlearn: 0.7776217\ttest: 0.6684618\tbest: 0.6740703 (178)\ttotal: 26.2s\tremaining: 0us\n",
      "\n",
      "bestTest = 0.6740703348\n",
      "bestIteration = 178\n",
      "\n",
      "Shrink model to first 179 iterations.\n"
     ]
    },
    {
     "name": "stderr",
     "output_type": "stream",
     "text": [
      "[I 2023-11-12 04:50:27,971] Trial 14 finished with value: 0.6740703348477199 and parameters: {'iterations': 249, 'depth': 5, 'learning_rate': 0.18102287174376602, 'random_strength': 98, 'bagging_temperature': 0.6017804990761091, 'od_type': 'IncToDec', 'grow_policy': 'Depthwise'}. Best is trial 3 with value: 0.6747953900116921.\n"
     ]
    },
    {
     "name": "stdout",
     "output_type": "stream",
     "text": [
      "0:\tlearn: 0.0000000\ttest: 0.0000000\tbest: 0.0000000 (0)\ttotal: 129ms\tremaining: 29s\n",
      "150:\tlearn: 0.7805281\ttest: 0.6685571\tbest: 0.6708882 (144)\ttotal: 12.5s\tremaining: 6.21s\n",
      "225:\tlearn: 0.8724897\ttest: 0.6684465\tbest: 0.6712169 (206)\ttotal: 18.4s\tremaining: 0us\n",
      "\n",
      "bestTest = 0.6712169136\n",
      "bestIteration = 206\n",
      "\n",
      "Shrink model to first 207 iterations.\n"
     ]
    },
    {
     "name": "stderr",
     "output_type": "stream",
     "text": [
      "[I 2023-11-12 04:50:48,269] Trial 15 finished with value: 0.671216913600799 and parameters: {'iterations': 226, 'depth': 7, 'learning_rate': 0.16859468570875008, 'random_strength': 100, 'bagging_temperature': 0.5730552098583442, 'od_type': 'IncToDec', 'grow_policy': 'Depthwise'}. Best is trial 3 with value: 0.6747953900116921.\n"
     ]
    },
    {
     "name": "stdout",
     "output_type": "stream",
     "text": [
      "0:\tlearn: 0.0000000\ttest: 0.0000000\tbest: 0.0000000 (0)\ttotal: 123ms\tremaining: 13s\n",
      "106:\tlearn: 0.7119960\ttest: 0.6697767\tbest: 0.6697767 (106)\ttotal: 6.06s\tremaining: 0us\n",
      "\n",
      "bestTest = 0.6697767411\n",
      "bestIteration = 106\n",
      "\n"
     ]
    },
    {
     "name": "stderr",
     "output_type": "stream",
     "text": [
      "[I 2023-11-12 04:50:56,636] Trial 16 finished with value: 0.6697767410863046 and parameters: {'iterations': 107, 'depth': 5, 'learning_rate': 0.2301345142366652, 'random_strength': 35, 'bagging_temperature': 0.5481789904868581, 'od_type': 'IncToDec', 'grow_policy': 'Depthwise'}. Best is trial 3 with value: 0.6747953900116921.\n"
     ]
    },
    {
     "name": "stdout",
     "output_type": "stream",
     "text": [
      "0:\tlearn: 0.6457804\ttest: 0.6382626\tbest: 0.6382626 (0)\ttotal: 62.8ms\tremaining: 15.4s\n",
      "150:\tlearn: 0.7429425\ttest: 0.6683442\tbest: 0.6692476 (63)\ttotal: 8.28s\tremaining: 5.21s\n",
      "245:\tlearn: 0.7837704\ttest: 0.6680094\tbest: 0.6696802 (180)\ttotal: 13.9s\tremaining: 0us\n",
      "\n",
      "bestTest = 0.6696802277\n",
      "bestIteration = 180\n",
      "\n",
      "Shrink model to first 181 iterations.\n"
     ]
    },
    {
     "name": "stderr",
     "output_type": "stream",
     "text": [
      "[I 2023-11-12 04:51:12,246] Trial 17 finished with value: 0.6696802276912774 and parameters: {'iterations': 246, 'depth': 5, 'learning_rate': 0.13573735937135578, 'random_strength': 0, 'bagging_temperature': 0.8633869602751985, 'od_type': 'IncToDec', 'grow_policy': 'Depthwise'}. Best is trial 3 with value: 0.6747953900116921.\n"
     ]
    },
    {
     "name": "stdout",
     "output_type": "stream",
     "text": [
      "0:\tlearn: 0.0000000\ttest: 0.0000000\tbest: 0.0000000 (0)\ttotal: 142ms\tremaining: 52.7s\n",
      "150:\tlearn: 0.8672638\ttest: 0.6547418\tbest: 0.6627219 (87)\ttotal: 18.5s\tremaining: 27.1s\n",
      "300:\tlearn: 0.9796413\ttest: 0.6612795\tbest: 0.6639839 (273)\ttotal: 35.3s\tremaining: 8.32s\n",
      "371:\tlearn: 0.9925870\ttest: 0.6634228\tbest: 0.6648794 (337)\ttotal: 42.8s\tremaining: 0us\n",
      "\n",
      "bestTest = 0.6648793566\n",
      "bestIteration = 337\n",
      "\n",
      "Shrink model to first 338 iterations.\n"
     ]
    },
    {
     "name": "stderr",
     "output_type": "stream",
     "text": [
      "[I 2023-11-12 04:51:57,011] Trial 18 finished with value: 0.6648793565683646 and parameters: {'iterations': 372, 'depth': 8, 'learning_rate': 0.19670935273392404, 'random_strength': 100, 'bagging_temperature': 0.5667077042878246, 'od_type': 'IncToDec', 'grow_policy': 'Depthwise'}. Best is trial 3 with value: 0.6747953900116921.\n"
     ]
    },
    {
     "name": "stdout",
     "output_type": "stream",
     "text": [
      "0:\tlearn: 0.0000000\ttest: 0.0000000\tbest: 0.0000000 (0)\ttotal: 231ms\tremaining: 1m 22s\n",
      "150:\tlearn: 0.6756623\ttest: 0.6695740\tbest: 0.6706908 (146)\ttotal: 19s\tremaining: 25.9s\n",
      "300:\tlearn: 0.7147267\ttest: 0.6675740\tbest: 0.6719514 (179)\ttotal: 51.6s\tremaining: 9.6s\n",
      "356:\tlearn: 0.7291148\ttest: 0.6664401\tbest: 0.6719514 (179)\ttotal: 59.5s\tremaining: 0us\n",
      "\n",
      "bestTest = 0.6719514252\n",
      "bestIteration = 179\n",
      "\n",
      "Shrink model to first 180 iterations.\n"
     ]
    },
    {
     "name": "stderr",
     "output_type": "stream",
     "text": [
      "[I 2023-11-12 04:52:58,777] Trial 19 finished with value: 0.6719514251981785 and parameters: {'iterations': 357, 'depth': 6, 'learning_rate': 0.10947193409696072, 'random_strength': 22, 'bagging_temperature': 0.5168476633792992, 'od_type': 'IncToDec', 'grow_policy': 'SymmetricTree'}. Best is trial 3 with value: 0.6747953900116921.\n"
     ]
    },
    {
     "name": "stdout",
     "output_type": "stream",
     "text": [
      "0:\tlearn: 0.0000000\ttest: 0.0000000\tbest: 0.0000000 (0)\ttotal: 127ms\tremaining: 53.4s\n",
      "150:\tlearn: 0.7902006\ttest: 0.6718959\tbest: 0.6734490 (146)\ttotal: 12.5s\tremaining: 22.3s\n",
      "300:\tlearn: 0.9164889\ttest: 0.6681106\tbest: 0.6734490 (146)\ttotal: 25.1s\tremaining: 10s\n",
      "420:\tlearn: 0.9627015\ttest: 0.6666667\tbest: 0.6734490 (146)\ttotal: 36.1s\tremaining: 0us\n",
      "\n",
      "bestTest = 0.673448966\n",
      "bestIteration = 146\n",
      "\n",
      "Shrink model to first 147 iterations.\n"
     ]
    },
    {
     "name": "stderr",
     "output_type": "stream",
     "text": [
      "[I 2023-11-12 04:53:36,871] Trial 20 finished with value: 0.6734489659773182 and parameters: {'iterations': 421, 'depth': 7, 'learning_rate': 0.1614248871700983, 'random_strength': 42, 'bagging_temperature': 0.8356612452289829, 'od_type': 'IncToDec', 'grow_policy': 'Depthwise'}. Best is trial 3 with value: 0.6747953900116921.\n"
     ]
    },
    {
     "name": "stdout",
     "output_type": "stream",
     "text": [
      "0:\tlearn: 0.0000000\ttest: 0.0000000\tbest: 0.0000000 (0)\ttotal: 138ms\tremaining: 59.9s\n",
      "150:\tlearn: 0.7984547\ttest: 0.6694659\tbest: 0.6707030 (145)\ttotal: 19.6s\tremaining: 36.7s\n",
      "300:\tlearn: 0.9269406\ttest: 0.6658859\tbest: 0.6707030 (145)\ttotal: 37.1s\tremaining: 16.4s\n",
      "433:\tlearn: 0.9724785\ttest: 0.6635404\tbest: 0.6707030 (145)\ttotal: 48.7s\tremaining: 0us\n",
      "\n",
      "bestTest = 0.6707029936\n",
      "bestIteration = 145\n",
      "\n",
      "Shrink model to first 146 iterations.\n"
     ]
    },
    {
     "name": "stderr",
     "output_type": "stream",
     "text": [
      "[I 2023-11-12 04:54:27,588] Trial 21 finished with value: 0.670702993609149 and parameters: {'iterations': 434, 'depth': 7, 'learning_rate': 0.1705254704770546, 'random_strength': 44, 'bagging_temperature': 0.8092992200268996, 'od_type': 'IncToDec', 'grow_policy': 'Depthwise'}. Best is trial 3 with value: 0.6747953900116921.\n"
     ]
    },
    {
     "name": "stdout",
     "output_type": "stream",
     "text": [
      "0:\tlearn: 0.0000000\ttest: 0.0000000\tbest: 0.0000000 (0)\ttotal: 185ms\tremaining: 1m 30s\n",
      "150:\tlearn: 0.7897605\ttest: 0.6655457\tbest: 0.6702485 (115)\ttotal: 13.1s\tremaining: 29.5s\n",
      "300:\tlearn: 0.9217542\ttest: 0.6601974\tbest: 0.6702485 (115)\ttotal: 24.8s\tremaining: 15.7s\n",
      "450:\tlearn: 0.9709714\ttest: 0.6616415\tbest: 0.6702485 (115)\ttotal: 36.3s\tremaining: 3.3s\n",
      "491:\tlearn: 0.9797926\ttest: 0.6613226\tbest: 0.6702485 (115)\ttotal: 39.6s\tremaining: 0us\n",
      "\n",
      "bestTest = 0.6702484889\n",
      "bestIteration = 115\n",
      "\n",
      "Shrink model to first 116 iterations.\n"
     ]
    },
    {
     "name": "stderr",
     "output_type": "stream",
     "text": [
      "[I 2023-11-12 04:55:09,278] Trial 22 finished with value: 0.6702484889187375 and parameters: {'iterations': 492, 'depth': 7, 'learning_rate': 0.16104301790489398, 'random_strength': 31, 'bagging_temperature': 0.9053068526105605, 'od_type': 'IncToDec', 'grow_policy': 'Depthwise'}. Best is trial 3 with value: 0.6747953900116921.\n"
     ]
    },
    {
     "name": "stdout",
     "output_type": "stream",
     "text": [
      "0:\tlearn: 0.2409085\ttest: 0.2414467\tbest: 0.2414467 (0)\ttotal: 169ms\tremaining: 1m 8s\n",
      "150:\tlearn: 0.8000990\ttest: 0.6683426\tbest: 0.6704679 (132)\ttotal: 20.6s\tremaining: 34.9s\n",
      "300:\tlearn: 0.9571318\ttest: 0.6712536\tbest: 0.6750335 (276)\ttotal: 43.8s\tremaining: 15.4s\n",
      "406:\tlearn: 0.9871419\ttest: 0.6689121\tbest: 0.6750335 (276)\ttotal: 59.5s\tremaining: 0us\n",
      "\n",
      "bestTest = 0.6750334672\n",
      "bestIteration = 276\n",
      "\n",
      "Shrink model to first 277 iterations.\n"
     ]
    },
    {
     "name": "stderr",
     "output_type": "stream",
     "text": [
      "[I 2023-11-12 04:56:10,681] Trial 23 finished with value: 0.675033467202142 and parameters: {'iterations': 407, 'depth': 9, 'learning_rate': 0.12193882879165052, 'random_strength': 12, 'bagging_temperature': 0.9942026304071137, 'od_type': 'IncToDec', 'grow_policy': 'Depthwise'}. Best is trial 23 with value: 0.675033467202142.\n"
     ]
    },
    {
     "name": "stdout",
     "output_type": "stream",
     "text": [
      "0:\tlearn: 0.2896936\ttest: 0.3017724\tbest: 0.3017724 (0)\ttotal: 197ms\tremaining: 1m 18s\n",
      "150:\tlearn: 0.8481983\ttest: 0.6676712\tbest: 0.6715621 (137)\ttotal: 28.7s\tremaining: 47s\n",
      "300:\tlearn: 0.9839500\ttest: 0.6674508\tbest: 0.6715621 (137)\ttotal: 1m\tremaining: 19.5s\n",
      "397:\tlearn: 0.9964928\ttest: 0.6661060\tbest: 0.6715621 (137)\ttotal: 1m 16s\tremaining: 0us\n",
      "\n",
      "bestTest = 0.6715620828\n",
      "bestIteration = 137\n",
      "\n",
      "Shrink model to first 138 iterations.\n"
     ]
    },
    {
     "name": "stderr",
     "output_type": "stream",
     "text": [
      "[I 2023-11-12 04:57:29,283] Trial 24 finished with value: 0.6715620827770361 and parameters: {'iterations': 398, 'depth': 10, 'learning_rate': 0.112379946021708, 'random_strength': 11, 'bagging_temperature': 0.9638715178897177, 'od_type': 'IncToDec', 'grow_policy': 'Depthwise'}. Best is trial 23 with value: 0.675033467202142.\n"
     ]
    },
    {
     "name": "stdout",
     "output_type": "stream",
     "text": [
      "0:\tlearn: 0.2269781\ttest: 0.2213400\tbest: 0.2213400 (0)\ttotal: 160ms\tremaining: 54.9s\n"
     ]
    }
   ],
   "source": [
    "study = optuna.create_study(direction='maximize')\n",
    "study.optimize(opt_train, n_trials=100) # Можно изменить количество итераций\n",
    "\n",
    "print(\"Лучшие параметры: \", study.best_params)"
   ],
   "metadata": {
    "collapsed": false,
    "is_executing": true,
    "ExecuteTime": {
     "start_time": "2023-11-12T01:44:12.303035742Z"
    }
   }
  }
 ],
 "metadata": {
  "kernelspec": {
   "display_name": "Python 3",
   "language": "python",
   "name": "python3"
  },
  "language_info": {
   "codemirror_mode": {
    "name": "ipython",
    "version": 2
   },
   "file_extension": ".py",
   "mimetype": "text/x-python",
   "name": "python",
   "nbconvert_exporter": "python",
   "pygments_lexer": "ipython2",
   "version": "2.7.6"
  }
 },
 "nbformat": 4,
 "nbformat_minor": 0
}
