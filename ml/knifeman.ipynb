{
 "cells": [
  {
   "cell_type": "code",
   "execution_count": 1,
   "metadata": {
    "collapsed": true,
    "ExecuteTime": {
     "end_time": "2023-11-12T03:10:25.410107698Z",
     "start_time": "2023-11-12T03:10:24.173353146Z"
    }
   },
   "outputs": [],
   "source": [
    "import numpy as np\n",
    "import pandas as pd\n",
    "from catboost import CatBoostClassifier\n",
    "from sklearn.metrics import accuracy_score\n",
    "from sklearn.model_selection import KFold, StratifiedKFold, train_test_split\n",
    "import seaborn as sns\n",
    "from datetime import datetime\n",
    "import random\n",
    "import os\n",
    "import optuna"
   ]
  },
  {
   "cell_type": "code",
   "execution_count": 2,
   "outputs": [],
   "source": [
    "def set_all_seeds(seed):\n",
    "    random.seed(seed)\n",
    "    os.environ['PYTHONHASHSEED'] = str(seed)\n",
    "    np.random.seed(seed)\n",
    "\n",
    "DEFAULT_RANDOM_SEED = 84\n",
    "set_all_seeds(seed=DEFAULT_RANDOM_SEED)"
   ],
   "metadata": {
    "collapsed": false,
    "ExecuteTime": {
     "end_time": "2023-11-12T03:10:26.205263128Z",
     "start_time": "2023-11-12T03:10:26.199995175Z"
    }
   }
  },
  {
   "cell_type": "code",
   "execution_count": 45,
   "outputs": [],
   "source": [
    "path_big_train = '../train/data/train.csv'\n",
    "path_big_test = '../train/data/test.csv'\n",
    "df_train = pd.read_csv(path_big_train)\n",
    "df_test = pd.read_csv(path_big_test)"
   ],
   "metadata": {
    "collapsed": false,
    "ExecuteTime": {
     "end_time": "2023-11-12T04:32:14.061961110Z",
     "start_time": "2023-11-12T04:32:03.388162204Z"
    }
   }
  },
  {
   "cell_type": "code",
   "execution_count": 4,
   "outputs": [
    {
     "name": "stdout",
     "output_type": "stream",
     "text": [
      "Unused columns:\n",
      "wagnum\n",
      "ownership_type\n",
      "rod_id_y\n",
      "date_iskl\n",
      "days_to_iskl\n",
      "days_to_srok_sl\n",
      "iskl_in_a_year\n",
      "ost_prob_in_a_month\n"
     ]
    }
   ],
   "source": [
    "import re\n",
    "\n",
    "targets = ['target_month', 'target_day']\n",
    "numerical = list(filter(lambda x: re.match(r'\\d+[dm]_', x), df_train.columns))\n",
    "categorical = ['kod_vrab', 'model',  'zavod_build', 'kuzov', 'telega', 'expected_srok_sl_y_b', 'date_build_b', 'manage_type', 'rod_id_x', 'reestr_state',\n",
    "                'tormoz', 'tipvozd', 'tippogl', 'ownertype']\n",
    "dates = ['month', 'date_kap', 'date_dep', 'date_pl_rem', 'last_rem_date', 'date_build', 'srok_sl']\n",
    "\n",
    "numerical += [\n",
    "    \"days_to_pl_rem\",\n",
    "    \"days_from_last_rem\",\n",
    "    \"ost_prob\",\n",
    "    \"gruz\",\n",
    "    \"cnsi_gruz_capacity\",\n",
    "    \"cnsi_volumek\",\n",
    "    \"tara\",\n",
    "    \"cnsi_probeg_dr\",\n",
    "    \"cnsi_probeg_kr\",\n",
    "    \"norma_km\",\n",
    "    \"expected_srok_sl_y\"\n",
    "]\n",
    "\n",
    "numerical += ['kod_vrab_2_tr',\n",
    "              'kod_vrab_3_tr', 'kod_vrab_5_tr', 'neis1_kod_0_tr', 'neis1_kod_2_tr',\n",
    "              'neis1_kod_95_tr', 'neis1_kod_6_tr', 'neis1_kod_88_tr',\n",
    "              'neis1_kod_tr_max', 'neis2_kod_98_tr', 'neis2_kod_95_tr',\n",
    "              'neis2_kod_96_tr', 'neis2_kod_62_tr', 'neis2_kod_tr_max',\n",
    "              'neis3_kod_54_tr', 'neis3_kod_51_tr', 'neis3_kod_tr_max',\n",
    "              'mod1_kod_tr_min', 'mod1_kod_tr_max', 'mod2_kod_tr_min',\n",
    "              'mod2_kod_tr_max', 'gr_probeg_tr_max', 'gr_probeg_tr_mean',\n",
    "              'gr_probeg_tr_min', 'por_probeg_tr_max', 'por_probeg_tr_mean',\n",
    "              'por_probeg_tr_min', '_1m_tr_rems', 'kod_vrab_0_pr', 'kod_vrab_1_pr',\n",
    "              'diff_road_pr', 'diff_st_pr', '_10d_pr_rems', '_20d_pr_rems',\n",
    "              '_1m_pr_rems', 'rem_dist_pr_sum', 'rem_dist_pr_mean', '_allm_pr_rems',\n",
    "              '_allm_tr_rems']\n",
    "\n",
    "notna_features = ['date_kap', 'date_dep', 'date_iskl']\n",
    "notna_features_res = [feature + '_notna' for feature in notna_features]\n",
    "categorical += notna_features_res\n",
    "\n",
    "print('Unused columns:')\n",
    "for col in df_train.columns:\n",
    "    if col not in targets and col not in numerical and col not in categorical and col not in dates:\n",
    "        print(col)\n",
    "\n",
    "features = numerical + categorical + targets\n",
    "train_features = numerical + categorical\n",
    "\n",
    "medians = df_train[numerical].median()\n",
    "\n",
    "def preprcoess_df(df, test=False):\n",
    "    for date in dates:\n",
    "        df[date] = pd.to_datetime(df[date])\n",
    "    df = df[df['month'] > '2022-08-01']\n",
    "\n",
    "    for col in notna_features:\n",
    "        df[col + '_notna'] = df[col].notna().astype(int)\n",
    "\n",
    "    features = numerical + categorical + targets\n",
    "    if test:\n",
    "        features = train_features\n",
    "    df = df[features]\n",
    "\n",
    "    df[categorical] = df[categorical].astype('str')\n",
    "    df[numerical] = df[numerical].fillna(medians)\n",
    "\n",
    "    return df\n",
    "\n",
    "df_train = preprcoess_df(df_train)\n",
    "df_test = preprcoess_df(df_test, test=True)"
   ],
   "metadata": {
    "collapsed": false,
    "ExecuteTime": {
     "end_time": "2023-11-12T03:10:47.458030870Z",
     "start_time": "2023-11-12T03:10:35.459357522Z"
    }
   }
  },
  {
   "cell_type": "code",
   "execution_count": 5,
   "outputs": [
    {
     "data": {
      "text/plain": "((203610, 145), (33707, 143))"
     },
     "execution_count": 5,
     "metadata": {},
     "output_type": "execute_result"
    }
   ],
   "source": [
    "df_train.shape, df_test.shape"
   ],
   "metadata": {
    "collapsed": false,
    "ExecuteTime": {
     "end_time": "2023-11-12T03:10:47.458695375Z",
     "start_time": "2023-11-12T03:10:47.458288852Z"
    }
   }
  },
  {
   "cell_type": "code",
   "execution_count": 38,
   "outputs": [],
   "source": [
    "from sklearn.metrics import f1_score\n",
    "from sklearn.model_selection import KFold, StratifiedKFold\n",
    "from xgboost import XGBClassifier\n",
    "from sklearn.preprocessing import LabelEncoder\n",
    "from lightgbm import LGBMClassifier\n",
    "\n",
    "def train(target):\n",
    "    cnt_folds = 5\n",
    "    clfs = []\n",
    "    scores = []\n",
    "    kf = StratifiedKFold(n_splits=cnt_folds, shuffle=True, random_state=DEFAULT_RANDOM_SEED)\n",
    "\n",
    "    features = numerical + categorical + [target]\n",
    "    df = df_train[features]\n",
    "\n",
    "    for cat_feature in categorical:\n",
    "        df[cat_feature] = df[cat_feature].astype('category')\n",
    "\n",
    "    X = df.drop(target, axis=1)\n",
    "    y = df[target]\n",
    "\n",
    "    for ind, (train_index, test_index) in enumerate(kf.split(X=X, y=y)):\n",
    "\n",
    "        X_train, X_test = X.iloc[train_index], X.iloc[test_index]\n",
    "        y_train, y_test = y.iloc[train_index], y.iloc[test_index]\n",
    "\n",
    "        clf = LGBMClassifier(random_state=DEFAULT_RANDOM_SEED)\n",
    "\n",
    "        clf.fit(X_train, y_train,\n",
    "                eval_set=[(X_test, y_test)])\n",
    "\n",
    "        clfs.append(clf)\n",
    "        y_pred = clf.predict(X_test)\n",
    "        score = f1_score(y_test, y_pred)\n",
    "        scores.append(score)\n",
    "        print(f'{ind} model: {score} f1')\n",
    "\n",
    "    assert len(clfs) == cnt_folds\n",
    "\n",
    "    print(\"mean f1 score --\", np.mean(scores, dtype=\"float16\"), np.std(scores).round(4))\n",
    "\n",
    "    return clfs, np.mean(scores, dtype=\"float16\"), np.std(scores).round(4)"
   ],
   "metadata": {
    "collapsed": false,
    "ExecuteTime": {
     "end_time": "2023-11-12T04:26:51.945989099Z",
     "start_time": "2023-11-12T04:26:51.942871852Z"
    }
   }
  },
  {
   "cell_type": "code",
   "execution_count": null,
   "outputs": [],
   "source": [
    "#param = {'iterations': 468, 'depth': 9, 'learning_rate': 0.20899008582405879,\n",
    "#           'random_strength': 9, 'bagging_temperature': 0.9212431602262982,\n",
    "#           'od_type': 'Iter', 'grow_policy': 'Depthwise'}"
   ],
   "metadata": {
    "collapsed": false
   }
  },
  {
   "cell_type": "code",
   "execution_count": 39,
   "outputs": [
    {
     "name": "stderr",
     "output_type": "stream",
     "text": [
      "/tmp/ipykernel_159113/1469517822.py:17: SettingWithCopyWarning: \n",
      "A value is trying to be set on a copy of a slice from a DataFrame.\n",
      "Try using .loc[row_indexer,col_indexer] = value instead\n",
      "\n",
      "See the caveats in the documentation: https://pandas.pydata.org/pandas-docs/stable/user_guide/indexing.html#returning-a-view-versus-a-copy\n",
      "  df[cat_feature] = df[cat_feature].astype('category')\n",
      "/tmp/ipykernel_159113/1469517822.py:17: SettingWithCopyWarning: \n",
      "A value is trying to be set on a copy of a slice from a DataFrame.\n",
      "Try using .loc[row_indexer,col_indexer] = value instead\n",
      "\n",
      "See the caveats in the documentation: https://pandas.pydata.org/pandas-docs/stable/user_guide/indexing.html#returning-a-view-versus-a-copy\n",
      "  df[cat_feature] = df[cat_feature].astype('category')\n",
      "/tmp/ipykernel_159113/1469517822.py:17: SettingWithCopyWarning: \n",
      "A value is trying to be set on a copy of a slice from a DataFrame.\n",
      "Try using .loc[row_indexer,col_indexer] = value instead\n",
      "\n",
      "See the caveats in the documentation: https://pandas.pydata.org/pandas-docs/stable/user_guide/indexing.html#returning-a-view-versus-a-copy\n",
      "  df[cat_feature] = df[cat_feature].astype('category')\n",
      "/tmp/ipykernel_159113/1469517822.py:17: SettingWithCopyWarning: \n",
      "A value is trying to be set on a copy of a slice from a DataFrame.\n",
      "Try using .loc[row_indexer,col_indexer] = value instead\n",
      "\n",
      "See the caveats in the documentation: https://pandas.pydata.org/pandas-docs/stable/user_guide/indexing.html#returning-a-view-versus-a-copy\n",
      "  df[cat_feature] = df[cat_feature].astype('category')\n",
      "/tmp/ipykernel_159113/1469517822.py:17: SettingWithCopyWarning: \n",
      "A value is trying to be set on a copy of a slice from a DataFrame.\n",
      "Try using .loc[row_indexer,col_indexer] = value instead\n",
      "\n",
      "See the caveats in the documentation: https://pandas.pydata.org/pandas-docs/stable/user_guide/indexing.html#returning-a-view-versus-a-copy\n",
      "  df[cat_feature] = df[cat_feature].astype('category')\n",
      "/tmp/ipykernel_159113/1469517822.py:17: SettingWithCopyWarning: \n",
      "A value is trying to be set on a copy of a slice from a DataFrame.\n",
      "Try using .loc[row_indexer,col_indexer] = value instead\n",
      "\n",
      "See the caveats in the documentation: https://pandas.pydata.org/pandas-docs/stable/user_guide/indexing.html#returning-a-view-versus-a-copy\n",
      "  df[cat_feature] = df[cat_feature].astype('category')\n",
      "/tmp/ipykernel_159113/1469517822.py:17: SettingWithCopyWarning: \n",
      "A value is trying to be set on a copy of a slice from a DataFrame.\n",
      "Try using .loc[row_indexer,col_indexer] = value instead\n",
      "\n",
      "See the caveats in the documentation: https://pandas.pydata.org/pandas-docs/stable/user_guide/indexing.html#returning-a-view-versus-a-copy\n",
      "  df[cat_feature] = df[cat_feature].astype('category')\n",
      "/tmp/ipykernel_159113/1469517822.py:17: SettingWithCopyWarning: \n",
      "A value is trying to be set on a copy of a slice from a DataFrame.\n",
      "Try using .loc[row_indexer,col_indexer] = value instead\n",
      "\n",
      "See the caveats in the documentation: https://pandas.pydata.org/pandas-docs/stable/user_guide/indexing.html#returning-a-view-versus-a-copy\n",
      "  df[cat_feature] = df[cat_feature].astype('category')\n",
      "/tmp/ipykernel_159113/1469517822.py:17: SettingWithCopyWarning: \n",
      "A value is trying to be set on a copy of a slice from a DataFrame.\n",
      "Try using .loc[row_indexer,col_indexer] = value instead\n",
      "\n",
      "See the caveats in the documentation: https://pandas.pydata.org/pandas-docs/stable/user_guide/indexing.html#returning-a-view-versus-a-copy\n",
      "  df[cat_feature] = df[cat_feature].astype('category')\n",
      "/tmp/ipykernel_159113/1469517822.py:17: SettingWithCopyWarning: \n",
      "A value is trying to be set on a copy of a slice from a DataFrame.\n",
      "Try using .loc[row_indexer,col_indexer] = value instead\n",
      "\n",
      "See the caveats in the documentation: https://pandas.pydata.org/pandas-docs/stable/user_guide/indexing.html#returning-a-view-versus-a-copy\n",
      "  df[cat_feature] = df[cat_feature].astype('category')\n",
      "/tmp/ipykernel_159113/1469517822.py:17: SettingWithCopyWarning: \n",
      "A value is trying to be set on a copy of a slice from a DataFrame.\n",
      "Try using .loc[row_indexer,col_indexer] = value instead\n",
      "\n",
      "See the caveats in the documentation: https://pandas.pydata.org/pandas-docs/stable/user_guide/indexing.html#returning-a-view-versus-a-copy\n",
      "  df[cat_feature] = df[cat_feature].astype('category')\n",
      "/tmp/ipykernel_159113/1469517822.py:17: SettingWithCopyWarning: \n",
      "A value is trying to be set on a copy of a slice from a DataFrame.\n",
      "Try using .loc[row_indexer,col_indexer] = value instead\n",
      "\n",
      "See the caveats in the documentation: https://pandas.pydata.org/pandas-docs/stable/user_guide/indexing.html#returning-a-view-versus-a-copy\n",
      "  df[cat_feature] = df[cat_feature].astype('category')\n",
      "/tmp/ipykernel_159113/1469517822.py:17: SettingWithCopyWarning: \n",
      "A value is trying to be set on a copy of a slice from a DataFrame.\n",
      "Try using .loc[row_indexer,col_indexer] = value instead\n",
      "\n",
      "See the caveats in the documentation: https://pandas.pydata.org/pandas-docs/stable/user_guide/indexing.html#returning-a-view-versus-a-copy\n",
      "  df[cat_feature] = df[cat_feature].astype('category')\n",
      "/tmp/ipykernel_159113/1469517822.py:17: SettingWithCopyWarning: \n",
      "A value is trying to be set on a copy of a slice from a DataFrame.\n",
      "Try using .loc[row_indexer,col_indexer] = value instead\n",
      "\n",
      "See the caveats in the documentation: https://pandas.pydata.org/pandas-docs/stable/user_guide/indexing.html#returning-a-view-versus-a-copy\n",
      "  df[cat_feature] = df[cat_feature].astype('category')\n",
      "/tmp/ipykernel_159113/1469517822.py:17: SettingWithCopyWarning: \n",
      "A value is trying to be set on a copy of a slice from a DataFrame.\n",
      "Try using .loc[row_indexer,col_indexer] = value instead\n",
      "\n",
      "See the caveats in the documentation: https://pandas.pydata.org/pandas-docs/stable/user_guide/indexing.html#returning-a-view-versus-a-copy\n",
      "  df[cat_feature] = df[cat_feature].astype('category')\n",
      "/tmp/ipykernel_159113/1469517822.py:17: SettingWithCopyWarning: \n",
      "A value is trying to be set on a copy of a slice from a DataFrame.\n",
      "Try using .loc[row_indexer,col_indexer] = value instead\n",
      "\n",
      "See the caveats in the documentation: https://pandas.pydata.org/pandas-docs/stable/user_guide/indexing.html#returning-a-view-versus-a-copy\n",
      "  df[cat_feature] = df[cat_feature].astype('category')\n",
      "/tmp/ipykernel_159113/1469517822.py:17: SettingWithCopyWarning: \n",
      "A value is trying to be set on a copy of a slice from a DataFrame.\n",
      "Try using .loc[row_indexer,col_indexer] = value instead\n",
      "\n",
      "See the caveats in the documentation: https://pandas.pydata.org/pandas-docs/stable/user_guide/indexing.html#returning-a-view-versus-a-copy\n",
      "  df[cat_feature] = df[cat_feature].astype('category')\n"
     ]
    },
    {
     "name": "stdout",
     "output_type": "stream",
     "text": [
      "[LightGBM] [Info] Number of positive: 8044, number of negative: 154844\n",
      "[LightGBM] [Info] Auto-choosing row-wise multi-threading, the overhead of testing was 0.185937 seconds.\n",
      "You can set `force_row_wise=true` to remove the overhead.\n",
      "And if memory is not enough, you can set `force_col_wise=true`.\n",
      "[LightGBM] [Info] Total Bins 11273\n",
      "[LightGBM] [Info] Number of data points in the train set: 162888, number of used features: 143\n",
      "[LightGBM] [Info] [binary:BoostFromScore]: pavg=0.049384 -> initscore=-2.957492\n",
      "[LightGBM] [Info] Start training from score -2.957492\n",
      "0 model: 0.6972527472527473 f1\n",
      "[LightGBM] [Info] Number of positive: 8044, number of negative: 154844\n",
      "[LightGBM] [Info] Auto-choosing row-wise multi-threading, the overhead of testing was 0.057265 seconds.\n",
      "You can set `force_row_wise=true` to remove the overhead.\n",
      "And if memory is not enough, you can set `force_col_wise=true`.\n",
      "[LightGBM] [Info] Total Bins 11280\n",
      "[LightGBM] [Info] Number of data points in the train set: 162888, number of used features: 143\n",
      "[LightGBM] [Info] [binary:BoostFromScore]: pavg=0.049384 -> initscore=-2.957492\n",
      "[LightGBM] [Info] Start training from score -2.957492\n",
      "1 model: 0.7012345679012345 f1\n",
      "[LightGBM] [Info] Number of positive: 8044, number of negative: 154844\n",
      "[LightGBM] [Info] Auto-choosing row-wise multi-threading, the overhead of testing was 0.058151 seconds.\n",
      "You can set `force_row_wise=true` to remove the overhead.\n",
      "And if memory is not enough, you can set `force_col_wise=true`.\n",
      "[LightGBM] [Info] Total Bins 11279\n",
      "[LightGBM] [Info] Number of data points in the train set: 162888, number of used features: 143\n",
      "[LightGBM] [Info] [binary:BoostFromScore]: pavg=0.049384 -> initscore=-2.957492\n",
      "[LightGBM] [Info] Start training from score -2.957492\n",
      "2 model: 0.6882500697739324 f1\n",
      "[LightGBM] [Info] Number of positive: 8044, number of negative: 154844\n",
      "[LightGBM] [Info] Auto-choosing row-wise multi-threading, the overhead of testing was 0.058253 seconds.\n",
      "You can set `force_row_wise=true` to remove the overhead.\n",
      "And if memory is not enough, you can set `force_col_wise=true`.\n",
      "[LightGBM] [Info] Total Bins 11272\n",
      "[LightGBM] [Info] Number of data points in the train set: 162888, number of used features: 143\n",
      "[LightGBM] [Info] [binary:BoostFromScore]: pavg=0.049384 -> initscore=-2.957492\n",
      "[LightGBM] [Info] Start training from score -2.957492\n",
      "3 model: 0.6973180076628352 f1\n",
      "[LightGBM] [Info] Number of positive: 8044, number of negative: 154844\n",
      "[LightGBM] [Info] Auto-choosing row-wise multi-threading, the overhead of testing was 0.058623 seconds.\n",
      "You can set `force_row_wise=true` to remove the overhead.\n",
      "And if memory is not enough, you can set `force_col_wise=true`.\n",
      "[LightGBM] [Info] Total Bins 11276\n",
      "[LightGBM] [Info] Number of data points in the train set: 162888, number of used features: 143\n",
      "[LightGBM] [Info] [binary:BoostFromScore]: pavg=0.049384 -> initscore=-2.957492\n",
      "[LightGBM] [Info] Start training from score -2.957492\n",
      "4 model: 0.691009681881051 f1\n",
      "mean f1 score -- 0.695 0.0047\n"
     ]
    },
    {
     "name": "stderr",
     "output_type": "stream",
     "text": [
      "/tmp/ipykernel_159113/1469517822.py:17: SettingWithCopyWarning: \n",
      "A value is trying to be set on a copy of a slice from a DataFrame.\n",
      "Try using .loc[row_indexer,col_indexer] = value instead\n",
      "\n",
      "See the caveats in the documentation: https://pandas.pydata.org/pandas-docs/stable/user_guide/indexing.html#returning-a-view-versus-a-copy\n",
      "  df[cat_feature] = df[cat_feature].astype('category')\n",
      "/tmp/ipykernel_159113/1469517822.py:17: SettingWithCopyWarning: \n",
      "A value is trying to be set on a copy of a slice from a DataFrame.\n",
      "Try using .loc[row_indexer,col_indexer] = value instead\n",
      "\n",
      "See the caveats in the documentation: https://pandas.pydata.org/pandas-docs/stable/user_guide/indexing.html#returning-a-view-versus-a-copy\n",
      "  df[cat_feature] = df[cat_feature].astype('category')\n",
      "/tmp/ipykernel_159113/1469517822.py:17: SettingWithCopyWarning: \n",
      "A value is trying to be set on a copy of a slice from a DataFrame.\n",
      "Try using .loc[row_indexer,col_indexer] = value instead\n",
      "\n",
      "See the caveats in the documentation: https://pandas.pydata.org/pandas-docs/stable/user_guide/indexing.html#returning-a-view-versus-a-copy\n",
      "  df[cat_feature] = df[cat_feature].astype('category')\n",
      "/tmp/ipykernel_159113/1469517822.py:17: SettingWithCopyWarning: \n",
      "A value is trying to be set on a copy of a slice from a DataFrame.\n",
      "Try using .loc[row_indexer,col_indexer] = value instead\n",
      "\n",
      "See the caveats in the documentation: https://pandas.pydata.org/pandas-docs/stable/user_guide/indexing.html#returning-a-view-versus-a-copy\n",
      "  df[cat_feature] = df[cat_feature].astype('category')\n",
      "/tmp/ipykernel_159113/1469517822.py:17: SettingWithCopyWarning: \n",
      "A value is trying to be set on a copy of a slice from a DataFrame.\n",
      "Try using .loc[row_indexer,col_indexer] = value instead\n",
      "\n",
      "See the caveats in the documentation: https://pandas.pydata.org/pandas-docs/stable/user_guide/indexing.html#returning-a-view-versus-a-copy\n",
      "  df[cat_feature] = df[cat_feature].astype('category')\n",
      "/tmp/ipykernel_159113/1469517822.py:17: SettingWithCopyWarning: \n",
      "A value is trying to be set on a copy of a slice from a DataFrame.\n",
      "Try using .loc[row_indexer,col_indexer] = value instead\n",
      "\n",
      "See the caveats in the documentation: https://pandas.pydata.org/pandas-docs/stable/user_guide/indexing.html#returning-a-view-versus-a-copy\n",
      "  df[cat_feature] = df[cat_feature].astype('category')\n",
      "/tmp/ipykernel_159113/1469517822.py:17: SettingWithCopyWarning: \n",
      "A value is trying to be set on a copy of a slice from a DataFrame.\n",
      "Try using .loc[row_indexer,col_indexer] = value instead\n",
      "\n",
      "See the caveats in the documentation: https://pandas.pydata.org/pandas-docs/stable/user_guide/indexing.html#returning-a-view-versus-a-copy\n",
      "  df[cat_feature] = df[cat_feature].astype('category')\n",
      "/tmp/ipykernel_159113/1469517822.py:17: SettingWithCopyWarning: \n",
      "A value is trying to be set on a copy of a slice from a DataFrame.\n",
      "Try using .loc[row_indexer,col_indexer] = value instead\n",
      "\n",
      "See the caveats in the documentation: https://pandas.pydata.org/pandas-docs/stable/user_guide/indexing.html#returning-a-view-versus-a-copy\n",
      "  df[cat_feature] = df[cat_feature].astype('category')\n",
      "/tmp/ipykernel_159113/1469517822.py:17: SettingWithCopyWarning: \n",
      "A value is trying to be set on a copy of a slice from a DataFrame.\n",
      "Try using .loc[row_indexer,col_indexer] = value instead\n",
      "\n",
      "See the caveats in the documentation: https://pandas.pydata.org/pandas-docs/stable/user_guide/indexing.html#returning-a-view-versus-a-copy\n",
      "  df[cat_feature] = df[cat_feature].astype('category')\n",
      "/tmp/ipykernel_159113/1469517822.py:17: SettingWithCopyWarning: \n",
      "A value is trying to be set on a copy of a slice from a DataFrame.\n",
      "Try using .loc[row_indexer,col_indexer] = value instead\n",
      "\n",
      "See the caveats in the documentation: https://pandas.pydata.org/pandas-docs/stable/user_guide/indexing.html#returning-a-view-versus-a-copy\n",
      "  df[cat_feature] = df[cat_feature].astype('category')\n",
      "/tmp/ipykernel_159113/1469517822.py:17: SettingWithCopyWarning: \n",
      "A value is trying to be set on a copy of a slice from a DataFrame.\n",
      "Try using .loc[row_indexer,col_indexer] = value instead\n",
      "\n",
      "See the caveats in the documentation: https://pandas.pydata.org/pandas-docs/stable/user_guide/indexing.html#returning-a-view-versus-a-copy\n",
      "  df[cat_feature] = df[cat_feature].astype('category')\n",
      "/tmp/ipykernel_159113/1469517822.py:17: SettingWithCopyWarning: \n",
      "A value is trying to be set on a copy of a slice from a DataFrame.\n",
      "Try using .loc[row_indexer,col_indexer] = value instead\n",
      "\n",
      "See the caveats in the documentation: https://pandas.pydata.org/pandas-docs/stable/user_guide/indexing.html#returning-a-view-versus-a-copy\n",
      "  df[cat_feature] = df[cat_feature].astype('category')\n",
      "/tmp/ipykernel_159113/1469517822.py:17: SettingWithCopyWarning: \n",
      "A value is trying to be set on a copy of a slice from a DataFrame.\n",
      "Try using .loc[row_indexer,col_indexer] = value instead\n",
      "\n",
      "See the caveats in the documentation: https://pandas.pydata.org/pandas-docs/stable/user_guide/indexing.html#returning-a-view-versus-a-copy\n",
      "  df[cat_feature] = df[cat_feature].astype('category')\n",
      "/tmp/ipykernel_159113/1469517822.py:17: SettingWithCopyWarning: \n",
      "A value is trying to be set on a copy of a slice from a DataFrame.\n",
      "Try using .loc[row_indexer,col_indexer] = value instead\n",
      "\n",
      "See the caveats in the documentation: https://pandas.pydata.org/pandas-docs/stable/user_guide/indexing.html#returning-a-view-versus-a-copy\n",
      "  df[cat_feature] = df[cat_feature].astype('category')\n",
      "/tmp/ipykernel_159113/1469517822.py:17: SettingWithCopyWarning: \n",
      "A value is trying to be set on a copy of a slice from a DataFrame.\n",
      "Try using .loc[row_indexer,col_indexer] = value instead\n",
      "\n",
      "See the caveats in the documentation: https://pandas.pydata.org/pandas-docs/stable/user_guide/indexing.html#returning-a-view-versus-a-copy\n",
      "  df[cat_feature] = df[cat_feature].astype('category')\n",
      "/tmp/ipykernel_159113/1469517822.py:17: SettingWithCopyWarning: \n",
      "A value is trying to be set on a copy of a slice from a DataFrame.\n",
      "Try using .loc[row_indexer,col_indexer] = value instead\n",
      "\n",
      "See the caveats in the documentation: https://pandas.pydata.org/pandas-docs/stable/user_guide/indexing.html#returning-a-view-versus-a-copy\n",
      "  df[cat_feature] = df[cat_feature].astype('category')\n",
      "/tmp/ipykernel_159113/1469517822.py:17: SettingWithCopyWarning: \n",
      "A value is trying to be set on a copy of a slice from a DataFrame.\n",
      "Try using .loc[row_indexer,col_indexer] = value instead\n",
      "\n",
      "See the caveats in the documentation: https://pandas.pydata.org/pandas-docs/stable/user_guide/indexing.html#returning-a-view-versus-a-copy\n",
      "  df[cat_feature] = df[cat_feature].astype('category')\n"
     ]
    },
    {
     "name": "stdout",
     "output_type": "stream",
     "text": [
      "[LightGBM] [Info] Number of positive: 2653, number of negative: 160235\n",
      "[LightGBM] [Info] Auto-choosing row-wise multi-threading, the overhead of testing was 0.058670 seconds.\n",
      "You can set `force_row_wise=true` to remove the overhead.\n",
      "And if memory is not enough, you can set `force_col_wise=true`.\n",
      "[LightGBM] [Info] Total Bins 11276\n",
      "[LightGBM] [Info] Number of data points in the train set: 162888, number of used features: 143\n",
      "[LightGBM] [Info] [binary:BoostFromScore]: pavg=0.016287 -> initscore=-4.100950\n",
      "[LightGBM] [Info] Start training from score -4.100950\n",
      "0 model: 0.5771689497716895 f1\n",
      "[LightGBM] [Info] Number of positive: 2653, number of negative: 160235\n",
      "[LightGBM] [Info] Auto-choosing row-wise multi-threading, the overhead of testing was 0.059280 seconds.\n",
      "You can set `force_row_wise=true` to remove the overhead.\n",
      "And if memory is not enough, you can set `force_col_wise=true`.\n",
      "[LightGBM] [Info] Total Bins 11277\n",
      "[LightGBM] [Info] Number of data points in the train set: 162888, number of used features: 143\n",
      "[LightGBM] [Info] [binary:BoostFromScore]: pavg=0.016287 -> initscore=-4.100950\n",
      "[LightGBM] [Info] Start training from score -4.100950\n",
      "1 model: 0.5623869801084991 f1\n",
      "[LightGBM] [Info] Number of positive: 2653, number of negative: 160235\n",
      "[LightGBM] [Info] Auto-choosing row-wise multi-threading, the overhead of testing was 0.057987 seconds.\n",
      "You can set `force_row_wise=true` to remove the overhead.\n",
      "And if memory is not enough, you can set `force_col_wise=true`.\n",
      "[LightGBM] [Info] Total Bins 11279\n",
      "[LightGBM] [Info] Number of data points in the train set: 162888, number of used features: 143\n",
      "[LightGBM] [Info] [binary:BoostFromScore]: pavg=0.016287 -> initscore=-4.100950\n",
      "[LightGBM] [Info] Start training from score -4.100950\n",
      "2 model: 0.5843101893597836 f1\n",
      "[LightGBM] [Info] Number of positive: 2653, number of negative: 160235\n",
      "[LightGBM] [Info] Auto-choosing row-wise multi-threading, the overhead of testing was 0.058308 seconds.\n",
      "You can set `force_row_wise=true` to remove the overhead.\n",
      "And if memory is not enough, you can set `force_col_wise=true`.\n",
      "[LightGBM] [Info] Total Bins 11274\n",
      "[LightGBM] [Info] Number of data points in the train set: 162888, number of used features: 143\n",
      "[LightGBM] [Info] [binary:BoostFromScore]: pavg=0.016287 -> initscore=-4.100950\n",
      "[LightGBM] [Info] Start training from score -4.100950\n",
      "3 model: 0.5737704918032787 f1\n",
      "[LightGBM] [Info] Number of positive: 2652, number of negative: 160236\n",
      "[LightGBM] [Info] Auto-choosing row-wise multi-threading, the overhead of testing was 0.052350 seconds.\n",
      "You can set `force_row_wise=true` to remove the overhead.\n",
      "And if memory is not enough, you can set `force_col_wise=true`.\n",
      "[LightGBM] [Info] Total Bins 11287\n",
      "[LightGBM] [Info] Number of data points in the train set: 162888, number of used features: 143\n",
      "[LightGBM] [Info] [binary:BoostFromScore]: pavg=0.016281 -> initscore=-4.101334\n",
      "[LightGBM] [Info] Start training from score -4.101334\n",
      "4 model: 0.5930434782608697 f1\n",
      "mean f1 score -- 0.578 0.0103\n"
     ]
    }
   ],
   "source": [
    "month_clfs, month_f1, month_std = train('target_month')\n",
    "day_clfs, day_f1, day_std = train('target_day')"
   ],
   "metadata": {
    "collapsed": false,
    "ExecuteTime": {
     "end_time": "2023-11-12T04:27:46.894182091Z",
     "start_time": "2023-11-12T04:26:54.515234686Z"
    }
   }
  },
  {
   "cell_type": "code",
   "execution_count": 40,
   "outputs": [
    {
     "name": "stdout",
     "output_type": "stream",
     "text": [
      "0.695 0.0047\n",
      "0.578 0.0103\n"
     ]
    }
   ],
   "source": [
    "print(month_f1, month_std)\n",
    "print(day_f1, day_std)"
   ],
   "metadata": {
    "collapsed": false,
    "ExecuteTime": {
     "end_time": "2023-11-12T04:29:07.264538396Z",
     "start_time": "2023-11-12T04:29:07.259472591Z"
    }
   }
  },
  {
   "cell_type": "code",
   "execution_count": 41,
   "outputs": [
    {
     "data": {
      "text/plain": "0.63671875"
     },
     "execution_count": 41,
     "metadata": {},
     "output_type": "execute_result"
    }
   ],
   "source": [
    "(month_f1 + day_f1) / 2"
   ],
   "metadata": {
    "collapsed": false,
    "ExecuteTime": {
     "end_time": "2023-11-12T04:29:09.628268296Z",
     "start_time": "2023-11-12T04:29:09.621335735Z"
    }
   }
  },
  {
   "cell_type": "code",
   "execution_count": 47,
   "outputs": [],
   "source": [
    "def predict(clfs, df):\n",
    "    features = numerical + categorical\n",
    "    X = df[features]\n",
    "\n",
    "    for cat_feature in categorical:\n",
    "        df[cat_feature] = df[cat_feature].astype('category')\n",
    "\n",
    "    y_pred = np.zeros((X.shape[0], 2))\n",
    "    for clf in clfs:\n",
    "        y_pred += clf.predict_proba(X)\n",
    "    y_pred /= len(clfs)\n",
    "\n",
    "    return y_pred.argmax(axis=1)"
   ],
   "metadata": {
    "collapsed": false,
    "ExecuteTime": {
     "end_time": "2023-11-12T04:35:56.303886584Z",
     "start_time": "2023-11-12T04:35:56.300230963Z"
    }
   }
  },
  {
   "cell_type": "code",
   "execution_count": 48,
   "outputs": [
    {
     "ename": "ValueError",
     "evalue": "train and valid dataset categorical_feature do not match.",
     "output_type": "error",
     "traceback": [
      "\u001B[0;31m---------------------------------------------------------------------------\u001B[0m",
      "\u001B[0;31mValueError\u001B[0m                                Traceback (most recent call last)",
      "Cell \u001B[0;32mIn[48], line 15\u001B[0m\n\u001B[1;32m     11\u001B[0m     sample \u001B[38;5;241m=\u001B[39m sample\u001B[38;5;241m.\u001B[39mmerge(df_test_new, on\u001B[38;5;241m=\u001B[39m\u001B[38;5;124m'\u001B[39m\u001B[38;5;124mwagnum\u001B[39m\u001B[38;5;124m'\u001B[39m, how\u001B[38;5;241m=\u001B[39m\u001B[38;5;124m'\u001B[39m\u001B[38;5;124mleft\u001B[39m\u001B[38;5;124m'\u001B[39m)\n\u001B[1;32m     13\u001B[0m     \u001B[38;5;28;01mreturn\u001B[39;00m sample\n\u001B[0;32m---> 15\u001B[0m prediction \u001B[38;5;241m=\u001B[39m \u001B[43mmake_predictions\u001B[49m\u001B[43m(\u001B[49m\u001B[43mday_clfs\u001B[49m\u001B[43m,\u001B[49m\u001B[43m \u001B[49m\u001B[43mmonth_clfs\u001B[49m\u001B[43m,\u001B[49m\u001B[43m \u001B[49m\u001B[43mdf_test\u001B[49m\u001B[43m)\u001B[49m\n\u001B[1;32m     16\u001B[0m \u001B[38;5;28;01massert\u001B[39;00m \u001B[38;5;28mlen\u001B[39m(prediction) \u001B[38;5;241m==\u001B[39m \u001B[38;5;28mlen\u001B[39m(df_test)\n\u001B[1;32m     18\u001B[0m prediction\u001B[38;5;241m.\u001B[39mdescribe()\n",
      "Cell \u001B[0;32mIn[48], line 2\u001B[0m, in \u001B[0;36mmake_predictions\u001B[0;34m(clfs_day, clfs_month, df)\u001B[0m\n\u001B[1;32m      1\u001B[0m \u001B[38;5;28;01mdef\u001B[39;00m \u001B[38;5;21mmake_predictions\u001B[39m(clfs_day, clfs_month, df):\n\u001B[0;32m----> 2\u001B[0m     pred_day \u001B[38;5;241m=\u001B[39m \u001B[43mpredict\u001B[49m\u001B[43m(\u001B[49m\u001B[43mclfs_day\u001B[49m\u001B[43m,\u001B[49m\u001B[43m \u001B[49m\u001B[43mdf\u001B[49m\u001B[43m)\u001B[49m\n\u001B[1;32m      3\u001B[0m     pred_month \u001B[38;5;241m=\u001B[39m predict(clfs_month, df)\n\u001B[1;32m      5\u001B[0m     df_test_new \u001B[38;5;241m=\u001B[39m df\u001B[38;5;241m.\u001B[39mcopy()[[\u001B[38;5;124m'\u001B[39m\u001B[38;5;124mwagnum\u001B[39m\u001B[38;5;124m'\u001B[39m, \u001B[38;5;124m'\u001B[39m\u001B[38;5;124mmonth\u001B[39m\u001B[38;5;124m'\u001B[39m]]\n",
      "Cell \u001B[0;32mIn[47], line 10\u001B[0m, in \u001B[0;36mpredict\u001B[0;34m(clfs, df)\u001B[0m\n\u001B[1;32m      8\u001B[0m y_pred \u001B[38;5;241m=\u001B[39m np\u001B[38;5;241m.\u001B[39mzeros((X\u001B[38;5;241m.\u001B[39mshape[\u001B[38;5;241m0\u001B[39m], \u001B[38;5;241m2\u001B[39m))\n\u001B[1;32m      9\u001B[0m \u001B[38;5;28;01mfor\u001B[39;00m clf \u001B[38;5;129;01min\u001B[39;00m clfs:\n\u001B[0;32m---> 10\u001B[0m     y_pred \u001B[38;5;241m+\u001B[39m\u001B[38;5;241m=\u001B[39m \u001B[43mclf\u001B[49m\u001B[38;5;241;43m.\u001B[39;49m\u001B[43mpredict_proba\u001B[49m\u001B[43m(\u001B[49m\u001B[43mX\u001B[49m\u001B[43m)\u001B[49m\n\u001B[1;32m     11\u001B[0m y_pred \u001B[38;5;241m/\u001B[39m\u001B[38;5;241m=\u001B[39m \u001B[38;5;28mlen\u001B[39m(clfs)\n\u001B[1;32m     13\u001B[0m \u001B[38;5;28;01mreturn\u001B[39;00m y_pred\u001B[38;5;241m.\u001B[39margmax(axis\u001B[38;5;241m=\u001B[39m\u001B[38;5;241m1\u001B[39m)\n",
      "File \u001B[0;32m~/anaconda3/lib/python3.10/site-packages/lightgbm/sklearn.py:1208\u001B[0m, in \u001B[0;36mLGBMClassifier.predict_proba\u001B[0;34m(self, X, raw_score, start_iteration, num_iteration, pred_leaf, pred_contrib, validate_features, **kwargs)\u001B[0m\n\u001B[1;32m   1196\u001B[0m \u001B[38;5;28;01mdef\u001B[39;00m \u001B[38;5;21mpredict_proba\u001B[39m(\n\u001B[1;32m   1197\u001B[0m     \u001B[38;5;28mself\u001B[39m,\n\u001B[1;32m   1198\u001B[0m     X: _LGBM_ScikitMatrixLike,\n\u001B[0;32m   (...)\u001B[0m\n\u001B[1;32m   1205\u001B[0m     \u001B[38;5;241m*\u001B[39m\u001B[38;5;241m*\u001B[39mkwargs: Any\n\u001B[1;32m   1206\u001B[0m ):\n\u001B[1;32m   1207\u001B[0m \u001B[38;5;250m    \u001B[39m\u001B[38;5;124;03m\"\"\"Docstring is set after definition, using a template.\"\"\"\u001B[39;00m\n\u001B[0;32m-> 1208\u001B[0m     result \u001B[38;5;241m=\u001B[39m \u001B[38;5;28;43msuper\u001B[39;49m\u001B[43m(\u001B[49m\u001B[43m)\u001B[49m\u001B[38;5;241;43m.\u001B[39;49m\u001B[43mpredict\u001B[49m\u001B[43m(\u001B[49m\n\u001B[1;32m   1209\u001B[0m \u001B[43m        \u001B[49m\u001B[43mX\u001B[49m\u001B[38;5;241;43m=\u001B[39;49m\u001B[43mX\u001B[49m\u001B[43m,\u001B[49m\n\u001B[1;32m   1210\u001B[0m \u001B[43m        \u001B[49m\u001B[43mraw_score\u001B[49m\u001B[38;5;241;43m=\u001B[39;49m\u001B[43mraw_score\u001B[49m\u001B[43m,\u001B[49m\n\u001B[1;32m   1211\u001B[0m \u001B[43m        \u001B[49m\u001B[43mstart_iteration\u001B[49m\u001B[38;5;241;43m=\u001B[39;49m\u001B[43mstart_iteration\u001B[49m\u001B[43m,\u001B[49m\n\u001B[1;32m   1212\u001B[0m \u001B[43m        \u001B[49m\u001B[43mnum_iteration\u001B[49m\u001B[38;5;241;43m=\u001B[39;49m\u001B[43mnum_iteration\u001B[49m\u001B[43m,\u001B[49m\n\u001B[1;32m   1213\u001B[0m \u001B[43m        \u001B[49m\u001B[43mpred_leaf\u001B[49m\u001B[38;5;241;43m=\u001B[39;49m\u001B[43mpred_leaf\u001B[49m\u001B[43m,\u001B[49m\n\u001B[1;32m   1214\u001B[0m \u001B[43m        \u001B[49m\u001B[43mpred_contrib\u001B[49m\u001B[38;5;241;43m=\u001B[39;49m\u001B[43mpred_contrib\u001B[49m\u001B[43m,\u001B[49m\n\u001B[1;32m   1215\u001B[0m \u001B[43m        \u001B[49m\u001B[43mvalidate_features\u001B[49m\u001B[38;5;241;43m=\u001B[39;49m\u001B[43mvalidate_features\u001B[49m\u001B[43m,\u001B[49m\n\u001B[1;32m   1216\u001B[0m \u001B[43m        \u001B[49m\u001B[38;5;241;43m*\u001B[39;49m\u001B[38;5;241;43m*\u001B[39;49m\u001B[43mkwargs\u001B[49m\n\u001B[1;32m   1217\u001B[0m \u001B[43m    \u001B[49m\u001B[43m)\u001B[49m\n\u001B[1;32m   1218\u001B[0m     \u001B[38;5;28;01mif\u001B[39;00m \u001B[38;5;28mcallable\u001B[39m(\u001B[38;5;28mself\u001B[39m\u001B[38;5;241m.\u001B[39m_objective) \u001B[38;5;129;01mand\u001B[39;00m \u001B[38;5;129;01mnot\u001B[39;00m (raw_score \u001B[38;5;129;01mor\u001B[39;00m pred_leaf \u001B[38;5;129;01mor\u001B[39;00m pred_contrib):\n\u001B[1;32m   1219\u001B[0m         _log_warning(\u001B[38;5;124m\"\u001B[39m\u001B[38;5;124mCannot compute class probabilities or labels \u001B[39m\u001B[38;5;124m\"\u001B[39m\n\u001B[1;32m   1220\u001B[0m                      \u001B[38;5;124m\"\u001B[39m\u001B[38;5;124mdue to the usage of customized objective function.\u001B[39m\u001B[38;5;130;01m\\n\u001B[39;00m\u001B[38;5;124m\"\u001B[39m\n\u001B[1;32m   1221\u001B[0m                      \u001B[38;5;124m\"\u001B[39m\u001B[38;5;124mReturning raw scores instead.\u001B[39m\u001B[38;5;124m\"\u001B[39m)\n",
      "File \u001B[0;32m~/anaconda3/lib/python3.10/site-packages/lightgbm/sklearn.py:918\u001B[0m, in \u001B[0;36mLGBMModel.predict\u001B[0;34m(self, X, raw_score, start_iteration, num_iteration, pred_leaf, pred_contrib, validate_features, **kwargs)\u001B[0m\n\u001B[1;32m    915\u001B[0m predict_params \u001B[38;5;241m=\u001B[39m _choose_param_value(\u001B[38;5;124m\"\u001B[39m\u001B[38;5;124mnum_threads\u001B[39m\u001B[38;5;124m\"\u001B[39m, predict_params, \u001B[38;5;28mself\u001B[39m\u001B[38;5;241m.\u001B[39mn_jobs)\n\u001B[1;32m    916\u001B[0m predict_params[\u001B[38;5;124m\"\u001B[39m\u001B[38;5;124mnum_threads\u001B[39m\u001B[38;5;124m\"\u001B[39m] \u001B[38;5;241m=\u001B[39m \u001B[38;5;28mself\u001B[39m\u001B[38;5;241m.\u001B[39m_process_n_jobs(predict_params[\u001B[38;5;124m\"\u001B[39m\u001B[38;5;124mnum_threads\u001B[39m\u001B[38;5;124m\"\u001B[39m])\n\u001B[0;32m--> 918\u001B[0m \u001B[38;5;28;01mreturn\u001B[39;00m \u001B[38;5;28;43mself\u001B[39;49m\u001B[38;5;241;43m.\u001B[39;49m\u001B[43m_Booster\u001B[49m\u001B[38;5;241;43m.\u001B[39;49m\u001B[43mpredict\u001B[49m\u001B[43m(\u001B[49m\u001B[43m  \u001B[49m\u001B[38;5;66;43;03m# type: ignore[union-attr]\u001B[39;49;00m\n\u001B[1;32m    919\u001B[0m \u001B[43m    \u001B[49m\u001B[43mX\u001B[49m\u001B[43m,\u001B[49m\u001B[43m \u001B[49m\u001B[43mraw_score\u001B[49m\u001B[38;5;241;43m=\u001B[39;49m\u001B[43mraw_score\u001B[49m\u001B[43m,\u001B[49m\u001B[43m \u001B[49m\u001B[43mstart_iteration\u001B[49m\u001B[38;5;241;43m=\u001B[39;49m\u001B[43mstart_iteration\u001B[49m\u001B[43m,\u001B[49m\u001B[43m \u001B[49m\u001B[43mnum_iteration\u001B[49m\u001B[38;5;241;43m=\u001B[39;49m\u001B[43mnum_iteration\u001B[49m\u001B[43m,\u001B[49m\n\u001B[1;32m    920\u001B[0m \u001B[43m    \u001B[49m\u001B[43mpred_leaf\u001B[49m\u001B[38;5;241;43m=\u001B[39;49m\u001B[43mpred_leaf\u001B[49m\u001B[43m,\u001B[49m\u001B[43m \u001B[49m\u001B[43mpred_contrib\u001B[49m\u001B[38;5;241;43m=\u001B[39;49m\u001B[43mpred_contrib\u001B[49m\u001B[43m,\u001B[49m\u001B[43m \u001B[49m\u001B[43mvalidate_features\u001B[49m\u001B[38;5;241;43m=\u001B[39;49m\u001B[43mvalidate_features\u001B[49m\u001B[43m,\u001B[49m\n\u001B[1;32m    921\u001B[0m \u001B[43m    \u001B[49m\u001B[38;5;241;43m*\u001B[39;49m\u001B[38;5;241;43m*\u001B[39;49m\u001B[43mpredict_params\u001B[49m\n\u001B[1;32m    922\u001B[0m \u001B[43m\u001B[49m\u001B[43m)\u001B[49m\n",
      "File \u001B[0;32m~/anaconda3/lib/python3.10/site-packages/lightgbm/basic.py:4220\u001B[0m, in \u001B[0;36mBooster.predict\u001B[0;34m(self, data, start_iteration, num_iteration, raw_score, pred_leaf, pred_contrib, data_has_header, validate_features, **kwargs)\u001B[0m\n\u001B[1;32m   4218\u001B[0m     \u001B[38;5;28;01melse\u001B[39;00m:\n\u001B[1;32m   4219\u001B[0m         num_iteration \u001B[38;5;241m=\u001B[39m \u001B[38;5;241m-\u001B[39m\u001B[38;5;241m1\u001B[39m\n\u001B[0;32m-> 4220\u001B[0m \u001B[38;5;28;01mreturn\u001B[39;00m \u001B[43mpredictor\u001B[49m\u001B[38;5;241;43m.\u001B[39;49m\u001B[43mpredict\u001B[49m\u001B[43m(\u001B[49m\n\u001B[1;32m   4221\u001B[0m \u001B[43m    \u001B[49m\u001B[43mdata\u001B[49m\u001B[38;5;241;43m=\u001B[39;49m\u001B[43mdata\u001B[49m\u001B[43m,\u001B[49m\n\u001B[1;32m   4222\u001B[0m \u001B[43m    \u001B[49m\u001B[43mstart_iteration\u001B[49m\u001B[38;5;241;43m=\u001B[39;49m\u001B[43mstart_iteration\u001B[49m\u001B[43m,\u001B[49m\n\u001B[1;32m   4223\u001B[0m \u001B[43m    \u001B[49m\u001B[43mnum_iteration\u001B[49m\u001B[38;5;241;43m=\u001B[39;49m\u001B[43mnum_iteration\u001B[49m\u001B[43m,\u001B[49m\n\u001B[1;32m   4224\u001B[0m \u001B[43m    \u001B[49m\u001B[43mraw_score\u001B[49m\u001B[38;5;241;43m=\u001B[39;49m\u001B[43mraw_score\u001B[49m\u001B[43m,\u001B[49m\n\u001B[1;32m   4225\u001B[0m \u001B[43m    \u001B[49m\u001B[43mpred_leaf\u001B[49m\u001B[38;5;241;43m=\u001B[39;49m\u001B[43mpred_leaf\u001B[49m\u001B[43m,\u001B[49m\n\u001B[1;32m   4226\u001B[0m \u001B[43m    \u001B[49m\u001B[43mpred_contrib\u001B[49m\u001B[38;5;241;43m=\u001B[39;49m\u001B[43mpred_contrib\u001B[49m\u001B[43m,\u001B[49m\n\u001B[1;32m   4227\u001B[0m \u001B[43m    \u001B[49m\u001B[43mdata_has_header\u001B[49m\u001B[38;5;241;43m=\u001B[39;49m\u001B[43mdata_has_header\u001B[49m\u001B[43m,\u001B[49m\n\u001B[1;32m   4228\u001B[0m \u001B[43m    \u001B[49m\u001B[43mvalidate_features\u001B[49m\u001B[38;5;241;43m=\u001B[39;49m\u001B[43mvalidate_features\u001B[49m\n\u001B[1;32m   4229\u001B[0m \u001B[43m\u001B[49m\u001B[43m)\u001B[49m\n",
      "File \u001B[0;32m~/anaconda3/lib/python3.10/site-packages/lightgbm/basic.py:1004\u001B[0m, in \u001B[0;36m_InnerPredictor.predict\u001B[0;34m(self, data, start_iteration, num_iteration, raw_score, pred_leaf, pred_contrib, data_has_header, validate_features)\u001B[0m\n\u001B[1;32m    995\u001B[0m     _safe_call(\n\u001B[1;32m    996\u001B[0m         _LIB\u001B[38;5;241m.\u001B[39mLGBM_BoosterValidateFeatureNames(\n\u001B[1;32m    997\u001B[0m             \u001B[38;5;28mself\u001B[39m\u001B[38;5;241m.\u001B[39m_handle,\n\u001B[0;32m   (...)\u001B[0m\n\u001B[1;32m   1000\u001B[0m         )\n\u001B[1;32m   1001\u001B[0m     )\n\u001B[1;32m   1003\u001B[0m \u001B[38;5;28;01mif\u001B[39;00m \u001B[38;5;28misinstance\u001B[39m(data, pd_DataFrame):\n\u001B[0;32m-> 1004\u001B[0m     data \u001B[38;5;241m=\u001B[39m \u001B[43m_data_from_pandas\u001B[49m\u001B[43m(\u001B[49m\n\u001B[1;32m   1005\u001B[0m \u001B[43m        \u001B[49m\u001B[43mdata\u001B[49m\u001B[38;5;241;43m=\u001B[39;49m\u001B[43mdata\u001B[49m\u001B[43m,\u001B[49m\n\u001B[1;32m   1006\u001B[0m \u001B[43m        \u001B[49m\u001B[43mfeature_name\u001B[49m\u001B[38;5;241;43m=\u001B[39;49m\u001B[38;5;124;43m\"\u001B[39;49m\u001B[38;5;124;43mauto\u001B[39;49m\u001B[38;5;124;43m\"\u001B[39;49m\u001B[43m,\u001B[49m\n\u001B[1;32m   1007\u001B[0m \u001B[43m        \u001B[49m\u001B[43mcategorical_feature\u001B[49m\u001B[38;5;241;43m=\u001B[39;49m\u001B[38;5;124;43m\"\u001B[39;49m\u001B[38;5;124;43mauto\u001B[39;49m\u001B[38;5;124;43m\"\u001B[39;49m\u001B[43m,\u001B[49m\n\u001B[1;32m   1008\u001B[0m \u001B[43m        \u001B[49m\u001B[43mpandas_categorical\u001B[49m\u001B[38;5;241;43m=\u001B[39;49m\u001B[38;5;28;43mself\u001B[39;49m\u001B[38;5;241;43m.\u001B[39;49m\u001B[43mpandas_categorical\u001B[49m\n\u001B[1;32m   1009\u001B[0m \u001B[43m    \u001B[49m\u001B[43m)\u001B[49m[\u001B[38;5;241m0\u001B[39m]\n\u001B[1;32m   1011\u001B[0m predict_type \u001B[38;5;241m=\u001B[39m _C_API_PREDICT_NORMAL\n\u001B[1;32m   1012\u001B[0m \u001B[38;5;28;01mif\u001B[39;00m raw_score:\n",
      "File \u001B[0;32m~/anaconda3/lib/python3.10/site-packages/lightgbm/basic.py:690\u001B[0m, in \u001B[0;36m_data_from_pandas\u001B[0;34m(data, feature_name, categorical_feature, pandas_categorical)\u001B[0m\n\u001B[1;32m    688\u001B[0m \u001B[38;5;28;01melse\u001B[39;00m:\n\u001B[1;32m    689\u001B[0m     \u001B[38;5;28;01mif\u001B[39;00m \u001B[38;5;28mlen\u001B[39m(cat_cols) \u001B[38;5;241m!=\u001B[39m \u001B[38;5;28mlen\u001B[39m(pandas_categorical):\n\u001B[0;32m--> 690\u001B[0m         \u001B[38;5;28;01mraise\u001B[39;00m \u001B[38;5;167;01mValueError\u001B[39;00m(\u001B[38;5;124m'\u001B[39m\u001B[38;5;124mtrain and valid dataset categorical_feature do not match.\u001B[39m\u001B[38;5;124m'\u001B[39m)\n\u001B[1;32m    691\u001B[0m     \u001B[38;5;28;01mfor\u001B[39;00m col, category \u001B[38;5;129;01min\u001B[39;00m \u001B[38;5;28mzip\u001B[39m(cat_cols, pandas_categorical):\n\u001B[1;32m    692\u001B[0m         \u001B[38;5;28;01mif\u001B[39;00m \u001B[38;5;28mlist\u001B[39m(data[col]\u001B[38;5;241m.\u001B[39mcat\u001B[38;5;241m.\u001B[39mcategories) \u001B[38;5;241m!=\u001B[39m \u001B[38;5;28mlist\u001B[39m(category):\n",
      "\u001B[0;31mValueError\u001B[0m: train and valid dataset categorical_feature do not match."
     ]
    }
   ],
   "source": [
    "def make_predictions(clfs_day, clfs_month, df):\n",
    "    pred_day = predict(clfs_day, df)\n",
    "    pred_month = predict(clfs_month, df)\n",
    "\n",
    "    df_test_new = df.copy()[['wagnum', 'month']]\n",
    "    df_test_new['target_day'] = pred_day\n",
    "    df_test_new['target_month'] = pred_month\n",
    "\n",
    "    df_test_new = df_test_new[['wagnum', 'target_month', 'target_day']]\n",
    "    sample = pd.read_csv('../train/target/y_predict.csv')\n",
    "    sample = sample.merge(df_test_new, on='wagnum', how='left')\n",
    "\n",
    "    return sample\n",
    "\n",
    "prediction = make_predictions(day_clfs, month_clfs, df_test)\n",
    "assert len(prediction) == len(df_test)\n",
    "\n",
    "prediction.describe()"
   ],
   "metadata": {
    "collapsed": false,
    "ExecuteTime": {
     "end_time": "2023-11-12T04:35:59.850173620Z",
     "start_time": "2023-11-12T04:35:59.758397665Z"
    }
   }
  },
  {
   "cell_type": "code",
   "execution_count": 24,
   "outputs": [],
   "source": [
    "prediction.to_csv('predictions/lgbm_0.636.csv', index=False)"
   ],
   "metadata": {
    "collapsed": false,
    "ExecuteTime": {
     "end_time": "2023-11-12T03:28:05.385932376Z",
     "start_time": "2023-11-12T03:28:05.329678694Z"
    }
   }
  },
  {
   "cell_type": "code",
   "execution_count": 14,
   "outputs": [],
   "source": [
    "cnt_folds = 3\n",
    "df_features = sum(month_clfs[i].get_feature_importance(prettified=True).set_index('Feature Id') for i in range(cnt_folds)) / cnt_folds\n",
    "df_features = df_features.sort_values('Importances', ascending=False)"
   ],
   "metadata": {
    "collapsed": false,
    "ExecuteTime": {
     "end_time": "2023-11-12T01:18:15.583865567Z",
     "start_time": "2023-11-12T01:18:15.538065004Z"
    }
   }
  },
  {
   "cell_type": "code",
   "execution_count": 28,
   "outputs": [
    {
     "data": {
      "text/plain": "                      Importances\nFeature Id                       \nost_prob                14.070812\ndays_to_pl_rem          11.467984\n5d_ost_prob_max         11.214305\n5d_ost_prob_min          9.660306\n10d_ost_prob_max         7.569389\n...                           ...\ndiff_road_pr             0.000002\n10d_skoroport_mean       0.000000\n5d_skoroport_mean        0.000000\n60d_another_road_max     0.000000\nexpected_srok_sl_y_b     0.000000\n\n[127 rows x 1 columns]",
      "text/html": "<div>\n<style scoped>\n    .dataframe tbody tr th:only-of-type {\n        vertical-align: middle;\n    }\n\n    .dataframe tbody tr th {\n        vertical-align: top;\n    }\n\n    .dataframe thead th {\n        text-align: right;\n    }\n</style>\n<table border=\"1\" class=\"dataframe\">\n  <thead>\n    <tr style=\"text-align: right;\">\n      <th></th>\n      <th>Importances</th>\n    </tr>\n    <tr>\n      <th>Feature Id</th>\n      <th></th>\n    </tr>\n  </thead>\n  <tbody>\n    <tr>\n      <th>ost_prob</th>\n      <td>14.070812</td>\n    </tr>\n    <tr>\n      <th>days_to_pl_rem</th>\n      <td>11.467984</td>\n    </tr>\n    <tr>\n      <th>5d_ost_prob_max</th>\n      <td>11.214305</td>\n    </tr>\n    <tr>\n      <th>5d_ost_prob_min</th>\n      <td>9.660306</td>\n    </tr>\n    <tr>\n      <th>10d_ost_prob_max</th>\n      <td>7.569389</td>\n    </tr>\n    <tr>\n      <th>...</th>\n      <td>...</td>\n    </tr>\n    <tr>\n      <th>diff_road_pr</th>\n      <td>0.000002</td>\n    </tr>\n    <tr>\n      <th>10d_skoroport_mean</th>\n      <td>0.000000</td>\n    </tr>\n    <tr>\n      <th>5d_skoroport_mean</th>\n      <td>0.000000</td>\n    </tr>\n    <tr>\n      <th>60d_another_road_max</th>\n      <td>0.000000</td>\n    </tr>\n    <tr>\n      <th>expected_srok_sl_y_b</th>\n      <td>0.000000</td>\n    </tr>\n  </tbody>\n</table>\n<p>127 rows × 1 columns</p>\n</div>"
     },
     "execution_count": 28,
     "metadata": {},
     "output_type": "execute_result"
    }
   ],
   "source": [
    "df_features"
   ],
   "metadata": {
    "collapsed": false,
    "ExecuteTime": {
     "end_time": "2023-11-12T01:24:33.124336984Z",
     "start_time": "2023-11-12T01:24:33.081238758Z"
    }
   }
  },
  {
   "cell_type": "code",
   "execution_count": 35,
   "outputs": [],
   "source": [
    "def opt_train(trial):\n",
    "    target = 'target_month'\n",
    "\n",
    "    param = {\n",
    "        'iterations': trial.suggest_int('iterations', 100, 500),\n",
    "        'depth': trial.suggest_int('depth', 4, 10),\n",
    "        'learning_rate': trial.suggest_float('learning_rate', 0.01, 0.3),\n",
    "        'random_strength': trial.suggest_int('random_strength', 0, 100),\n",
    "        'bagging_temperature': trial.suggest_float('bagging_temperature', 0.0, 1.0),\n",
    "        'od_type': trial.suggest_categorical('od_type', ['IncToDec', 'Iter']),\n",
    "        'grow_policy': trial.suggest_categorical('grow_policy', ['SymmetricTree', 'Depthwise', 'Lossguide'])\n",
    "    }\n",
    "\n",
    "    clf = CatBoostClassifier(cat_features=categorical,\n",
    "                             eval_metric='F1',\n",
    "                             random_seed=DEFAULT_RANDOM_SEED,\n",
    "                             allow_writing_files=False,\n",
    "                             **param)\n",
    "\n",
    "    features = numerical + categorical + [target]\n",
    "    df = df_train[features]\n",
    "    X = df.drop(target, axis=1)\n",
    "    y = df[target]\n",
    "    X_train, X_test, y_train, y_test = train_test_split(X, y, test_size=0.33, random_state=DEFAULT_RANDOM_SEED)\n",
    "\n",
    "    clf.fit(X_train, y_train,\n",
    "            eval_set=(X_test, y_test),\n",
    "            verbose=150, plot=False)\n",
    "\n",
    "    y_pred = clf.predict(X_test)\n",
    "    score = f1_score(y_test, y_pred)\n",
    "\n",
    "    return score"
   ],
   "metadata": {
    "collapsed": false,
    "ExecuteTime": {
     "end_time": "2023-11-12T01:44:10.168418399Z",
     "start_time": "2023-11-12T01:44:10.124518155Z"
    }
   }
  },
  {
   "cell_type": "code",
   "execution_count": 36,
   "outputs": [
    {
     "name": "stderr",
     "output_type": "stream",
     "text": [
      "[I 2023-11-12 04:44:12,303] A new study created in memory with name: no-name-f68465eb-29f4-41c7-b256-ec96c2c15cc2\n"
     ]
    },
    {
     "name": "stdout",
     "output_type": "stream",
     "text": [
      "0:\tlearn: 0.0000000\ttest: 0.0000000\tbest: 0.0000000 (0)\ttotal: 231ms\tremaining: 34.4s\n",
      "Stopped by overfitting detector  (20 iterations wait)\n",
      "\n",
      "bestTest = 0.666553768\n",
      "bestIteration = 82\n",
      "\n",
      "Shrink model to first 83 iterations.\n"
     ]
    },
    {
     "name": "stderr",
     "output_type": "stream",
     "text": [
      "[I 2023-11-12 04:44:35,854] Trial 0 finished with value: 0.666553767993226 and parameters: {'iterations': 150, 'depth': 8, 'learning_rate': 0.25764691338078466, 'random_strength': 83, 'bagging_temperature': 0.39125301527748746, 'od_type': 'Iter', 'grow_policy': 'SymmetricTree'}. Best is trial 0 with value: 0.666553767993226.\n"
     ]
    },
    {
     "name": "stdout",
     "output_type": "stream",
     "text": [
      "0:\tlearn: 0.0000000\ttest: 0.0000000\tbest: 0.0000000 (0)\ttotal: 105ms\tremaining: 46.9s\n",
      "150:\tlearn: 0.8324799\ttest: 0.6643461\tbest: 0.6685515 (96)\ttotal: 16.5s\tremaining: 32.4s\n",
      "300:\tlearn: 0.9249509\ttest: 0.6589557\tbest: 0.6685515 (96)\ttotal: 30.3s\tremaining: 14.8s\n",
      "447:\tlearn: 0.9688359\ttest: 0.6595148\tbest: 0.6685515 (96)\ttotal: 53.9s\tremaining: 0us\n",
      "\n",
      "bestTest = 0.6685514718\n",
      "bestIteration = 96\n",
      "\n",
      "Shrink model to first 97 iterations.\n"
     ]
    },
    {
     "name": "stderr",
     "output_type": "stream",
     "text": [
      "[I 2023-11-12 04:45:31,975] Trial 1 finished with value: 0.668551471811076 and parameters: {'iterations': 448, 'depth': 9, 'learning_rate': 0.29990282741361146, 'random_strength': 43, 'bagging_temperature': 0.1946616268414929, 'od_type': 'IncToDec', 'grow_policy': 'Lossguide'}. Best is trial 1 with value: 0.668551471811076.\n"
     ]
    },
    {
     "name": "stdout",
     "output_type": "stream",
     "text": [
      "0:\tlearn: 0.0000000\ttest: 0.0000000\tbest: 0.0000000 (0)\ttotal: 92.2ms\tremaining: 18.1s\n",
      "Stopped by overfitting detector  (20 iterations wait)\n",
      "\n",
      "bestTest = 0\n",
      "bestIteration = 0\n",
      "\n",
      "Shrink model to first 1 iterations.\n"
     ]
    },
    {
     "name": "stderr",
     "output_type": "stream",
     "text": [
      "[I 2023-11-12 04:45:36,020] Trial 2 finished with value: 0.0 and parameters: {'iterations': 197, 'depth': 10, 'learning_rate': 0.09122135459257101, 'random_strength': 75, 'bagging_temperature': 0.4747338632621929, 'od_type': 'Iter', 'grow_policy': 'Lossguide'}. Best is trial 1 with value: 0.668551471811076.\n"
     ]
    },
    {
     "name": "stdout",
     "output_type": "stream",
     "text": [
      "0:\tlearn: 0.0000000\ttest: 0.0000000\tbest: 0.0000000 (0)\ttotal: 117ms\tremaining: 47.8s\n",
      "150:\tlearn: 0.8323417\ttest: 0.6711252\tbest: 0.6747954 (129)\ttotal: 12.1s\tremaining: 20.8s\n",
      "300:\tlearn: 0.9529994\ttest: 0.6658906\tbest: 0.6747954 (129)\ttotal: 33.4s\tremaining: 12.2s\n",
      "410:\tlearn: 0.9823129\ttest: 0.6638852\tbest: 0.6747954 (129)\ttotal: 42.1s\tremaining: 0us\n",
      "\n",
      "bestTest = 0.67479539\n",
      "bestIteration = 129\n",
      "\n",
      "Shrink model to first 130 iterations.\n"
     ]
    },
    {
     "name": "stderr",
     "output_type": "stream",
     "text": [
      "[I 2023-11-12 04:46:20,080] Trial 3 finished with value: 0.6747953900116921 and parameters: {'iterations': 411, 'depth': 7, 'learning_rate': 0.20956554415377343, 'random_strength': 26, 'bagging_temperature': 0.5304002258569183, 'od_type': 'IncToDec', 'grow_policy': 'Depthwise'}. Best is trial 3 with value: 0.6747953900116921.\n"
     ]
    },
    {
     "name": "stdout",
     "output_type": "stream",
     "text": [
      "0:\tlearn: 0.0000000\ttest: 0.0000000\tbest: 0.0000000 (0)\ttotal: 104ms\tremaining: 32.3s\n",
      "150:\tlearn: 0.7153782\ttest: 0.6645249\tbest: 0.6664414 (141)\ttotal: 17s\tremaining: 18.1s\n",
      "300:\tlearn: 0.8017440\ttest: 0.6668921\tbest: 0.6722859 (217)\ttotal: 43.7s\tremaining: 1.6s\n",
      "311:\tlearn: 0.8078818\ttest: 0.6668916\tbest: 0.6722859 (217)\ttotal: 44.7s\tremaining: 0us\n",
      "\n",
      "bestTest = 0.6722859069\n",
      "bestIteration = 217\n",
      "\n",
      "Shrink model to first 218 iterations.\n"
     ]
    },
    {
     "name": "stderr",
     "output_type": "stream",
     "text": [
      "[I 2023-11-12 04:47:06,779] Trial 4 finished with value: 0.6722859069453809 and parameters: {'iterations': 312, 'depth': 6, 'learning_rate': 0.14603110531634853, 'random_strength': 86, 'bagging_temperature': 0.2735697577765558, 'od_type': 'IncToDec', 'grow_policy': 'Lossguide'}. Best is trial 3 with value: 0.6747953900116921.\n"
     ]
    },
    {
     "name": "stdout",
     "output_type": "stream",
     "text": [
      "0:\tlearn: 0.0002975\ttest: 0.0000000\tbest: 0.0000000 (0)\ttotal: 216ms\tremaining: 1m 10s\n",
      "Stopped by overfitting detector  (20 iterations wait)\n",
      "\n",
      "bestTest = 0\n",
      "bestIteration = 0\n",
      "\n",
      "Shrink model to first 1 iterations.\n"
     ]
    },
    {
     "name": "stderr",
     "output_type": "stream",
     "text": [
      "[I 2023-11-12 04:47:12,169] Trial 5 finished with value: 0.0 and parameters: {'iterations': 327, 'depth': 9, 'learning_rate': 0.030883341466885303, 'random_strength': 34, 'bagging_temperature': 0.4243915587149376, 'od_type': 'Iter', 'grow_policy': 'SymmetricTree'}. Best is trial 3 with value: 0.6747953900116921.\n"
     ]
    },
    {
     "name": "stdout",
     "output_type": "stream",
     "text": [
      "0:\tlearn: 0.0000000\ttest: 0.0000000\tbest: 0.0000000 (0)\ttotal: 61.7ms\tremaining: 18.1s\n",
      "150:\tlearn: 0.6987751\ttest: 0.6662162\tbest: 0.6699275 (128)\ttotal: 7.34s\tremaining: 7s\n",
      "294:\tlearn: 0.7457233\ttest: 0.6705823\tbest: 0.6727181 (252)\ttotal: 13.8s\tremaining: 0us\n",
      "\n",
      "bestTest = 0.6727181039\n",
      "bestIteration = 252\n",
      "\n",
      "Shrink model to first 253 iterations.\n"
     ]
    },
    {
     "name": "stderr",
     "output_type": "stream",
     "text": [
      "[I 2023-11-12 04:47:27,718] Trial 6 finished with value: 0.6727181038830056 and parameters: {'iterations': 295, 'depth': 4, 'learning_rate': 0.19500772067597522, 'random_strength': 69, 'bagging_temperature': 0.7416646106176022, 'od_type': 'IncToDec', 'grow_policy': 'Depthwise'}. Best is trial 3 with value: 0.6747953900116921.\n"
     ]
    },
    {
     "name": "stdout",
     "output_type": "stream",
     "text": [
      "0:\tlearn: 0.0000000\ttest: 0.0000000\tbest: 0.0000000 (0)\ttotal: 117ms\tremaining: 34.7s\n",
      "150:\tlearn: 0.7179317\ttest: 0.6696909\tbest: 0.6699143 (148)\ttotal: 14.9s\tremaining: 14.4s\n",
      "Stopped by overfitting detector  (20 iterations wait)\n",
      "\n",
      "bestTest = 0.671253566\n",
      "bestIteration = 158\n",
      "\n",
      "Shrink model to first 159 iterations.\n"
     ]
    },
    {
     "name": "stderr",
     "output_type": "stream",
     "text": [
      "[I 2023-11-12 04:47:47,100] Trial 7 finished with value: 0.6712535660345695 and parameters: {'iterations': 297, 'depth': 5, 'learning_rate': 0.1789449551390477, 'random_strength': 82, 'bagging_temperature': 0.3322801379745657, 'od_type': 'Iter', 'grow_policy': 'Lossguide'}. Best is trial 3 with value: 0.6747953900116921.\n"
     ]
    },
    {
     "name": "stdout",
     "output_type": "stream",
     "text": [
      "0:\tlearn: 0.4820226\ttest: 0.4806039\tbest: 0.4806039 (0)\ttotal: 55.1ms\tremaining: 24.4s\n",
      "Stopped by overfitting detector  (20 iterations wait)\n",
      "\n",
      "bestTest = 0.667777963\n",
      "bestIteration = 58\n",
      "\n",
      "Shrink model to first 59 iterations.\n"
     ]
    },
    {
     "name": "stderr",
     "output_type": "stream",
     "text": [
      "[I 2023-11-12 04:47:52,675] Trial 8 finished with value: 0.6677779629938323 and parameters: {'iterations': 444, 'depth': 4, 'learning_rate': 0.27240347808101817, 'random_strength': 4, 'bagging_temperature': 0.7351961599557455, 'od_type': 'Iter', 'grow_policy': 'Depthwise'}. Best is trial 3 with value: 0.6747953900116921.\n"
     ]
    },
    {
     "name": "stdout",
     "output_type": "stream",
     "text": [
      "0:\tlearn: 0.0000000\ttest: 0.0000000\tbest: 0.0000000 (0)\ttotal: 106ms\tremaining: 19.4s\n",
      "150:\tlearn: 0.6002102\ttest: 0.5972100\tbest: 0.5980254 (131)\ttotal: 8.98s\tremaining: 1.96s\n",
      "183:\tlearn: 0.6461042\ttest: 0.6402062\tbest: 0.6402062 (183)\ttotal: 11s\tremaining: 0us\n",
      "\n",
      "bestTest = 0.6402061856\n",
      "bestIteration = 183\n",
      "\n"
     ]
    },
    {
     "name": "stderr",
     "output_type": "stream",
     "text": [
      "[I 2023-11-12 04:48:05,423] Trial 9 finished with value: 0.6402061855670104 and parameters: {'iterations': 184, 'depth': 8, 'learning_rate': 0.07634880305847389, 'random_strength': 56, 'bagging_temperature': 0.4499384151540714, 'od_type': 'IncToDec', 'grow_policy': 'SymmetricTree'}. Best is trial 3 with value: 0.6747953900116921.\n"
     ]
    },
    {
     "name": "stdout",
     "output_type": "stream",
     "text": [
      "0:\tlearn: 0.0000000\ttest: 0.0000000\tbest: 0.0000000 (0)\ttotal: 96.5ms\tremaining: 38.4s\n",
      "150:\tlearn: 0.7995392\ttest: 0.6653185\tbest: 0.6721421 (81)\ttotal: 9.76s\tremaining: 16s\n",
      "300:\tlearn: 0.9153749\ttest: 0.6575707\tbest: 0.6721421 (81)\ttotal: 19.2s\tremaining: 6.26s\n",
      "398:\tlearn: 0.9512101\ttest: 0.6569149\tbest: 0.6721421 (81)\ttotal: 25.9s\tremaining: 0us\n",
      "\n",
      "bestTest = 0.6721421388\n",
      "bestIteration = 81\n",
      "\n",
      "Shrink model to first 82 iterations.\n"
     ]
    },
    {
     "name": "stderr",
     "output_type": "stream",
     "text": [
      "[I 2023-11-12 04:48:33,090] Trial 10 finished with value: 0.6721421387864566 and parameters: {'iterations': 399, 'depth': 6, 'learning_rate': 0.22292373354467038, 'random_strength': 18, 'bagging_temperature': 0.9651548489112933, 'od_type': 'IncToDec', 'grow_policy': 'Depthwise'}. Best is trial 3 with value: 0.6747953900116921.\n"
     ]
    },
    {
     "name": "stdout",
     "output_type": "stream",
     "text": [
      "0:\tlearn: 0.0000000\ttest: 0.0000000\tbest: 0.0000000 (0)\ttotal: 60.8ms\tremaining: 22.3s\n",
      "150:\tlearn: 0.7014863\ttest: 0.6655490\tbest: 0.6681172 (144)\ttotal: 7.13s\tremaining: 10.2s\n",
      "300:\tlearn: 0.7524785\ttest: 0.6666667\tbest: 0.6687941 (168)\ttotal: 13.9s\tremaining: 3.05s\n",
      "366:\tlearn: 0.7774305\ttest: 0.6674501\tbest: 0.6715744 (322)\ttotal: 16.9s\tremaining: 0us\n",
      "\n",
      "bestTest = 0.6715743684\n",
      "bestIteration = 322\n",
      "\n",
      "Shrink model to first 323 iterations.\n"
     ]
    },
    {
     "name": "stderr",
     "output_type": "stream",
     "text": [
      "[I 2023-11-12 04:48:51,838] Trial 11 finished with value: 0.6715743684122469 and parameters: {'iterations': 367, 'depth': 4, 'learning_rate': 0.2015521269015892, 'random_strength': 57, 'bagging_temperature': 0.669184551236998, 'od_type': 'IncToDec', 'grow_policy': 'Depthwise'}. Best is trial 3 with value: 0.6747953900116921.\n"
     ]
    },
    {
     "name": "stdout",
     "output_type": "stream",
     "text": [
      "0:\tlearn: 0.0000000\ttest: 0.0000000\tbest: 0.0000000 (0)\ttotal: 95.3ms\tremaining: 25.9s\n",
      "150:\tlearn: 0.7279497\ttest: 0.6654338\tbest: 0.6703462 (124)\ttotal: 9.92s\tremaining: 8.01s\n",
      "272:\tlearn: 0.8260727\ttest: 0.6648829\tbest: 0.6703462 (124)\ttotal: 17.7s\tremaining: 0us\n",
      "\n",
      "bestTest = 0.6703462117\n",
      "bestIteration = 124\n",
      "\n",
      "Shrink model to first 125 iterations.\n"
     ]
    },
    {
     "name": "stderr",
     "output_type": "stream",
     "text": [
      "[I 2023-11-12 04:49:11,323] Trial 12 finished with value: 0.6703462117410939 and parameters: {'iterations': 273, 'depth': 6, 'learning_rate': 0.1456995503402172, 'random_strength': 22, 'bagging_temperature': 0.0008662354902473357, 'od_type': 'IncToDec', 'grow_policy': 'Depthwise'}. Best is trial 3 with value: 0.6747953900116921.\n"
     ]
    },
    {
     "name": "stdout",
     "output_type": "stream",
     "text": [
      "0:\tlearn: 0.0000000\ttest: 0.0000000\tbest: 0.0000000 (0)\ttotal: 184ms\tremaining: 1m 29s\n",
      "150:\tlearn: 0.8608618\ttest: 0.6658886\tbest: 0.6714572 (111)\ttotal: 16.6s\tremaining: 36.7s\n",
      "300:\tlearn: 0.9638388\ttest: 0.6607738\tbest: 0.6714572 (111)\ttotal: 31.1s\tremaining: 19s\n",
      "450:\tlearn: 0.9942404\ttest: 0.6643368\tbest: 0.6714572 (111)\ttotal: 43.5s\tremaining: 3.27s\n",
      "484:\tlearn: 0.9967918\ttest: 0.6646707\tbest: 0.6714572 (111)\ttotal: 46.5s\tremaining: 0us\n",
      "\n",
      "bestTest = 0.6714572193\n",
      "bestIteration = 111\n",
      "\n",
      "Shrink model to first 112 iterations.\n"
     ]
    },
    {
     "name": "stderr",
     "output_type": "stream",
     "text": [
      "[I 2023-11-12 04:50:00,007] Trial 13 finished with value: 0.6714572192513367 and parameters: {'iterations': 485, 'depth': 7, 'learning_rate': 0.23152251675859098, 'random_strength': 66, 'bagging_temperature': 0.654406022057793, 'od_type': 'IncToDec', 'grow_policy': 'Depthwise'}. Best is trial 3 with value: 0.6747953900116921.\n"
     ]
    },
    {
     "name": "stdout",
     "output_type": "stream",
     "text": [
      "0:\tlearn: 0.0000000\ttest: 0.0000000\tbest: 0.0000000 (0)\ttotal: 100ms\tremaining: 24.9s\n",
      "150:\tlearn: 0.7186620\ttest: 0.6681252\tbest: 0.6711545 (142)\ttotal: 9.63s\tremaining: 6.25s\n",
      "248:\tlearn: 0.7776217\ttest: 0.6684618\tbest: 0.6740703 (178)\ttotal: 26.2s\tremaining: 0us\n",
      "\n",
      "bestTest = 0.6740703348\n",
      "bestIteration = 178\n",
      "\n",
      "Shrink model to first 179 iterations.\n"
     ]
    },
    {
     "name": "stderr",
     "output_type": "stream",
     "text": [
      "[I 2023-11-12 04:50:27,971] Trial 14 finished with value: 0.6740703348477199 and parameters: {'iterations': 249, 'depth': 5, 'learning_rate': 0.18102287174376602, 'random_strength': 98, 'bagging_temperature': 0.6017804990761091, 'od_type': 'IncToDec', 'grow_policy': 'Depthwise'}. Best is trial 3 with value: 0.6747953900116921.\n"
     ]
    },
    {
     "name": "stdout",
     "output_type": "stream",
     "text": [
      "0:\tlearn: 0.0000000\ttest: 0.0000000\tbest: 0.0000000 (0)\ttotal: 129ms\tremaining: 29s\n",
      "150:\tlearn: 0.7805281\ttest: 0.6685571\tbest: 0.6708882 (144)\ttotal: 12.5s\tremaining: 6.21s\n",
      "225:\tlearn: 0.8724897\ttest: 0.6684465\tbest: 0.6712169 (206)\ttotal: 18.4s\tremaining: 0us\n",
      "\n",
      "bestTest = 0.6712169136\n",
      "bestIteration = 206\n",
      "\n",
      "Shrink model to first 207 iterations.\n"
     ]
    },
    {
     "name": "stderr",
     "output_type": "stream",
     "text": [
      "[I 2023-11-12 04:50:48,269] Trial 15 finished with value: 0.671216913600799 and parameters: {'iterations': 226, 'depth': 7, 'learning_rate': 0.16859468570875008, 'random_strength': 100, 'bagging_temperature': 0.5730552098583442, 'od_type': 'IncToDec', 'grow_policy': 'Depthwise'}. Best is trial 3 with value: 0.6747953900116921.\n"
     ]
    },
    {
     "name": "stdout",
     "output_type": "stream",
     "text": [
      "0:\tlearn: 0.0000000\ttest: 0.0000000\tbest: 0.0000000 (0)\ttotal: 123ms\tremaining: 13s\n",
      "106:\tlearn: 0.7119960\ttest: 0.6697767\tbest: 0.6697767 (106)\ttotal: 6.06s\tremaining: 0us\n",
      "\n",
      "bestTest = 0.6697767411\n",
      "bestIteration = 106\n",
      "\n"
     ]
    },
    {
     "name": "stderr",
     "output_type": "stream",
     "text": [
      "[I 2023-11-12 04:50:56,636] Trial 16 finished with value: 0.6697767410863046 and parameters: {'iterations': 107, 'depth': 5, 'learning_rate': 0.2301345142366652, 'random_strength': 35, 'bagging_temperature': 0.5481789904868581, 'od_type': 'IncToDec', 'grow_policy': 'Depthwise'}. Best is trial 3 with value: 0.6747953900116921.\n"
     ]
    },
    {
     "name": "stdout",
     "output_type": "stream",
     "text": [
      "0:\tlearn: 0.6457804\ttest: 0.6382626\tbest: 0.6382626 (0)\ttotal: 62.8ms\tremaining: 15.4s\n",
      "150:\tlearn: 0.7429425\ttest: 0.6683442\tbest: 0.6692476 (63)\ttotal: 8.28s\tremaining: 5.21s\n",
      "245:\tlearn: 0.7837704\ttest: 0.6680094\tbest: 0.6696802 (180)\ttotal: 13.9s\tremaining: 0us\n",
      "\n",
      "bestTest = 0.6696802277\n",
      "bestIteration = 180\n",
      "\n",
      "Shrink model to first 181 iterations.\n"
     ]
    },
    {
     "name": "stderr",
     "output_type": "stream",
     "text": [
      "[I 2023-11-12 04:51:12,246] Trial 17 finished with value: 0.6696802276912774 and parameters: {'iterations': 246, 'depth': 5, 'learning_rate': 0.13573735937135578, 'random_strength': 0, 'bagging_temperature': 0.8633869602751985, 'od_type': 'IncToDec', 'grow_policy': 'Depthwise'}. Best is trial 3 with value: 0.6747953900116921.\n"
     ]
    },
    {
     "name": "stdout",
     "output_type": "stream",
     "text": [
      "0:\tlearn: 0.0000000\ttest: 0.0000000\tbest: 0.0000000 (0)\ttotal: 142ms\tremaining: 52.7s\n",
      "150:\tlearn: 0.8672638\ttest: 0.6547418\tbest: 0.6627219 (87)\ttotal: 18.5s\tremaining: 27.1s\n",
      "300:\tlearn: 0.9796413\ttest: 0.6612795\tbest: 0.6639839 (273)\ttotal: 35.3s\tremaining: 8.32s\n",
      "371:\tlearn: 0.9925870\ttest: 0.6634228\tbest: 0.6648794 (337)\ttotal: 42.8s\tremaining: 0us\n",
      "\n",
      "bestTest = 0.6648793566\n",
      "bestIteration = 337\n",
      "\n",
      "Shrink model to first 338 iterations.\n"
     ]
    },
    {
     "name": "stderr",
     "output_type": "stream",
     "text": [
      "[I 2023-11-12 04:51:57,011] Trial 18 finished with value: 0.6648793565683646 and parameters: {'iterations': 372, 'depth': 8, 'learning_rate': 0.19670935273392404, 'random_strength': 100, 'bagging_temperature': 0.5667077042878246, 'od_type': 'IncToDec', 'grow_policy': 'Depthwise'}. Best is trial 3 with value: 0.6747953900116921.\n"
     ]
    },
    {
     "name": "stdout",
     "output_type": "stream",
     "text": [
      "0:\tlearn: 0.0000000\ttest: 0.0000000\tbest: 0.0000000 (0)\ttotal: 231ms\tremaining: 1m 22s\n",
      "150:\tlearn: 0.6756623\ttest: 0.6695740\tbest: 0.6706908 (146)\ttotal: 19s\tremaining: 25.9s\n",
      "300:\tlearn: 0.7147267\ttest: 0.6675740\tbest: 0.6719514 (179)\ttotal: 51.6s\tremaining: 9.6s\n",
      "356:\tlearn: 0.7291148\ttest: 0.6664401\tbest: 0.6719514 (179)\ttotal: 59.5s\tremaining: 0us\n",
      "\n",
      "bestTest = 0.6719514252\n",
      "bestIteration = 179\n",
      "\n",
      "Shrink model to first 180 iterations.\n"
     ]
    },
    {
     "name": "stderr",
     "output_type": "stream",
     "text": [
      "[I 2023-11-12 04:52:58,777] Trial 19 finished with value: 0.6719514251981785 and parameters: {'iterations': 357, 'depth': 6, 'learning_rate': 0.10947193409696072, 'random_strength': 22, 'bagging_temperature': 0.5168476633792992, 'od_type': 'IncToDec', 'grow_policy': 'SymmetricTree'}. Best is trial 3 with value: 0.6747953900116921.\n"
     ]
    },
    {
     "name": "stdout",
     "output_type": "stream",
     "text": [
      "0:\tlearn: 0.0000000\ttest: 0.0000000\tbest: 0.0000000 (0)\ttotal: 127ms\tremaining: 53.4s\n",
      "150:\tlearn: 0.7902006\ttest: 0.6718959\tbest: 0.6734490 (146)\ttotal: 12.5s\tremaining: 22.3s\n",
      "300:\tlearn: 0.9164889\ttest: 0.6681106\tbest: 0.6734490 (146)\ttotal: 25.1s\tremaining: 10s\n",
      "420:\tlearn: 0.9627015\ttest: 0.6666667\tbest: 0.6734490 (146)\ttotal: 36.1s\tremaining: 0us\n",
      "\n",
      "bestTest = 0.673448966\n",
      "bestIteration = 146\n",
      "\n",
      "Shrink model to first 147 iterations.\n"
     ]
    },
    {
     "name": "stderr",
     "output_type": "stream",
     "text": [
      "[I 2023-11-12 04:53:36,871] Trial 20 finished with value: 0.6734489659773182 and parameters: {'iterations': 421, 'depth': 7, 'learning_rate': 0.1614248871700983, 'random_strength': 42, 'bagging_temperature': 0.8356612452289829, 'od_type': 'IncToDec', 'grow_policy': 'Depthwise'}. Best is trial 3 with value: 0.6747953900116921.\n"
     ]
    },
    {
     "name": "stdout",
     "output_type": "stream",
     "text": [
      "0:\tlearn: 0.0000000\ttest: 0.0000000\tbest: 0.0000000 (0)\ttotal: 138ms\tremaining: 59.9s\n",
      "150:\tlearn: 0.7984547\ttest: 0.6694659\tbest: 0.6707030 (145)\ttotal: 19.6s\tremaining: 36.7s\n",
      "300:\tlearn: 0.9269406\ttest: 0.6658859\tbest: 0.6707030 (145)\ttotal: 37.1s\tremaining: 16.4s\n",
      "433:\tlearn: 0.9724785\ttest: 0.6635404\tbest: 0.6707030 (145)\ttotal: 48.7s\tremaining: 0us\n",
      "\n",
      "bestTest = 0.6707029936\n",
      "bestIteration = 145\n",
      "\n",
      "Shrink model to first 146 iterations.\n"
     ]
    },
    {
     "name": "stderr",
     "output_type": "stream",
     "text": [
      "[I 2023-11-12 04:54:27,588] Trial 21 finished with value: 0.670702993609149 and parameters: {'iterations': 434, 'depth': 7, 'learning_rate': 0.1705254704770546, 'random_strength': 44, 'bagging_temperature': 0.8092992200268996, 'od_type': 'IncToDec', 'grow_policy': 'Depthwise'}. Best is trial 3 with value: 0.6747953900116921.\n"
     ]
    },
    {
     "name": "stdout",
     "output_type": "stream",
     "text": [
      "0:\tlearn: 0.0000000\ttest: 0.0000000\tbest: 0.0000000 (0)\ttotal: 185ms\tremaining: 1m 30s\n",
      "150:\tlearn: 0.7897605\ttest: 0.6655457\tbest: 0.6702485 (115)\ttotal: 13.1s\tremaining: 29.5s\n",
      "300:\tlearn: 0.9217542\ttest: 0.6601974\tbest: 0.6702485 (115)\ttotal: 24.8s\tremaining: 15.7s\n",
      "450:\tlearn: 0.9709714\ttest: 0.6616415\tbest: 0.6702485 (115)\ttotal: 36.3s\tremaining: 3.3s\n",
      "491:\tlearn: 0.9797926\ttest: 0.6613226\tbest: 0.6702485 (115)\ttotal: 39.6s\tremaining: 0us\n",
      "\n",
      "bestTest = 0.6702484889\n",
      "bestIteration = 115\n",
      "\n",
      "Shrink model to first 116 iterations.\n"
     ]
    },
    {
     "name": "stderr",
     "output_type": "stream",
     "text": [
      "[I 2023-11-12 04:55:09,278] Trial 22 finished with value: 0.6702484889187375 and parameters: {'iterations': 492, 'depth': 7, 'learning_rate': 0.16104301790489398, 'random_strength': 31, 'bagging_temperature': 0.9053068526105605, 'od_type': 'IncToDec', 'grow_policy': 'Depthwise'}. Best is trial 3 with value: 0.6747953900116921.\n"
     ]
    },
    {
     "name": "stdout",
     "output_type": "stream",
     "text": [
      "0:\tlearn: 0.2409085\ttest: 0.2414467\tbest: 0.2414467 (0)\ttotal: 169ms\tremaining: 1m 8s\n",
      "150:\tlearn: 0.8000990\ttest: 0.6683426\tbest: 0.6704679 (132)\ttotal: 20.6s\tremaining: 34.9s\n",
      "300:\tlearn: 0.9571318\ttest: 0.6712536\tbest: 0.6750335 (276)\ttotal: 43.8s\tremaining: 15.4s\n",
      "406:\tlearn: 0.9871419\ttest: 0.6689121\tbest: 0.6750335 (276)\ttotal: 59.5s\tremaining: 0us\n",
      "\n",
      "bestTest = 0.6750334672\n",
      "bestIteration = 276\n",
      "\n",
      "Shrink model to first 277 iterations.\n"
     ]
    },
    {
     "name": "stderr",
     "output_type": "stream",
     "text": [
      "[I 2023-11-12 04:56:10,681] Trial 23 finished with value: 0.675033467202142 and parameters: {'iterations': 407, 'depth': 9, 'learning_rate': 0.12193882879165052, 'random_strength': 12, 'bagging_temperature': 0.9942026304071137, 'od_type': 'IncToDec', 'grow_policy': 'Depthwise'}. Best is trial 23 with value: 0.675033467202142.\n"
     ]
    },
    {
     "name": "stdout",
     "output_type": "stream",
     "text": [
      "0:\tlearn: 0.2896936\ttest: 0.3017724\tbest: 0.3017724 (0)\ttotal: 197ms\tremaining: 1m 18s\n",
      "150:\tlearn: 0.8481983\ttest: 0.6676712\tbest: 0.6715621 (137)\ttotal: 28.7s\tremaining: 47s\n",
      "300:\tlearn: 0.9839500\ttest: 0.6674508\tbest: 0.6715621 (137)\ttotal: 1m\tremaining: 19.5s\n",
      "397:\tlearn: 0.9964928\ttest: 0.6661060\tbest: 0.6715621 (137)\ttotal: 1m 16s\tremaining: 0us\n",
      "\n",
      "bestTest = 0.6715620828\n",
      "bestIteration = 137\n",
      "\n",
      "Shrink model to first 138 iterations.\n"
     ]
    },
    {
     "name": "stderr",
     "output_type": "stream",
     "text": [
      "[I 2023-11-12 04:57:29,283] Trial 24 finished with value: 0.6715620827770361 and parameters: {'iterations': 398, 'depth': 10, 'learning_rate': 0.112379946021708, 'random_strength': 11, 'bagging_temperature': 0.9638715178897177, 'od_type': 'IncToDec', 'grow_policy': 'Depthwise'}. Best is trial 23 with value: 0.675033467202142.\n"
     ]
    },
    {
     "name": "stdout",
     "output_type": "stream",
     "text": [
      "0:\tlearn: 0.2269781\ttest: 0.2213400\tbest: 0.2213400 (0)\ttotal: 160ms\tremaining: 54.9s\n",
      "150:\tlearn: 0.8305071\ttest: 0.6625439\tbest: 0.6648812 (124)\ttotal: 21.4s\tremaining: 27.5s\n",
      "300:\tlearn: 0.9632353\ttest: 0.6599395\tbest: 0.6671130 (180)\ttotal: 55s\tremaining: 8.04s\n",
      "344:\tlearn: 0.9788296\ttest: 0.6637555\tbest: 0.6671130 (180)\ttotal: 1m 1s\tremaining: 0us\n",
      "\n",
      "bestTest = 0.6671129707\n",
      "bestIteration = 180\n",
      "\n",
      "Shrink model to first 181 iterations.\n"
     ]
    },
    {
     "name": "stderr",
     "output_type": "stream",
     "text": [
      "[I 2023-11-12 04:58:32,295] Trial 25 finished with value: 0.667112970711297 and parameters: {'iterations': 345, 'depth': 9, 'learning_rate': 0.12411932721177837, 'random_strength': 13, 'bagging_temperature': 0.6407074715942225, 'od_type': 'IncToDec', 'grow_policy': 'Depthwise'}. Best is trial 23 with value: 0.675033467202142.\n"
     ]
    },
    {
     "name": "stdout",
     "output_type": "stream",
     "text": [
      "0:\tlearn: 0.0000000\ttest: 0.0000000\tbest: 0.0000000 (0)\ttotal: 137ms\tremaining: 35.7s\n",
      "150:\tlearn: 0.8662791\ttest: 0.6647746\tbest: 0.6652225 (144)\ttotal: 15.2s\tremaining: 11.2s\n",
      "261:\tlearn: 0.9673772\ttest: 0.6611074\tbest: 0.6662212 (195)\ttotal: 27.1s\tremaining: 0us\n",
      "\n",
      "bestTest = 0.6662211828\n",
      "bestIteration = 195\n",
      "\n",
      "Shrink model to first 196 iterations.\n"
     ]
    },
    {
     "name": "stderr",
     "output_type": "stream",
     "text": [
      "[I 2023-11-12 04:59:01,146] Trial 26 finished with value: 0.6662211827597729 and parameters: {'iterations': 262, 'depth': 8, 'learning_rate': 0.1842213667868179, 'random_strength': 25, 'bagging_temperature': 0.758334379362111, 'od_type': 'IncToDec', 'grow_policy': 'Depthwise'}. Best is trial 23 with value: 0.675033467202142.\n"
     ]
    },
    {
     "name": "stdout",
     "output_type": "stream",
     "text": [
      "0:\tlearn: 0.2797647\ttest: 0.2930749\tbest: 0.2930749 (0)\ttotal: 161ms\tremaining: 1m 15s\n",
      "Stopped by overfitting detector  (20 iterations wait)\n",
      "\n",
      "bestTest = 0.6761032473\n",
      "bestIteration = 67\n",
      "\n",
      "Shrink model to first 68 iterations.\n"
     ]
    },
    {
     "name": "stderr",
     "output_type": "stream",
     "text": [
      "[I 2023-11-12 04:59:14,097] Trial 27 finished with value: 0.6761032472939217 and parameters: {'iterations': 468, 'depth': 9, 'learning_rate': 0.20899008582405879, 'random_strength': 9, 'bagging_temperature': 0.9212431602262982, 'od_type': 'Iter', 'grow_policy': 'Depthwise'}. Best is trial 27 with value: 0.6761032472939217.\n"
     ]
    },
    {
     "name": "stdout",
     "output_type": "stream",
     "text": [
      "0:\tlearn: 0.3146393\ttest: 0.3254146\tbest: 0.3254146 (0)\ttotal: 229ms\tremaining: 1m 46s\n"
     ]
    },
    {
     "name": "stderr",
     "output_type": "stream",
     "text": [
      "[I 2023-11-12 05:00:13,830] Trial 29 finished with value: 0.6682376704258542 and parameters: {'iterations': 399, 'depth': 10, 'learning_rate': 0.26523651555928857, 'random_strength': 16, 'bagging_temperature': 0.9008709813976108, 'od_type': 'Iter', 'grow_policy': 'Lossguide'}. Best is trial 27 with value: 0.6761032472939217.\n"
     ]
    },
    {
     "name": "stdout",
     "output_type": "stream",
     "text": [
      "0:\tlearn: 0.0002975\ttest: 0.0000000\tbest: 0.0000000 (0)\ttotal: 625ms\tremaining: 4m 51s\n",
      "Stopped by overfitting detector  (20 iterations wait)\n",
      "\n",
      "bestTest = 0.6740220662\n",
      "bestIteration = 86\n",
      "\n",
      "Shrink model to first 87 iterations.\n"
     ]
    },
    {
     "name": "stderr",
     "output_type": "stream",
     "text": [
      "[I 2023-11-12 05:00:50,114] Trial 30 finished with value: 0.6740220661985957 and parameters: {'iterations': 467, 'depth': 9, 'learning_rate': 0.24037743167143583, 'random_strength': 28, 'bagging_temperature': 0.9154310551413964, 'od_type': 'Iter', 'grow_policy': 'SymmetricTree'}. Best is trial 27 with value: 0.6761032472939217.\n"
     ]
    },
    {
     "name": "stdout",
     "output_type": "stream",
     "text": [
      "0:\tlearn: 0.4405825\ttest: 0.4472706\tbest: 0.4472706 (0)\ttotal: 184ms\tremaining: 1m 16s\n",
      "Stopped by overfitting detector  (20 iterations wait)\n",
      "\n",
      "bestTest = 0.6653445711\n",
      "bestIteration = 50\n",
      "\n",
      "Shrink model to first 51 iterations.\n"
     ]
    },
    {
     "name": "stderr",
     "output_type": "stream",
     "text": [
      "[I 2023-11-12 05:01:01,206] Trial 31 finished with value: 0.6653445711452652 and parameters: {'iterations': 416, 'depth': 8, 'learning_rate': 0.21212373283676178, 'random_strength': 6, 'bagging_temperature': 0.9977393861225807, 'od_type': 'Iter', 'grow_policy': 'Depthwise'}. Best is trial 27 with value: 0.6761032472939217.\n"
     ]
    },
    {
     "name": "stdout",
     "output_type": "stream",
     "text": [
      "0:\tlearn: 0.7052860\ttest: 0.6477627\tbest: 0.6477627 (0)\ttotal: 183ms\tremaining: 1m 25s\n",
      "Stopped by overfitting detector  (20 iterations wait)\n",
      "\n",
      "bestTest = 0.6742703791\n",
      "bestIteration = 30\n",
      "\n",
      "Shrink model to first 31 iterations.\n"
     ]
    },
    {
     "name": "stderr",
     "output_type": "stream",
     "text": [
      "[I 2023-11-12 05:01:13,808] Trial 32 finished with value: 0.674270379067427 and parameters: {'iterations': 467, 'depth': 9, 'learning_rate': 0.18834954071183, 'random_strength': 0, 'bagging_temperature': 0.7896468232297342, 'od_type': 'Iter', 'grow_policy': 'Depthwise'}. Best is trial 27 with value: 0.6761032472939217.\n"
     ]
    },
    {
     "name": "stdout",
     "output_type": "stream",
     "text": [
      "0:\tlearn: 0.7052860\ttest: 0.6477627\tbest: 0.6477627 (0)\ttotal: 159ms\tremaining: 1m 13s\n",
      "Stopped by overfitting detector  (20 iterations wait)\n",
      "\n",
      "bestTest = 0.6655445211\n",
      "bestIteration = 11\n",
      "\n",
      "Shrink model to first 12 iterations.\n"
     ]
    },
    {
     "name": "stderr",
     "output_type": "stream",
     "text": [
      "[I 2023-11-12 05:01:20,799] Trial 33 finished with value: 0.6655445211243898 and parameters: {'iterations': 466, 'depth': 9, 'learning_rate': 0.20879181384600157, 'random_strength': 0, 'bagging_temperature': 0.827418460483793, 'od_type': 'Iter', 'grow_policy': 'Depthwise'}. Best is trial 27 with value: 0.6761032472939217.\n"
     ]
    },
    {
     "name": "stdout",
     "output_type": "stream",
     "text": [
      "0:\tlearn: 0.0000000\ttest: 0.0000000\tbest: 0.0000000 (0)\ttotal: 98.4ms\tremaining: 48.8s\n",
      "150:\tlearn: 0.7661023\ttest: 0.6677960\tbest: 0.6724080 (137)\ttotal: 21.1s\tremaining: 48.4s\n",
      "Stopped by overfitting detector  (20 iterations wait)\n",
      "\n",
      "bestTest = 0.6724079703\n",
      "bestIteration = 137\n",
      "\n",
      "Shrink model to first 138 iterations.\n"
     ]
    },
    {
     "name": "stderr",
     "output_type": "stream",
     "text": [
      "[I 2023-11-12 05:01:44,594] Trial 34 finished with value: 0.6724079702803106 and parameters: {'iterations': 497, 'depth': 10, 'learning_rate': 0.19084703263244154, 'random_strength': 17, 'bagging_temperature': 0.9254357153751785, 'od_type': 'Iter', 'grow_policy': 'Lossguide'}. Best is trial 27 with value: 0.6761032472939217.\n"
     ]
    },
    {
     "name": "stdout",
     "output_type": "stream",
     "text": [
      "0:\tlearn: 0.2797647\ttest: 0.2930749\tbest: 0.2930749 (0)\ttotal: 234ms\tremaining: 1m 45s\n",
      "Stopped by overfitting detector  (20 iterations wait)\n",
      "\n",
      "bestTest = 0.6692294835\n",
      "bestIteration = 61\n",
      "\n",
      "Shrink model to first 62 iterations.\n"
     ]
    },
    {
     "name": "stderr",
     "output_type": "stream",
     "text": [
      "[I 2023-11-12 05:01:59,808] Trial 35 finished with value: 0.6692294835366872 and parameters: {'iterations': 452, 'depth': 9, 'learning_rate': 0.2438581364892472, 'random_strength': 10, 'bagging_temperature': 0.7842453131928595, 'od_type': 'Iter', 'grow_policy': 'Depthwise'}. Best is trial 27 with value: 0.6761032472939217.\n"
     ]
    },
    {
     "name": "stdout",
     "output_type": "stream",
     "text": [
      "0:\tlearn: 0.5485973\ttest: 0.5450390\tbest: 0.5450390 (0)\ttotal: 142ms\tremaining: 54.6s\n",
      "Stopped by overfitting detector  (20 iterations wait)\n",
      "\n",
      "bestTest = 0.6715498585\n",
      "bestIteration = 71\n",
      "\n",
      "Shrink model to first 72 iterations.\n"
     ]
    },
    {
     "name": "stderr",
     "output_type": "stream",
     "text": [
      "[I 2023-11-12 05:02:12,465] Trial 36 finished with value: 0.6715498584984185 and parameters: {'iterations': 386, 'depth': 8, 'learning_rate': 0.2054246579177447, 'random_strength': 4, 'bagging_temperature': 0.8615033937921677, 'od_type': 'Iter', 'grow_policy': 'Depthwise'}. Best is trial 27 with value: 0.6761032472939217.\n"
     ]
    },
    {
     "name": "stdout",
     "output_type": "stream",
     "text": [
      "0:\tlearn: 0.0000000\ttest: 0.0000000\tbest: 0.0000000 (0)\ttotal: 106ms\tremaining: 44.8s\n",
      "150:\tlearn: 0.7315978\ttest: 0.6661051\tbest: 0.6690260 (132)\ttotal: 19.7s\tremaining: 35.3s\n",
      "Stopped by overfitting detector  (20 iterations wait)\n",
      "\n",
      "bestTest = 0.6690259521\n",
      "bestIteration = 132\n",
      "\n",
      "Shrink model to first 133 iterations.\n"
     ]
    },
    {
     "name": "stderr",
     "output_type": "stream",
     "text": [
      "[I 2023-11-12 05:02:34,253] Trial 37 finished with value: 0.669025952140209 and parameters: {'iterations': 422, 'depth': 10, 'learning_rate': 0.1524410313405658, 'random_strength': 39, 'bagging_temperature': 0.7098270192245706, 'od_type': 'Iter', 'grow_policy': 'Lossguide'}. Best is trial 27 with value: 0.6761032472939217.\n"
     ]
    },
    {
     "name": "stdout",
     "output_type": "stream",
     "text": [
      "0:\tlearn: 0.0000000\ttest: 0.0000000\tbest: 0.0000000 (0)\ttotal: 170ms\tremaining: 1m 15s\n",
      "Stopped by overfitting detector  (20 iterations wait)\n",
      "\n",
      "bestTest = 0.6563861884\n",
      "bestIteration = 108\n",
      "\n",
      "Shrink model to first 109 iterations.\n"
     ]
    },
    {
     "name": "stderr",
     "output_type": "stream",
     "text": [
      "[I 2023-11-12 05:02:52,048] Trial 38 finished with value: 0.6563861884009387 and parameters: {'iterations': 445, 'depth': 8, 'learning_rate': 0.29994783944537445, 'random_strength': 22, 'bagging_temperature': 0.7835250199015111, 'od_type': 'Iter', 'grow_policy': 'Depthwise'}. Best is trial 27 with value: 0.6761032472939217.\n"
     ]
    },
    {
     "name": "stdout",
     "output_type": "stream",
     "text": [
      "0:\tlearn: 0.4017979\ttest: 0.4126984\tbest: 0.4126984 (0)\ttotal: 323ms\tremaining: 1m 50s\n",
      "Stopped by overfitting detector  (20 iterations wait)\n",
      "\n",
      "bestTest = 0.6662187133\n",
      "bestIteration = 71\n",
      "\n",
      "Shrink model to first 72 iterations.\n"
     ]
    },
    {
     "name": "stderr",
     "output_type": "stream",
     "text": [
      "[I 2023-11-12 05:03:23,129] Trial 39 finished with value: 0.6662187132538216 and parameters: {'iterations': 343, 'depth': 10, 'learning_rate': 0.2498595567996878, 'random_strength': 14, 'bagging_temperature': 0.5034572527343955, 'od_type': 'Iter', 'grow_policy': 'SymmetricTree'}. Best is trial 27 with value: 0.6761032472939217.\n"
     ]
    },
    {
     "name": "stdout",
     "output_type": "stream",
     "text": [
      "0:\tlearn: 0.4875141\ttest: 0.4840791\tbest: 0.4840791 (0)\ttotal: 112ms\tremaining: 53.5s\n",
      "Stopped by overfitting detector  (20 iterations wait)\n",
      "\n",
      "bestTest = 0.6699029126\n",
      "bestIteration = 81\n",
      "\n",
      "Shrink model to first 82 iterations.\n"
     ]
    },
    {
     "name": "stderr",
     "output_type": "stream",
     "text": [
      "[I 2023-11-12 05:03:39,376] Trial 40 finished with value: 0.6699029126213593 and parameters: {'iterations': 477, 'depth': 9, 'learning_rate': 0.18284585829500483, 'random_strength': 5, 'bagging_temperature': 0.7090156450566866, 'od_type': 'Iter', 'grow_policy': 'Lossguide'}. Best is trial 27 with value: 0.6761032472939217.\n"
     ]
    },
    {
     "name": "stdout",
     "output_type": "stream",
     "text": [
      "0:\tlearn: 0.0000000\ttest: 0.0000000\tbest: 0.0000000 (0)\ttotal: 313ms\tremaining: 1m 1s\n",
      "150:\tlearn: 0.7179104\ttest: 0.6671150\tbest: 0.6685695 (127)\ttotal: 11.2s\tremaining: 3.34s\n",
      "195:\tlearn: 0.7505603\ttest: 0.6687984\tbest: 0.6723790 (184)\ttotal: 14.1s\tremaining: 0us\n",
      "\n",
      "bestTest = 0.6723790323\n",
      "bestIteration = 184\n",
      "\n",
      "Shrink model to first 185 iterations.\n"
     ]
    },
    {
     "name": "stderr",
     "output_type": "stream",
     "text": [
      "[I 2023-11-12 05:03:55,438] Trial 41 finished with value: 0.6723790322580645 and parameters: {'iterations': 196, 'depth': 5, 'learning_rate': 0.17811310437709366, 'random_strength': 89, 'bagging_temperature': 0.41756889271012443, 'od_type': 'IncToDec', 'grow_policy': 'Depthwise'}. Best is trial 27 with value: 0.6761032472939217.\n"
     ]
    },
    {
     "name": "stdout",
     "output_type": "stream",
     "text": [
      "0:\tlearn: 0.0000000\ttest: 0.0000000\tbest: 0.0000000 (0)\ttotal: 159ms\tremaining: 50.8s\n",
      "150:\tlearn: 0.9145299\ttest: 0.6628763\tbest: 0.6678992 (88)\ttotal: 22.2s\tremaining: 25s\n",
      "300:\tlearn: 0.9947691\ttest: 0.6665552\tbest: 0.6678992 (88)\ttotal: 51.2s\tremaining: 3.4s\n",
      "320:\tlearn: 0.9957434\ttest: 0.6664439\tbest: 0.6678992 (88)\ttotal: 54.8s\tremaining: 0us\n",
      "\n",
      "bestTest = 0.6678991597\n",
      "bestIteration = 88\n",
      "\n",
      "Shrink model to first 89 iterations.\n"
     ]
    },
    {
     "name": "stderr",
     "output_type": "stream",
     "text": [
      "[I 2023-11-12 05:04:52,061] Trial 42 finished with value: 0.6678991596638656 and parameters: {'iterations': 321, 'depth': 9, 'learning_rate': 0.19424064914969794, 'random_strength': 79, 'bagging_temperature': 0.6226105158682751, 'od_type': 'IncToDec', 'grow_policy': 'Depthwise'}. Best is trial 27 with value: 0.6761032472939217.\n"
     ]
    },
    {
     "name": "stdout",
     "output_type": "stream",
     "text": [
      "0:\tlearn: 0.0000000\ttest: 0.0000000\tbest: 0.0000000 (0)\ttotal: 143ms\tremaining: 30.9s\n",
      "Stopped by overfitting detector  (20 iterations wait)\n",
      "\n",
      "bestTest = 0.6644204852\n",
      "bestIteration = 99\n",
      "\n",
      "Shrink model to first 100 iterations.\n"
     ]
    },
    {
     "name": "stderr",
     "output_type": "stream",
     "text": [
      "[I 2023-11-12 05:05:20,279] Trial 43 finished with value: 0.664420485175202 and parameters: {'iterations': 218, 'depth': 8, 'learning_rate': 0.22088376722818578, 'random_strength': 50, 'bagging_temperature': 0.8713908791854356, 'od_type': 'Iter', 'grow_policy': 'Depthwise'}. Best is trial 27 with value: 0.6761032472939217.\n"
     ]
    },
    {
     "name": "stdout",
     "output_type": "stream",
     "text": [
      "0:\tlearn: 0.0000000\ttest: 0.0000000\tbest: 0.0000000 (0)\ttotal: 75.9ms\tremaining: 12s\n",
      "150:\tlearn: 0.6909061\ttest: 0.6654381\tbest: 0.6659960 (147)\ttotal: 9.21s\tremaining: 488ms\n",
      "158:\tlearn: 0.6927866\ttest: 0.6674497\tbest: 0.6674497 (158)\ttotal: 9.62s\tremaining: 0us\n",
      "\n",
      "bestTest = 0.6674496644\n",
      "bestIteration = 158\n",
      "\n"
     ]
    },
    {
     "name": "stderr",
     "output_type": "stream",
     "text": [
      "[I 2023-11-12 05:05:31,708] Trial 44 finished with value: 0.6674496644295302 and parameters: {'iterations': 159, 'depth': 4, 'learning_rate': 0.17115760824133597, 'random_strength': 60, 'bagging_temperature': 0.6047759256433687, 'od_type': 'IncToDec', 'grow_policy': 'Depthwise'}. Best is trial 27 with value: 0.6761032472939217.\n"
     ]
    },
    {
     "name": "stdout",
     "output_type": "stream",
     "text": [
      "0:\tlearn: 0.0000000\ttest: 0.0000000\tbest: 0.0000000 (0)\ttotal: 120ms\tremaining: 35.5s\n",
      "150:\tlearn: 0.7336049\ttest: 0.6670047\tbest: 0.6680176 (145)\ttotal: 11.8s\tremaining: 11.3s\n",
      "295:\tlearn: 0.8436583\ttest: 0.6649874\tbest: 0.6695872 (196)\ttotal: 22.7s\tremaining: 0us\n",
      "\n",
      "bestTest = 0.6695871946\n",
      "bestIteration = 196\n",
      "\n",
      "Shrink model to first 197 iterations.\n"
     ]
    },
    {
     "name": "stderr",
     "output_type": "stream",
     "text": [
      "[I 2023-11-12 05:05:56,245] Trial 45 finished with value: 0.6695871946082562 and parameters: {'iterations': 296, 'depth': 6, 'learning_rate': 0.1505874705310966, 'random_strength': 92, 'bagging_temperature': 0.6878602592576278, 'od_type': 'IncToDec', 'grow_policy': 'Depthwise'}. Best is trial 27 with value: 0.6761032472939217.\n"
     ]
    },
    {
     "name": "stdout",
     "output_type": "stream",
     "text": [
      "0:\tlearn: 0.6457804\ttest: 0.6382626\tbest: 0.6382626 (0)\ttotal: 61.9ms\tremaining: 27s\n",
      "Stopped by overfitting detector  (20 iterations wait)\n",
      "\n",
      "bestTest = 0.6676798379\n",
      "bestIteration = 26\n",
      "\n",
      "Shrink model to first 27 iterations.\n"
     ]
    },
    {
     "name": "stderr",
     "output_type": "stream",
     "text": [
      "[I 2023-11-12 05:06:00,586] Trial 46 finished with value: 0.6676798378926038 and parameters: {'iterations': 437, 'depth': 5, 'learning_rate': 0.2028693233703373, 'random_strength': 0, 'bagging_temperature': 0.4778736420433848, 'od_type': 'Iter', 'grow_policy': 'Depthwise'}. Best is trial 27 with value: 0.6761032472939217.\n"
     ]
    },
    {
     "name": "stdout",
     "output_type": "stream",
     "text": [
      "0:\tlearn: 0.0000000\ttest: 0.0000000\tbest: 0.0000000 (0)\ttotal: 162ms\tremaining: 1m 13s\n",
      "150:\tlearn: 0.9137781\ttest: 0.6628782\tbest: 0.6649958 (147)\ttotal: 22.3s\tremaining: 44.7s\n",
      "300:\tlearn: 0.9937135\ttest: 0.6652210\tbest: 0.6683342 (276)\ttotal: 46s\tremaining: 23.4s\n",
      "450:\tlearn: 0.9997768\ttest: 0.6670005\tbest: 0.6685609 (324)\ttotal: 1m 7s\tremaining: 446ms\n",
      "453:\tlearn: 0.9997768\ttest: 0.6672230\tbest: 0.6685609 (324)\ttotal: 1m 7s\tremaining: 0us\n",
      "\n",
      "bestTest = 0.6685609226\n",
      "bestIteration = 324\n",
      "\n",
      "Shrink model to first 325 iterations.\n"
     ]
    },
    {
     "name": "stderr",
     "output_type": "stream",
     "text": [
      "[I 2023-11-12 05:07:10,077] Trial 47 finished with value: 0.6685609226140732 and parameters: {'iterations': 454, 'depth': 9, 'learning_rate': 0.19125917992161934, 'random_strength': 69, 'bagging_temperature': 0.7345357298732818, 'od_type': 'IncToDec', 'grow_policy': 'Depthwise'}. Best is trial 27 with value: 0.6761032472939217.\n"
     ]
    },
    {
     "name": "stdout",
     "output_type": "stream",
     "text": [
      "0:\tlearn: 0.0002975\ttest: 0.0000000\tbest: 0.0000000 (0)\ttotal: 209ms\tremaining: 56s\n",
      "150:\tlearn: 0.9905604\ttest: 0.6584390\tbest: 0.6673357 (57)\ttotal: 31.7s\tremaining: 24.8s\n",
      "268:\tlearn: 0.9998512\ttest: 0.6614226\tbest: 0.6673357 (57)\ttotal: 1m 1s\tremaining: 0us\n",
      "\n",
      "bestTest = 0.6673356749\n",
      "bestIteration = 57\n",
      "\n",
      "Shrink model to first 58 iterations.\n"
     ]
    },
    {
     "name": "stderr",
     "output_type": "stream",
     "text": [
      "[I 2023-11-12 05:08:13,601] Trial 48 finished with value: 0.6673356748620171 and parameters: {'iterations': 269, 'depth': 10, 'learning_rate': 0.2777702804683104, 'random_strength': 19, 'bagging_temperature': 0.9466565353769639, 'od_type': 'IncToDec', 'grow_policy': 'Depthwise'}. Best is trial 27 with value: 0.6761032472939217.\n"
     ]
    },
    {
     "name": "stdout",
     "output_type": "stream",
     "text": [
      "0:\tlearn: 0.2780849\ttest: 0.2892992\tbest: 0.2892992 (0)\ttotal: 175ms\tremaining: 1m 5s\n",
      "150:\tlearn: 0.8138067\ttest: 0.6616642\tbest: 0.6647680 (97)\ttotal: 16.5s\tremaining: 24.8s\n",
      "300:\tlearn: 0.9203791\ttest: 0.6618849\tbest: 0.6658879 (254)\ttotal: 32.7s\tremaining: 8.25s\n",
      "376:\tlearn: 0.9473439\ttest: 0.6609829\tbest: 0.6658879 (254)\ttotal: 41.2s\tremaining: 0us\n",
      "\n",
      "bestTest = 0.6658878505\n",
      "bestIteration = 254\n",
      "\n",
      "Shrink model to first 255 iterations.\n"
     ]
    },
    {
     "name": "stderr",
     "output_type": "stream",
     "text": [
      "[I 2023-11-12 05:08:57,347] Trial 49 finished with value: 0.6658878504672896 and parameters: {'iterations': 377, 'depth': 6, 'learning_rate': 0.22969359458600264, 'random_strength': 9, 'bagging_temperature': 0.6666402843347417, 'od_type': 'IncToDec', 'grow_policy': 'Depthwise'}. Best is trial 27 with value: 0.6761032472939217.\n"
     ]
    },
    {
     "name": "stdout",
     "output_type": "stream",
     "text": [
      "0:\tlearn: 0.0000000\ttest: 0.0000000\tbest: 0.0000000 (0)\ttotal: 202ms\tremaining: 1m 22s\n",
      "Stopped by overfitting detector  (20 iterations wait)\n",
      "\n",
      "bestTest = 0.6722520107\n",
      "bestIteration = 122\n",
      "\n",
      "Shrink model to first 123 iterations.\n"
     ]
    },
    {
     "name": "stderr",
     "output_type": "stream",
     "text": [
      "[I 2023-11-12 05:09:20,025] Trial 50 finished with value: 0.6722520107238605 and parameters: {'iterations': 411, 'depth': 7, 'learning_rate': 0.13655810892889367, 'random_strength': 27, 'bagging_temperature': 0.37700850630295774, 'od_type': 'Iter', 'grow_policy': 'Depthwise'}. Best is trial 27 with value: 0.6761032472939217.\n"
     ]
    },
    {
     "name": "stdout",
     "output_type": "stream",
     "text": [
      "0:\tlearn: 0.0002975\ttest: 0.0000000\tbest: 0.0000000 (0)\ttotal: 353ms\tremaining: 2m 45s\n",
      "Stopped by overfitting detector  (20 iterations wait)\n",
      "\n",
      "bestTest = 0.6699126931\n",
      "bestIteration = 76\n",
      "\n",
      "Shrink model to first 77 iterations.\n"
     ]
    },
    {
     "name": "stderr",
     "output_type": "stream",
     "text": [
      "[I 2023-11-12 05:09:51,404] Trial 51 finished with value: 0.6699126930826057 and parameters: {'iterations': 470, 'depth': 9, 'learning_rate': 0.24060006470573375, 'random_strength': 28, 'bagging_temperature': 0.9230084852346297, 'od_type': 'Iter', 'grow_policy': 'SymmetricTree'}. Best is trial 27 with value: 0.6761032472939217.\n"
     ]
    },
    {
     "name": "stdout",
     "output_type": "stream",
     "text": [
      "0:\tlearn: 0.0002975\ttest: 0.0000000\tbest: 0.0000000 (0)\ttotal: 123ms\tremaining: 1m 1s\n",
      "Stopped by overfitting detector  (20 iterations wait)\n",
      "\n",
      "bestTest = 0.6671118531\n",
      "bestIteration = 127\n",
      "\n",
      "Shrink model to first 128 iterations.\n"
     ]
    },
    {
     "name": "stderr",
     "output_type": "stream",
     "text": [
      "[I 2023-11-12 05:10:28,473] Trial 52 finished with value: 0.6671118530884808 and parameters: {'iterations': 499, 'depth': 8, 'learning_rate': 0.2134662390697422, 'random_strength': 36, 'bagging_temperature': 0.8743175926477643, 'od_type': 'Iter', 'grow_policy': 'SymmetricTree'}. Best is trial 27 with value: 0.6761032472939217.\n"
     ]
    },
    {
     "name": "stdout",
     "output_type": "stream",
     "text": [
      "0:\tlearn: 0.0000000\ttest: 0.0000000\tbest: 0.0000000 (0)\ttotal: 206ms\tremaining: 1m 34s\n",
      "Stopped by overfitting detector  (20 iterations wait)\n",
      "\n",
      "bestTest = 0.5740415055\n",
      "bestIteration = 27\n",
      "\n",
      "Shrink model to first 28 iterations.\n"
     ]
    },
    {
     "name": "stderr",
     "output_type": "stream",
     "text": [
      "[I 2023-11-12 05:10:36,945] Trial 53 finished with value: 0.5740415054519874 and parameters: {'iterations': 458, 'depth': 9, 'learning_rate': 0.23461372622588, 'random_strength': 52, 'bagging_temperature': 0.95685322050938, 'od_type': 'Iter', 'grow_policy': 'SymmetricTree'}. Best is trial 27 with value: 0.6761032472939217.\n"
     ]
    },
    {
     "name": "stdout",
     "output_type": "stream",
     "text": [
      "0:\tlearn: 0.0002975\ttest: 0.0000000\tbest: 0.0000000 (0)\ttotal: 218ms\tremaining: 1m 44s\n",
      "Stopped by overfitting detector  (20 iterations wait)\n",
      "\n",
      "bestTest = 0.6677824268\n",
      "bestIteration = 86\n",
      "\n",
      "Shrink model to first 87 iterations.\n"
     ]
    },
    {
     "name": "stderr",
     "output_type": "stream",
     "text": [
      "[I 2023-11-12 05:11:00,187] Trial 54 finished with value: 0.6677824267782427 and parameters: {'iterations': 478, 'depth': 9, 'learning_rate': 0.25184212608513146, 'random_strength': 31, 'bagging_temperature': 0.8242357706499281, 'od_type': 'Iter', 'grow_policy': 'SymmetricTree'}. Best is trial 27 with value: 0.6761032472939217.\n"
     ]
    },
    {
     "name": "stdout",
     "output_type": "stream",
     "text": [
      "0:\tlearn: 0.0002975\ttest: 0.0000000\tbest: 0.0000000 (0)\ttotal: 194ms\tremaining: 1m 24s\n",
      "150:\tlearn: 0.7679868\ttest: 0.6649983\tbest: 0.6670003 (100)\ttotal: 26.9s\tremaining: 51s\n",
      "300:\tlearn: 0.8732167\ttest: 0.6626607\tbest: 0.6670003 (100)\ttotal: 57.6s\tremaining: 26s\n",
      "436:\tlearn: 0.9209882\ttest: 0.6569709\tbest: 0.6670003 (100)\ttotal: 1m 25s\tremaining: 0us\n",
      "\n",
      "bestTest = 0.6670003337\n",
      "bestIteration = 100\n",
      "\n",
      "Shrink model to first 101 iterations.\n"
     ]
    },
    {
     "name": "stderr",
     "output_type": "stream",
     "text": [
      "[I 2023-11-12 05:12:27,406] Trial 55 finished with value: 0.6670003336670003 and parameters: {'iterations': 437, 'depth': 8, 'learning_rate': 0.21990439774677578, 'random_strength': 20, 'bagging_temperature': 0.9113761141712314, 'od_type': 'IncToDec', 'grow_policy': 'SymmetricTree'}. Best is trial 27 with value: 0.6761032472939217.\n"
     ]
    },
    {
     "name": "stdout",
     "output_type": "stream",
     "text": [
      "0:\tlearn: 0.3146393\ttest: 0.3254146\tbest: 0.3254146 (0)\ttotal: 253ms\tremaining: 1m 10s\n",
      "150:\tlearn: 0.8252728\ttest: 0.6641992\tbest: 0.6700388 (113)\ttotal: 41.6s\tremaining: 35.5s\n",
      "279:\tlearn: 0.9311594\ttest: 0.6645485\tbest: 0.6700388 (113)\ttotal: 1m 25s\tremaining: 0us\n",
      "\n",
      "bestTest = 0.6700387793\n",
      "bestIteration = 113\n",
      "\n",
      "Shrink model to first 114 iterations.\n"
     ]
    },
    {
     "name": "stderr",
     "output_type": "stream",
     "text": [
      "[I 2023-11-12 05:13:54,388] Trial 56 finished with value: 0.6700387792952285 and parameters: {'iterations': 280, 'depth': 10, 'learning_rate': 0.1977222314043352, 'random_strength': 13, 'bagging_temperature': 0.5926377556868364, 'od_type': 'IncToDec', 'grow_policy': 'SymmetricTree'}. Best is trial 27 with value: 0.6761032472939217.\n"
     ]
    },
    {
     "name": "stdout",
     "output_type": "stream",
     "text": [
      "0:\tlearn: 0.5811593\ttest: 0.5847142\tbest: 0.5847142 (0)\ttotal: 79.6ms\tremaining: 19.6s\n",
      "Stopped by overfitting detector  (20 iterations wait)\n",
      "\n",
      "bestTest = 0.6733300017\n",
      "bestIteration = 52\n",
      "\n",
      "Shrink model to first 53 iterations.\n"
     ]
    },
    {
     "name": "stderr",
     "output_type": "stream",
     "text": [
      "[I 2023-11-12 05:14:00,333] Trial 57 finished with value: 0.6733300016658338 and parameters: {'iterations': 247, 'depth': 5, 'learning_rate': 0.16528454687032162, 'random_strength': 4, 'bagging_temperature': 0.9947900718475599, 'od_type': 'Iter', 'grow_policy': 'Depthwise'}. Best is trial 27 with value: 0.6761032472939217.\n"
     ]
    },
    {
     "name": "stdout",
     "output_type": "stream",
     "text": [
      "0:\tlearn: 0.0000000\ttest: 0.0000000\tbest: 0.0000000 (0)\ttotal: 162ms\tremaining: 1m 8s\n",
      "150:\tlearn: 0.9042867\ttest: 0.6592330\tbest: 0.6676737 (88)\ttotal: 19.3s\tremaining: 34.9s\n",
      "300:\tlearn: 0.9935687\ttest: 0.6597246\tbest: 0.6676737 (88)\ttotal: 39.6s\tremaining: 16.2s\n",
      "423:\tlearn: 0.9991811\ttest: 0.6649891\tbest: 0.6676737 (88)\ttotal: 54.6s\tremaining: 0us\n",
      "\n",
      "bestTest = 0.667673716\n",
      "bestIteration = 88\n",
      "\n",
      "Shrink model to first 89 iterations.\n"
     ]
    },
    {
     "name": "stderr",
     "output_type": "stream",
     "text": [
      "[I 2023-11-12 05:14:56,661] Trial 58 finished with value: 0.6676737160120847 and parameters: {'iterations': 424, 'depth': 9, 'learning_rate': 0.1839409017707314, 'random_strength': 25, 'bagging_temperature': 0.5606744949074727, 'od_type': 'IncToDec', 'grow_policy': 'Depthwise'}. Best is trial 27 with value: 0.6761032472939217.\n"
     ]
    },
    {
     "name": "stdout",
     "output_type": "stream",
     "text": [
      "0:\tlearn: 0.0000000\ttest: 0.0000000\tbest: 0.0000000 (0)\ttotal: 112ms\tremaining: 54.2s\n",
      "Stopped by overfitting detector  (20 iterations wait)\n",
      "\n",
      "bestTest = 0.6714813571\n",
      "bestIteration = 123\n",
      "\n",
      "Shrink model to first 124 iterations.\n"
     ]
    },
    {
     "name": "stderr",
     "output_type": "stream",
     "text": [
      "[I 2023-11-12 05:15:14,343] Trial 59 finished with value: 0.6714813570708769 and parameters: {'iterations': 486, 'depth': 8, 'learning_rate': 0.1771792205611392, 'random_strength': 74, 'bagging_temperature': 0.5334439064515261, 'od_type': 'Iter', 'grow_policy': 'Lossguide'}. Best is trial 27 with value: 0.6761032472939217.\n"
     ]
    },
    {
     "name": "stdout",
     "output_type": "stream",
     "text": [
      "0:\tlearn: 0.0000000\ttest: 0.0000000\tbest: 0.0000000 (0)\ttotal: 60.1ms\tremaining: 18.6s\n",
      "150:\tlearn: 0.7037687\ttest: 0.6612631\tbest: 0.6641942 (141)\ttotal: 6.96s\tremaining: 7.33s\n",
      "300:\tlearn: 0.7604374\ttest: 0.6621713\tbest: 0.6658796 (181)\ttotal: 13.7s\tremaining: 410ms\n",
      "309:\tlearn: 0.7625673\ttest: 0.6599156\tbest: 0.6658796 (181)\ttotal: 14.2s\tremaining: 0us\n",
      "\n",
      "bestTest = 0.665879575\n",
      "bestIteration = 181\n",
      "\n",
      "Shrink model to first 182 iterations.\n"
     ]
    },
    {
     "name": "stderr",
     "output_type": "stream",
     "text": [
      "[I 2023-11-12 05:15:30,247] Trial 60 finished with value: 0.6658795749704841 and parameters: {'iterations': 310, 'depth': 4, 'learning_rate': 0.2105740242590533, 'random_strength': 31, 'bagging_temperature': 0.94378803743353, 'od_type': 'IncToDec', 'grow_policy': 'Depthwise'}. Best is trial 27 with value: 0.6761032472939217.\n"
     ]
    },
    {
     "name": "stdout",
     "output_type": "stream",
     "text": [
      "0:\tlearn: 0.0000000\ttest: 0.0000000\tbest: 0.0000000 (0)\ttotal: 106ms\tremaining: 42.8s\n",
      "150:\tlearn: 0.7863023\ttest: 0.6692398\tbest: 0.6712536 (145)\ttotal: 12s\tremaining: 20.1s\n",
      "300:\tlearn: 0.9162647\ttest: 0.6664451\tbest: 0.6712536 (145)\ttotal: 23.6s\tremaining: 8.08s\n",
      "403:\tlearn: 0.9626620\ttest: 0.6658871\tbest: 0.6712536 (145)\ttotal: 32.1s\tremaining: 0us\n",
      "\n",
      "bestTest = 0.671253566\n",
      "bestIteration = 145\n",
      "\n",
      "Shrink model to first 146 iterations.\n"
     ]
    },
    {
     "name": "stderr",
     "output_type": "stream",
     "text": [
      "[I 2023-11-12 05:16:04,086] Trial 61 finished with value: 0.6712535660345695 and parameters: {'iterations': 404, 'depth': 7, 'learning_rate': 0.16683607328490258, 'random_strength': 44, 'bagging_temperature': 0.8506235209997427, 'od_type': 'IncToDec', 'grow_policy': 'Depthwise'}. Best is trial 27 with value: 0.6761032472939217.\n"
     ]
    },
    {
     "name": "stdout",
     "output_type": "stream",
     "text": [
      "0:\tlearn: 0.0000000\ttest: 0.0000000\tbest: 0.0000000 (0)\ttotal: 109ms\tremaining: 46.3s\n",
      "150:\tlearn: 0.7720485\ttest: 0.6676717\tbest: 0.6678954 (146)\ttotal: 12s\tremaining: 21.8s\n",
      "300:\tlearn: 0.9172528\ttest: 0.6713240\tbest: 0.6733300 (164)\ttotal: 23.6s\tremaining: 9.81s\n",
      "425:\tlearn: 0.9616360\ttest: 0.6673333\tbest: 0.6733300 (164)\ttotal: 33.6s\tremaining: 0us\n",
      "\n",
      "bestTest = 0.6733300017\n",
      "bestIteration = 164\n",
      "\n",
      "Shrink model to first 165 iterations.\n"
     ]
    },
    {
     "name": "stderr",
     "output_type": "stream",
     "text": [
      "[I 2023-11-12 05:16:39,457] Trial 62 finished with value: 0.6733300016658338 and parameters: {'iterations': 426, 'depth': 7, 'learning_rate': 0.15839661059885485, 'random_strength': 46, 'bagging_temperature': 0.8886128301090926, 'od_type': 'IncToDec', 'grow_policy': 'Depthwise'}. Best is trial 27 with value: 0.6761032472939217.\n"
     ]
    },
    {
     "name": "stdout",
     "output_type": "stream",
     "text": [
      "0:\tlearn: 0.0000000\ttest: 0.0000000\tbest: 0.0000000 (0)\ttotal: 97.4ms\tremaining: 37.6s\n",
      "150:\tlearn: 0.7733135\ttest: 0.6630746\tbest: 0.6673407 (143)\ttotal: 9.77s\tremaining: 15.3s\n",
      "300:\tlearn: 0.8962324\ttest: 0.6645538\tbest: 0.6674489 (198)\ttotal: 19.9s\tremaining: 5.67s\n",
      "386:\tlearn: 0.9256172\ttest: 0.6603206\tbest: 0.6674489 (198)\ttotal: 25.4s\tremaining: 0us\n",
      "\n",
      "bestTest = 0.667448877\n",
      "bestIteration = 198\n",
      "\n",
      "Shrink model to first 199 iterations.\n"
     ]
    },
    {
     "name": "stderr",
     "output_type": "stream",
     "text": [
      "[I 2023-11-12 05:17:06,640] Trial 63 finished with value: 0.6674488769694938 and parameters: {'iterations': 387, 'depth': 6, 'learning_rate': 0.20150302934645806, 'random_strength': 38, 'bagging_temperature': 0.8014184811592951, 'od_type': 'IncToDec', 'grow_policy': 'Depthwise'}. Best is trial 27 with value: 0.6761032472939217.\n"
     ]
    },
    {
     "name": "stdout",
     "output_type": "stream",
     "text": [
      "0:\tlearn: 0.0000000\ttest: 0.0000000\tbest: 0.0000000 (0)\ttotal: 113ms\tremaining: 51.5s\n",
      "150:\tlearn: 0.7600231\ttest: 0.6670020\tbest: 0.6700218 (133)\ttotal: 11.8s\tremaining: 23.8s\n",
      "300:\tlearn: 0.9041987\ttest: 0.6699029\tbest: 0.6723704 (247)\ttotal: 23.6s\tremaining: 12.1s\n",
      "450:\tlearn: 0.9560059\ttest: 0.6672246\tbest: 0.6723704 (247)\ttotal: 35.6s\tremaining: 315ms\n",
      "454:\tlearn: 0.9564012\ttest: 0.6656616\tbest: 0.6723704 (247)\ttotal: 35.9s\tremaining: 0us\n",
      "\n",
      "bestTest = 0.6723704076\n",
      "bestIteration = 247\n",
      "\n",
      "Shrink model to first 248 iterations.\n"
     ]
    },
    {
     "name": "stderr",
     "output_type": "stream",
     "text": [
      "[I 2023-11-12 05:17:44,332] Trial 64 finished with value: 0.6723704076497231 and parameters: {'iterations': 455, 'depth': 7, 'learning_rate': 0.14213885143203364, 'random_strength': 41, 'bagging_temperature': 0.8180403179276081, 'od_type': 'IncToDec', 'grow_policy': 'Depthwise'}. Best is trial 27 with value: 0.6761032472939217.\n"
     ]
    },
    {
     "name": "stdout",
     "output_type": "stream",
     "text": [
      "0:\tlearn: 0.0000000\ttest: 0.0000000\tbest: 0.0000000 (0)\ttotal: 101ms\tremaining: 44.2s\n",
      "150:\tlearn: 0.7457318\ttest: 0.6680128\tbest: 0.6732840 (107)\ttotal: 9.73s\tremaining: 18.6s\n",
      "300:\tlearn: 0.8586957\ttest: 0.6733233\tbest: 0.6753333 (296)\ttotal: 19.2s\tremaining: 8.88s\n",
      "439:\tlearn: 0.9138505\ttest: 0.6681142\tbest: 0.6753333 (296)\ttotal: 28.1s\tremaining: 0us\n",
      "\n",
      "bestTest = 0.6753333333\n",
      "bestIteration = 296\n",
      "\n",
      "Shrink model to first 297 iterations.\n"
     ]
    },
    {
     "name": "stderr",
     "output_type": "stream",
     "text": [
      "[I 2023-11-12 05:18:14,280] Trial 65 finished with value: 0.6753333333333335 and parameters: {'iterations': 440, 'depth': 6, 'learning_rate': 0.1592783095021767, 'random_strength': 16, 'bagging_temperature': 0.8402595804290423, 'od_type': 'IncToDec', 'grow_policy': 'Depthwise'}. Best is trial 27 with value: 0.6761032472939217.\n"
     ]
    },
    {
     "name": "stdout",
     "output_type": "stream",
     "text": [
      "0:\tlearn: 0.0000000\ttest: 0.0000000\tbest: 0.0000000 (0)\ttotal: 103ms\tremaining: 47.9s\n",
      "150:\tlearn: 0.7753689\ttest: 0.6654362\tbest: 0.6654362 (150)\ttotal: 9.82s\tremaining: 20.5s\n",
      "300:\tlearn: 0.8871110\ttest: 0.6599833\tbest: 0.6655485 (151)\ttotal: 19.1s\tremaining: 10.5s\n",
      "450:\tlearn: 0.9420369\ttest: 0.6592197\tbest: 0.6655485 (151)\ttotal: 28.6s\tremaining: 1.01s\n",
      "466:\tlearn: 0.9461765\ttest: 0.6596597\tbest: 0.6655485 (151)\ttotal: 29.7s\tremaining: 0us\n",
      "\n",
      "bestTest = 0.6655484737\n",
      "bestIteration = 151\n",
      "\n",
      "Shrink model to first 152 iterations.\n"
     ]
    },
    {
     "name": "stderr",
     "output_type": "stream",
     "text": [
      "[I 2023-11-12 05:18:45,708] Trial 66 finished with value: 0.6655484736665548 and parameters: {'iterations': 467, 'depth': 6, 'learning_rate': 0.18888198959705682, 'random_strength': 15, 'bagging_temperature': 0.8898083244120366, 'od_type': 'IncToDec', 'grow_policy': 'Depthwise'}. Best is trial 27 with value: 0.6761032472939217.\n"
     ]
    },
    {
     "name": "stdout",
     "output_type": "stream",
     "text": [
      "0:\tlearn: 0.0000000\ttest: 0.0000000\tbest: 0.0000000 (0)\ttotal: 207ms\tremaining: 1m 13s\n",
      "150:\tlearn: 0.6867450\ttest: 0.6722548\tbest: 0.6725782 (138)\ttotal: 16.9s\tremaining: 22.9s\n",
      "Stopped by overfitting detector  (20 iterations wait)\n",
      "\n",
      "bestTest = 0.6739312657\n",
      "bestIteration = 153\n",
      "\n",
      "Shrink model to first 154 iterations.\n"
     ]
    },
    {
     "name": "stderr",
     "output_type": "stream",
     "text": [
      "[I 2023-11-12 05:19:07,017] Trial 67 finished with value: 0.6739312657166806 and parameters: {'iterations': 356, 'depth': 5, 'learning_rate': 0.15504279373614988, 'random_strength': 7, 'bagging_temperature': 0.8451763135555723, 'od_type': 'Iter', 'grow_policy': 'SymmetricTree'}. Best is trial 27 with value: 0.6761032472939217.\n"
     ]
    },
    {
     "name": "stdout",
     "output_type": "stream",
     "text": [
      "0:\tlearn: 0.0000000\ttest: 0.0000000\tbest: 0.0000000 (0)\ttotal: 93.1ms\tremaining: 40.9s\n",
      "150:\tlearn: 0.7632013\ttest: 0.6637303\tbest: 0.6707091 (104)\ttotal: 10.6s\tremaining: 20.3s\n",
      "300:\tlearn: 0.8796914\ttest: 0.6635183\tbest: 0.6707091 (104)\ttotal: 20s\tremaining: 9.26s\n",
      "439:\tlearn: 0.9307101\ttest: 0.6624075\tbest: 0.6707091 (104)\ttotal: 29.8s\tremaining: 0us\n",
      "\n",
      "bestTest = 0.6707091123\n",
      "bestIteration = 104\n",
      "\n",
      "Shrink model to first 105 iterations.\n"
     ]
    },
    {
     "name": "stderr",
     "output_type": "stream",
     "text": [
      "[I 2023-11-12 05:19:38,644] Trial 68 finished with value: 0.6707091123463028 and parameters: {'iterations': 440, 'depth': 6, 'learning_rate': 0.1756968454644459, 'random_strength': 12, 'bagging_temperature': 0.7650375230242498, 'od_type': 'IncToDec', 'grow_policy': 'Depthwise'}. Best is trial 27 with value: 0.6761032472939217.\n"
     ]
    },
    {
     "name": "stdout",
     "output_type": "stream",
     "text": [
      "0:\tlearn: 0.5634086\ttest: 0.5712185\tbest: 0.5712185 (0)\ttotal: 175ms\tremaining: 1m 24s\n",
      "Stopped by overfitting detector  (20 iterations wait)\n",
      "\n",
      "bestTest = 0.6711274674\n",
      "bestIteration = 63\n",
      "\n",
      "Shrink model to first 64 iterations.\n"
     ]
    },
    {
     "name": "stderr",
     "output_type": "stream",
     "text": [
      "[I 2023-11-12 05:19:52,953] Trial 69 finished with value: 0.6711274673803947 and parameters: {'iterations': 484, 'depth': 9, 'learning_rate': 0.12960801071950448, 'random_strength': 3, 'bagging_temperature': 0.9658519277760156, 'od_type': 'Iter', 'grow_policy': 'Depthwise'}. Best is trial 27 with value: 0.6761032472939217.\n"
     ]
    },
    {
     "name": "stdout",
     "output_type": "stream",
     "text": [
      "0:\tlearn: 0.0000000\ttest: 0.0000000\tbest: 0.0000000 (0)\ttotal: 133ms\tremaining: 54.7s\n",
      "150:\tlearn: 0.7878289\ttest: 0.6671121\tbest: 0.6716767 (92)\ttotal: 17.6s\tremaining: 30.2s\n",
      "300:\tlearn: 0.8896171\ttest: 0.6622163\tbest: 0.6716767 (92)\ttotal: 31.1s\tremaining: 11.4s\n",
      "410:\tlearn: 0.9290535\ttest: 0.6632262\tbest: 0.6716767 (92)\ttotal: 40.5s\tremaining: 0us\n",
      "\n",
      "bestTest = 0.6716766867\n",
      "bestIteration = 92\n",
      "\n",
      "Shrink model to first 93 iterations.\n"
     ]
    },
    {
     "name": "stderr",
     "output_type": "stream",
     "text": [
      "[I 2023-11-12 05:20:35,237] Trial 70 finished with value: 0.6716766867067469 and parameters: {'iterations': 411, 'depth': 8, 'learning_rate': 0.21555152526098334, 'random_strength': 23, 'bagging_temperature': 0.9202093455490078, 'od_type': 'IncToDec', 'grow_policy': 'Lossguide'}. Best is trial 27 with value: 0.6761032472939217.\n"
     ]
    },
    {
     "name": "stdout",
     "output_type": "stream",
     "text": [
      "0:\tlearn: 0.0000000\ttest: 0.0000000\tbest: 0.0000000 (0)\ttotal: 138ms\tremaining: 48.7s\n",
      "Stopped by overfitting detector  (20 iterations wait)\n",
      "\n",
      "bestTest = 0.6706908115\n",
      "bestIteration = 101\n",
      "\n",
      "Shrink model to first 102 iterations.\n"
     ]
    },
    {
     "name": "stderr",
     "output_type": "stream",
     "text": [
      "[I 2023-11-12 05:20:49,666] Trial 71 finished with value: 0.670690811535882 and parameters: {'iterations': 355, 'depth': 5, 'learning_rate': 0.15767893669154995, 'random_strength': 7, 'bagging_temperature': 0.8523784286710423, 'od_type': 'Iter', 'grow_policy': 'SymmetricTree'}. Best is trial 27 with value: 0.6761032472939217.\n"
     ]
    },
    {
     "name": "stdout",
     "output_type": "stream",
     "text": [
      "0:\tlearn: 0.0000000\ttest: 0.0000000\tbest: 0.0000000 (0)\ttotal: 113ms\tremaining: 37.4s\n",
      "150:\tlearn: 0.6829835\ttest: 0.6729443\tbest: 0.6738363 (148)\ttotal: 15.9s\tremaining: 19.1s\n",
      "Stopped by overfitting detector  (20 iterations wait)\n",
      "\n",
      "bestTest = 0.67383633\n",
      "bestIteration = 148\n",
      "\n",
      "Shrink model to first 149 iterations.\n"
     ]
    },
    {
     "name": "stderr",
     "output_type": "stream",
     "text": [
      "[I 2023-11-12 05:21:09,253] Trial 72 finished with value: 0.6738363300285666 and parameters: {'iterations': 332, 'depth': 5, 'learning_rate': 0.14801834057243207, 'random_strength': 9, 'bagging_temperature': 0.8377886249059109, 'od_type': 'Iter', 'grow_policy': 'SymmetricTree'}. Best is trial 27 with value: 0.6761032472939217.\n"
     ]
    },
    {
     "name": "stdout",
     "output_type": "stream",
     "text": [
      "0:\tlearn: 0.0000000\ttest: 0.0000000\tbest: 0.0000000 (0)\ttotal: 115ms\tremaining: 44.7s\n",
      "150:\tlearn: 0.6851153\ttest: 0.6663269\tbest: 0.6667799 (139)\ttotal: 15.6s\tremaining: 24.6s\n",
      "Stopped by overfitting detector  (20 iterations wait)\n",
      "\n",
      "bestTest = 0.6676849966\n",
      "bestIteration = 157\n",
      "\n",
      "Shrink model to first 158 iterations.\n"
     ]
    },
    {
     "name": "stderr",
     "output_type": "stream",
     "text": [
      "[I 2023-11-12 05:21:29,593] Trial 73 finished with value: 0.6676849966055669 and parameters: {'iterations': 389, 'depth': 5, 'learning_rate': 0.16454885579675976, 'random_strength': 16, 'bagging_temperature': 0.7880800181954416, 'od_type': 'Iter', 'grow_policy': 'SymmetricTree'}. Best is trial 27 with value: 0.6761032472939217.\n"
     ]
    },
    {
     "name": "stdout",
     "output_type": "stream",
     "text": [
      "0:\tlearn: 0.0000000\ttest: 0.0000000\tbest: 0.0000000 (0)\ttotal: 87.1ms\tremaining: 32.2s\n",
      "150:\tlearn: 0.6809683\ttest: 0.6659895\tbest: 0.6662160 (141)\ttotal: 12.6s\tremaining: 18.4s\n",
      "Stopped by overfitting detector  (20 iterations wait)\n",
      "\n",
      "bestTest = 0.6662159878\n",
      "bestIteration = 141\n",
      "\n",
      "Shrink model to first 142 iterations.\n"
     ]
    },
    {
     "name": "stderr",
     "output_type": "stream",
     "text": [
      "[I 2023-11-12 05:21:44,836] Trial 74 finished with value: 0.6662159878316715 and parameters: {'iterations': 371, 'depth': 4, 'learning_rate': 0.18670551976426883, 'random_strength': 19, 'bagging_temperature': 0.8868230277230925, 'od_type': 'Iter', 'grow_policy': 'SymmetricTree'}. Best is trial 27 with value: 0.6761032472939217.\n"
     ]
    },
    {
     "name": "stdout",
     "output_type": "stream",
     "text": [
      "0:\tlearn: 0.0002975\ttest: 0.0000000\tbest: 0.0000000 (0)\ttotal: 136ms\tremaining: 58.5s\n",
      "Stopped by overfitting detector  (20 iterations wait)\n",
      "\n",
      "bestTest = 0.6685542971\n",
      "bestIteration = 31\n",
      "\n",
      "Shrink model to first 32 iterations.\n"
     ]
    },
    {
     "name": "stderr",
     "output_type": "stream",
     "text": [
      "[I 2023-11-12 05:21:53,524] Trial 75 finished with value: 0.6685542971352431 and parameters: {'iterations': 432, 'depth': 6, 'learning_rate': 0.19929648111931936, 'random_strength': 2, 'bagging_temperature': 0.7586449411314131, 'od_type': 'Iter', 'grow_policy': 'SymmetricTree'}. Best is trial 27 with value: 0.6761032472939217.\n"
     ]
    },
    {
     "name": "stdout",
     "output_type": "stream",
     "text": [
      "0:\tlearn: 0.2753265\ttest: 0.2855110\tbest: 0.2855110 (0)\ttotal: 59.2ms\tremaining: 26.4s\n",
      "150:\tlearn: 0.6906174\ttest: 0.6666667\tbest: 0.6681311 (138)\ttotal: 7.38s\tremaining: 14.5s\n",
      "Stopped by overfitting detector  (20 iterations wait)\n",
      "\n",
      "bestTest = 0.6681311254\n",
      "bestIteration = 138\n",
      "\n",
      "Shrink model to first 139 iterations.\n"
     ]
    },
    {
     "name": "stderr",
     "output_type": "stream",
     "text": [
      "[I 2023-11-12 05:22:03,015] Trial 76 finished with value: 0.6681311253801959 and parameters: {'iterations': 447, 'depth': 4, 'learning_rate': 0.17573490856303176, 'random_strength': 11, 'bagging_temperature': 0.842750553068403, 'od_type': 'Iter', 'grow_policy': 'Depthwise'}. Best is trial 27 with value: 0.6761032472939217.\n"
     ]
    },
    {
     "name": "stdout",
     "output_type": "stream",
     "text": [
      "0:\tlearn: 0.2780849\ttest: 0.2892992\tbest: 0.2892992 (0)\ttotal: 71.7ms\tremaining: 15.3s\n",
      "150:\tlearn: 0.7140010\ttest: 0.6725931\tbest: 0.6747954 (129)\ttotal: 8.37s\tremaining: 3.49s\n",
      "213:\tlearn: 0.7443746\ttest: 0.6752595\tbest: 0.6758159 (208)\ttotal: 11.6s\tremaining: 0us\n",
      "\n",
      "bestTest = 0.6758158996\n",
      "bestIteration = 208\n",
      "\n",
      "Shrink model to first 209 iterations.\n"
     ]
    },
    {
     "name": "stderr",
     "output_type": "stream",
     "text": [
      "[I 2023-11-12 05:22:16,392] Trial 77 finished with value: 0.6758158995815899 and parameters: {'iterations': 214, 'depth': 5, 'learning_rate': 0.15582068976331814, 'random_strength': 7, 'bagging_temperature': 0.6457462321689169, 'od_type': 'IncToDec', 'grow_policy': 'Depthwise'}. Best is trial 27 with value: 0.6761032472939217.\n"
     ]
    },
    {
     "name": "stdout",
     "output_type": "stream",
     "text": [
      "0:\tlearn: 0.0000000\ttest: 0.0000000\tbest: 0.0000000 (0)\ttotal: 153ms\tremaining: 28s\n",
      "150:\tlearn: 0.9458366\ttest: 0.6644430\tbest: 0.6656601 (73)\ttotal: 19.5s\tremaining: 4.25s\n",
      "183:\tlearn: 0.9697016\ttest: 0.6646637\tbest: 0.6656601 (73)\ttotal: 23.8s\tremaining: 0us\n",
      "\n",
      "bestTest = 0.6656601241\n",
      "bestIteration = 73\n",
      "\n",
      "Shrink model to first 74 iterations.\n"
     ]
    },
    {
     "name": "stderr",
     "output_type": "stream",
     "text": [
      "[I 2023-11-12 05:22:41,893] Trial 78 finished with value: 0.6656601241402449 and parameters: {'iterations': 184, 'depth': 9, 'learning_rate': 0.224755616539881, 'random_strength': 62, 'bagging_temperature': 0.6426733482528939, 'od_type': 'IncToDec', 'grow_policy': 'Depthwise'}. Best is trial 27 with value: 0.6761032472939217.\n"
     ]
    },
    {
     "name": "stdout",
     "output_type": "stream",
     "text": [
      "0:\tlearn: 0.0000000\ttest: 0.0000000\tbest: 0.0000000 (0)\ttotal: 97.6ms\tremaining: 20.8s\n",
      "150:\tlearn: 0.6910211\ttest: 0.6665545\tbest: 0.6666667 (147)\ttotal: 10.1s\tremaining: 4.23s\n",
      "213:\tlearn: 0.7474513\ttest: 0.6656576\tbest: 0.6695828 (159)\ttotal: 14.1s\tremaining: 0us\n",
      "\n",
      "bestTest = 0.6695827725\n",
      "bestIteration = 159\n",
      "\n",
      "Shrink model to first 160 iterations.\n"
     ]
    },
    {
     "name": "stderr",
     "output_type": "stream",
     "text": [
      "[I 2023-11-12 05:22:57,739] Trial 79 finished with value: 0.6695827725437417 and parameters: {'iterations': 214, 'depth': 6, 'learning_rate': 0.12165370948756547, 'random_strength': 94, 'bagging_temperature': 0.5313794667326609, 'od_type': 'IncToDec', 'grow_policy': 'Depthwise'}. Best is trial 27 with value: 0.6761032472939217.\n"
     ]
    },
    {
     "name": "stdout",
     "output_type": "stream",
     "text": [
      "0:\tlearn: 0.0000000\ttest: 0.0000000\tbest: 0.0000000 (0)\ttotal: 164ms\tremaining: 40s\n",
      "150:\tlearn: 0.9418722\ttest: 0.6568856\tbest: 0.6588314 (71)\ttotal: 19.7s\tremaining: 12.3s\n",
      "244:\tlearn: 0.9905505\ttest: 0.6579957\tbest: 0.6588785 (160)\ttotal: 32.8s\tremaining: 0us\n",
      "\n",
      "bestTest = 0.6588785047\n",
      "bestIteration = 160\n",
      "\n",
      "Shrink model to first 161 iterations.\n"
     ]
    },
    {
     "name": "stderr",
     "output_type": "stream",
     "text": [
      "[I 2023-11-12 05:23:32,367] Trial 80 finished with value: 0.6588785046728972 and parameters: {'iterations': 245, 'depth': 9, 'learning_rate': 0.205511497513524, 'random_strength': 18, 'bagging_temperature': 0.6068807071158956, 'od_type': 'IncToDec', 'grow_policy': 'Depthwise'}. Best is trial 27 with value: 0.6761032472939217.\n"
     ]
    },
    {
     "name": "stdout",
     "output_type": "stream",
     "text": [
      "0:\tlearn: 0.2780849\ttest: 0.2892992\tbest: 0.2892992 (0)\ttotal: 68ms\tremaining: 12s\n",
      "150:\tlearn: 0.7221534\ttest: 0.6731122\tbest: 0.6748875 (125)\ttotal: 8s\tremaining: 1.43s\n",
      "177:\tlearn: 0.7404101\ttest: 0.6711297\tbest: 0.6748875 (125)\ttotal: 9.42s\tremaining: 0us\n",
      "\n",
      "bestTest = 0.6748875187\n",
      "bestIteration = 125\n",
      "\n",
      "Shrink model to first 126 iterations.\n"
     ]
    },
    {
     "name": "stderr",
     "output_type": "stream",
     "text": [
      "[I 2023-11-12 05:23:43,553] Trial 81 finished with value: 0.6748875187468755 and parameters: {'iterations': 178, 'depth': 5, 'learning_rate': 0.15729382394155517, 'random_strength': 6, 'bagging_temperature': 0.8117987632311247, 'od_type': 'IncToDec', 'grow_policy': 'Depthwise'}. Best is trial 27 with value: 0.6761032472939217.\n"
     ]
    },
    {
     "name": "stdout",
     "output_type": "stream",
     "text": [
      "0:\tlearn: 0.5676580\ttest: 0.5714286\tbest: 0.5714286 (0)\ttotal: 77.7ms\tremaining: 15.3s\n",
      "150:\tlearn: 0.7513693\ttest: 0.6697987\tbest: 0.6703555 (148)\ttotal: 8.04s\tremaining: 2.5s\n",
      "197:\tlearn: 0.7783748\ttest: 0.6684582\tbest: 0.6703555 (148)\ttotal: 10.5s\tremaining: 0us\n",
      "\n",
      "bestTest = 0.6703554661\n",
      "bestIteration = 148\n",
      "\n",
      "Shrink model to first 149 iterations.\n"
     ]
    },
    {
     "name": "stderr",
     "output_type": "stream",
     "text": [
      "[I 2023-11-12 05:23:55,885] Trial 82 finished with value: 0.6703554661301141 and parameters: {'iterations': 198, 'depth': 5, 'learning_rate': 0.16961381975046866, 'random_strength': 1, 'bagging_temperature': 0.6879520599581554, 'od_type': 'IncToDec', 'grow_policy': 'Depthwise'}. Best is trial 27 with value: 0.6761032472939217.\n"
     ]
    },
    {
     "name": "stdout",
     "output_type": "stream",
     "text": [
      "0:\tlearn: 0.2780849\ttest: 0.2892992\tbest: 0.2892992 (0)\ttotal: 71.4ms\tremaining: 10.9s\n",
      "150:\tlearn: 0.7057355\ttest: 0.6740517\tbest: 0.6747109 (143)\ttotal: 8.31s\tremaining: 110ms\n",
      "152:\tlearn: 0.7073211\ttest: 0.6736030\tbest: 0.6747109 (143)\ttotal: 8.41s\tremaining: 0us\n",
      "\n",
      "bestTest = 0.67471091\n",
      "bestIteration = 143\n",
      "\n",
      "Shrink model to first 144 iterations.\n"
     ]
    },
    {
     "name": "stderr",
     "output_type": "stream",
     "text": [
      "[I 2023-11-12 05:24:06,131] Trial 83 finished with value: 0.6747109100050276 and parameters: {'iterations': 153, 'depth': 5, 'learning_rate': 0.14239616010715808, 'random_strength': 6, 'bagging_temperature': 0.805580923913744, 'od_type': 'IncToDec', 'grow_policy': 'Depthwise'}. Best is trial 27 with value: 0.6761032472939217.\n"
     ]
    },
    {
     "name": "stdout",
     "output_type": "stream",
     "text": [
      "0:\tlearn: 0.4798350\ttest: 0.4786967\tbest: 0.4786967 (0)\ttotal: 72.5ms\tremaining: 13s\n",
      "150:\tlearn: 0.7082054\ttest: 0.6654325\tbest: 0.6670022 (100)\ttotal: 8.32s\tremaining: 1.6s\n",
      "179:\tlearn: 0.7293121\ttest: 0.6658820\tbest: 0.6670029 (156)\ttotal: 9.82s\tremaining: 0us\n",
      "\n",
      "bestTest = 0.6670028576\n",
      "bestIteration = 156\n",
      "\n",
      "Shrink model to first 157 iterations.\n"
     ]
    },
    {
     "name": "stderr",
     "output_type": "stream",
     "text": [
      "[I 2023-11-12 05:24:17,683] Trial 84 finished with value: 0.6670028576231299 and parameters: {'iterations': 180, 'depth': 5, 'learning_rate': 0.1431127078002601, 'random_strength': 5, 'bagging_temperature': 0.7364073395803307, 'od_type': 'IncToDec', 'grow_policy': 'Depthwise'}. Best is trial 27 with value: 0.6761032472939217.\n"
     ]
    },
    {
     "name": "stdout",
     "output_type": "stream",
     "text": [
      "0:\tlearn: 0.2780849\ttest: 0.2892992\tbest: 0.2892992 (0)\ttotal: 73.6ms\tremaining: 8.98s\n",
      "122:\tlearn: 0.6877228\ttest: 0.6675617\tbest: 0.6691250 (114)\ttotal: 7.1s\tremaining: 0us\n",
      "\n",
      "bestTest = 0.6691250419\n",
      "bestIteration = 114\n",
      "\n",
      "Shrink model to first 115 iterations.\n"
     ]
    },
    {
     "name": "stderr",
     "output_type": "stream",
     "text": [
      "[I 2023-11-12 05:24:26,507] Trial 85 finished with value: 0.6691250419041235 and parameters: {'iterations': 123, 'depth': 5, 'learning_rate': 0.13748329802484088, 'random_strength': 10, 'bagging_temperature': 0.8004128844967705, 'od_type': 'IncToDec', 'grow_policy': 'Depthwise'}. Best is trial 27 with value: 0.6761032472939217.\n"
     ]
    },
    {
     "name": "stdout",
     "output_type": "stream",
     "text": [
      "0:\tlearn: 0.0000000\ttest: 0.0000000\tbest: 0.0000000 (0)\ttotal: 77.6ms\tremaining: 11.6s\n",
      "149:\tlearn: 0.7100266\ttest: 0.6727059\tbest: 0.6732541 (146)\ttotal: 8.27s\tremaining: 0us\n",
      "\n",
      "bestTest = 0.6732540613\n",
      "bestIteration = 146\n",
      "\n",
      "Shrink model to first 147 iterations.\n"
     ]
    },
    {
     "name": "stderr",
     "output_type": "stream",
     "text": [
      "[I 2023-11-12 05:24:36,522] Trial 86 finished with value: 0.6732540612962653 and parameters: {'iterations': 150, 'depth': 5, 'learning_rate': 0.15100249904270333, 'random_strength': 14, 'bagging_temperature': 0.7749180822863866, 'od_type': 'IncToDec', 'grow_policy': 'Depthwise'}. Best is trial 27 with value: 0.6761032472939217.\n"
     ]
    },
    {
     "name": "stdout",
     "output_type": "stream",
     "text": [
      "0:\tlearn: 0.2753265\ttest: 0.2855110\tbest: 0.2855110 (0)\ttotal: 62.3ms\tremaining: 10.6s\n",
      "150:\tlearn: 0.6930496\ttest: 0.6645259\tbest: 0.6649780 (149)\ttotal: 7.2s\tremaining: 1s\n",
      "171:\tlearn: 0.6989015\ttest: 0.6644114\tbest: 0.6661037 (151)\ttotal: 8.18s\tremaining: 0us\n",
      "\n",
      "bestTest = 0.6661036987\n",
      "bestIteration = 151\n",
      "\n",
      "Shrink model to first 152 iterations.\n"
     ]
    },
    {
     "name": "stderr",
     "output_type": "stream",
     "text": [
      "[I 2023-11-12 05:24:46,452] Trial 87 finished with value: 0.666103698699544 and parameters: {'iterations': 172, 'depth': 4, 'learning_rate': 0.15990206664084505, 'random_strength': 7, 'bagging_temperature': 0.5880023128386765, 'od_type': 'IncToDec', 'grow_policy': 'Depthwise'}. Best is trial 27 with value: 0.6761032472939217.\n"
     ]
    },
    {
     "name": "stdout",
     "output_type": "stream",
     "text": [
      "0:\tlearn: 0.6457804\ttest: 0.6382626\tbest: 0.6382626 (0)\ttotal: 63.2ms\tremaining: 12.6s\n",
      "150:\tlearn: 0.7736816\ttest: 0.6654331\tbest: 0.6710284 (116)\ttotal: 7.83s\tremaining: 2.54s\n",
      "199:\tlearn: 0.8025279\ttest: 0.6712490\tbest: 0.6712490 (199)\ttotal: 10.4s\tremaining: 0us\n",
      "\n",
      "bestTest = 0.6712489522\n",
      "bestIteration = 199\n",
      "\n"
     ]
    },
    {
     "name": "stderr",
     "output_type": "stream",
     "text": [
      "[I 2023-11-12 05:24:58,642] Trial 88 finished with value: 0.6712489522212908 and parameters: {'iterations': 200, 'depth': 5, 'learning_rate': 0.19334510643206984, 'random_strength': 0, 'bagging_temperature': 0.6329702754102395, 'od_type': 'IncToDec', 'grow_policy': 'Depthwise'}. Best is trial 27 with value: 0.6761032472939217.\n"
     ]
    },
    {
     "name": "stdout",
     "output_type": "stream",
     "text": [
      "0:\tlearn: 0.4951180\ttest: 0.4928072\tbest: 0.4928072 (0)\ttotal: 85.5ms\tremaining: 19.6s\n",
      "150:\tlearn: 0.7537313\ttest: 0.6645389\tbest: 0.6680101 (89)\ttotal: 9.93s\tremaining: 5.2s\n",
      "229:\tlearn: 0.8167445\ttest: 0.6652174\tbest: 0.6681201 (168)\ttotal: 14.8s\tremaining: 0us\n",
      "\n",
      "bestTest = 0.6681200738\n",
      "bestIteration = 168\n",
      "\n",
      "Shrink model to first 169 iterations.\n"
     ]
    },
    {
     "name": "stderr",
     "output_type": "stream",
     "text": [
      "[I 2023-11-12 05:25:15,186] Trial 89 finished with value: 0.6681200737883615 and parameters: {'iterations': 230, 'depth': 6, 'learning_rate': 0.1465711850493665, 'random_strength': 4, 'bagging_temperature': 0.7259714841287342, 'od_type': 'IncToDec', 'grow_policy': 'Depthwise'}. Best is trial 27 with value: 0.6761032472939217.\n"
     ]
    },
    {
     "name": "stdout",
     "output_type": "stream",
     "text": [
      "0:\tlearn: 0.0000000\ttest: 0.0000000\tbest: 0.0000000 (0)\ttotal: 84.9ms\tremaining: 10.8s\n",
      "127:\tlearn: 0.7084441\ttest: 0.6695872\tbest: 0.6722520 (98)\ttotal: 7.09s\tremaining: 0us\n",
      "\n",
      "bestTest = 0.6722520107\n",
      "bestIteration = 98\n",
      "\n",
      "Shrink model to first 99 iterations.\n"
     ]
    },
    {
     "name": "stderr",
     "output_type": "stream",
     "text": [
      "[I 2023-11-12 05:25:24,013] Trial 90 finished with value: 0.6722520107238605 and parameters: {'iterations': 128, 'depth': 5, 'learning_rate': 0.1715457658628956, 'random_strength': 12, 'bagging_temperature': 0.8111439802551949, 'od_type': 'IncToDec', 'grow_policy': 'Depthwise'}. Best is trial 27 with value: 0.6761032472939217.\n"
     ]
    },
    {
     "name": "stdout",
     "output_type": "stream",
     "text": [
      "0:\tlearn: 0.2797647\ttest: 0.2930749\tbest: 0.2930749 (0)\ttotal: 155ms\tremaining: 24.4s\n",
      "150:\tlearn: 0.9158196\ttest: 0.6636622\tbest: 0.6715670 (78)\ttotal: 20.5s\tremaining: 952ms\n",
      "157:\tlearn: 0.9220543\ttest: 0.6653327\tbest: 0.6715670 (78)\ttotal: 21.5s\tremaining: 0us\n",
      "\n",
      "bestTest = 0.6715669896\n",
      "bestIteration = 78\n",
      "\n",
      "Shrink model to first 79 iterations.\n"
     ]
    },
    {
     "name": "stderr",
     "output_type": "stream",
     "text": [
      "[I 2023-11-12 05:25:47,213] Trial 91 finished with value: 0.6715669896424991 and parameters: {'iterations': 158, 'depth': 9, 'learning_rate': 0.18366586014468503, 'random_strength': 9, 'bagging_temperature': 0.9027728107879311, 'od_type': 'IncToDec', 'grow_policy': 'Depthwise'}. Best is trial 27 with value: 0.6761032472939217.\n"
     ]
    },
    {
     "name": "stdout",
     "output_type": "stream",
     "text": [
      "0:\tlearn: 0.4484968\ttest: 0.4564828\tbest: 0.4564828 (0)\ttotal: 175ms\tremaining: 25.5s\n",
      "146:\tlearn: 0.8783052\ttest: 0.6681157\tbest: 0.6743719 (122)\ttotal: 29.3s\tremaining: 0us\n",
      "\n",
      "bestTest = 0.6743718593\n",
      "bestIteration = 122\n",
      "\n",
      "Shrink model to first 123 iterations.\n"
     ]
    },
    {
     "name": "stderr",
     "output_type": "stream",
     "text": [
      "[I 2023-11-12 05:26:18,379] Trial 92 finished with value: 0.6743718592964824 and parameters: {'iterations': 147, 'depth': 9, 'learning_rate': 0.1537855690337895, 'random_strength': 6, 'bagging_temperature': 0.9333443243169551, 'od_type': 'IncToDec', 'grow_policy': 'Depthwise'}. Best is trial 27 with value: 0.6761032472939217.\n"
     ]
    },
    {
     "name": "stdout",
     "output_type": "stream",
     "text": [
      "0:\tlearn: 0.4506294\ttest: 0.4573243\tbest: 0.4573243 (0)\ttotal: 232ms\tremaining: 34.4s\n",
      "148:\tlearn: 0.9288808\ttest: 0.6687813\tbest: 0.6707846 (122)\ttotal: 27.2s\tremaining: 0us\n",
      "\n",
      "bestTest = 0.6707846411\n",
      "bestIteration = 122\n",
      "\n",
      "Shrink model to first 123 iterations.\n"
     ]
    },
    {
     "name": "stderr",
     "output_type": "stream",
     "text": [
      "[I 2023-11-12 05:26:47,495] Trial 93 finished with value: 0.6707846410684475 and parameters: {'iterations': 149, 'depth': 10, 'learning_rate': 0.15469181637249554, 'random_strength': 6, 'bagging_temperature': 0.8774264836698409, 'od_type': 'IncToDec', 'grow_policy': 'Depthwise'}. Best is trial 27 with value: 0.6761032472939217.\n"
     ]
    },
    {
     "name": "stdout",
     "output_type": "stream",
     "text": [
      "0:\tlearn: 0.5676981\ttest: 0.5724611\tbest: 0.5724611 (0)\ttotal: 71.9ms\tremaining: 7.41s\n",
      "103:\tlearn: 0.7030091\ttest: 0.6700490\tbest: 0.6700490 (103)\ttotal: 5.87s\tremaining: 0us\n",
      "\n",
      "bestTest = 0.6700490445\n",
      "bestIteration = 103\n",
      "\n"
     ]
    },
    {
     "name": "stderr",
     "output_type": "stream",
     "text": [
      "[I 2023-11-12 05:26:55,138] Trial 94 finished with value: 0.6700490444782682 and parameters: {'iterations': 104, 'depth': 5, 'learning_rate': 0.16409972295851707, 'random_strength': 3, 'bagging_temperature': 0.8631775616852134, 'od_type': 'IncToDec', 'grow_policy': 'Depthwise'}. Best is trial 27 with value: 0.6761032472939217.\n"
     ]
    },
    {
     "name": "stdout",
     "output_type": "stream",
     "text": [
      "0:\tlearn: 0.0000000\ttest: 0.0000000\tbest: 0.0000000 (0)\ttotal: 89.3ms\tremaining: 11.7s\n",
      "131:\tlearn: 0.6868838\ttest: 0.6635294\tbest: 0.6640875 (126)\ttotal: 7.5s\tremaining: 0us\n",
      "\n",
      "bestTest = 0.6640874685\n",
      "bestIteration = 126\n",
      "\n",
      "Shrink model to first 127 iterations.\n"
     ]
    },
    {
     "name": "stderr",
     "output_type": "stream",
     "text": [
      "[I 2023-11-12 05:27:04,394] Trial 95 finished with value: 0.6640874684608916 and parameters: {'iterations': 132, 'depth': 5, 'learning_rate': 0.13234626698793883, 'random_strength': 16, 'bagging_temperature': 0.9437935753225141, 'od_type': 'IncToDec', 'grow_policy': 'Depthwise'}. Best is trial 27 with value: 0.6761032472939217.\n"
     ]
    },
    {
     "name": "stdout",
     "output_type": "stream",
     "text": [
      "0:\tlearn: 0.5394699\ttest: 0.5375265\tbest: 0.5375265 (0)\ttotal: 89.6ms\tremaining: 20.8s\n",
      "150:\tlearn: 0.7768855\ttest: 0.6696909\tbest: 0.6730479 (119)\ttotal: 9.87s\tremaining: 5.36s\n",
      "232:\tlearn: 0.8309456\ttest: 0.6692346\tbest: 0.6732673 (186)\ttotal: 14.9s\tremaining: 0us\n",
      "\n",
      "bestTest = 0.6732673267\n",
      "bestIteration = 186\n",
      "\n",
      "Shrink model to first 187 iterations.\n"
     ]
    },
    {
     "name": "stderr",
     "output_type": "stream",
     "text": [
      "[I 2023-11-12 05:27:21,022] Trial 96 finished with value: 0.6732673267326732 and parameters: {'iterations': 233, 'depth': 6, 'learning_rate': 0.14667380419033296, 'random_strength': 2, 'bagging_temperature': 0.9743194681074048, 'od_type': 'IncToDec', 'grow_policy': 'Depthwise'}. Best is trial 27 with value: 0.6761032472939217.\n"
     ]
    },
    {
     "name": "stdout",
     "output_type": "stream",
     "text": [
      "0:\tlearn: 0.3287006\ttest: 0.3443563\tbest: 0.3443563 (0)\ttotal: 165ms\tremaining: 34.4s\n",
      "150:\tlearn: 0.8655197\ttest: 0.6677892\tbest: 0.6747352 (113)\ttotal: 19.5s\tremaining: 7.5s\n",
      "208:\tlearn: 0.9277848\ttest: 0.6671134\tbest: 0.6747352 (113)\ttotal: 28.7s\tremaining: 0us\n",
      "\n",
      "bestTest = 0.6747352496\n",
      "bestIteration = 113\n",
      "\n",
      "Shrink model to first 114 iterations.\n"
     ]
    },
    {
     "name": "stderr",
     "output_type": "stream",
     "text": [
      "[I 2023-11-12 05:27:51,522] Trial 97 finished with value: 0.6747352496217851 and parameters: {'iterations': 209, 'depth': 9, 'learning_rate': 0.13988703960284293, 'random_strength': 7, 'bagging_temperature': 0.931171877607417, 'od_type': 'IncToDec', 'grow_policy': 'Depthwise'}. Best is trial 27 with value: 0.6761032472939217.\n"
     ]
    },
    {
     "name": "stdout",
     "output_type": "stream",
     "text": [
      "0:\tlearn: 0.3012312\ttest: 0.3123704\tbest: 0.3123704 (0)\ttotal: 162ms\tremaining: 22.3s\n",
      "138:\tlearn: 0.8328969\ttest: 0.6683434\tbest: 0.6701255 (100)\ttotal: 18.9s\tremaining: 0us\n",
      "\n",
      "bestTest = 0.670125523\n",
      "bestIteration = 100\n",
      "\n",
      "Shrink model to first 101 iterations.\n"
     ]
    },
    {
     "name": "stderr",
     "output_type": "stream",
     "text": [
      "[I 2023-11-12 05:28:12,294] Trial 98 finished with value: 0.6701255230125523 and parameters: {'iterations': 139, 'depth': 9, 'learning_rate': 0.1398394017826181, 'random_strength': 8, 'bagging_temperature': 0.9244377628815046, 'od_type': 'IncToDec', 'grow_policy': 'Depthwise'}. Best is trial 27 with value: 0.6761032472939217.\n"
     ]
    },
    {
     "name": "stdout",
     "output_type": "stream",
     "text": [
      "0:\tlearn: 0.2797647\ttest: 0.2930749\tbest: 0.2930749 (0)\ttotal: 165ms\tremaining: 27.5s\n",
      "150:\tlearn: 0.8265967\ttest: 0.6672258\tbest: 0.6702395 (146)\ttotal: 20.8s\tremaining: 2.2s\n",
      "166:\tlearn: 0.8537878\ttest: 0.6671125\tbest: 0.6702395 (146)\ttotal: 23.4s\tremaining: 0us\n",
      "\n",
      "bestTest = 0.6702394909\n",
      "bestIteration = 146\n",
      "\n",
      "Shrink model to first 147 iterations.\n"
     ]
    },
    {
     "name": "stderr",
     "output_type": "stream",
     "text": [
      "[I 2023-11-12 05:28:37,620] Trial 99 finished with value: 0.6702394908725506 and parameters: {'iterations': 167, 'depth': 9, 'learning_rate': 0.12869587266109883, 'random_strength': 11, 'bagging_temperature': 0.9766346407415565, 'od_type': 'IncToDec', 'grow_policy': 'Depthwise'}. Best is trial 27 with value: 0.6761032472939217.\n"
     ]
    },
    {
     "name": "stdout",
     "output_type": "stream",
     "text": [
      "Лучшие параметры:  {'iterations': 468, 'depth': 9, 'learning_rate': 0.20899008582405879, 'random_strength': 9, 'bagging_temperature': 0.9212431602262982, 'od_type': 'Iter', 'grow_policy': 'Depthwise'}\n"
     ]
    }
   ],
   "source": [
    "study = optuna.create_study(direction='maximize')\n",
    "study.optimize(opt_train, n_trials=100) # Можно изменить количество итераций\n",
    "\n",
    "print(\"Лучшие параметры: \", study.best_params)"
   ],
   "metadata": {
    "collapsed": false,
    "ExecuteTime": {
     "end_time": "2023-11-12T02:28:37.630927096Z",
     "start_time": "2023-11-12T01:44:12.303035742Z"
    }
   }
  }
 ],
 "metadata": {
  "kernelspec": {
   "display_name": "Python 3",
   "language": "python",
   "name": "python3"
  },
  "language_info": {
   "codemirror_mode": {
    "name": "ipython",
    "version": 2
   },
   "file_extension": ".py",
   "mimetype": "text/x-python",
   "name": "python",
   "nbconvert_exporter": "python",
   "pygments_lexer": "ipython2",
   "version": "2.7.6"
  }
 },
 "nbformat": 4,
 "nbformat_minor": 0
}
