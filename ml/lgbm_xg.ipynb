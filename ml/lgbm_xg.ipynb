{
 "cells": [
  {
   "cell_type": "code",
   "execution_count": 162,
   "metadata": {
    "collapsed": true,
    "ExecuteTime": {
     "end_time": "2023-11-12T06:17:03.648291481Z",
     "start_time": "2023-11-12T06:17:03.643451106Z"
    }
   },
   "outputs": [],
   "source": [
    "import numpy as np\n",
    "import pandas as pd\n",
    "from catboost import CatBoostClassifier\n",
    "from sklearn.metrics import accuracy_score\n",
    "from sklearn.model_selection import KFold, StratifiedKFold, train_test_split\n",
    "import seaborn as sns\n",
    "from datetime import datetime\n",
    "import random\n",
    "import os\n",
    "import optuna"
   ]
  },
  {
   "cell_type": "code",
   "execution_count": 163,
   "outputs": [],
   "source": [
    "def set_all_seeds(seed):\n",
    "    random.seed(seed)\n",
    "    os.environ['PYTHONHASHSEED'] = str(seed)\n",
    "    np.random.seed(seed)\n",
    "\n",
    "DEFAULT_RANDOM_SEED = 84\n",
    "set_all_seeds(seed=DEFAULT_RANDOM_SEED)"
   ],
   "metadata": {
    "collapsed": false,
    "ExecuteTime": {
     "end_time": "2023-11-12T06:17:04.648402348Z",
     "start_time": "2023-11-12T06:17:04.642752229Z"
    }
   }
  },
  {
   "cell_type": "code",
   "execution_count": 164,
   "outputs": [],
   "source": [
    "path_big_train = '../train/data/train.csv'\n",
    "path_big_test = '../train/data/test.csv'\n",
    "df_train = pd.read_csv(path_big_train)\n",
    "df_test = pd.read_csv(path_big_test)"
   ],
   "metadata": {
    "collapsed": false,
    "ExecuteTime": {
     "end_time": "2023-11-12T06:17:10.037721264Z",
     "start_time": "2023-11-12T06:17:05.219611704Z"
    }
   }
  },
  {
   "cell_type": "code",
   "execution_count": null,
   "outputs": [],
   "source": [
    "# Обрабатываем датасет\n",
    "\n",
    "import re\n",
    "\n",
    "targets = ['target_month', 'target_day']\n",
    "numerical = list(filter(lambda x: re.match(r'\\d+[dm]_', x), df_train.columns))\n",
    "categorical = ['kod_vrab', 'model',  'zavod_build', 'kuzov', 'telega', 'expected_srok_sl_y_b', 'date_build_b', 'manage_type', 'rod_id_x', 'reestr_state',\n",
    "                'tormoz', 'tipvozd', 'tippogl', 'ownertype', 'is_in_kti', 'season']\n",
    "dates = ['month', 'date_kap', 'date_dep', 'date_pl_rem', 'last_rem_date', 'date_build', 'srok_sl']\n",
    "\n",
    "numerical += [\n",
    "    \"days_to_pl_rem\",\n",
    "    \"days_from_last_rem\",\n",
    "    \"ost_prob\",\n",
    "    \"gruz\",\n",
    "    \"cnsi_gruz_capacity\",\n",
    "    \"cnsi_volumek\",\n",
    "    \"tara\",\n",
    "    \"cnsi_probeg_dr\",\n",
    "    \"cnsi_probeg_kr\",\n",
    "    \"norma_km\",\n",
    "    \"expected_srok_sl_y\"\n",
    "]\n",
    "\n",
    "numerical += ['kod_vrab_2_tr',\n",
    "              'kod_vrab_3_tr', 'kod_vrab_5_tr', 'neis1_kod_tr_max',\n",
    "              'neis2_kod_tr_max', 'neis3_kod_tr_max', 'gr_probeg_tr_max',\n",
    "              'gr_probeg_tr_mean', 'gr_probeg_tr_min', 'por_probeg_tr_max',\n",
    "              'por_probeg_tr_mean', 'por_probeg_tr_min', '_1m_tr_rems',\n",
    "              'kod_vrab_0_pr', 'kod_vrab_1_pr', 'diff_road_pr', 'diff_st_pr',\n",
    "              '_10d_pr_rems', '_20d_pr_rems', '_1m_pr_rems', '_allm_pr_rems',\n",
    "              '_allm_tr_rems', 'last_month_for_cnt', 'months_after_tr_rems',\n",
    "              'months_after_pr_rems']\n",
    "numerical += ['ost_prob_in_a_month',\n",
    "              'ost_prob_in_3_months',\n",
    "              'ost_prob_in_10_days',\n",
    "              'days_to_srok_sl',\n",
    "              'days_to_iskl',\n",
    "              'days_since_kap',\n",
    "              'days_since_dep']\n",
    "\n",
    "\n",
    "notna_features = ['date_kap', 'date_dep', 'date_iskl']\n",
    "notna_features_res = [feature + '_notna' for feature in notna_features]\n",
    "categorical += notna_features_res\n",
    "\n",
    "print('Unused columns:')\n",
    "for col in df_train.columns:\n",
    "    if col not in targets and col not in numerical and col not in categorical and col not in dates:\n",
    "        print(col)\n",
    "\n",
    "features = numerical + categorical + targets\n",
    "train_features = numerical + categorical\n",
    "\n",
    "medians = df_train[numerical].median()\n",
    "\n",
    "def preprcoess_df(df, test=False):\n",
    "    for date in dates:\n",
    "        df[date] = pd.to_datetime(df[date])\n",
    "    df = df[df['month'] >= '2022-09-01']\n",
    "\n",
    "    for col in notna_features:\n",
    "        df[col + '_notna'] = df[col].notna().astype(int)\n",
    "\n",
    "    features = numerical + categorical + targets\n",
    "    if test:\n",
    "        features = train_features\n",
    "    df = df[features]\n",
    "\n",
    "    df[categorical] = df[categorical].astype('str')\n",
    "    df[numerical] = df[numerical].fillna(medians)\n",
    "\n",
    "    return df\n",
    "\n",
    "df_train = preprcoess_df(df_train)\n",
    "df_test = preprcoess_df(df_test, test=True)"
   ],
   "metadata": {
    "collapsed": false
   }
  },
  {
   "cell_type": "code",
   "execution_count": null,
   "outputs": [],
   "source": [
    "df_train.shape, df_test.shape"
   ],
   "metadata": {
    "collapsed": false
   }
  },
  {
   "cell_type": "code",
   "execution_count": 174,
   "outputs": [],
   "source": [
    "# Тренируем XGBoost и LightGBM\n",
    "\n",
    "from sklearn.metrics import f1_score\n",
    "from sklearn.model_selection import KFold, StratifiedKFold\n",
    "from xgboost import XGBClassifier\n",
    "from sklearn.preprocessing import LabelEncoder\n",
    "from lightgbm import LGBMClassifier\n",
    "\n",
    "def train(target, model_name, features, cat_features):\n",
    "    cnt_folds = 5\n",
    "    clfs = []\n",
    "    scores = []\n",
    "    kf = StratifiedKFold(n_splits=cnt_folds, shuffle=True, random_state=DEFAULT_RANDOM_SEED)\n",
    "\n",
    "    #features = numerical + categorical + [target]\n",
    "    features += cat_features + [target]\n",
    "    df = df_train[features]\n",
    "    #print(df.dtypes)\n",
    "\n",
    "    if model_name == 'lgbm':\n",
    "        for cat_feature in cat_features:\n",
    "            df[cat_feature] = df[cat_feature].astype('category')\n",
    "    else:\n",
    "        for cat_feature in cat_features:\n",
    "            le = LabelEncoder()\n",
    "            df[cat_feature] = le.fit_transform(df[cat_feature])\n",
    "\n",
    "    X = df.drop(target, axis=1)\n",
    "    y = df[target]\n",
    "    print(df)\n",
    "    for ind, (train_index, test_index) in enumerate(kf.split(X=X, y=y)):\n",
    "\n",
    "        X_train, X_test = X.iloc[train_index], X.iloc[test_index]\n",
    "        y_train, y_test = y.iloc[train_index], y.iloc[test_index]\n",
    "\n",
    "        if model_name == 'lgbm':\n",
    "            clf = LGBMClassifier(random_state=DEFAULT_RANDOM_SEED)\n",
    "\n",
    "            clf.fit(X_train, y_train,\n",
    "                    eval_set=[(X_test, y_test)])\n",
    "        else:\n",
    "            clf = XGBClassifier(eval_metric='logloss', use_label_encoder=False, random_state=DEFAULT_RANDOM_SEED)\n",
    "\n",
    "            clf.fit(X_train, y_train,\n",
    "                    eval_set=[(X_test, y_test)],\n",
    "                    verbose=150)\n",
    "\n",
    "        clfs.append(clf)\n",
    "        y_pred = clf.predict(X_test)\n",
    "        score = f1_score(y_test, y_pred)\n",
    "        scores.append(score)\n",
    "        print(f'{ind} model: {score} f1')\n",
    "\n",
    "    assert len(clfs) == cnt_folds\n",
    "\n",
    "    print(\"mean f1 score --\", np.mean(scores, dtype=\"float16\"), np.std(scores).round(4))\n",
    "\n",
    "    return clfs, np.mean(scores, dtype=\"float16\"), np.std(scores).round(4)"
   ],
   "metadata": {
    "collapsed": false,
    "ExecuteTime": {
     "end_time": "2023-11-12T06:46:00.202952482Z",
     "start_time": "2023-11-12T06:46:00.202506695Z"
    }
   }
  },
  {
   "cell_type": "code",
   "execution_count": null,
   "outputs": [],
   "source": [
    "month_clfs_lgbm, month_f1_lgbm, month_std_lgbm = train('target_month', 'lgbm', months_features, cat_months_features)\n",
    "day_clfs_lgbm, day_f1_lgbm, day_std_lgbm = train('target_day', 'lgbm', days_features, cat_days_features)\n",
    "month_clfs_xg, month_f1_xg, month_std_xg = train('target_month', 'xg', months_features, cat_months_features)\n",
    "day_clfs_xg, day_f1_xg, day_std_xg = train('target_day', 'xg', days_features, cat_days_features)"
   ],
   "metadata": {
    "collapsed": false
   }
  },
  {
   "cell_type": "code",
   "execution_count": null,
   "outputs": [],
   "source": [
    "print(month_f1_lgbm, month_std_lgbm)\n",
    "print(day_f1_lgbm, day_std_lgbm)\n",
    "print(month_f1_xg, month_std_xg)\n",
    "print(day_f1_xg, day_std_xg)"
   ],
   "metadata": {
    "collapsed": false
   }
  },
  {
   "cell_type": "code",
   "execution_count": null,
   "outputs": [],
   "source": [
    "(month_f1_lgbm + day_f1_lgbm + month_f1_xg + day_f1_xg) / 4"
   ],
   "metadata": {
    "collapsed": false
   }
  },
  {
   "cell_type": "code",
   "execution_count": 102,
   "outputs": [],
   "source": [
    "# Предсказываем на скрещенных моделях\n",
    "\n",
    "def predict(clfs, df, name_model):\n",
    "    features = numerical + categorical\n",
    "    X = df[features]\n",
    "\n",
    "    if name_model == 'lgbm':\n",
    "        for cat_feature in categorical:\n",
    "            X[cat_feature] = X[cat_feature].astype('category')\n",
    "    else:\n",
    "        for cat_feature in categorical:\n",
    "            le = LabelEncoder()\n",
    "            X[cat_feature] = le.fit_transform(X[cat_feature])\n",
    "\n",
    "    y_pred = np.zeros((X.shape[0], 2))\n",
    "    for clf in clfs:\n",
    "        y_pred += clf.predict_proba(X)\n",
    "    y_pred /= len(clfs)\n",
    "\n",
    "    return y_pred"
   ],
   "metadata": {
    "collapsed": false,
    "ExecuteTime": {
     "end_time": "2023-11-12T05:47:23.857625811Z",
     "start_time": "2023-11-12T05:47:23.849132343Z"
    }
   }
  },
  {
   "cell_type": "code",
   "execution_count": null,
   "outputs": [],
   "source": [
    "def make_predictions(clfs_day1, clfs_day2, clfs_month1, clfs_month2, df):\n",
    "    pred_day1 = predict(clfs_day1, df, 'lgbm')\n",
    "    pred_month1 = predict(clfs_month1, df, 'lgbm')\n",
    "    pred_day2 = predict(clfs_day2, df, 'xg')\n",
    "    pred_month2 = predict(clfs_month2, df, 'xg')\n",
    "\n",
    "    pred_day = (pred_day1 + pred_day2) / 2\n",
    "    pred_month = (pred_month1 + pred_month2) / 2\n",
    "    pred_day = pred_day.argmax(axis=1)\n",
    "    pred_month = pred_month.argmax(axis=1)\n",
    "\n",
    "    df_test_new = df.copy()[['wagnum', 'month']]\n",
    "    df_test_new['target_day'] = pred_day\n",
    "    df_test_new['target_month'] = pred_month\n",
    "\n",
    "    df_test_new = df_test_new[['wagnum', 'target_month', 'target_day']]\n",
    "    sample = pd.read_csv('../train/target/y_predict.csv')\n",
    "    sample = sample.merge(df_test_new, on='wagnum', how='left')\n",
    "\n",
    "    return sample\n",
    "\n",
    "prediction = make_predictions(day_clfs_lgbm, day_clfs_xg, month_clfs_lgbm, month_clfs_xg, df_test)\n",
    "assert len(prediction) == len(df_test)\n",
    "\n",
    "prediction.describe()"
   ],
   "metadata": {
    "collapsed": false
   }
  },
  {
   "cell_type": "code",
   "execution_count": null,
   "outputs": [],
   "source": [
    "prediction = make_predictions(day_clfs_xg, month_clfs_lgbm, df_test)\n",
    "assert len(prediction) == len(df_test)\n",
    "\n",
    "prediction.describe()"
   ],
   "metadata": {
    "collapsed": false
   }
  },
  {
   "cell_type": "code",
   "execution_count": 104,
   "outputs": [],
   "source": [
    "prediction.to_csv('predictions/lgbm_xg_siam.csv', index=False)"
   ],
   "metadata": {
    "collapsed": false,
    "ExecuteTime": {
     "end_time": "2023-11-12T05:47:40.577235837Z",
     "start_time": "2023-11-12T05:47:40.518901419Z"
    }
   }
  }
 ],
 "metadata": {
  "kernelspec": {
   "display_name": "Python 3",
   "language": "python",
   "name": "python3"
  },
  "language_info": {
   "codemirror_mode": {
    "name": "ipython",
    "version": 2
   },
   "file_extension": ".py",
   "mimetype": "text/x-python",
   "name": "python",
   "nbconvert_exporter": "python",
   "pygments_lexer": "ipython2",
   "version": "2.7.6"
  }
 },
 "nbformat": 4,
 "nbformat_minor": 0
}
